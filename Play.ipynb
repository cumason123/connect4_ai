{
 "cells": [
  {
   "cell_type": "code",
   "execution_count": 15,
   "metadata": {},
   "outputs": [],
   "source": [
    "import sys\n",
    "sys.path.append('./src')\n",
    "sys.path.append('./src/Agents')\n",
    "from Environment.environment import Env\n",
    "from RandomAgents import RA\n",
    "from DeepQAgent import DQA\n",
    "from HumanAgent import HA\n",
    "# from DRON import DRON\n",
    "import numpy as np\n",
    "import os\n",
    "if 'connect4_ai' in os.listdir():\n",
    "    os.chdir('./connect4_ai')\n",
    "np.random.seed(5)\n",
    "env = Env()\n",
    "\n",
    "random_agent = RA(env, 2)\n",
    "deepq_agent1 = DQA(env, 1)\n",
    "deepq_agent2 = DQA(env, 2)\n",
    "human_agent = HA(env, 1)"
   ]
  },
  {
   "cell_type": "code",
   "execution_count": 16,
   "metadata": {},
   "outputs": [],
   "source": [
    "def agent_step(agent, state, train=False):\n",
    "    state, reward, done = agent.step(state, train=train)\n",
    "    if done:\n",
    "        if reward == 100:\n",
    "            print('{0} won'.format(agent))\n",
    "        elif reward == 0:\n",
    "            print('tie')\n",
    "    return state, done\n",
    " \n",
    "def compete(env, agent1, agent2, train=False):\n",
    "    assert(agent1.player == 1 and agent2.player == 2)\n",
    "    done1 = False\n",
    "    done2 = False\n",
    "    env.reset()\n",
    "    state = env.connect4\n",
    "    while (not done1) and (not done2):\n",
    "        state, done1 = agent_step(agent1, state, train=train)\n",
    "        if done1 and done2:\n",
    "            return\n",
    "        state, done = agent_step(agent2, state, train=train)"
   ]
  },
  {
   "cell_type": "code",
   "execution_count": 18,
   "metadata": {},
   "outputs": [
    {
     "name": "stderr",
     "output_type": "stream",
     "text": [
      "  0%|          | 3/100000 [00:00<7:41:37,  3.61it/s]"
     ]
    },
    {
     "name": "stdout",
     "output_type": "stream",
     "text": [
      "DQA player 2 won\n",
      "DQA player 2 won\n",
      "DQA player 2 won\n",
      "DQA player 2 won\n",
      "DQA player 1 won\n"
     ]
    },
    {
     "name": "stderr",
     "output_type": "stream",
     "text": [
      "  0%|          | 5/100000 [00:00<5:40:03,  4.90it/s]"
     ]
    },
    {
     "name": "stdout",
     "output_type": "stream",
     "text": [
      "DQA player 2 won\n",
      "DQA player 2 won\n",
      "DQA player 2 won\n",
      "DQA player 2 won\n",
      "DQA player 1 won\n"
     ]
    },
    {
     "name": "stderr",
     "output_type": "stream",
     "text": [
      "  0%|          | 9/100000 [00:01<3:50:06,  7.24it/s]"
     ]
    },
    {
     "name": "stdout",
     "output_type": "stream",
     "text": [
      "DQA player 2 won\n",
      "DQA player 2 won\n",
      "DQA player 1 won\n",
      "DQA player 2 won\n",
      "DQA player 2 won\n"
     ]
    },
    {
     "name": "stderr",
     "output_type": "stream",
     "text": [
      "  0%|          | 11/100000 [00:01<4:22:17,  6.35it/s]"
     ]
    },
    {
     "name": "stdout",
     "output_type": "stream",
     "text": [
      "DQA player 1 won\n",
      "DQA player 1 won\n"
     ]
    },
    {
     "name": "stderr",
     "output_type": "stream",
     "text": [
      "\r",
      "  0%|          | 12/100000 [00:01<4:23:28,  6.33it/s]"
     ]
    },
    {
     "name": "stdout",
     "output_type": "stream",
     "text": [
      "DQA player 1 won\n"
     ]
    },
    {
     "name": "stderr",
     "output_type": "stream",
     "text": [
      "\r",
      "  0%|          | 13/100000 [00:01<6:11:31,  4.49it/s]"
     ]
    },
    {
     "name": "stdout",
     "output_type": "stream",
     "text": [
      "DQA player 1 won\n"
     ]
    },
    {
     "name": "stderr",
     "output_type": "stream",
     "text": [
      "\r",
      "  0%|          | 14/100000 [00:02<7:28:37,  3.71it/s]"
     ]
    },
    {
     "name": "stdout",
     "output_type": "stream",
     "text": [
      "DQA player 2 won\n",
      "DQA player 2 won\n"
     ]
    },
    {
     "name": "stderr",
     "output_type": "stream",
     "text": [
      "\r",
      "  0%|          | 15/100000 [00:02<7:39:54,  3.62it/s]"
     ]
    },
    {
     "name": "stdout",
     "output_type": "stream",
     "text": [
      "DQA player 1 won\n"
     ]
    },
    {
     "name": "stderr",
     "output_type": "stream",
     "text": [
      "\r",
      "  0%|          | 16/100000 [00:02<7:54:56,  3.51it/s]"
     ]
    },
    {
     "name": "stdout",
     "output_type": "stream",
     "text": [
      "DQA player 1 won\n",
      "DQA player 2 won\n"
     ]
    },
    {
     "name": "stderr",
     "output_type": "stream",
     "text": [
      "  0%|          | 18/100000 [00:03<6:05:31,  4.56it/s]"
     ]
    },
    {
     "name": "stdout",
     "output_type": "stream",
     "text": [
      "DQA player 2 won\n",
      "DQA player 2 won\n",
      "DQA player 2 won\n"
     ]
    },
    {
     "name": "stderr",
     "output_type": "stream",
     "text": [
      "\r",
      "  0%|          | 19/100000 [00:03<5:10:29,  5.37it/s]"
     ]
    },
    {
     "name": "stdout",
     "output_type": "stream",
     "text": [
      "DQA player 1 won\n"
     ]
    },
    {
     "name": "stderr",
     "output_type": "stream",
     "text": [
      "\r",
      "  0%|          | 20/100000 [00:03<6:09:11,  4.51it/s]"
     ]
    },
    {
     "name": "stdout",
     "output_type": "stream",
     "text": [
      "DQA player 1 won\n"
     ]
    },
    {
     "name": "stderr",
     "output_type": "stream",
     "text": [
      "\r",
      "  0%|          | 21/100000 [00:03<6:04:11,  4.58it/s]"
     ]
    },
    {
     "name": "stdout",
     "output_type": "stream",
     "text": [
      "DQA player 2 won\n",
      "DQA player 2 won\n"
     ]
    },
    {
     "name": "stderr",
     "output_type": "stream",
     "text": [
      "\r",
      "  0%|          | 22/100000 [00:04<6:30:16,  4.27it/s]"
     ]
    },
    {
     "name": "stdout",
     "output_type": "stream",
     "text": [
      "DQA player 1 won\n",
      "DQA player 1 won\n"
     ]
    },
    {
     "name": "stderr",
     "output_type": "stream",
     "text": [
      "  0%|          | 26/100000 [00:04<4:51:55,  5.71it/s]"
     ]
    },
    {
     "name": "stdout",
     "output_type": "stream",
     "text": [
      "DQA player 1 won\n",
      "DQA player 1 won\n",
      "DQA player 2 won\n",
      "DQA player 2 won\n",
      "DQA player 1 won\n",
      "DQA player 1 won\n"
     ]
    },
    {
     "name": "stderr",
     "output_type": "stream",
     "text": [
      "\r",
      "  0%|          | 29/100000 [00:04<3:53:41,  7.13it/s]"
     ]
    },
    {
     "name": "stdout",
     "output_type": "stream",
     "text": [
      "DQA player 1 won\n",
      "DQA player 1 won\n"
     ]
    },
    {
     "name": "stderr",
     "output_type": "stream",
     "text": [
      "  0%|          | 32/100000 [00:05<3:55:39,  7.07it/s]"
     ]
    },
    {
     "name": "stdout",
     "output_type": "stream",
     "text": [
      "DQA player 2 won\n",
      "DQA player 2 won\n",
      "DQA player 1 won\n",
      "DQA player 2 won\n"
     ]
    },
    {
     "name": "stderr",
     "output_type": "stream",
     "text": [
      "\r",
      "  0%|          | 34/100000 [00:05<3:27:45,  8.02it/s]"
     ]
    },
    {
     "name": "stdout",
     "output_type": "stream",
     "text": [
      "DQA player 2 won\n",
      "DQA player 1 won\n",
      "DQA player 1 won\n",
      "DQA player 2 won\n"
     ]
    },
    {
     "name": "stderr",
     "output_type": "stream",
     "text": [
      "  0%|          | 38/100000 [00:05<2:38:27, 10.51it/s]"
     ]
    },
    {
     "name": "stdout",
     "output_type": "stream",
     "text": [
      "DQA player 2 won\n",
      "DQA player 1 won\n",
      "DQA player 2 won\n",
      "DQA player 2 won\n",
      "DQA player 1 won\n"
     ]
    },
    {
     "name": "stderr",
     "output_type": "stream",
     "text": [
      "  0%|          | 42/100000 [00:06<2:07:14, 13.09it/s]"
     ]
    },
    {
     "name": "stdout",
     "output_type": "stream",
     "text": [
      "DQA player 2 won\n",
      "DQA player 2 won\n",
      "DQA player 1 won\n",
      "DQA player 1 won\n",
      "DQA player 1 won\n"
     ]
    },
    {
     "name": "stderr",
     "output_type": "stream",
     "text": [
      "\r",
      "  0%|          | 45/100000 [00:06<1:57:23, 14.19it/s]"
     ]
    },
    {
     "name": "stdout",
     "output_type": "stream",
     "text": [
      "DQA player 1 won\n",
      "DQA player 2 won\n",
      "DQA player 2 won\n",
      "DQA player 1 won\n"
     ]
    },
    {
     "name": "stderr",
     "output_type": "stream",
     "text": [
      "  0%|          | 50/100000 [00:06<1:49:37, 15.19it/s]"
     ]
    },
    {
     "name": "stdout",
     "output_type": "stream",
     "text": [
      "DQA player 2 won\n",
      "DQA player 2 won\n",
      "DQA player 1 won\n",
      "DQA player 2 won\n",
      "DQA player 2 won\n",
      "DQA player 2 won\n",
      "DQA player 2 won\n",
      "DQA player 1 won\n",
      "DQA player 2 won\n",
      "DQA player 2 won\n"
     ]
    },
    {
     "name": "stderr",
     "output_type": "stream",
     "text": [
      "\r",
      "  0%|          | 53/100000 [00:06<1:36:32, 17.25it/s]"
     ]
    },
    {
     "name": "stdout",
     "output_type": "stream",
     "text": [
      "DQA player 2 won\n",
      "DQA player 2 won\n",
      "DQA player 2 won\n",
      "DQA player 2 won\n",
      "DQA player 1 won\n"
     ]
    },
    {
     "name": "stderr",
     "output_type": "stream",
     "text": [
      "  0%|          | 59/100000 [00:06<1:36:50, 17.20it/s]"
     ]
    },
    {
     "name": "stdout",
     "output_type": "stream",
     "text": [
      "DQA player 1 won\n",
      "DQA player 1 won\n",
      "DQA player 1 won\n",
      "DQA player 1 won\n",
      "DQA player 2 won\n",
      "DQA player 2 won\n",
      "DQA player 2 won\n"
     ]
    },
    {
     "name": "stderr",
     "output_type": "stream",
     "text": [
      "\r",
      "  0%|          | 62/100000 [00:07<1:30:48, 18.34it/s]"
     ]
    },
    {
     "name": "stdout",
     "output_type": "stream",
     "text": [
      "DQA player 2 won\n",
      "DQA player 2 won\n",
      "DQA player 2 won\n",
      "DQA player 2 won\n",
      "DQA player 2 won\n",
      "DQA player 1 won\n"
     ]
    },
    {
     "name": "stderr",
     "output_type": "stream",
     "text": [
      "\r",
      "  0%|          | 65/100000 [00:07<1:53:54, 14.62it/s]"
     ]
    },
    {
     "name": "stdout",
     "output_type": "stream",
     "text": [
      "DQA player 1 won\n",
      "DQA player 1 won\n"
     ]
    },
    {
     "name": "stderr",
     "output_type": "stream",
     "text": [
      "  0%|          | 69/100000 [00:07<2:15:09, 12.32it/s]"
     ]
    },
    {
     "name": "stdout",
     "output_type": "stream",
     "text": [
      "DQA player 1 won\n",
      "DQA player 2 won\n",
      "DQA player 2 won\n",
      "DQA player 1 won\n",
      "DQA player 1 won\n",
      "DQA player 1 won\n"
     ]
    },
    {
     "name": "stderr",
     "output_type": "stream",
     "text": [
      "  0%|          | 74/100000 [00:08<1:46:45, 15.60it/s]"
     ]
    },
    {
     "name": "stdout",
     "output_type": "stream",
     "text": [
      "DQA player 1 won\n",
      "DQA player 1 won\n",
      "DQA player 1 won\n",
      "DQA player 1 won\n",
      "DQA player 1 won\n"
     ]
    },
    {
     "name": "stderr",
     "output_type": "stream",
     "text": [
      "  0%|          | 80/100000 [00:08<1:25:55, 19.38it/s]"
     ]
    },
    {
     "name": "stdout",
     "output_type": "stream",
     "text": [
      "DQA player 1 won\n",
      "DQA player 1 won\n",
      "DQA player 1 won\n",
      "DQA player 1 won\n",
      "DQA player 1 won\n"
     ]
    },
    {
     "name": "stderr",
     "output_type": "stream",
     "text": [
      "\r",
      "  0%|          | 83/100000 [00:08<2:12:06, 12.60it/s]"
     ]
    },
    {
     "name": "stdout",
     "output_type": "stream",
     "text": [
      "DQA player 1 won\n",
      "DQA player 2 won\n",
      "DQA player 2 won\n",
      "DQA player 2 won\n",
      "DQA player 2 won\n"
     ]
    },
    {
     "name": "stderr",
     "output_type": "stream",
     "text": [
      "  0%|          | 87/100000 [00:08<1:59:44, 13.91it/s]"
     ]
    },
    {
     "name": "stdout",
     "output_type": "stream",
     "text": [
      "DQA player 2 won\n",
      "DQA player 2 won\n",
      "DQA player 2 won\n",
      "DQA player 2 won\n",
      "DQA player 1 won\n",
      "DQA player 2 won\n",
      "DQA player 2 won\n"
     ]
    },
    {
     "name": "stderr",
     "output_type": "stream",
     "text": [
      "  0%|          | 92/100000 [00:09<1:40:58, 16.49it/s]"
     ]
    },
    {
     "name": "stdout",
     "output_type": "stream",
     "text": [
      "DQA player 2 won\n",
      "DQA player 2 won\n",
      "DQA player 1 won\n",
      "DQA player 2 won\n",
      "DQA player 2 won\n",
      "DQA player 1 won\n",
      "DQA player 1 won\n"
     ]
    },
    {
     "name": "stderr",
     "output_type": "stream",
     "text": [
      "  0%|          | 98/100000 [00:09<1:23:59, 19.82it/s]"
     ]
    },
    {
     "name": "stdout",
     "output_type": "stream",
     "text": [
      "DQA player 1 won\n",
      "DQA player 1 won\n",
      "DQA player 1 won\n",
      "DQA player 1 won\n",
      "DQA player 2 won\n",
      "DQA player 2 won\n",
      "DQA player 1 won\n"
     ]
    },
    {
     "name": "stderr",
     "output_type": "stream",
     "text": [
      "  0%|          | 104/100000 [00:09<1:15:14, 22.13it/s]"
     ]
    },
    {
     "name": "stdout",
     "output_type": "stream",
     "text": [
      "DQA player 1 won\n",
      "DQA player 1 won\n",
      "DQA player 2 won\n",
      "DQA player 2 won\n",
      "DQA player 1 won\n",
      "DQA player 1 won\n",
      "DQA player 2 won\n",
      "DQA player 2 won\n"
     ]
    },
    {
     "name": "stderr",
     "output_type": "stream",
     "text": [
      "\r",
      "  0%|          | 107/100000 [00:09<1:13:32, 22.64it/s]"
     ]
    },
    {
     "name": "stdout",
     "output_type": "stream",
     "text": [
      "DQA player 1 won\n",
      "DQA player 1 won\n",
      "DQA player 2 won\n",
      "DQA player 2 won\n"
     ]
    },
    {
     "name": "stderr",
     "output_type": "stream",
     "text": [
      "\r",
      "  0%|          | 110/100000 [00:10<1:38:34, 16.89it/s]"
     ]
    },
    {
     "name": "stdout",
     "output_type": "stream",
     "text": [
      "DQA player 1 won\n",
      "DQA player 1 won\n",
      "DQA player 2 won\n",
      "DQA player 2 won\n",
      "DQA player 2 won\n"
     ]
    },
    {
     "name": "stderr",
     "output_type": "stream",
     "text": [
      "\r",
      "  0%|          | 112/100000 [00:10<3:20:08,  8.32it/s]"
     ]
    },
    {
     "name": "stdout",
     "output_type": "stream",
     "text": [
      "DQA player 2 won\n",
      "DQA player 2 won\n",
      "DQA player 2 won\n"
     ]
    },
    {
     "name": "stderr",
     "output_type": "stream",
     "text": [
      "  0%|          | 117/100000 [00:11<2:41:17, 10.32it/s]"
     ]
    },
    {
     "name": "stdout",
     "output_type": "stream",
     "text": [
      "DQA player 1 won\n",
      "DQA player 1 won\n",
      "DQA player 1 won\n",
      "DQA player 1 won\n",
      "DQA player 1 won\n",
      "DQA player 2 won\n",
      "DQA player 2 won\n"
     ]
    },
    {
     "name": "stderr",
     "output_type": "stream",
     "text": [
      "\r",
      "  0%|          | 120/100000 [00:11<2:13:39, 12.46it/s]"
     ]
    },
    {
     "name": "stdout",
     "output_type": "stream",
     "text": [
      "DQA player 1 won\n",
      "DQA player 1 won\n"
     ]
    },
    {
     "name": "stderr",
     "output_type": "stream",
     "text": [
      "\r",
      "  0%|          | 122/100000 [00:11<2:53:25,  9.60it/s]"
     ]
    },
    {
     "name": "stdout",
     "output_type": "stream",
     "text": [
      "DQA player 1 won\n",
      "DQA player 1 won\n",
      "DQA player 1 won\n"
     ]
    },
    {
     "name": "stderr",
     "output_type": "stream",
     "text": [
      "  0%|          | 128/100000 [00:12<2:29:37, 11.12it/s]"
     ]
    },
    {
     "name": "stdout",
     "output_type": "stream",
     "text": [
      "DQA player 1 won\n",
      "DQA player 1 won\n",
      "DQA player 1 won\n",
      "DQA player 2 won\n",
      "DQA player 2 won\n",
      "DQA player 1 won\n"
     ]
    },
    {
     "name": "stderr",
     "output_type": "stream",
     "text": [
      "\r",
      "  0%|          | 130/100000 [00:12<2:27:20, 11.30it/s]"
     ]
    },
    {
     "name": "stdout",
     "output_type": "stream",
     "text": [
      "DQA player 1 won\n",
      "DQA player 1 won\n"
     ]
    },
    {
     "name": "stderr",
     "output_type": "stream",
     "text": [
      "  0%|          | 134/100000 [00:12<2:15:27, 12.29it/s]"
     ]
    },
    {
     "name": "stdout",
     "output_type": "stream",
     "text": [
      "DQA player 1 won\n",
      "DQA player 2 won\n",
      "DQA player 2 won\n",
      "DQA player 2 won\n",
      "DQA player 2 won\n",
      "DQA player 2 won\n",
      "DQA player 2 won\n"
     ]
    },
    {
     "name": "stderr",
     "output_type": "stream",
     "text": [
      "  0%|          | 138/100000 [00:12<2:16:16, 12.21it/s]"
     ]
    },
    {
     "name": "stdout",
     "output_type": "stream",
     "text": [
      "DQA player 2 won\n",
      "DQA player 2 won\n",
      "DQA player 2 won\n",
      "DQA player 2 won\n",
      "DQA player 2 won\n",
      "DQA player 2 won\n"
     ]
    },
    {
     "name": "stderr",
     "output_type": "stream",
     "text": [
      "\r",
      "  0%|          | 140/100000 [00:13<2:31:46, 10.97it/s]"
     ]
    },
    {
     "name": "stdout",
     "output_type": "stream",
     "text": [
      "DQA player 2 won\n",
      "DQA player 2 won\n",
      "DQA player 2 won\n",
      "DQA player 2 won\n",
      "DQA player 1 won\n"
     ]
    },
    {
     "name": "stderr",
     "output_type": "stream",
     "text": [
      "\r",
      "  0%|          | 142/100000 [00:13<3:04:30,  9.02it/s]"
     ]
    },
    {
     "name": "stdout",
     "output_type": "stream",
     "text": [
      "DQA player 1 won\n"
     ]
    },
    {
     "name": "stderr",
     "output_type": "stream",
     "text": [
      "\r",
      "  0%|          | 144/100000 [00:13<3:45:53,  7.37it/s]"
     ]
    },
    {
     "name": "stdout",
     "output_type": "stream",
     "text": [
      "DQA player 1 won\n",
      "DQA player 2 won\n",
      "DQA player 2 won\n",
      "DQA player 2 won\n",
      "DQA player 2 won\n"
     ]
    },
    {
     "name": "stderr",
     "output_type": "stream",
     "text": [
      "  0%|          | 147/100000 [00:14<3:39:31,  7.58it/s]"
     ]
    },
    {
     "name": "stdout",
     "output_type": "stream",
     "text": [
      "DQA player 2 won\n",
      "DQA player 2 won\n",
      "DQA player 1 won\n"
     ]
    },
    {
     "name": "stderr",
     "output_type": "stream",
     "text": [
      "  0%|          | 149/100000 [00:14<4:12:51,  6.58it/s]"
     ]
    },
    {
     "name": "stdout",
     "output_type": "stream",
     "text": [
      "DQA player 1 won\n",
      "DQA player 1 won\n"
     ]
    },
    {
     "name": "stderr",
     "output_type": "stream",
     "text": [
      "  0%|          | 151/100000 [00:14<3:53:51,  7.12it/s]"
     ]
    },
    {
     "name": "stdout",
     "output_type": "stream",
     "text": [
      "DQA player 1 won\n",
      "DQA player 1 won\n"
     ]
    },
    {
     "name": "stderr",
     "output_type": "stream",
     "text": [
      "  0%|          | 153/100000 [00:14<3:44:26,  7.41it/s]"
     ]
    },
    {
     "name": "stdout",
     "output_type": "stream",
     "text": [
      "DQA player 1 won\n",
      "DQA player 1 won\n",
      "DQA player 1 won\n"
     ]
    },
    {
     "name": "stderr",
     "output_type": "stream",
     "text": [
      "  0%|          | 156/100000 [00:15<3:34:46,  7.75it/s]"
     ]
    },
    {
     "name": "stdout",
     "output_type": "stream",
     "text": [
      "DQA player 1 won\n",
      "DQA player 2 won\n",
      "DQA player 2 won\n"
     ]
    },
    {
     "name": "stderr",
     "output_type": "stream",
     "text": [
      "  0%|          | 160/100000 [00:15<2:37:43, 10.55it/s]"
     ]
    },
    {
     "name": "stdout",
     "output_type": "stream",
     "text": [
      "DQA player 1 won\n",
      "DQA player 1 won\n",
      "DQA player 1 won\n",
      "DQA player 2 won\n",
      "DQA player 2 won\n"
     ]
    },
    {
     "name": "stderr",
     "output_type": "stream",
     "text": [
      "  0%|          | 165/100000 [00:15<2:03:30, 13.47it/s]"
     ]
    },
    {
     "name": "stdout",
     "output_type": "stream",
     "text": [
      "DQA player 1 won\n",
      "DQA player 2 won\n",
      "DQA player 2 won\n",
      "DQA player 1 won\n",
      "DQA player 1 won\n",
      "DQA player 1 won\n"
     ]
    },
    {
     "name": "stderr",
     "output_type": "stream",
     "text": [
      "  0%|          | 170/100000 [00:16<1:40:14, 16.60it/s]"
     ]
    },
    {
     "name": "stdout",
     "output_type": "stream",
     "text": [
      "DQA player 1 won\n",
      "DQA player 1 won\n",
      "DQA player 1 won\n",
      "DQA player 1 won\n",
      "DQA player 1 won\n"
     ]
    },
    {
     "name": "stderr",
     "output_type": "stream",
     "text": [
      "\r",
      "  0%|          | 173/100000 [00:16<1:32:54, 17.91it/s]"
     ]
    },
    {
     "name": "stdout",
     "output_type": "stream",
     "text": [
      "DQA player 1 won\n",
      "DQA player 1 won\n",
      "DQA player 1 won\n",
      "DQA player 1 won\n",
      "DQA player 1 won\n"
     ]
    },
    {
     "name": "stderr",
     "output_type": "stream",
     "text": [
      "  0%|          | 179/100000 [00:16<1:29:26, 18.60it/s]"
     ]
    },
    {
     "name": "stdout",
     "output_type": "stream",
     "text": [
      "DQA player 1 won\n",
      "DQA player 1 won\n",
      "DQA player 1 won\n",
      "DQA player 1 won\n"
     ]
    },
    {
     "name": "stderr",
     "output_type": "stream",
     "text": [
      "\r",
      "  0%|          | 181/100000 [00:16<1:32:30, 17.98it/s]"
     ]
    },
    {
     "name": "stdout",
     "output_type": "stream",
     "text": [
      "DQA player 2 won\n",
      "DQA player 2 won\n",
      "DQA player 1 won\n",
      "DQA player 1 won\n",
      "DQA player 1 won\n",
      "DQA player 1 won\n"
     ]
    },
    {
     "name": "stderr",
     "output_type": "stream",
     "text": [
      "  0%|          | 188/100000 [00:16<1:35:21, 17.44it/s]"
     ]
    },
    {
     "name": "stdout",
     "output_type": "stream",
     "text": [
      "DQA player 1 won\n",
      "DQA player 2 won\n",
      "DQA player 2 won\n",
      "DQA player 1 won\n",
      "DQA player 1 won\n"
     ]
    },
    {
     "name": "stderr",
     "output_type": "stream",
     "text": [
      "\r",
      "  0%|          | 190/100000 [00:17<1:35:48, 17.36it/s]"
     ]
    },
    {
     "name": "stdout",
     "output_type": "stream",
     "text": [
      "DQA player 1 won\n",
      "DQA player 2 won\n",
      "DQA player 2 won\n",
      "DQA player 1 won\n"
     ]
    },
    {
     "name": "stderr",
     "output_type": "stream",
     "text": [
      "  0%|          | 194/100000 [00:17<1:54:20, 14.55it/s]"
     ]
    },
    {
     "name": "stdout",
     "output_type": "stream",
     "text": [
      "DQA player 1 won\n",
      "DQA player 1 won\n",
      "DQA player 1 won\n"
     ]
    },
    {
     "name": "stderr",
     "output_type": "stream",
     "text": [
      "\r",
      "  0%|          | 196/100000 [00:17<1:48:31, 15.33it/s]"
     ]
    },
    {
     "name": "stdout",
     "output_type": "stream",
     "text": [
      "DQA player 1 won\n",
      "DQA player 1 won\n",
      "DQA player 1 won\n",
      "DQA player 2 won\n"
     ]
    },
    {
     "name": "stderr",
     "output_type": "stream",
     "text": [
      "  0%|          | 201/100000 [00:18<2:35:05, 10.72it/s]"
     ]
    },
    {
     "name": "stdout",
     "output_type": "stream",
     "text": [
      "DQA player 2 won\n",
      "DQA player 1 won\n",
      "DQA player 1 won\n",
      "DQA player 1 won\n",
      "DQA player 1 won\n"
     ]
    },
    {
     "name": "stderr",
     "output_type": "stream",
     "text": [
      "  0%|          | 206/100000 [00:18<1:58:44, 14.01it/s]"
     ]
    },
    {
     "name": "stdout",
     "output_type": "stream",
     "text": [
      "DQA player 2 won\n",
      "DQA player 2 won\n",
      "DQA player 1 won\n",
      "DQA player 1 won\n",
      "DQA player 2 won\n",
      "DQA player 2 won\n"
     ]
    },
    {
     "name": "stderr",
     "output_type": "stream",
     "text": [
      "\r",
      "  0%|          | 208/100000 [00:18<1:57:00, 14.21it/s]"
     ]
    },
    {
     "name": "stdout",
     "output_type": "stream",
     "text": [
      "DQA player 1 won\n",
      "DQA player 1 won\n",
      "DQA player 2 won\n",
      "DQA player 2 won\n"
     ]
    },
    {
     "name": "stderr",
     "output_type": "stream",
     "text": [
      "\r",
      "  0%|          | 210/100000 [00:18<2:33:06, 10.86it/s]"
     ]
    },
    {
     "name": "stdout",
     "output_type": "stream",
     "text": [
      "DQA player 1 won\n"
     ]
    },
    {
     "name": "stderr",
     "output_type": "stream",
     "text": [
      "\r",
      "  0%|          | 212/100000 [00:19<3:13:06,  8.61it/s]"
     ]
    },
    {
     "name": "stdout",
     "output_type": "stream",
     "text": [
      "DQA player 1 won\n",
      "DQA player 1 won\n",
      "DQA player 1 won\n"
     ]
    },
    {
     "name": "stderr",
     "output_type": "stream",
     "text": [
      "\r",
      "  0%|          | 214/100000 [00:19<2:55:13,  9.49it/s]"
     ]
    },
    {
     "name": "stdout",
     "output_type": "stream",
     "text": [
      "DQA player 1 won\n",
      "DQA player 2 won\n",
      "DQA player 2 won\n",
      "DQA player 1 won\n"
     ]
    },
    {
     "name": "stderr",
     "output_type": "stream",
     "text": [
      "  0%|          | 218/100000 [00:19<2:52:03,  9.67it/s]"
     ]
    },
    {
     "name": "stdout",
     "output_type": "stream",
     "text": [
      "DQA player 2 won\n",
      "DQA player 2 won\n",
      "DQA player 2 won\n",
      "DQA player 2 won\n"
     ]
    },
    {
     "name": "stderr",
     "output_type": "stream",
     "text": [
      "\r",
      "  0%|          | 220/100000 [00:20<3:26:43,  8.04it/s]"
     ]
    },
    {
     "name": "stdout",
     "output_type": "stream",
     "text": [
      "DQA player 1 won\n",
      "DQA player 2 won\n",
      "DQA player 2 won\n"
     ]
    },
    {
     "name": "stderr",
     "output_type": "stream",
     "text": [
      "\r",
      "  0%|          | 223/100000 [00:20<2:46:50,  9.97it/s]"
     ]
    },
    {
     "name": "stdout",
     "output_type": "stream",
     "text": [
      "DQA player 1 won\n",
      "DQA player 1 won\n",
      "DQA player 1 won\n",
      "DQA player 1 won\n",
      "DQA player 1 won\n"
     ]
    },
    {
     "name": "stderr",
     "output_type": "stream",
     "text": [
      "\r",
      "  0%|          | 226/100000 [00:20<2:35:09, 10.72it/s]"
     ]
    },
    {
     "name": "stdout",
     "output_type": "stream",
     "text": [
      "DQA player 1 won\n"
     ]
    },
    {
     "name": "stderr",
     "output_type": "stream",
     "text": [
      "\r",
      "  0%|          | 228/100000 [00:20<3:22:57,  8.19it/s]"
     ]
    },
    {
     "name": "stdout",
     "output_type": "stream",
     "text": [
      "DQA player 1 won\n",
      "DQA player 1 won\n"
     ]
    },
    {
     "name": "stderr",
     "output_type": "stream",
     "text": [
      "\r",
      "  0%|          | 230/100000 [00:20<3:07:50,  8.85it/s]"
     ]
    },
    {
     "name": "stdout",
     "output_type": "stream",
     "text": [
      "DQA player 1 won\n",
      "DQA player 2 won\n",
      "DQA player 2 won\n",
      "DQA player 2 won\n",
      "DQA player 2 won\n"
     ]
    },
    {
     "name": "stderr",
     "output_type": "stream",
     "text": [
      "\r",
      "  0%|          | 232/100000 [00:21<3:04:07,  9.03it/s]"
     ]
    },
    {
     "name": "stdout",
     "output_type": "stream",
     "text": [
      "DQA player 1 won\n",
      "DQA player 2 won\n",
      "DQA player 2 won\n"
     ]
    },
    {
     "name": "stderr",
     "output_type": "stream",
     "text": [
      "  0%|          | 235/100000 [00:21<4:36:59,  6.00it/s]"
     ]
    },
    {
     "name": "stdout",
     "output_type": "stream",
     "text": [
      "DQA player 1 won\n",
      "DQA player 1 won\n"
     ]
    },
    {
     "name": "stderr",
     "output_type": "stream",
     "text": [
      "  0%|          | 237/100000 [00:22<4:42:43,  5.88it/s]"
     ]
    },
    {
     "name": "stdout",
     "output_type": "stream",
     "text": [
      "DQA player 2 won\n",
      "DQA player 2 won\n",
      "DQA player 2 won\n",
      "DQA player 2 won\n"
     ]
    },
    {
     "name": "stderr",
     "output_type": "stream",
     "text": [
      "\r",
      "  0%|          | 239/100000 [00:22<3:56:28,  7.03it/s]"
     ]
    },
    {
     "name": "stdout",
     "output_type": "stream",
     "text": [
      "DQA player 1 won\n",
      "DQA player 1 won\n",
      "DQA player 2 won\n",
      "DQA player 2 won\n"
     ]
    },
    {
     "name": "stderr",
     "output_type": "stream",
     "text": [
      "\r",
      "  0%|          | 241/100000 [00:22<3:25:31,  8.09it/s]"
     ]
    },
    {
     "name": "stdout",
     "output_type": "stream",
     "text": [
      "DQA player 1 won\n"
     ]
    },
    {
     "name": "stderr",
     "output_type": "stream",
     "text": [
      "  0%|          | 244/100000 [00:22<3:29:33,  7.93it/s]"
     ]
    },
    {
     "name": "stdout",
     "output_type": "stream",
     "text": [
      "DQA player 1 won\n",
      "DQA player 1 won\n",
      "DQA player 1 won\n"
     ]
    },
    {
     "name": "stderr",
     "output_type": "stream",
     "text": [
      "  0%|          | 246/100000 [00:23<4:17:35,  6.45it/s]"
     ]
    },
    {
     "name": "stdout",
     "output_type": "stream",
     "text": [
      "DQA player 2 won\n",
      "DQA player 2 won\n",
      "DQA player 2 won\n",
      "DQA player 2 won\n"
     ]
    },
    {
     "name": "stderr",
     "output_type": "stream",
     "text": [
      "  0%|          | 248/100000 [00:23<3:58:38,  6.97it/s]"
     ]
    },
    {
     "name": "stdout",
     "output_type": "stream",
     "text": [
      "DQA player 1 won\n",
      "DQA player 1 won\n"
     ]
    },
    {
     "name": "stderr",
     "output_type": "stream",
     "text": [
      "  0%|          | 250/100000 [00:23<3:44:54,  7.39it/s]"
     ]
    },
    {
     "name": "stdout",
     "output_type": "stream",
     "text": [
      "DQA player 2 won\n",
      "DQA player 2 won\n",
      "DQA player 1 won\n"
     ]
    },
    {
     "name": "stderr",
     "output_type": "stream",
     "text": [
      "  0%|          | 252/100000 [00:24<3:46:18,  7.35it/s]"
     ]
    },
    {
     "name": "stdout",
     "output_type": "stream",
     "text": [
      "DQA player 1 won\n",
      "DQA player 1 won\n"
     ]
    },
    {
     "name": "stderr",
     "output_type": "stream",
     "text": [
      "  0%|          | 254/100000 [00:24<4:05:28,  6.77it/s]"
     ]
    },
    {
     "name": "stdout",
     "output_type": "stream",
     "text": [
      "DQA player 1 won\n",
      "DQA player 1 won\n"
     ]
    },
    {
     "name": "stderr",
     "output_type": "stream",
     "text": [
      "\r",
      "  0%|          | 255/100000 [00:24<3:53:20,  7.12it/s]"
     ]
    },
    {
     "name": "stdout",
     "output_type": "stream",
     "text": [
      "DQA player 2 won\n",
      "DQA player 2 won\n",
      "DQA player 1 won\n"
     ]
    },
    {
     "name": "stderr",
     "output_type": "stream",
     "text": [
      "  0%|          | 258/100000 [00:24<3:45:30,  7.37it/s]"
     ]
    },
    {
     "name": "stdout",
     "output_type": "stream",
     "text": [
      "DQA player 1 won\n",
      "DQA player 1 won\n",
      "DQA player 1 won\n"
     ]
    },
    {
     "name": "stderr",
     "output_type": "stream",
     "text": [
      "\r",
      "  0%|          | 260/100000 [00:25<3:11:37,  8.67it/s]"
     ]
    },
    {
     "name": "stdout",
     "output_type": "stream",
     "text": [
      "DQA player 1 won\n"
     ]
    },
    {
     "name": "stderr",
     "output_type": "stream",
     "text": [
      "  0%|          | 262/100000 [00:25<4:26:42,  6.23it/s]"
     ]
    },
    {
     "name": "stdout",
     "output_type": "stream",
     "text": [
      "DQA player 1 won\n",
      "DQA player 1 won\n"
     ]
    },
    {
     "name": "stderr",
     "output_type": "stream",
     "text": [
      "\r",
      "  0%|          | 264/100000 [00:25<3:40:27,  7.54it/s]"
     ]
    },
    {
     "name": "stdout",
     "output_type": "stream",
     "text": [
      "DQA player 1 won\n",
      "DQA player 1 won\n",
      "DQA player 2 won\n",
      "DQA player 2 won\n"
     ]
    },
    {
     "name": "stderr",
     "output_type": "stream",
     "text": [
      "  0%|          | 267/100000 [00:25<3:16:23,  8.46it/s]"
     ]
    },
    {
     "name": "stdout",
     "output_type": "stream",
     "text": [
      "DQA player 1 won\n",
      "DQA player 2 won\n",
      "DQA player 2 won\n"
     ]
    },
    {
     "name": "stderr",
     "output_type": "stream",
     "text": [
      "  0%|          | 270/100000 [00:26<3:13:11,  8.60it/s]"
     ]
    },
    {
     "name": "stdout",
     "output_type": "stream",
     "text": [
      "DQA player 1 won\n",
      "DQA player 1 won\n",
      "DQA player 2 won\n",
      "DQA player 2 won\n"
     ]
    },
    {
     "name": "stderr",
     "output_type": "stream",
     "text": [
      "\r",
      "  0%|          | 271/100000 [00:26<3:23:06,  8.18it/s]"
     ]
    },
    {
     "name": "stdout",
     "output_type": "stream",
     "text": [
      "DQA player 2 won\n",
      "DQA player 2 won\n"
     ]
    },
    {
     "name": "stderr",
     "output_type": "stream",
     "text": [
      "\r",
      "  0%|          | 272/100000 [00:26<5:08:11,  5.39it/s]"
     ]
    },
    {
     "name": "stdout",
     "output_type": "stream",
     "text": [
      "DQA player 1 won\n"
     ]
    },
    {
     "name": "stderr",
     "output_type": "stream",
     "text": [
      "\r",
      "  0%|          | 273/100000 [00:27<6:28:11,  4.28it/s]"
     ]
    },
    {
     "name": "stdout",
     "output_type": "stream",
     "text": [
      "DQA player 1 won\n"
     ]
    },
    {
     "name": "stderr",
     "output_type": "stream",
     "text": [
      "  0%|          | 276/100000 [00:27<5:01:45,  5.51it/s]"
     ]
    },
    {
     "name": "stdout",
     "output_type": "stream",
     "text": [
      "DQA player 2 won\n",
      "DQA player 2 won\n",
      "DQA player 2 won\n",
      "DQA player 2 won\n",
      "DQA player 2 won\n",
      "DQA player 2 won\n",
      "DQA player 2 won\n",
      "DQA player 2 won\n"
     ]
    },
    {
     "name": "stderr",
     "output_type": "stream",
     "text": [
      "  0%|          | 280/100000 [00:27<3:33:54,  7.77it/s]"
     ]
    },
    {
     "name": "stdout",
     "output_type": "stream",
     "text": [
      "DQA player 2 won\n",
      "DQA player 2 won\n",
      "DQA player 1 won\n",
      "DQA player 2 won\n",
      "DQA player 2 won\n",
      "DQA player 2 won\n",
      "DQA player 2 won\n"
     ]
    },
    {
     "name": "stderr",
     "output_type": "stream",
     "text": [
      "  0%|          | 283/100000 [00:28<4:00:04,  6.92it/s]"
     ]
    },
    {
     "name": "stdout",
     "output_type": "stream",
     "text": [
      "DQA player 1 won\n",
      "DQA player 2 won\n",
      "DQA player 2 won\n"
     ]
    },
    {
     "name": "stderr",
     "output_type": "stream",
     "text": [
      "  0%|          | 285/100000 [00:28<3:50:07,  7.22it/s]"
     ]
    },
    {
     "name": "stdout",
     "output_type": "stream",
     "text": [
      "DQA player 1 won\n",
      "DQA player 1 won\n",
      "DQA player 2 won\n",
      "DQA player 2 won\n"
     ]
    },
    {
     "name": "stderr",
     "output_type": "stream",
     "text": [
      "  0%|          | 288/100000 [00:28<3:18:30,  8.37it/s]"
     ]
    },
    {
     "name": "stdout",
     "output_type": "stream",
     "text": [
      "DQA player 2 won\n",
      "DQA player 2 won\n",
      "DQA player 2 won\n",
      "DQA player 2 won\n"
     ]
    },
    {
     "name": "stderr",
     "output_type": "stream",
     "text": [
      "\r",
      "  0%|          | 289/100000 [00:28<3:33:34,  7.78it/s]"
     ]
    },
    {
     "name": "stdout",
     "output_type": "stream",
     "text": [
      "DQA player 2 won\n",
      "DQA player 2 won\n",
      "DQA player 2 won\n",
      "DQA player 2 won\n",
      "DQA player 1 won\n"
     ]
    },
    {
     "name": "stderr",
     "output_type": "stream",
     "text": [
      "  0%|          | 293/100000 [00:29<3:02:14,  9.12it/s]"
     ]
    },
    {
     "name": "stdout",
     "output_type": "stream",
     "text": [
      "DQA player 2 won\n",
      "DQA player 2 won\n",
      "DQA player 2 won\n",
      "DQA player 2 won\n",
      "DQA player 2 won\n",
      "DQA player 2 won\n"
     ]
    },
    {
     "name": "stderr",
     "output_type": "stream",
     "text": [
      "  0%|          | 297/100000 [00:29<2:37:18, 10.56it/s]"
     ]
    },
    {
     "name": "stdout",
     "output_type": "stream",
     "text": [
      "DQA player 2 won\n",
      "DQA player 2 won\n",
      "DQA player 2 won\n",
      "DQA player 2 won\n",
      "DQA player 2 won\n",
      "DQA player 2 won\n"
     ]
    },
    {
     "name": "stderr",
     "output_type": "stream",
     "text": [
      "\r",
      "  0%|          | 299/100000 [00:29<2:28:19, 11.20it/s]"
     ]
    },
    {
     "name": "stdout",
     "output_type": "stream",
     "text": [
      "DQA player 2 won\n",
      "DQA player 2 won\n",
      "DQA player 2 won\n",
      "DQA player 2 won\n",
      "DQA player 2 won\n",
      "DQA player 2 won\n"
     ]
    },
    {
     "name": "stderr",
     "output_type": "stream",
     "text": [
      "  0%|          | 303/100000 [00:30<2:30:28, 11.04it/s]"
     ]
    },
    {
     "name": "stdout",
     "output_type": "stream",
     "text": [
      "DQA player 2 won\n",
      "DQA player 2 won\n",
      "DQA player 1 won\n",
      "DQA player 2 won\n",
      "DQA player 2 won\n"
     ]
    },
    {
     "name": "stderr",
     "output_type": "stream",
     "text": [
      "\r",
      "  0%|          | 305/100000 [00:31<6:24:48,  4.32it/s]"
     ]
    },
    {
     "name": "stdout",
     "output_type": "stream",
     "text": [
      "DQA player 2 won\n",
      "DQA player 2 won\n",
      "DQA player 2 won\n",
      "DQA player 2 won\n"
     ]
    },
    {
     "name": "stderr",
     "output_type": "stream",
     "text": [
      "\r",
      "  0%|          | 306/100000 [00:31<6:56:55,  3.99it/s]"
     ]
    },
    {
     "name": "stdout",
     "output_type": "stream",
     "text": [
      "DQA player 2 won\n",
      "DQA player 2 won\n"
     ]
    },
    {
     "name": "stderr",
     "output_type": "stream",
     "text": [
      "\r",
      "  0%|          | 307/100000 [00:31<6:59:34,  3.96it/s]"
     ]
    },
    {
     "name": "stdout",
     "output_type": "stream",
     "text": [
      "DQA player 2 won\n",
      "DQA player 2 won\n"
     ]
    },
    {
     "name": "stderr",
     "output_type": "stream",
     "text": [
      "\r",
      "  0%|          | 308/100000 [00:32<10:15:15,  2.70it/s]"
     ]
    },
    {
     "name": "stdout",
     "output_type": "stream",
     "text": [
      "DQA player 1 won\n",
      "DQA player 2 won\n",
      "DQA player 2 won\n"
     ]
    },
    {
     "name": "stderr",
     "output_type": "stream",
     "text": [
      "\r",
      "  0%|          | 310/100000 [00:32<8:38:44,  3.20it/s] "
     ]
    },
    {
     "name": "stdout",
     "output_type": "stream",
     "text": [
      "DQA player 2 won\n",
      "DQA player 2 won\n"
     ]
    },
    {
     "name": "stderr",
     "output_type": "stream",
     "text": [
      "  0%|          | 312/100000 [00:33<8:15:32,  3.35it/s] "
     ]
    },
    {
     "name": "stdout",
     "output_type": "stream",
     "text": [
      "DQA player 1 won\n",
      "DQA player 2 won\n",
      "DQA player 2 won\n"
     ]
    },
    {
     "name": "stderr",
     "output_type": "stream",
     "text": [
      "\r",
      "  0%|          | 313/100000 [00:33<8:57:05,  3.09it/s]"
     ]
    },
    {
     "name": "stdout",
     "output_type": "stream",
     "text": [
      "DQA player 2 won\n",
      "DQA player 2 won\n"
     ]
    },
    {
     "name": "stderr",
     "output_type": "stream",
     "text": [
      "\r",
      "  0%|          | 314/100000 [00:34<11:19:15,  2.45it/s]"
     ]
    },
    {
     "name": "stdout",
     "output_type": "stream",
     "text": [
      "DQA player 2 won\n",
      "DQA player 2 won\n"
     ]
    },
    {
     "name": "stderr",
     "output_type": "stream",
     "text": [
      "\r",
      "  0%|          | 315/100000 [00:35<12:49:58,  2.16it/s]"
     ]
    },
    {
     "name": "stdout",
     "output_type": "stream",
     "text": [
      "DQA player 2 won\n",
      "DQA player 2 won\n"
     ]
    },
    {
     "name": "stderr",
     "output_type": "stream",
     "text": [
      "  0%|          | 317/100000 [00:35<9:21:12,  2.96it/s] "
     ]
    },
    {
     "name": "stdout",
     "output_type": "stream",
     "text": [
      "DQA player 2 won\n",
      "DQA player 2 won\n",
      "DQA player 2 won\n",
      "DQA player 2 won\n"
     ]
    },
    {
     "name": "stderr",
     "output_type": "stream",
     "text": [
      "\r",
      "  0%|          | 318/100000 [00:35<8:15:23,  3.35it/s]"
     ]
    },
    {
     "name": "stdout",
     "output_type": "stream",
     "text": [
      "DQA player 2 won\n",
      "DQA player 2 won\n",
      "DQA player 2 won\n"
     ]
    },
    {
     "name": "stderr",
     "output_type": "stream",
     "text": [
      "\r",
      "  0%|          | 319/100000 [00:35<7:38:21,  3.62it/s]"
     ]
    },
    {
     "name": "stdout",
     "output_type": "stream",
     "text": [
      "DQA player 2 won\n",
      "DQA player 2 won\n"
     ]
    },
    {
     "name": "stderr",
     "output_type": "stream",
     "text": [
      "  0%|          | 321/100000 [00:36<7:15:04,  3.82it/s]"
     ]
    },
    {
     "name": "stdout",
     "output_type": "stream",
     "text": [
      "DQA player 2 won\n",
      "DQA player 2 won\n",
      "DQA player 2 won\n"
     ]
    },
    {
     "name": "stderr",
     "output_type": "stream",
     "text": [
      "  0%|          | 323/100000 [00:36<6:32:02,  4.24it/s]"
     ]
    },
    {
     "name": "stdout",
     "output_type": "stream",
     "text": [
      "DQA player 2 won\n",
      "DQA player 2 won\n",
      "DQA player 2 won\n",
      "DQA player 2 won\n"
     ]
    },
    {
     "name": "stderr",
     "output_type": "stream",
     "text": [
      "\r",
      "  0%|          | 324/100000 [00:37<6:46:34,  4.09it/s]"
     ]
    },
    {
     "name": "stdout",
     "output_type": "stream",
     "text": [
      "DQA player 2 won\n",
      "DQA player 2 won\n"
     ]
    },
    {
     "name": "stderr",
     "output_type": "stream",
     "text": [
      "\r",
      "  0%|          | 325/100000 [00:37<7:19:48,  3.78it/s]"
     ]
    },
    {
     "name": "stdout",
     "output_type": "stream",
     "text": [
      "DQA player 2 won\n",
      "DQA player 2 won\n"
     ]
    },
    {
     "name": "stderr",
     "output_type": "stream",
     "text": [
      "\r",
      "  0%|          | 326/100000 [00:37<8:49:47,  3.14it/s]"
     ]
    },
    {
     "name": "stdout",
     "output_type": "stream",
     "text": [
      "DQA player 2 won\n",
      "DQA player 2 won\n"
     ]
    },
    {
     "name": "stderr",
     "output_type": "stream",
     "text": [
      "\r",
      "  0%|          | 327/100000 [00:38<7:53:13,  3.51it/s]"
     ]
    },
    {
     "name": "stdout",
     "output_type": "stream",
     "text": [
      "DQA player 2 won\n",
      "DQA player 2 won\n"
     ]
    },
    {
     "name": "stderr",
     "output_type": "stream",
     "text": [
      "\r",
      "  0%|          | 328/100000 [00:38<11:00:31,  2.51it/s]"
     ]
    },
    {
     "name": "stdout",
     "output_type": "stream",
     "text": [
      "DQA player 2 won\n",
      "DQA player 2 won\n"
     ]
    },
    {
     "name": "stderr",
     "output_type": "stream",
     "text": [
      "  0%|          | 331/100000 [00:39<7:18:13,  3.79it/s] "
     ]
    },
    {
     "name": "stdout",
     "output_type": "stream",
     "text": [
      "DQA player 1 won\n",
      "DQA player 2 won\n",
      "DQA player 2 won\n",
      "DQA player 1 won\n",
      "DQA player 2 won\n",
      "DQA player 2 won\n"
     ]
    },
    {
     "name": "stderr",
     "output_type": "stream",
     "text": [
      "  0%|          | 335/100000 [00:39<4:28:19,  6.19it/s]"
     ]
    },
    {
     "name": "stdout",
     "output_type": "stream",
     "text": [
      "DQA player 2 won\n",
      "DQA player 2 won\n",
      "DQA player 1 won\n",
      "DQA player 1 won\n",
      "DQA player 1 won\n"
     ]
    },
    {
     "name": "stderr",
     "output_type": "stream",
     "text": [
      "  0%|          | 339/100000 [00:39<3:02:21,  9.11it/s]"
     ]
    },
    {
     "name": "stdout",
     "output_type": "stream",
     "text": [
      "DQA player 1 won\n",
      "DQA player 1 won\n",
      "DQA player 2 won\n",
      "DQA player 2 won\n",
      "DQA player 1 won\n"
     ]
    },
    {
     "name": "stderr",
     "output_type": "stream",
     "text": [
      "  0%|          | 343/100000 [00:39<2:28:33, 11.18it/s]"
     ]
    },
    {
     "name": "stdout",
     "output_type": "stream",
     "text": [
      "DQA player 1 won\n",
      "DQA player 1 won\n",
      "DQA player 1 won\n",
      "DQA player 1 won\n"
     ]
    },
    {
     "name": "stderr",
     "output_type": "stream",
     "text": [
      "\r",
      "  0%|          | 345/100000 [00:40<2:22:42, 11.64it/s]"
     ]
    },
    {
     "name": "stdout",
     "output_type": "stream",
     "text": [
      "DQA player 2 won\n",
      "DQA player 2 won\n"
     ]
    },
    {
     "name": "stderr",
     "output_type": "stream",
     "text": [
      "\r",
      "  0%|          | 347/100000 [00:40<2:48:19,  9.87it/s]"
     ]
    },
    {
     "name": "stdout",
     "output_type": "stream",
     "text": [
      "DQA player 1 won\n",
      "DQA player 1 won\n",
      "DQA player 1 won\n"
     ]
    },
    {
     "name": "stderr",
     "output_type": "stream",
     "text": [
      "  0%|          | 351/100000 [00:40<2:22:57, 11.62it/s]"
     ]
    },
    {
     "name": "stdout",
     "output_type": "stream",
     "text": [
      "DQA player 1 won\n",
      "DQA player 1 won\n",
      "DQA player 2 won\n",
      "DQA player 2 won\n",
      "DQA player 1 won\n"
     ]
    },
    {
     "name": "stderr",
     "output_type": "stream",
     "text": [
      "  0%|          | 355/100000 [00:41<2:36:13, 10.63it/s]"
     ]
    },
    {
     "name": "stdout",
     "output_type": "stream",
     "text": [
      "DQA player 1 won\n",
      "DQA player 2 won\n",
      "DQA player 2 won\n",
      "DQA player 1 won\n"
     ]
    },
    {
     "name": "stderr",
     "output_type": "stream",
     "text": [
      "\r",
      "  0%|          | 357/100000 [00:41<2:25:27, 11.42it/s]"
     ]
    },
    {
     "name": "stdout",
     "output_type": "stream",
     "text": [
      "DQA player 1 won\n",
      "DQA player 1 won\n",
      "DQA player 1 won\n"
     ]
    },
    {
     "name": "stderr",
     "output_type": "stream",
     "text": [
      "  0%|          | 361/100000 [00:41<2:15:53, 12.22it/s]"
     ]
    },
    {
     "name": "stdout",
     "output_type": "stream",
     "text": [
      "DQA player 1 won\n",
      "DQA player 1 won\n",
      "DQA player 2 won\n",
      "DQA player 2 won\n"
     ]
    },
    {
     "name": "stderr",
     "output_type": "stream",
     "text": [
      "\r",
      "  0%|          | 363/100000 [00:41<2:17:35, 12.07it/s]"
     ]
    },
    {
     "name": "stdout",
     "output_type": "stream",
     "text": [
      "DQA player 2 won\n",
      "DQA player 2 won\n",
      "DQA player 1 won\n",
      "DQA player 1 won\n"
     ]
    },
    {
     "name": "stderr",
     "output_type": "stream",
     "text": [
      "  0%|          | 368/100000 [00:41<1:51:54, 14.84it/s]"
     ]
    },
    {
     "name": "stdout",
     "output_type": "stream",
     "text": [
      "DQA player 1 won\n",
      "DQA player 1 won\n",
      "DQA player 1 won\n",
      "DQA player 1 won\n"
     ]
    },
    {
     "name": "stderr",
     "output_type": "stream",
     "text": [
      "\r",
      "  0%|          | 370/100000 [00:42<2:09:32, 12.82it/s]"
     ]
    },
    {
     "name": "stdout",
     "output_type": "stream",
     "text": [
      "DQA player 2 won\n",
      "DQA player 2 won\n",
      "DQA player 2 won\n",
      "DQA player 2 won\n",
      "DQA player 1 won\n"
     ]
    },
    {
     "name": "stderr",
     "output_type": "stream",
     "text": [
      "  0%|          | 374/100000 [00:42<2:06:05, 13.17it/s]"
     ]
    },
    {
     "name": "stdout",
     "output_type": "stream",
     "text": [
      "DQA player 2 won\n",
      "DQA player 2 won\n",
      "DQA player 1 won\n",
      "DQA player 1 won\n"
     ]
    },
    {
     "name": "stderr",
     "output_type": "stream",
     "text": [
      "\r",
      "  0%|          | 376/100000 [00:42<1:56:58, 14.19it/s]"
     ]
    },
    {
     "name": "stdout",
     "output_type": "stream",
     "text": [
      "DQA player 2 won\n",
      "DQA player 2 won\n",
      "DQA player 1 won\n",
      "DQA player 2 won\n",
      "DQA player 2 won\n"
     ]
    },
    {
     "name": "stderr",
     "output_type": "stream",
     "text": [
      "  0%|          | 380/100000 [00:42<1:59:35, 13.88it/s]"
     ]
    },
    {
     "name": "stdout",
     "output_type": "stream",
     "text": [
      "DQA player 1 won\n",
      "DQA player 1 won\n",
      "DQA player 1 won\n"
     ]
    },
    {
     "name": "stderr",
     "output_type": "stream",
     "text": [
      "\r",
      "  0%|          | 382/100000 [00:43<2:25:02, 11.45it/s]"
     ]
    },
    {
     "name": "stdout",
     "output_type": "stream",
     "text": [
      "DQA player 2 won\n",
      "DQA player 2 won\n",
      "DQA player 1 won\n"
     ]
    },
    {
     "name": "stderr",
     "output_type": "stream",
     "text": [
      "\r",
      "  0%|          | 384/100000 [00:43<2:34:45, 10.73it/s]"
     ]
    },
    {
     "name": "stdout",
     "output_type": "stream",
     "text": [
      "DQA player 1 won\n",
      "DQA player 1 won\n",
      "DQA player 1 won\n"
     ]
    },
    {
     "name": "stderr",
     "output_type": "stream",
     "text": [
      "  0%|          | 388/100000 [00:43<2:32:41, 10.87it/s]"
     ]
    },
    {
     "name": "stdout",
     "output_type": "stream",
     "text": [
      "DQA player 2 won\n",
      "DQA player 2 won\n",
      "DQA player 1 won\n",
      "DQA player 2 won\n",
      "DQA player 2 won\n"
     ]
    },
    {
     "name": "stderr",
     "output_type": "stream",
     "text": [
      "\r",
      "  0%|          | 390/100000 [00:43<2:33:46, 10.80it/s]"
     ]
    },
    {
     "name": "stdout",
     "output_type": "stream",
     "text": [
      "DQA player 2 won\n",
      "DQA player 2 won\n",
      "DQA player 2 won\n",
      "DQA player 2 won\n",
      "DQA player 1 won\n",
      "DQA player 1 won\n"
     ]
    },
    {
     "name": "stderr",
     "output_type": "stream",
     "text": [
      "  0%|          | 395/100000 [00:44<1:59:44, 13.86it/s]"
     ]
    },
    {
     "name": "stdout",
     "output_type": "stream",
     "text": [
      "DQA player 1 won\n",
      "DQA player 1 won\n",
      "DQA player 1 won\n",
      "DQA player 2 won\n",
      "DQA player 2 won\n"
     ]
    },
    {
     "name": "stderr",
     "output_type": "stream",
     "text": [
      "\r",
      "  0%|          | 397/100000 [00:44<1:55:04, 14.43it/s]"
     ]
    },
    {
     "name": "stdout",
     "output_type": "stream",
     "text": [
      "DQA player 1 won\n"
     ]
    },
    {
     "name": "stderr",
     "output_type": "stream",
     "text": [
      "\r",
      "  0%|          | 399/100000 [00:44<2:41:11, 10.30it/s]"
     ]
    },
    {
     "name": "stdout",
     "output_type": "stream",
     "text": [
      "DQA player 2 won\n",
      "DQA player 2 won\n",
      "DQA player 1 won\n"
     ]
    },
    {
     "name": "stderr",
     "output_type": "stream",
     "text": [
      "\r",
      "  0%|          | 401/100000 [00:44<2:36:29, 10.61it/s]"
     ]
    },
    {
     "name": "stdout",
     "output_type": "stream",
     "text": [
      "DQA player 1 won\n",
      "DQA player 1 won\n",
      "DQA player 2 won\n",
      "DQA player 2 won\n"
     ]
    },
    {
     "name": "stderr",
     "output_type": "stream",
     "text": [
      "  0%|          | 405/100000 [00:45<2:45:58, 10.00it/s]"
     ]
    },
    {
     "name": "stdout",
     "output_type": "stream",
     "text": [
      "DQA player 2 won\n",
      "DQA player 2 won\n",
      "DQA player 2 won\n",
      "DQA player 2 won\n",
      "DQA player 1 won\n"
     ]
    },
    {
     "name": "stderr",
     "output_type": "stream",
     "text": [
      "  0%|          | 409/100000 [00:45<2:14:26, 12.35it/s]"
     ]
    },
    {
     "name": "stdout",
     "output_type": "stream",
     "text": [
      "DQA player 1 won\n",
      "DQA player 1 won\n",
      "DQA player 1 won\n",
      "DQA player 1 won\n",
      "DQA player 1 won\n"
     ]
    },
    {
     "name": "stderr",
     "output_type": "stream",
     "text": [
      "  0%|          | 413/100000 [00:45<2:19:54, 11.86it/s]"
     ]
    },
    {
     "name": "stdout",
     "output_type": "stream",
     "text": [
      "DQA player 2 won\n",
      "DQA player 2 won\n",
      "DQA player 2 won\n",
      "DQA player 2 won\n",
      "DQA player 1 won\n"
     ]
    },
    {
     "name": "stderr",
     "output_type": "stream",
     "text": [
      "\r",
      "  0%|          | 415/100000 [00:45<2:21:06, 11.76it/s]"
     ]
    },
    {
     "name": "stdout",
     "output_type": "stream",
     "text": [
      "DQA player 1 won\n",
      "DQA player 2 won\n",
      "DQA player 2 won\n"
     ]
    },
    {
     "name": "stderr",
     "output_type": "stream",
     "text": [
      "\r",
      "  0%|          | 417/100000 [00:46<2:23:10, 11.59it/s]"
     ]
    },
    {
     "name": "stdout",
     "output_type": "stream",
     "text": [
      "DQA player 2 won\n",
      "DQA player 2 won\n",
      "DQA player 1 won\n",
      "DQA player 1 won\n"
     ]
    },
    {
     "name": "stderr",
     "output_type": "stream",
     "text": [
      "\r",
      "  0%|          | 419/100000 [00:46<2:42:28, 10.22it/s]"
     ]
    },
    {
     "name": "stdout",
     "output_type": "stream",
     "text": [
      "DQA player 1 won\n",
      "DQA player 2 won\n",
      "DQA player 2 won\n"
     ]
    },
    {
     "name": "stderr",
     "output_type": "stream",
     "text": [
      "  0%|          | 423/100000 [00:46<2:43:02, 10.18it/s]"
     ]
    },
    {
     "name": "stdout",
     "output_type": "stream",
     "text": [
      "DQA player 2 won\n",
      "DQA player 2 won\n",
      "DQA player 1 won\n",
      "DQA player 1 won\n",
      "DQA player 2 won\n",
      "DQA player 2 won\n",
      "DQA player 2 won\n"
     ]
    },
    {
     "name": "stderr",
     "output_type": "stream",
     "text": [
      "\r",
      "  0%|          | 425/100000 [00:47<3:42:24,  7.46it/s]"
     ]
    },
    {
     "name": "stdout",
     "output_type": "stream",
     "text": [
      "DQA player 2 won\n",
      "DQA player 2 won\n",
      "DQA player 2 won\n"
     ]
    },
    {
     "name": "stderr",
     "output_type": "stream",
     "text": [
      "  0%|          | 429/100000 [00:47<2:58:36,  9.29it/s]"
     ]
    },
    {
     "name": "stdout",
     "output_type": "stream",
     "text": [
      "DQA player 2 won\n",
      "DQA player 2 won\n",
      "DQA player 1 won\n",
      "DQA player 1 won\n",
      "DQA player 1 won\n"
     ]
    },
    {
     "name": "stderr",
     "output_type": "stream",
     "text": [
      "\r",
      "  0%|          | 431/100000 [00:47<2:49:54,  9.77it/s]"
     ]
    },
    {
     "name": "stdout",
     "output_type": "stream",
     "text": [
      "DQA player 1 won\n",
      "DQA player 2 won\n",
      "DQA player 2 won\n"
     ]
    },
    {
     "name": "stderr",
     "output_type": "stream",
     "text": [
      "\r",
      "  0%|          | 433/100000 [00:48<2:59:21,  9.25it/s]"
     ]
    },
    {
     "name": "stdout",
     "output_type": "stream",
     "text": [
      "DQA player 1 won\n",
      "DQA player 1 won\n"
     ]
    },
    {
     "name": "stderr",
     "output_type": "stream",
     "text": [
      "  0%|          | 436/100000 [00:48<3:41:19,  7.50it/s]"
     ]
    },
    {
     "name": "stdout",
     "output_type": "stream",
     "text": [
      "DQA player 2 won\n",
      "DQA player 2 won\n",
      "DQA player 1 won\n"
     ]
    },
    {
     "name": "stderr",
     "output_type": "stream",
     "text": [
      "  0%|          | 438/100000 [00:48<3:52:37,  7.13it/s]"
     ]
    },
    {
     "name": "stdout",
     "output_type": "stream",
     "text": [
      "DQA player 2 won\n",
      "DQA player 2 won\n",
      "DQA player 1 won\n"
     ]
    },
    {
     "name": "stderr",
     "output_type": "stream",
     "text": [
      "  0%|          | 440/100000 [00:49<3:58:43,  6.95it/s]"
     ]
    },
    {
     "name": "stdout",
     "output_type": "stream",
     "text": [
      "DQA player 1 won\n",
      "DQA player 1 won\n"
     ]
    },
    {
     "name": "stderr",
     "output_type": "stream",
     "text": [
      "\r",
      "  0%|          | 441/100000 [00:49<3:42:34,  7.46it/s]"
     ]
    },
    {
     "name": "stdout",
     "output_type": "stream",
     "text": [
      "DQA player 2 won\n",
      "DQA player 2 won\n"
     ]
    },
    {
     "name": "stderr",
     "output_type": "stream",
     "text": [
      "  0%|          | 443/100000 [00:49<4:39:42,  5.93it/s]"
     ]
    },
    {
     "name": "stdout",
     "output_type": "stream",
     "text": [
      "DQA player 2 won\n",
      "DQA player 2 won\n",
      "DQA player 1 won\n"
     ]
    },
    {
     "name": "stderr",
     "output_type": "stream",
     "text": [
      "\r",
      "  0%|          | 444/100000 [00:49<5:01:40,  5.50it/s]"
     ]
    },
    {
     "name": "stdout",
     "output_type": "stream",
     "text": [
      "DQA player 1 won\n",
      "DQA player 1 won\n"
     ]
    },
    {
     "name": "stderr",
     "output_type": "stream",
     "text": [
      "  0%|          | 446/100000 [00:50<5:37:13,  4.92it/s]"
     ]
    },
    {
     "name": "stdout",
     "output_type": "stream",
     "text": [
      "DQA player 1 won\n"
     ]
    },
    {
     "name": "stderr",
     "output_type": "stream",
     "text": [
      "  0%|          | 448/100000 [00:50<6:46:37,  4.08it/s]"
     ]
    },
    {
     "name": "stdout",
     "output_type": "stream",
     "text": [
      "DQA player 1 won\n",
      "DQA player 1 won\n"
     ]
    },
    {
     "name": "stderr",
     "output_type": "stream",
     "text": [
      "\r",
      "  0%|          | 449/100000 [00:51<5:46:00,  4.80it/s]"
     ]
    },
    {
     "name": "stdout",
     "output_type": "stream",
     "text": [
      "DQA player 2 won\n",
      "DQA player 2 won\n"
     ]
    },
    {
     "name": "stderr",
     "output_type": "stream",
     "text": [
      "\r",
      "  0%|          | 450/100000 [00:51<6:09:38,  4.49it/s]"
     ]
    },
    {
     "name": "stdout",
     "output_type": "stream",
     "text": [
      "DQA player 1 won\n"
     ]
    },
    {
     "name": "stderr",
     "output_type": "stream",
     "text": [
      "\r",
      "  0%|          | 451/100000 [00:51<6:21:37,  4.35it/s]"
     ]
    },
    {
     "name": "stdout",
     "output_type": "stream",
     "text": [
      "DQA player 2 won\n",
      "DQA player 2 won\n"
     ]
    },
    {
     "name": "stderr",
     "output_type": "stream",
     "text": [
      "\r",
      "  0%|          | 452/100000 [00:52<9:42:08,  2.85it/s]"
     ]
    },
    {
     "name": "stdout",
     "output_type": "stream",
     "text": [
      "DQA player 2 won\n",
      "DQA player 2 won\n"
     ]
    },
    {
     "name": "stderr",
     "output_type": "stream",
     "text": [
      "  0%|          | 454/100000 [00:52<8:04:17,  3.43it/s]"
     ]
    },
    {
     "name": "stdout",
     "output_type": "stream",
     "text": [
      "DQA player 1 won\n",
      "DQA player 1 won\n"
     ]
    },
    {
     "name": "stderr",
     "output_type": "stream",
     "text": [
      "\r",
      "  0%|          | 456/100000 [00:52<6:23:39,  4.32it/s]"
     ]
    },
    {
     "name": "stdout",
     "output_type": "stream",
     "text": [
      "DQA player 1 won\n",
      "DQA player 1 won\n"
     ]
    },
    {
     "name": "stderr",
     "output_type": "stream",
     "text": [
      "  0%|          | 458/100000 [00:53<5:00:01,  5.53it/s]"
     ]
    },
    {
     "name": "stdout",
     "output_type": "stream",
     "text": [
      "DQA player 1 won\n",
      "DQA player 1 won\n"
     ]
    },
    {
     "name": "stderr",
     "output_type": "stream",
     "text": [
      "  0%|          | 460/100000 [00:53<4:37:43,  5.97it/s]"
     ]
    },
    {
     "name": "stdout",
     "output_type": "stream",
     "text": [
      "DQA player 1 won\n",
      "DQA player 1 won\n"
     ]
    },
    {
     "name": "stderr",
     "output_type": "stream",
     "text": [
      "\r",
      "  0%|          | 461/100000 [00:53<6:22:41,  4.34it/s]"
     ]
    },
    {
     "name": "stdout",
     "output_type": "stream",
     "text": [
      "DQA player 1 won\n"
     ]
    },
    {
     "name": "stderr",
     "output_type": "stream",
     "text": [
      "  0%|          | 463/100000 [00:54<5:40:28,  4.87it/s]"
     ]
    },
    {
     "name": "stdout",
     "output_type": "stream",
     "text": [
      "DQA player 1 won\n",
      "DQA player 1 won\n"
     ]
    },
    {
     "name": "stderr",
     "output_type": "stream",
     "text": [
      "\r",
      "  0%|          | 465/100000 [00:54<4:33:21,  6.07it/s]"
     ]
    },
    {
     "name": "stdout",
     "output_type": "stream",
     "text": [
      "DQA player 2 won\n",
      "DQA player 2 won\n",
      "DQA player 1 won\n",
      "DQA player 1 won\n",
      "DQA player 1 won\n"
     ]
    },
    {
     "name": "stderr",
     "output_type": "stream",
     "text": [
      "  0%|          | 469/100000 [00:54<3:50:02,  7.21it/s]"
     ]
    },
    {
     "name": "stdout",
     "output_type": "stream",
     "text": [
      "DQA player 1 won\n",
      "DQA player 2 won\n",
      "DQA player 2 won\n",
      "DQA player 2 won\n",
      "DQA player 2 won\n"
     ]
    },
    {
     "name": "stderr",
     "output_type": "stream",
     "text": [
      "\r",
      "  0%|          | 471/100000 [00:55<3:59:37,  6.92it/s]"
     ]
    },
    {
     "name": "stdout",
     "output_type": "stream",
     "text": [
      "DQA player 1 won\n",
      "DQA player 1 won\n"
     ]
    },
    {
     "name": "stderr",
     "output_type": "stream",
     "text": [
      "  0%|          | 473/100000 [00:55<7:38:18,  3.62it/s]"
     ]
    },
    {
     "name": "stdout",
     "output_type": "stream",
     "text": [
      "DQA player 1 won\n"
     ]
    },
    {
     "name": "stderr",
     "output_type": "stream",
     "text": [
      "  0%|          | 475/100000 [00:56<6:02:22,  4.58it/s]"
     ]
    },
    {
     "name": "stdout",
     "output_type": "stream",
     "text": [
      "DQA player 1 won\n",
      "DQA player 1 won\n"
     ]
    },
    {
     "name": "stderr",
     "output_type": "stream",
     "text": [
      "\r",
      "  0%|          | 476/100000 [00:56<7:03:08,  3.92it/s]"
     ]
    },
    {
     "name": "stdout",
     "output_type": "stream",
     "text": [
      "DQA player 1 won\n"
     ]
    },
    {
     "name": "stderr",
     "output_type": "stream",
     "text": [
      "\r",
      "  0%|          | 477/100000 [00:56<7:48:36,  3.54it/s]"
     ]
    },
    {
     "name": "stdout",
     "output_type": "stream",
     "text": [
      "DQA player 1 won\n"
     ]
    },
    {
     "name": "stderr",
     "output_type": "stream",
     "text": [
      "\r",
      "  0%|          | 478/100000 [00:57<7:31:39,  3.67it/s]"
     ]
    },
    {
     "name": "stdout",
     "output_type": "stream",
     "text": [
      "DQA player 1 won\n"
     ]
    },
    {
     "name": "stderr",
     "output_type": "stream",
     "text": [
      "\r",
      "  0%|          | 479/100000 [00:57<10:24:45,  2.65it/s]"
     ]
    },
    {
     "name": "stdout",
     "output_type": "stream",
     "text": [
      "DQA player 2 won\n",
      "DQA player 2 won\n"
     ]
    },
    {
     "name": "stderr",
     "output_type": "stream",
     "text": [
      "\r",
      "  0%|          | 480/100000 [00:58<14:50:29,  1.86it/s]"
     ]
    },
    {
     "name": "stdout",
     "output_type": "stream",
     "text": [
      "DQA player 2 won\n",
      "DQA player 2 won\n"
     ]
    },
    {
     "name": "stderr",
     "output_type": "stream",
     "text": [
      "\r",
      "  0%|          | 481/100000 [00:59<14:00:14,  1.97it/s]"
     ]
    },
    {
     "name": "stdout",
     "output_type": "stream",
     "text": [
      "DQA player 2 won\n",
      "DQA player 2 won\n",
      "DQA player 2 won\n"
     ]
    },
    {
     "name": "stderr",
     "output_type": "stream",
     "text": [
      "\r",
      "  0%|          | 482/100000 [00:59<11:01:48,  2.51it/s]"
     ]
    },
    {
     "name": "stdout",
     "output_type": "stream",
     "text": [
      "DQA player 2 won\n"
     ]
    },
    {
     "name": "stderr",
     "output_type": "stream",
     "text": [
      "  0%|          | 484/100000 [00:59<8:18:58,  3.32it/s] "
     ]
    },
    {
     "name": "stdout",
     "output_type": "stream",
     "text": [
      "DQA player 1 won\n",
      "DQA player 2 won\n",
      "DQA player 2 won\n"
     ]
    },
    {
     "name": "stderr",
     "output_type": "stream",
     "text": [
      "\r",
      "  0%|          | 486/100000 [00:59<6:25:09,  4.31it/s]"
     ]
    },
    {
     "name": "stdout",
     "output_type": "stream",
     "text": [
      "DQA player 1 won\n",
      "DQA player 2 won\n",
      "DQA player 2 won\n",
      "DQA player 1 won\n",
      "DQA player 1 won\n"
     ]
    },
    {
     "name": "stderr",
     "output_type": "stream",
     "text": [
      "\r",
      "  0%|          | 489/100000 [01:00<4:59:52,  5.53it/s]"
     ]
    },
    {
     "name": "stdout",
     "output_type": "stream",
     "text": [
      "DQA player 1 won\n",
      "DQA player 1 won\n"
     ]
    },
    {
     "name": "stderr",
     "output_type": "stream",
     "text": [
      "  0%|          | 492/100000 [01:00<4:36:11,  6.00it/s]"
     ]
    },
    {
     "name": "stdout",
     "output_type": "stream",
     "text": [
      "DQA player 1 won\n",
      "DQA player 2 won\n",
      "DQA player 2 won\n"
     ]
    },
    {
     "name": "stderr",
     "output_type": "stream",
     "text": [
      "  0%|          | 494/100000 [01:00<4:31:39,  6.10it/s]"
     ]
    },
    {
     "name": "stdout",
     "output_type": "stream",
     "text": [
      "DQA player 2 won\n",
      "DQA player 2 won\n",
      "DQA player 2 won\n",
      "DQA player 2 won\n"
     ]
    },
    {
     "name": "stderr",
     "output_type": "stream",
     "text": [
      "  0%|          | 497/100000 [01:01<3:47:37,  7.29it/s]"
     ]
    },
    {
     "name": "stdout",
     "output_type": "stream",
     "text": [
      "DQA player 1 won\n",
      "DQA player 1 won\n",
      "DQA player 1 won\n"
     ]
    },
    {
     "name": "stderr",
     "output_type": "stream",
     "text": [
      "\r",
      "  0%|          | 499/100000 [01:01<3:13:17,  8.58it/s]"
     ]
    },
    {
     "name": "stdout",
     "output_type": "stream",
     "text": [
      "DQA player 1 won\n",
      "DQA player 1 won\n",
      "DQA player 1 won\n",
      "DQA player 1 won\n"
     ]
    },
    {
     "name": "stderr",
     "output_type": "stream",
     "text": [
      "  1%|          | 503/100000 [01:01<2:44:03, 10.11it/s]"
     ]
    },
    {
     "name": "stdout",
     "output_type": "stream",
     "text": [
      "DQA player 2 won\n",
      "DQA player 2 won\n",
      "DQA player 1 won\n",
      "DQA player 1 won\n"
     ]
    },
    {
     "name": "stderr",
     "output_type": "stream",
     "text": [
      "\r",
      "  1%|          | 505/100000 [01:01<2:38:09, 10.48it/s]"
     ]
    },
    {
     "name": "stdout",
     "output_type": "stream",
     "text": [
      "DQA player 2 won\n",
      "DQA player 2 won\n",
      "DQA player 1 won\n"
     ]
    },
    {
     "name": "stderr",
     "output_type": "stream",
     "text": [
      "\r",
      "  1%|          | 507/100000 [01:02<3:24:33,  8.11it/s]"
     ]
    },
    {
     "name": "stdout",
     "output_type": "stream",
     "text": [
      "DQA player 1 won\n",
      "DQA player 1 won\n"
     ]
    },
    {
     "name": "stderr",
     "output_type": "stream",
     "text": [
      "  1%|          | 511/100000 [01:02<3:32:27,  7.80it/s]"
     ]
    },
    {
     "name": "stdout",
     "output_type": "stream",
     "text": [
      "DQA player 1 won\n",
      "DQA player 1 won\n",
      "DQA player 1 won\n"
     ]
    },
    {
     "name": "stderr",
     "output_type": "stream",
     "text": [
      "  1%|          | 514/100000 [01:02<3:03:41,  9.03it/s]"
     ]
    },
    {
     "name": "stdout",
     "output_type": "stream",
     "text": [
      "DQA player 2 won\n",
      "DQA player 2 won\n",
      "DQA player 1 won\n",
      "DQA player 1 won\n"
     ]
    },
    {
     "name": "stderr",
     "output_type": "stream",
     "text": [
      "\r",
      "  1%|          | 516/100000 [01:03<2:56:12,  9.41it/s]"
     ]
    },
    {
     "name": "stdout",
     "output_type": "stream",
     "text": [
      "DQA player 2 won\n",
      "DQA player 2 won\n",
      "DQA player 2 won\n",
      "DQA player 2 won\n",
      "DQA player 1 won\n"
     ]
    },
    {
     "name": "stderr",
     "output_type": "stream",
     "text": [
      "  1%|          | 520/100000 [01:03<2:40:12, 10.35it/s]"
     ]
    },
    {
     "name": "stdout",
     "output_type": "stream",
     "text": [
      "DQA player 1 won\n",
      "DQA player 1 won\n",
      "DQA player 1 won\n"
     ]
    },
    {
     "name": "stderr",
     "output_type": "stream",
     "text": [
      "\r",
      "  1%|          | 522/100000 [01:03<2:27:23, 11.25it/s]"
     ]
    },
    {
     "name": "stdout",
     "output_type": "stream",
     "text": [
      "DQA player 1 won\n",
      "DQA player 1 won\n",
      "DQA player 2 won\n",
      "DQA player 2 won\n"
     ]
    },
    {
     "name": "stderr",
     "output_type": "stream",
     "text": [
      "  1%|          | 527/100000 [01:03<2:25:54, 11.36it/s]"
     ]
    },
    {
     "name": "stdout",
     "output_type": "stream",
     "text": [
      "DQA player 2 won\n",
      "DQA player 2 won\n",
      "DQA player 1 won\n",
      "DQA player 1 won\n",
      "DQA player 1 won\n"
     ]
    },
    {
     "name": "stderr",
     "output_type": "stream",
     "text": [
      "  1%|          | 531/100000 [01:04<2:08:01, 12.95it/s]"
     ]
    },
    {
     "name": "stdout",
     "output_type": "stream",
     "text": [
      "DQA player 1 won\n",
      "DQA player 1 won\n",
      "DQA player 1 won\n",
      "DQA player 1 won\n"
     ]
    },
    {
     "name": "stderr",
     "output_type": "stream",
     "text": [
      "\r",
      "  1%|          | 533/100000 [01:04<2:16:32, 12.14it/s]"
     ]
    },
    {
     "name": "stdout",
     "output_type": "stream",
     "text": [
      "DQA player 1 won\n",
      "DQA player 1 won\n"
     ]
    },
    {
     "name": "stderr",
     "output_type": "stream",
     "text": [
      "\r",
      "  1%|          | 535/100000 [01:04<2:31:30, 10.94it/s]"
     ]
    },
    {
     "name": "stdout",
     "output_type": "stream",
     "text": [
      "DQA player 1 won\n",
      "DQA player 1 won\n"
     ]
    },
    {
     "name": "stderr",
     "output_type": "stream",
     "text": [
      "\r",
      "  1%|          | 537/100000 [01:04<2:50:31,  9.72it/s]"
     ]
    },
    {
     "name": "stdout",
     "output_type": "stream",
     "text": [
      "DQA player 2 won\n",
      "DQA player 2 won\n",
      "DQA player 2 won\n",
      "DQA player 2 won\n"
     ]
    },
    {
     "name": "stderr",
     "output_type": "stream",
     "text": [
      "\r",
      "  1%|          | 539/100000 [01:05<2:55:36,  9.44it/s]"
     ]
    },
    {
     "name": "stdout",
     "output_type": "stream",
     "text": [
      "DQA player 1 won\n",
      "DQA player 1 won\n"
     ]
    },
    {
     "name": "stderr",
     "output_type": "stream",
     "text": [
      "\r",
      "  1%|          | 540/100000 [01:05<3:15:00,  8.50it/s]"
     ]
    },
    {
     "name": "stdout",
     "output_type": "stream",
     "text": [
      "DQA player 2 won\n",
      "DQA player 2 won\n",
      "DQA player 1 won\n"
     ]
    },
    {
     "name": "stderr",
     "output_type": "stream",
     "text": [
      "  1%|          | 543/100000 [01:05<3:19:08,  8.32it/s]"
     ]
    },
    {
     "name": "stdout",
     "output_type": "stream",
     "text": [
      "DQA player 1 won\n",
      "DQA player 2 won\n",
      "DQA player 2 won\n"
     ]
    },
    {
     "name": "stderr",
     "output_type": "stream",
     "text": [
      "  1%|          | 546/100000 [01:05<2:58:59,  9.26it/s]"
     ]
    },
    {
     "name": "stdout",
     "output_type": "stream",
     "text": [
      "DQA player 1 won\n",
      "DQA player 1 won\n",
      "DQA player 1 won\n"
     ]
    },
    {
     "name": "stderr",
     "output_type": "stream",
     "text": [
      "\r",
      "  1%|          | 547/100000 [01:06<3:29:28,  7.91it/s]"
     ]
    },
    {
     "name": "stdout",
     "output_type": "stream",
     "text": [
      "DQA player 1 won\n",
      "DQA player 2 won\n",
      "DQA player 2 won\n"
     ]
    },
    {
     "name": "stderr",
     "output_type": "stream",
     "text": [
      "\r",
      "  1%|          | 549/100000 [01:06<3:41:02,  7.50it/s]"
     ]
    },
    {
     "name": "stdout",
     "output_type": "stream",
     "text": [
      "DQA player 2 won\n",
      "DQA player 2 won\n"
     ]
    },
    {
     "name": "stderr",
     "output_type": "stream",
     "text": [
      "\r",
      "  1%|          | 550/100000 [01:06<4:50:50,  5.70it/s]"
     ]
    },
    {
     "name": "stdout",
     "output_type": "stream",
     "text": [
      "DQA player 2 won\n",
      "DQA player 2 won\n"
     ]
    },
    {
     "name": "stderr",
     "output_type": "stream",
     "text": [
      "  1%|          | 552/100000 [01:07<5:12:51,  5.30it/s]"
     ]
    },
    {
     "name": "stdout",
     "output_type": "stream",
     "text": [
      "DQA player 1 won\n",
      "DQA player 2 won\n",
      "DQA player 2 won\n"
     ]
    },
    {
     "name": "stderr",
     "output_type": "stream",
     "text": [
      "  1%|          | 554/100000 [01:07<5:08:51,  5.37it/s]"
     ]
    },
    {
     "name": "stdout",
     "output_type": "stream",
     "text": [
      "DQA player 1 won\n",
      "DQA player 2 won\n",
      "DQA player 2 won\n"
     ]
    },
    {
     "name": "stderr",
     "output_type": "stream",
     "text": [
      "\r",
      "  1%|          | 555/100000 [01:07<5:22:29,  5.14it/s]"
     ]
    },
    {
     "name": "stdout",
     "output_type": "stream",
     "text": [
      "DQA player 1 won\n"
     ]
    },
    {
     "name": "stderr",
     "output_type": "stream",
     "text": [
      "\r",
      "  1%|          | 556/100000 [01:08<6:25:35,  4.30it/s]"
     ]
    },
    {
     "name": "stdout",
     "output_type": "stream",
     "text": [
      "DQA player 1 won\n"
     ]
    },
    {
     "name": "stderr",
     "output_type": "stream",
     "text": [
      "\r",
      "  1%|          | 557/100000 [01:08<9:19:36,  2.96it/s]"
     ]
    },
    {
     "name": "stdout",
     "output_type": "stream",
     "text": [
      "DQA player 2 won\n",
      "DQA player 2 won\n"
     ]
    },
    {
     "name": "stderr",
     "output_type": "stream",
     "text": [
      "\r",
      "  1%|          | 558/100000 [01:09<11:20:07,  2.44it/s]"
     ]
    },
    {
     "name": "stdout",
     "output_type": "stream",
     "text": [
      "DQA player 2 won\n",
      "DQA player 2 won\n"
     ]
    },
    {
     "name": "stderr",
     "output_type": "stream",
     "text": [
      "\r",
      "  1%|          | 559/100000 [01:09<10:26:31,  2.65it/s]"
     ]
    },
    {
     "name": "stdout",
     "output_type": "stream",
     "text": [
      "DQA player 2 won\n",
      "DQA player 2 won\n"
     ]
    },
    {
     "name": "stderr",
     "output_type": "stream",
     "text": [
      "  1%|          | 561/100000 [01:09<7:34:38,  3.65it/s] "
     ]
    },
    {
     "name": "stdout",
     "output_type": "stream",
     "text": [
      "DQA player 1 won\n",
      "DQA player 1 won\n"
     ]
    },
    {
     "name": "stderr",
     "output_type": "stream",
     "text": [
      "  1%|          | 563/100000 [01:10<5:52:30,  4.70it/s]"
     ]
    },
    {
     "name": "stdout",
     "output_type": "stream",
     "text": [
      "DQA player 2 won\n",
      "DQA player 2 won\n",
      "DQA player 1 won\n"
     ]
    },
    {
     "name": "stderr",
     "output_type": "stream",
     "text": [
      "\r",
      "  1%|          | 564/100000 [01:10<6:14:55,  4.42it/s]"
     ]
    },
    {
     "name": "stdout",
     "output_type": "stream",
     "text": [
      "DQA player 1 won\n"
     ]
    },
    {
     "name": "stderr",
     "output_type": "stream",
     "text": [
      "  1%|          | 566/100000 [01:10<5:40:36,  4.87it/s]"
     ]
    },
    {
     "name": "stdout",
     "output_type": "stream",
     "text": [
      "DQA player 1 won\n",
      "DQA player 2 won\n",
      "DQA player 2 won\n"
     ]
    },
    {
     "name": "stderr",
     "output_type": "stream",
     "text": [
      "  1%|          | 568/100000 [01:11<4:47:05,  5.77it/s]"
     ]
    },
    {
     "name": "stdout",
     "output_type": "stream",
     "text": [
      "DQA player 1 won\n",
      "DQA player 1 won\n"
     ]
    },
    {
     "name": "stderr",
     "output_type": "stream",
     "text": [
      "\r",
      "  1%|          | 569/100000 [01:11<4:32:48,  6.07it/s]"
     ]
    },
    {
     "name": "stdout",
     "output_type": "stream",
     "text": [
      "DQA player 2 won\n",
      "DQA player 2 won\n"
     ]
    },
    {
     "name": "stderr",
     "output_type": "stream",
     "text": [
      "\r",
      "  1%|          | 570/100000 [01:11<5:16:20,  5.24it/s]"
     ]
    },
    {
     "name": "stdout",
     "output_type": "stream",
     "text": [
      "DQA player 1 won\n"
     ]
    },
    {
     "name": "stderr",
     "output_type": "stream",
     "text": [
      "\r",
      "  1%|          | 571/100000 [01:11<7:34:55,  3.64it/s]"
     ]
    },
    {
     "name": "stdout",
     "output_type": "stream",
     "text": [
      "DQA player 2 won\n",
      "DQA player 2 won\n"
     ]
    },
    {
     "name": "stderr",
     "output_type": "stream",
     "text": [
      "\r",
      "  1%|          | 572/100000 [01:12<9:28:58,  2.91it/s]"
     ]
    },
    {
     "name": "stdout",
     "output_type": "stream",
     "text": [
      "DQA player 2 won\n",
      "DQA player 2 won\n"
     ]
    },
    {
     "name": "stderr",
     "output_type": "stream",
     "text": [
      "  1%|          | 574/100000 [01:12<6:54:17,  4.00it/s]"
     ]
    },
    {
     "name": "stdout",
     "output_type": "stream",
     "text": [
      "DQA player 2 won\n",
      "DQA player 2 won\n",
      "DQA player 2 won\n",
      "DQA player 2 won\n"
     ]
    },
    {
     "name": "stderr",
     "output_type": "stream",
     "text": [
      "\r",
      "  1%|          | 575/100000 [01:12<5:57:46,  4.63it/s]"
     ]
    },
    {
     "name": "stdout",
     "output_type": "stream",
     "text": [
      "DQA player 1 won\n",
      "DQA player 2 won\n"
     ]
    },
    {
     "name": "stderr",
     "output_type": "stream",
     "text": [
      "\r",
      "  1%|          | 576/100000 [01:13<5:53:04,  4.69it/s]"
     ]
    },
    {
     "name": "stdout",
     "output_type": "stream",
     "text": [
      "DQA player 2 won\n",
      "DQA player 2 won\n"
     ]
    },
    {
     "name": "stderr",
     "output_type": "stream",
     "text": [
      "\r",
      "  1%|          | 577/100000 [01:13<9:06:56,  3.03it/s]"
     ]
    },
    {
     "name": "stdout",
     "output_type": "stream",
     "text": [
      "DQA player 2 won\n"
     ]
    },
    {
     "name": "stderr",
     "output_type": "stream",
     "text": [
      "  1%|          | 579/100000 [01:14<8:40:29,  3.18it/s] "
     ]
    },
    {
     "name": "stdout",
     "output_type": "stream",
     "text": [
      "DQA player 1 won\n",
      "DQA player 1 won\n"
     ]
    },
    {
     "name": "stderr",
     "output_type": "stream",
     "text": [
      "  1%|          | 582/100000 [01:14<5:47:23,  4.77it/s]"
     ]
    },
    {
     "name": "stdout",
     "output_type": "stream",
     "text": [
      "DQA player 2 won\n",
      "DQA player 2 won\n",
      "DQA player 2 won\n",
      "DQA player 2 won\n",
      "DQA player 1 won\n"
     ]
    },
    {
     "name": "stderr",
     "output_type": "stream",
     "text": [
      "\r",
      "  1%|          | 584/100000 [01:14<4:46:56,  5.77it/s]"
     ]
    },
    {
     "name": "stdout",
     "output_type": "stream",
     "text": [
      "DQA player 1 won\n",
      "DQA player 1 won\n",
      "DQA player 1 won\n"
     ]
    },
    {
     "name": "stderr",
     "output_type": "stream",
     "text": [
      "  1%|          | 587/100000 [01:15<4:27:03,  6.20it/s]"
     ]
    },
    {
     "name": "stdout",
     "output_type": "stream",
     "text": [
      "DQA player 1 won\n",
      "DQA player 1 won\n"
     ]
    },
    {
     "name": "stderr",
     "output_type": "stream",
     "text": [
      "\r",
      "  1%|          | 588/100000 [01:15<5:29:05,  5.03it/s]"
     ]
    },
    {
     "name": "stdout",
     "output_type": "stream",
     "text": [
      "DQA player 1 won\n"
     ]
    },
    {
     "name": "stderr",
     "output_type": "stream",
     "text": [
      "  1%|          | 590/100000 [01:16<5:48:23,  4.76it/s]"
     ]
    },
    {
     "name": "stdout",
     "output_type": "stream",
     "text": [
      "DQA player 1 won\n",
      "DQA player 1 won\n"
     ]
    },
    {
     "name": "stderr",
     "output_type": "stream",
     "text": [
      "\r",
      "  1%|          | 591/100000 [01:16<6:07:27,  4.51it/s]"
     ]
    },
    {
     "name": "stdout",
     "output_type": "stream",
     "text": [
      "DQA player 1 won\n"
     ]
    },
    {
     "name": "stderr",
     "output_type": "stream",
     "text": [
      "  1%|          | 593/100000 [01:16<5:51:22,  4.72it/s]"
     ]
    },
    {
     "name": "stdout",
     "output_type": "stream",
     "text": [
      "DQA player 1 won\n",
      "DQA player 1 won\n"
     ]
    },
    {
     "name": "stderr",
     "output_type": "stream",
     "text": [
      "\r",
      "  1%|          | 594/100000 [01:17<6:08:09,  4.50it/s]"
     ]
    },
    {
     "name": "stdout",
     "output_type": "stream",
     "text": [
      "DQA player 1 won\n"
     ]
    },
    {
     "name": "stderr",
     "output_type": "stream",
     "text": [
      "\r",
      "  1%|          | 595/100000 [01:17<6:04:48,  4.54it/s]"
     ]
    },
    {
     "name": "stdout",
     "output_type": "stream",
     "text": [
      "DQA player 1 won\n"
     ]
    },
    {
     "name": "stderr",
     "output_type": "stream",
     "text": [
      "  1%|          | 597/100000 [01:17<5:23:56,  5.11it/s]"
     ]
    },
    {
     "name": "stdout",
     "output_type": "stream",
     "text": [
      "DQA player 1 won\n",
      "DQA player 1 won\n",
      "DQA player 1 won\n"
     ]
    },
    {
     "name": "stderr",
     "output_type": "stream",
     "text": [
      "  1%|          | 601/100000 [01:17<3:32:29,  7.80it/s]"
     ]
    },
    {
     "name": "stdout",
     "output_type": "stream",
     "text": [
      "DQA player 1 won\n",
      "DQA player 1 won\n",
      "DQA player 1 won\n",
      "DQA player 2 won\n",
      "DQA player 2 won\n"
     ]
    },
    {
     "name": "stderr",
     "output_type": "stream",
     "text": [
      "  1%|          | 605/100000 [01:18<2:40:59, 10.29it/s]"
     ]
    },
    {
     "name": "stdout",
     "output_type": "stream",
     "text": [
      "DQA player 1 won\n",
      "DQA player 1 won\n",
      "DQA player 2 won\n",
      "DQA player 2 won\n",
      "DQA player 2 won\n"
     ]
    },
    {
     "name": "stderr",
     "output_type": "stream",
     "text": [
      "\r",
      "  1%|          | 607/100000 [01:18<2:25:10, 11.41it/s]"
     ]
    },
    {
     "name": "stdout",
     "output_type": "stream",
     "text": [
      "DQA player 2 won\n",
      "DQA player 1 won\n",
      "DQA player 2 won\n",
      "DQA player 2 won\n",
      "DQA player 1 won\n",
      "DQA player 1 won\n"
     ]
    },
    {
     "name": "stderr",
     "output_type": "stream",
     "text": [
      "  1%|          | 615/100000 [01:18<1:43:36, 15.99it/s]"
     ]
    },
    {
     "name": "stdout",
     "output_type": "stream",
     "text": [
      "DQA player 1 won\n",
      "DQA player 1 won\n",
      "DQA player 1 won\n",
      "DQA player 1 won\n",
      "DQA player 1 won\n"
     ]
    },
    {
     "name": "stderr",
     "output_type": "stream",
     "text": [
      "\r",
      "  1%|          | 617/100000 [01:19<2:36:23, 10.59it/s]"
     ]
    },
    {
     "name": "stdout",
     "output_type": "stream",
     "text": [
      "DQA player 2 won\n",
      "DQA player 2 won\n",
      "DQA player 1 won\n",
      "DQA player 1 won\n",
      "DQA player 2 won\n"
     ]
    },
    {
     "name": "stderr",
     "output_type": "stream",
     "text": [
      "  1%|          | 621/100000 [01:19<2:29:16, 11.10it/s]"
     ]
    },
    {
     "name": "stdout",
     "output_type": "stream",
     "text": [
      "DQA player 2 won\n",
      "DQA player 1 won\n",
      "DQA player 1 won\n"
     ]
    },
    {
     "name": "stderr",
     "output_type": "stream",
     "text": [
      "\r",
      "  1%|          | 623/100000 [01:19<2:18:42, 11.94it/s]"
     ]
    },
    {
     "name": "stdout",
     "output_type": "stream",
     "text": [
      "DQA player 1 won\n",
      "DQA player 1 won\n",
      "DQA player 1 won\n"
     ]
    },
    {
     "name": "stderr",
     "output_type": "stream",
     "text": [
      "  1%|          | 627/100000 [01:19<2:39:48, 10.36it/s]"
     ]
    },
    {
     "name": "stdout",
     "output_type": "stream",
     "text": [
      "DQA player 1 won\n",
      "DQA player 1 won\n",
      "DQA player 1 won\n"
     ]
    },
    {
     "name": "stderr",
     "output_type": "stream",
     "text": [
      "\r",
      "  1%|          | 629/100000 [01:20<2:42:12, 10.21it/s]"
     ]
    },
    {
     "name": "stdout",
     "output_type": "stream",
     "text": [
      "DQA player 2 won\n",
      "DQA player 2 won\n",
      "DQA player 1 won\n"
     ]
    },
    {
     "name": "stderr",
     "output_type": "stream",
     "text": [
      "\r",
      "  1%|          | 631/100000 [01:20<3:22:38,  8.17it/s]"
     ]
    },
    {
     "name": "stdout",
     "output_type": "stream",
     "text": [
      "DQA player 2 won\n",
      "DQA player 2 won\n",
      "DQA player 1 won\n"
     ]
    },
    {
     "name": "stderr",
     "output_type": "stream",
     "text": [
      "\r",
      "  1%|          | 632/100000 [01:20<4:22:18,  6.31it/s]"
     ]
    },
    {
     "name": "stdout",
     "output_type": "stream",
     "text": [
      "DQA player 2 won\n",
      "DQA player 2 won\n"
     ]
    },
    {
     "name": "stderr",
     "output_type": "stream",
     "text": [
      "\r",
      "  1%|          | 633/100000 [01:21<7:48:04,  3.54it/s]"
     ]
    },
    {
     "name": "stdout",
     "output_type": "stream",
     "text": [
      "DQA player 1 won\n"
     ]
    },
    {
     "name": "stderr",
     "output_type": "stream",
     "text": [
      "\r",
      "  1%|          | 634/100000 [01:22<11:32:06,  2.39it/s]"
     ]
    },
    {
     "name": "stdout",
     "output_type": "stream",
     "text": [
      "DQA player 1 won\n"
     ]
    },
    {
     "name": "stderr",
     "output_type": "stream",
     "text": [
      "\r",
      "  1%|          | 635/100000 [01:22<10:01:14,  2.75it/s]"
     ]
    },
    {
     "name": "stdout",
     "output_type": "stream",
     "text": [
      "DQA player 1 won\n"
     ]
    },
    {
     "name": "stderr",
     "output_type": "stream",
     "text": [
      "  1%|          | 637/100000 [01:22<7:59:34,  3.45it/s] "
     ]
    },
    {
     "name": "stdout",
     "output_type": "stream",
     "text": [
      "DQA player 1 won\n",
      "DQA player 1 won\n"
     ]
    },
    {
     "name": "stderr",
     "output_type": "stream",
     "text": [
      "  1%|          | 639/100000 [01:23<6:53:17,  4.01it/s]"
     ]
    },
    {
     "name": "stdout",
     "output_type": "stream",
     "text": [
      "DQA player 2 won\n",
      "DQA player 2 won\n",
      "DQA player 1 won\n"
     ]
    },
    {
     "name": "stderr",
     "output_type": "stream",
     "text": [
      "\r",
      "  1%|          | 640/100000 [01:23<7:23:23,  3.73it/s]"
     ]
    },
    {
     "name": "stdout",
     "output_type": "stream",
     "text": [
      "DQA player 1 won\n"
     ]
    },
    {
     "name": "stderr",
     "output_type": "stream",
     "text": [
      "\r",
      "  1%|          | 641/100000 [01:23<7:32:16,  3.66it/s]"
     ]
    },
    {
     "name": "stdout",
     "output_type": "stream",
     "text": [
      "DQA player 1 won\n"
     ]
    },
    {
     "name": "stderr",
     "output_type": "stream",
     "text": [
      "\r",
      "  1%|          | 642/100000 [01:24<9:07:09,  3.03it/s]"
     ]
    },
    {
     "name": "stdout",
     "output_type": "stream",
     "text": [
      "DQA player 1 won\n",
      "DQA player 1 won\n",
      "DQA player 1 won\n"
     ]
    },
    {
     "name": "stderr",
     "output_type": "stream",
     "text": [
      "  1%|          | 646/100000 [01:24<5:29:43,  5.02it/s]"
     ]
    },
    {
     "name": "stdout",
     "output_type": "stream",
     "text": [
      "DQA player 1 won\n",
      "DQA player 1 won\n",
      "DQA player 1 won\n"
     ]
    },
    {
     "name": "stderr",
     "output_type": "stream",
     "text": [
      "\r",
      "  1%|          | 648/100000 [01:24<4:34:31,  6.03it/s]"
     ]
    },
    {
     "name": "stdout",
     "output_type": "stream",
     "text": [
      "DQA player 1 won\n",
      "DQA player 1 won\n"
     ]
    },
    {
     "name": "stderr",
     "output_type": "stream",
     "text": [
      "\r",
      "  1%|          | 650/100000 [01:25<4:27:09,  6.20it/s]"
     ]
    },
    {
     "name": "stdout",
     "output_type": "stream",
     "text": [
      "DQA player 2 won\n",
      "DQA player 2 won\n"
     ]
    },
    {
     "name": "stderr",
     "output_type": "stream",
     "text": [
      "\r",
      "  1%|          | 651/100000 [01:25<5:43:24,  4.82it/s]"
     ]
    },
    {
     "name": "stdout",
     "output_type": "stream",
     "text": [
      "DQA player 1 won\n",
      "DQA player 1 won\n",
      "DQA player 2 won\n"
     ]
    },
    {
     "name": "stderr",
     "output_type": "stream",
     "text": [
      "  1%|          | 654/100000 [01:25<4:25:32,  6.24it/s]"
     ]
    },
    {
     "name": "stdout",
     "output_type": "stream",
     "text": [
      "DQA player 2 won\n",
      "DQA player 2 won\n",
      "DQA player 2 won\n"
     ]
    },
    {
     "name": "stderr",
     "output_type": "stream",
     "text": [
      "  1%|          | 657/100000 [01:26<4:05:17,  6.75it/s]"
     ]
    },
    {
     "name": "stdout",
     "output_type": "stream",
     "text": [
      "DQA player 2 won\n",
      "DQA player 2 won\n",
      "DQA player 1 won\n",
      "DQA player 1 won\n",
      "DQA player 1 won\n"
     ]
    },
    {
     "name": "stderr",
     "output_type": "stream",
     "text": [
      "\r",
      "  1%|          | 659/100000 [01:26<3:21:59,  8.20it/s]"
     ]
    },
    {
     "name": "stdout",
     "output_type": "stream",
     "text": [
      "DQA player 2 won\n",
      "DQA player 2 won\n",
      "DQA player 1 won\n",
      "DQA player 2 won\n"
     ]
    },
    {
     "name": "stderr",
     "output_type": "stream",
     "text": [
      "  1%|          | 663/100000 [01:26<2:56:41,  9.37it/s]"
     ]
    },
    {
     "name": "stdout",
     "output_type": "stream",
     "text": [
      "DQA player 2 won\n",
      "DQA player 1 won\n",
      "DQA player 1 won\n"
     ]
    },
    {
     "name": "stderr",
     "output_type": "stream",
     "text": [
      "\r",
      "  1%|          | 665/100000 [01:27<3:59:04,  6.92it/s]"
     ]
    },
    {
     "name": "stdout",
     "output_type": "stream",
     "text": [
      "DQA player 2 won\n",
      "DQA player 2 won\n",
      "DQA player 2 won\n",
      "DQA player 2 won\n"
     ]
    },
    {
     "name": "stderr",
     "output_type": "stream",
     "text": [
      "\r",
      "  1%|          | 666/100000 [01:27<4:35:31,  6.01it/s]"
     ]
    },
    {
     "name": "stdout",
     "output_type": "stream",
     "text": [
      "DQA player 2 won\n",
      "DQA player 2 won\n"
     ]
    },
    {
     "name": "stderr",
     "output_type": "stream",
     "text": [
      "\r",
      "  1%|          | 667/100000 [01:27<4:51:30,  5.68it/s]"
     ]
    },
    {
     "name": "stdout",
     "output_type": "stream",
     "text": [
      "DQA player 1 won\n"
     ]
    },
    {
     "name": "stderr",
     "output_type": "stream",
     "text": [
      "  1%|          | 669/100000 [01:27<5:06:00,  5.41it/s]"
     ]
    },
    {
     "name": "stdout",
     "output_type": "stream",
     "text": [
      "DQA player 1 won\n",
      "DQA player 2 won\n",
      "DQA player 2 won\n"
     ]
    },
    {
     "name": "stderr",
     "output_type": "stream",
     "text": [
      "\r",
      "  1%|          | 670/100000 [01:28<6:23:36,  4.32it/s]"
     ]
    },
    {
     "name": "stdout",
     "output_type": "stream",
     "text": [
      "DQA player 2 won\n",
      "DQA player 2 won\n",
      "DQA player 1 won\n"
     ]
    },
    {
     "name": "stderr",
     "output_type": "stream",
     "text": [
      "\r",
      "  1%|          | 672/100000 [01:28<5:32:46,  4.97it/s]"
     ]
    },
    {
     "name": "stdout",
     "output_type": "stream",
     "text": [
      "DQA player 2 won\n",
      "DQA player 2 won\n",
      "DQA player 1 won\n"
     ]
    },
    {
     "name": "stderr",
     "output_type": "stream",
     "text": [
      "  1%|          | 675/100000 [01:28<4:32:25,  6.08it/s]"
     ]
    },
    {
     "name": "stdout",
     "output_type": "stream",
     "text": [
      "DQA player 1 won\n",
      "DQA player 1 won\n"
     ]
    },
    {
     "name": "stderr",
     "output_type": "stream",
     "text": [
      "\r",
      "  1%|          | 676/100000 [01:29<5:03:34,  5.45it/s]"
     ]
    },
    {
     "name": "stdout",
     "output_type": "stream",
     "text": [
      "DQA player 1 won\n"
     ]
    },
    {
     "name": "stderr",
     "output_type": "stream",
     "text": [
      "  1%|          | 678/100000 [01:29<5:09:53,  5.34it/s]"
     ]
    },
    {
     "name": "stdout",
     "output_type": "stream",
     "text": [
      "DQA player 1 won\n",
      "DQA player 1 won\n"
     ]
    },
    {
     "name": "stderr",
     "output_type": "stream",
     "text": [
      "  1%|          | 680/100000 [01:29<5:45:45,  4.79it/s]"
     ]
    },
    {
     "name": "stdout",
     "output_type": "stream",
     "text": [
      "DQA player 2 won\n",
      "DQA player 2 won\n",
      "DQA player 1 won\n"
     ]
    },
    {
     "name": "stderr",
     "output_type": "stream",
     "text": [
      "\r",
      "  1%|          | 681/100000 [01:30<4:52:32,  5.66it/s]"
     ]
    },
    {
     "name": "stdout",
     "output_type": "stream",
     "text": [
      "DQA player 1 won\n",
      "DQA player 1 won\n"
     ]
    },
    {
     "name": "stderr",
     "output_type": "stream",
     "text": [
      "  1%|          | 684/100000 [01:30<3:53:41,  7.08it/s]"
     ]
    },
    {
     "name": "stdout",
     "output_type": "stream",
     "text": [
      "DQA player 1 won\n",
      "DQA player 1 won\n"
     ]
    },
    {
     "name": "stderr",
     "output_type": "stream",
     "text": [
      "  1%|          | 686/100000 [01:30<4:21:15,  6.34it/s]"
     ]
    },
    {
     "name": "stdout",
     "output_type": "stream",
     "text": [
      "DQA player 1 won\n",
      "DQA player 1 won\n"
     ]
    },
    {
     "name": "stderr",
     "output_type": "stream",
     "text": [
      "\r",
      "  1%|          | 687/100000 [01:30<4:41:40,  5.88it/s]"
     ]
    },
    {
     "name": "stdout",
     "output_type": "stream",
     "text": [
      "DQA player 1 won\n",
      "DQA player 1 won\n"
     ]
    },
    {
     "name": "stderr",
     "output_type": "stream",
     "text": [
      "  1%|          | 691/100000 [01:31<3:56:36,  7.00it/s]"
     ]
    },
    {
     "name": "stdout",
     "output_type": "stream",
     "text": [
      "DQA player 2 won\n",
      "DQA player 2 won\n",
      "DQA player 2 won\n",
      "DQA player 2 won\n",
      "DQA player 2 won\n",
      "DQA player 2 won\n"
     ]
    },
    {
     "name": "stderr",
     "output_type": "stream",
     "text": [
      "\r",
      "  1%|          | 693/100000 [01:31<3:11:45,  8.63it/s]"
     ]
    },
    {
     "name": "stdout",
     "output_type": "stream",
     "text": [
      "DQA player 1 won\n",
      "DQA player 1 won\n",
      "DQA player 1 won\n"
     ]
    },
    {
     "name": "stderr",
     "output_type": "stream",
     "text": [
      "\r",
      "  1%|          | 695/100000 [01:31<3:10:59,  8.67it/s]"
     ]
    },
    {
     "name": "stdout",
     "output_type": "stream",
     "text": [
      "DQA player 1 won\n"
     ]
    },
    {
     "name": "stderr",
     "output_type": "stream",
     "text": [
      "\r",
      "  1%|          | 697/100000 [01:32<3:44:34,  7.37it/s]"
     ]
    },
    {
     "name": "stdout",
     "output_type": "stream",
     "text": [
      "DQA player 1 won\n",
      "DQA player 1 won\n"
     ]
    },
    {
     "name": "stderr",
     "output_type": "stream",
     "text": [
      "  1%|          | 699/100000 [01:32<5:52:02,  4.70it/s]"
     ]
    },
    {
     "name": "stdout",
     "output_type": "stream",
     "text": [
      "DQA player 2 won\n",
      "DQA player 2 won\n",
      "DQA player 1 won\n"
     ]
    },
    {
     "name": "stderr",
     "output_type": "stream",
     "text": [
      "\r",
      "  1%|          | 700/100000 [01:33<6:29:50,  4.25it/s]"
     ]
    },
    {
     "name": "stdout",
     "output_type": "stream",
     "text": [
      "DQA player 1 won\n",
      "DQA player 2 won\n",
      "DQA player 2 won\n"
     ]
    },
    {
     "name": "stderr",
     "output_type": "stream",
     "text": [
      "\r",
      "  1%|          | 702/100000 [01:33<5:27:32,  5.05it/s]"
     ]
    },
    {
     "name": "stdout",
     "output_type": "stream",
     "text": [
      "DQA player 1 won\n",
      "DQA player 2 won\n"
     ]
    },
    {
     "name": "stderr",
     "output_type": "stream",
     "text": [
      "  1%|          | 704/100000 [01:33<4:54:59,  5.61it/s]"
     ]
    },
    {
     "name": "stdout",
     "output_type": "stream",
     "text": [
      "DQA player 2 won\n",
      "DQA player 2 won\n",
      "DQA player 2 won\n"
     ]
    },
    {
     "name": "stderr",
     "output_type": "stream",
     "text": [
      "\r",
      "  1%|          | 705/100000 [01:33<5:34:28,  4.95it/s]"
     ]
    },
    {
     "name": "stdout",
     "output_type": "stream",
     "text": [
      "DQA player 1 won\n"
     ]
    },
    {
     "name": "stderr",
     "output_type": "stream",
     "text": [
      "\r",
      "  1%|          | 706/100000 [01:34<6:40:11,  4.14it/s]"
     ]
    },
    {
     "name": "stdout",
     "output_type": "stream",
     "text": [
      "DQA player 2 won\n",
      "DQA player 2 won\n"
     ]
    },
    {
     "name": "stderr",
     "output_type": "stream",
     "text": [
      "\r",
      "  1%|          | 707/100000 [01:34<7:07:20,  3.87it/s]"
     ]
    },
    {
     "name": "stdout",
     "output_type": "stream",
     "text": [
      "DQA player 1 won\n"
     ]
    },
    {
     "name": "stderr",
     "output_type": "stream",
     "text": [
      "\r",
      "  1%|          | 708/100000 [01:35<16:22:58,  1.68it/s]"
     ]
    },
    {
     "name": "stdout",
     "output_type": "stream",
     "text": [
      "DQA player 2 won\n",
      "DQA player 2 won\n"
     ]
    },
    {
     "name": "stderr",
     "output_type": "stream",
     "text": [
      "  1%|          | 710/100000 [01:36<11:55:22,  2.31it/s]"
     ]
    },
    {
     "name": "stdout",
     "output_type": "stream",
     "text": [
      "DQA player 1 won\n",
      "DQA player 2 won\n",
      "DQA player 2 won\n"
     ]
    },
    {
     "name": "stderr",
     "output_type": "stream",
     "text": [
      "  1%|          | 712/100000 [01:36<7:56:55,  3.47it/s] "
     ]
    },
    {
     "name": "stdout",
     "output_type": "stream",
     "text": [
      "DQA player 1 won\n",
      "DQA player 2 won\n",
      "DQA player 2 won\n"
     ]
    },
    {
     "name": "stderr",
     "output_type": "stream",
     "text": [
      "  1%|          | 714/100000 [01:37<6:23:52,  4.31it/s]"
     ]
    },
    {
     "name": "stdout",
     "output_type": "stream",
     "text": [
      "DQA player 1 won\n",
      "DQA player 1 won\n"
     ]
    },
    {
     "name": "stderr",
     "output_type": "stream",
     "text": [
      "  1%|          | 716/100000 [01:37<5:41:40,  4.84it/s]"
     ]
    },
    {
     "name": "stdout",
     "output_type": "stream",
     "text": [
      "DQA player 1 won\n",
      "DQA player 2 won\n",
      "DQA player 2 won\n"
     ]
    },
    {
     "name": "stderr",
     "output_type": "stream",
     "text": [
      "\r",
      "  1%|          | 717/100000 [01:37<5:45:36,  4.79it/s]"
     ]
    },
    {
     "name": "stdout",
     "output_type": "stream",
     "text": [
      "DQA player 1 won\n"
     ]
    },
    {
     "name": "stderr",
     "output_type": "stream",
     "text": [
      "  1%|          | 719/100000 [01:38<5:12:20,  5.30it/s]"
     ]
    },
    {
     "name": "stdout",
     "output_type": "stream",
     "text": [
      "DQA player 1 won\n",
      "DQA player 1 won\n"
     ]
    },
    {
     "name": "stderr",
     "output_type": "stream",
     "text": [
      "  1%|          | 721/100000 [01:38<4:29:53,  6.13it/s]"
     ]
    },
    {
     "name": "stdout",
     "output_type": "stream",
     "text": [
      "DQA player 2 won\n",
      "DQA player 2 won\n",
      "DQA player 2 won\n",
      "DQA player 2 won\n"
     ]
    },
    {
     "name": "stderr",
     "output_type": "stream",
     "text": [
      "\r",
      "  1%|          | 723/100000 [01:38<3:45:45,  7.33it/s]"
     ]
    },
    {
     "name": "stdout",
     "output_type": "stream",
     "text": [
      "DQA player 2 won\n",
      "DQA player 2 won\n",
      "DQA player 2 won\n",
      "DQA player 2 won\n",
      "DQA player 1 won\n"
     ]
    },
    {
     "name": "stderr",
     "output_type": "stream",
     "text": [
      "  1%|          | 727/100000 [01:38<3:06:23,  8.88it/s]"
     ]
    },
    {
     "name": "stdout",
     "output_type": "stream",
     "text": [
      "DQA player 2 won\n",
      "DQA player 2 won\n",
      "DQA player 2 won\n",
      "DQA player 2 won\n",
      "DQA player 2 won\n",
      "DQA player 2 won\n"
     ]
    },
    {
     "name": "stderr",
     "output_type": "stream",
     "text": [
      "  1%|          | 729/100000 [01:39<3:21:45,  8.20it/s]"
     ]
    },
    {
     "name": "stdout",
     "output_type": "stream",
     "text": [
      "DQA player 1 won\n",
      "DQA player 1 won\n"
     ]
    },
    {
     "name": "stderr",
     "output_type": "stream",
     "text": [
      "  1%|          | 732/100000 [01:39<3:14:15,  8.52it/s]"
     ]
    },
    {
     "name": "stdout",
     "output_type": "stream",
     "text": [
      "DQA player 1 won\n",
      "DQA player 1 won\n",
      "DQA player 2 won\n",
      "DQA player 2 won\n"
     ]
    },
    {
     "name": "stderr",
     "output_type": "stream",
     "text": [
      "  1%|          | 736/100000 [01:39<2:27:49, 11.19it/s]"
     ]
    },
    {
     "name": "stdout",
     "output_type": "stream",
     "text": [
      "DQA player 2 won\n",
      "DQA player 2 won\n",
      "DQA player 1 won\n",
      "DQA player 1 won\n",
      "DQA player 1 won\n"
     ]
    },
    {
     "name": "stderr",
     "output_type": "stream",
     "text": [
      "  1%|          | 740/100000 [01:39<2:02:49, 13.47it/s]"
     ]
    },
    {
     "name": "stdout",
     "output_type": "stream",
     "text": [
      "DQA player 1 won\n",
      "DQA player 1 won\n",
      "DQA player 1 won\n",
      "DQA player 1 won\n"
     ]
    },
    {
     "name": "stderr",
     "output_type": "stream",
     "text": [
      "  1%|          | 744/100000 [01:40<1:48:10, 15.29it/s]"
     ]
    },
    {
     "name": "stdout",
     "output_type": "stream",
     "text": [
      "DQA player 1 won\n",
      "DQA player 1 won\n",
      "DQA player 2 won\n",
      "DQA player 2 won\n",
      "DQA player 1 won\n"
     ]
    },
    {
     "name": "stderr",
     "output_type": "stream",
     "text": [
      "\r",
      "  1%|          | 746/100000 [01:40<1:46:38, 15.51it/s]"
     ]
    },
    {
     "name": "stdout",
     "output_type": "stream",
     "text": [
      "DQA player 1 won\n",
      "DQA player 1 won\n",
      "DQA player 1 won\n"
     ]
    },
    {
     "name": "stderr",
     "output_type": "stream",
     "text": [
      "  1%|          | 750/100000 [01:40<2:13:29, 12.39it/s]"
     ]
    },
    {
     "name": "stdout",
     "output_type": "stream",
     "text": [
      "DQA player 1 won\n",
      "DQA player 2 won\n",
      "DQA player 2 won\n",
      "DQA player 1 won\n"
     ]
    },
    {
     "name": "stderr",
     "output_type": "stream",
     "text": [
      "\r",
      "  1%|          | 752/100000 [01:41<2:43:28, 10.12it/s]"
     ]
    },
    {
     "name": "stdout",
     "output_type": "stream",
     "text": [
      "DQA player 1 won\n",
      "DQA player 2 won\n",
      "DQA player 2 won\n"
     ]
    },
    {
     "name": "stderr",
     "output_type": "stream",
     "text": [
      "\r",
      "  1%|          | 754/100000 [01:41<2:32:11, 10.87it/s]"
     ]
    },
    {
     "name": "stdout",
     "output_type": "stream",
     "text": [
      "DQA player 1 won\n",
      "DQA player 1 won\n",
      "DQA player 1 won\n"
     ]
    },
    {
     "name": "stderr",
     "output_type": "stream",
     "text": [
      "  1%|          | 758/100000 [01:41<2:16:48, 12.09it/s]"
     ]
    },
    {
     "name": "stdout",
     "output_type": "stream",
     "text": [
      "DQA player 2 won\n",
      "DQA player 2 won\n",
      "DQA player 1 won\n",
      "DQA player 1 won\n",
      "DQA player 2 won\n",
      "DQA player 2 won\n"
     ]
    },
    {
     "name": "stderr",
     "output_type": "stream",
     "text": [
      "  1%|          | 762/100000 [01:41<1:50:31, 14.97it/s]"
     ]
    },
    {
     "name": "stdout",
     "output_type": "stream",
     "text": [
      "DQA player 2 won\n",
      "DQA player 2 won\n",
      "DQA player 2 won\n",
      "DQA player 2 won\n",
      "DQA player 1 won\n",
      "DQA player 1 won\n"
     ]
    },
    {
     "name": "stderr",
     "output_type": "stream",
     "text": [
      "  1%|          | 766/100000 [01:41<2:02:03, 13.55it/s]"
     ]
    },
    {
     "name": "stdout",
     "output_type": "stream",
     "text": [
      "DQA player 1 won\n",
      "DQA player 1 won\n",
      "DQA player 2 won\n",
      "DQA player 2 won\n"
     ]
    },
    {
     "name": "stderr",
     "output_type": "stream",
     "text": [
      "\r",
      "  1%|          | 768/100000 [01:42<1:55:45, 14.29it/s]"
     ]
    },
    {
     "name": "stdout",
     "output_type": "stream",
     "text": [
      "DQA player 2 won\n",
      "DQA player 2 won\n",
      "DQA player 2 won\n",
      "DQA player 2 won\n",
      "DQA player 1 won\n"
     ]
    },
    {
     "name": "stderr",
     "output_type": "stream",
     "text": [
      "  1%|          | 772/100000 [01:42<1:57:33, 14.07it/s]"
     ]
    },
    {
     "name": "stdout",
     "output_type": "stream",
     "text": [
      "DQA player 1 won\n",
      "DQA player 1 won\n",
      "DQA player 1 won\n",
      "DQA player 2 won\n"
     ]
    },
    {
     "name": "stderr",
     "output_type": "stream",
     "text": [
      "  1%|          | 776/100000 [01:42<1:47:37, 15.37it/s]"
     ]
    },
    {
     "name": "stdout",
     "output_type": "stream",
     "text": [
      "DQA player 2 won\n",
      "DQA player 1 won\n",
      "DQA player 1 won\n",
      "DQA player 1 won\n"
     ]
    },
    {
     "name": "stderr",
     "output_type": "stream",
     "text": [
      "\r",
      "  1%|          | 778/100000 [01:42<1:56:30, 14.19it/s]"
     ]
    },
    {
     "name": "stdout",
     "output_type": "stream",
     "text": [
      "DQA player 1 won\n",
      "DQA player 1 won\n",
      "DQA player 1 won\n"
     ]
    },
    {
     "name": "stderr",
     "output_type": "stream",
     "text": [
      "  1%|          | 782/100000 [01:43<1:52:26, 14.71it/s]"
     ]
    },
    {
     "name": "stdout",
     "output_type": "stream",
     "text": [
      "DQA player 1 won\n",
      "DQA player 1 won\n",
      "DQA player 1 won\n"
     ]
    },
    {
     "name": "stderr",
     "output_type": "stream",
     "text": [
      "\r",
      "  1%|          | 784/100000 [01:43<2:21:18, 11.70it/s]"
     ]
    },
    {
     "name": "stdout",
     "output_type": "stream",
     "text": [
      "DQA player 2 won\n",
      "DQA player 2 won\n",
      "DQA player 1 won\n",
      "DQA player 1 won\n"
     ]
    },
    {
     "name": "stderr",
     "output_type": "stream",
     "text": [
      "  1%|          | 788/100000 [01:43<2:21:39, 11.67it/s]"
     ]
    },
    {
     "name": "stdout",
     "output_type": "stream",
     "text": [
      "DQA player 2 won\n",
      "DQA player 2 won\n",
      "DQA player 1 won\n",
      "DQA player 1 won\n"
     ]
    },
    {
     "name": "stderr",
     "output_type": "stream",
     "text": [
      "\r",
      "  1%|          | 790/100000 [01:43<2:30:55, 10.96it/s]"
     ]
    },
    {
     "name": "stdout",
     "output_type": "stream",
     "text": [
      "DQA player 1 won\n",
      "DQA player 1 won\n",
      "DQA player 1 won\n",
      "DQA player 2 won\n"
     ]
    },
    {
     "name": "stderr",
     "output_type": "stream",
     "text": [
      "  1%|          | 794/100000 [01:44<2:11:39, 12.56it/s]"
     ]
    },
    {
     "name": "stdout",
     "output_type": "stream",
     "text": [
      "DQA player 2 won\n",
      "DQA player 1 won\n",
      "DQA player 1 won\n"
     ]
    },
    {
     "name": "stderr",
     "output_type": "stream",
     "text": [
      "\r",
      "  1%|          | 796/100000 [01:44<2:14:56, 12.25it/s]"
     ]
    },
    {
     "name": "stdout",
     "output_type": "stream",
     "text": [
      "DQA player 2 won\n",
      "DQA player 2 won\n",
      "DQA player 2 won\n",
      "DQA player 2 won\n",
      "DQA player 1 won\n"
     ]
    },
    {
     "name": "stderr",
     "output_type": "stream",
     "text": [
      "  1%|          | 800/100000 [01:44<2:11:23, 12.58it/s]"
     ]
    },
    {
     "name": "stdout",
     "output_type": "stream",
     "text": [
      "DQA player 1 won\n",
      "DQA player 2 won\n",
      "DQA player 2 won\n",
      "DQA player 1 won\n"
     ]
    },
    {
     "name": "stderr",
     "output_type": "stream",
     "text": [
      "\r",
      "  1%|          | 802/100000 [01:44<2:17:45, 12.00it/s]"
     ]
    },
    {
     "name": "stdout",
     "output_type": "stream",
     "text": [
      "DQA player 1 won\n",
      "DQA player 2 won\n",
      "DQA player 2 won\n",
      "DQA player 1 won\n"
     ]
    },
    {
     "name": "stderr",
     "output_type": "stream",
     "text": [
      "\r",
      "  1%|          | 804/100000 [01:44<2:14:47, 12.27it/s]"
     ]
    },
    {
     "name": "stdout",
     "output_type": "stream",
     "text": [
      "DQA player 1 won\n",
      "DQA player 1 won\n"
     ]
    },
    {
     "name": "stderr",
     "output_type": "stream",
     "text": [
      "  1%|          | 808/100000 [01:45<2:20:30, 11.77it/s]"
     ]
    },
    {
     "name": "stdout",
     "output_type": "stream",
     "text": [
      "DQA player 2 won\n",
      "DQA player 2 won\n",
      "DQA player 1 won\n",
      "DQA player 1 won\n",
      "DQA player 1 won\n"
     ]
    },
    {
     "name": "stderr",
     "output_type": "stream",
     "text": [
      "  1%|          | 812/100000 [01:45<2:05:12, 13.20it/s]"
     ]
    },
    {
     "name": "stdout",
     "output_type": "stream",
     "text": [
      "DQA player 1 won\n",
      "DQA player 1 won\n",
      "DQA player 1 won\n",
      "DQA player 1 won\n"
     ]
    },
    {
     "name": "stderr",
     "output_type": "stream",
     "text": [
      "  1%|          | 816/100000 [01:45<1:56:04, 14.24it/s]"
     ]
    },
    {
     "name": "stdout",
     "output_type": "stream",
     "text": [
      "DQA player 1 won\n",
      "DQA player 1 won\n",
      "DQA player 2 won\n",
      "DQA player 2 won\n",
      "DQA player 1 won\n"
     ]
    },
    {
     "name": "stderr",
     "output_type": "stream",
     "text": [
      "  1%|          | 820/100000 [01:46<1:46:21, 15.54it/s]"
     ]
    },
    {
     "name": "stdout",
     "output_type": "stream",
     "text": [
      "DQA player 2 won\n",
      "DQA player 2 won\n",
      "DQA player 1 won\n",
      "DQA player 1 won\n",
      "DQA player 2 won\n",
      "DQA player 2 won\n"
     ]
    },
    {
     "name": "stderr",
     "output_type": "stream",
     "text": [
      "  1%|          | 824/100000 [01:46<1:39:35, 16.60it/s]"
     ]
    },
    {
     "name": "stdout",
     "output_type": "stream",
     "text": [
      "DQA player 1 won\n",
      "DQA player 1 won\n",
      "DQA player 1 won\n",
      "DQA player 1 won\n"
     ]
    },
    {
     "name": "stderr",
     "output_type": "stream",
     "text": [
      "  1%|          | 828/100000 [01:46<1:47:41, 15.35it/s]"
     ]
    },
    {
     "name": "stdout",
     "output_type": "stream",
     "text": [
      "DQA player 2 won\n",
      "DQA player 2 won\n",
      "DQA player 1 won\n",
      "DQA player 1 won\n",
      "DQA player 1 won\n"
     ]
    },
    {
     "name": "stderr",
     "output_type": "stream",
     "text": [
      "  1%|          | 832/100000 [01:46<1:44:19, 15.84it/s]"
     ]
    },
    {
     "name": "stdout",
     "output_type": "stream",
     "text": [
      "DQA player 1 won\n",
      "DQA player 1 won\n",
      "DQA player 1 won\n",
      "DQA player 1 won\n"
     ]
    },
    {
     "name": "stderr",
     "output_type": "stream",
     "text": [
      "  1%|          | 836/100000 [01:47<1:50:06, 15.01it/s]"
     ]
    },
    {
     "name": "stdout",
     "output_type": "stream",
     "text": [
      "DQA player 1 won\n",
      "DQA player 2 won\n",
      "DQA player 2 won\n",
      "DQA player 1 won\n"
     ]
    },
    {
     "name": "stderr",
     "output_type": "stream",
     "text": [
      "  1%|          | 840/100000 [01:47<1:48:24, 15.25it/s]"
     ]
    },
    {
     "name": "stdout",
     "output_type": "stream",
     "text": [
      "DQA player 1 won\n",
      "DQA player 1 won\n",
      "DQA player 1 won\n",
      "DQA player 1 won\n"
     ]
    },
    {
     "name": "stderr",
     "output_type": "stream",
     "text": [
      "  1%|          | 844/100000 [01:47<1:45:30, 15.66it/s]"
     ]
    },
    {
     "name": "stdout",
     "output_type": "stream",
     "text": [
      "DQA player 1 won\n",
      "DQA player 1 won\n",
      "DQA player 1 won\n",
      "DQA player 1 won\n"
     ]
    },
    {
     "name": "stderr",
     "output_type": "stream",
     "text": [
      "\r",
      "  1%|          | 846/100000 [01:47<1:42:03, 16.19it/s]"
     ]
    },
    {
     "name": "stdout",
     "output_type": "stream",
     "text": [
      "DQA player 1 won\n",
      "DQA player 1 won\n",
      "DQA player 1 won\n"
     ]
    },
    {
     "name": "stderr",
     "output_type": "stream",
     "text": [
      "  1%|          | 850/100000 [01:48<1:43:59, 15.89it/s]"
     ]
    },
    {
     "name": "stdout",
     "output_type": "stream",
     "text": [
      "DQA player 1 won\n",
      "DQA player 1 won\n",
      "DQA player 1 won\n",
      "DQA player 1 won\n"
     ]
    },
    {
     "name": "stderr",
     "output_type": "stream",
     "text": [
      "  1%|          | 854/100000 [01:48<1:48:17, 15.26it/s]"
     ]
    },
    {
     "name": "stdout",
     "output_type": "stream",
     "text": [
      "DQA player 1 won\n",
      "DQA player 1 won\n",
      "DQA player 1 won\n",
      "DQA player 1 won\n"
     ]
    },
    {
     "name": "stderr",
     "output_type": "stream",
     "text": [
      "  1%|          | 858/100000 [01:48<1:58:38, 13.93it/s]"
     ]
    },
    {
     "name": "stdout",
     "output_type": "stream",
     "text": [
      "DQA player 1 won\n",
      "DQA player 1 won\n",
      "DQA player 1 won\n"
     ]
    },
    {
     "name": "stderr",
     "output_type": "stream",
     "text": [
      "\r",
      "  1%|          | 860/100000 [01:48<2:21:02, 11.72it/s]"
     ]
    },
    {
     "name": "stdout",
     "output_type": "stream",
     "text": [
      "DQA player 1 won\n",
      "DQA player 1 won\n"
     ]
    },
    {
     "name": "stderr",
     "output_type": "stream",
     "text": [
      "  1%|          | 864/100000 [01:49<2:18:10, 11.96it/s]"
     ]
    },
    {
     "name": "stdout",
     "output_type": "stream",
     "text": [
      "DQA player 1 won\n",
      "DQA player 1 won\n",
      "DQA player 1 won\n",
      "DQA player 1 won\n"
     ]
    },
    {
     "name": "stderr",
     "output_type": "stream",
     "text": [
      "  1%|          | 868/100000 [01:49<2:01:08, 13.64it/s]"
     ]
    },
    {
     "name": "stdout",
     "output_type": "stream",
     "text": [
      "DQA player 1 won\n",
      "DQA player 1 won\n",
      "DQA player 1 won\n",
      "DQA player 1 won\n"
     ]
    },
    {
     "name": "stderr",
     "output_type": "stream",
     "text": [
      "  1%|          | 872/100000 [01:49<1:47:36, 15.35it/s]"
     ]
    },
    {
     "name": "stdout",
     "output_type": "stream",
     "text": [
      "DQA player 1 won\n",
      "DQA player 1 won\n",
      "DQA player 1 won\n",
      "DQA player 2 won\n",
      "DQA player 2 won\n"
     ]
    },
    {
     "name": "stderr",
     "output_type": "stream",
     "text": [
      "  1%|          | 876/100000 [01:49<1:42:25, 16.13it/s]"
     ]
    },
    {
     "name": "stdout",
     "output_type": "stream",
     "text": [
      "DQA player 1 won\n",
      "DQA player 1 won\n",
      "DQA player 1 won\n",
      "DQA player 1 won\n"
     ]
    },
    {
     "name": "stderr",
     "output_type": "stream",
     "text": [
      "  1%|          | 880/100000 [01:50<1:41:02, 16.35it/s]"
     ]
    },
    {
     "name": "stdout",
     "output_type": "stream",
     "text": [
      "DQA player 2 won\n",
      "DQA player 2 won\n",
      "DQA player 1 won\n",
      "DQA player 2 won\n",
      "DQA player 2 won\n",
      "DQA player 1 won\n"
     ]
    },
    {
     "name": "stderr",
     "output_type": "stream",
     "text": [
      "  1%|          | 884/100000 [01:50<1:39:03, 16.68it/s]"
     ]
    },
    {
     "name": "stdout",
     "output_type": "stream",
     "text": [
      "DQA player 1 won\n",
      "DQA player 1 won\n",
      "DQA player 1 won\n",
      "DQA player 1 won\n"
     ]
    },
    {
     "name": "stderr",
     "output_type": "stream",
     "text": [
      "  1%|          | 888/100000 [01:50<1:32:23, 17.88it/s]"
     ]
    },
    {
     "name": "stdout",
     "output_type": "stream",
     "text": [
      "DQA player 1 won\n",
      "DQA player 1 won\n",
      "DQA player 2 won\n",
      "DQA player 2 won\n",
      "DQA player 1 won\n"
     ]
    },
    {
     "name": "stderr",
     "output_type": "stream",
     "text": [
      "  1%|          | 892/100000 [01:50<1:30:50, 18.18it/s]"
     ]
    },
    {
     "name": "stdout",
     "output_type": "stream",
     "text": [
      "DQA player 1 won\n",
      "DQA player 2 won\n",
      "DQA player 2 won\n",
      "DQA player 1 won\n",
      "DQA player 1 won\n"
     ]
    },
    {
     "name": "stderr",
     "output_type": "stream",
     "text": [
      "  1%|          | 896/100000 [01:51<1:44:52, 15.75it/s]"
     ]
    },
    {
     "name": "stdout",
     "output_type": "stream",
     "text": [
      "DQA player 2 won\n",
      "DQA player 2 won\n",
      "DQA player 1 won\n",
      "DQA player 1 won\n",
      "DQA player 1 won\n"
     ]
    },
    {
     "name": "stderr",
     "output_type": "stream",
     "text": [
      "  1%|          | 900/100000 [01:51<1:42:42, 16.08it/s]"
     ]
    },
    {
     "name": "stdout",
     "output_type": "stream",
     "text": [
      "DQA player 1 won\n",
      "DQA player 1 won\n",
      "DQA player 2 won\n",
      "DQA player 2 won\n",
      "DQA player 1 won\n"
     ]
    },
    {
     "name": "stderr",
     "output_type": "stream",
     "text": [
      "\r",
      "  1%|          | 902/100000 [01:51<1:50:21, 14.97it/s]"
     ]
    },
    {
     "name": "stdout",
     "output_type": "stream",
     "text": [
      "DQA player 1 won\n",
      "DQA player 1 won\n",
      "DQA player 2 won\n",
      "DQA player 2 won\n"
     ]
    },
    {
     "name": "stderr",
     "output_type": "stream",
     "text": [
      "  1%|          | 906/100000 [01:51<1:42:53, 16.05it/s]"
     ]
    },
    {
     "name": "stdout",
     "output_type": "stream",
     "text": [
      "DQA player 1 won\n",
      "DQA player 1 won\n",
      "DQA player 1 won\n",
      "DQA player 1 won\n"
     ]
    },
    {
     "name": "stderr",
     "output_type": "stream",
     "text": [
      "  1%|          | 910/100000 [01:51<1:35:39, 17.26it/s]"
     ]
    },
    {
     "name": "stdout",
     "output_type": "stream",
     "text": [
      "DQA player 1 won\n",
      "DQA player 1 won\n",
      "DQA player 1 won\n",
      "DQA player 1 won\n"
     ]
    },
    {
     "name": "stderr",
     "output_type": "stream",
     "text": [
      "  1%|          | 914/100000 [01:52<1:40:55, 16.36it/s]"
     ]
    },
    {
     "name": "stdout",
     "output_type": "stream",
     "text": [
      "DQA player 1 won\n",
      "DQA player 1 won\n",
      "DQA player 2 won\n",
      "DQA player 2 won\n"
     ]
    },
    {
     "name": "stderr",
     "output_type": "stream",
     "text": [
      "  1%|          | 918/100000 [01:52<1:51:31, 14.81it/s]"
     ]
    },
    {
     "name": "stdout",
     "output_type": "stream",
     "text": [
      "DQA player 1 won\n",
      "DQA player 1 won\n",
      "DQA player 1 won\n",
      "DQA player 1 won\n"
     ]
    },
    {
     "name": "stderr",
     "output_type": "stream",
     "text": [
      "  1%|          | 922/100000 [01:52<1:47:38, 15.34it/s]"
     ]
    },
    {
     "name": "stdout",
     "output_type": "stream",
     "text": [
      "DQA player 1 won\n",
      "DQA player 1 won\n",
      "DQA player 1 won\n",
      "DQA player 1 won\n"
     ]
    },
    {
     "name": "stderr",
     "output_type": "stream",
     "text": [
      "\r",
      "  1%|          | 924/100000 [01:52<1:43:09, 16.01it/s]"
     ]
    },
    {
     "name": "stdout",
     "output_type": "stream",
     "text": [
      "DQA player 1 won\n",
      "DQA player 1 won\n",
      "DQA player 2 won\n",
      "DQA player 2 won\n"
     ]
    },
    {
     "name": "stderr",
     "output_type": "stream",
     "text": [
      "  1%|          | 928/100000 [01:53<1:57:52, 14.01it/s]"
     ]
    },
    {
     "name": "stdout",
     "output_type": "stream",
     "text": [
      "DQA player 1 won\n",
      "DQA player 1 won\n",
      "DQA player 1 won\n",
      "DQA player 1 won\n"
     ]
    },
    {
     "name": "stderr",
     "output_type": "stream",
     "text": [
      "\r",
      "  1%|          | 930/100000 [01:53<1:52:54, 14.62it/s]"
     ]
    },
    {
     "name": "stdout",
     "output_type": "stream",
     "text": [
      "DQA player 1 won\n",
      "DQA player 1 won\n"
     ]
    },
    {
     "name": "stderr",
     "output_type": "stream",
     "text": [
      "  1%|          | 935/100000 [01:53<2:00:55, 13.65it/s]"
     ]
    },
    {
     "name": "stdout",
     "output_type": "stream",
     "text": [
      "DQA player 2 won\n",
      "DQA player 2 won\n",
      "DQA player 2 won\n",
      "DQA player 2 won\n",
      "DQA player 1 won\n",
      "DQA player 2 won\n",
      "DQA player 2 won\n"
     ]
    },
    {
     "name": "stderr",
     "output_type": "stream",
     "text": [
      "\r",
      "  1%|          | 937/100000 [01:53<2:20:01, 11.79it/s]"
     ]
    },
    {
     "name": "stdout",
     "output_type": "stream",
     "text": [
      "DQA player 1 won\n",
      "DQA player 1 won\n",
      "DQA player 1 won\n"
     ]
    },
    {
     "name": "stderr",
     "output_type": "stream",
     "text": [
      "  1%|          | 941/100000 [01:54<2:01:15, 13.62it/s]"
     ]
    },
    {
     "name": "stdout",
     "output_type": "stream",
     "text": [
      "DQA player 1 won\n",
      "DQA player 1 won\n",
      "DQA player 1 won\n",
      "DQA player 2 won\n",
      "DQA player 2 won\n"
     ]
    },
    {
     "name": "stderr",
     "output_type": "stream",
     "text": [
      "  1%|          | 945/100000 [01:54<2:05:38, 13.14it/s]"
     ]
    },
    {
     "name": "stdout",
     "output_type": "stream",
     "text": [
      "DQA player 1 won\n",
      "DQA player 2 won\n",
      "DQA player 2 won\n",
      "DQA player 1 won\n"
     ]
    },
    {
     "name": "stderr",
     "output_type": "stream",
     "text": [
      "  1%|          | 949/100000 [01:54<1:56:06, 14.22it/s]"
     ]
    },
    {
     "name": "stdout",
     "output_type": "stream",
     "text": [
      "DQA player 1 won\n",
      "DQA player 1 won\n",
      "DQA player 1 won\n",
      "DQA player 1 won\n"
     ]
    },
    {
     "name": "stderr",
     "output_type": "stream",
     "text": [
      "  1%|          | 953/100000 [01:55<1:51:08, 14.85it/s]"
     ]
    },
    {
     "name": "stdout",
     "output_type": "stream",
     "text": [
      "DQA player 1 won\n",
      "DQA player 1 won\n",
      "DQA player 1 won\n",
      "DQA player 1 won\n"
     ]
    },
    {
     "name": "stderr",
     "output_type": "stream",
     "text": [
      "  1%|          | 957/100000 [01:55<1:47:32, 15.35it/s]"
     ]
    },
    {
     "name": "stdout",
     "output_type": "stream",
     "text": [
      "DQA player 1 won\n",
      "DQA player 1 won\n",
      "DQA player 1 won\n",
      "DQA player 2 won\n",
      "DQA player 2 won\n"
     ]
    },
    {
     "name": "stderr",
     "output_type": "stream",
     "text": [
      "  1%|          | 961/100000 [01:55<1:41:50, 16.21it/s]"
     ]
    },
    {
     "name": "stdout",
     "output_type": "stream",
     "text": [
      "DQA player 2 won\n",
      "DQA player 2 won\n",
      "DQA player 1 won\n",
      "DQA player 1 won\n",
      "DQA player 1 won\n"
     ]
    },
    {
     "name": "stderr",
     "output_type": "stream",
     "text": [
      "\r",
      "  1%|          | 963/100000 [01:55<2:09:05, 12.79it/s]"
     ]
    },
    {
     "name": "stdout",
     "output_type": "stream",
     "text": [
      "DQA player 1 won\n",
      "DQA player 2 won\n",
      "DQA player 2 won\n"
     ]
    },
    {
     "name": "stderr",
     "output_type": "stream",
     "text": [
      "\r",
      "  1%|          | 965/100000 [01:55<2:17:39, 11.99it/s]"
     ]
    },
    {
     "name": "stdout",
     "output_type": "stream",
     "text": [
      "DQA player 2 won\n",
      "DQA player 2 won\n",
      "DQA player 2 won\n",
      "DQA player 2 won\n",
      "DQA player 1 won\n"
     ]
    },
    {
     "name": "stderr",
     "output_type": "stream",
     "text": [
      "\r",
      "  1%|          | 967/100000 [01:56<2:15:14, 12.20it/s]"
     ]
    },
    {
     "name": "stdout",
     "output_type": "stream",
     "text": [
      "DQA player 2 won\n",
      "DQA player 2 won\n",
      "DQA player 2 won\n",
      "DQA player 2 won\n",
      "DQA player 1 won\n",
      "DQA player 1 won\n"
     ]
    },
    {
     "name": "stderr",
     "output_type": "stream",
     "text": [
      "  1%|          | 974/100000 [01:56<1:55:52, 14.24it/s]"
     ]
    },
    {
     "name": "stdout",
     "output_type": "stream",
     "text": [
      "DQA player 1 won\n",
      "DQA player 1 won\n",
      "DQA player 1 won\n",
      "DQA player 1 won\n"
     ]
    },
    {
     "name": "stderr",
     "output_type": "stream",
     "text": [
      "\r",
      "  1%|          | 976/100000 [01:56<1:51:13, 14.84it/s]"
     ]
    },
    {
     "name": "stdout",
     "output_type": "stream",
     "text": [
      "DQA player 1 won\n",
      "DQA player 1 won\n",
      "DQA player 2 won\n",
      "DQA player 2 won\n"
     ]
    },
    {
     "name": "stderr",
     "output_type": "stream",
     "text": [
      "\r",
      "  1%|          | 978/100000 [01:56<2:00:02, 13.75it/s]"
     ]
    },
    {
     "name": "stdout",
     "output_type": "stream",
     "text": [
      "DQA player 1 won\n",
      "DQA player 2 won\n",
      "DQA player 2 won\n"
     ]
    },
    {
     "name": "stderr",
     "output_type": "stream",
     "text": [
      "\r",
      "  1%|          | 980/100000 [01:57<2:32:07, 10.85it/s]"
     ]
    },
    {
     "name": "stdout",
     "output_type": "stream",
     "text": [
      "DQA player 1 won\n",
      "DQA player 1 won\n"
     ]
    },
    {
     "name": "stderr",
     "output_type": "stream",
     "text": [
      "\r",
      "  1%|          | 982/100000 [01:57<2:44:40, 10.02it/s]"
     ]
    },
    {
     "name": "stdout",
     "output_type": "stream",
     "text": [
      "DQA player 1 won\n",
      "DQA player 1 won\n"
     ]
    },
    {
     "name": "stderr",
     "output_type": "stream",
     "text": [
      "  1%|          | 986/100000 [01:57<2:44:36, 10.02it/s]"
     ]
    },
    {
     "name": "stdout",
     "output_type": "stream",
     "text": [
      "DQA player 1 won\n",
      "DQA player 1 won\n",
      "DQA player 1 won\n"
     ]
    },
    {
     "name": "stderr",
     "output_type": "stream",
     "text": [
      "\r",
      "  1%|          | 989/100000 [01:57<2:20:47, 11.72it/s]"
     ]
    },
    {
     "name": "stdout",
     "output_type": "stream",
     "text": [
      "DQA player 1 won\n",
      "DQA player 1 won\n",
      "DQA player 1 won\n",
      "DQA player 2 won\n"
     ]
    },
    {
     "name": "stderr",
     "output_type": "stream",
     "text": [
      "\r",
      "  1%|          | 991/100000 [01:58<2:27:45, 11.17it/s]"
     ]
    },
    {
     "name": "stdout",
     "output_type": "stream",
     "text": [
      "DQA player 2 won\n",
      "DQA player 2 won\n",
      "DQA player 2 won\n"
     ]
    },
    {
     "name": "stderr",
     "output_type": "stream",
     "text": [
      "\r",
      "  1%|          | 993/100000 [01:58<2:35:42, 10.60it/s]"
     ]
    },
    {
     "name": "stdout",
     "output_type": "stream",
     "text": [
      "DQA player 2 won\n",
      "DQA player 2 won\n",
      "DQA player 2 won\n",
      "DQA player 2 won\n"
     ]
    },
    {
     "name": "stderr",
     "output_type": "stream",
     "text": [
      "\r",
      "  1%|          | 995/100000 [01:58<2:40:13, 10.30it/s]"
     ]
    },
    {
     "name": "stdout",
     "output_type": "stream",
     "text": [
      "DQA player 1 won\n",
      "DQA player 2 won\n",
      "DQA player 2 won\n",
      "DQA player 1 won\n"
     ]
    },
    {
     "name": "stderr",
     "output_type": "stream",
     "text": [
      "  1%|          | 999/100000 [01:58<2:32:34, 10.81it/s]"
     ]
    },
    {
     "name": "stdout",
     "output_type": "stream",
     "text": [
      "DQA player 1 won\n",
      "DQA player 1 won\n",
      "DQA player 2 won\n",
      "DQA player 2 won\n"
     ]
    },
    {
     "name": "stderr",
     "output_type": "stream",
     "text": [
      "\r",
      "  1%|          | 1001/100000 [01:59<2:28:33, 11.11it/s]"
     ]
    },
    {
     "name": "stdout",
     "output_type": "stream",
     "text": [
      "DQA player 1 won\n",
      "DQA player 1 won\n",
      "DQA player 1 won\n"
     ]
    },
    {
     "name": "stderr",
     "output_type": "stream",
     "text": [
      "\r",
      "  1%|          | 1003/100000 [01:59<2:32:42, 10.80it/s]"
     ]
    },
    {
     "name": "stdout",
     "output_type": "stream",
     "text": [
      "DQA player 1 won\n",
      "DQA player 1 won\n"
     ]
    },
    {
     "name": "stderr",
     "output_type": "stream",
     "text": [
      "\r",
      "  1%|          | 1005/100000 [01:59<2:48:27,  9.79it/s]"
     ]
    },
    {
     "name": "stdout",
     "output_type": "stream",
     "text": [
      "DQA player 1 won\n",
      "DQA player 1 won\n"
     ]
    },
    {
     "name": "stderr",
     "output_type": "stream",
     "text": [
      "  1%|          | 1009/100000 [01:59<2:45:21,  9.98it/s]"
     ]
    },
    {
     "name": "stdout",
     "output_type": "stream",
     "text": [
      "DQA player 1 won\n",
      "DQA player 1 won\n",
      "DQA player 2 won\n",
      "DQA player 2 won\n"
     ]
    },
    {
     "name": "stderr",
     "output_type": "stream",
     "text": [
      "\r",
      "  1%|          | 1011/100000 [02:00<2:42:05, 10.18it/s]"
     ]
    },
    {
     "name": "stdout",
     "output_type": "stream",
     "text": [
      "DQA player 1 won\n",
      "DQA player 2 won\n",
      "DQA player 2 won\n",
      "DQA player 1 won\n"
     ]
    },
    {
     "name": "stderr",
     "output_type": "stream",
     "text": [
      "  1%|          | 1015/100000 [02:00<2:39:50, 10.32it/s]"
     ]
    },
    {
     "name": "stdout",
     "output_type": "stream",
     "text": [
      "DQA player 1 won\n",
      "DQA player 1 won\n",
      "DQA player 1 won\n"
     ]
    },
    {
     "name": "stderr",
     "output_type": "stream",
     "text": [
      "\r",
      "  1%|          | 1017/100000 [02:00<2:38:03, 10.44it/s]"
     ]
    },
    {
     "name": "stdout",
     "output_type": "stream",
     "text": [
      "DQA player 2 won\n",
      "DQA player 2 won\n",
      "DQA player 1 won\n",
      "DQA player 1 won\n"
     ]
    },
    {
     "name": "stderr",
     "output_type": "stream",
     "text": [
      "\r",
      "  1%|          | 1019/100000 [02:00<2:27:47, 11.16it/s]"
     ]
    },
    {
     "name": "stdout",
     "output_type": "stream",
     "text": [
      "DQA player 1 won\n",
      "DQA player 1 won\n",
      "DQA player 1 won\n"
     ]
    },
    {
     "name": "stderr",
     "output_type": "stream",
     "text": [
      "  1%|          | 1024/100000 [02:01<2:14:28, 12.27it/s]"
     ]
    },
    {
     "name": "stdout",
     "output_type": "stream",
     "text": [
      "DQA player 2 won\n",
      "DQA player 2 won\n",
      "DQA player 1 won\n",
      "DQA player 1 won\n"
     ]
    },
    {
     "name": "stderr",
     "output_type": "stream",
     "text": [
      "\r",
      "  1%|          | 1026/100000 [02:01<2:05:41, 13.12it/s]"
     ]
    },
    {
     "name": "stdout",
     "output_type": "stream",
     "text": [
      "DQA player 2 won\n",
      "DQA player 2 won\n",
      "DQA player 2 won\n",
      "DQA player 2 won\n",
      "DQA player 1 won\n"
     ]
    },
    {
     "name": "stderr",
     "output_type": "stream",
     "text": [
      "\r",
      "  1%|          | 1028/100000 [02:01<2:12:07, 12.48it/s]"
     ]
    },
    {
     "name": "stdout",
     "output_type": "stream",
     "text": [
      "DQA player 1 won\n",
      "DQA player 1 won\n"
     ]
    },
    {
     "name": "stderr",
     "output_type": "stream",
     "text": [
      "\r",
      "  1%|          | 1030/100000 [02:01<2:27:02, 11.22it/s]"
     ]
    },
    {
     "name": "stdout",
     "output_type": "stream",
     "text": [
      "DQA player 1 won\n",
      "DQA player 2 won\n",
      "DQA player 2 won\n"
     ]
    },
    {
     "name": "stderr",
     "output_type": "stream",
     "text": [
      "\r",
      "  1%|          | 1032/100000 [02:01<2:37:41, 10.46it/s]"
     ]
    },
    {
     "name": "stdout",
     "output_type": "stream",
     "text": [
      "DQA player 2 won\n",
      "DQA player 2 won\n",
      "DQA player 1 won\n"
     ]
    },
    {
     "name": "stderr",
     "output_type": "stream",
     "text": [
      "\r",
      "  1%|          | 1034/100000 [02:02<2:41:00, 10.24it/s]"
     ]
    },
    {
     "name": "stdout",
     "output_type": "stream",
     "text": [
      "DQA player 2 won\n",
      "DQA player 2 won\n",
      "DQA player 2 won\n",
      "DQA player 2 won\n"
     ]
    },
    {
     "name": "stderr",
     "output_type": "stream",
     "text": [
      "  1%|          | 1038/100000 [02:02<2:29:47, 11.01it/s]"
     ]
    },
    {
     "name": "stdout",
     "output_type": "stream",
     "text": [
      "DQA player 2 won\n",
      "DQA player 2 won\n",
      "DQA player 1 won\n",
      "DQA player 2 won\n",
      "DQA player 2 won\n"
     ]
    },
    {
     "name": "stderr",
     "output_type": "stream",
     "text": [
      "\r",
      "  1%|          | 1040/100000 [02:02<3:15:07,  8.45it/s]"
     ]
    },
    {
     "name": "stdout",
     "output_type": "stream",
     "text": [
      "DQA player 2 won\n",
      "DQA player 2 won\n",
      "DQA player 2 won\n",
      "DQA player 2 won\n"
     ]
    },
    {
     "name": "stderr",
     "output_type": "stream",
     "text": [
      "\r",
      "  1%|          | 1041/100000 [02:03<3:47:00,  7.27it/s]"
     ]
    },
    {
     "name": "stdout",
     "output_type": "stream",
     "text": [
      "DQA player 1 won\n"
     ]
    },
    {
     "name": "stderr",
     "output_type": "stream",
     "text": [
      "  1%|          | 1044/100000 [02:03<4:19:35,  6.35it/s]"
     ]
    },
    {
     "name": "stdout",
     "output_type": "stream",
     "text": [
      "DQA player 2 won\n",
      "DQA player 2 won\n",
      "DQA player 1 won\n",
      "DQA player 1 won\n"
     ]
    },
    {
     "name": "stderr",
     "output_type": "stream",
     "text": [
      "\r",
      "  1%|          | 1046/100000 [02:03<3:39:25,  7.52it/s]"
     ]
    },
    {
     "name": "stdout",
     "output_type": "stream",
     "text": [
      "DQA player 2 won\n",
      "DQA player 2 won\n",
      "DQA player 1 won\n"
     ]
    },
    {
     "name": "stderr",
     "output_type": "stream",
     "text": [
      "  1%|          | 1048/100000 [02:04<4:30:06,  6.11it/s]"
     ]
    },
    {
     "name": "stdout",
     "output_type": "stream",
     "text": [
      "DQA player 1 won\n",
      "DQA player 1 won\n"
     ]
    },
    {
     "name": "stderr",
     "output_type": "stream",
     "text": [
      "  1%|          | 1051/100000 [02:04<4:36:57,  5.95it/s]"
     ]
    },
    {
     "name": "stdout",
     "output_type": "stream",
     "text": [
      "DQA player 2 won\n",
      "DQA player 2 won\n",
      "DQA player 2 won\n",
      "DQA player 2 won\n",
      "DQA player 1 won\n"
     ]
    },
    {
     "name": "stderr",
     "output_type": "stream",
     "text": [
      "  1%|          | 1055/100000 [02:04<3:04:54,  8.92it/s]"
     ]
    },
    {
     "name": "stdout",
     "output_type": "stream",
     "text": [
      "DQA player 1 won\n",
      "DQA player 1 won\n",
      "DQA player 1 won\n",
      "DQA player 1 won\n"
     ]
    },
    {
     "name": "stderr",
     "output_type": "stream",
     "text": [
      "\r",
      "  1%|          | 1057/100000 [02:04<2:45:31,  9.96it/s]"
     ]
    },
    {
     "name": "stdout",
     "output_type": "stream",
     "text": [
      "DQA player 2 won\n",
      "DQA player 2 won\n",
      "DQA player 1 won\n"
     ]
    },
    {
     "name": "stderr",
     "output_type": "stream",
     "text": [
      "\r",
      "  1%|          | 1059/100000 [02:05<3:00:44,  9.12it/s]"
     ]
    },
    {
     "name": "stdout",
     "output_type": "stream",
     "text": [
      "DQA player 1 won\n",
      "DQA player 1 won\n",
      "DQA player 1 won\n"
     ]
    },
    {
     "name": "stderr",
     "output_type": "stream",
     "text": [
      "\r",
      "  1%|          | 1061/100000 [02:05<3:17:28,  8.35it/s]"
     ]
    },
    {
     "name": "stdout",
     "output_type": "stream",
     "text": [
      "DQA player 2 won\n",
      "DQA player 2 won\n",
      "DQA player 2 won\n",
      "DQA player 2 won\n"
     ]
    },
    {
     "name": "stderr",
     "output_type": "stream",
     "text": [
      "\r",
      "  1%|          | 1063/100000 [02:05<4:30:25,  6.10it/s]"
     ]
    },
    {
     "name": "stdout",
     "output_type": "stream",
     "text": [
      "DQA player 1 won\n"
     ]
    },
    {
     "name": "stderr",
     "output_type": "stream",
     "text": [
      "  1%|          | 1065/100000 [02:06<4:32:04,  6.06it/s]"
     ]
    },
    {
     "name": "stdout",
     "output_type": "stream",
     "text": [
      "DQA player 2 won\n",
      "DQA player 2 won\n",
      "DQA player 2 won\n",
      "DQA player 2 won\n",
      "DQA player 2 won\n"
     ]
    },
    {
     "name": "stderr",
     "output_type": "stream",
     "text": [
      "  1%|          | 1069/100000 [02:06<3:11:42,  8.60it/s]"
     ]
    },
    {
     "name": "stdout",
     "output_type": "stream",
     "text": [
      "DQA player 2 won\n",
      "DQA player 2 won\n",
      "DQA player 2 won\n",
      "DQA player 1 won\n",
      "DQA player 1 won\n"
     ]
    },
    {
     "name": "stderr",
     "output_type": "stream",
     "text": [
      "  1%|          | 1074/100000 [02:06<2:15:44, 12.15it/s]"
     ]
    },
    {
     "name": "stdout",
     "output_type": "stream",
     "text": [
      "DQA player 2 won\n",
      "DQA player 2 won\n",
      "DQA player 1 won\n",
      "DQA player 2 won\n",
      "DQA player 2 won\n",
      "DQA player 2 won\n",
      "DQA player 2 won\n",
      "DQA player 1 won\n"
     ]
    },
    {
     "name": "stderr",
     "output_type": "stream",
     "text": [
      "  1%|          | 1078/100000 [02:07<1:52:52, 14.61it/s]"
     ]
    },
    {
     "name": "stdout",
     "output_type": "stream",
     "text": [
      "DQA player 1 won\n",
      "DQA player 1 won\n",
      "DQA player 1 won\n",
      "DQA player 1 won\n"
     ]
    },
    {
     "name": "stderr",
     "output_type": "stream",
     "text": [
      "\r",
      "  1%|          | 1081/100000 [02:07<1:41:18, 16.27it/s]"
     ]
    },
    {
     "name": "stdout",
     "output_type": "stream",
     "text": [
      "DQA player 1 won\n",
      "DQA player 1 won\n",
      "DQA player 1 won\n",
      "DQA player 2 won\n",
      "DQA player 2 won\n",
      "DQA player 1 won\n"
     ]
    },
    {
     "name": "stderr",
     "output_type": "stream",
     "text": [
      "  1%|          | 1086/100000 [02:07<1:31:10, 18.08it/s]"
     ]
    },
    {
     "name": "stdout",
     "output_type": "stream",
     "text": [
      "DQA player 1 won\n",
      "DQA player 2 won\n",
      "DQA player 2 won\n",
      "DQA player 1 won\n",
      "DQA player 1 won\n",
      "DQA player 1 won\n"
     ]
    },
    {
     "name": "stderr",
     "output_type": "stream",
     "text": [
      "  1%|          | 1092/100000 [02:07<1:21:03, 20.34it/s]"
     ]
    },
    {
     "name": "stdout",
     "output_type": "stream",
     "text": [
      "DQA player 1 won\n",
      "DQA player 1 won\n",
      "DQA player 1 won\n",
      "DQA player 1 won\n",
      "DQA player 1 won\n"
     ]
    },
    {
     "name": "stderr",
     "output_type": "stream",
     "text": [
      "\r",
      "  1%|          | 1095/100000 [02:07<1:16:28, 21.55it/s]"
     ]
    },
    {
     "name": "stdout",
     "output_type": "stream",
     "text": [
      "DQA player 1 won\n",
      "DQA player 1 won\n",
      "DQA player 1 won\n",
      "DQA player 1 won\n"
     ]
    },
    {
     "name": "stderr",
     "output_type": "stream",
     "text": [
      "  1%|          | 1101/100000 [02:08<1:20:52, 20.38it/s]"
     ]
    },
    {
     "name": "stdout",
     "output_type": "stream",
     "text": [
      "DQA player 1 won\n",
      "DQA player 2 won\n",
      "DQA player 2 won\n",
      "DQA player 2 won\n",
      "DQA player 2 won\n",
      "DQA player 2 won\n",
      "DQA player 2 won\n"
     ]
    },
    {
     "name": "stderr",
     "output_type": "stream",
     "text": [
      "\r",
      "  1%|          | 1104/100000 [02:08<1:24:05, 19.60it/s]"
     ]
    },
    {
     "name": "stdout",
     "output_type": "stream",
     "text": [
      "DQA player 1 won\n",
      "DQA player 1 won\n",
      "DQA player 1 won\n",
      "DQA player 1 won\n",
      "DQA player 1 won\n"
     ]
    },
    {
     "name": "stderr",
     "output_type": "stream",
     "text": [
      "  1%|          | 1110/100000 [02:08<1:16:13, 21.62it/s]"
     ]
    },
    {
     "name": "stdout",
     "output_type": "stream",
     "text": [
      "DQA player 2 won\n",
      "DQA player 2 won\n",
      "DQA player 1 won\n",
      "DQA player 1 won\n",
      "DQA player 1 won\n",
      "DQA player 1 won\n"
     ]
    },
    {
     "name": "stderr",
     "output_type": "stream",
     "text": [
      "  1%|          | 1116/100000 [02:08<1:13:34, 22.40it/s]"
     ]
    },
    {
     "name": "stdout",
     "output_type": "stream",
     "text": [
      "DQA player 1 won\n",
      "DQA player 2 won\n",
      "DQA player 2 won\n",
      "DQA player 1 won\n",
      "DQA player 1 won\n",
      "DQA player 1 won\n"
     ]
    },
    {
     "name": "stderr",
     "output_type": "stream",
     "text": [
      "\r",
      "  1%|          | 1119/100000 [02:09<1:19:09, 20.82it/s]"
     ]
    },
    {
     "name": "stdout",
     "output_type": "stream",
     "text": [
      "DQA player 2 won\n",
      "DQA player 2 won\n",
      "DQA player 2 won\n",
      "DQA player 2 won\n",
      "DQA player 1 won\n",
      "DQA player 1 won\n",
      "DQA player 1 won\n"
     ]
    },
    {
     "name": "stderr",
     "output_type": "stream",
     "text": [
      "  1%|          | 1125/100000 [02:09<1:14:19, 22.17it/s]"
     ]
    },
    {
     "name": "stdout",
     "output_type": "stream",
     "text": [
      "DQA player 1 won\n",
      "DQA player 1 won\n",
      "DQA player 2 won\n",
      "DQA player 2 won\n",
      "DQA player 1 won\n",
      "DQA player 1 won\n"
     ]
    },
    {
     "name": "stderr",
     "output_type": "stream",
     "text": [
      "  1%|          | 1131/100000 [02:09<1:13:12, 22.51it/s]"
     ]
    },
    {
     "name": "stdout",
     "output_type": "stream",
     "text": [
      "DQA player 1 won\n",
      "DQA player 1 won\n",
      "DQA player 1 won\n",
      "DQA player 1 won\n",
      "DQA player 2 won\n",
      "DQA player 2 won\n"
     ]
    },
    {
     "name": "stderr",
     "output_type": "stream",
     "text": [
      "\r",
      "  1%|          | 1134/100000 [02:09<1:15:38, 21.78it/s]"
     ]
    },
    {
     "name": "stdout",
     "output_type": "stream",
     "text": [
      "DQA player 1 won\n",
      "DQA player 1 won\n",
      "DQA player 1 won\n",
      "DQA player 1 won\n",
      "DQA player 1 won\n"
     ]
    },
    {
     "name": "stderr",
     "output_type": "stream",
     "text": [
      "  1%|          | 1140/100000 [02:09<1:13:25, 22.44it/s]"
     ]
    },
    {
     "name": "stdout",
     "output_type": "stream",
     "text": [
      "DQA player 1 won\n",
      "DQA player 1 won\n",
      "DQA player 2 won\n",
      "DQA player 2 won\n",
      "DQA player 2 won\n",
      "DQA player 2 won\n",
      "DQA player 2 won\n"
     ]
    },
    {
     "name": "stderr",
     "output_type": "stream",
     "text": [
      "\r",
      "  1%|          | 1143/100000 [02:10<1:19:28, 20.73it/s]"
     ]
    },
    {
     "name": "stdout",
     "output_type": "stream",
     "text": [
      "DQA player 2 won\n",
      "DQA player 2 won\n",
      "DQA player 2 won\n",
      "DQA player 1 won\n",
      "DQA player 2 won\n",
      "DQA player 2 won\n",
      "DQA player 1 won\n"
     ]
    },
    {
     "name": "stderr",
     "output_type": "stream",
     "text": [
      "  1%|          | 1149/100000 [02:10<1:19:19, 20.77it/s]"
     ]
    },
    {
     "name": "stdout",
     "output_type": "stream",
     "text": [
      "DQA player 1 won\n",
      "DQA player 2 won\n",
      "DQA player 2 won\n",
      "DQA player 2 won\n",
      "DQA player 2 won\n",
      "DQA player 1 won\n"
     ]
    },
    {
     "name": "stderr",
     "output_type": "stream",
     "text": [
      "\r",
      "  1%|          | 1152/100000 [02:10<1:33:28, 17.63it/s]"
     ]
    },
    {
     "name": "stdout",
     "output_type": "stream",
     "text": [
      "DQA player 2 won\n",
      "DQA player 2 won\n",
      "DQA player 2 won\n",
      "DQA player 2 won\n",
      "DQA player 1 won\n",
      "DQA player 2 won\n",
      "DQA player 2 won\n"
     ]
    },
    {
     "name": "stderr",
     "output_type": "stream",
     "text": [
      "  1%|          | 1156/100000 [02:11<2:03:20, 13.36it/s]"
     ]
    },
    {
     "name": "stdout",
     "output_type": "stream",
     "text": [
      "DQA player 1 won\n",
      "DQA player 1 won\n",
      "DQA player 1 won\n",
      "DQA player 2 won\n",
      "DQA player 2 won\n"
     ]
    },
    {
     "name": "stderr",
     "output_type": "stream",
     "text": [
      "  1%|          | 1161/100000 [02:11<1:44:55, 15.70it/s]"
     ]
    },
    {
     "name": "stdout",
     "output_type": "stream",
     "text": [
      "DQA player 1 won\n",
      "DQA player 1 won\n",
      "DQA player 1 won\n",
      "DQA player 1 won\n"
     ]
    },
    {
     "name": "stderr",
     "output_type": "stream",
     "text": [
      "  1%|          | 1165/100000 [02:11<1:39:03, 16.63it/s]"
     ]
    },
    {
     "name": "stdout",
     "output_type": "stream",
     "text": [
      "DQA player 2 won\n",
      "DQA player 2 won\n",
      "DQA player 1 won\n",
      "DQA player 1 won\n",
      "DQA player 1 won\n"
     ]
    },
    {
     "name": "stderr",
     "output_type": "stream",
     "text": [
      "  1%|          | 1169/100000 [02:11<1:31:37, 17.98it/s]"
     ]
    },
    {
     "name": "stdout",
     "output_type": "stream",
     "text": [
      "DQA player 1 won\n",
      "DQA player 1 won\n",
      "DQA player 1 won\n",
      "DQA player 1 won\n",
      "DQA player 1 won\n"
     ]
    },
    {
     "name": "stderr",
     "output_type": "stream",
     "text": [
      "  1%|          | 1174/100000 [02:11<1:28:22, 18.64it/s]"
     ]
    },
    {
     "name": "stdout",
     "output_type": "stream",
     "text": [
      "DQA player 2 won\n",
      "DQA player 2 won\n",
      "DQA player 1 won\n",
      "DQA player 1 won\n",
      "DQA player 1 won\n",
      "DQA player 1 won\n"
     ]
    },
    {
     "name": "stderr",
     "output_type": "stream",
     "text": [
      "\r",
      "  1%|          | 1177/100000 [02:12<1:26:34, 19.03it/s]"
     ]
    },
    {
     "name": "stdout",
     "output_type": "stream",
     "text": [
      "DQA player 1 won\n",
      "DQA player 1 won\n",
      "DQA player 1 won\n"
     ]
    },
    {
     "name": "stderr",
     "output_type": "stream",
     "text": [
      "  1%|          | 1181/100000 [02:12<2:01:39, 13.54it/s]"
     ]
    },
    {
     "name": "stdout",
     "output_type": "stream",
     "text": [
      "DQA player 1 won\n",
      "DQA player 1 won\n",
      "DQA player 1 won\n"
     ]
    },
    {
     "name": "stderr",
     "output_type": "stream",
     "text": [
      "\r",
      "  1%|          | 1184/100000 [02:12<1:50:26, 14.91it/s]"
     ]
    },
    {
     "name": "stdout",
     "output_type": "stream",
     "text": [
      "DQA player 1 won\n",
      "DQA player 1 won\n",
      "DQA player 1 won\n",
      "DQA player 1 won\n"
     ]
    },
    {
     "name": "stderr",
     "output_type": "stream",
     "text": [
      "  1%|          | 1188/100000 [02:12<1:53:26, 14.52it/s]"
     ]
    },
    {
     "name": "stdout",
     "output_type": "stream",
     "text": [
      "DQA player 2 won\n",
      "DQA player 2 won\n",
      "DQA player 1 won\n",
      "DQA player 1 won\n"
     ]
    },
    {
     "name": "stderr",
     "output_type": "stream",
     "text": [
      "\r",
      "  1%|          | 1190/100000 [02:13<3:52:04,  7.10it/s]"
     ]
    },
    {
     "name": "stdout",
     "output_type": "stream",
     "text": [
      "DQA player 1 won\n",
      "DQA player 1 won\n",
      "DQA player 1 won\n"
     ]
    },
    {
     "name": "stderr",
     "output_type": "stream",
     "text": [
      "\r",
      "  1%|          | 1192/100000 [02:13<3:12:38,  8.55it/s]"
     ]
    },
    {
     "name": "stdout",
     "output_type": "stream",
     "text": [
      "DQA player 1 won\n",
      "DQA player 1 won\n"
     ]
    },
    {
     "name": "stderr",
     "output_type": "stream",
     "text": [
      "\r",
      "  1%|          | 1194/100000 [02:14<5:20:44,  5.13it/s]"
     ]
    },
    {
     "name": "stdout",
     "output_type": "stream",
     "text": [
      "DQA player 2 won\n",
      "DQA player 2 won\n",
      "DQA player 2 won\n"
     ]
    },
    {
     "name": "stderr",
     "output_type": "stream",
     "text": [
      "\r",
      "  1%|          | 1195/100000 [02:15<11:15:31,  2.44it/s]"
     ]
    },
    {
     "name": "stdout",
     "output_type": "stream",
     "text": [
      "DQA player 2 won\n"
     ]
    },
    {
     "name": "stderr",
     "output_type": "stream",
     "text": [
      "  1%|          | 1197/100000 [02:15<9:20:52,  2.94it/s] "
     ]
    },
    {
     "name": "stdout",
     "output_type": "stream",
     "text": [
      "DQA player 1 won\n",
      "DQA player 1 won\n",
      "DQA player 1 won\n"
     ]
    },
    {
     "name": "stderr",
     "output_type": "stream",
     "text": [
      "\r",
      "  1%|          | 1199/100000 [02:16<7:09:21,  3.84it/s]"
     ]
    },
    {
     "name": "stdout",
     "output_type": "stream",
     "text": [
      "DQA player 2 won\n",
      "DQA player 2 won\n"
     ]
    },
    {
     "name": "stderr",
     "output_type": "stream",
     "text": [
      "\r",
      "  1%|          | 1200/100000 [02:16<9:25:03,  2.91it/s]"
     ]
    },
    {
     "name": "stdout",
     "output_type": "stream",
     "text": [
      "DQA player 1 won\n"
     ]
    },
    {
     "name": "stderr",
     "output_type": "stream",
     "text": [
      "\r",
      "  1%|          | 1201/100000 [02:17<9:24:48,  2.92it/s]"
     ]
    },
    {
     "name": "stdout",
     "output_type": "stream",
     "text": [
      "DQA player 1 won\n"
     ]
    },
    {
     "name": "stderr",
     "output_type": "stream",
     "text": [
      "\r",
      "  1%|          | 1202/100000 [02:17<10:50:01,  2.53it/s]"
     ]
    },
    {
     "name": "stdout",
     "output_type": "stream",
     "text": [
      "DQA player 2 won\n",
      "DQA player 2 won\n"
     ]
    },
    {
     "name": "stderr",
     "output_type": "stream",
     "text": [
      "\r",
      "  1%|          | 1203/100000 [02:18<12:08:45,  2.26it/s]"
     ]
    },
    {
     "name": "stdout",
     "output_type": "stream",
     "text": [
      "DQA player 1 won\n"
     ]
    },
    {
     "name": "stderr",
     "output_type": "stream",
     "text": [
      "  1%|          | 1205/100000 [02:18<9:00:49,  3.04it/s] "
     ]
    },
    {
     "name": "stdout",
     "output_type": "stream",
     "text": [
      "DQA player 1 won\n",
      "DQA player 1 won\n"
     ]
    },
    {
     "name": "stderr",
     "output_type": "stream",
     "text": [
      "  1%|          | 1208/100000 [02:18<5:48:46,  4.72it/s]"
     ]
    },
    {
     "name": "stdout",
     "output_type": "stream",
     "text": [
      "DQA player 1 won\n",
      "DQA player 2 won\n",
      "DQA player 2 won\n",
      "DQA player 1 won\n",
      "DQA player 1 won\n"
     ]
    },
    {
     "name": "stderr",
     "output_type": "stream",
     "text": [
      "  1%|          | 1213/100000 [02:19<3:32:42,  7.74it/s]"
     ]
    },
    {
     "name": "stdout",
     "output_type": "stream",
     "text": [
      "DQA player 1 won\n",
      "DQA player 1 won\n",
      "DQA player 1 won\n",
      "DQA player 1 won\n"
     ]
    },
    {
     "name": "stderr",
     "output_type": "stream",
     "text": [
      "\r",
      "  1%|          | 1216/100000 [02:19<2:52:01,  9.57it/s]"
     ]
    },
    {
     "name": "stdout",
     "output_type": "stream",
     "text": [
      "DQA player 1 won\n",
      "DQA player 1 won\n",
      "DQA player 1 won\n",
      "DQA player 2 won\n",
      "DQA player 2 won\n",
      "DQA player 1 won\n"
     ]
    },
    {
     "name": "stderr",
     "output_type": "stream",
     "text": [
      "  1%|          | 1222/100000 [02:19<2:01:22, 13.56it/s]"
     ]
    },
    {
     "name": "stdout",
     "output_type": "stream",
     "text": [
      "DQA player 1 won\n",
      "DQA player 1 won\n",
      "DQA player 1 won\n",
      "DQA player 1 won\n"
     ]
    },
    {
     "name": "stderr",
     "output_type": "stream",
     "text": [
      "\r",
      "  1%|          | 1224/100000 [02:19<2:08:05, 12.85it/s]"
     ]
    },
    {
     "name": "stdout",
     "output_type": "stream",
     "text": [
      "DQA player 1 won\n",
      "DQA player 1 won\n",
      "DQA player 2 won\n",
      "DQA player 2 won\n"
     ]
    },
    {
     "name": "stderr",
     "output_type": "stream",
     "text": [
      "\r",
      "  1%|          | 1226/100000 [02:20<3:11:48,  8.58it/s]"
     ]
    },
    {
     "name": "stdout",
     "output_type": "stream",
     "text": [
      "DQA player 1 won\n",
      "DQA player 1 won\n"
     ]
    },
    {
     "name": "stderr",
     "output_type": "stream",
     "text": [
      "\r",
      "  1%|          | 1228/100000 [02:20<3:23:48,  8.08it/s]"
     ]
    },
    {
     "name": "stdout",
     "output_type": "stream",
     "text": [
      "DQA player 1 won\n",
      "DQA player 1 won\n"
     ]
    },
    {
     "name": "stderr",
     "output_type": "stream",
     "text": [
      "  1%|          | 1231/100000 [02:20<3:53:05,  7.06it/s]"
     ]
    },
    {
     "name": "stdout",
     "output_type": "stream",
     "text": [
      "DQA player 1 won\n",
      "DQA player 2 won\n",
      "DQA player 2 won\n"
     ]
    },
    {
     "name": "stderr",
     "output_type": "stream",
     "text": [
      "\r",
      "  1%|          | 1233/100000 [02:21<3:28:57,  7.88it/s]"
     ]
    },
    {
     "name": "stdout",
     "output_type": "stream",
     "text": [
      "DQA player 2 won\n",
      "DQA player 2 won\n",
      "DQA player 1 won\n"
     ]
    },
    {
     "name": "stderr",
     "output_type": "stream",
     "text": [
      "  1%|          | 1235/100000 [02:21<4:03:37,  6.76it/s]"
     ]
    },
    {
     "name": "stdout",
     "output_type": "stream",
     "text": [
      "DQA player 1 won\n",
      "DQA player 1 won\n"
     ]
    },
    {
     "name": "stderr",
     "output_type": "stream",
     "text": [
      "  1%|          | 1239/100000 [02:21<2:52:33,  9.54it/s]"
     ]
    },
    {
     "name": "stdout",
     "output_type": "stream",
     "text": [
      "DQA player 1 won\n",
      "DQA player 2 won\n",
      "DQA player 2 won\n",
      "DQA player 1 won\n",
      "DQA player 1 won\n"
     ]
    },
    {
     "name": "stderr",
     "output_type": "stream",
     "text": [
      "  1%|          | 1243/100000 [02:21<2:10:34, 12.60it/s]"
     ]
    },
    {
     "name": "stdout",
     "output_type": "stream",
     "text": [
      "DQA player 1 won\n",
      "DQA player 1 won\n",
      "DQA player 1 won\n",
      "DQA player 1 won\n"
     ]
    },
    {
     "name": "stderr",
     "output_type": "stream",
     "text": [
      "\r",
      "  1%|          | 1245/100000 [02:22<2:09:14, 12.73it/s]"
     ]
    },
    {
     "name": "stdout",
     "output_type": "stream",
     "text": [
      "DQA player 2 won\n",
      "DQA player 2 won\n",
      "DQA player 1 won\n",
      "DQA player 1 won\n"
     ]
    },
    {
     "name": "stderr",
     "output_type": "stream",
     "text": [
      "  1%|          | 1249/100000 [02:22<2:01:13, 13.58it/s]"
     ]
    },
    {
     "name": "stdout",
     "output_type": "stream",
     "text": [
      "DQA player 2 won\n",
      "DQA player 2 won\n",
      "DQA player 1 won\n",
      "DQA player 1 won\n",
      "DQA player 1 won\n",
      "DQA player 1 won\n"
     ]
    },
    {
     "name": "stderr",
     "output_type": "stream",
     "text": [
      "  1%|▏         | 1253/100000 [02:22<3:15:42,  8.41it/s]"
     ]
    },
    {
     "name": "stdout",
     "output_type": "stream",
     "text": [
      "DQA player 1 won\n",
      "DQA player 1 won\n"
     ]
    },
    {
     "name": "stderr",
     "output_type": "stream",
     "text": [
      "  1%|▏         | 1257/100000 [02:23<2:31:05, 10.89it/s]"
     ]
    },
    {
     "name": "stdout",
     "output_type": "stream",
     "text": [
      "DQA player 1 won\n",
      "DQA player 1 won\n",
      "DQA player 2 won\n",
      "DQA player 2 won\n",
      "DQA player 1 won\n"
     ]
    },
    {
     "name": "stderr",
     "output_type": "stream",
     "text": [
      "\r",
      "  1%|▏         | 1260/100000 [02:23<2:08:49, 12.78it/s]"
     ]
    },
    {
     "name": "stdout",
     "output_type": "stream",
     "text": [
      "DQA player 1 won\n",
      "DQA player 1 won\n",
      "DQA player 1 won\n",
      "DQA player 2 won\n",
      "DQA player 2 won\n",
      "DQA player 1 won\n"
     ]
    },
    {
     "name": "stderr",
     "output_type": "stream",
     "text": [
      "  1%|▏         | 1264/100000 [02:23<3:04:55,  8.90it/s]"
     ]
    },
    {
     "name": "stdout",
     "output_type": "stream",
     "text": [
      "DQA player 2 won\n",
      "DQA player 2 won\n",
      "DQA player 2 won\n",
      "DQA player 2 won\n",
      "DQA player 2 won\n",
      "DQA player 2 won\n",
      "DQA player 1 won\n"
     ]
    },
    {
     "name": "stderr",
     "output_type": "stream",
     "text": [
      "  1%|▏         | 1270/100000 [02:24<2:09:48, 12.68it/s]"
     ]
    },
    {
     "name": "stdout",
     "output_type": "stream",
     "text": [
      "DQA player 2 won\n",
      "DQA player 2 won\n",
      "DQA player 1 won\n",
      "DQA player 1 won\n",
      "DQA player 2 won\n",
      "DQA player 2 won\n",
      "DQA player 1 won\n"
     ]
    },
    {
     "name": "stderr",
     "output_type": "stream",
     "text": [
      "  1%|▏         | 1274/100000 [02:24<1:53:39, 14.48it/s]"
     ]
    },
    {
     "name": "stdout",
     "output_type": "stream",
     "text": [
      "DQA player 2 won\n",
      "DQA player 2 won\n",
      "DQA player 1 won\n",
      "DQA player 1 won\n"
     ]
    },
    {
     "name": "stderr",
     "output_type": "stream",
     "text": [
      "\r",
      "  1%|▏         | 1276/100000 [02:24<2:28:49, 11.06it/s]"
     ]
    },
    {
     "name": "stdout",
     "output_type": "stream",
     "text": [
      "DQA player 1 won\n",
      "DQA player 1 won\n"
     ]
    },
    {
     "name": "stderr",
     "output_type": "stream",
     "text": [
      "\r",
      "  1%|▏         | 1278/100000 [02:25<3:00:07,  9.13it/s]"
     ]
    },
    {
     "name": "stdout",
     "output_type": "stream",
     "text": [
      "DQA player 1 won\n",
      "DQA player 2 won\n",
      "DQA player 2 won\n",
      "DQA player 1 won\n"
     ]
    },
    {
     "name": "stderr",
     "output_type": "stream",
     "text": [
      "  1%|▏         | 1282/100000 [02:25<2:18:24, 11.89it/s]"
     ]
    },
    {
     "name": "stdout",
     "output_type": "stream",
     "text": [
      "DQA player 1 won\n",
      "DQA player 1 won\n",
      "DQA player 2 won\n",
      "DQA player 2 won\n",
      "DQA player 1 won\n"
     ]
    },
    {
     "name": "stderr",
     "output_type": "stream",
     "text": [
      "  1%|▏         | 1287/100000 [02:25<1:54:41, 14.34it/s]"
     ]
    },
    {
     "name": "stdout",
     "output_type": "stream",
     "text": [
      "DQA player 2 won\n",
      "DQA player 2 won\n",
      "DQA player 1 won\n",
      "DQA player 1 won\n",
      "DQA player 1 won\n",
      "DQA player 1 won\n"
     ]
    },
    {
     "name": "stderr",
     "output_type": "stream",
     "text": [
      "  1%|▏         | 1291/100000 [02:25<1:48:10, 15.21it/s]"
     ]
    },
    {
     "name": "stdout",
     "output_type": "stream",
     "text": [
      "DQA player 1 won\n",
      "DQA player 1 won\n",
      "DQA player 1 won\n"
     ]
    },
    {
     "name": "stderr",
     "output_type": "stream",
     "text": [
      "\r",
      "  1%|▏         | 1293/100000 [02:25<1:51:00, 14.82it/s]"
     ]
    },
    {
     "name": "stdout",
     "output_type": "stream",
     "text": [
      "DQA player 1 won\n",
      "DQA player 1 won\n",
      "DQA player 1 won\n",
      "DQA player 1 won\n"
     ]
    },
    {
     "name": "stderr",
     "output_type": "stream",
     "text": [
      "  1%|▏         | 1298/100000 [02:26<1:40:46, 16.32it/s]"
     ]
    },
    {
     "name": "stdout",
     "output_type": "stream",
     "text": [
      "DQA player 2 won\n",
      "DQA player 2 won\n",
      "DQA player 2 won\n",
      "DQA player 2 won\n",
      "DQA player 1 won\n",
      "DQA player 2 won\n"
     ]
    },
    {
     "name": "stderr",
     "output_type": "stream",
     "text": [
      "\r",
      "  1%|▏         | 1300/100000 [02:26<2:27:29, 11.15it/s]"
     ]
    },
    {
     "name": "stdout",
     "output_type": "stream",
     "text": [
      "DQA player 2 won\n",
      "DQA player 1 won\n"
     ]
    },
    {
     "name": "stderr",
     "output_type": "stream",
     "text": [
      "\r",
      "  1%|▏         | 1302/100000 [02:26<2:37:41, 10.43it/s]"
     ]
    },
    {
     "name": "stdout",
     "output_type": "stream",
     "text": [
      "DQA player 1 won\n",
      "DQA player 2 won\n",
      "DQA player 2 won\n"
     ]
    },
    {
     "name": "stderr",
     "output_type": "stream",
     "text": [
      "\r",
      "  1%|▏         | 1304/100000 [02:27<3:02:37,  9.01it/s]"
     ]
    },
    {
     "name": "stdout",
     "output_type": "stream",
     "text": [
      "DQA player 2 won\n",
      "DQA player 2 won\n",
      "DQA player 2 won\n",
      "DQA player 2 won\n"
     ]
    },
    {
     "name": "stderr",
     "output_type": "stream",
     "text": [
      "\r",
      "  1%|▏         | 1306/100000 [02:27<2:43:43, 10.05it/s]"
     ]
    },
    {
     "name": "stdout",
     "output_type": "stream",
     "text": [
      "DQA player 1 won\n",
      "DQA player 1 won\n",
      "DQA player 1 won\n",
      "DQA player 2 won\n",
      "DQA player 2 won\n"
     ]
    },
    {
     "name": "stderr",
     "output_type": "stream",
     "text": [
      "  1%|▏         | 1311/100000 [02:27<2:08:49, 12.77it/s]"
     ]
    },
    {
     "name": "stdout",
     "output_type": "stream",
     "text": [
      "DQA player 1 won\n",
      "DQA player 1 won\n",
      "DQA player 2 won\n",
      "DQA player 2 won\n",
      "DQA player 1 won\n"
     ]
    },
    {
     "name": "stderr",
     "output_type": "stream",
     "text": [
      "  1%|▏         | 1315/100000 [02:27<1:52:22, 14.64it/s]"
     ]
    },
    {
     "name": "stdout",
     "output_type": "stream",
     "text": [
      "DQA player 1 won\n",
      "DQA player 1 won\n",
      "DQA player 2 won\n",
      "DQA player 2 won\n",
      "DQA player 1 won\n"
     ]
    },
    {
     "name": "stderr",
     "output_type": "stream",
     "text": [
      "  1%|▏         | 1320/100000 [02:27<1:39:28, 16.53it/s]"
     ]
    },
    {
     "name": "stdout",
     "output_type": "stream",
     "text": [
      "DQA player 1 won\n",
      "DQA player 1 won\n",
      "DQA player 1 won\n",
      "DQA player 2 won\n",
      "DQA player 2 won\n"
     ]
    },
    {
     "name": "stderr",
     "output_type": "stream",
     "text": [
      "  1%|▏         | 1324/100000 [02:28<1:39:47, 16.48it/s]"
     ]
    },
    {
     "name": "stdout",
     "output_type": "stream",
     "text": [
      "DQA player 1 won\n",
      "DQA player 1 won\n",
      "DQA player 1 won\n",
      "DQA player 1 won\n"
     ]
    },
    {
     "name": "stderr",
     "output_type": "stream",
     "text": [
      "  1%|▏         | 1328/100000 [02:28<1:35:29, 17.22it/s]"
     ]
    },
    {
     "name": "stdout",
     "output_type": "stream",
     "text": [
      "DQA player 1 won\n",
      "DQA player 1 won\n",
      "DQA player 1 won\n",
      "DQA player 1 won\n"
     ]
    },
    {
     "name": "stderr",
     "output_type": "stream",
     "text": [
      "  1%|▏         | 1332/100000 [02:28<1:33:26, 17.60it/s]"
     ]
    },
    {
     "name": "stdout",
     "output_type": "stream",
     "text": [
      "DQA player 2 won\n",
      "DQA player 2 won\n",
      "DQA player 2 won\n",
      "DQA player 2 won\n",
      "DQA player 1 won\n",
      "DQA player 1 won\n"
     ]
    },
    {
     "name": "stderr",
     "output_type": "stream",
     "text": [
      "  1%|▏         | 1336/100000 [02:28<1:33:20, 17.62it/s]"
     ]
    },
    {
     "name": "stdout",
     "output_type": "stream",
     "text": [
      "DQA player 1 won\n",
      "DQA player 1 won\n",
      "DQA player 2 won\n",
      "DQA player 2 won\n",
      "DQA player 1 won\n"
     ]
    },
    {
     "name": "stderr",
     "output_type": "stream",
     "text": [
      "\r",
      "  1%|▏         | 1339/100000 [02:29<1:31:49, 17.91it/s]"
     ]
    },
    {
     "name": "stdout",
     "output_type": "stream",
     "text": [
      "DQA player 1 won\n",
      "DQA player 1 won\n",
      "DQA player 1 won\n",
      "DQA player 1 won\n"
     ]
    },
    {
     "name": "stderr",
     "output_type": "stream",
     "text": [
      "  1%|▏         | 1344/100000 [02:29<1:27:17, 18.84it/s]"
     ]
    },
    {
     "name": "stdout",
     "output_type": "stream",
     "text": [
      "DQA player 1 won\n",
      "DQA player 2 won\n",
      "DQA player 2 won\n",
      "DQA player 1 won\n",
      "DQA player 1 won\n",
      "DQA player 1 won\n"
     ]
    },
    {
     "name": "stderr",
     "output_type": "stream",
     "text": [
      "  1%|▏         | 1350/100000 [02:29<1:22:45, 19.87it/s]"
     ]
    },
    {
     "name": "stdout",
     "output_type": "stream",
     "text": [
      "DQA player 1 won\n",
      "DQA player 1 won\n",
      "DQA player 1 won\n",
      "DQA player 2 won\n",
      "DQA player 2 won\n",
      "DQA player 2 won\n",
      "DQA player 2 won\n"
     ]
    },
    {
     "name": "stderr",
     "output_type": "stream",
     "text": [
      "  1%|▏         | 1355/100000 [02:29<1:26:13, 19.07it/s]"
     ]
    },
    {
     "name": "stdout",
     "output_type": "stream",
     "text": [
      "DQA player 1 won\n",
      "DQA player 1 won\n",
      "DQA player 1 won\n",
      "DQA player 1 won\n",
      "DQA player 2 won\n",
      "DQA player 2 won\n"
     ]
    },
    {
     "name": "stderr",
     "output_type": "stream",
     "text": [
      "\r",
      "  1%|▏         | 1358/100000 [02:29<1:21:53, 20.08it/s]"
     ]
    },
    {
     "name": "stdout",
     "output_type": "stream",
     "text": [
      "DQA player 1 won\n",
      "DQA player 2 won\n",
      "DQA player 2 won\n",
      "DQA player 1 won\n",
      "DQA player 1 won\n",
      "DQA player 1 won\n"
     ]
    },
    {
     "name": "stderr",
     "output_type": "stream",
     "text": [
      "  1%|▏         | 1364/100000 [02:30<1:19:02, 20.80it/s]"
     ]
    },
    {
     "name": "stdout",
     "output_type": "stream",
     "text": [
      "DQA player 1 won\n",
      "DQA player 1 won\n",
      "DQA player 1 won\n",
      "DQA player 1 won\n"
     ]
    },
    {
     "name": "stderr",
     "output_type": "stream",
     "text": [
      "\r",
      "  1%|▏         | 1367/100000 [02:30<1:18:37, 20.91it/s]"
     ]
    },
    {
     "name": "stdout",
     "output_type": "stream",
     "text": [
      "DQA player 2 won\n",
      "DQA player 2 won\n",
      "DQA player 1 won\n",
      "DQA player 1 won\n",
      "DQA player 1 won\n",
      "DQA player 1 won\n"
     ]
    },
    {
     "name": "stderr",
     "output_type": "stream",
     "text": [
      "  1%|▏         | 1373/100000 [02:30<1:19:59, 20.55it/s]"
     ]
    },
    {
     "name": "stdout",
     "output_type": "stream",
     "text": [
      "DQA player 1 won\n",
      "DQA player 1 won\n",
      "DQA player 1 won\n",
      "DQA player 2 won\n",
      "DQA player 2 won\n"
     ]
    },
    {
     "name": "stderr",
     "output_type": "stream",
     "text": [
      "\r",
      "  1%|▏         | 1376/100000 [02:30<1:37:55, 16.79it/s]"
     ]
    },
    {
     "name": "stdout",
     "output_type": "stream",
     "text": [
      "DQA player 1 won\n",
      "DQA player 2 won\n",
      "DQA player 2 won\n",
      "DQA player 1 won\n",
      "DQA player 1 won\n"
     ]
    },
    {
     "name": "stderr",
     "output_type": "stream",
     "text": [
      "  1%|▏         | 1380/100000 [02:31<1:35:00, 17.30it/s]"
     ]
    },
    {
     "name": "stdout",
     "output_type": "stream",
     "text": [
      "DQA player 2 won\n",
      "DQA player 2 won\n",
      "DQA player 2 won\n",
      "DQA player 2 won\n",
      "DQA player 2 won\n",
      "DQA player 2 won\n",
      "DQA player 1 won\n"
     ]
    },
    {
     "name": "stderr",
     "output_type": "stream",
     "text": [
      "  1%|▏         | 1386/100000 [02:31<1:23:41, 19.64it/s]"
     ]
    },
    {
     "name": "stdout",
     "output_type": "stream",
     "text": [
      "DQA player 1 won\n",
      "DQA player 1 won\n",
      "DQA player 2 won\n",
      "DQA player 2 won\n",
      "DQA player 1 won\n",
      "DQA player 1 won\n"
     ]
    },
    {
     "name": "stderr",
     "output_type": "stream",
     "text": [
      "\r",
      "  1%|▏         | 1389/100000 [02:31<1:18:34, 20.92it/s]"
     ]
    },
    {
     "name": "stdout",
     "output_type": "stream",
     "text": [
      "DQA player 1 won\n",
      "DQA player 1 won\n",
      "DQA player 1 won\n",
      "DQA player 1 won\n",
      "DQA player 1 won\n"
     ]
    },
    {
     "name": "stderr",
     "output_type": "stream",
     "text": [
      "  1%|▏         | 1395/100000 [02:31<1:18:59, 20.80it/s]"
     ]
    },
    {
     "name": "stdout",
     "output_type": "stream",
     "text": [
      "DQA player 2 won\n",
      "DQA player 2 won\n",
      "DQA player 2 won\n",
      "DQA player 2 won\n",
      "DQA player 1 won\n",
      "DQA player 2 won\n",
      "DQA player 2 won\n",
      "DQA player 1 won\n"
     ]
    },
    {
     "name": "stderr",
     "output_type": "stream",
     "text": [
      "\r",
      "  1%|▏         | 1398/100000 [02:31<1:21:37, 20.13it/s]"
     ]
    },
    {
     "name": "stdout",
     "output_type": "stream",
     "text": [
      "DQA player 1 won\n",
      "DQA player 2 won\n",
      "DQA player 2 won\n",
      "DQA player 1 won\n",
      "DQA player 1 won\n"
     ]
    },
    {
     "name": "stderr",
     "output_type": "stream",
     "text": [
      "\r",
      "  1%|▏         | 1401/100000 [02:32<1:28:15, 18.62it/s]"
     ]
    },
    {
     "name": "stdout",
     "output_type": "stream",
     "text": [
      "DQA player 1 won\n",
      "DQA player 1 won\n"
     ]
    },
    {
     "name": "stderr",
     "output_type": "stream",
     "text": [
      "  1%|▏         | 1405/100000 [02:32<2:07:15, 12.91it/s]"
     ]
    },
    {
     "name": "stdout",
     "output_type": "stream",
     "text": [
      "DQA player 1 won\n",
      "DQA player 1 won\n",
      "DQA player 1 won\n",
      "DQA player 1 won\n"
     ]
    },
    {
     "name": "stderr",
     "output_type": "stream",
     "text": [
      "  1%|▏         | 1409/100000 [02:32<1:47:21, 15.30it/s]"
     ]
    },
    {
     "name": "stdout",
     "output_type": "stream",
     "text": [
      "DQA player 2 won\n",
      "DQA player 2 won\n",
      "DQA player 1 won\n",
      "DQA player 1 won\n",
      "DQA player 2 won\n",
      "DQA player 2 won\n"
     ]
    },
    {
     "name": "stderr",
     "output_type": "stream",
     "text": [
      "  1%|▏         | 1414/100000 [02:33<1:31:24, 17.98it/s]"
     ]
    },
    {
     "name": "stdout",
     "output_type": "stream",
     "text": [
      "DQA player 1 won\n",
      "DQA player 2 won\n",
      "DQA player 2 won\n",
      "DQA player 1 won\n",
      "DQA player 1 won\n",
      "DQA player 1 won\n",
      "DQA player 1 won\n"
     ]
    },
    {
     "name": "stderr",
     "output_type": "stream",
     "text": [
      "\r",
      "  1%|▏         | 1417/100000 [02:33<1:24:03, 19.55it/s]"
     ]
    },
    {
     "name": "stdout",
     "output_type": "stream",
     "text": [
      "DQA player 2 won\n",
      "DQA player 2 won\n",
      "DQA player 2 won\n",
      "DQA player 2 won\n",
      "DQA player 2 won\n",
      "DQA player 2 won\n",
      "DQA player 2 won\n"
     ]
    },
    {
     "name": "stderr",
     "output_type": "stream",
     "text": [
      "  1%|▏         | 1422/100000 [02:33<1:57:11, 14.02it/s]"
     ]
    },
    {
     "name": "stdout",
     "output_type": "stream",
     "text": [
      "DQA player 2 won\n",
      "DQA player 1 won\n",
      "DQA player 1 won\n"
     ]
    },
    {
     "name": "stderr",
     "output_type": "stream",
     "text": [
      "  1%|▏         | 1426/100000 [02:33<1:51:45, 14.70it/s]"
     ]
    },
    {
     "name": "stdout",
     "output_type": "stream",
     "text": [
      "DQA player 1 won\n",
      "DQA player 2 won\n",
      "DQA player 2 won\n",
      "DQA player 1 won\n",
      "DQA player 1 won\n"
     ]
    },
    {
     "name": "stderr",
     "output_type": "stream",
     "text": [
      "  1%|▏         | 1431/100000 [02:34<1:37:14, 16.90it/s]"
     ]
    },
    {
     "name": "stdout",
     "output_type": "stream",
     "text": [
      "DQA player 1 won\n",
      "DQA player 1 won\n",
      "DQA player 1 won\n",
      "DQA player 2 won\n",
      "DQA player 2 won\n",
      "DQA player 1 won\n"
     ]
    },
    {
     "name": "stderr",
     "output_type": "stream",
     "text": [
      "\r",
      "  1%|▏         | 1434/100000 [02:34<1:31:03, 18.04it/s]"
     ]
    },
    {
     "name": "stdout",
     "output_type": "stream",
     "text": [
      "DQA player 1 won\n",
      "DQA player 1 won\n",
      "DQA player 1 won\n",
      "DQA player 1 won\n"
     ]
    },
    {
     "name": "stderr",
     "output_type": "stream",
     "text": [
      "  1%|▏         | 1438/100000 [02:34<1:48:50, 15.09it/s]"
     ]
    },
    {
     "name": "stdout",
     "output_type": "stream",
     "text": [
      "DQA player 1 won\n",
      "DQA player 1 won\n",
      "DQA player 2 won\n",
      "DQA player 2 won\n"
     ]
    },
    {
     "name": "stderr",
     "output_type": "stream",
     "text": [
      "\r",
      "  1%|▏         | 1440/100000 [02:34<1:59:07, 13.79it/s]"
     ]
    },
    {
     "name": "stdout",
     "output_type": "stream",
     "text": [
      "DQA player 2 won\n",
      "DQA player 2 won\n",
      "DQA player 2 won\n",
      "DQA player 2 won\n",
      "DQA player 1 won\n"
     ]
    },
    {
     "name": "stderr",
     "output_type": "stream",
     "text": [
      "\r",
      "  1%|▏         | 1442/100000 [02:34<1:56:44, 14.07it/s]"
     ]
    },
    {
     "name": "stdout",
     "output_type": "stream",
     "text": [
      "DQA player 2 won\n",
      "DQA player 2 won\n",
      "DQA player 2 won\n",
      "DQA player 2 won\n"
     ]
    },
    {
     "name": "stderr",
     "output_type": "stream",
     "text": [
      "  1%|▏         | 1446/100000 [02:35<3:04:39,  8.90it/s]"
     ]
    },
    {
     "name": "stdout",
     "output_type": "stream",
     "text": [
      "DQA player 1 won\n",
      "DQA player 1 won\n",
      "DQA player 1 won\n",
      "DQA player 2 won\n",
      "DQA player 2 won\n"
     ]
    },
    {
     "name": "stderr",
     "output_type": "stream",
     "text": [
      "\r",
      "  1%|▏         | 1448/100000 [02:35<3:37:59,  7.53it/s]"
     ]
    },
    {
     "name": "stdout",
     "output_type": "stream",
     "text": [
      "DQA player 1 won\n"
     ]
    },
    {
     "name": "stderr",
     "output_type": "stream",
     "text": [
      "  1%|▏         | 1451/100000 [02:36<4:27:39,  6.14it/s]"
     ]
    },
    {
     "name": "stdout",
     "output_type": "stream",
     "text": [
      "DQA player 1 won\n",
      "DQA player 1 won\n",
      "DQA player 1 won\n",
      "DQA player 1 won\n"
     ]
    },
    {
     "name": "stderr",
     "output_type": "stream",
     "text": [
      "\r",
      "  1%|▏         | 1454/100000 [02:36<3:32:56,  7.71it/s]"
     ]
    },
    {
     "name": "stdout",
     "output_type": "stream",
     "text": [
      "DQA player 1 won\n",
      "DQA player 1 won\n",
      "DQA player 1 won\n"
     ]
    },
    {
     "name": "stderr",
     "output_type": "stream",
     "text": [
      "\r",
      "  1%|▏         | 1456/100000 [02:36<3:11:55,  8.56it/s]"
     ]
    },
    {
     "name": "stdout",
     "output_type": "stream",
     "text": [
      "DQA player 2 won\n",
      "DQA player 2 won\n",
      "DQA player 1 won\n"
     ]
    },
    {
     "name": "stderr",
     "output_type": "stream",
     "text": [
      "  1%|▏         | 1460/100000 [02:37<3:57:24,  6.92it/s]"
     ]
    },
    {
     "name": "stdout",
     "output_type": "stream",
     "text": [
      "DQA player 1 won\n",
      "DQA player 1 won\n",
      "DQA player 1 won\n"
     ]
    },
    {
     "name": "stderr",
     "output_type": "stream",
     "text": [
      "\r",
      "  1%|▏         | 1462/100000 [02:37<3:57:23,  6.92it/s]"
     ]
    },
    {
     "name": "stdout",
     "output_type": "stream",
     "text": [
      "DQA player 1 won\n",
      "DQA player 2 won\n",
      "DQA player 2 won\n",
      "DQA player 2 won\n",
      "DQA player 2 won"
     ]
    },
    {
     "name": "stderr",
     "output_type": "stream",
     "text": [
      "  1%|▏         | 1465/100000 [02:38<3:12:23,  8.54it/s]"
     ]
    },
    {
     "name": "stdout",
     "output_type": "stream",
     "text": [
      "\n",
      "DQA player 1 won\n",
      "DQA player 1 won\n"
     ]
    },
    {
     "name": "stderr",
     "output_type": "stream",
     "text": [
      "  1%|▏         | 1469/100000 [02:38<2:30:51, 10.89it/s]"
     ]
    },
    {
     "name": "stdout",
     "output_type": "stream",
     "text": [
      "DQA player 2 won\n",
      "DQA player 2 won\n",
      "DQA player 1 won\n",
      "DQA player 1 won\n",
      "DQA player 1 won\n"
     ]
    },
    {
     "name": "stderr",
     "output_type": "stream",
     "text": [
      "\r",
      "  1%|▏         | 1472/100000 [02:38<2:10:50, 12.55it/s]"
     ]
    },
    {
     "name": "stdout",
     "output_type": "stream",
     "text": [
      "DQA player 1 won\n",
      "DQA player 1 won\n",
      "DQA player 2 won\n",
      "DQA player 2 won\n",
      "DQA player 1 won\n"
     ]
    },
    {
     "name": "stderr",
     "output_type": "stream",
     "text": [
      "\r",
      "  1%|▏         | 1474/100000 [02:38<2:04:54, 13.15it/s]"
     ]
    },
    {
     "name": "stdout",
     "output_type": "stream",
     "text": [
      "DQA player 2 won\n",
      "DQA player 2 won\n"
     ]
    },
    {
     "name": "stderr",
     "output_type": "stream",
     "text": [
      "\r",
      "  1%|▏         | 1476/100000 [02:38<2:33:21, 10.71it/s]"
     ]
    },
    {
     "name": "stdout",
     "output_type": "stream",
     "text": [
      "DQA player 1 won\n",
      "DQA player 1 won\n",
      "DQA player 1 won\n",
      "DQA player 1 won\n"
     ]
    },
    {
     "name": "stderr",
     "output_type": "stream",
     "text": [
      "  1%|▏         | 1480/100000 [02:39<2:51:28,  9.58it/s]"
     ]
    },
    {
     "name": "stdout",
     "output_type": "stream",
     "text": [
      "DQA player 2 won\n",
      "DQA player 2 won\n",
      "DQA player 2 won\n",
      "DQA player 2 won\n",
      "DQA player 2 won\n",
      "DQA player 2 won\n"
     ]
    },
    {
     "name": "stderr",
     "output_type": "stream",
     "text": [
      "  1%|▏         | 1484/100000 [02:39<2:13:12, 12.33it/s]"
     ]
    },
    {
     "name": "stdout",
     "output_type": "stream",
     "text": [
      "DQA player 1 won\n",
      "DQA player 1 won\n",
      "DQA player 1 won\n",
      "DQA player 1 won\n",
      "DQA player 1 won\n"
     ]
    },
    {
     "name": "stderr",
     "output_type": "stream",
     "text": [
      "  1%|▏         | 1490/100000 [02:39<1:46:26, 15.42it/s]"
     ]
    },
    {
     "name": "stdout",
     "output_type": "stream",
     "text": [
      "DQA player 1 won\n",
      "DQA player 1 won\n",
      "DQA player 1 won\n",
      "DQA player 2 won\n",
      "DQA player 2 won\n",
      "DQA player 1 won\n"
     ]
    },
    {
     "name": "stderr",
     "output_type": "stream",
     "text": [
      "\r",
      "  1%|▏         | 1492/100000 [02:39<1:42:05, 16.08it/s]"
     ]
    },
    {
     "name": "stdout",
     "output_type": "stream",
     "text": [
      "DQA player 2 won\n",
      "DQA player 2 won\n",
      "DQA player 1 won\n",
      "DQA player 1 won\n"
     ]
    },
    {
     "name": "stderr",
     "output_type": "stream",
     "text": [
      "  1%|▏         | 1499/100000 [02:40<2:00:39, 13.61it/s]"
     ]
    },
    {
     "name": "stdout",
     "output_type": "stream",
     "text": [
      "DQA player 1 won\n",
      "DQA player 1 won\n",
      "DQA player 1 won\n",
      "DQA player 1 won\n",
      "DQA player 1 won\n"
     ]
    },
    {
     "name": "stderr",
     "output_type": "stream",
     "text": [
      "\r",
      "  2%|▏         | 1501/100000 [02:40<1:55:26, 14.22it/s]"
     ]
    },
    {
     "name": "stdout",
     "output_type": "stream",
     "text": [
      "DQA player 1 won\n",
      "DQA player 1 won\n",
      "DQA player 1 won\n"
     ]
    },
    {
     "name": "stderr",
     "output_type": "stream",
     "text": [
      "  2%|▏         | 1506/100000 [02:40<1:45:32, 15.55it/s]"
     ]
    },
    {
     "name": "stdout",
     "output_type": "stream",
     "text": [
      "DQA player 1 won\n",
      "DQA player 1 won\n",
      "DQA player 1 won\n",
      "DQA player 1 won\n",
      "DQA player 1 won\n"
     ]
    },
    {
     "name": "stderr",
     "output_type": "stream",
     "text": [
      "\r",
      "  2%|▏         | 1508/100000 [02:41<1:42:03, 16.08it/s]"
     ]
    },
    {
     "name": "stdout",
     "output_type": "stream",
     "text": [
      "DQA player 1 won\n",
      "DQA player 1 won\n"
     ]
    },
    {
     "name": "stderr",
     "output_type": "stream",
     "text": [
      "  2%|▏         | 1512/100000 [02:41<2:14:45, 12.18it/s]"
     ]
    },
    {
     "name": "stdout",
     "output_type": "stream",
     "text": [
      "DQA player 1 won\n",
      "DQA player 1 won\n",
      "DQA player 1 won\n"
     ]
    },
    {
     "name": "stderr",
     "output_type": "stream",
     "text": [
      "\r",
      "  2%|▏         | 1514/100000 [02:41<2:28:53, 11.02it/s]"
     ]
    },
    {
     "name": "stdout",
     "output_type": "stream",
     "text": [
      "DQA player 1 won\n",
      "DQA player 1 won\n",
      "DQA player 1 won\n"
     ]
    },
    {
     "name": "stderr",
     "output_type": "stream",
     "text": [
      "  2%|▏         | 1519/100000 [02:42<2:12:50, 12.36it/s]"
     ]
    },
    {
     "name": "stdout",
     "output_type": "stream",
     "text": [
      "DQA player 1 won\n",
      "DQA player 1 won\n",
      "DQA player 1 won\n",
      "DQA player 1 won\n"
     ]
    },
    {
     "name": "stderr",
     "output_type": "stream",
     "text": [
      "\r",
      "  2%|▏         | 1521/100000 [02:42<2:34:30, 10.62it/s]"
     ]
    },
    {
     "name": "stdout",
     "output_type": "stream",
     "text": [
      "DQA player 1 won\n",
      "DQA player 2 won\n",
      "DQA player 2 won\n"
     ]
    },
    {
     "name": "stderr",
     "output_type": "stream",
     "text": [
      "  2%|▏         | 1525/100000 [02:42<2:13:33, 12.29it/s]"
     ]
    },
    {
     "name": "stdout",
     "output_type": "stream",
     "text": [
      "DQA player 1 won\n",
      "DQA player 1 won\n",
      "DQA player 1 won\n",
      "DQA player 1 won\n"
     ]
    },
    {
     "name": "stderr",
     "output_type": "stream",
     "text": [
      "\r",
      "  2%|▏         | 1527/100000 [02:42<2:02:33, 13.39it/s]"
     ]
    },
    {
     "name": "stdout",
     "output_type": "stream",
     "text": [
      "DQA player 1 won\n",
      "DQA player 1 won\n",
      "DQA player 1 won\n"
     ]
    },
    {
     "name": "stderr",
     "output_type": "stream",
     "text": [
      "  2%|▏         | 1532/100000 [02:43<1:57:22, 13.98it/s]"
     ]
    },
    {
     "name": "stdout",
     "output_type": "stream",
     "text": [
      "DQA player 1 won\n",
      "DQA player 1 won\n",
      "DQA player 1 won\n",
      "DQA player 1 won\n"
     ]
    },
    {
     "name": "stderr",
     "output_type": "stream",
     "text": [
      "\r",
      "  2%|▏         | 1534/100000 [02:43<2:02:26, 13.40it/s]"
     ]
    },
    {
     "name": "stdout",
     "output_type": "stream",
     "text": [
      "DQA player 1 won\n",
      "DQA player 2 won\n",
      "DQA player 2 won\n",
      "DQA player 1 won\n",
      "DQA player 1 won\n"
     ]
    },
    {
     "name": "stderr",
     "output_type": "stream",
     "text": [
      "  2%|▏         | 1540/100000 [02:43<1:51:26, 14.72it/s]"
     ]
    },
    {
     "name": "stdout",
     "output_type": "stream",
     "text": [
      "DQA player 1 won\n",
      "DQA player 1 won\n",
      "DQA player 1 won\n",
      "DQA player 1 won\n"
     ]
    },
    {
     "name": "stderr",
     "output_type": "stream",
     "text": [
      "  2%|▏         | 1544/100000 [02:43<1:56:20, 14.10it/s]"
     ]
    },
    {
     "name": "stdout",
     "output_type": "stream",
     "text": [
      "DQA player 1 won\n",
      "DQA player 1 won\n",
      "DQA player 1 won\n",
      "DQA player 1 won\n"
     ]
    },
    {
     "name": "stderr",
     "output_type": "stream",
     "text": [
      "  2%|▏         | 1548/100000 [02:44<1:46:25, 15.42it/s]"
     ]
    },
    {
     "name": "stdout",
     "output_type": "stream",
     "text": [
      "DQA player 1 won\n",
      "DQA player 1 won\n",
      "DQA player 1 won\n",
      "DQA player 1 won\n"
     ]
    },
    {
     "name": "stderr",
     "output_type": "stream",
     "text": [
      "\r",
      "  2%|▏         | 1551/100000 [02:44<1:38:12, 16.71it/s]"
     ]
    },
    {
     "name": "stdout",
     "output_type": "stream",
     "text": [
      "DQA player 1 won\n",
      "DQA player 1 won\n",
      "DQA player 2 won\n",
      "DQA player 2 won\n",
      "DQA player 2 won\n",
      "DQA player 2 won\n"
     ]
    },
    {
     "name": "stderr",
     "output_type": "stream",
     "text": [
      "\r",
      "  2%|▏         | 1553/100000 [02:44<3:26:38,  7.94it/s]"
     ]
    },
    {
     "name": "stdout",
     "output_type": "stream",
     "text": [
      "DQA player 1 won\n",
      "DQA player 1 won\n"
     ]
    },
    {
     "name": "stderr",
     "output_type": "stream",
     "text": [
      "  2%|▏         | 1557/100000 [02:45<3:04:16,  8.90it/s]"
     ]
    },
    {
     "name": "stdout",
     "output_type": "stream",
     "text": [
      "DQA player 1 won\n",
      "DQA player 2 won\n",
      "DQA player 2 won\n",
      "DQA player 1 won\n",
      "DQA player 1 won\n",
      "DQA player 1 won\n"
     ]
    },
    {
     "name": "stderr",
     "output_type": "stream",
     "text": [
      "  2%|▏         | 1560/100000 [02:45<3:53:26,  7.03it/s]"
     ]
    },
    {
     "name": "stdout",
     "output_type": "stream",
     "text": [
      "DQA player 2 won\n",
      "DQA player 2 won\n"
     ]
    },
    {
     "name": "stderr",
     "output_type": "stream",
     "text": [
      "\r",
      "  2%|▏         | 1561/100000 [02:46<4:42:54,  5.80it/s]"
     ]
    },
    {
     "name": "stdout",
     "output_type": "stream",
     "text": [
      "DQA player 1 won\n"
     ]
    },
    {
     "name": "stderr",
     "output_type": "stream",
     "text": [
      "\r",
      "  2%|▏         | 1562/100000 [02:46<6:29:20,  4.21it/s]"
     ]
    },
    {
     "name": "stdout",
     "output_type": "stream",
     "text": [
      "DQA player 1 won\n"
     ]
    },
    {
     "name": "stderr",
     "output_type": "stream",
     "text": [
      "\r",
      "  2%|▏         | 1563/100000 [02:46<6:33:59,  4.16it/s]"
     ]
    },
    {
     "name": "stdout",
     "output_type": "stream",
     "text": [
      "DQA player 1 won\n"
     ]
    },
    {
     "name": "stderr",
     "output_type": "stream",
     "text": [
      "  2%|▏         | 1565/100000 [02:47<6:01:30,  4.54it/s]"
     ]
    },
    {
     "name": "stdout",
     "output_type": "stream",
     "text": [
      "DQA player 1 won\n",
      "DQA player 1 won\n"
     ]
    },
    {
     "name": "stderr",
     "output_type": "stream",
     "text": [
      "\r",
      "  2%|▏         | 1566/100000 [02:47<7:21:51,  3.71it/s]"
     ]
    },
    {
     "name": "stdout",
     "output_type": "stream",
     "text": [
      "DQA player 2 won\n",
      "DQA player 2 won\n",
      "DQA player 1 won\n"
     ]
    },
    {
     "name": "stderr",
     "output_type": "stream",
     "text": [
      "  2%|▏         | 1568/100000 [02:48<8:24:17,  3.25it/s]"
     ]
    },
    {
     "name": "stdout",
     "output_type": "stream",
     "text": [
      "DQA player 2 won\n",
      "DQA player 2 won\n",
      "DQA player 1 won\n"
     ]
    },
    {
     "name": "stderr",
     "output_type": "stream",
     "text": [
      "  2%|▏         | 1570/100000 [02:49<10:49:36,  2.53it/s]"
     ]
    },
    {
     "name": "stdout",
     "output_type": "stream",
     "text": [
      "DQA player 1 won\n"
     ]
    },
    {
     "name": "stderr",
     "output_type": "stream",
     "text": [
      "\r",
      "  2%|▏         | 1571/100000 [02:49<9:31:30,  2.87it/s] "
     ]
    },
    {
     "name": "stdout",
     "output_type": "stream",
     "text": [
      "DQA player 1 won\n"
     ]
    },
    {
     "name": "stderr",
     "output_type": "stream",
     "text": [
      "\r",
      "  2%|▏         | 1572/100000 [02:49<9:41:46,  2.82it/s]"
     ]
    },
    {
     "name": "stdout",
     "output_type": "stream",
     "text": [
      "DQA player 1 won\n",
      "DQA player 1 won\n"
     ]
    },
    {
     "name": "stderr",
     "output_type": "stream",
     "text": [
      "  2%|▏         | 1575/100000 [02:50<6:33:39,  4.17it/s]"
     ]
    },
    {
     "name": "stdout",
     "output_type": "stream",
     "text": [
      "DQA player 1 won\n",
      "DQA player 2 won\n",
      "DQA player 2 won\n",
      "DQA player 1 won\n"
     ]
    },
    {
     "name": "stderr",
     "output_type": "stream",
     "text": [
      "\r",
      "  2%|▏         | 1577/100000 [02:50<5:38:04,  4.85it/s]"
     ]
    },
    {
     "name": "stdout",
     "output_type": "stream",
     "text": [
      "DQA player 1 won\n"
     ]
    },
    {
     "name": "stderr",
     "output_type": "stream",
     "text": [
      "\r",
      "  2%|▏         | 1578/100000 [02:51<10:07:30,  2.70it/s]"
     ]
    },
    {
     "name": "stdout",
     "output_type": "stream",
     "text": [
      "DQA player 1 won\n"
     ]
    },
    {
     "name": "stderr",
     "output_type": "stream",
     "text": [
      "  2%|▏         | 1580/100000 [02:51<7:43:31,  3.54it/s] "
     ]
    },
    {
     "name": "stdout",
     "output_type": "stream",
     "text": [
      "DQA player 1 won\n",
      "DQA player 2 won\n",
      "DQA player 2 won\n",
      "DQA player 1 won\n"
     ]
    },
    {
     "name": "stderr",
     "output_type": "stream",
     "text": [
      "  2%|▏         | 1584/100000 [02:51<4:35:15,  5.96it/s]"
     ]
    },
    {
     "name": "stdout",
     "output_type": "stream",
     "text": [
      "DQA player 2 won\n",
      "DQA player 2 won\n",
      "DQA player 1 won\n",
      "DQA player 2 won\n",
      "DQA player 2 won\n",
      "DQA player 1 won\n",
      "DQA player 1 won\n"
     ]
    },
    {
     "name": "stderr",
     "output_type": "stream",
     "text": [
      "  2%|▏         | 1588/100000 [02:52<3:49:40,  7.14it/s]"
     ]
    },
    {
     "name": "stdout",
     "output_type": "stream",
     "text": [
      "DQA player 1 won\n",
      "DQA player 1 won\n",
      "DQA player 1 won\n"
     ]
    },
    {
     "name": "stderr",
     "output_type": "stream",
     "text": [
      "  2%|▏         | 1592/100000 [02:52<3:03:37,  8.93it/s]"
     ]
    },
    {
     "name": "stdout",
     "output_type": "stream",
     "text": [
      "DQA player 2 won\n",
      "DQA player 2 won\n",
      "DQA player 1 won\n",
      "DQA player 1 won\n",
      "DQA player 1 won\n"
     ]
    },
    {
     "name": "stderr",
     "output_type": "stream",
     "text": [
      "  2%|▏         | 1597/100000 [02:52<2:16:27, 12.02it/s]"
     ]
    },
    {
     "name": "stdout",
     "output_type": "stream",
     "text": [
      "DQA player 1 won\n",
      "DQA player 1 won\n",
      "DQA player 2 won\n",
      "DQA player 2 won\n",
      "DQA player 1 won\n"
     ]
    },
    {
     "name": "stderr",
     "output_type": "stream",
     "text": [
      "\r",
      "  2%|▏         | 1599/100000 [02:53<2:13:43, 12.26it/s]"
     ]
    },
    {
     "name": "stdout",
     "output_type": "stream",
     "text": [
      "DQA player 2 won\n",
      "DQA player 2 won\n",
      "DQA player 1 won\n",
      "DQA player 2 won\n",
      "DQA player 2 won\n"
     ]
    },
    {
     "name": "stderr",
     "output_type": "stream",
     "text": [
      "\r",
      "  2%|▏         | 1601/100000 [02:53<3:50:08,  7.13it/s]"
     ]
    },
    {
     "name": "stdout",
     "output_type": "stream",
     "text": [
      "DQA player 1 won\n",
      "DQA player 1 won\n"
     ]
    },
    {
     "name": "stderr",
     "output_type": "stream",
     "text": [
      "  2%|▏         | 1606/100000 [02:53<2:54:21,  9.40it/s]"
     ]
    },
    {
     "name": "stdout",
     "output_type": "stream",
     "text": [
      "DQA player 1 won\n",
      "DQA player 1 won\n",
      "DQA player 1 won\n",
      "DQA player 1 won\n",
      "DQA player 1 won\n"
     ]
    },
    {
     "name": "stderr",
     "output_type": "stream",
     "text": [
      "  2%|▏         | 1611/100000 [02:54<2:09:50, 12.63it/s]"
     ]
    },
    {
     "name": "stdout",
     "output_type": "stream",
     "text": [
      "DQA player 1 won\n",
      "DQA player 2 won\n",
      "DQA player 2 won\n",
      "DQA player 1 won\n",
      "DQA player 1 won\n"
     ]
    },
    {
     "name": "stderr",
     "output_type": "stream",
     "text": [
      "\r",
      "  2%|▏         | 1613/100000 [02:54<2:30:22, 10.90it/s]"
     ]
    },
    {
     "name": "stdout",
     "output_type": "stream",
     "text": [
      "DQA player 1 won\n",
      "DQA player 1 won\n",
      "DQA player 2 won\n",
      "DQA player 2 won\n"
     ]
    },
    {
     "name": "stderr",
     "output_type": "stream",
     "text": [
      "\r",
      "  2%|▏         | 1615/100000 [02:54<2:29:04, 11.00it/s]"
     ]
    },
    {
     "name": "stdout",
     "output_type": "stream",
     "text": [
      "DQA player 2 won\n",
      "DQA player 2 won\n",
      "DQA player 1 won\n",
      "DQA player 1 won\n"
     ]
    },
    {
     "name": "stderr",
     "output_type": "stream",
     "text": [
      "\r",
      "  2%|▏         | 1618/100000 [02:54<2:24:24, 11.35it/s]"
     ]
    },
    {
     "name": "stdout",
     "output_type": "stream",
     "text": [
      "DQA player 2 won\n",
      "DQA player 2 won\n",
      "DQA player 1 won\n"
     ]
    },
    {
     "name": "stderr",
     "output_type": "stream",
     "text": [
      "  2%|▏         | 1622/100000 [02:55<2:28:52, 11.01it/s]"
     ]
    },
    {
     "name": "stdout",
     "output_type": "stream",
     "text": [
      "DQA player 1 won\n",
      "DQA player 2 won\n",
      "DQA player 2 won\n",
      "DQA player 1 won\n"
     ]
    },
    {
     "name": "stderr",
     "output_type": "stream",
     "text": [
      "\r",
      "  2%|▏         | 1624/100000 [02:55<2:16:48, 11.98it/s]"
     ]
    },
    {
     "name": "stdout",
     "output_type": "stream",
     "text": [
      "DQA player 1 won\n",
      "DQA player 2 won\n",
      "DQA player 2 won\n",
      "DQA player 2 won\n",
      "DQA player 2 won\n"
     ]
    },
    {
     "name": "stderr",
     "output_type": "stream",
     "text": [
      "\r",
      "  2%|▏         | 1626/100000 [02:55<2:27:33, 11.11it/s]"
     ]
    },
    {
     "name": "stdout",
     "output_type": "stream",
     "text": [
      "DQA player 1 won\n",
      "DQA player 1 won\n"
     ]
    },
    {
     "name": "stderr",
     "output_type": "stream",
     "text": [
      "  2%|▏         | 1630/100000 [02:55<2:32:03, 10.78it/s]"
     ]
    },
    {
     "name": "stdout",
     "output_type": "stream",
     "text": [
      "DQA player 1 won\n",
      "DQA player 1 won\n",
      "DQA player 2 won\n",
      "DQA player 2 won\n"
     ]
    },
    {
     "name": "stderr",
     "output_type": "stream",
     "text": [
      "\r",
      "  2%|▏         | 1632/100000 [02:56<2:28:13, 11.06it/s]"
     ]
    },
    {
     "name": "stdout",
     "output_type": "stream",
     "text": [
      "DQA player 1 won\n",
      "DQA player 1 won\n",
      "DQA player 2 won\n",
      "DQA player 2 won\n"
     ]
    },
    {
     "name": "stderr",
     "output_type": "stream",
     "text": [
      "  2%|▏         | 1636/100000 [02:56<2:19:30, 11.75it/s]"
     ]
    },
    {
     "name": "stdout",
     "output_type": "stream",
     "text": [
      "DQA player 1 won\n",
      "DQA player 2 won\n",
      "DQA player 2 won\n",
      "DQA player 1 won\n"
     ]
    },
    {
     "name": "stderr",
     "output_type": "stream",
     "text": [
      "\r",
      "  2%|▏         | 1638/100000 [02:56<2:18:12, 11.86it/s]"
     ]
    },
    {
     "name": "stdout",
     "output_type": "stream",
     "text": [
      "DQA player 1 won\n",
      "DQA player 1 won\n",
      "DQA player 1 won\n"
     ]
    },
    {
     "name": "stderr",
     "output_type": "stream",
     "text": [
      "  2%|▏         | 1642/100000 [02:56<2:14:21, 12.20it/s]"
     ]
    },
    {
     "name": "stdout",
     "output_type": "stream",
     "text": [
      "DQA player 1 won\n",
      "DQA player 1 won\n",
      "DQA player 2 won\n",
      "DQA player 2 won\n"
     ]
    },
    {
     "name": "stderr",
     "output_type": "stream",
     "text": [
      "\r",
      "  2%|▏         | 1644/100000 [02:57<2:10:11, 12.59it/s]"
     ]
    },
    {
     "name": "stdout",
     "output_type": "stream",
     "text": [
      "DQA player 1 won\n",
      "DQA player 1 won\n",
      "DQA player 2 won\n",
      "DQA player 2 won\n"
     ]
    },
    {
     "name": "stderr",
     "output_type": "stream",
     "text": [
      "  2%|▏         | 1648/100000 [02:57<2:01:22, 13.51it/s]"
     ]
    },
    {
     "name": "stdout",
     "output_type": "stream",
     "text": [
      "DQA player 2 won\n",
      "DQA player 2 won\n",
      "DQA player 1 won\n",
      "DQA player 1 won\n"
     ]
    },
    {
     "name": "stderr",
     "output_type": "stream",
     "text": [
      "\r",
      "  2%|▏         | 1650/100000 [02:57<2:04:36, 13.15it/s]"
     ]
    },
    {
     "name": "stdout",
     "output_type": "stream",
     "text": [
      "DQA player 2 won\n",
      "DQA player 2 won\n",
      "DQA player 1 won\n",
      "DQA player 1 won\n"
     ]
    },
    {
     "name": "stderr",
     "output_type": "stream",
     "text": [
      "  2%|▏         | 1654/100000 [02:57<2:15:43, 12.08it/s]"
     ]
    },
    {
     "name": "stdout",
     "output_type": "stream",
     "text": [
      "DQA player 1 won\n",
      "DQA player 2 won\n",
      "DQA player 2 won\n",
      "DQA player 1 won\n"
     ]
    },
    {
     "name": "stderr",
     "output_type": "stream",
     "text": [
      "\r",
      "  2%|▏         | 1656/100000 [02:58<2:16:38, 12.00it/s]"
     ]
    },
    {
     "name": "stdout",
     "output_type": "stream",
     "text": [
      "DQA player 2 won\n",
      "DQA player 2 won\n",
      "DQA player 2 won\n",
      "DQA player 2 won\n",
      "DQA player 1 won\n"
     ]
    },
    {
     "name": "stderr",
     "output_type": "stream",
     "text": [
      "  2%|▏         | 1660/100000 [02:58<2:11:04, 12.50it/s]"
     ]
    },
    {
     "name": "stdout",
     "output_type": "stream",
     "text": [
      "DQA player 1 won\n",
      "DQA player 1 won\n",
      "DQA player 1 won\n"
     ]
    },
    {
     "name": "stderr",
     "output_type": "stream",
     "text": [
      "\r",
      "  2%|▏         | 1662/100000 [02:58<2:29:27, 10.97it/s]"
     ]
    },
    {
     "name": "stdout",
     "output_type": "stream",
     "text": [
      "DQA player 1 won\n",
      "DQA player 2 won\n",
      "DQA player 2 won\n",
      "DQA player 1 won\n"
     ]
    },
    {
     "name": "stderr",
     "output_type": "stream",
     "text": [
      "\r",
      "  2%|▏         | 1664/100000 [02:59<3:28:41,  7.85it/s]"
     ]
    },
    {
     "name": "stdout",
     "output_type": "stream",
     "text": [
      "DQA player 2 won\n",
      "DQA player 2 won\n",
      "DQA player 2 won\n"
     ]
    },
    {
     "name": "stderr",
     "output_type": "stream",
     "text": [
      "  2%|▏         | 1666/100000 [02:59<4:15:52,  6.41it/s]"
     ]
    },
    {
     "name": "stdout",
     "output_type": "stream",
     "text": [
      "DQA player 2 won\n",
      "DQA player 2 won\n",
      "DQA player 2 won\n"
     ]
    },
    {
     "name": "stderr",
     "output_type": "stream",
     "text": [
      "\r",
      "  2%|▏         | 1667/100000 [02:59<3:56:13,  6.94it/s]"
     ]
    },
    {
     "name": "stdout",
     "output_type": "stream",
     "text": [
      "DQA player 2 won\n",
      "DQA player 2 won\n"
     ]
    },
    {
     "name": "stderr",
     "output_type": "stream",
     "text": [
      "\r",
      "  2%|▏         | 1668/100000 [02:59<5:15:33,  5.19it/s]"
     ]
    },
    {
     "name": "stdout",
     "output_type": "stream",
     "text": [
      "DQA player 2 won\n",
      "DQA player 2 won\n",
      "DQA player 2 won\n"
     ]
    },
    {
     "name": "stderr",
     "output_type": "stream",
     "text": [
      "\r",
      "  2%|▏         | 1669/100000 [03:00<5:08:27,  5.31it/s]"
     ]
    },
    {
     "name": "stdout",
     "output_type": "stream",
     "text": [
      "DQA player 2 won\n",
      "DQA player 1 won\n",
      "DQA player 2 won\n"
     ]
    },
    {
     "name": "stderr",
     "output_type": "stream",
     "text": [
      "\r",
      "  2%|▏         | 1671/100000 [03:00<4:34:32,  5.97it/s]"
     ]
    },
    {
     "name": "stdout",
     "output_type": "stream",
     "text": [
      "DQA player 2 won\n",
      "DQA player 2 won\n"
     ]
    },
    {
     "name": "stderr",
     "output_type": "stream",
     "text": [
      "  2%|▏         | 1674/100000 [03:00<3:58:02,  6.88it/s]"
     ]
    },
    {
     "name": "stdout",
     "output_type": "stream",
     "text": [
      "DQA player 2 won\n",
      "DQA player 1 won\n",
      "DQA player 1 won\n",
      "DQA player 1 won\n"
     ]
    },
    {
     "name": "stderr",
     "output_type": "stream",
     "text": [
      "  2%|▏         | 1679/100000 [03:00<2:36:04, 10.50it/s]"
     ]
    },
    {
     "name": "stdout",
     "output_type": "stream",
     "text": [
      "DQA player 2 won\n",
      "DQA player 2 won\n",
      "DQA player 1 won\n",
      "DQA player 1 won\n",
      "DQA player 1 won\n",
      "DQA player 1 won\n",
      "DQA player 1 won\n"
     ]
    },
    {
     "name": "stderr",
     "output_type": "stream",
     "text": [
      "  2%|▏         | 1685/100000 [03:01<1:53:08, 14.48it/s]"
     ]
    },
    {
     "name": "stdout",
     "output_type": "stream",
     "text": [
      "DQA player 1 won\n",
      "DQA player 1 won\n",
      "DQA player 1 won\n",
      "DQA player 1 won\n",
      "DQA player 1 won\n"
     ]
    },
    {
     "name": "stderr",
     "output_type": "stream",
     "text": [
      "  2%|▏         | 1689/100000 [03:01<1:43:59, 15.76it/s]"
     ]
    },
    {
     "name": "stdout",
     "output_type": "stream",
     "text": [
      "DQA player 1 won\n",
      "DQA player 2 won\n",
      "DQA player 2 won\n",
      "DQA player 1 won\n",
      "DQA player 1 won\n",
      "DQA player 1 won\n"
     ]
    },
    {
     "name": "stderr",
     "output_type": "stream",
     "text": [
      "  2%|▏         | 1695/100000 [03:01<1:26:32, 18.93it/s]"
     ]
    },
    {
     "name": "stdout",
     "output_type": "stream",
     "text": [
      "DQA player 1 won\n",
      "DQA player 1 won\n",
      "DQA player 2 won\n",
      "DQA player 2 won\n",
      "DQA player 2 won\n",
      "DQA player 2 won\n",
      "DQA player 1 won\n"
     ]
    },
    {
     "name": "stderr",
     "output_type": "stream",
     "text": [
      "  2%|▏         | 1701/100000 [03:01<1:16:17, 21.48it/s]"
     ]
    },
    {
     "name": "stdout",
     "output_type": "stream",
     "text": [
      "DQA player 1 won\n",
      "DQA player 1 won\n",
      "DQA player 2 won\n",
      "DQA player 2 won\n",
      "DQA player 1 won\n",
      "DQA player 1 won\n",
      "DQA player 1 won\n"
     ]
    },
    {
     "name": "stderr",
     "output_type": "stream",
     "text": [
      "  2%|▏         | 1707/100000 [03:02<1:14:37, 21.95it/s]"
     ]
    },
    {
     "name": "stdout",
     "output_type": "stream",
     "text": [
      "DQA player 1 won\n",
      "DQA player 1 won\n",
      "DQA player 1 won\n",
      "DQA player 1 won\n",
      "DQA player 2 won\n",
      "DQA player 2 won\n"
     ]
    },
    {
     "name": "stderr",
     "output_type": "stream",
     "text": [
      "\r",
      "  2%|▏         | 1710/100000 [03:02<1:12:03, 22.73it/s]"
     ]
    },
    {
     "name": "stdout",
     "output_type": "stream",
     "text": [
      "DQA player 1 won\n",
      "DQA player 1 won\n",
      "DQA player 1 won\n",
      "DQA player 1 won\n",
      "DQA player 1 won\n",
      "DQA player 2 won\n"
     ]
    },
    {
     "name": "stderr",
     "output_type": "stream",
     "text": [
      "  2%|▏         | 1716/100000 [03:02<1:12:44, 22.52it/s]"
     ]
    },
    {
     "name": "stdout",
     "output_type": "stream",
     "text": [
      "DQA player 2 won\n",
      "DQA player 2 won\n",
      "DQA player 2 won\n",
      "DQA player 2 won\n",
      "DQA player 2 won\n",
      "DQA player 1 won\n",
      "DQA player 1 won\n"
     ]
    },
    {
     "name": "stderr",
     "output_type": "stream",
     "text": [
      "  2%|▏         | 1722/100000 [03:02<1:09:43, 23.49it/s]"
     ]
    },
    {
     "name": "stdout",
     "output_type": "stream",
     "text": [
      "DQA player 1 won\n",
      "DQA player 1 won\n",
      "DQA player 1 won\n",
      "DQA player 2 won\n",
      "DQA player 2 won\n",
      "DQA player 1 won\n"
     ]
    },
    {
     "name": "stderr",
     "output_type": "stream",
     "text": [
      "\r",
      "  2%|▏         | 1725/100000 [03:02<1:10:44, 23.15it/s]"
     ]
    },
    {
     "name": "stdout",
     "output_type": "stream",
     "text": [
      "DQA player 2 won\n",
      "DQA player 2 won\n",
      "DQA player 1 won\n",
      "DQA player 1 won\n",
      "DQA player 2 won\n",
      "DQA player 2 won\n",
      "DQA player 1 won\n"
     ]
    },
    {
     "name": "stderr",
     "output_type": "stream",
     "text": [
      "  2%|▏         | 1731/100000 [03:03<1:11:26, 22.92it/s]"
     ]
    },
    {
     "name": "stdout",
     "output_type": "stream",
     "text": [
      "DQA player 2 won\n",
      "DQA player 2 won\n",
      "DQA player 1 won\n",
      "DQA player 2 won\n",
      "DQA player 2 won\n",
      "DQA player 2 won\n",
      "DQA player 2 won\n",
      "DQA player 1 won\n"
     ]
    },
    {
     "name": "stderr",
     "output_type": "stream",
     "text": [
      "  2%|▏         | 1737/100000 [03:03<1:10:57, 23.08it/s]"
     ]
    },
    {
     "name": "stdout",
     "output_type": "stream",
     "text": [
      "DQA player 1 won\n",
      "DQA player 2 won\n",
      "DQA player 2 won\n",
      "DQA player 2 won\n",
      "DQA player 2 won\n",
      "DQA player 1 won\n",
      "DQA player 1 won\n"
     ]
    },
    {
     "name": "stderr",
     "output_type": "stream",
     "text": [
      "\r",
      "  2%|▏         | 1740/100000 [03:03<1:16:48, 21.32it/s]"
     ]
    },
    {
     "name": "stdout",
     "output_type": "stream",
     "text": [
      "DQA player 2 won\n",
      "DQA player 2 won\n",
      "DQA player 2 won\n",
      "DQA player 2 won\n",
      "DQA player 1 won\n",
      "DQA player 1 won\n",
      "DQA player 1 won\n"
     ]
    },
    {
     "name": "stderr",
     "output_type": "stream",
     "text": [
      "  2%|▏         | 1746/100000 [03:03<1:12:01, 22.73it/s]"
     ]
    },
    {
     "name": "stdout",
     "output_type": "stream",
     "text": [
      "DQA player 1 won\n",
      "DQA player 2 won\n",
      "DQA player 2 won\n",
      "DQA player 1 won\n",
      "DQA player 1 won\n",
      "DQA player 1 won\n",
      "DQA player 1 won\n"
     ]
    },
    {
     "name": "stderr",
     "output_type": "stream",
     "text": [
      "  2%|▏         | 1752/100000 [03:04<1:11:26, 22.92it/s]"
     ]
    },
    {
     "name": "stdout",
     "output_type": "stream",
     "text": [
      "DQA player 1 won\n",
      "DQA player 1 won\n",
      "DQA player 1 won\n",
      "DQA player 1 won\n",
      "DQA player 1 won\n"
     ]
    },
    {
     "name": "stderr",
     "output_type": "stream",
     "text": [
      "  2%|▏         | 1758/100000 [03:04<1:12:38, 22.54it/s]"
     ]
    },
    {
     "name": "stdout",
     "output_type": "stream",
     "text": [
      "DQA player 1 won\n",
      "DQA player 1 won\n",
      "DQA player 1 won\n",
      "DQA player 1 won\n",
      "DQA player 2 won\n",
      "DQA player 2 won\n"
     ]
    },
    {
     "name": "stderr",
     "output_type": "stream",
     "text": [
      "\r",
      "  2%|▏         | 1761/100000 [03:04<1:23:23, 19.63it/s]"
     ]
    },
    {
     "name": "stdout",
     "output_type": "stream",
     "text": [
      "DQA player 1 won\n",
      "DQA player 2 won\n",
      "DQA player 2 won\n",
      "DQA player 1 won\n"
     ]
    },
    {
     "name": "stderr",
     "output_type": "stream",
     "text": [
      "  2%|▏         | 1767/100000 [03:04<1:15:15, 21.76it/s]"
     ]
    },
    {
     "name": "stdout",
     "output_type": "stream",
     "text": [
      "DQA player 1 won\n",
      "DQA player 1 won\n",
      "DQA player 2 won\n",
      "DQA player 2 won\n",
      "DQA player 1 won\n",
      "DQA player 1 won\n",
      "DQA player 1 won\n"
     ]
    },
    {
     "name": "stderr",
     "output_type": "stream",
     "text": [
      "\r",
      "  2%|▏         | 1770/100000 [03:04<1:15:45, 21.61it/s]"
     ]
    },
    {
     "name": "stdout",
     "output_type": "stream",
     "text": [
      "DQA player 1 won\n",
      "DQA player 1 won\n",
      "DQA player 2 won\n",
      "DQA player 2 won\n",
      "DQA player 2 won\n",
      "DQA player 2 won\n"
     ]
    },
    {
     "name": "stderr",
     "output_type": "stream",
     "text": [
      "  2%|▏         | 1776/100000 [03:05<1:16:32, 21.39it/s]"
     ]
    },
    {
     "name": "stdout",
     "output_type": "stream",
     "text": [
      "DQA player 2 won\n",
      "DQA player 2 won\n",
      "DQA player 1 won\n",
      "DQA player 1 won\n",
      "DQA player 1 won\n",
      "DQA player 1 won\n"
     ]
    },
    {
     "name": "stderr",
     "output_type": "stream",
     "text": [
      "\r",
      "  2%|▏         | 1779/100000 [03:05<1:17:28, 21.13it/s]"
     ]
    },
    {
     "name": "stdout",
     "output_type": "stream",
     "text": [
      "DQA player 2 won\n",
      "DQA player 2 won\n",
      "DQA player 1 won\n",
      "DQA player 1 won\n",
      "DQA player 1 won\n",
      "DQA player 1 won\n"
     ]
    },
    {
     "name": "stderr",
     "output_type": "stream",
     "text": [
      "  2%|▏         | 1785/100000 [03:05<1:20:17, 20.39it/s]"
     ]
    },
    {
     "name": "stdout",
     "output_type": "stream",
     "text": [
      "DQA player 1 won\n",
      "DQA player 1 won\n",
      "DQA player 2 won\n",
      "DQA player 2 won\n",
      "DQA player 1 won\n",
      "DQA player 1 won\n"
     ]
    },
    {
     "name": "stderr",
     "output_type": "stream",
     "text": [
      "\r",
      "  2%|▏         | 1788/100000 [03:05<1:17:27, 21.13it/s]"
     ]
    },
    {
     "name": "stdout",
     "output_type": "stream",
     "text": [
      "DQA player 2 won\n",
      "DQA player 2 won\n",
      "DQA player 1 won\n",
      "DQA player 1 won\n",
      "DQA player 1 won\n"
     ]
    },
    {
     "name": "stderr",
     "output_type": "stream",
     "text": [
      "  2%|▏         | 1794/100000 [03:06<1:17:08, 21.22it/s]"
     ]
    },
    {
     "name": "stdout",
     "output_type": "stream",
     "text": [
      "DQA player 2 won\n",
      "DQA player 2 won\n",
      "DQA player 2 won\n",
      "DQA player 2 won\n",
      "DQA player 1 won\n",
      "DQA player 1 won\n",
      "DQA player 2 won\n",
      "DQA player 2 won\n"
     ]
    },
    {
     "name": "stderr",
     "output_type": "stream",
     "text": [
      "\r",
      "  2%|▏         | 1797/100000 [03:06<1:14:10, 22.07it/s]"
     ]
    },
    {
     "name": "stdout",
     "output_type": "stream",
     "text": [
      "DQA player 1 won\n",
      "DQA player 1 won\n",
      "DQA player 2 won\n",
      "DQA player 2 won\n",
      "DQA player 1 won\n"
     ]
    },
    {
     "name": "stderr",
     "output_type": "stream",
     "text": [
      "  2%|▏         | 1803/100000 [03:06<1:35:36, 17.12it/s]"
     ]
    },
    {
     "name": "stdout",
     "output_type": "stream",
     "text": [
      "DQA player 1 won\n",
      "DQA player 1 won\n",
      "DQA player 2 won\n",
      "DQA player 2 won\n",
      "DQA player 1 won\n",
      "DQA player 1 won\n"
     ]
    },
    {
     "name": "stderr",
     "output_type": "stream",
     "text": [
      "\r",
      "  2%|▏         | 1806/100000 [03:06<1:33:31, 17.50it/s]"
     ]
    },
    {
     "name": "stdout",
     "output_type": "stream",
     "text": [
      "DQA player 1 won\n",
      "DQA player 1 won\n",
      "DQA player 1 won\n"
     ]
    },
    {
     "name": "stderr",
     "output_type": "stream",
     "text": [
      "  2%|▏         | 1811/100000 [03:07<1:43:44, 15.78it/s]"
     ]
    },
    {
     "name": "stdout",
     "output_type": "stream",
     "text": [
      "DQA player 2 won\n",
      "DQA player 2 won\n",
      "DQA player 1 won\n",
      "DQA player 1 won\n",
      "DQA player 1 won\n"
     ]
    },
    {
     "name": "stderr",
     "output_type": "stream",
     "text": [
      "  2%|▏         | 1815/100000 [03:07<1:47:17, 15.25it/s]"
     ]
    },
    {
     "name": "stdout",
     "output_type": "stream",
     "text": [
      "DQA player 1 won\n",
      "DQA player 1 won\n",
      "DQA player 1 won\n",
      "DQA player 2 won\n",
      "DQA player 2 won\n"
     ]
    },
    {
     "name": "stderr",
     "output_type": "stream",
     "text": [
      "\r",
      "  2%|▏         | 1817/100000 [03:07<1:56:09, 14.09it/s]"
     ]
    },
    {
     "name": "stdout",
     "output_type": "stream",
     "text": [
      "DQA player 1 won\n",
      "DQA player 1 won\n",
      "DQA player 1 won\n"
     ]
    },
    {
     "name": "stderr",
     "output_type": "stream",
     "text": [
      "  2%|▏         | 1821/100000 [03:07<1:46:46, 15.32it/s]"
     ]
    },
    {
     "name": "stdout",
     "output_type": "stream",
     "text": [
      "DQA player 1 won\n",
      "DQA player 1 won\n",
      "DQA player 1 won\n",
      "DQA player 1 won\n",
      "DQA player 1 won\n"
     ]
    },
    {
     "name": "stderr",
     "output_type": "stream",
     "text": [
      "  2%|▏         | 1826/100000 [03:08<1:36:39, 16.93it/s]"
     ]
    },
    {
     "name": "stdout",
     "output_type": "stream",
     "text": [
      "DQA player 1 won\n",
      "DQA player 1 won\n",
      "DQA player 1 won\n",
      "DQA player 1 won\n"
     ]
    },
    {
     "name": "stderr",
     "output_type": "stream",
     "text": [
      "\r",
      "  2%|▏         | 1829/100000 [03:08<1:34:42, 17.28it/s]"
     ]
    },
    {
     "name": "stdout",
     "output_type": "stream",
     "text": [
      "DQA player 1 won\n",
      "DQA player 1 won\n",
      "DQA player 1 won\n",
      "DQA player 1 won\n"
     ]
    },
    {
     "name": "stderr",
     "output_type": "stream",
     "text": [
      "  2%|▏         | 1834/100000 [03:08<1:41:36, 16.10it/s]"
     ]
    },
    {
     "name": "stdout",
     "output_type": "stream",
     "text": [
      "DQA player 1 won\n",
      "DQA player 2 won\n",
      "DQA player 2 won\n",
      "DQA player 1 won\n"
     ]
    },
    {
     "name": "stderr",
     "output_type": "stream",
     "text": [
      "\r",
      "  2%|▏         | 1836/100000 [03:08<1:57:46, 13.89it/s]"
     ]
    },
    {
     "name": "stdout",
     "output_type": "stream",
     "text": [
      "DQA player 1 won\n",
      "DQA player 1 won\n",
      "DQA player 1 won\n",
      "DQA player 1 won"
     ]
    },
    {
     "name": "stderr",
     "output_type": "stream",
     "text": [
      "  2%|▏         | 1840/100000 [03:09<1:56:08, 14.09it/s]"
     ]
    },
    {
     "name": "stdout",
     "output_type": "stream",
     "text": [
      "\n",
      "DQA player 1 won\n",
      "DQA player 1 won\n"
     ]
    },
    {
     "name": "stderr",
     "output_type": "stream",
     "text": [
      "  2%|▏         | 1844/100000 [03:09<1:49:40, 14.92it/s]"
     ]
    },
    {
     "name": "stdout",
     "output_type": "stream",
     "text": [
      "DQA player 1 won\n",
      "DQA player 1 won\n",
      "DQA player 1 won\n",
      "DQA player 1 won\n"
     ]
    },
    {
     "name": "stderr",
     "output_type": "stream",
     "text": [
      "\r",
      "  2%|▏         | 1846/100000 [03:09<1:45:00, 15.58it/s]"
     ]
    },
    {
     "name": "stdout",
     "output_type": "stream",
     "text": [
      "DQA player 1 won\n",
      "DQA player 1 won\n",
      "DQA player 2 won\n",
      "DQA player 2 won\n"
     ]
    },
    {
     "name": "stderr",
     "output_type": "stream",
     "text": [
      "  2%|▏         | 1850/100000 [03:09<2:07:55, 12.79it/s]"
     ]
    },
    {
     "name": "stdout",
     "output_type": "stream",
     "text": [
      "DQA player 2 won\n",
      "DQA player 2 won\n",
      "DQA player 1 won\n",
      "DQA player 1 won\n",
      "DQA player 1 won\n"
     ]
    },
    {
     "name": "stderr",
     "output_type": "stream",
     "text": [
      "\r",
      "  2%|▏         | 1852/100000 [03:11<8:09:38,  3.34it/s]"
     ]
    },
    {
     "name": "stdout",
     "output_type": "stream",
     "text": [
      "DQA player 1 won\n"
     ]
    },
    {
     "name": "stderr",
     "output_type": "stream",
     "text": [
      "\r",
      "  2%|▏         | 1853/100000 [03:12<11:11:08,  2.44it/s]"
     ]
    },
    {
     "name": "stdout",
     "output_type": "stream",
     "text": [
      "DQA player 1 won\n"
     ]
    },
    {
     "name": "stderr",
     "output_type": "stream",
     "text": [
      "\r",
      "  2%|▏         | 1854/100000 [03:12<11:21:15,  2.40it/s]"
     ]
    },
    {
     "name": "stdout",
     "output_type": "stream",
     "text": [
      "DQA player 2 won\n",
      "DQA player 2 won\n"
     ]
    },
    {
     "name": "stderr",
     "output_type": "stream",
     "text": [
      "  2%|▏         | 1856/100000 [03:12<7:26:15,  3.67it/s] "
     ]
    },
    {
     "name": "stdout",
     "output_type": "stream",
     "text": [
      "DQA player 1 won\n",
      "DQA player 1 won\n"
     ]
    },
    {
     "name": "stderr",
     "output_type": "stream",
     "text": [
      "\r",
      "  2%|▏         | 1857/100000 [03:13<9:21:58,  2.91it/s]"
     ]
    },
    {
     "name": "stdout",
     "output_type": "stream",
     "text": [
      "DQA player 2 won\n",
      "DQA player 2 won\n"
     ]
    },
    {
     "name": "stderr",
     "output_type": "stream",
     "text": [
      "\r",
      "  2%|▏         | 1858/100000 [03:14<13:41:05,  1.99it/s]"
     ]
    },
    {
     "name": "stdout",
     "output_type": "stream",
     "text": [
      "DQA player 1 won\n"
     ]
    },
    {
     "name": "stderr",
     "output_type": "stream",
     "text": [
      "\r",
      "  2%|▏         | 1859/100000 [03:15<20:12:37,  1.35it/s]"
     ]
    },
    {
     "name": "stdout",
     "output_type": "stream",
     "text": [
      "DQA player 2 won\n",
      "DQA player 2 won\n"
     ]
    },
    {
     "name": "stderr",
     "output_type": "stream",
     "text": [
      "\r",
      "  2%|▏         | 1860/100000 [03:16<20:59:47,  1.30it/s]"
     ]
    },
    {
     "name": "stdout",
     "output_type": "stream",
     "text": [
      "DQA player 1 won\n"
     ]
    },
    {
     "name": "stderr",
     "output_type": "stream",
     "text": [
      "\r",
      "  2%|▏         | 1861/100000 [03:17<22:13:18,  1.23it/s]"
     ]
    },
    {
     "name": "stdout",
     "output_type": "stream",
     "text": [
      "DQA player 1 won\n"
     ]
    },
    {
     "name": "stderr",
     "output_type": "stream",
     "text": [
      "\r",
      "  2%|▏         | 1862/100000 [03:17<21:53:22,  1.25it/s]"
     ]
    },
    {
     "name": "stdout",
     "output_type": "stream",
     "text": [
      "DQA player 2 won\n",
      "DQA player 2 won\n"
     ]
    },
    {
     "name": "stderr",
     "output_type": "stream",
     "text": [
      "\r",
      "  2%|▏         | 1863/100000 [03:18<19:48:20,  1.38it/s]"
     ]
    },
    {
     "name": "stdout",
     "output_type": "stream",
     "text": [
      "DQA player 1 won\n"
     ]
    },
    {
     "name": "stderr",
     "output_type": "stream",
     "text": [
      "\r",
      "  2%|▏         | 1864/100000 [03:19<19:31:41,  1.40it/s]"
     ]
    },
    {
     "name": "stdout",
     "output_type": "stream",
     "text": [
      "DQA player 1 won\n"
     ]
    },
    {
     "name": "stderr",
     "output_type": "stream",
     "text": [
      "\r",
      "  2%|▏         | 1865/100000 [03:20<20:02:19,  1.36it/s]"
     ]
    },
    {
     "name": "stdout",
     "output_type": "stream",
     "text": [
      "DQA player 1 won\n"
     ]
    },
    {
     "name": "stderr",
     "output_type": "stream",
     "text": [
      "\r",
      "  2%|▏         | 1866/100000 [03:20<19:34:54,  1.39it/s]"
     ]
    },
    {
     "name": "stdout",
     "output_type": "stream",
     "text": [
      "DQA player 1 won\n"
     ]
    },
    {
     "name": "stderr",
     "output_type": "stream",
     "text": [
      "\r",
      "  2%|▏         | 1867/100000 [03:21<16:47:39,  1.62it/s]"
     ]
    },
    {
     "name": "stdout",
     "output_type": "stream",
     "text": [
      "DQA player 1 won\n"
     ]
    },
    {
     "name": "stderr",
     "output_type": "stream",
     "text": [
      "\r",
      "  2%|▏         | 1868/100000 [03:21<16:25:24,  1.66it/s]"
     ]
    },
    {
     "name": "stdout",
     "output_type": "stream",
     "text": [
      "DQA player 1 won\n"
     ]
    },
    {
     "name": "stderr",
     "output_type": "stream",
     "text": [
      "\r",
      "  2%|▏         | 1869/100000 [03:22<17:16:45,  1.58it/s]"
     ]
    },
    {
     "name": "stdout",
     "output_type": "stream",
     "text": [
      "DQA player 1 won\n"
     ]
    },
    {
     "name": "stderr",
     "output_type": "stream",
     "text": [
      "\r",
      "  2%|▏         | 1870/100000 [03:22<14:55:17,  1.83it/s]"
     ]
    },
    {
     "name": "stdout",
     "output_type": "stream",
     "text": [
      "DQA player 1 won\n"
     ]
    },
    {
     "name": "stderr",
     "output_type": "stream",
     "text": [
      "\r",
      "  2%|▏         | 1871/100000 [03:22<12:35:30,  2.16it/s]"
     ]
    },
    {
     "name": "stdout",
     "output_type": "stream",
     "text": [
      "DQA player 1 won\n"
     ]
    },
    {
     "name": "stderr",
     "output_type": "stream",
     "text": [
      "  2%|▏         | 1874/100000 [03:23<8:02:00,  3.39it/s] "
     ]
    },
    {
     "name": "stdout",
     "output_type": "stream",
     "text": [
      "DQA player 1 won\n",
      "DQA player 1 won\n",
      "DQA player 2 won\n",
      "DQA player 2 won\n"
     ]
    },
    {
     "name": "stderr",
     "output_type": "stream",
     "text": [
      "\r",
      "  2%|▏         | 1875/100000 [03:23<6:55:33,  3.94it/s]"
     ]
    },
    {
     "name": "stdout",
     "output_type": "stream",
     "text": [
      "DQA player 1 won\n"
     ]
    },
    {
     "name": "stderr",
     "output_type": "stream",
     "text": [
      "\r",
      "  2%|▏         | 1876/100000 [03:23<9:00:56,  3.02it/s]"
     ]
    },
    {
     "name": "stdout",
     "output_type": "stream",
     "text": [
      "DQA player 1 won\n",
      "DQA player 1 won\n"
     ]
    },
    {
     "name": "stderr",
     "output_type": "stream",
     "text": [
      "  2%|▏         | 1879/100000 [03:24<6:27:45,  4.22it/s]"
     ]
    },
    {
     "name": "stdout",
     "output_type": "stream",
     "text": [
      "DQA player 1 won\n",
      "DQA player 2 won\n",
      "DQA player 2 won\n"
     ]
    },
    {
     "name": "stderr",
     "output_type": "stream",
     "text": [
      "  2%|▏         | 1882/100000 [03:24<4:21:29,  6.25it/s]"
     ]
    },
    {
     "name": "stdout",
     "output_type": "stream",
     "text": [
      "DQA player 1 won\n",
      "DQA player 1 won\n",
      "DQA player 1 won\n"
     ]
    },
    {
     "name": "stderr",
     "output_type": "stream",
     "text": [
      "  2%|▏         | 1885/100000 [03:24<3:19:08,  8.21it/s]"
     ]
    },
    {
     "name": "stdout",
     "output_type": "stream",
     "text": [
      "DQA player 2 won\n",
      "DQA player 2 won\n",
      "DQA player 1 won\n",
      "DQA player 1 won\n"
     ]
    },
    {
     "name": "stderr",
     "output_type": "stream",
     "text": [
      "\r",
      "  2%|▏         | 1887/100000 [03:25<3:25:15,  7.97it/s]"
     ]
    },
    {
     "name": "stdout",
     "output_type": "stream",
     "text": [
      "DQA player 2 won\n",
      "DQA player 2 won\n",
      "DQA player 1 won\n",
      "DQA player 1 won\n",
      "DQA player 1 won\n"
     ]
    },
    {
     "name": "stderr",
     "output_type": "stream",
     "text": [
      "  2%|▏         | 1893/100000 [03:25<2:18:36, 11.80it/s]"
     ]
    },
    {
     "name": "stdout",
     "output_type": "stream",
     "text": [
      "DQA player 2 won\n",
      "DQA player 2 won\n",
      "DQA player 1 won\n",
      "DQA player 1 won\n",
      "DQA player 1 won\n",
      "DQA player 1 won\n"
     ]
    },
    {
     "name": "stderr",
     "output_type": "stream",
     "text": [
      "  2%|▏         | 1898/100000 [03:25<1:49:21, 14.95it/s]"
     ]
    },
    {
     "name": "stdout",
     "output_type": "stream",
     "text": [
      "DQA player 2 won\n",
      "DQA player 2 won\n",
      "DQA player 2 won\n",
      "DQA player 2 won\n",
      "DQA player 1 won\n",
      "DQA player 2 won\n",
      "DQA player 2 won\n",
      "DQA player 1 won\n"
     ]
    },
    {
     "name": "stderr",
     "output_type": "stream",
     "text": [
      "  2%|▏         | 1902/100000 [03:25<1:42:53, 15.89it/s]"
     ]
    },
    {
     "name": "stdout",
     "output_type": "stream",
     "text": [
      "DQA player 1 won\n",
      "DQA player 1 won\n",
      "DQA player 1 won\n",
      "DQA player 1 won\n"
     ]
    },
    {
     "name": "stderr",
     "output_type": "stream",
     "text": [
      "  2%|▏         | 1906/100000 [03:26<1:55:37, 14.14it/s]"
     ]
    },
    {
     "name": "stdout",
     "output_type": "stream",
     "text": [
      "DQA player 1 won\n",
      "DQA player 1 won\n",
      "DQA player 1 won\n"
     ]
    },
    {
     "name": "stderr",
     "output_type": "stream",
     "text": [
      "  2%|▏         | 1911/100000 [03:26<1:34:31, 17.29it/s]"
     ]
    },
    {
     "name": "stdout",
     "output_type": "stream",
     "text": [
      "DQA player 2 won\n",
      "DQA player 2 won\n",
      "DQA player 1 won\n",
      "DQA player 1 won\n",
      "DQA player 1 won\n",
      "DQA player 1 won\n"
     ]
    },
    {
     "name": "stderr",
     "output_type": "stream",
     "text": [
      "\r",
      "  2%|▏         | 1913/100000 [03:26<1:47:34, 15.20it/s]"
     ]
    },
    {
     "name": "stdout",
     "output_type": "stream",
     "text": [
      "DQA player 1 won\n",
      "DQA player 1 won\n",
      "DQA player 1 won\n",
      "DQA player 1 won\n"
     ]
    },
    {
     "name": "stderr",
     "output_type": "stream",
     "text": [
      "  2%|▏         | 1917/100000 [03:27<3:07:19,  8.73it/s]"
     ]
    },
    {
     "name": "stdout",
     "output_type": "stream",
     "text": [
      "DQA player 1 won\n",
      "DQA player 1 won\n",
      "DQA player 2 won\n",
      "DQA player 2 won\n"
     ]
    },
    {
     "name": "stderr",
     "output_type": "stream",
     "text": [
      "  2%|▏         | 1921/100000 [03:27<2:21:59, 11.51it/s]"
     ]
    },
    {
     "name": "stdout",
     "output_type": "stream",
     "text": [
      "DQA player 1 won\n",
      "DQA player 2 won\n",
      "DQA player 2 won\n",
      "DQA player 2 won\n",
      "DQA player 2 won\n",
      "DQA player 1 won\n"
     ]
    },
    {
     "name": "stderr",
     "output_type": "stream",
     "text": [
      "\r",
      "  2%|▏         | 1924/100000 [03:27<2:07:13, 12.85it/s]"
     ]
    },
    {
     "name": "stdout",
     "output_type": "stream",
     "text": [
      "DQA player 1 won\n",
      "DQA player 1 won\n",
      "DQA player 1 won\n"
     ]
    },
    {
     "name": "stderr",
     "output_type": "stream",
     "text": [
      "  2%|▏         | 1929/100000 [03:27<1:47:11, 15.25it/s]"
     ]
    },
    {
     "name": "stdout",
     "output_type": "stream",
     "text": [
      "DQA player 1 won\n",
      "DQA player 1 won\n",
      "DQA player 1 won\n",
      "DQA player 1 won\n",
      "DQA player 1 won\n"
     ]
    },
    {
     "name": "stderr",
     "output_type": "stream",
     "text": [
      "  2%|▏         | 1934/100000 [03:28<1:36:12, 16.99it/s]"
     ]
    },
    {
     "name": "stdout",
     "output_type": "stream",
     "text": [
      "DQA player 1 won\n",
      "DQA player 1 won\n",
      "DQA player 2 won\n",
      "DQA player 2 won\n",
      "DQA player 1 won\n"
     ]
    },
    {
     "name": "stderr",
     "output_type": "stream",
     "text": [
      "\r",
      "  2%|▏         | 1937/100000 [03:28<1:32:18, 17.71it/s]"
     ]
    },
    {
     "name": "stdout",
     "output_type": "stream",
     "text": [
      "DQA player 1 won\n",
      "DQA player 1 won\n",
      "DQA player 1 won\n",
      "DQA player 1 won\n"
     ]
    },
    {
     "name": "stderr",
     "output_type": "stream",
     "text": [
      "  2%|▏         | 1942/100000 [03:28<1:29:44, 18.21it/s]"
     ]
    },
    {
     "name": "stdout",
     "output_type": "stream",
     "text": [
      "DQA player 2 won\n",
      "DQA player 2 won\n",
      "DQA player 2 won\n",
      "DQA player 2 won\n",
      "DQA player 1 won\n",
      "DQA player 2 won\n",
      "DQA player 2 won\n"
     ]
    },
    {
     "name": "stderr",
     "output_type": "stream",
     "text": [
      "  2%|▏         | 1947/100000 [03:28<1:23:15, 19.63it/s]"
     ]
    },
    {
     "name": "stdout",
     "output_type": "stream",
     "text": [
      "DQA player 2 won\n",
      "DQA player 2 won\n",
      "DQA player 1 won\n",
      "DQA player 1 won\n",
      "DQA player 1 won\n",
      "DQA player 1 won\n"
     ]
    },
    {
     "name": "stderr",
     "output_type": "stream",
     "text": [
      "\r",
      "  2%|▏         | 1950/100000 [03:28<1:19:51, 20.46it/s]"
     ]
    },
    {
     "name": "stdout",
     "output_type": "stream",
     "text": [
      "DQA player 1 won\n",
      "DQA player 2 won\n",
      "DQA player 2 won\n",
      "DQA player 1 won\n",
      "DQA player 2 won\n",
      "DQA player 2 won\n"
     ]
    },
    {
     "name": "stderr",
     "output_type": "stream",
     "text": [
      "  2%|▏         | 1955/100000 [03:29<1:26:13, 18.95it/s]"
     ]
    },
    {
     "name": "stdout",
     "output_type": "stream",
     "text": [
      "DQA player 2 won\n",
      "DQA player 2 won\n",
      "DQA player 1 won\n",
      "DQA player 2 won\n",
      "DQA player 2 won\n",
      "DQA player 2 won\n",
      "DQA player 2 won\n"
     ]
    },
    {
     "name": "stderr",
     "output_type": "stream",
     "text": [
      "\r",
      "  2%|▏         | 1958/100000 [03:29<1:21:50, 19.96it/s]"
     ]
    },
    {
     "name": "stdout",
     "output_type": "stream",
     "text": [
      "DQA player 1 won\n",
      "DQA player 1 won\n",
      "DQA player 1 won\n",
      "DQA player 1 won\n",
      "DQA player 1 won\n"
     ]
    },
    {
     "name": "stderr",
     "output_type": "stream",
     "text": [
      "  2%|▏         | 1964/100000 [03:29<1:16:06, 21.47it/s]"
     ]
    },
    {
     "name": "stdout",
     "output_type": "stream",
     "text": [
      "DQA player 1 won\n",
      "DQA player 1 won\n",
      "DQA player 1 won\n",
      "DQA player 1 won\n",
      "DQA player 2 won\n"
     ]
    },
    {
     "name": "stderr",
     "output_type": "stream",
     "text": [
      "\r",
      "  2%|▏         | 1967/100000 [03:29<1:30:52, 17.98it/s]"
     ]
    },
    {
     "name": "stdout",
     "output_type": "stream",
     "text": [
      "DQA player 2 won\n",
      "DQA player 1 won\n",
      "DQA player 1 won\n",
      "DQA player 1 won\n"
     ]
    },
    {
     "name": "stderr",
     "output_type": "stream",
     "text": [
      "  2%|▏         | 1973/100000 [03:30<1:21:44, 19.99it/s]"
     ]
    },
    {
     "name": "stdout",
     "output_type": "stream",
     "text": [
      "DQA player 1 won\n",
      "DQA player 2 won\n",
      "DQA player 2 won\n",
      "DQA player 2 won\n",
      "DQA player 2 won\n",
      "DQA player 1 won\n",
      "DQA player 1 won\n"
     ]
    },
    {
     "name": "stderr",
     "output_type": "stream",
     "text": [
      "\r",
      "  2%|▏         | 1976/100000 [03:30<1:20:06, 20.40it/s]"
     ]
    },
    {
     "name": "stdout",
     "output_type": "stream",
     "text": [
      "DQA player 1 won\n",
      "DQA player 1 won\n",
      "DQA player 1 won\n",
      "DQA player 1 won\n",
      "DQA player 2 won\n",
      "DQA player 2 won\n"
     ]
    },
    {
     "name": "stderr",
     "output_type": "stream",
     "text": [
      "  2%|▏         | 1982/100000 [03:30<1:12:39, 22.48it/s]"
     ]
    },
    {
     "name": "stdout",
     "output_type": "stream",
     "text": [
      "DQA player 1 won\n",
      "DQA player 1 won\n",
      "DQA player 1 won\n",
      "DQA player 1 won\n",
      "DQA player 1 won\n",
      "DQA player 1 won\n"
     ]
    },
    {
     "name": "stderr",
     "output_type": "stream",
     "text": [
      "  2%|▏         | 1988/100000 [03:30<1:08:14, 23.94it/s]"
     ]
    },
    {
     "name": "stdout",
     "output_type": "stream",
     "text": [
      "DQA player 1 won\n",
      "DQA player 1 won\n",
      "DQA player 1 won\n",
      "DQA player 2 won\n",
      "DQA player 2 won\n",
      "DQA player 1 won\n",
      "DQA player 1 won\n"
     ]
    },
    {
     "name": "stderr",
     "output_type": "stream",
     "text": [
      "  2%|▏         | 1994/100000 [03:31<1:09:46, 23.41it/s]"
     ]
    },
    {
     "name": "stdout",
     "output_type": "stream",
     "text": [
      "DQA player 2 won\n",
      "DQA player 2 won\n",
      "DQA player 1 won\n",
      "DQA player 1 won\n",
      "DQA player 1 won\n",
      "DQA player 1 won\n"
     ]
    },
    {
     "name": "stderr",
     "output_type": "stream",
     "text": [
      "\r",
      "  2%|▏         | 1997/100000 [03:31<1:16:02, 21.48it/s]"
     ]
    },
    {
     "name": "stdout",
     "output_type": "stream",
     "text": [
      "DQA player 1 won\n",
      "DQA player 2 won\n",
      "DQA player 2 won\n",
      "DQA player 1 won\n",
      "DQA player 2 won\n",
      "DQA player 2 won\n",
      "DQA player 2 won"
     ]
    },
    {
     "name": "stderr",
     "output_type": "stream",
     "text": [
      "  2%|▏         | 2003/100000 [03:31<1:13:51, 22.11it/s]"
     ]
    },
    {
     "name": "stdout",
     "output_type": "stream",
     "text": [
      "\n",
      "DQA player 2 won\n",
      "DQA player 1 won\n",
      "DQA player 1 won\n",
      "DQA player 1 won\n",
      "DQA player 1 won\n"
     ]
    },
    {
     "name": "stderr",
     "output_type": "stream",
     "text": [
      "\r",
      "  2%|▏         | 2006/100000 [03:31<1:14:32, 21.91it/s]"
     ]
    },
    {
     "name": "stdout",
     "output_type": "stream",
     "text": [
      "DQA player 2 won\n",
      "DQA player 2 won\n",
      "DQA player 1 won\n",
      "DQA player 1 won\n",
      "DQA player 2 won\n",
      "DQA player 2 won\n",
      "DQA player 2 won\n"
     ]
    },
    {
     "name": "stderr",
     "output_type": "stream",
     "text": [
      "  2%|▏         | 2012/100000 [03:31<1:21:32, 20.03it/s]"
     ]
    },
    {
     "name": "stdout",
     "output_type": "stream",
     "text": [
      "DQA player 2 won\n",
      "DQA player 2 won\n",
      "DQA player 2 won\n",
      "DQA player 1 won\n",
      "DQA player 1 won\n"
     ]
    },
    {
     "name": "stderr",
     "output_type": "stream",
     "text": [
      "\r",
      "  2%|▏         | 2015/100000 [03:32<1:16:11, 21.44it/s]"
     ]
    },
    {
     "name": "stdout",
     "output_type": "stream",
     "text": [
      "DQA player 1 won\n",
      "DQA player 1 won\n",
      "DQA player 1 won\n",
      "DQA player 1 won\n",
      "DQA player 1 won\n"
     ]
    },
    {
     "name": "stderr",
     "output_type": "stream",
     "text": [
      "  2%|▏         | 2021/100000 [03:32<1:19:36, 20.51it/s]"
     ]
    },
    {
     "name": "stdout",
     "output_type": "stream",
     "text": [
      "DQA player 1 won\n",
      "DQA player 1 won\n",
      "DQA player 1 won\n",
      "DQA player 1 won\n"
     ]
    },
    {
     "name": "stderr",
     "output_type": "stream",
     "text": [
      "\r",
      "  2%|▏         | 2024/100000 [03:32<1:26:33, 18.87it/s]"
     ]
    },
    {
     "name": "stdout",
     "output_type": "stream",
     "text": [
      "DQA player 1 won\n",
      "DQA player 1 won\n",
      "DQA player 1 won\n",
      "DQA player 1 won\n"
     ]
    },
    {
     "name": "stderr",
     "output_type": "stream",
     "text": [
      "\r",
      "  2%|▏         | 2026/100000 [03:32<1:46:50, 15.28it/s]"
     ]
    },
    {
     "name": "stdout",
     "output_type": "stream",
     "text": [
      "DQA player 2 won\n",
      "DQA player 2 won\n",
      "DQA player 2 won\n",
      "DQA player 2 won\n"
     ]
    },
    {
     "name": "stderr",
     "output_type": "stream",
     "text": [
      "  2%|▏         | 2031/100000 [03:33<1:47:33, 15.18it/s]"
     ]
    },
    {
     "name": "stdout",
     "output_type": "stream",
     "text": [
      "DQA player 2 won\n",
      "DQA player 2 won\n",
      "DQA player 1 won\n",
      "DQA player 2 won\n",
      "DQA player 2 won\n",
      "DQA player 2 won\n",
      "DQA player 2 won\n",
      "DQA player 1 won\n"
     ]
    },
    {
     "name": "stderr",
     "output_type": "stream",
     "text": [
      "  2%|▏         | 2037/100000 [03:33<1:26:44, 18.82it/s]"
     ]
    },
    {
     "name": "stdout",
     "output_type": "stream",
     "text": [
      "DQA player 1 won\n",
      "DQA player 1 won\n",
      "DQA player 1 won\n",
      "DQA player 2 won\n",
      "DQA player 2 won\n",
      "DQA player 1 won\n"
     ]
    },
    {
     "name": "stderr",
     "output_type": "stream",
     "text": [
      "\r",
      "  2%|▏         | 2040/100000 [03:33<1:47:33, 15.18it/s]"
     ]
    },
    {
     "name": "stdout",
     "output_type": "stream",
     "text": [
      "DQA player 1 won\n",
      "DQA player 1 won\n",
      "DQA player 1 won\n",
      "DQA player 1 won"
     ]
    },
    {
     "name": "stderr",
     "output_type": "stream",
     "text": [
      "\r",
      "  2%|▏         | 2042/100000 [03:33<1:45:25, 15.49it/s]"
     ]
    },
    {
     "name": "stdout",
     "output_type": "stream",
     "text": [
      "\n",
      "DQA player 1 won\n",
      "DQA player 1 won\n"
     ]
    },
    {
     "name": "stderr",
     "output_type": "stream",
     "text": [
      "  2%|▏         | 2046/100000 [03:33<1:46:14, 15.37it/s]"
     ]
    },
    {
     "name": "stdout",
     "output_type": "stream",
     "text": [
      "DQA player 1 won\n",
      "DQA player 2 won\n",
      "DQA player 2 won\n",
      "DQA player 1 won\n",
      "DQA player 2 won\n",
      "DQA player 2 won\n"
     ]
    },
    {
     "name": "stderr",
     "output_type": "stream",
     "text": [
      "  2%|▏         | 2052/100000 [03:34<1:30:02, 18.13it/s]"
     ]
    },
    {
     "name": "stdout",
     "output_type": "stream",
     "text": [
      "DQA player 1 won\n",
      "DQA player 1 won\n",
      "DQA player 1 won\n",
      "DQA player 1 won\n",
      "DQA player 1 won\n"
     ]
    },
    {
     "name": "stderr",
     "output_type": "stream",
     "text": [
      "\r",
      "  2%|▏         | 2055/100000 [03:34<1:22:30, 19.79it/s]"
     ]
    },
    {
     "name": "stdout",
     "output_type": "stream",
     "text": [
      "DQA player 1 won\n",
      "DQA player 1 won\n",
      "DQA player 2 won\n",
      "DQA player 2 won\n",
      "DQA player 1 won\n",
      "DQA player 1 won\n",
      "DQA player 2 won\n"
     ]
    },
    {
     "name": "stderr",
     "output_type": "stream",
     "text": [
      "  2%|▏         | 2061/100000 [03:34<1:14:46, 21.83it/s]"
     ]
    },
    {
     "name": "stdout",
     "output_type": "stream",
     "text": [
      "DQA player 2 won\n",
      "DQA player 2 won\n",
      "DQA player 2 won\n",
      "DQA player 1 won\n",
      "DQA player 1 won\n",
      "DQA player 2 won\n",
      "DQA player 2 won\n"
     ]
    },
    {
     "name": "stderr",
     "output_type": "stream",
     "text": [
      "\r",
      "  2%|▏         | 2064/100000 [03:34<1:14:33, 21.89it/s]"
     ]
    },
    {
     "name": "stdout",
     "output_type": "stream",
     "text": [
      "DQA player 1 won\n",
      "DQA player 2 won\n",
      "DQA player 2 won\n",
      "DQA player 1 won\n",
      "DQA player 1 won\n",
      "DQA player 2 won\n"
     ]
    },
    {
     "name": "stderr",
     "output_type": "stream",
     "text": [
      "  2%|▏         | 2070/100000 [03:35<1:14:10, 22.00it/s]"
     ]
    },
    {
     "name": "stdout",
     "output_type": "stream",
     "text": [
      "DQA player 2 won\n",
      "DQA player 1 won\n",
      "DQA player 1 won\n",
      "DQA player 1 won\n",
      "DQA player 2 won\n",
      "DQA player 2 won\n"
     ]
    },
    {
     "name": "stderr",
     "output_type": "stream",
     "text": [
      "\r",
      "  2%|▏         | 2073/100000 [03:35<1:21:35, 20.00it/s]"
     ]
    },
    {
     "name": "stdout",
     "output_type": "stream",
     "text": [
      "DQA player 1 won\n",
      "DQA player 1 won\n",
      "DQA player 1 won\n",
      "DQA player 1 won\n"
     ]
    },
    {
     "name": "stderr",
     "output_type": "stream",
     "text": [
      "  2%|▏         | 2078/100000 [03:35<1:32:36, 17.62it/s]"
     ]
    },
    {
     "name": "stdout",
     "output_type": "stream",
     "text": [
      "DQA player 2 won\n",
      "DQA player 2 won\n",
      "DQA player 2 won\n",
      "DQA player 2 won\n",
      "DQA player 2 won\n",
      "DQA player 2 won\n",
      "DQA player 1 won\n"
     ]
    },
    {
     "name": "stderr",
     "output_type": "stream",
     "text": [
      "  2%|▏         | 2084/100000 [03:35<1:22:23, 19.81it/s]"
     ]
    },
    {
     "name": "stdout",
     "output_type": "stream",
     "text": [
      "DQA player 1 won\n",
      "DQA player 1 won\n",
      "DQA player 1 won\n",
      "DQA player 1 won\n",
      "DQA player 1 won\n"
     ]
    },
    {
     "name": "stderr",
     "output_type": "stream",
     "text": [
      "\r",
      "  2%|▏         | 2087/100000 [03:36<1:30:14, 18.08it/s]"
     ]
    },
    {
     "name": "stdout",
     "output_type": "stream",
     "text": [
      "DQA player 2 won\n",
      "DQA player 2 won\n",
      "DQA player 1 won\n",
      "DQA player 2 won\n",
      "DQA player 2 won\n",
      "DQA player 1 won\n"
     ]
    },
    {
     "name": "stderr",
     "output_type": "stream",
     "text": [
      "  2%|▏         | 2091/100000 [03:36<1:27:37, 18.62it/s]"
     ]
    },
    {
     "name": "stdout",
     "output_type": "stream",
     "text": [
      "DQA player 2 won\n",
      "DQA player 2 won\n",
      "DQA player 1 won\n",
      "DQA player 2 won\n",
      "DQA player 2 won\n",
      "DQA player 1 won\n",
      "DQA player 1 won\n"
     ]
    },
    {
     "name": "stderr",
     "output_type": "stream",
     "text": [
      "  2%|▏         | 2097/100000 [03:36<1:18:17, 20.84it/s]"
     ]
    },
    {
     "name": "stdout",
     "output_type": "stream",
     "text": [
      "DQA player 1 won\n",
      "DQA player 1 won\n",
      "DQA player 1 won\n",
      "DQA player 1 won\n",
      "DQA player 1 won\n"
     ]
    },
    {
     "name": "stderr",
     "output_type": "stream",
     "text": [
      "  2%|▏         | 2103/100000 [03:36<1:16:33, 21.31it/s]"
     ]
    },
    {
     "name": "stdout",
     "output_type": "stream",
     "text": [
      "DQA player 1 won\n",
      "DQA player 1 won\n",
      "DQA player 2 won\n",
      "DQA player 2 won\n",
      "DQA player 2 won\n",
      "DQA player 2 won\n",
      "DQA player 1 won\n"
     ]
    },
    {
     "name": "stderr",
     "output_type": "stream",
     "text": [
      "\r",
      "  2%|▏         | 2106/100000 [03:36<1:16:22, 21.36it/s]"
     ]
    },
    {
     "name": "stdout",
     "output_type": "stream",
     "text": [
      "DQA player 1 won\n",
      "DQA player 1 won\n",
      "DQA player 2 won\n",
      "DQA player 2 won\n",
      "DQA player 2 won\n",
      "DQA player 2 won\n",
      "DQA player 1 won\n"
     ]
    },
    {
     "name": "stderr",
     "output_type": "stream",
     "text": [
      "  2%|▏         | 2112/100000 [03:37<1:14:07, 22.01it/s]"
     ]
    },
    {
     "name": "stdout",
     "output_type": "stream",
     "text": [
      "DQA player 2 won\n",
      "DQA player 2 won\n",
      "DQA player 1 won\n",
      "DQA player 1 won\n",
      "DQA player 1 won\n",
      "DQA player 1 won\n",
      "DQA player 1 won\n"
     ]
    },
    {
     "name": "stderr",
     "output_type": "stream",
     "text": [
      "\r",
      "  2%|▏         | 2115/100000 [03:37<1:14:24, 21.93it/s]"
     ]
    },
    {
     "name": "stdout",
     "output_type": "stream",
     "text": [
      "DQA player 1 won\n",
      "DQA player 1 won\n"
     ]
    },
    {
     "name": "stderr",
     "output_type": "stream",
     "text": [
      "  2%|▏         | 2120/100000 [03:37<1:48:05, 15.09it/s]"
     ]
    },
    {
     "name": "stdout",
     "output_type": "stream",
     "text": [
      "DQA player 1 won\n",
      "DQA player 1 won\n",
      "DQA player 1 won\n",
      "DQA player 2 won\n",
      "DQA player 2 won\n"
     ]
    },
    {
     "name": "stderr",
     "output_type": "stream",
     "text": [
      "\r",
      "  2%|▏         | 2122/100000 [03:38<2:22:05, 11.48it/s]"
     ]
    },
    {
     "name": "stdout",
     "output_type": "stream",
     "text": [
      "DQA player 2 won\n",
      "DQA player 2 won\n",
      "DQA player 2 won\n",
      "DQA player 2 won\n",
      "DQA player 1 won\n",
      "DQA player 1 won\n"
     ]
    },
    {
     "name": "stderr",
     "output_type": "stream",
     "text": [
      "\r",
      "  2%|▏         | 2125/100000 [03:38<2:03:46, 13.18it/s]"
     ]
    },
    {
     "name": "stdout",
     "output_type": "stream",
     "text": [
      "DQA player 2 won\n",
      "DQA player 2 won\n",
      "DQA player 1 won\n",
      "DQA player 1 won\n",
      "DQA player 2 won\n"
     ]
    },
    {
     "name": "stderr",
     "output_type": "stream",
     "text": [
      "  2%|▏         | 2130/100000 [03:38<1:58:50, 13.73it/s]"
     ]
    },
    {
     "name": "stdout",
     "output_type": "stream",
     "text": [
      "DQA player 2 won\n",
      "DQA player 1 won\n",
      "DQA player 2 won\n",
      "DQA player 2 won\n",
      "DQA player 1 won\n"
     ]
    },
    {
     "name": "stderr",
     "output_type": "stream",
     "text": [
      "  2%|▏         | 2135/100000 [03:38<1:48:29, 15.03it/s]"
     ]
    },
    {
     "name": "stdout",
     "output_type": "stream",
     "text": [
      "DQA player 1 won\n",
      "DQA player 2 won\n",
      "DQA player 2 won\n",
      "DQA player 1 won\n",
      "DQA player 1 won\n"
     ]
    },
    {
     "name": "stderr",
     "output_type": "stream",
     "text": [
      "\r",
      "  2%|▏         | 2137/100000 [03:38<1:51:23, 14.64it/s]"
     ]
    },
    {
     "name": "stdout",
     "output_type": "stream",
     "text": [
      "DQA player 1 won\n",
      "DQA player 1 won\n",
      "DQA player 1 won\n",
      "DQA player 1 won\n"
     ]
    },
    {
     "name": "stderr",
     "output_type": "stream",
     "text": [
      "  2%|▏         | 2142/100000 [03:39<1:57:16, 13.91it/s]"
     ]
    },
    {
     "name": "stdout",
     "output_type": "stream",
     "text": [
      "DQA player 1 won\n",
      "DQA player 1 won\n",
      "DQA player 1 won\n"
     ]
    },
    {
     "name": "stderr",
     "output_type": "stream",
     "text": [
      "\r",
      "  2%|▏         | 2145/100000 [03:39<1:44:30, 15.60it/s]"
     ]
    },
    {
     "name": "stdout",
     "output_type": "stream",
     "text": [
      "DQA player 2 won\n",
      "DQA player 2 won\n",
      "DQA player 1 won\n",
      "DQA player 1 won\n",
      "DQA player 1 won\n",
      "DQA player 1 won\n"
     ]
    },
    {
     "name": "stderr",
     "output_type": "stream",
     "text": [
      "  2%|▏         | 2151/100000 [03:39<1:28:41, 18.39it/s]"
     ]
    },
    {
     "name": "stdout",
     "output_type": "stream",
     "text": [
      "DQA player 2 won\n",
      "DQA player 2 won\n",
      "DQA player 1 won\n",
      "DQA player 2 won\n",
      "DQA player 2 won\n",
      "DQA player 1 won\n",
      "DQA player 1 won\n"
     ]
    },
    {
     "name": "stderr",
     "output_type": "stream",
     "text": [
      "  2%|▏         | 2157/100000 [03:39<1:18:31, 20.77it/s]"
     ]
    },
    {
     "name": "stdout",
     "output_type": "stream",
     "text": [
      "DQA player 2 won\n",
      "DQA player 2 won\n",
      "DQA player 1 won\n",
      "DQA player 1 won\n",
      "DQA player 1 won\n",
      "DQA player 1 won\n"
     ]
    },
    {
     "name": "stderr",
     "output_type": "stream",
     "text": [
      "\r",
      "  2%|▏         | 2160/100000 [03:40<1:15:05, 21.72it/s]"
     ]
    },
    {
     "name": "stdout",
     "output_type": "stream",
     "text": [
      "DQA player 2 won\n",
      "DQA player 2 won\n",
      "DQA player 1 won\n",
      "DQA player 1 won\n",
      "DQA player 1 won\n",
      "DQA player 1 won\n"
     ]
    },
    {
     "name": "stderr",
     "output_type": "stream",
     "text": [
      "  2%|▏         | 2166/100000 [03:40<1:12:45, 22.41it/s]"
     ]
    },
    {
     "name": "stdout",
     "output_type": "stream",
     "text": [
      "DQA player 1 won\n",
      "DQA player 1 won\n",
      "DQA player 2 won\n",
      "DQA player 2 won\n",
      "DQA player 1 won\n",
      "DQA player 1 won\n"
     ]
    },
    {
     "name": "stderr",
     "output_type": "stream",
     "text": [
      "  2%|▏         | 2172/100000 [03:40<1:12:54, 22.37it/s]"
     ]
    },
    {
     "name": "stdout",
     "output_type": "stream",
     "text": [
      "DQA player 1 won\n",
      "DQA player 1 won\n",
      "DQA player 1 won\n",
      "DQA player 2 won\n",
      "DQA player 2 won\n",
      "DQA player 1 won\n"
     ]
    },
    {
     "name": "stderr",
     "output_type": "stream",
     "text": [
      "\r",
      "  2%|▏         | 2175/100000 [03:40<1:12:33, 22.47it/s]"
     ]
    },
    {
     "name": "stdout",
     "output_type": "stream",
     "text": [
      "DQA player 2 won\n",
      "DQA player 2 won\n",
      "DQA player 1 won\n",
      "DQA player 1 won\n",
      "DQA player 1 won\n",
      "DQA player 1 won\n"
     ]
    },
    {
     "name": "stderr",
     "output_type": "stream",
     "text": [
      "\r",
      "  2%|▏         | 2178/100000 [03:40<1:12:44, 22.41it/s]"
     ]
    },
    {
     "name": "stdout",
     "output_type": "stream",
     "text": [
      "DQA player 1 won\n",
      "DQA player 2 won\n",
      "DQA player 2 won\n",
      "DQA player 1 won\n",
      "DQA player 2 won\n"
     ]
    },
    {
     "name": "stderr",
     "output_type": "stream",
     "text": [
      "  2%|▏         | 2184/100000 [03:41<1:19:32, 20.49it/s]"
     ]
    },
    {
     "name": "stdout",
     "output_type": "stream",
     "text": [
      "DQA player 2 won\n",
      "DQA player 2 won\n",
      "DQA player 2 won\n",
      "DQA player 1 won\n",
      "DQA player 1 won\n",
      "DQA player 1 won\n"
     ]
    },
    {
     "name": "stderr",
     "output_type": "stream",
     "text": [
      "  2%|▏         | 2190/100000 [03:41<1:12:30, 22.48it/s]"
     ]
    },
    {
     "name": "stdout",
     "output_type": "stream",
     "text": [
      "DQA player 1 won\n",
      "DQA player 1 won\n",
      "DQA player 1 won\n",
      "DQA player 1 won\n",
      "DQA player 1 won\n"
     ]
    },
    {
     "name": "stderr",
     "output_type": "stream",
     "text": [
      "\r",
      "  2%|▏         | 2193/100000 [03:41<1:20:05, 20.36it/s]"
     ]
    },
    {
     "name": "stdout",
     "output_type": "stream",
     "text": [
      "DQA player 2 won\n",
      "DQA player 2 won\n",
      "DQA player 2 won\n",
      "DQA player 2 won\n",
      "DQA player 1 won\n",
      "DQA player 1 won\n"
     ]
    },
    {
     "name": "stderr",
     "output_type": "stream",
     "text": [
      "  2%|▏         | 2199/100000 [03:41<1:18:09, 20.85it/s]"
     ]
    },
    {
     "name": "stdout",
     "output_type": "stream",
     "text": [
      "DQA player 1 won\n",
      "DQA player 1 won\n",
      "DQA player 1 won\n",
      "DQA player 2 won\n",
      "DQA player 2 won\n",
      "DQA player 1 won\n"
     ]
    },
    {
     "name": "stderr",
     "output_type": "stream",
     "text": [
      "\r",
      "  2%|▏         | 2202/100000 [03:42<1:29:46, 18.16it/s]"
     ]
    },
    {
     "name": "stdout",
     "output_type": "stream",
     "text": [
      "DQA player 1 won\n",
      "DQA player 1 won\n",
      "DQA player 1 won\n"
     ]
    },
    {
     "name": "stderr",
     "output_type": "stream",
     "text": [
      "  2%|▏         | 2207/100000 [03:42<1:25:04, 19.16it/s]"
     ]
    },
    {
     "name": "stdout",
     "output_type": "stream",
     "text": [
      "DQA player 2 won\n",
      "DQA player 2 won\n",
      "DQA player 1 won\n",
      "DQA player 1 won\n",
      "DQA player 1 won\n",
      "DQA player 1 won\n"
     ]
    },
    {
     "name": "stderr",
     "output_type": "stream",
     "text": [
      "  2%|▏         | 2212/100000 [03:42<1:23:07, 19.61it/s]"
     ]
    },
    {
     "name": "stdout",
     "output_type": "stream",
     "text": [
      "DQA player 2 won\n",
      "DQA player 2 won\n",
      "DQA player 1 won\n",
      "DQA player 1 won\n",
      "DQA player 1 won\n",
      "DQA player 1 won\n"
     ]
    },
    {
     "name": "stderr",
     "output_type": "stream",
     "text": [
      "\r",
      "  2%|▏         | 2215/100000 [03:42<1:19:11, 20.58it/s]"
     ]
    },
    {
     "name": "stdout",
     "output_type": "stream",
     "text": [
      "DQA player 1 won\n",
      "DQA player 1 won\n",
      "DQA player 1 won\n",
      "DQA player 1 won\n",
      "DQA player 1 won\n"
     ]
    },
    {
     "name": "stderr",
     "output_type": "stream",
     "text": [
      "  2%|▏         | 2221/100000 [03:43<1:15:03, 21.71it/s]"
     ]
    },
    {
     "name": "stdout",
     "output_type": "stream",
     "text": [
      "DQA player 1 won\n",
      "DQA player 2 won\n",
      "DQA player 2 won\n",
      "DQA player 1 won\n",
      "DQA player 1 won\n",
      "DQA player 1 won\n"
     ]
    },
    {
     "name": "stderr",
     "output_type": "stream",
     "text": [
      "  2%|▏         | 2227/100000 [03:43<1:13:36, 22.14it/s]"
     ]
    },
    {
     "name": "stdout",
     "output_type": "stream",
     "text": [
      "DQA player 1 won\n",
      "DQA player 1 won\n",
      "DQA player 1 won\n",
      "DQA player 2 won\n",
      "DQA player 2 won\n",
      "DQA player 2 won\n",
      "DQA player 2 won\n"
     ]
    },
    {
     "name": "stderr",
     "output_type": "stream",
     "text": [
      "\r",
      "  2%|▏         | 2230/100000 [03:43<1:17:28, 21.03it/s]"
     ]
    },
    {
     "name": "stdout",
     "output_type": "stream",
     "text": [
      "DQA player 1 won\n",
      "DQA player 1 won\n",
      "DQA player 1 won\n",
      "DQA player 1 won\n",
      "DQA player 1 won\n"
     ]
    },
    {
     "name": "stderr",
     "output_type": "stream",
     "text": [
      "  2%|▏         | 2236/100000 [03:43<1:17:05, 21.13it/s]"
     ]
    },
    {
     "name": "stdout",
     "output_type": "stream",
     "text": [
      "DQA player 1 won\n",
      "DQA player 1 won\n",
      "DQA player 1 won\n",
      "DQA player 2 won\n",
      "DQA player 2 won\n",
      "DQA player 1 won\n"
     ]
    },
    {
     "name": "stderr",
     "output_type": "stream",
     "text": [
      "  2%|▏         | 2242/100000 [03:43<1:15:18, 21.64it/s]"
     ]
    },
    {
     "name": "stdout",
     "output_type": "stream",
     "text": [
      "DQA player 1 won\n",
      "DQA player 1 won\n",
      "DQA player 1 won\n",
      "DQA player 1 won\n",
      "DQA player 2 won\n",
      "DQA player 2 won\n"
     ]
    },
    {
     "name": "stderr",
     "output_type": "stream",
     "text": [
      "\r",
      "  2%|▏         | 2245/100000 [03:44<1:14:29, 21.87it/s]"
     ]
    },
    {
     "name": "stdout",
     "output_type": "stream",
     "text": [
      "DQA player 1 won\n",
      "DQA player 1 won\n",
      "DQA player 2 won\n",
      "DQA player 2 won\n",
      "DQA player 2 won\n",
      "DQA player 2 won\n",
      "DQA player 1 won\n"
     ]
    },
    {
     "name": "stderr",
     "output_type": "stream",
     "text": [
      "  2%|▏         | 2251/100000 [03:44<1:12:25, 22.49it/s]"
     ]
    },
    {
     "name": "stdout",
     "output_type": "stream",
     "text": [
      "DQA player 2 won\n",
      "DQA player 2 won\n",
      "DQA player 1 won\n",
      "DQA player 1 won\n",
      "DQA player 1 won\n",
      "DQA player 1 won\n",
      "DQA player 1 won\n"
     ]
    },
    {
     "name": "stderr",
     "output_type": "stream",
     "text": [
      "\r",
      "  2%|▏         | 2254/100000 [03:44<1:10:50, 23.00it/s]"
     ]
    },
    {
     "name": "stdout",
     "output_type": "stream",
     "text": [
      "DQA player 2 won\n",
      "DQA player 2 won\n",
      "DQA player 1 won\n",
      "DQA player 2 won"
     ]
    },
    {
     "name": "stderr",
     "output_type": "stream",
     "text": [
      "\r",
      "  2%|▏         | 2257/100000 [03:44<1:42:48, 15.85it/s]"
     ]
    },
    {
     "name": "stdout",
     "output_type": "stream",
     "text": [
      "\n",
      "DQA player 2 won\n",
      "DQA player 1 won\n",
      "DQA player 1 won\n",
      "DQA player 1 won\n"
     ]
    },
    {
     "name": "stderr",
     "output_type": "stream",
     "text": [
      "  2%|▏         | 2263/100000 [03:45<1:29:47, 18.14it/s]"
     ]
    },
    {
     "name": "stdout",
     "output_type": "stream",
     "text": [
      "DQA player 1 won\n",
      "DQA player 2 won\n",
      "DQA player 2 won\n",
      "DQA player 1 won\n",
      "DQA player 2 won\n",
      "DQA player 2 won\n"
     ]
    },
    {
     "name": "stderr",
     "output_type": "stream",
     "text": [
      "\r",
      "  2%|▏         | 2266/100000 [03:45<1:27:18, 18.66it/s]"
     ]
    },
    {
     "name": "stdout",
     "output_type": "stream",
     "text": [
      "DQA player 1 won\n",
      "DQA player 1 won\n",
      "DQA player 2 won\n",
      "DQA player 2 won\n",
      "DQA player 1 won\n",
      "DQA player 1 won\n"
     ]
    },
    {
     "name": "stderr",
     "output_type": "stream",
     "text": [
      "  2%|▏         | 2272/100000 [03:45<1:22:39, 19.71it/s]"
     ]
    },
    {
     "name": "stdout",
     "output_type": "stream",
     "text": [
      "DQA player 1 won\n",
      "DQA player 1 won\n",
      "DQA player 1 won\n",
      "DQA player 2 won\n",
      "DQA player 2 won\n",
      "DQA player 1 won\n"
     ]
    },
    {
     "name": "stderr",
     "output_type": "stream",
     "text": [
      "\r",
      "  2%|▏         | 2275/100000 [03:45<1:19:21, 20.53it/s]"
     ]
    },
    {
     "name": "stdout",
     "output_type": "stream",
     "text": [
      "DQA player 1 won\n",
      "DQA player 1 won\n",
      "DQA player 1 won\n",
      "DQA player 1 won\n",
      "DQA player 1 won"
     ]
    },
    {
     "name": "stderr",
     "output_type": "stream",
     "text": [
      "  2%|▏         | 2281/100000 [03:45<1:20:29, 20.24it/s]"
     ]
    },
    {
     "name": "stdout",
     "output_type": "stream",
     "text": [
      "\n",
      "DQA player 1 won\n",
      "DQA player 1 won\n",
      "DQA player 1 won\n",
      "DQA player 1 won\n"
     ]
    },
    {
     "name": "stderr",
     "output_type": "stream",
     "text": [
      "  2%|▏         | 2287/100000 [03:46<1:18:17, 20.80it/s]"
     ]
    },
    {
     "name": "stdout",
     "output_type": "stream",
     "text": [
      "DQA player 1 won\n",
      "DQA player 1 won\n",
      "DQA player 1 won\n",
      "DQA player 1 won\n",
      "DQA player 1 won\n"
     ]
    },
    {
     "name": "stderr",
     "output_type": "stream",
     "text": [
      "\r",
      "  2%|▏         | 2290/100000 [03:46<1:16:08, 21.39it/s]"
     ]
    },
    {
     "name": "stdout",
     "output_type": "stream",
     "text": [
      "DQA player 1 won\n",
      "DQA player 1 won\n",
      "DQA player 1 won\n",
      "DQA player 2 won\n",
      "DQA player 2 won\n"
     ]
    },
    {
     "name": "stderr",
     "output_type": "stream",
     "text": [
      "  2%|▏         | 2296/100000 [03:46<1:19:29, 20.48it/s]"
     ]
    },
    {
     "name": "stdout",
     "output_type": "stream",
     "text": [
      "DQA player 2 won\n",
      "DQA player 2 won\n",
      "DQA player 1 won\n",
      "DQA player 1 won\n",
      "DQA player 1 won\n",
      "DQA player 1 won\n"
     ]
    },
    {
     "name": "stderr",
     "output_type": "stream",
     "text": [
      "\r",
      "  2%|▏         | 2299/100000 [03:46<1:28:35, 18.38it/s]"
     ]
    },
    {
     "name": "stdout",
     "output_type": "stream",
     "text": [
      "DQA player 1 won\n",
      "DQA player 1 won\n",
      "DQA player 1 won\n",
      "DQA player 2 won\n"
     ]
    },
    {
     "name": "stderr",
     "output_type": "stream",
     "text": [
      "\r",
      "  2%|▏         | 2302/100000 [03:47<1:21:59, 19.86it/s]"
     ]
    },
    {
     "name": "stdout",
     "output_type": "stream",
     "text": [
      "DQA player 2 won\n",
      "DQA player 1 won\n",
      "DQA player 1 won\n",
      "DQA player 1 won\n",
      "DQA player 2 won\n",
      "DQA player 2 won\n"
     ]
    },
    {
     "name": "stderr",
     "output_type": "stream",
     "text": [
      "\r",
      "  2%|▏         | 2305/100000 [03:47<1:20:33, 20.21it/s]"
     ]
    },
    {
     "name": "stdout",
     "output_type": "stream",
     "text": [
      "DQA player 1 won\n",
      "DQA player 1 won\n"
     ]
    },
    {
     "name": "stderr",
     "output_type": "stream",
     "text": [
      "  2%|▏         | 2310/100000 [03:47<1:33:08, 17.48it/s]"
     ]
    },
    {
     "name": "stdout",
     "output_type": "stream",
     "text": [
      "DQA player 1 won\n",
      "DQA player 1 won\n",
      "DQA player 2 won\n",
      "DQA player 2 won\n",
      "DQA player 2 won\n",
      "DQA player 2 won\n",
      "DQA player 2 won\n"
     ]
    },
    {
     "name": "stderr",
     "output_type": "stream",
     "text": [
      "  2%|▏         | 2315/100000 [03:47<1:24:28, 19.27it/s]"
     ]
    },
    {
     "name": "stdout",
     "output_type": "stream",
     "text": [
      "DQA player 2 won\n",
      "DQA player 1 won\n",
      "DQA player 1 won\n",
      "DQA player 1 won\n",
      "DQA player 1 won\n"
     ]
    },
    {
     "name": "stderr",
     "output_type": "stream",
     "text": [
      "\r",
      "  2%|▏         | 2318/100000 [03:47<1:26:42, 18.78it/s]"
     ]
    },
    {
     "name": "stdout",
     "output_type": "stream",
     "text": [
      "DQA player 1 won\n",
      "DQA player 1 won\n",
      "DQA player 1 won\n",
      "DQA player 2 won\n",
      "DQA player 2 won\n"
     ]
    },
    {
     "name": "stderr",
     "output_type": "stream",
     "text": [
      "  2%|▏         | 2322/100000 [03:48<1:28:05, 18.48it/s]"
     ]
    },
    {
     "name": "stdout",
     "output_type": "stream",
     "text": [
      "DQA player 2 won\n",
      "DQA player 2 won\n",
      "DQA player 1 won\n",
      "DQA player 1 won\n",
      "DQA player 1 won\n"
     ]
    },
    {
     "name": "stderr",
     "output_type": "stream",
     "text": [
      "  2%|▏         | 2327/100000 [03:48<1:30:12, 18.04it/s]"
     ]
    },
    {
     "name": "stdout",
     "output_type": "stream",
     "text": [
      "DQA player 1 won\n",
      "DQA player 1 won\n",
      "DQA player 1 won\n",
      "DQA player 2 won\n",
      "DQA player 2 won\n"
     ]
    },
    {
     "name": "stderr",
     "output_type": "stream",
     "text": [
      "  2%|▏         | 2331/100000 [03:48<1:43:17, 15.76it/s]"
     ]
    },
    {
     "name": "stdout",
     "output_type": "stream",
     "text": [
      "DQA player 1 won\n",
      "DQA player 1 won\n",
      "DQA player 1 won\n",
      "DQA player 1 won\n"
     ]
    },
    {
     "name": "stderr",
     "output_type": "stream",
     "text": [
      "  2%|▏         | 2336/100000 [03:49<1:40:08, 16.25it/s]"
     ]
    },
    {
     "name": "stdout",
     "output_type": "stream",
     "text": [
      "DQA player 2 won\n",
      "DQA player 2 won\n",
      "DQA player 1 won\n",
      "DQA player 1 won\n",
      "DQA player 1 won\n",
      "DQA player 1 won\n"
     ]
    },
    {
     "name": "stderr",
     "output_type": "stream",
     "text": [
      "\r",
      "  2%|▏         | 2339/100000 [03:49<1:33:45, 17.36it/s]"
     ]
    },
    {
     "name": "stdout",
     "output_type": "stream",
     "text": [
      "DQA player 1 won\n",
      "DQA player 1 won\n",
      "DQA player 1 won\n",
      "DQA player 1 won\n",
      "DQA player 1 won\n"
     ]
    },
    {
     "name": "stderr",
     "output_type": "stream",
     "text": [
      "  2%|▏         | 2345/100000 [03:49<1:20:44, 20.16it/s]"
     ]
    },
    {
     "name": "stdout",
     "output_type": "stream",
     "text": [
      "DQA player 1 won\n",
      "DQA player 1 won\n",
      "DQA player 1 won\n",
      "DQA player 1 won\n",
      "DQA player 1 won\n"
     ]
    },
    {
     "name": "stderr",
     "output_type": "stream",
     "text": [
      "\r",
      "  2%|▏         | 2348/100000 [03:49<1:24:31, 19.26it/s]"
     ]
    },
    {
     "name": "stdout",
     "output_type": "stream",
     "text": [
      "DQA player 1 won\n",
      "DQA player 1 won\n",
      "DQA player 2 won\n",
      "DQA player 2 won\n",
      "DQA player 2 won\n",
      "DQA player 2 won\n"
     ]
    },
    {
     "name": "stderr",
     "output_type": "stream",
     "text": [
      "  2%|▏         | 2354/100000 [03:49<1:20:18, 20.27it/s]"
     ]
    },
    {
     "name": "stdout",
     "output_type": "stream",
     "text": [
      "DQA player 1 won\n",
      "DQA player 1 won\n",
      "DQA player 1 won\n",
      "DQA player 1 won\n"
     ]
    },
    {
     "name": "stderr",
     "output_type": "stream",
     "text": [
      "\r",
      "  2%|▏         | 2357/100000 [03:50<1:27:55, 18.51it/s]"
     ]
    },
    {
     "name": "stdout",
     "output_type": "stream",
     "text": [
      "DQA player 2 won\n",
      "DQA player 2 won\n",
      "DQA player 1 won\n",
      "DQA player 2 won\n",
      "DQA player 2 won\n",
      "DQA player 1 won\n",
      "DQA player 1 won\n"
     ]
    },
    {
     "name": "stderr",
     "output_type": "stream",
     "text": [
      "  2%|▏         | 2363/100000 [03:50<1:16:27, 21.28it/s]"
     ]
    },
    {
     "name": "stdout",
     "output_type": "stream",
     "text": [
      "DQA player 1 won\n",
      "DQA player 1 won\n",
      "DQA player 1 won\n",
      "DQA player 1 won\n",
      "DQA player 1 won\n"
     ]
    },
    {
     "name": "stderr",
     "output_type": "stream",
     "text": [
      "\r",
      "  2%|▏         | 2366/100000 [03:50<1:22:56, 19.62it/s]"
     ]
    },
    {
     "name": "stdout",
     "output_type": "stream",
     "text": [
      "DQA player 1 won\n",
      "DQA player 1 won\n",
      "DQA player 1 won\n"
     ]
    },
    {
     "name": "stderr",
     "output_type": "stream",
     "text": [
      "  2%|▏         | 2371/100000 [03:50<1:40:20, 16.22it/s]"
     ]
    },
    {
     "name": "stdout",
     "output_type": "stream",
     "text": [
      "DQA player 1 won\n",
      "DQA player 1 won\n",
      "DQA player 1 won\n",
      "DQA player 1 won\n"
     ]
    },
    {
     "name": "stderr",
     "output_type": "stream",
     "text": [
      "  2%|▏         | 2375/100000 [03:51<1:42:46, 15.83it/s]"
     ]
    },
    {
     "name": "stdout",
     "output_type": "stream",
     "text": [
      "DQA player 1 won\n",
      "DQA player 1 won\n",
      "DQA player 1 won\n",
      "DQA player 1 won\n"
     ]
    },
    {
     "name": "stderr",
     "output_type": "stream",
     "text": [
      "  2%|▏         | 2379/100000 [03:51<1:41:38, 16.01it/s]"
     ]
    },
    {
     "name": "stdout",
     "output_type": "stream",
     "text": [
      "DQA player 1 won\n",
      "DQA player 1 won\n",
      "DQA player 1 won\n",
      "DQA player 1 won\n"
     ]
    },
    {
     "name": "stderr",
     "output_type": "stream",
     "text": [
      "  2%|▏         | 2383/100000 [03:51<1:39:27, 16.36it/s]"
     ]
    },
    {
     "name": "stdout",
     "output_type": "stream",
     "text": [
      "DQA player 1 won\n",
      "DQA player 1 won\n",
      "DQA player 2 won\n",
      "DQA player 2 won\n",
      "DQA player 1 won\n"
     ]
    },
    {
     "name": "stderr",
     "output_type": "stream",
     "text": [
      "  2%|▏         | 2388/100000 [03:51<1:29:30, 18.18it/s]"
     ]
    },
    {
     "name": "stdout",
     "output_type": "stream",
     "text": [
      "DQA player 1 won\n",
      "DQA player 1 won\n",
      "DQA player 1 won\n",
      "DQA player 2 won\n",
      "DQA player 2 won\n",
      "DQA player 2 won\n",
      "DQA player 2 won\n"
     ]
    },
    {
     "name": "stderr",
     "output_type": "stream",
     "text": [
      "  2%|▏         | 2392/100000 [03:52<1:30:15, 18.02it/s]"
     ]
    },
    {
     "name": "stdout",
     "output_type": "stream",
     "text": [
      "DQA player 2 won\n",
      "DQA player 2 won\n",
      "DQA player 2 won\n",
      "DQA player 2 won\n",
      "DQA player 2 won\n",
      "DQA player 2 won\n",
      "DQA player 1 won\n"
     ]
    },
    {
     "name": "stderr",
     "output_type": "stream",
     "text": [
      "  2%|▏         | 2396/100000 [03:52<1:36:32, 16.85it/s]"
     ]
    },
    {
     "name": "stdout",
     "output_type": "stream",
     "text": [
      "DQA player 1 won\n",
      "DQA player 2 won\n",
      "DQA player 2 won\n",
      "DQA player 1 won\n",
      "DQA player 1 won\n",
      "DQA player 1 won\n",
      "DQA player 1 won\n"
     ]
    },
    {
     "name": "stderr",
     "output_type": "stream",
     "text": [
      "  2%|▏         | 2400/100000 [03:52<2:19:32, 11.66it/s]"
     ]
    },
    {
     "name": "stdout",
     "output_type": "stream",
     "text": [
      "DQA player 1 won\n",
      "DQA player 2 won\n",
      "DQA player 2 won\n",
      "DQA player 1 won\n",
      "DQA player 1 won\n"
     ]
    },
    {
     "name": "stderr",
     "output_type": "stream",
     "text": [
      "  2%|▏         | 2406/100000 [03:53<1:46:21, 15.29it/s]"
     ]
    },
    {
     "name": "stdout",
     "output_type": "stream",
     "text": [
      "DQA player 2 won\n",
      "DQA player 2 won\n",
      "DQA player 1 won\n",
      "DQA player 1 won\n",
      "DQA player 1 won\n",
      "DQA player 1 won\n"
     ]
    },
    {
     "name": "stderr",
     "output_type": "stream",
     "text": [
      "\r",
      "  2%|▏         | 2409/100000 [03:53<1:37:58, 16.60it/s]"
     ]
    },
    {
     "name": "stdout",
     "output_type": "stream",
     "text": [
      "DQA player 1 won\n",
      "DQA player 1 won\n",
      "DQA player 1 won\n"
     ]
    },
    {
     "name": "stderr",
     "output_type": "stream",
     "text": [
      "\r",
      "  2%|▏         | 2411/100000 [03:53<1:57:42, 13.82it/s]"
     ]
    },
    {
     "name": "stdout",
     "output_type": "stream",
     "text": [
      "DQA player 1 won\n",
      "DQA player 1 won\n"
     ]
    },
    {
     "name": "stderr",
     "output_type": "stream",
     "text": [
      "  2%|▏         | 2415/100000 [03:53<2:13:20, 12.20it/s]"
     ]
    },
    {
     "name": "stdout",
     "output_type": "stream",
     "text": [
      "DQA player 1 won\n",
      "DQA player 1 won\n",
      "DQA player 1 won\n"
     ]
    },
    {
     "name": "stderr",
     "output_type": "stream",
     "text": [
      "\r",
      "  2%|▏         | 2417/100000 [03:54<2:29:47, 10.86it/s]"
     ]
    },
    {
     "name": "stdout",
     "output_type": "stream",
     "text": [
      "DQA player 2 won\n",
      "DQA player 2 won\n",
      "DQA player 1 won\n"
     ]
    },
    {
     "name": "stderr",
     "output_type": "stream",
     "text": [
      "  2%|▏         | 2422/100000 [03:54<2:07:36, 12.74it/s]"
     ]
    },
    {
     "name": "stdout",
     "output_type": "stream",
     "text": [
      "DQA player 1 won\n",
      "DQA player 1 won\n",
      "DQA player 1 won\n",
      "DQA player 1 won\n",
      "DQA player 1 won\n",
      "DQA player 1 won\n",
      "DQA player 1 won\n"
     ]
    },
    {
     "name": "stderr",
     "output_type": "stream",
     "text": [
      "  2%|▏         | 2429/100000 [03:55<2:16:23, 11.92it/s]"
     ]
    },
    {
     "name": "stdout",
     "output_type": "stream",
     "text": [
      "DQA player 1 won\n",
      "DQA player 1 won\n",
      "DQA player 1 won\n",
      "DQA player 1 won\n",
      "DQA player 1 won\n"
     ]
    },
    {
     "name": "stderr",
     "output_type": "stream",
     "text": [
      "\r",
      "  2%|▏         | 2431/100000 [03:55<2:01:14, 13.41it/s]"
     ]
    },
    {
     "name": "stdout",
     "output_type": "stream",
     "text": [
      "DQA player 1 won\n",
      "DQA player 1 won\n",
      "DQA player 1 won\n"
     ]
    },
    {
     "name": "stderr",
     "output_type": "stream",
     "text": [
      "  2%|▏         | 2436/100000 [03:55<1:49:38, 14.83it/s]"
     ]
    },
    {
     "name": "stdout",
     "output_type": "stream",
     "text": [
      "DQA player 1 won\n",
      "DQA player 1 won\n",
      "DQA player 1 won\n",
      "DQA player 1 won\n",
      "DQA player 1 won\n"
     ]
    },
    {
     "name": "stderr",
     "output_type": "stream",
     "text": [
      "\r",
      "  2%|▏         | 2438/100000 [03:55<1:44:17, 15.59it/s]"
     ]
    },
    {
     "name": "stdout",
     "output_type": "stream",
     "text": [
      "DQA player 2 won\n",
      "DQA player 2 won\n",
      "DQA player 1 won\n"
     ]
    },
    {
     "name": "stderr",
     "output_type": "stream",
     "text": [
      "\r",
      "  2%|▏         | 2440/100000 [03:55<2:05:08, 12.99it/s]"
     ]
    },
    {
     "name": "stdout",
     "output_type": "stream",
     "text": [
      "DQA player 2 won\n",
      "DQA player 2 won\n",
      "DQA player 1 won\n"
     ]
    },
    {
     "name": "stderr",
     "output_type": "stream",
     "text": [
      "  2%|▏         | 2444/100000 [03:56<2:12:20, 12.29it/s]"
     ]
    },
    {
     "name": "stdout",
     "output_type": "stream",
     "text": [
      "DQA player 2 won\n",
      "DQA player 2 won\n",
      "DQA player 1 won\n",
      "DQA player 1 won\n"
     ]
    },
    {
     "name": "stderr",
     "output_type": "stream",
     "text": [
      "\r",
      "  2%|▏         | 2446/100000 [03:56<2:13:50, 12.15it/s]"
     ]
    },
    {
     "name": "stdout",
     "output_type": "stream",
     "text": [
      "DQA player 1 won\n",
      "DQA player 1 won\n",
      "DQA player 2 won\n",
      "DQA player 2 won\n",
      "DQA player 1 won\n"
     ]
    },
    {
     "name": "stderr",
     "output_type": "stream",
     "text": [
      "  2%|▏         | 2452/100000 [03:56<1:44:35, 15.54it/s]"
     ]
    },
    {
     "name": "stdout",
     "output_type": "stream",
     "text": [
      "DQA player 1 won\n",
      "DQA player 1 won\n",
      "DQA player 1 won\n",
      "DQA player 1 won\n",
      "DQA player 1 won\n"
     ]
    },
    {
     "name": "stderr",
     "output_type": "stream",
     "text": [
      "  2%|▏         | 2458/100000 [03:56<1:29:28, 18.17it/s]"
     ]
    },
    {
     "name": "stdout",
     "output_type": "stream",
     "text": [
      "DQA player 1 won\n",
      "DQA player 1 won\n",
      "DQA player 2 won\n",
      "DQA player 2 won\n",
      "DQA player 1 won\n",
      "DQA player 1 won\n"
     ]
    },
    {
     "name": "stderr",
     "output_type": "stream",
     "text": [
      "  2%|▏         | 2463/100000 [03:57<1:20:46, 20.12it/s]"
     ]
    },
    {
     "name": "stdout",
     "output_type": "stream",
     "text": [
      "DQA player 1 won\n",
      "DQA player 1 won\n",
      "DQA player 1 won\n",
      "DQA player 1 won\n",
      "DQA player 1 won\n"
     ]
    },
    {
     "name": "stderr",
     "output_type": "stream",
     "text": [
      "\r",
      "  2%|▏         | 2466/100000 [03:57<1:20:32, 20.18it/s]"
     ]
    },
    {
     "name": "stdout",
     "output_type": "stream",
     "text": [
      "DQA player 1 won\n",
      "DQA player 2 won\n",
      "DQA player 2 won\n",
      "DQA player 1 won\n",
      "DQA player 2 won\n",
      "DQA player 2 won\n"
     ]
    },
    {
     "name": "stderr",
     "output_type": "stream",
     "text": [
      "  2%|▏         | 2471/100000 [03:57<1:27:17, 18.62it/s]"
     ]
    },
    {
     "name": "stdout",
     "output_type": "stream",
     "text": [
      "DQA player 1 won\n",
      "DQA player 1 won\n",
      "DQA player 1 won\n",
      "DQA player 2 won\n",
      "DQA player 2 won\n"
     ]
    },
    {
     "name": "stderr",
     "output_type": "stream",
     "text": [
      "  2%|▏         | 2475/100000 [03:57<1:27:19, 18.61it/s]"
     ]
    },
    {
     "name": "stdout",
     "output_type": "stream",
     "text": [
      "DQA player 2 won\n",
      "DQA player 2 won\n",
      "DQA player 1 won\n",
      "DQA player 1 won\n",
      "DQA player 1 won\n"
     ]
    },
    {
     "name": "stderr",
     "output_type": "stream",
     "text": [
      "\r",
      "  2%|▏         | 2478/100000 [03:57<1:22:31, 19.69it/s]"
     ]
    },
    {
     "name": "stdout",
     "output_type": "stream",
     "text": [
      "DQA player 1 won\n",
      "DQA player 1 won\n",
      "DQA player 1 won\n",
      "DQA player 2 won\n",
      "DQA player 2 won\n",
      "DQA player 2 won\n"
     ]
    },
    {
     "name": "stderr",
     "output_type": "stream",
     "text": [
      "  2%|▏         | 2483/100000 [03:58<1:38:21, 16.52it/s]"
     ]
    },
    {
     "name": "stdout",
     "output_type": "stream",
     "text": [
      "DQA player 2 won\n",
      "DQA player 1 won\n",
      "DQA player 2 won\n",
      "DQA player 2 won\n",
      "DQA player 1 won\n"
     ]
    },
    {
     "name": "stderr",
     "output_type": "stream",
     "text": [
      "\r",
      "  2%|▏         | 2486/100000 [03:58<1:35:25, 17.03it/s]"
     ]
    },
    {
     "name": "stdout",
     "output_type": "stream",
     "text": [
      "DQA player 1 won\n",
      "DQA player 1 won\n",
      "DQA player 1 won\n",
      "DQA player 1 won\n"
     ]
    },
    {
     "name": "stderr",
     "output_type": "stream",
     "text": [
      "  2%|▏         | 2490/100000 [03:58<1:31:37, 17.74it/s]"
     ]
    },
    {
     "name": "stdout",
     "output_type": "stream",
     "text": [
      "DQA player 1 won\n",
      "DQA player 2 won\n",
      "DQA player 2 won\n",
      "DQA player 2 won\n",
      "DQA player 2 won\n",
      "DQA player 2 won\n",
      "DQA player 2 won\n",
      "DQA player 1 won\n"
     ]
    },
    {
     "name": "stderr",
     "output_type": "stream",
     "text": [
      "  2%|▏         | 2495/100000 [03:58<1:31:26, 17.77it/s]"
     ]
    },
    {
     "name": "stdout",
     "output_type": "stream",
     "text": [
      "DQA player 1 won\n",
      "DQA player 1 won\n",
      "DQA player 1 won\n",
      "DQA player 1 won\n"
     ]
    },
    {
     "name": "stderr",
     "output_type": "stream",
     "text": [
      "  2%|▎         | 2500/100000 [03:59<1:28:36, 18.34it/s]"
     ]
    },
    {
     "name": "stdout",
     "output_type": "stream",
     "text": [
      "DQA player 2 won\n",
      "DQA player 2 won\n",
      "DQA player 2 won\n",
      "DQA player 2 won\n",
      "DQA player 1 won\n",
      "DQA player 1 won\n"
     ]
    },
    {
     "name": "stderr",
     "output_type": "stream",
     "text": [
      "\r",
      "  3%|▎         | 2502/100000 [03:59<2:09:40, 12.53it/s]"
     ]
    },
    {
     "name": "stdout",
     "output_type": "stream",
     "text": [
      "DQA player 1 won\n",
      "DQA player 1 won\n"
     ]
    },
    {
     "name": "stderr",
     "output_type": "stream",
     "text": [
      "  3%|▎         | 2507/100000 [03:59<1:58:59, 13.65it/s]"
     ]
    },
    {
     "name": "stdout",
     "output_type": "stream",
     "text": [
      "DQA player 1 won\n",
      "DQA player 1 won\n",
      "DQA player 1 won\n",
      "DQA player 1 won\n",
      "DQA player 1 won\n"
     ]
    },
    {
     "name": "stderr",
     "output_type": "stream",
     "text": [
      "  3%|▎         | 2512/100000 [03:59<1:38:33, 16.48it/s]"
     ]
    },
    {
     "name": "stdout",
     "output_type": "stream",
     "text": [
      "DQA player 1 won\n",
      "DQA player 1 won\n",
      "DQA player 1 won\n",
      "DQA player 1 won\n",
      "DQA player 1 won\n"
     ]
    },
    {
     "name": "stderr",
     "output_type": "stream",
     "text": [
      "\r",
      "  3%|▎         | 2515/100000 [04:00<1:28:00, 18.46it/s]"
     ]
    },
    {
     "name": "stdout",
     "output_type": "stream",
     "text": [
      "DQA player 1 won\n",
      "DQA player 1 won\n",
      "DQA player 1 won\n",
      "DQA player 2 won\n",
      "DQA player 2 won\n",
      "DQA player 1 won\n"
     ]
    },
    {
     "name": "stderr",
     "output_type": "stream",
     "text": [
      "\r",
      "  3%|▎         | 2518/100000 [04:00<1:26:30, 18.78it/s]"
     ]
    },
    {
     "name": "stdout",
     "output_type": "stream",
     "text": [
      "DQA player 2 won\n",
      "DQA player 2 won\n",
      "DQA player 2 won\n",
      "DQA player 2 won\n",
      "DQA player 1 won\n"
     ]
    },
    {
     "name": "stderr",
     "output_type": "stream",
     "text": [
      "  3%|▎         | 2523/100000 [04:00<1:46:09, 15.30it/s]"
     ]
    },
    {
     "name": "stdout",
     "output_type": "stream",
     "text": [
      "DQA player 2 won\n",
      "DQA player 2 won\n",
      "DQA player 1 won\n",
      "DQA player 1 won\n"
     ]
    },
    {
     "name": "stderr",
     "output_type": "stream",
     "text": [
      "\r",
      "  3%|▎         | 2526/100000 [04:00<1:39:23, 16.34it/s]"
     ]
    },
    {
     "name": "stdout",
     "output_type": "stream",
     "text": [
      "DQA player 1 won\n",
      "DQA player 1 won\n",
      "DQA player 1 won\n",
      "DQA player 1 won\n"
     ]
    },
    {
     "name": "stderr",
     "output_type": "stream",
     "text": [
      "  3%|▎         | 2531/100000 [04:01<1:30:55, 17.87it/s]"
     ]
    },
    {
     "name": "stdout",
     "output_type": "stream",
     "text": [
      "DQA player 1 won\n",
      "DQA player 1 won\n",
      "DQA player 2 won\n",
      "DQA player 2 won\n",
      "DQA player 1 won\n",
      "DQA player 1 won\n"
     ]
    },
    {
     "name": "stderr",
     "output_type": "stream",
     "text": [
      "  3%|▎         | 2537/100000 [04:01<1:20:58, 20.06it/s]"
     ]
    },
    {
     "name": "stdout",
     "output_type": "stream",
     "text": [
      "DQA player 1 won\n",
      "DQA player 1 won\n",
      "DQA player 1 won\n",
      "DQA player 2 won\n",
      "DQA player 2 won\n",
      "DQA player 1 won\n"
     ]
    },
    {
     "name": "stderr",
     "output_type": "stream",
     "text": [
      "\r",
      "  3%|▎         | 2540/100000 [04:01<1:22:52, 19.60it/s]"
     ]
    },
    {
     "name": "stdout",
     "output_type": "stream",
     "text": [
      "DQA player 1 won\n",
      "DQA player 1 won\n",
      "DQA player 2 won\n",
      "DQA player 2 won\n",
      "DQA player 1 won\n",
      "DQA player 1 won\n"
     ]
    },
    {
     "name": "stderr",
     "output_type": "stream",
     "text": [
      "  3%|▎         | 2546/100000 [04:01<1:11:26, 22.74it/s]"
     ]
    },
    {
     "name": "stdout",
     "output_type": "stream",
     "text": [
      "DQA player 1 won\n",
      "DQA player 1 won\n",
      "DQA player 1 won\n",
      "DQA player 1 won\n",
      "DQA player 1 won\n",
      "DQA player 1 won\n"
     ]
    },
    {
     "name": "stderr",
     "output_type": "stream",
     "text": [
      "  3%|▎         | 2552/100000 [04:01<1:08:13, 23.81it/s]"
     ]
    },
    {
     "name": "stdout",
     "output_type": "stream",
     "text": [
      "DQA player 2 won\n",
      "DQA player 2 won\n",
      "DQA player 1 won\n",
      "DQA player 1 won\n",
      "DQA player 1 won\n",
      "DQA player 1 won\n",
      "DQA player 1 won"
     ]
    },
    {
     "name": "stderr",
     "output_type": "stream",
     "text": [
      "\r",
      "  3%|▎         | 2555/100000 [04:02<1:06:15, 24.51it/s]"
     ]
    },
    {
     "name": "stdout",
     "output_type": "stream",
     "text": [
      "\n",
      "DQA player 1 won\n",
      "DQA player 2 won\n",
      "DQA player 2 won\n",
      "DQA player 2 won\n",
      "DQA player 2 won\n",
      "DQA player 1 won\n"
     ]
    },
    {
     "name": "stderr",
     "output_type": "stream",
     "text": [
      "  3%|▎         | 2561/100000 [04:02<1:17:31, 20.95it/s]"
     ]
    },
    {
     "name": "stdout",
     "output_type": "stream",
     "text": [
      "DQA player 2 won\n",
      "DQA player 2 won\n",
      "DQA player 2 won\n",
      "DQA player 2 won\n",
      "DQA player 2 won\n",
      "DQA player 2 won\n",
      "DQA player 2 won\n",
      "DQA player 2 won\n",
      "DQA player 1 won\n"
     ]
    },
    {
     "name": "stderr",
     "output_type": "stream",
     "text": [
      "  3%|▎         | 2567/100000 [04:02<1:15:02, 21.64it/s]"
     ]
    },
    {
     "name": "stdout",
     "output_type": "stream",
     "text": [
      "DQA player 1 won\n",
      "DQA player 1 won\n",
      "DQA player 1 won\n",
      "DQA player 1 won\n",
      "DQA player 1 won\n"
     ]
    },
    {
     "name": "stderr",
     "output_type": "stream",
     "text": [
      "\r",
      "  3%|▎         | 2570/100000 [04:02<1:15:18, 21.56it/s]"
     ]
    },
    {
     "name": "stdout",
     "output_type": "stream",
     "text": [
      "DQA player 2 won\n",
      "DQA player 2 won\n",
      "DQA player 1 won\n",
      "DQA player 1 won\n",
      "DQA player 1 won\n"
     ]
    },
    {
     "name": "stderr",
     "output_type": "stream",
     "text": [
      "  3%|▎         | 2575/100000 [04:03<1:46:00, 15.32it/s]"
     ]
    },
    {
     "name": "stdout",
     "output_type": "stream",
     "text": [
      "DQA player 2 won\n",
      "DQA player 2 won\n",
      "DQA player 1 won\n",
      "DQA player 1 won\n",
      "DQA player 1 won\n"
     ]
    },
    {
     "name": "stderr",
     "output_type": "stream",
     "text": [
      "  3%|▎         | 2580/100000 [04:03<1:35:00, 17.09it/s]"
     ]
    },
    {
     "name": "stdout",
     "output_type": "stream",
     "text": [
      "DQA player 1 won\n",
      "DQA player 1 won\n",
      "DQA player 2 won\n",
      "DQA player 2 won\n",
      "DQA player 1 won\n"
     ]
    },
    {
     "name": "stderr",
     "output_type": "stream",
     "text": [
      "  3%|▎         | 2584/100000 [04:03<1:54:54, 14.13it/s]"
     ]
    },
    {
     "name": "stdout",
     "output_type": "stream",
     "text": [
      "DQA player 2 won\n",
      "DQA player 2 won\n",
      "DQA player 1 won\n",
      "DQA player 1 won\n",
      "DQA player 1 won\n"
     ]
    },
    {
     "name": "stderr",
     "output_type": "stream",
     "text": [
      "\r",
      "  3%|▎         | 2586/100000 [04:04<1:51:28, 14.56it/s]"
     ]
    },
    {
     "name": "stdout",
     "output_type": "stream",
     "text": [
      "DQA player 1 won\n",
      "DQA player 1 won\n",
      "DQA player 1 won\n",
      "DQA player 1 won\n"
     ]
    },
    {
     "name": "stderr",
     "output_type": "stream",
     "text": [
      "  3%|▎         | 2591/100000 [04:04<1:37:23, 16.67it/s]"
     ]
    },
    {
     "name": "stdout",
     "output_type": "stream",
     "text": [
      "DQA player 1 won\n",
      "DQA player 1 won\n",
      "DQA player 1 won\n",
      "DQA player 1 won\n"
     ]
    },
    {
     "name": "stderr",
     "output_type": "stream",
     "text": [
      "  3%|▎         | 2596/100000 [04:04<1:30:29, 17.94it/s]"
     ]
    },
    {
     "name": "stdout",
     "output_type": "stream",
     "text": [
      "DQA player 1 won\n",
      "DQA player 1 won\n",
      "DQA player 1 won\n",
      "DQA player 1 won\n"
     ]
    },
    {
     "name": "stderr",
     "output_type": "stream",
     "text": [
      "\r",
      "  3%|▎         | 2598/100000 [04:04<1:41:20, 16.02it/s]"
     ]
    },
    {
     "name": "stdout",
     "output_type": "stream",
     "text": [
      "DQA player 2 won\n",
      "DQA player 2 won\n",
      "DQA player 1 won\n",
      "DQA player 2 won\n",
      "DQA player 2 won\n"
     ]
    },
    {
     "name": "stderr",
     "output_type": "stream",
     "text": [
      "  3%|▎         | 2602/100000 [04:04<1:48:52, 14.91it/s]"
     ]
    },
    {
     "name": "stdout",
     "output_type": "stream",
     "text": [
      "DQA player 2 won\n",
      "DQA player 2 won\n",
      "DQA player 2 won\n",
      "DQA player 2 won\n",
      "DQA player 2 won\n",
      "DQA player 2 won\n"
     ]
    },
    {
     "name": "stderr",
     "output_type": "stream",
     "text": [
      "\r",
      "  3%|▎         | 2605/100000 [04:05<1:39:33, 16.30it/s]"
     ]
    },
    {
     "name": "stdout",
     "output_type": "stream",
     "text": [
      "DQA player 1 won\n",
      "DQA player 1 won\n",
      "DQA player 1 won\n",
      "DQA player 1 won\n",
      "DQA player 1 won\n"
     ]
    },
    {
     "name": "stderr",
     "output_type": "stream",
     "text": [
      "  3%|▎         | 2610/100000 [04:05<1:30:52, 17.86it/s]"
     ]
    },
    {
     "name": "stdout",
     "output_type": "stream",
     "text": [
      "DQA player 1 won\n",
      "DQA player 1 won\n",
      "DQA player 2 won\n",
      "DQA player 2 won\n",
      "DQA player 1 won\n",
      "DQA player 1 won\n"
     ]
    },
    {
     "name": "stderr",
     "output_type": "stream",
     "text": [
      "  3%|▎         | 2616/100000 [04:05<1:21:46, 19.85it/s]"
     ]
    },
    {
     "name": "stdout",
     "output_type": "stream",
     "text": [
      "DQA player 1 won\n",
      "DQA player 1 won\n",
      "DQA player 1 won\n",
      "DQA player 1 won\n",
      "DQA player 1 won\n"
     ]
    },
    {
     "name": "stderr",
     "output_type": "stream",
     "text": [
      "  3%|▎         | 2622/100000 [04:05<1:17:31, 20.94it/s]"
     ]
    },
    {
     "name": "stdout",
     "output_type": "stream",
     "text": [
      "DQA player 1 won\n",
      "DQA player 1 won\n",
      "DQA player 1 won\n",
      "DQA player 1 won\n",
      "DQA player 1 won\n"
     ]
    },
    {
     "name": "stderr",
     "output_type": "stream",
     "text": [
      "\r",
      "  3%|▎         | 2625/100000 [04:06<1:17:23, 20.97it/s]"
     ]
    },
    {
     "name": "stdout",
     "output_type": "stream",
     "text": [
      "DQA player 1 won\n",
      "DQA player 2 won\n",
      "DQA player 2 won\n",
      "DQA player 1 won\n",
      "DQA player 1 won\n",
      "DQA player 1 won\n"
     ]
    },
    {
     "name": "stderr",
     "output_type": "stream",
     "text": [
      "  3%|▎         | 2631/100000 [04:06<1:12:48, 22.29it/s]"
     ]
    },
    {
     "name": "stdout",
     "output_type": "stream",
     "text": [
      "DQA player 1 won\n",
      "DQA player 1 won\n",
      "DQA player 1 won\n",
      "DQA player 1 won\n",
      "DQA player 1 won\n"
     ]
    },
    {
     "name": "stderr",
     "output_type": "stream",
     "text": [
      "  3%|▎         | 2637/100000 [04:06<1:10:38, 22.97it/s]"
     ]
    },
    {
     "name": "stdout",
     "output_type": "stream",
     "text": [
      "DQA player 1 won\n",
      "DQA player 1 won\n",
      "DQA player 1 won\n",
      "DQA player 1 won\n",
      "DQA player 1 won\n"
     ]
    },
    {
     "name": "stderr",
     "output_type": "stream",
     "text": [
      "\r",
      "  3%|▎         | 2640/100000 [04:06<1:10:36, 22.98it/s]"
     ]
    },
    {
     "name": "stdout",
     "output_type": "stream",
     "text": [
      "DQA player 1 won\n",
      "DQA player 1 won\n",
      "DQA player 1 won\n",
      "DQA player 1 won\n"
     ]
    },
    {
     "name": "stderr",
     "output_type": "stream",
     "text": [
      "\r",
      "  3%|▎         | 2643/100000 [04:06<1:37:02, 16.72it/s]"
     ]
    },
    {
     "name": "stdout",
     "output_type": "stream",
     "text": [
      "DQA player 1 won\n",
      "DQA player 1 won\n"
     ]
    },
    {
     "name": "stderr",
     "output_type": "stream",
     "text": [
      "\r",
      "  3%|▎         | 2645/100000 [04:07<1:45:13, 15.42it/s]"
     ]
    },
    {
     "name": "stdout",
     "output_type": "stream",
     "text": [
      "DQA player 2 won\n",
      "DQA player 2 won\n",
      "DQA player 2 won\n",
      "DQA player 2 won\n",
      "DQA player 2 won\n",
      "DQA player 2 won\n",
      "DQA player 2 won\n",
      "DQA player 2 won\n",
      "DQA player 2 won\n"
     ]
    },
    {
     "name": "stderr",
     "output_type": "stream",
     "text": [
      "  3%|▎         | 2650/100000 [04:07<1:33:53, 17.28it/s]"
     ]
    },
    {
     "name": "stdout",
     "output_type": "stream",
     "text": [
      "DQA player 2 won\n",
      "DQA player 2 won\n",
      "DQA player 2 won\n",
      "DQA player 1 won\n",
      "DQA player 1 won\n"
     ]
    },
    {
     "name": "stderr",
     "output_type": "stream",
     "text": [
      "  3%|▎         | 2654/100000 [04:07<1:38:42, 16.44it/s]"
     ]
    },
    {
     "name": "stdout",
     "output_type": "stream",
     "text": [
      "DQA player 1 won\n",
      "DQA player 2 won\n",
      "DQA player 2 won\n",
      "DQA player 1 won\n",
      "DQA player 1 won\n"
     ]
    },
    {
     "name": "stderr",
     "output_type": "stream",
     "text": [
      "\r",
      "  3%|▎         | 2656/100000 [04:07<1:33:47, 17.30it/s]"
     ]
    },
    {
     "name": "stdout",
     "output_type": "stream",
     "text": [
      "DQA player 2 won\n",
      "DQA player 2 won\n",
      "DQA player 2 won\n",
      "DQA player 2 won\n"
     ]
    },
    {
     "name": "stderr",
     "output_type": "stream",
     "text": [
      "  3%|▎         | 2660/100000 [04:08<2:05:17, 12.95it/s]"
     ]
    },
    {
     "name": "stdout",
     "output_type": "stream",
     "text": [
      "DQA player 2 won\n",
      "DQA player 2 won\n",
      "DQA player 1 won\n",
      "DQA player 1 won\n",
      "DQA player 1 won\n"
     ]
    },
    {
     "name": "stderr",
     "output_type": "stream",
     "text": [
      "  3%|▎         | 2665/100000 [04:08<1:53:15, 14.32it/s]"
     ]
    },
    {
     "name": "stdout",
     "output_type": "stream",
     "text": [
      "DQA player 1 won\n",
      "DQA player 1 won\n",
      "DQA player 1 won\n",
      "DQA player 1 won\n"
     ]
    },
    {
     "name": "stderr",
     "output_type": "stream",
     "text": [
      "\r",
      "  3%|▎         | 2667/100000 [04:08<1:56:06, 13.97it/s]"
     ]
    },
    {
     "name": "stdout",
     "output_type": "stream",
     "text": [
      "DQA player 1 won\n",
      "DQA player 1 won\n",
      "DQA player 1 won\n"
     ]
    },
    {
     "name": "stderr",
     "output_type": "stream",
     "text": [
      "  3%|▎         | 2671/100000 [04:08<2:03:40, 13.12it/s]"
     ]
    },
    {
     "name": "stdout",
     "output_type": "stream",
     "text": [
      "DQA player 2 won\n",
      "DQA player 2 won\n",
      "DQA player 2 won\n",
      "DQA player 2 won\n",
      "DQA player 1 won\n"
     ]
    },
    {
     "name": "stderr",
     "output_type": "stream",
     "text": [
      "\r",
      "  3%|▎         | 2673/100000 [04:09<2:01:59, 13.30it/s]"
     ]
    },
    {
     "name": "stdout",
     "output_type": "stream",
     "text": [
      "DQA player 1 won\n",
      "DQA player 1 won\n",
      "DQA player 1 won\n"
     ]
    },
    {
     "name": "stderr",
     "output_type": "stream",
     "text": [
      "  3%|▎         | 2677/100000 [04:09<2:02:07, 13.28it/s]"
     ]
    },
    {
     "name": "stdout",
     "output_type": "stream",
     "text": [
      "DQA player 2 won\n",
      "DQA player 2 won\n",
      "DQA player 1 won\n",
      "DQA player 1 won\n"
     ]
    },
    {
     "name": "stderr",
     "output_type": "stream",
     "text": [
      "\r",
      "  3%|▎         | 2679/100000 [04:09<2:01:33, 13.34it/s]"
     ]
    },
    {
     "name": "stdout",
     "output_type": "stream",
     "text": [
      "DQA player 1 won\n",
      "DQA player 1 won\n",
      "DQA player 2 won\n",
      "DQA player 2 won\n"
     ]
    },
    {
     "name": "stderr",
     "output_type": "stream",
     "text": [
      "\r",
      "  3%|▎         | 2681/100000 [04:09<2:13:25, 12.16it/s]"
     ]
    },
    {
     "name": "stdout",
     "output_type": "stream",
     "text": [
      "DQA player 1 won\n",
      "DQA player 2 won\n",
      "DQA player 2 won\n"
     ]
    },
    {
     "name": "stderr",
     "output_type": "stream",
     "text": [
      "  3%|▎         | 2685/100000 [04:10<2:11:53, 12.30it/s]"
     ]
    },
    {
     "name": "stdout",
     "output_type": "stream",
     "text": [
      "DQA player 1 won\n",
      "DQA player 2 won\n",
      "DQA player 2 won\n",
      "DQA player 2 won\n",
      "DQA player 2 won\n",
      "DQA player 1 won\n"
     ]
    },
    {
     "name": "stderr",
     "output_type": "stream",
     "text": [
      "  3%|▎         | 2691/100000 [04:10<1:37:46, 16.59it/s]"
     ]
    },
    {
     "name": "stdout",
     "output_type": "stream",
     "text": [
      "DQA player 1 won\n",
      "DQA player 1 won\n",
      "DQA player 1 won\n",
      "DQA player 1 won\n",
      "DQA player 1 won\n",
      "DQA player 2 won\n"
     ]
    },
    {
     "name": "stderr",
     "output_type": "stream",
     "text": [
      "\r",
      "  3%|▎         | 2693/100000 [04:10<1:33:35, 17.33it/s]"
     ]
    },
    {
     "name": "stdout",
     "output_type": "stream",
     "text": [
      "DQA player 2 won\n",
      "DQA player 1 won\n",
      "DQA player 1 won\n"
     ]
    },
    {
     "name": "stderr",
     "output_type": "stream",
     "text": [
      "  3%|▎         | 2697/100000 [04:10<1:52:35, 14.40it/s]"
     ]
    },
    {
     "name": "stdout",
     "output_type": "stream",
     "text": [
      "DQA player 2 won\n",
      "DQA player 2 won\n",
      "DQA player 1 won\n",
      "DQA player 2 won\n",
      "DQA player 2 won\n"
     ]
    },
    {
     "name": "stderr",
     "output_type": "stream",
     "text": [
      "\r",
      "  3%|▎         | 2699/100000 [04:10<2:12:46, 12.21it/s]"
     ]
    },
    {
     "name": "stdout",
     "output_type": "stream",
     "text": [
      "DQA player 2 won\n",
      "DQA player 2 won\n",
      "DQA player 1 won\n"
     ]
    },
    {
     "name": "stderr",
     "output_type": "stream",
     "text": [
      "  3%|▎         | 2704/100000 [04:11<1:54:19, 14.19it/s]"
     ]
    },
    {
     "name": "stdout",
     "output_type": "stream",
     "text": [
      "DQA player 2 won\n",
      "DQA player 2 won\n",
      "DQA player 1 won\n",
      "DQA player 1 won\n",
      "DQA player 1 won\n",
      "DQA player 1 won\n"
     ]
    },
    {
     "name": "stderr",
     "output_type": "stream",
     "text": [
      "\r",
      "  3%|▎         | 2707/100000 [04:11<1:42:25, 15.83it/s]"
     ]
    },
    {
     "name": "stdout",
     "output_type": "stream",
     "text": [
      "DQA player 1 won\n",
      "DQA player 2 won\n",
      "DQA player 2 won\n",
      "DQA player 1 won\n",
      "DQA player 1 won\n"
     ]
    },
    {
     "name": "stderr",
     "output_type": "stream",
     "text": [
      "  3%|▎         | 2712/100000 [04:11<1:33:12, 17.40it/s]"
     ]
    },
    {
     "name": "stdout",
     "output_type": "stream",
     "text": [
      "DQA player 1 won\n",
      "DQA player 1 won\n",
      "DQA player 1 won\n",
      "DQA player 1 won\n",
      "DQA player 1 won\n"
     ]
    },
    {
     "name": "stderr",
     "output_type": "stream",
     "text": [
      "  3%|▎         | 2716/100000 [04:11<1:43:32, 15.66it/s]"
     ]
    },
    {
     "name": "stdout",
     "output_type": "stream",
     "text": [
      "DQA player 2 won\n",
      "DQA player 2 won\n",
      "DQA player 1 won\n",
      "DQA player 2 won\n",
      "DQA player 2 won\n"
     ]
    },
    {
     "name": "stderr",
     "output_type": "stream",
     "text": [
      "\r",
      "  3%|▎         | 2718/100000 [04:12<2:07:42, 12.70it/s]"
     ]
    },
    {
     "name": "stdout",
     "output_type": "stream",
     "text": [
      "DQA player 1 won\n",
      "DQA player 1 won\n"
     ]
    },
    {
     "name": "stderr",
     "output_type": "stream",
     "text": [
      "\r",
      "  3%|▎         | 2720/100000 [04:12<2:05:13, 12.95it/s]"
     ]
    },
    {
     "name": "stdout",
     "output_type": "stream",
     "text": [
      "DQA player 2 won\n",
      "DQA player 2 won\n",
      "DQA player 1 won\n",
      "DQA player 2 won\n",
      "DQA player 2 won\n"
     ]
    },
    {
     "name": "stderr",
     "output_type": "stream",
     "text": [
      "  3%|▎         | 2724/100000 [04:12<2:08:19, 12.63it/s]"
     ]
    },
    {
     "name": "stdout",
     "output_type": "stream",
     "text": [
      "DQA player 1 won\n",
      "DQA player 2 won\n",
      "DQA player 2 won\n",
      "DQA player 1 won\n",
      "DQA player 2 won\n",
      "DQA player 2 won\n"
     ]
    },
    {
     "name": "stderr",
     "output_type": "stream",
     "text": [
      "  3%|▎         | 2729/100000 [04:12<1:51:05, 14.59it/s]"
     ]
    },
    {
     "name": "stdout",
     "output_type": "stream",
     "text": [
      "DQA player 2 won\n",
      "DQA player 2 won\n",
      "DQA player 2 won\n",
      "DQA player 2 won\n",
      "DQA player 1 won\n",
      "DQA player 1 won\n"
     ]
    },
    {
     "name": "stderr",
     "output_type": "stream",
     "text": [
      "\r",
      "  3%|▎         | 2731/100000 [04:13<1:43:45, 15.63it/s]"
     ]
    },
    {
     "name": "stdout",
     "output_type": "stream",
     "text": [
      "DQA player 1 won\n",
      "DQA player 2 won\n",
      "DQA player 2 won\n",
      "DQA player 1 won\n"
     ]
    },
    {
     "name": "stderr",
     "output_type": "stream",
     "text": [
      "  3%|▎         | 2735/100000 [04:13<2:16:04, 11.91it/s]"
     ]
    },
    {
     "name": "stdout",
     "output_type": "stream",
     "text": [
      "DQA player 1 won\n",
      "DQA player 2 won\n",
      "DQA player 2 won\n",
      "DQA player 2 won\n",
      "DQA player 2 won\n"
     ]
    },
    {
     "name": "stderr",
     "output_type": "stream",
     "text": [
      "  3%|▎         | 2739/100000 [04:13<1:58:29, 13.68it/s]"
     ]
    },
    {
     "name": "stdout",
     "output_type": "stream",
     "text": [
      "DQA player 1 won\n",
      "DQA player 1 won\n",
      "DQA player 2 won\n",
      "DQA player 2 won\n",
      "DQA player 2 won\n",
      "DQA player 2 won\n"
     ]
    },
    {
     "name": "stderr",
     "output_type": "stream",
     "text": [
      "\r",
      "  3%|▎         | 2741/100000 [04:13<1:54:40, 14.13it/s]"
     ]
    },
    {
     "name": "stdout",
     "output_type": "stream",
     "text": [
      "DQA player 1 won\n",
      "DQA player 2 won\n",
      "DQA player 2 won\n",
      "DQA player 1 won\n",
      "DQA player 1 won\n",
      "DQA player 1 won\n"
     ]
    },
    {
     "name": "stderr",
     "output_type": "stream",
     "text": [
      "  3%|▎         | 2747/100000 [04:14<1:27:28, 18.53it/s]"
     ]
    },
    {
     "name": "stdout",
     "output_type": "stream",
     "text": [
      "DQA player 1 won\n",
      "DQA player 1 won\n",
      "DQA player 1 won\n",
      "DQA player 1 won\n",
      "DQA player 2 won\n",
      "DQA player 2 won\n"
     ]
    },
    {
     "name": "stderr",
     "output_type": "stream",
     "text": [
      "  3%|▎         | 2753/100000 [04:14<1:22:10, 19.72it/s]"
     ]
    },
    {
     "name": "stdout",
     "output_type": "stream",
     "text": [
      "DQA player 1 won\n",
      "DQA player 2 won\n",
      "DQA player 2 won\n",
      "DQA player 1 won\n",
      "DQA player 2 won\n",
      "DQA player 2 won\n",
      "DQA player 1 won\n"
     ]
    },
    {
     "name": "stderr",
     "output_type": "stream",
     "text": [
      "  3%|▎         | 2759/100000 [04:14<1:14:20, 21.80it/s]"
     ]
    },
    {
     "name": "stdout",
     "output_type": "stream",
     "text": [
      "DQA player 1 won\n",
      "DQA player 1 won\n",
      "DQA player 1 won\n",
      "DQA player 1 won\n",
      "DQA player 1 won\n"
     ]
    },
    {
     "name": "stderr",
     "output_type": "stream",
     "text": [
      "\r",
      "  3%|▎         | 2762/100000 [04:14<1:12:07, 22.47it/s]"
     ]
    },
    {
     "name": "stdout",
     "output_type": "stream",
     "text": [
      "DQA player 1 won\n",
      "DQA player 1 won\n",
      "DQA player 2 won\n",
      "DQA player 2 won\n",
      "DQA player 1 won\n",
      "DQA player 1 won\n"
     ]
    },
    {
     "name": "stderr",
     "output_type": "stream",
     "text": [
      "  3%|▎         | 2768/100000 [04:15<1:17:53, 20.81it/s]"
     ]
    },
    {
     "name": "stdout",
     "output_type": "stream",
     "text": [
      "DQA player 1 won\n",
      "DQA player 2 won\n",
      "DQA player 2 won\n",
      "DQA player 1 won\n",
      "DQA player 1 won\n",
      "DQA player 1 won\n"
     ]
    },
    {
     "name": "stderr",
     "output_type": "stream",
     "text": [
      "\r",
      "  3%|▎         | 2771/100000 [04:15<1:14:15, 21.82it/s]"
     ]
    },
    {
     "name": "stdout",
     "output_type": "stream",
     "text": [
      "DQA player 2 won\n",
      "DQA player 2 won\n",
      "DQA player 1 won\n",
      "DQA player 2 won\n",
      "DQA player 2 won\n"
     ]
    },
    {
     "name": "stderr",
     "output_type": "stream",
     "text": [
      "\r",
      "  3%|▎         | 2774/100000 [04:15<1:28:22, 18.34it/s]"
     ]
    },
    {
     "name": "stdout",
     "output_type": "stream",
     "text": [
      "DQA player 2 won\n",
      "DQA player 2 won\n",
      "DQA player 2 won\n",
      "DQA player 2 won\n",
      "DQA player 2 won\n",
      "DQA player 2 won\n",
      "DQA player 1 won\n",
      "DQA player 2 won\n"
     ]
    },
    {
     "name": "stderr",
     "output_type": "stream",
     "text": [
      "  3%|▎         | 2780/100000 [04:15<1:19:06, 20.48it/s]"
     ]
    },
    {
     "name": "stdout",
     "output_type": "stream",
     "text": [
      "DQA player 2 won\n",
      "DQA player 1 won\n",
      "DQA player 1 won\n",
      "DQA player 1 won\n",
      "DQA player 1 won\n"
     ]
    },
    {
     "name": "stderr",
     "output_type": "stream",
     "text": [
      "  3%|▎         | 2786/100000 [04:15<1:15:43, 21.40it/s]"
     ]
    },
    {
     "name": "stdout",
     "output_type": "stream",
     "text": [
      "DQA player 2 won\n",
      "DQA player 2 won\n",
      "DQA player 2 won\n",
      "DQA player 2 won\n",
      "DQA player 1 won\n",
      "DQA player 1 won\n",
      "DQA player 1 won\n",
      "DQA player 1 won\n"
     ]
    },
    {
     "name": "stderr",
     "output_type": "stream",
     "text": [
      "  3%|▎         | 2792/100000 [04:16<1:09:36, 23.27it/s]"
     ]
    },
    {
     "name": "stdout",
     "output_type": "stream",
     "text": [
      "DQA player 1 won\n",
      "DQA player 1 won\n",
      "DQA player 1 won\n",
      "DQA player 1 won\n",
      "DQA player 1 won\n"
     ]
    },
    {
     "name": "stderr",
     "output_type": "stream",
     "text": [
      "\r",
      "  3%|▎         | 2795/100000 [04:16<1:10:02, 23.13it/s]"
     ]
    },
    {
     "name": "stdout",
     "output_type": "stream",
     "text": [
      "DQA player 1 won\n",
      "DQA player 1 won\n",
      "DQA player 2 won\n",
      "DQA player 2 won\n",
      "DQA player 1 won\n"
     ]
    },
    {
     "name": "stderr",
     "output_type": "stream",
     "text": [
      "\r",
      "  3%|▎         | 2798/100000 [04:16<1:23:15, 19.46it/s]"
     ]
    },
    {
     "name": "stdout",
     "output_type": "stream",
     "text": [
      "DQA player 1 won\n",
      "DQA player 2 won\n",
      "DQA player 2 won\n",
      "DQA player 2 won\n",
      "DQA player 2 won\n",
      "DQA player 2 won\n",
      "DQA player 2 won\n"
     ]
    },
    {
     "name": "stderr",
     "output_type": "stream",
     "text": [
      "  3%|▎         | 2804/100000 [04:16<1:19:29, 20.38it/s]"
     ]
    },
    {
     "name": "stdout",
     "output_type": "stream",
     "text": [
      "DQA player 1 won\n",
      "DQA player 2 won\n",
      "DQA player 2 won\n",
      "DQA player 2 won\n",
      "DQA player 2 won\n",
      "DQA player 1 won\n",
      "DQA player 1 won\n"
     ]
    },
    {
     "name": "stderr",
     "output_type": "stream",
     "text": [
      "  3%|▎         | 2810/100000 [04:17<1:13:29, 22.04it/s]"
     ]
    },
    {
     "name": "stdout",
     "output_type": "stream",
     "text": [
      "DQA player 2 won\n",
      "DQA player 2 won\n",
      "DQA player 1 won\n",
      "DQA player 1 won\n",
      "DQA player 2 won\n",
      "DQA player 2 won\n",
      "DQA player 1 won\n",
      "DQA player 1 won"
     ]
    },
    {
     "name": "stderr",
     "output_type": "stream",
     "text": [
      "\r",
      "  3%|▎         | 2813/100000 [04:17<1:10:53, 22.85it/s]"
     ]
    },
    {
     "name": "stdout",
     "output_type": "stream",
     "text": [
      "\n",
      "DQA player 1 won\n",
      "DQA player 1 won\n",
      "DQA player 2 won\n",
      "DQA player 2 won\n",
      "DQA player 1 won\n",
      "DQA player 1 won"
     ]
    },
    {
     "name": "stderr",
     "output_type": "stream",
     "text": [
      "  3%|▎         | 2819/100000 [04:17<1:12:00, 22.49it/s]"
     ]
    },
    {
     "name": "stdout",
     "output_type": "stream",
     "text": [
      "\n",
      "DQA player 1 won\n",
      "DQA player 1 won\n",
      "DQA player 1 won\n",
      "DQA player 1 won\n"
     ]
    },
    {
     "name": "stderr",
     "output_type": "stream",
     "text": [
      "  3%|▎         | 2825/100000 [04:17<1:11:47, 22.56it/s]"
     ]
    },
    {
     "name": "stdout",
     "output_type": "stream",
     "text": [
      "DQA player 2 won\n",
      "DQA player 2 won\n",
      "DQA player 1 won\n",
      "DQA player 2 won\n",
      "DQA player 2 won\n",
      "DQA player 1 won\n",
      "DQA player 1 won\n"
     ]
    },
    {
     "name": "stderr",
     "output_type": "stream",
     "text": [
      "\r",
      "  3%|▎         | 2828/100000 [04:17<1:09:31, 23.30it/s]"
     ]
    },
    {
     "name": "stdout",
     "output_type": "stream",
     "text": [
      "DQA player 1 won\n",
      "DQA player 1 won\n",
      "DQA player 1 won\n",
      "DQA player 1 won\n",
      "DQA player 2 won\n",
      "DQA player 2 won\n"
     ]
    },
    {
     "name": "stderr",
     "output_type": "stream",
     "text": [
      "  3%|▎         | 2834/100000 [04:18<1:14:35, 21.71it/s]"
     ]
    },
    {
     "name": "stdout",
     "output_type": "stream",
     "text": [
      "DQA player 1 won\n",
      "DQA player 2 won\n",
      "DQA player 2 won\n",
      "DQA player 1 won\n",
      "DQA player 1 won\n",
      "DQA player 1 won\n"
     ]
    },
    {
     "name": "stderr",
     "output_type": "stream",
     "text": [
      "  3%|▎         | 2840/100000 [04:18<1:14:35, 21.71it/s]"
     ]
    },
    {
     "name": "stdout",
     "output_type": "stream",
     "text": [
      "DQA player 1 won\n",
      "DQA player 1 won\n",
      "DQA player 1 won\n",
      "DQA player 1 won\n",
      "DQA player 2 won\n",
      "DQA player 2 won\n"
     ]
    },
    {
     "name": "stderr",
     "output_type": "stream",
     "text": [
      "\r",
      "  3%|▎         | 2843/100000 [04:18<1:13:45, 21.95it/s]"
     ]
    },
    {
     "name": "stdout",
     "output_type": "stream",
     "text": [
      "DQA player 1 won\n",
      "DQA player 2 won\n",
      "DQA player 2 won\n",
      "DQA player 1 won\n",
      "DQA player 1 won\n",
      "DQA player 1 won\n"
     ]
    },
    {
     "name": "stderr",
     "output_type": "stream",
     "text": [
      "  3%|▎         | 2849/100000 [04:18<1:13:04, 22.16it/s]"
     ]
    },
    {
     "name": "stdout",
     "output_type": "stream",
     "text": [
      "DQA player 1 won\n",
      "DQA player 1 won\n",
      "DQA player 1 won\n",
      "DQA player 1 won\n",
      "DQA player 1 won\n"
     ]
    },
    {
     "name": "stderr",
     "output_type": "stream",
     "text": [
      "  3%|▎         | 2855/100000 [04:19<1:10:09, 23.08it/s]"
     ]
    },
    {
     "name": "stdout",
     "output_type": "stream",
     "text": [
      "DQA player 2 won\n",
      "DQA player 2 won\n",
      "DQA player 2 won\n",
      "DQA player 2 won\n",
      "DQA player 1 won\n",
      "DQA player 1 won\n",
      "DQA player 1 won\n"
     ]
    },
    {
     "name": "stderr",
     "output_type": "stream",
     "text": [
      "\r",
      "  3%|▎         | 2858/100000 [04:19<1:11:59, 22.49it/s]"
     ]
    },
    {
     "name": "stdout",
     "output_type": "stream",
     "text": [
      "DQA player 2 won\n",
      "DQA player 2 won\n",
      "DQA player 1 won\n",
      "DQA player 1 won\n",
      "DQA player 1 won\n",
      "DQA player 1 won\n"
     ]
    },
    {
     "name": "stderr",
     "output_type": "stream",
     "text": [
      "  3%|▎         | 2864/100000 [04:19<1:10:20, 23.02it/s]"
     ]
    },
    {
     "name": "stdout",
     "output_type": "stream",
     "text": [
      "DQA player 2 won\n",
      "DQA player 2 won\n",
      "DQA player 2 won\n",
      "DQA player 2 won\n",
      "DQA player 1 won\n",
      "DQA player 2 won\n",
      "DQA player 2 won\n",
      "DQA player 1 won\n"
     ]
    },
    {
     "name": "stderr",
     "output_type": "stream",
     "text": [
      "  3%|▎         | 2870/100000 [04:19<1:10:13, 23.05it/s]"
     ]
    },
    {
     "name": "stdout",
     "output_type": "stream",
     "text": [
      "DQA player 1 won\n",
      "DQA player 1 won\n",
      "DQA player 1 won\n",
      "DQA player 1 won\n",
      "DQA player 1 won\n"
     ]
    },
    {
     "name": "stderr",
     "output_type": "stream",
     "text": [
      "  3%|▎         | 2876/100000 [04:19<1:07:13, 24.08it/s]"
     ]
    },
    {
     "name": "stdout",
     "output_type": "stream",
     "text": [
      "DQA player 1 won\n",
      "DQA player 1 won\n",
      "DQA player 1 won\n",
      "DQA player 2 won\n",
      "DQA player 2 won\n",
      "DQA player 1 won\n",
      "DQA player 1 won\n"
     ]
    },
    {
     "name": "stderr",
     "output_type": "stream",
     "text": [
      "\r",
      "  3%|▎         | 2879/100000 [04:20<1:05:51, 24.58it/s]"
     ]
    },
    {
     "name": "stdout",
     "output_type": "stream",
     "text": [
      "DQA player 1 won\n",
      "DQA player 1 won\n",
      "DQA player 1 won\n",
      "DQA player 1 won\n",
      "DQA player 2 won\n",
      "DQA player 2 won\n",
      "DQA player 2 won\n"
     ]
    },
    {
     "name": "stderr",
     "output_type": "stream",
     "text": [
      "  3%|▎         | 2885/100000 [04:20<1:05:18, 24.79it/s]"
     ]
    },
    {
     "name": "stdout",
     "output_type": "stream",
     "text": [
      "DQA player 2 won\n",
      "DQA player 1 won\n",
      "DQA player 1 won\n",
      "DQA player 1 won\n",
      "DQA player 1 won\n",
      "DQA player 1 won\n"
     ]
    },
    {
     "name": "stderr",
     "output_type": "stream",
     "text": [
      "\r",
      "  3%|▎         | 2888/100000 [04:20<1:04:17, 25.17it/s]"
     ]
    },
    {
     "name": "stdout",
     "output_type": "stream",
     "text": [
      "DQA player 1 won\n",
      "DQA player 1 won\n",
      "DQA player 1 won\n"
     ]
    },
    {
     "name": "stderr",
     "output_type": "stream",
     "text": [
      "  3%|▎         | 2894/100000 [04:20<1:26:35, 18.69it/s]"
     ]
    },
    {
     "name": "stdout",
     "output_type": "stream",
     "text": [
      "DQA player 1 won\n",
      "DQA player 1 won\n",
      "DQA player 2 won\n",
      "DQA player 2 won\n",
      "DQA player 2 won\n",
      "DQA player 2 won\n",
      "DQA player 2 won\n",
      "DQA player 2 won\n",
      "DQA player 2 won\n",
      "DQA player 2 won\n"
     ]
    },
    {
     "name": "stderr",
     "output_type": "stream",
     "text": [
      "\r",
      "  3%|▎         | 2897/100000 [04:21<1:57:41, 13.75it/s]"
     ]
    },
    {
     "name": "stdout",
     "output_type": "stream",
     "text": [
      "DQA player 2 won\n",
      "DQA player 2 won\n",
      "DQA player 1 won\n"
     ]
    },
    {
     "name": "stderr",
     "output_type": "stream",
     "text": [
      "  3%|▎         | 2901/100000 [04:21<2:20:04, 11.55it/s]"
     ]
    },
    {
     "name": "stdout",
     "output_type": "stream",
     "text": [
      "DQA player 2 won\n",
      "DQA player 2 won\n",
      "DQA player 1 won\n",
      "DQA player 1 won\n"
     ]
    },
    {
     "name": "stderr",
     "output_type": "stream",
     "text": [
      "\r",
      "  3%|▎         | 2903/100000 [04:21<2:24:33, 11.19it/s]"
     ]
    },
    {
     "name": "stdout",
     "output_type": "stream",
     "text": [
      "DQA player 1 won\n",
      "DQA player 2 won\n",
      "DQA player 2 won\n"
     ]
    },
    {
     "name": "stderr",
     "output_type": "stream",
     "text": [
      "\r",
      "  3%|▎         | 2905/100000 [04:22<2:45:14,  9.79it/s]"
     ]
    },
    {
     "name": "stdout",
     "output_type": "stream",
     "text": [
      "DQA player 1 won\n",
      "DQA player 2 won\n",
      "DQA player 2 won\n"
     ]
    },
    {
     "name": "stderr",
     "output_type": "stream",
     "text": [
      "\r",
      "  3%|▎         | 2907/100000 [04:22<3:08:51,  8.57it/s]"
     ]
    },
    {
     "name": "stdout",
     "output_type": "stream",
     "text": [
      "DQA player 2 won\n",
      "DQA player 2 won\n",
      "DQA player 1 won\n"
     ]
    },
    {
     "name": "stderr",
     "output_type": "stream",
     "text": [
      "  3%|▎         | 2909/100000 [04:22<3:08:46,  8.57it/s]"
     ]
    },
    {
     "name": "stdout",
     "output_type": "stream",
     "text": [
      "DQA player 2 won\n",
      "DQA player 2 won\n",
      "DQA player 1 won\n"
     ]
    },
    {
     "name": "stderr",
     "output_type": "stream",
     "text": [
      "\r",
      "  3%|▎         | 2911/100000 [04:22<2:53:23,  9.33it/s]"
     ]
    },
    {
     "name": "stdout",
     "output_type": "stream",
     "text": [
      "DQA player 2 won\n",
      "DQA player 2 won\n",
      "DQA player 1 won\n",
      "DQA player 1 won\n"
     ]
    },
    {
     "name": "stderr",
     "output_type": "stream",
     "text": [
      "  3%|▎         | 2915/100000 [04:23<2:31:52, 10.65it/s]"
     ]
    },
    {
     "name": "stdout",
     "output_type": "stream",
     "text": [
      "DQA player 2 won\n",
      "DQA player 2 won\n",
      "DQA player 1 won\n",
      "DQA player 1 won\n"
     ]
    },
    {
     "name": "stderr",
     "output_type": "stream",
     "text": [
      "  3%|▎         | 2920/100000 [04:23<1:59:11, 13.58it/s]"
     ]
    },
    {
     "name": "stdout",
     "output_type": "stream",
     "text": [
      "DQA player 2 won\n",
      "DQA player 2 won\n",
      "DQA player 1 won\n",
      "DQA player 1 won\n",
      "DQA player 1 won\n",
      "DQA player 1 won\n"
     ]
    },
    {
     "name": "stderr",
     "output_type": "stream",
     "text": [
      "\r",
      "  3%|▎         | 2923/100000 [04:23<1:48:01, 14.98it/s]"
     ]
    },
    {
     "name": "stdout",
     "output_type": "stream",
     "text": [
      "DQA player 1 won\n",
      "DQA player 1 won\n",
      "DQA player 1 won\n",
      "DQA player 2 won\n",
      "DQA player 2 won\n"
     ]
    },
    {
     "name": "stderr",
     "output_type": "stream",
     "text": [
      "  3%|▎         | 2927/100000 [04:23<2:04:55, 12.95it/s]"
     ]
    },
    {
     "name": "stdout",
     "output_type": "stream",
     "text": [
      "DQA player 2 won\n",
      "DQA player 2 won\n",
      "DQA player 2 won\n",
      "DQA player 2 won\n",
      "DQA player 2 won\n",
      "DQA player 2 won\n"
     ]
    },
    {
     "name": "stderr",
     "output_type": "stream",
     "text": [
      "\r",
      "  3%|▎         | 2929/100000 [04:23<2:12:53, 12.17it/s]"
     ]
    },
    {
     "name": "stdout",
     "output_type": "stream",
     "text": [
      "DQA player 2 won\n",
      "DQA player 2 won\n",
      "DQA player 2 won\n",
      "DQA player 2 won\n",
      "DQA player 2 won\n",
      "DQA player 2 won\n"
     ]
    },
    {
     "name": "stderr",
     "output_type": "stream",
     "text": [
      "\r",
      "  3%|▎         | 2931/100000 [04:24<2:40:44, 10.06it/s]"
     ]
    },
    {
     "name": "stdout",
     "output_type": "stream",
     "text": [
      "DQA player 2 won\n",
      "DQA player 2 won\n",
      "DQA player 1 won\n"
     ]
    },
    {
     "name": "stderr",
     "output_type": "stream",
     "text": [
      "  3%|▎         | 2935/100000 [04:24<2:35:10, 10.43it/s]"
     ]
    },
    {
     "name": "stdout",
     "output_type": "stream",
     "text": [
      "DQA player 2 won\n",
      "DQA player 2 won\n",
      "DQA player 1 won\n",
      "DQA player 1 won\n"
     ]
    },
    {
     "name": "stderr",
     "output_type": "stream",
     "text": [
      "\r",
      "  3%|▎         | 2937/100000 [04:24<2:20:32, 11.51it/s]"
     ]
    },
    {
     "name": "stdout",
     "output_type": "stream",
     "text": [
      "DQA player 1 won\n",
      "DQA player 1 won\n",
      "DQA player 1 won\n"
     ]
    },
    {
     "name": "stderr",
     "output_type": "stream",
     "text": [
      "  3%|▎         | 2941/100000 [04:25<2:14:53, 11.99it/s]"
     ]
    },
    {
     "name": "stdout",
     "output_type": "stream",
     "text": [
      "DQA player 2 won\n",
      "DQA player 2 won\n",
      "DQA player 2 won\n",
      "DQA player 2 won\n",
      "DQA player 2 won\n",
      "DQA player 2 won\n",
      "DQA player 2 won\n",
      "DQA player 2 won\n"
     ]
    },
    {
     "name": "stderr",
     "output_type": "stream",
     "text": [
      "  3%|▎         | 2945/100000 [04:25<2:08:51, 12.55it/s]"
     ]
    },
    {
     "name": "stdout",
     "output_type": "stream",
     "text": [
      "DQA player 1 won\n",
      "DQA player 1 won\n",
      "DQA player 1 won\n",
      "DQA player 1 won\n"
     ]
    },
    {
     "name": "stderr",
     "output_type": "stream",
     "text": [
      "  3%|▎         | 2950/100000 [04:25<1:54:22, 14.14it/s]"
     ]
    },
    {
     "name": "stdout",
     "output_type": "stream",
     "text": [
      "DQA player 1 won\n",
      "DQA player 1 won\n",
      "DQA player 1 won\n",
      "DQA player 2 won\n",
      "DQA player 2 won\n"
     ]
    },
    {
     "name": "stderr",
     "output_type": "stream",
     "text": [
      "\r",
      "  3%|▎         | 2952/100000 [04:25<2:24:47, 11.17it/s]"
     ]
    },
    {
     "name": "stdout",
     "output_type": "stream",
     "text": [
      "DQA player 1 won\n",
      "DQA player 1 won\n"
     ]
    },
    {
     "name": "stderr",
     "output_type": "stream",
     "text": [
      "\r",
      "  3%|▎         | 2954/100000 [04:26<2:20:40, 11.50it/s]"
     ]
    },
    {
     "name": "stdout",
     "output_type": "stream",
     "text": [
      "DQA player 2 won\n",
      "DQA player 2 won\n",
      "DQA player 1 won\n",
      "DQA player 1 won\n"
     ]
    },
    {
     "name": "stderr",
     "output_type": "stream",
     "text": [
      "\r",
      "  3%|▎         | 2956/100000 [04:26<2:25:21, 11.13it/s]"
     ]
    },
    {
     "name": "stdout",
     "output_type": "stream",
     "text": [
      "DQA player 1 won\n",
      "DQA player 2 won\n",
      "DQA player 2 won\n",
      "DQA player 2 won\n"
     ]
    },
    {
     "name": "stderr",
     "output_type": "stream",
     "text": [
      "\r",
      "  3%|▎         | 2958/100000 [04:26<2:32:21, 10.62it/s]"
     ]
    },
    {
     "name": "stdout",
     "output_type": "stream",
     "text": [
      "DQA player 2 won\n",
      "DQA player 2 won\n",
      "DQA player 2 won\n"
     ]
    },
    {
     "name": "stderr",
     "output_type": "stream",
     "text": [
      "  3%|▎         | 2962/100000 [04:26<2:35:33, 10.40it/s]"
     ]
    },
    {
     "name": "stdout",
     "output_type": "stream",
     "text": [
      "DQA player 1 won\n",
      "DQA player 2 won\n",
      "DQA player 2 won\n",
      "DQA player 2 won\n",
      "DQA player 2 won\n"
     ]
    },
    {
     "name": "stderr",
     "output_type": "stream",
     "text": [
      "  3%|▎         | 2966/100000 [04:27<2:10:35, 12.38it/s]"
     ]
    },
    {
     "name": "stdout",
     "output_type": "stream",
     "text": [
      "DQA player 2 won\n",
      "DQA player 2 won\n",
      "DQA player 2 won\n",
      "DQA player 2 won\n",
      "DQA player 2 won\n",
      "DQA player 2 won\n",
      "DQA player 2 won\n",
      "DQA player 2 won\n"
     ]
    },
    {
     "name": "stderr",
     "output_type": "stream",
     "text": [
      "\r",
      "  3%|▎         | 2968/100000 [04:27<2:04:35, 12.98it/s]"
     ]
    },
    {
     "name": "stdout",
     "output_type": "stream",
     "text": [
      "DQA player 2 won\n",
      "DQA player 2 won\n",
      "DQA player 2 won\n",
      "DQA player 2 won\n",
      "DQA player 1 won\n"
     ]
    },
    {
     "name": "stderr",
     "output_type": "stream",
     "text": [
      "  3%|▎         | 2972/100000 [04:27<1:52:30, 14.37it/s]"
     ]
    },
    {
     "name": "stdout",
     "output_type": "stream",
     "text": [
      "DQA player 2 won\n",
      "DQA player 2 won\n",
      "DQA player 2 won\n",
      "DQA player 2 won\n",
      "DQA player 1 won\n",
      "DQA player 2 won\n",
      "DQA player 2 won\n"
     ]
    },
    {
     "name": "stderr",
     "output_type": "stream",
     "text": [
      "  3%|▎         | 2976/100000 [04:27<1:42:13, 15.82it/s]"
     ]
    },
    {
     "name": "stdout",
     "output_type": "stream",
     "text": [
      "DQA player 2 won\n",
      "DQA player 2 won\n",
      "DQA player 1 won\n",
      "DQA player 2 won\n",
      "DQA player 2 won\n",
      "DQA player 2 won\n",
      "DQA player 2 won\n"
     ]
    },
    {
     "name": "stderr",
     "output_type": "stream",
     "text": [
      "  3%|▎         | 2980/100000 [04:28<1:51:58, 14.44it/s]"
     ]
    },
    {
     "name": "stdout",
     "output_type": "stream",
     "text": [
      "DQA player 1 won\n",
      "DQA player 2 won\n",
      "DQA player 2 won\n",
      "DQA player 1 won\n"
     ]
    },
    {
     "name": "stderr",
     "output_type": "stream",
     "text": [
      "\r",
      "  3%|▎         | 2982/100000 [04:28<2:21:38, 11.42it/s]"
     ]
    },
    {
     "name": "stdout",
     "output_type": "stream",
     "text": [
      "DQA player 1 won\n",
      "DQA player 1 won\n"
     ]
    },
    {
     "name": "stderr",
     "output_type": "stream",
     "text": [
      "\r",
      "  3%|▎         | 2984/100000 [04:28<2:36:51, 10.31it/s]"
     ]
    },
    {
     "name": "stdout",
     "output_type": "stream",
     "text": [
      "DQA player 1 won\n",
      "DQA player 1 won\n",
      "DQA player 1 won\n",
      "DQA player 1 won\n"
     ]
    },
    {
     "name": "stderr",
     "output_type": "stream",
     "text": [
      "\r",
      "  3%|▎         | 2987/100000 [04:28<2:15:57, 11.89it/s]"
     ]
    },
    {
     "name": "stdout",
     "output_type": "stream",
     "text": [
      "DQA player 1 won\n",
      "DQA player 2 won\n",
      "DQA player 2 won\n",
      "DQA player 2 won\n"
     ]
    },
    {
     "name": "stderr",
     "output_type": "stream",
     "text": [
      "\r",
      "  3%|▎         | 2989/100000 [04:29<2:28:28, 10.89it/s]"
     ]
    },
    {
     "name": "stdout",
     "output_type": "stream",
     "text": [
      "DQA player 2 won\n",
      "DQA player 2 won\n",
      "DQA player 2 won\n"
     ]
    },
    {
     "name": "stderr",
     "output_type": "stream",
     "text": [
      "\r",
      "  3%|▎         | 2991/100000 [04:29<2:46:41,  9.70it/s]"
     ]
    },
    {
     "name": "stdout",
     "output_type": "stream",
     "text": [
      "DQA player 1 won\n",
      "DQA player 1 won\n"
     ]
    },
    {
     "name": "stderr",
     "output_type": "stream",
     "text": [
      "\r",
      "  3%|▎         | 2993/100000 [04:29<2:52:23,  9.38it/s]"
     ]
    },
    {
     "name": "stdout",
     "output_type": "stream",
     "text": [
      "DQA player 1 won\n",
      "DQA player 1 won\n"
     ]
    },
    {
     "name": "stderr",
     "output_type": "stream",
     "text": [
      "\r",
      "  3%|▎         | 2995/100000 [04:29<3:02:05,  8.88it/s]"
     ]
    },
    {
     "name": "stdout",
     "output_type": "stream",
     "text": [
      "DQA player 1 won\n",
      "DQA player 1 won\n",
      "DQA player 1 won\n"
     ]
    },
    {
     "name": "stderr",
     "output_type": "stream",
     "text": [
      "  3%|▎         | 2999/100000 [04:30<3:30:07,  7.69it/s]"
     ]
    },
    {
     "name": "stdout",
     "output_type": "stream",
     "text": [
      "DQA player 1 won\n",
      "DQA player 2 won\n",
      "DQA player 2 won\n"
     ]
    },
    {
     "name": "stderr",
     "output_type": "stream",
     "text": [
      "\r",
      "  3%|▎         | 3000/100000 [04:30<3:16:47,  8.22it/s]"
     ]
    },
    {
     "name": "stdout",
     "output_type": "stream",
     "text": [
      "DQA player 2 won\n",
      "DQA player 2 won\n"
     ]
    },
    {
     "name": "stderr",
     "output_type": "stream",
     "text": [
      "  3%|▎         | 3002/100000 [04:30<3:59:12,  6.76it/s]"
     ]
    },
    {
     "name": "stdout",
     "output_type": "stream",
     "text": [
      "DQA player 1 won\n",
      "DQA player 1 won\n"
     ]
    },
    {
     "name": "stderr",
     "output_type": "stream",
     "text": [
      "\r",
      "  3%|▎         | 3003/100000 [04:31<5:30:15,  4.90it/s]"
     ]
    },
    {
     "name": "stdout",
     "output_type": "stream",
     "text": [
      "DQA player 1 won\n"
     ]
    },
    {
     "name": "stderr",
     "output_type": "stream",
     "text": [
      "\r",
      "  3%|▎         | 3004/100000 [04:31<5:51:11,  4.60it/s]"
     ]
    },
    {
     "name": "stdout",
     "output_type": "stream",
     "text": [
      "DQA player 1 won\n"
     ]
    },
    {
     "name": "stderr",
     "output_type": "stream",
     "text": [
      "  3%|▎         | 3006/100000 [04:31<5:08:00,  5.25it/s]"
     ]
    },
    {
     "name": "stdout",
     "output_type": "stream",
     "text": [
      "DQA player 1 won\n",
      "DQA player 1 won\n"
     ]
    },
    {
     "name": "stderr",
     "output_type": "stream",
     "text": [
      "  3%|▎         | 3008/100000 [04:31<4:18:59,  6.24it/s]"
     ]
    },
    {
     "name": "stdout",
     "output_type": "stream",
     "text": [
      "DQA player 1 won\n",
      "DQA player 1 won\n"
     ]
    },
    {
     "name": "stderr",
     "output_type": "stream",
     "text": [
      "  3%|▎         | 3010/100000 [04:32<5:01:34,  5.36it/s]"
     ]
    },
    {
     "name": "stdout",
     "output_type": "stream",
     "text": [
      "DQA player 1 won\n",
      "DQA player 2 won\n",
      "DQA player 2 won\n"
     ]
    },
    {
     "name": "stderr",
     "output_type": "stream",
     "text": [
      "\r",
      "  3%|▎         | 3011/100000 [04:32<4:53:04,  5.52it/s]"
     ]
    },
    {
     "name": "stdout",
     "output_type": "stream",
     "text": [
      "DQA player 2 won\n",
      "DQA player 2 won\n"
     ]
    },
    {
     "name": "stderr",
     "output_type": "stream",
     "text": [
      "\r",
      "  3%|▎         | 3012/100000 [04:32<5:16:32,  5.11it/s]"
     ]
    },
    {
     "name": "stdout",
     "output_type": "stream",
     "text": [
      "DQA player 1 won\n"
     ]
    },
    {
     "name": "stderr",
     "output_type": "stream",
     "text": [
      "  3%|▎         | 3015/100000 [04:33<5:23:34,  5.00it/s]"
     ]
    },
    {
     "name": "stdout",
     "output_type": "stream",
     "text": [
      "DQA player 1 won\n",
      "DQA player 1 won\n",
      "DQA player 2 won\n",
      "DQA player 2 won\n"
     ]
    },
    {
     "name": "stderr",
     "output_type": "stream",
     "text": [
      "  3%|▎         | 3017/100000 [04:33<5:01:50,  5.36it/s]"
     ]
    },
    {
     "name": "stdout",
     "output_type": "stream",
     "text": [
      "DQA player 1 won\n",
      "DQA player 1 won\n"
     ]
    },
    {
     "name": "stderr",
     "output_type": "stream",
     "text": [
      "\r",
      "  3%|▎         | 3018/100000 [04:34<11:39:44,  2.31it/s]"
     ]
    },
    {
     "name": "stdout",
     "output_type": "stream",
     "text": [
      "DQA player 1 won\n"
     ]
    },
    {
     "name": "stderr",
     "output_type": "stream",
     "text": [
      "\r",
      "  3%|▎         | 3019/100000 [04:35<13:31:43,  1.99it/s]"
     ]
    },
    {
     "name": "stdout",
     "output_type": "stream",
     "text": [
      "DQA player 2 won\n",
      "DQA player 2 won\n"
     ]
    },
    {
     "name": "stderr",
     "output_type": "stream",
     "text": [
      "\r",
      "  3%|▎         | 3020/100000 [04:35<11:08:59,  2.42it/s]"
     ]
    },
    {
     "name": "stdout",
     "output_type": "stream",
     "text": [
      "DQA player 1 won\n",
      "DQA player 1 won\n"
     ]
    },
    {
     "name": "stderr",
     "output_type": "stream",
     "text": [
      "  3%|▎         | 3023/100000 [04:36<6:31:03,  4.13it/s] "
     ]
    },
    {
     "name": "stdout",
     "output_type": "stream",
     "text": [
      "DQA player 1 won\n",
      "DQA player 2 won\n",
      "DQA player 2 won\n"
     ]
    },
    {
     "name": "stderr",
     "output_type": "stream",
     "text": [
      "  3%|▎         | 3025/100000 [04:36<5:17:02,  5.10it/s]"
     ]
    },
    {
     "name": "stdout",
     "output_type": "stream",
     "text": [
      "DQA player 1 won\n",
      "DQA player 1 won\n"
     ]
    },
    {
     "name": "stderr",
     "output_type": "stream",
     "text": [
      "\r",
      "  3%|▎         | 3026/100000 [04:36<6:22:13,  4.23it/s]"
     ]
    },
    {
     "name": "stdout",
     "output_type": "stream",
     "text": [
      "DQA player 1 won\n"
     ]
    },
    {
     "name": "stderr",
     "output_type": "stream",
     "text": [
      "\r",
      "  3%|▎         | 3027/100000 [04:36<6:24:20,  4.21it/s]"
     ]
    },
    {
     "name": "stdout",
     "output_type": "stream",
     "text": [
      "DQA player 1 won\n"
     ]
    },
    {
     "name": "stderr",
     "output_type": "stream",
     "text": [
      "\r",
      "  3%|▎         | 3028/100000 [04:37<6:10:48,  4.36it/s]"
     ]
    },
    {
     "name": "stdout",
     "output_type": "stream",
     "text": [
      "DQA player 1 won\n"
     ]
    },
    {
     "name": "stderr",
     "output_type": "stream",
     "text": [
      "  3%|▎         | 3030/100000 [04:37<7:07:31,  3.78it/s]"
     ]
    },
    {
     "name": "stdout",
     "output_type": "stream",
     "text": [
      "DQA player 2 won\n",
      "DQA player 2 won\n",
      "DQA player 1 won\n"
     ]
    },
    {
     "name": "stderr",
     "output_type": "stream",
     "text": [
      "  3%|▎         | 3032/100000 [04:38<5:50:35,  4.61it/s]"
     ]
    },
    {
     "name": "stdout",
     "output_type": "stream",
     "text": [
      "DQA player 1 won\n",
      "DQA player 1 won\n"
     ]
    },
    {
     "name": "stderr",
     "output_type": "stream",
     "text": [
      "\r",
      "  3%|▎         | 3033/100000 [04:38<5:08:39,  5.24it/s]"
     ]
    },
    {
     "name": "stdout",
     "output_type": "stream",
     "text": [
      "DQA player 2 won\n",
      "DQA player 2 won\n",
      "DQA player 2 won\n",
      "DQA player 2 won\n"
     ]
    },
    {
     "name": "stderr",
     "output_type": "stream",
     "text": [
      "\r",
      "  3%|▎         | 3035/100000 [04:38<4:29:35,  5.99it/s]"
     ]
    },
    {
     "name": "stdout",
     "output_type": "stream",
     "text": [
      "DQA player 1 won\n"
     ]
    },
    {
     "name": "stderr",
     "output_type": "stream",
     "text": [
      "\r",
      "  3%|▎         | 3036/100000 [04:39<8:52:59,  3.03it/s]"
     ]
    },
    {
     "name": "stdout",
     "output_type": "stream",
     "text": [
      "DQA player 1 won\n"
     ]
    },
    {
     "name": "stderr",
     "output_type": "stream",
     "text": [
      "  3%|▎         | 3038/100000 [04:39<6:52:01,  3.92it/s]"
     ]
    },
    {
     "name": "stdout",
     "output_type": "stream",
     "text": [
      "DQA player 1 won\n",
      "DQA player 2 won\n",
      "DQA player 2 won\n",
      "DQA player 2 won\n",
      "DQA player 2 won\n",
      "DQA player 2 won\n"
     ]
    },
    {
     "name": "stderr",
     "output_type": "stream",
     "text": [
      "  3%|▎         | 3041/100000 [04:40<5:24:40,  4.98it/s]"
     ]
    },
    {
     "name": "stdout",
     "output_type": "stream",
     "text": [
      "DQA player 2 won\n",
      "DQA player 1 won\n"
     ]
    },
    {
     "name": "stderr",
     "output_type": "stream",
     "text": [
      "\r",
      "  3%|▎         | 3042/100000 [04:40<5:17:52,  5.08it/s]"
     ]
    },
    {
     "name": "stdout",
     "output_type": "stream",
     "text": [
      "DQA player 1 won\n",
      "DQA player 1 won"
     ]
    },
    {
     "name": "stderr",
     "output_type": "stream",
     "text": [
      "\r",
      "  3%|▎         | 3043/100000 [04:40<5:24:51,  4.97it/s]"
     ]
    },
    {
     "name": "stdout",
     "output_type": "stream",
     "text": [
      "\n"
     ]
    },
    {
     "name": "stderr",
     "output_type": "stream",
     "text": [
      "\r",
      "  3%|▎         | 3044/100000 [04:41<9:08:59,  2.94it/s]"
     ]
    },
    {
     "name": "stdout",
     "output_type": "stream",
     "text": [
      "DQA player 2 won\n",
      "DQA player 2 won\n",
      "DQA player 1 won\n"
     ]
    },
    {
     "name": "stderr",
     "output_type": "stream",
     "text": [
      "  3%|▎         | 3047/100000 [04:41<6:23:34,  4.21it/s]"
     ]
    },
    {
     "name": "stdout",
     "output_type": "stream",
     "text": [
      "DQA player 1 won\n",
      "DQA player 2 won\n",
      "DQA player 2 won\n"
     ]
    },
    {
     "name": "stderr",
     "output_type": "stream",
     "text": [
      "\r",
      "  3%|▎         | 3048/100000 [04:41<6:01:14,  4.47it/s]"
     ]
    },
    {
     "name": "stdout",
     "output_type": "stream",
     "text": [
      "DQA player 2 won\n",
      "DQA player 2 won\n"
     ]
    },
    {
     "name": "stderr",
     "output_type": "stream",
     "text": [
      "  3%|▎         | 3050/100000 [04:42<5:11:13,  5.19it/s]"
     ]
    },
    {
     "name": "stdout",
     "output_type": "stream",
     "text": [
      "DQA player 2 won\n",
      "DQA player 2 won\n",
      "DQA player 2 won\n",
      "DQA player 2 won\n"
     ]
    },
    {
     "name": "stderr",
     "output_type": "stream",
     "text": [
      "\r",
      "  3%|▎         | 3051/100000 [04:42<4:30:40,  5.97it/s]"
     ]
    },
    {
     "name": "stdout",
     "output_type": "stream",
     "text": [
      "DQA player 2 won\n",
      "DQA player 2 won\n",
      "DQA player 2 won\n",
      "DQA player 2 won\n",
      "DQA player 1 won\n"
     ]
    },
    {
     "name": "stderr",
     "output_type": "stream",
     "text": [
      "  3%|▎         | 3055/100000 [04:42<4:06:48,  6.55it/s]"
     ]
    },
    {
     "name": "stdout",
     "output_type": "stream",
     "text": [
      "DQA player 2 won\n",
      "DQA player 2 won\n",
      "DQA player 1 won\n"
     ]
    },
    {
     "name": "stderr",
     "output_type": "stream",
     "text": [
      "\r",
      "  3%|▎         | 3057/100000 [04:42<3:19:37,  8.09it/s]"
     ]
    },
    {
     "name": "stdout",
     "output_type": "stream",
     "text": [
      "DQA player 2 won\n",
      "DQA player 2 won\n",
      "DQA player 1 won\n",
      "DQA player 2 won\n",
      "DQA player 2 won\n"
     ]
    },
    {
     "name": "stderr",
     "output_type": "stream",
     "text": [
      "  3%|▎         | 3060/100000 [04:43<3:56:49,  6.82it/s]"
     ]
    },
    {
     "name": "stdout",
     "output_type": "stream",
     "text": [
      "DQA player 1 won\n",
      "DQA player 2 won\n",
      "DQA player 2 won\n"
     ]
    },
    {
     "name": "stderr",
     "output_type": "stream",
     "text": [
      "  3%|▎         | 3063/100000 [04:43<3:33:29,  7.57it/s]"
     ]
    },
    {
     "name": "stdout",
     "output_type": "stream",
     "text": [
      "DQA player 1 won\n",
      "DQA player 1 won\n",
      "DQA player 2 won\n",
      "DQA player 2 won\n"
     ]
    },
    {
     "name": "stderr",
     "output_type": "stream",
     "text": [
      "  3%|▎         | 3065/100000 [04:43<3:35:50,  7.49it/s]"
     ]
    },
    {
     "name": "stdout",
     "output_type": "stream",
     "text": [
      "DQA player 1 won\n",
      "DQA player 1 won\n",
      "DQA player 1 won\n"
     ]
    },
    {
     "name": "stderr",
     "output_type": "stream",
     "text": [
      "  3%|▎         | 3068/100000 [04:44<3:14:17,  8.32it/s]"
     ]
    },
    {
     "name": "stdout",
     "output_type": "stream",
     "text": [
      "DQA player 1 won\n",
      "DQA player 2 won\n",
      "DQA player 2 won\n",
      "DQA player 1 won\n"
     ]
    },
    {
     "name": "stderr",
     "output_type": "stream",
     "text": [
      "  3%|▎         | 3071/100000 [04:44<3:24:15,  7.91it/s]"
     ]
    },
    {
     "name": "stdout",
     "output_type": "stream",
     "text": [
      "DQA player 2 won\n",
      "DQA player 2 won\n",
      "DQA player 1 won\n"
     ]
    },
    {
     "name": "stderr",
     "output_type": "stream",
     "text": [
      "\r",
      "  3%|▎         | 3072/100000 [04:44<3:48:41,  7.06it/s]"
     ]
    },
    {
     "name": "stdout",
     "output_type": "stream",
     "text": [
      "DQA player 2 won\n",
      "DQA player 2 won\n"
     ]
    },
    {
     "name": "stderr",
     "output_type": "stream",
     "text": [
      "\r",
      "  3%|▎         | 3073/100000 [04:44<4:31:17,  5.95it/s]"
     ]
    },
    {
     "name": "stdout",
     "output_type": "stream",
     "text": [
      "DQA player 1 won\n"
     ]
    },
    {
     "name": "stderr",
     "output_type": "stream",
     "text": [
      "  3%|▎         | 3075/100000 [04:45<4:50:17,  5.56it/s]"
     ]
    },
    {
     "name": "stdout",
     "output_type": "stream",
     "text": [
      "DQA player 2 won\n",
      "DQA player 2 won\n",
      "DQA player 2 won\n",
      "DQA player 2 won\n"
     ]
    },
    {
     "name": "stderr",
     "output_type": "stream",
     "text": [
      "\r",
      "  3%|▎         | 3076/100000 [04:45<5:17:37,  5.09it/s]"
     ]
    },
    {
     "name": "stdout",
     "output_type": "stream",
     "text": [
      "DQA player 2 won\n",
      "DQA player 2 won\n"
     ]
    },
    {
     "name": "stderr",
     "output_type": "stream",
     "text": [
      "\r",
      "  3%|▎         | 3077/100000 [04:45<6:43:20,  4.01it/s]"
     ]
    },
    {
     "name": "stdout",
     "output_type": "stream",
     "text": [
      "DQA player 2 won\n",
      "DQA player 2 won\n"
     ]
    },
    {
     "name": "stderr",
     "output_type": "stream",
     "text": [
      "  3%|▎         | 3079/100000 [04:46<5:45:27,  4.68it/s]"
     ]
    },
    {
     "name": "stdout",
     "output_type": "stream",
     "text": [
      "DQA player 1 won\n",
      "DQA player 1 won\n"
     ]
    },
    {
     "name": "stderr",
     "output_type": "stream",
     "text": [
      "\r",
      "  3%|▎         | 3080/100000 [04:46<6:52:45,  3.91it/s]"
     ]
    },
    {
     "name": "stdout",
     "output_type": "stream",
     "text": [
      "DQA player 2 won\n",
      "DQA player 2 won\n",
      "DQA player 2 won\n",
      "DQA player 2 won\n"
     ]
    },
    {
     "name": "stderr",
     "output_type": "stream",
     "text": [
      "  3%|▎         | 3083/100000 [04:47<5:14:32,  5.14it/s]"
     ]
    },
    {
     "name": "stdout",
     "output_type": "stream",
     "text": [
      "DQA player 1 won\n",
      "DQA player 1 won\n"
     ]
    },
    {
     "name": "stderr",
     "output_type": "stream",
     "text": [
      "\r",
      "  3%|▎         | 3084/100000 [04:47<5:01:28,  5.36it/s]"
     ]
    },
    {
     "name": "stdout",
     "output_type": "stream",
     "text": [
      "DQA player 1 won\n"
     ]
    },
    {
     "name": "stderr",
     "output_type": "stream",
     "text": [
      "  3%|▎         | 3086/100000 [04:47<4:42:59,  5.71it/s]"
     ]
    },
    {
     "name": "stdout",
     "output_type": "stream",
     "text": [
      "DQA player 2 won\n",
      "DQA player 2 won\n",
      "DQA player 1 won\n"
     ]
    },
    {
     "name": "stderr",
     "output_type": "stream",
     "text": [
      "  3%|▎         | 3089/100000 [04:47<3:32:01,  7.62it/s]"
     ]
    },
    {
     "name": "stdout",
     "output_type": "stream",
     "text": [
      "DQA player 1 won\n",
      "DQA player 1 won\n",
      "DQA player 2 won\n",
      "DQA player 2 won\n"
     ]
    },
    {
     "name": "stderr",
     "output_type": "stream",
     "text": [
      "\r",
      "  3%|▎         | 3091/100000 [04:48<3:12:40,  8.38it/s]"
     ]
    },
    {
     "name": "stdout",
     "output_type": "stream",
     "text": [
      "DQA player 2 won\n",
      "DQA player 2 won\n",
      "DQA player 2 won\n",
      "DQA player 2 won\n",
      "DQA player 2 won\n",
      "DQA player 2 won\n"
     ]
    },
    {
     "name": "stderr",
     "output_type": "stream",
     "text": [
      "  3%|▎         | 3095/100000 [04:48<2:40:31, 10.06it/s]"
     ]
    },
    {
     "name": "stdout",
     "output_type": "stream",
     "text": [
      "DQA player 1 won\n",
      "DQA player 1 won\n",
      "DQA player 1 won\n"
     ]
    },
    {
     "name": "stderr",
     "output_type": "stream",
     "text": [
      "\r",
      "  3%|▎         | 3097/100000 [04:48<3:00:14,  8.96it/s]"
     ]
    },
    {
     "name": "stdout",
     "output_type": "stream",
     "text": [
      "DQA player 2 won\n",
      "DQA player 2 won\n",
      "DQA player 1 won\n",
      "DQA player 2 won\n",
      "DQA player 2 won\n"
     ]
    },
    {
     "name": "stderr",
     "output_type": "stream",
     "text": [
      "\r",
      "  3%|▎         | 3099/100000 [04:48<2:46:39,  9.69it/s]"
     ]
    },
    {
     "name": "stdout",
     "output_type": "stream",
     "text": [
      "DQA player 1 won\n",
      "DQA player 2 won\n",
      "DQA player 2 won\n"
     ]
    },
    {
     "name": "stderr",
     "output_type": "stream",
     "text": [
      "  3%|▎         | 3102/100000 [04:49<3:10:42,  8.47it/s]"
     ]
    },
    {
     "name": "stdout",
     "output_type": "stream",
     "text": [
      "DQA player 1 won\n",
      "DQA player 2 won\n",
      "DQA player 2 won\n"
     ]
    },
    {
     "name": "stderr",
     "output_type": "stream",
     "text": [
      "  3%|▎         | 3105/100000 [04:49<2:58:14,  9.06it/s]"
     ]
    },
    {
     "name": "stdout",
     "output_type": "stream",
     "text": [
      "DQA player 1 won\n",
      "DQA player 1 won\n",
      "DQA player 1 won\n"
     ]
    },
    {
     "name": "stderr",
     "output_type": "stream",
     "text": [
      "\r",
      "  3%|▎         | 3107/100000 [04:49<2:53:16,  9.32it/s]"
     ]
    },
    {
     "name": "stdout",
     "output_type": "stream",
     "text": [
      "DQA player 1 won\n",
      "DQA player 2 won\n",
      "DQA player 2 won\n"
     ]
    },
    {
     "name": "stderr",
     "output_type": "stream",
     "text": [
      "\r",
      "  3%|▎         | 3109/100000 [04:50<3:22:34,  7.97it/s]"
     ]
    },
    {
     "name": "stdout",
     "output_type": "stream",
     "text": [
      "DQA player 1 won\n",
      "DQA player 1 won\n",
      "DQA player 1 won\n"
     ]
    },
    {
     "name": "stderr",
     "output_type": "stream",
     "text": [
      "  3%|▎         | 3112/100000 [04:50<3:36:28,  7.46it/s]"
     ]
    },
    {
     "name": "stdout",
     "output_type": "stream",
     "text": [
      "DQA player 1 won\n",
      "DQA player 2 won\n",
      "DQA player 2 won\n"
     ]
    },
    {
     "name": "stderr",
     "output_type": "stream",
     "text": [
      "\r",
      "  3%|▎         | 3113/100000 [04:50<4:54:06,  5.49it/s]"
     ]
    },
    {
     "name": "stdout",
     "output_type": "stream",
     "text": [
      "DQA player 1 won\n"
     ]
    },
    {
     "name": "stderr",
     "output_type": "stream",
     "text": [
      "\r",
      "  3%|▎         | 3114/100000 [04:51<5:37:49,  4.78it/s]"
     ]
    },
    {
     "name": "stdout",
     "output_type": "stream",
     "text": [
      "DQA player 1 won\n"
     ]
    },
    {
     "name": "stderr",
     "output_type": "stream",
     "text": [
      "\r",
      "  3%|▎         | 3115/100000 [04:51<6:32:18,  4.12it/s]"
     ]
    },
    {
     "name": "stdout",
     "output_type": "stream",
     "text": [
      "DQA player 2 won\n",
      "DQA player 2 won\n"
     ]
    },
    {
     "name": "stderr",
     "output_type": "stream",
     "text": [
      "  3%|▎         | 3117/100000 [04:51<5:43:24,  4.70it/s]"
     ]
    },
    {
     "name": "stdout",
     "output_type": "stream",
     "text": [
      "DQA player 2 won\n",
      "DQA player 2 won\n",
      "DQA player 1 won\n"
     ]
    },
    {
     "name": "stderr",
     "output_type": "stream",
     "text": [
      "  3%|▎         | 3119/100000 [04:51<4:32:26,  5.93it/s]"
     ]
    },
    {
     "name": "stdout",
     "output_type": "stream",
     "text": [
      "DQA player 2 won\n",
      "DQA player 2 won\n",
      "DQA player 2 won\n",
      "DQA player 2 won\n"
     ]
    },
    {
     "name": "stderr",
     "output_type": "stream",
     "text": [
      "  3%|▎         | 3121/100000 [04:52<4:07:28,  6.52it/s]"
     ]
    },
    {
     "name": "stdout",
     "output_type": "stream",
     "text": [
      "DQA player 2 won\n",
      "DQA player 2 won\n",
      "DQA player 2 won\n",
      "DQA player 2 won\n"
     ]
    },
    {
     "name": "stderr",
     "output_type": "stream",
     "text": [
      "  3%|▎         | 3123/100000 [04:52<4:12:23,  6.40it/s]"
     ]
    },
    {
     "name": "stdout",
     "output_type": "stream",
     "text": [
      "DQA player 1 won\n",
      "DQA player 2 won\n",
      "DQA player 2 won\n"
     ]
    },
    {
     "name": "stderr",
     "output_type": "stream",
     "text": [
      "  3%|▎         | 3125/100000 [04:53<5:50:36,  4.61it/s]"
     ]
    },
    {
     "name": "stdout",
     "output_type": "stream",
     "text": [
      "DQA player 2 won\n",
      "DQA player 2 won\n",
      "DQA player 1 won\n"
     ]
    },
    {
     "name": "stderr",
     "output_type": "stream",
     "text": [
      "  3%|▎         | 3127/100000 [04:53<5:28:06,  4.92it/s]"
     ]
    },
    {
     "name": "stdout",
     "output_type": "stream",
     "text": [
      "DQA player 2 won\n",
      "DQA player 2 won\n",
      "DQA player 1 won\n"
     ]
    },
    {
     "name": "stderr",
     "output_type": "stream",
     "text": [
      "\r",
      "  3%|▎         | 3128/100000 [04:53<4:50:34,  5.56it/s]"
     ]
    },
    {
     "name": "stdout",
     "output_type": "stream",
     "text": [
      "DQA player 1 won\n"
     ]
    },
    {
     "name": "stderr",
     "output_type": "stream",
     "text": [
      "\r",
      "  3%|▎         | 3129/100000 [04:54<6:17:10,  4.28it/s]"
     ]
    },
    {
     "name": "stdout",
     "output_type": "stream",
     "text": [
      "DQA player 1 won\n"
     ]
    },
    {
     "name": "stderr",
     "output_type": "stream",
     "text": [
      "\r",
      "  3%|▎         | 3130/100000 [04:54<6:45:44,  3.98it/s]"
     ]
    },
    {
     "name": "stdout",
     "output_type": "stream",
     "text": [
      "DQA player 1 won\n"
     ]
    },
    {
     "name": "stderr",
     "output_type": "stream",
     "text": [
      "  3%|▎         | 3132/100000 [04:54<7:11:37,  3.74it/s]"
     ]
    },
    {
     "name": "stdout",
     "output_type": "stream",
     "text": [
      "DQA player 1 won\n",
      "DQA player 1 won\n"
     ]
    },
    {
     "name": "stderr",
     "output_type": "stream",
     "text": [
      "  3%|▎         | 3134/100000 [04:55<6:45:02,  3.99it/s]"
     ]
    },
    {
     "name": "stdout",
     "output_type": "stream",
     "text": [
      "DQA player 1 won\n",
      "DQA player 2 won\n",
      "DQA player 2 won\n"
     ]
    },
    {
     "name": "stderr",
     "output_type": "stream",
     "text": [
      "\r",
      "  3%|▎         | 3135/100000 [04:55<6:44:50,  3.99it/s]"
     ]
    },
    {
     "name": "stdout",
     "output_type": "stream",
     "text": [
      "DQA player 1 won\n"
     ]
    },
    {
     "name": "stderr",
     "output_type": "stream",
     "text": [
      "\r",
      "  3%|▎         | 3136/100000 [04:55<6:50:11,  3.94it/s]"
     ]
    },
    {
     "name": "stdout",
     "output_type": "stream",
     "text": [
      "DQA player 1 won\n",
      "DQA player 1 won\n"
     ]
    },
    {
     "name": "stderr",
     "output_type": "stream",
     "text": [
      "  3%|▎         | 3139/100000 [04:56<5:30:54,  4.88it/s]"
     ]
    },
    {
     "name": "stdout",
     "output_type": "stream",
     "text": [
      "DQA player 1 won\n",
      "DQA player 1 won\n"
     ]
    },
    {
     "name": "stderr",
     "output_type": "stream",
     "text": [
      "\r",
      "  3%|▎         | 3140/100000 [04:56<5:15:23,  5.12it/s]"
     ]
    },
    {
     "name": "stdout",
     "output_type": "stream",
     "text": [
      "DQA player 1 won\n"
     ]
    },
    {
     "name": "stderr",
     "output_type": "stream",
     "text": [
      "\r",
      "  3%|▎         | 3141/100000 [04:56<5:42:49,  4.71it/s]"
     ]
    },
    {
     "name": "stdout",
     "output_type": "stream",
     "text": [
      "DQA player 2 won\n",
      "DQA player 2 won\n"
     ]
    },
    {
     "name": "stderr",
     "output_type": "stream",
     "text": [
      "\r",
      "  3%|▎         | 3142/100000 [04:57<5:37:11,  4.79it/s]"
     ]
    },
    {
     "name": "stdout",
     "output_type": "stream",
     "text": [
      "DQA player 1 won\n"
     ]
    },
    {
     "name": "stderr",
     "output_type": "stream",
     "text": [
      "  3%|▎         | 3144/100000 [04:57<5:22:54,  5.00it/s]"
     ]
    },
    {
     "name": "stdout",
     "output_type": "stream",
     "text": [
      "DQA player 2 won\n",
      "DQA player 2 won\n",
      "DQA player 2 won\n",
      "DQA player 2 won\n"
     ]
    },
    {
     "name": "stderr",
     "output_type": "stream",
     "text": [
      "  3%|▎         | 3146/100000 [04:57<4:58:28,  5.41it/s]"
     ]
    },
    {
     "name": "stdout",
     "output_type": "stream",
     "text": [
      "DQA player 1 won\n",
      "DQA player 2 won\n",
      "DQA player 2 won\n"
     ]
    },
    {
     "name": "stderr",
     "output_type": "stream",
     "text": [
      "  3%|▎         | 3148/100000 [04:57<3:50:47,  6.99it/s]"
     ]
    },
    {
     "name": "stdout",
     "output_type": "stream",
     "text": [
      "DQA player 2 won\n",
      "DQA player 2 won\n",
      "DQA player 1 won\n",
      "DQA player 2 won\n"
     ]
    },
    {
     "name": "stderr",
     "output_type": "stream",
     "text": [
      "  3%|▎         | 3150/100000 [04:58<3:21:38,  8.01it/s]"
     ]
    },
    {
     "name": "stdout",
     "output_type": "stream",
     "text": [
      "DQA player 2 won\n",
      "DQA player 2 won\n",
      "DQA player 2 won\n"
     ]
    },
    {
     "name": "stderr",
     "output_type": "stream",
     "text": [
      "  3%|▎         | 3152/100000 [04:58<3:37:09,  7.43it/s]"
     ]
    },
    {
     "name": "stdout",
     "output_type": "stream",
     "text": [
      "DQA player 1 won\n",
      "DQA player 1 won\n"
     ]
    },
    {
     "name": "stderr",
     "output_type": "stream",
     "text": [
      "  3%|▎         | 3154/100000 [04:58<3:26:29,  7.82it/s]"
     ]
    },
    {
     "name": "stdout",
     "output_type": "stream",
     "text": [
      "DQA player 2 won\n",
      "DQA player 2 won\n",
      "DQA player 1 won\n"
     ]
    },
    {
     "name": "stderr",
     "output_type": "stream",
     "text": [
      "  3%|▎         | 3156/100000 [04:59<3:57:38,  6.79it/s]"
     ]
    },
    {
     "name": "stdout",
     "output_type": "stream",
     "text": [
      "DQA player 1 won\n",
      "DQA player 1 won\n"
     ]
    },
    {
     "name": "stderr",
     "output_type": "stream",
     "text": [
      "  3%|▎         | 3158/100000 [04:59<4:17:51,  6.26it/s]"
     ]
    },
    {
     "name": "stdout",
     "output_type": "stream",
     "text": [
      "DQA player 2 won\n",
      "DQA player 2 won\n",
      "DQA player 2 won\n",
      "DQA player 2 won\n"
     ]
    },
    {
     "name": "stderr",
     "output_type": "stream",
     "text": [
      "  3%|▎         | 3160/100000 [04:59<3:49:54,  7.02it/s]"
     ]
    },
    {
     "name": "stdout",
     "output_type": "stream",
     "text": [
      "DQA player 1 won\n",
      "DQA player 2 won\n",
      "DQA player 2 won\n"
     ]
    },
    {
     "name": "stderr",
     "output_type": "stream",
     "text": [
      "  3%|▎         | 3162/100000 [04:59<3:37:46,  7.41it/s]"
     ]
    },
    {
     "name": "stdout",
     "output_type": "stream",
     "text": [
      "DQA player 2 won\n",
      "DQA player 2 won\n",
      "DQA player 1 won\n"
     ]
    },
    {
     "name": "stderr",
     "output_type": "stream",
     "text": [
      "  3%|▎         | 3165/100000 [05:00<3:15:34,  8.25it/s]"
     ]
    },
    {
     "name": "stdout",
     "output_type": "stream",
     "text": [
      "DQA player 2 won\n",
      "DQA player 2 won\n",
      "DQA player 1 won\n",
      "DQA player 2 won\n",
      "DQA player 2 won\n"
     ]
    },
    {
     "name": "stderr",
     "output_type": "stream",
     "text": [
      "  3%|▎         | 3167/100000 [05:00<3:29:32,  7.70it/s]"
     ]
    },
    {
     "name": "stdout",
     "output_type": "stream",
     "text": [
      "DQA player 2 won\n",
      "DQA player 2 won\n",
      "DQA player 2 won\n",
      "DQA player 2 won\n"
     ]
    },
    {
     "name": "stderr",
     "output_type": "stream",
     "text": [
      "  3%|▎         | 3169/100000 [05:00<3:31:49,  7.62it/s]"
     ]
    },
    {
     "name": "stdout",
     "output_type": "stream",
     "text": [
      "DQA player 2 won\n",
      "DQA player 2 won\n",
      "DQA player 2 won\n",
      "DQA player 2 won\n"
     ]
    },
    {
     "name": "stderr",
     "output_type": "stream",
     "text": [
      "  3%|▎         | 3172/100000 [05:01<3:23:23,  7.93it/s]"
     ]
    },
    {
     "name": "stdout",
     "output_type": "stream",
     "text": [
      "DQA player 2 won\n",
      "DQA player 2 won\n",
      "DQA player 1 won\n",
      "DQA player 2 won\n",
      "DQA player 2 won\n"
     ]
    },
    {
     "name": "stderr",
     "output_type": "stream",
     "text": [
      "  3%|▎         | 3174/100000 [05:01<3:36:37,  7.45it/s]"
     ]
    },
    {
     "name": "stdout",
     "output_type": "stream",
     "text": [
      "DQA player 1 won\n",
      "DQA player 2 won\n",
      "DQA player 2 won\n"
     ]
    },
    {
     "name": "stderr",
     "output_type": "stream",
     "text": [
      "  3%|▎         | 3176/100000 [05:01<4:10:14,  6.45it/s]"
     ]
    },
    {
     "name": "stdout",
     "output_type": "stream",
     "text": [
      "DQA player 1 won\n",
      "DQA player 2 won\n",
      "DQA player 2 won\n"
     ]
    },
    {
     "name": "stderr",
     "output_type": "stream",
     "text": [
      "\r",
      "  3%|▎         | 3178/100000 [05:01<3:25:05,  7.87it/s]"
     ]
    },
    {
     "name": "stdout",
     "output_type": "stream",
     "text": [
      "DQA player 1 won\n",
      "DQA player 2 won\n",
      "DQA player 2 won\n",
      "DQA player 1 won\n"
     ]
    },
    {
     "name": "stderr",
     "output_type": "stream",
     "text": [
      "  3%|▎         | 3180/100000 [05:02<3:19:30,  8.09it/s]"
     ]
    },
    {
     "name": "stdout",
     "output_type": "stream",
     "text": [
      "DQA player 1 won\n",
      "DQA player 1 won\n",
      "DQA player 1 won\n"
     ]
    },
    {
     "name": "stderr",
     "output_type": "stream",
     "text": [
      "  3%|▎         | 3184/100000 [05:02<3:21:59,  7.99it/s]"
     ]
    },
    {
     "name": "stdout",
     "output_type": "stream",
     "text": [
      "DQA player 1 won\n",
      "DQA player 1 won\n"
     ]
    },
    {
     "name": "stderr",
     "output_type": "stream",
     "text": [
      "\r",
      "  3%|▎         | 3185/100000 [05:02<4:25:55,  6.07it/s]"
     ]
    },
    {
     "name": "stdout",
     "output_type": "stream",
     "text": [
      "DQA player 1 won\n"
     ]
    },
    {
     "name": "stderr",
     "output_type": "stream",
     "text": [
      "\r",
      "  3%|▎         | 3186/100000 [05:03<5:05:22,  5.28it/s]"
     ]
    },
    {
     "name": "stdout",
     "output_type": "stream",
     "text": [
      "DQA player 1 won\n"
     ]
    },
    {
     "name": "stderr",
     "output_type": "stream",
     "text": [
      "\r",
      "  3%|▎         | 3187/100000 [05:03<5:25:32,  4.96it/s]"
     ]
    },
    {
     "name": "stdout",
     "output_type": "stream",
     "text": [
      "DQA player 1 won\n"
     ]
    },
    {
     "name": "stderr",
     "output_type": "stream",
     "text": [
      "  3%|▎         | 3189/100000 [05:03<4:59:30,  5.39it/s]"
     ]
    },
    {
     "name": "stdout",
     "output_type": "stream",
     "text": [
      "DQA player 1 won\n",
      "DQA player 2 won\n",
      "DQA player 2 won\n"
     ]
    },
    {
     "name": "stderr",
     "output_type": "stream",
     "text": [
      "\r",
      "  3%|▎         | 3190/100000 [05:04<7:17:08,  3.69it/s]"
     ]
    },
    {
     "name": "stdout",
     "output_type": "stream",
     "text": [
      "DQA player 2 won\n",
      "DQA player 2 won\n"
     ]
    },
    {
     "name": "stderr",
     "output_type": "stream",
     "text": [
      "\r",
      "  3%|▎         | 3191/100000 [05:04<7:17:48,  3.69it/s]"
     ]
    },
    {
     "name": "stdout",
     "output_type": "stream",
     "text": [
      "DQA player 2 won\n",
      "DQA player 2 won\n"
     ]
    },
    {
     "name": "stderr",
     "output_type": "stream",
     "text": [
      "\r",
      "  3%|▎         | 3192/100000 [05:05<13:09:25,  2.04it/s]"
     ]
    },
    {
     "name": "stdout",
     "output_type": "stream",
     "text": [
      "DQA player 2 won\n",
      "DQA player 2 won\n"
     ]
    },
    {
     "name": "stderr",
     "output_type": "stream",
     "text": [
      "\r",
      "  3%|▎         | 3193/100000 [05:05<11:04:01,  2.43it/s]"
     ]
    },
    {
     "name": "stdout",
     "output_type": "stream",
     "text": [
      "DQA player 2 won\n",
      "DQA player 2 won\n"
     ]
    },
    {
     "name": "stderr",
     "output_type": "stream",
     "text": [
      "\r",
      "  3%|▎         | 3194/100000 [05:05<10:23:48,  2.59it/s]"
     ]
    },
    {
     "name": "stdout",
     "output_type": "stream",
     "text": [
      "DQA player 2 won\n",
      "DQA player 2 won\n"
     ]
    },
    {
     "name": "stderr",
     "output_type": "stream",
     "text": [
      "  3%|▎         | 3196/100000 [05:06<8:42:23,  3.09it/s] "
     ]
    },
    {
     "name": "stdout",
     "output_type": "stream",
     "text": [
      "DQA player 2 won\n",
      "DQA player 2 won\n",
      "DQA player 1 won\n"
     ]
    },
    {
     "name": "stderr",
     "output_type": "stream",
     "text": [
      "\r",
      "  3%|▎         | 3197/100000 [05:07<10:21:32,  2.60it/s]"
     ]
    },
    {
     "name": "stdout",
     "output_type": "stream",
     "text": [
      "DQA player 1 won\n"
     ]
    },
    {
     "name": "stderr",
     "output_type": "stream",
     "text": [
      "\r",
      "  3%|▎         | 3198/100000 [05:07<10:20:30,  2.60it/s]"
     ]
    },
    {
     "name": "stdout",
     "output_type": "stream",
     "text": [
      "DQA player 1 won\n"
     ]
    },
    {
     "name": "stderr",
     "output_type": "stream",
     "text": [
      "  3%|▎         | 3200/100000 [05:07<7:44:53,  3.47it/s] "
     ]
    },
    {
     "name": "stdout",
     "output_type": "stream",
     "text": [
      "DQA player 1 won\n",
      "DQA player 2 won\n",
      "DQA player 2 won\n"
     ]
    },
    {
     "name": "stderr",
     "output_type": "stream",
     "text": [
      "  3%|▎         | 3203/100000 [05:08<5:53:42,  4.56it/s]"
     ]
    },
    {
     "name": "stdout",
     "output_type": "stream",
     "text": [
      "DQA player 1 won\n",
      "DQA player 2 won\n",
      "DQA player 2 won\n",
      "DQA player 2 won\n",
      "DQA player 2 won\n"
     ]
    },
    {
     "name": "stderr",
     "output_type": "stream",
     "text": [
      "\r",
      "  3%|▎         | 3205/100000 [05:08<4:42:43,  5.71it/s]"
     ]
    },
    {
     "name": "stdout",
     "output_type": "stream",
     "text": [
      "DQA player 1 won\n",
      "DQA player 1 won\n",
      "DQA player 1 won\n"
     ]
    },
    {
     "name": "stderr",
     "output_type": "stream",
     "text": [
      "  3%|▎         | 3209/100000 [05:09<4:28:12,  6.01it/s]"
     ]
    },
    {
     "name": "stdout",
     "output_type": "stream",
     "text": [
      "DQA player 1 won\n",
      "DQA player 1 won\n",
      "DQA player 1 won\n"
     ]
    },
    {
     "name": "stderr",
     "output_type": "stream",
     "text": [
      "  3%|▎         | 3212/100000 [05:09<3:33:27,  7.56it/s]"
     ]
    },
    {
     "name": "stdout",
     "output_type": "stream",
     "text": [
      "DQA player 1 won\n",
      "DQA player 1 won\n",
      "DQA player 2 won\n",
      "DQA player 2 won\n"
     ]
    },
    {
     "name": "stderr",
     "output_type": "stream",
     "text": [
      "\r",
      "  3%|▎         | 3214/100000 [05:09<3:05:41,  8.69it/s]"
     ]
    },
    {
     "name": "stdout",
     "output_type": "stream",
     "text": [
      "DQA player 1 won\n",
      "DQA player 1 won\n",
      "DQA player 1 won\n"
     ]
    },
    {
     "name": "stderr",
     "output_type": "stream",
     "text": [
      "  3%|▎         | 3218/100000 [05:09<2:32:46, 10.56it/s]"
     ]
    },
    {
     "name": "stdout",
     "output_type": "stream",
     "text": [
      "DQA player 1 won\n",
      "DQA player 1 won\n",
      "DQA player 1 won\n"
     ]
    },
    {
     "name": "stderr",
     "output_type": "stream",
     "text": [
      "\r",
      "  3%|▎         | 3220/100000 [05:09<2:39:20, 10.12it/s]"
     ]
    },
    {
     "name": "stdout",
     "output_type": "stream",
     "text": [
      "DQA player 1 won\n",
      "DQA player 1 won\n",
      "DQA player 1 won\n"
     ]
    },
    {
     "name": "stderr",
     "output_type": "stream",
     "text": [
      "  3%|▎         | 3224/100000 [05:10<2:22:05, 11.35it/s]"
     ]
    },
    {
     "name": "stdout",
     "output_type": "stream",
     "text": [
      "DQA player 1 won\n",
      "DQA player 2 won\n",
      "DQA player 2 won\n",
      "DQA player 1 won\n"
     ]
    },
    {
     "name": "stderr",
     "output_type": "stream",
     "text": [
      "\r",
      "  3%|▎         | 3226/100000 [05:10<2:19:41, 11.55it/s]"
     ]
    },
    {
     "name": "stdout",
     "output_type": "stream",
     "text": [
      "DQA player 1 won\n",
      "DQA player 1 won\n",
      "DQA player 1 won\n"
     ]
    },
    {
     "name": "stderr",
     "output_type": "stream",
     "text": [
      "\r",
      "  3%|▎         | 3228/100000 [05:10<2:29:25, 10.79it/s]"
     ]
    },
    {
     "name": "stdout",
     "output_type": "stream",
     "text": [
      "DQA player 1 won\n",
      "DQA player 2 won\n",
      "DQA player 2 won\n"
     ]
    },
    {
     "name": "stderr",
     "output_type": "stream",
     "text": [
      "  3%|▎         | 3232/100000 [05:11<2:28:12, 10.88it/s]"
     ]
    },
    {
     "name": "stdout",
     "output_type": "stream",
     "text": [
      "DQA player 1 won\n",
      "DQA player 1 won\n",
      "DQA player 1 won\n"
     ]
    },
    {
     "name": "stderr",
     "output_type": "stream",
     "text": [
      "  3%|▎         | 3236/100000 [05:11<2:02:21, 13.18it/s]"
     ]
    },
    {
     "name": "stdout",
     "output_type": "stream",
     "text": [
      "DQA player 1 won\n",
      "DQA player 1 won\n",
      "DQA player 2 won\n",
      "DQA player 2 won\n",
      "DQA player 1 won\n"
     ]
    },
    {
     "name": "stderr",
     "output_type": "stream",
     "text": [
      "\r",
      "  3%|▎         | 3238/100000 [05:11<2:06:11, 12.78it/s]"
     ]
    },
    {
     "name": "stdout",
     "output_type": "stream",
     "text": [
      "DQA player 1 won\n",
      "DQA player 1 won\n",
      "DQA player 2 won\n",
      "DQA player 2 won\n"
     ]
    },
    {
     "name": "stderr",
     "output_type": "stream",
     "text": [
      "  3%|▎         | 3242/100000 [05:11<2:07:27, 12.65it/s]"
     ]
    },
    {
     "name": "stdout",
     "output_type": "stream",
     "text": [
      "DQA player 1 won\n",
      "DQA player 1 won\n",
      "DQA player 2 won\n",
      "DQA player 2 won\n"
     ]
    },
    {
     "name": "stderr",
     "output_type": "stream",
     "text": [
      "\r",
      "  3%|▎         | 3244/100000 [05:12<2:26:39, 11.00it/s]"
     ]
    },
    {
     "name": "stdout",
     "output_type": "stream",
     "text": [
      "DQA player 2 won\n",
      "DQA player 2 won\n",
      "DQA player 1 won\n",
      "DQA player 1 won\n"
     ]
    },
    {
     "name": "stderr",
     "output_type": "stream",
     "text": [
      "\r",
      "  3%|▎         | 3246/100000 [05:12<2:51:32,  9.40it/s]"
     ]
    },
    {
     "name": "stdout",
     "output_type": "stream",
     "text": [
      "DQA player 1 won\n",
      "DQA player 1 won\n"
     ]
    },
    {
     "name": "stderr",
     "output_type": "stream",
     "text": [
      "  3%|▎         | 3249/100000 [05:12<3:31:46,  7.61it/s]"
     ]
    },
    {
     "name": "stdout",
     "output_type": "stream",
     "text": [
      "DQA player 1 won\n",
      "DQA player 2 won\n",
      "DQA player 2 won\n",
      "DQA player 1 won\n",
      "DQA player 1 won\n"
     ]
    },
    {
     "name": "stderr",
     "output_type": "stream",
     "text": [
      "  3%|▎         | 3254/100000 [05:13<3:05:02,  8.71it/s]"
     ]
    },
    {
     "name": "stdout",
     "output_type": "stream",
     "text": [
      "DQA player 1 won\n",
      "DQA player 2 won\n",
      "DQA player 2 won\n",
      "DQA player 1 won\n"
     ]
    },
    {
     "name": "stderr",
     "output_type": "stream",
     "text": [
      "  3%|▎         | 3257/100000 [05:13<2:51:56,  9.38it/s]"
     ]
    },
    {
     "name": "stdout",
     "output_type": "stream",
     "text": [
      "DQA player 1 won\n",
      "DQA player 1 won\n",
      "DQA player 1 won\n"
     ]
    },
    {
     "name": "stderr",
     "output_type": "stream",
     "text": [
      "\r",
      "  3%|▎         | 3259/100000 [05:13<2:41:39,  9.97it/s]"
     ]
    },
    {
     "name": "stdout",
     "output_type": "stream",
     "text": [
      "DQA player 1 won\n",
      "DQA player 1 won\n"
     ]
    },
    {
     "name": "stderr",
     "output_type": "stream",
     "text": [
      "\r",
      "  3%|▎         | 3261/100000 [05:14<3:40:34,  7.31it/s]"
     ]
    },
    {
     "name": "stdout",
     "output_type": "stream",
     "text": [
      "DQA player 1 won\n",
      "DQA player 1 won\n",
      "DQA player 1 won\n"
     ]
    },
    {
     "name": "stderr",
     "output_type": "stream",
     "text": [
      "\r",
      "  3%|▎         | 3263/100000 [05:14<3:19:25,  8.08it/s]"
     ]
    },
    {
     "name": "stdout",
     "output_type": "stream",
     "text": [
      "DQA player 1 won\n"
     ]
    },
    {
     "name": "stderr",
     "output_type": "stream",
     "text": [
      "  3%|▎         | 3265/100000 [05:14<4:46:53,  5.62it/s]"
     ]
    },
    {
     "name": "stdout",
     "output_type": "stream",
     "text": [
      "DQA player 1 won\n",
      "DQA player 1 won\n"
     ]
    },
    {
     "name": "stderr",
     "output_type": "stream",
     "text": [
      "\r",
      "  3%|▎         | 3267/100000 [05:15<3:56:14,  6.82it/s]"
     ]
    },
    {
     "name": "stdout",
     "output_type": "stream",
     "text": [
      "DQA player 1 won\n",
      "DQA player 1 won\n",
      "DQA player 1 won\n"
     ]
    },
    {
     "name": "stderr",
     "output_type": "stream",
     "text": [
      "\r",
      "  3%|▎         | 3269/100000 [05:15<3:22:15,  7.97it/s]"
     ]
    },
    {
     "name": "stdout",
     "output_type": "stream",
     "text": [
      "DQA player 2 won\n",
      "DQA player 2 won\n",
      "DQA player 2 won\n",
      "DQA player 2 won\n"
     ]
    },
    {
     "name": "stderr",
     "output_type": "stream",
     "text": [
      "  3%|▎         | 3273/100000 [05:15<3:44:29,  7.18it/s]"
     ]
    },
    {
     "name": "stdout",
     "output_type": "stream",
     "text": [
      "DQA player 1 won\n",
      "DQA player 1 won\n",
      "DQA player 1 won\n"
     ]
    },
    {
     "name": "stderr",
     "output_type": "stream",
     "text": [
      "\r",
      "  3%|▎         | 3275/100000 [05:16<3:10:03,  8.48it/s]"
     ]
    },
    {
     "name": "stdout",
     "output_type": "stream",
     "text": [
      "DQA player 1 won\n",
      "DQA player 1 won\n"
     ]
    },
    {
     "name": "stderr",
     "output_type": "stream",
     "text": [
      "\r",
      "  3%|▎         | 3277/100000 [05:16<3:41:33,  7.28it/s]"
     ]
    },
    {
     "name": "stdout",
     "output_type": "stream",
     "text": [
      "DQA player 2 won\n",
      "DQA player 2 won\n",
      "DQA player 2 won\n",
      "DQA player 2 won\n"
     ]
    },
    {
     "name": "stderr",
     "output_type": "stream",
     "text": [
      "\r",
      "  3%|▎         | 3278/100000 [05:16<6:53:04,  3.90it/s]"
     ]
    },
    {
     "name": "stdout",
     "output_type": "stream",
     "text": [
      "DQA player 2 won\n",
      "DQA player 2 won\n"
     ]
    },
    {
     "name": "stderr",
     "output_type": "stream",
     "text": [
      "\r",
      "  3%|▎         | 3279/100000 [05:17<8:30:23,  3.16it/s]"
     ]
    },
    {
     "name": "stdout",
     "output_type": "stream",
     "text": [
      "DQA player 2 won\n",
      "DQA player 2 won\n"
     ]
    },
    {
     "name": "stderr",
     "output_type": "stream",
     "text": [
      "\r",
      "  3%|▎         | 3280/100000 [05:17<9:37:38,  2.79it/s]"
     ]
    },
    {
     "name": "stdout",
     "output_type": "stream",
     "text": [
      "DQA player 1 won\n"
     ]
    },
    {
     "name": "stderr",
     "output_type": "stream",
     "text": [
      "\r",
      "  3%|▎         | 3281/100000 [05:18<10:20:54,  2.60it/s]"
     ]
    },
    {
     "name": "stdout",
     "output_type": "stream",
     "text": [
      "DQA player 2 won\n",
      "DQA player 2 won\n",
      "DQA player 2 won\n",
      "DQA player 2 won\n"
     ]
    },
    {
     "name": "stderr",
     "output_type": "stream",
     "text": [
      "\r",
      "  3%|▎         | 3283/100000 [05:18<8:09:33,  3.29it/s] "
     ]
    },
    {
     "name": "stdout",
     "output_type": "stream",
     "text": [
      "DQA player 1 won\n"
     ]
    },
    {
     "name": "stderr",
     "output_type": "stream",
     "text": [
      "  3%|▎         | 3285/100000 [05:19<7:18:17,  3.68it/s]"
     ]
    },
    {
     "name": "stdout",
     "output_type": "stream",
     "text": [
      "DQA player 2 won\n",
      "DQA player 2 won\n",
      "DQA player 2 won\n",
      "DQA player 2 won\n"
     ]
    },
    {
     "name": "stderr",
     "output_type": "stream",
     "text": [
      "\r",
      "  3%|▎         | 3286/100000 [05:19<6:57:45,  3.86it/s]"
     ]
    },
    {
     "name": "stdout",
     "output_type": "stream",
     "text": [
      "DQA player 2 won\n",
      "DQA player 2 won\n",
      "DQA player 1 won\n"
     ]
    },
    {
     "name": "stderr",
     "output_type": "stream",
     "text": [
      "  3%|▎         | 3288/100000 [05:19<8:11:22,  3.28it/s]"
     ]
    },
    {
     "name": "stdout",
     "output_type": "stream",
     "text": [
      "DQA player 2 won\n",
      "DQA player 2 won\n"
     ]
    },
    {
     "name": "stderr",
     "output_type": "stream",
     "text": [
      "\r",
      "  3%|▎         | 3289/100000 [05:20<9:10:41,  2.93it/s]"
     ]
    },
    {
     "name": "stdout",
     "output_type": "stream",
     "text": [
      "DQA player 1 won\n"
     ]
    },
    {
     "name": "stderr",
     "output_type": "stream",
     "text": [
      "\r",
      "  3%|▎         | 3290/100000 [05:20<9:24:44,  2.85it/s]"
     ]
    },
    {
     "name": "stdout",
     "output_type": "stream",
     "text": [
      "DQA player 2 won\n",
      "DQA player 2 won\n"
     ]
    },
    {
     "name": "stderr",
     "output_type": "stream",
     "text": [
      "  3%|▎         | 3293/100000 [05:21<9:00:48,  2.98it/s] "
     ]
    },
    {
     "name": "stdout",
     "output_type": "stream",
     "text": [
      "DQA player 2 won\n",
      "DQA player 2 won\n",
      "DQA player 2 won\n",
      "DQA player 2 won\n",
      "DQA player 2 won\n",
      "DQA player 2 won\n"
     ]
    },
    {
     "name": "stderr",
     "output_type": "stream",
     "text": [
      "\r",
      "  3%|▎         | 3295/100000 [05:21<7:00:31,  3.83it/s]"
     ]
    },
    {
     "name": "stdout",
     "output_type": "stream",
     "text": [
      "DQA player 2 won\n",
      "DQA player 2 won\n",
      "DQA player 2 won\n",
      "DQA player 2 won\n"
     ]
    },
    {
     "name": "stderr",
     "output_type": "stream",
     "text": [
      "  3%|▎         | 3298/100000 [05:22<4:50:21,  5.55it/s]"
     ]
    },
    {
     "name": "stdout",
     "output_type": "stream",
     "text": [
      "DQA player 1 won\n",
      "DQA player 2 won\n",
      "DQA player 2 won\n",
      "DQA player 2 won\n",
      "DQA player 2 won\n"
     ]
    },
    {
     "name": "stderr",
     "output_type": "stream",
     "text": [
      "\r",
      "  3%|▎         | 3300/100000 [05:22<4:14:46,  6.33it/s]"
     ]
    },
    {
     "name": "stdout",
     "output_type": "stream",
     "text": [
      "DQA player 2 won\n",
      "DQA player 2 won\n",
      "DQA player 2 won\n",
      "DQA player 2 won\n"
     ]
    },
    {
     "name": "stderr",
     "output_type": "stream",
     "text": [
      "\r",
      "  3%|▎         | 3301/100000 [05:22<4:06:03,  6.55it/s]"
     ]
    },
    {
     "name": "stdout",
     "output_type": "stream",
     "text": [
      "DQA player 2 won\n",
      "DQA player 2 won\n",
      "DQA player 2 won\n",
      "DQA player 2 won\n",
      "DQA player 1 won\n"
     ]
    },
    {
     "name": "stderr",
     "output_type": "stream",
     "text": [
      "  3%|▎         | 3305/100000 [05:22<3:36:15,  7.45it/s]"
     ]
    },
    {
     "name": "stdout",
     "output_type": "stream",
     "text": [
      "DQA player 1 won\n",
      "DQA player 2 won\n",
      "DQA player 2 won\n"
     ]
    },
    {
     "name": "stderr",
     "output_type": "stream",
     "text": [
      "\r",
      "  3%|▎         | 3307/100000 [05:23<3:06:06,  8.66it/s]"
     ]
    },
    {
     "name": "stdout",
     "output_type": "stream",
     "text": [
      "DQA player 2 won\n",
      "DQA player 2 won\n",
      "DQA player 2 won\n",
      "DQA player 2 won\n",
      "DQA player 2 won\n",
      "DQA player 2 won\n"
     ]
    },
    {
     "name": "stderr",
     "output_type": "stream",
     "text": [
      "\r",
      "  3%|▎         | 3309/100000 [05:23<2:54:37,  9.23it/s]"
     ]
    },
    {
     "name": "stdout",
     "output_type": "stream",
     "text": [
      "DQA player 2 won\n",
      "DQA player 2 won\n",
      "DQA player 2 won\n",
      "DQA player 2 won\n"
     ]
    },
    {
     "name": "stderr",
     "output_type": "stream",
     "text": [
      "\r",
      "  3%|▎         | 3311/100000 [05:23<3:30:00,  7.67it/s]"
     ]
    },
    {
     "name": "stdout",
     "output_type": "stream",
     "text": [
      "DQA player 2 won\n",
      "DQA player 2 won\n"
     ]
    },
    {
     "name": "stderr",
     "output_type": "stream",
     "text": [
      "\r",
      "  3%|▎         | 3312/100000 [05:23<4:52:47,  5.50it/s]"
     ]
    },
    {
     "name": "stdout",
     "output_type": "stream",
     "text": [
      "DQA player 2 won\n",
      "DQA player 2 won\n",
      "DQA player 2 won\n",
      "DQA player 2 won\n",
      "DQA player 2 won\n"
     ]
    },
    {
     "name": "stderr",
     "output_type": "stream",
     "text": [
      "\r",
      "  3%|▎         | 3314/100000 [05:24<5:39:16,  4.75it/s]"
     ]
    },
    {
     "name": "stdout",
     "output_type": "stream",
     "text": [
      "DQA player 2 won\n"
     ]
    },
    {
     "name": "stderr",
     "output_type": "stream",
     "text": [
      "  3%|▎         | 3316/100000 [05:24<5:31:28,  4.86it/s]"
     ]
    },
    {
     "name": "stdout",
     "output_type": "stream",
     "text": [
      "DQA player 1 won\n",
      "DQA player 2 won\n",
      "DQA player 2 won\n"
     ]
    },
    {
     "name": "stderr",
     "output_type": "stream",
     "text": [
      "\r",
      "  3%|▎         | 3317/100000 [05:25<5:34:38,  4.82it/s]"
     ]
    },
    {
     "name": "stdout",
     "output_type": "stream",
     "text": [
      "DQA player 1 won\n",
      "DQA player 2 won\n",
      "DQA player 2 won\n"
     ]
    },
    {
     "name": "stderr",
     "output_type": "stream",
     "text": [
      "  3%|▎         | 3321/100000 [05:25<4:24:09,  6.10it/s]"
     ]
    },
    {
     "name": "stdout",
     "output_type": "stream",
     "text": [
      "DQA player 1 won\n",
      "DQA player 2 won\n",
      "DQA player 2 won\n",
      "DQA player 2 won\n",
      "DQA player 2 won\n"
     ]
    },
    {
     "name": "stderr",
     "output_type": "stream",
     "text": [
      "  3%|▎         | 3324/100000 [05:25<3:24:52,  7.86it/s]"
     ]
    },
    {
     "name": "stdout",
     "output_type": "stream",
     "text": [
      "DQA player 2 won\n",
      "DQA player 2 won\n",
      "DQA player 2 won\n",
      "DQA player 2 won\n",
      "DQA player 2 won\n",
      "DQA player 2 won\n"
     ]
    },
    {
     "name": "stderr",
     "output_type": "stream",
     "text": [
      "\r",
      "  3%|▎         | 3326/100000 [05:25<3:00:22,  8.93it/s]"
     ]
    },
    {
     "name": "stdout",
     "output_type": "stream",
     "text": [
      "DQA player 2 won\n",
      "DQA player 2 won\n",
      "DQA player 2 won\n",
      "DQA player 2 won\n",
      "DQA player 2 won\n",
      "DQA player 2 won\n"
     ]
    },
    {
     "name": "stderr",
     "output_type": "stream",
     "text": [
      "\r",
      "  3%|▎         | 3328/100000 [05:26<2:39:28, 10.10it/s]"
     ]
    },
    {
     "name": "stdout",
     "output_type": "stream",
     "text": [
      "DQA player 1 won\n",
      "DQA player 1 won\n"
     ]
    },
    {
     "name": "stderr",
     "output_type": "stream",
     "text": [
      "\r",
      "  3%|▎         | 3330/100000 [05:26<3:09:43,  8.49it/s]"
     ]
    },
    {
     "name": "stdout",
     "output_type": "stream",
     "text": [
      "DQA player 1 won\n"
     ]
    },
    {
     "name": "stderr",
     "output_type": "stream",
     "text": [
      "\r",
      "  3%|▎         | 3331/100000 [05:27<8:36:09,  3.12it/s]"
     ]
    },
    {
     "name": "stdout",
     "output_type": "stream",
     "text": [
      "DQA player 2 won\n",
      "DQA player 2 won\n"
     ]
    },
    {
     "name": "stderr",
     "output_type": "stream",
     "text": [
      "  3%|▎         | 3333/100000 [05:28<8:56:12,  3.00it/s] "
     ]
    },
    {
     "name": "stdout",
     "output_type": "stream",
     "text": [
      "DQA player 1 won\n",
      "DQA player 1 won\n"
     ]
    },
    {
     "name": "stderr",
     "output_type": "stream",
     "text": [
      "\r",
      "  3%|▎         | 3334/100000 [05:28<8:36:18,  3.12it/s]"
     ]
    },
    {
     "name": "stdout",
     "output_type": "stream",
     "text": [
      "DQA player 2 won\n",
      "DQA player 2 won\n",
      "DQA player 2 won\n"
     ]
    },
    {
     "name": "stderr",
     "output_type": "stream",
     "text": [
      "\r",
      "  3%|▎         | 3335/100000 [05:28<7:40:20,  3.50it/s]"
     ]
    },
    {
     "name": "stdout",
     "output_type": "stream",
     "text": [
      "DQA player 2 won\n",
      "DQA player 2 won\n"
     ]
    },
    {
     "name": "stderr",
     "output_type": "stream",
     "text": [
      "  3%|▎         | 3338/100000 [05:28<5:41:55,  4.71it/s]"
     ]
    },
    {
     "name": "stdout",
     "output_type": "stream",
     "text": [
      "DQA player 2 won\n",
      "DQA player 1 won\n",
      "DQA player 1 won\n",
      "DQA player 1 won\n"
     ]
    },
    {
     "name": "stderr",
     "output_type": "stream",
     "text": [
      "\r",
      "  3%|▎         | 3340/100000 [05:29<4:34:28,  5.87it/s]"
     ]
    },
    {
     "name": "stdout",
     "output_type": "stream",
     "text": [
      "DQA player 2 won\n",
      "DQA player 2 won\n",
      "DQA player 2 won\n",
      "DQA player 2 won\n"
     ]
    },
    {
     "name": "stderr",
     "output_type": "stream",
     "text": [
      "\r",
      "  3%|▎         | 3342/100000 [05:29<4:36:23,  5.83it/s]"
     ]
    },
    {
     "name": "stdout",
     "output_type": "stream",
     "text": [
      "DQA player 1 won\n",
      "DQA player 2 won\n"
     ]
    },
    {
     "name": "stderr",
     "output_type": "stream",
     "text": [
      "\r",
      "  3%|▎         | 3343/100000 [05:29<4:55:47,  5.45it/s]"
     ]
    },
    {
     "name": "stdout",
     "output_type": "stream",
     "text": [
      "DQA player 2 won\n",
      "DQA player 1 won\n"
     ]
    },
    {
     "name": "stderr",
     "output_type": "stream",
     "text": [
      "  3%|▎         | 3346/100000 [05:30<4:22:37,  6.13it/s]"
     ]
    },
    {
     "name": "stdout",
     "output_type": "stream",
     "text": [
      "DQA player 2 won\n",
      "DQA player 2 won\n",
      "DQA player 1 won\n",
      "DQA player 1 won\n"
     ]
    },
    {
     "name": "stderr",
     "output_type": "stream",
     "text": [
      "\r",
      "  3%|▎         | 3348/100000 [05:30<3:38:14,  7.38it/s]"
     ]
    },
    {
     "name": "stdout",
     "output_type": "stream",
     "text": [
      "DQA player 2 won\n",
      "DQA player 2 won\n",
      "DQA player 2 won\n"
     ]
    },
    {
     "name": "stderr",
     "output_type": "stream",
     "text": [
      "  3%|▎         | 3351/100000 [05:30<3:33:34,  7.54it/s]"
     ]
    },
    {
     "name": "stdout",
     "output_type": "stream",
     "text": [
      "DQA player 2 won\n",
      "DQA player 1 won\n",
      "DQA player 1 won\n"
     ]
    },
    {
     "name": "stderr",
     "output_type": "stream",
     "text": [
      "\r",
      "  3%|▎         | 3352/100000 [05:30<3:20:46,  8.02it/s]"
     ]
    },
    {
     "name": "stdout",
     "output_type": "stream",
     "text": [
      "DQA player 1 won\n",
      "DQA player 2 won\n"
     ]
    },
    {
     "name": "stderr",
     "output_type": "stream",
     "text": [
      "  3%|▎         | 3354/100000 [05:31<4:06:45,  6.53it/s]"
     ]
    },
    {
     "name": "stdout",
     "output_type": "stream",
     "text": [
      "DQA player 2 won\n",
      "DQA player 2 won\n",
      "DQA player 2 won\n",
      "DQA player 1 won\n"
     ]
    },
    {
     "name": "stderr",
     "output_type": "stream",
     "text": [
      "  3%|▎         | 3358/100000 [05:31<3:04:29,  8.73it/s]"
     ]
    },
    {
     "name": "stdout",
     "output_type": "stream",
     "text": [
      "DQA player 1 won\n",
      "DQA player 1 won\n",
      "DQA player 1 won\n"
     ]
    },
    {
     "name": "stderr",
     "output_type": "stream",
     "text": [
      "\r",
      "  3%|▎         | 3359/100000 [05:31<4:32:47,  5.90it/s]"
     ]
    },
    {
     "name": "stdout",
     "output_type": "stream",
     "text": [
      "DQA player 2 won\n",
      "DQA player 2 won\n"
     ]
    },
    {
     "name": "stderr",
     "output_type": "stream",
     "text": [
      "\r",
      "  3%|▎         | 3360/100000 [05:32<5:18:11,  5.06it/s]"
     ]
    },
    {
     "name": "stdout",
     "output_type": "stream",
     "text": [
      "DQA player 2 won\n",
      "DQA player 2 won\n"
     ]
    },
    {
     "name": "stderr",
     "output_type": "stream",
     "text": [
      "  3%|▎         | 3362/100000 [05:32<5:06:12,  5.26it/s]"
     ]
    },
    {
     "name": "stdout",
     "output_type": "stream",
     "text": [
      "DQA player 1 won\n",
      "DQA player 1 won\n"
     ]
    },
    {
     "name": "stderr",
     "output_type": "stream",
     "text": [
      "\r",
      "  3%|▎         | 3364/100000 [05:32<4:18:51,  6.22it/s]"
     ]
    },
    {
     "name": "stdout",
     "output_type": "stream",
     "text": [
      "DQA player 1 won\n",
      "DQA player 1 won\n"
     ]
    },
    {
     "name": "stderr",
     "output_type": "stream",
     "text": [
      "\r",
      "  3%|▎         | 3365/100000 [05:32<4:07:28,  6.51it/s]"
     ]
    },
    {
     "name": "stdout",
     "output_type": "stream",
     "text": [
      "DQA player 1 won\n"
     ]
    },
    {
     "name": "stderr",
     "output_type": "stream",
     "text": [
      "\r",
      "  3%|▎         | 3366/100000 [05:33<8:05:09,  3.32it/s]"
     ]
    },
    {
     "name": "stdout",
     "output_type": "stream",
     "text": [
      "DQA player 2 won\n",
      "DQA player 2 won\n"
     ]
    },
    {
     "name": "stderr",
     "output_type": "stream",
     "text": [
      "\r",
      "  3%|▎         | 3367/100000 [05:34<11:21:29,  2.36it/s]"
     ]
    },
    {
     "name": "stdout",
     "output_type": "stream",
     "text": [
      "DQA player 1 won\n"
     ]
    },
    {
     "name": "stderr",
     "output_type": "stream",
     "text": [
      "\r",
      "  3%|▎         | 3368/100000 [05:34<10:17:46,  2.61it/s]"
     ]
    },
    {
     "name": "stdout",
     "output_type": "stream",
     "text": [
      "DQA player 1 won\n"
     ]
    },
    {
     "name": "stderr",
     "output_type": "stream",
     "text": [
      "\r",
      "  3%|▎         | 3369/100000 [05:34<9:28:13,  2.83it/s] "
     ]
    },
    {
     "name": "stdout",
     "output_type": "stream",
     "text": [
      "DQA player 1 won\n"
     ]
    },
    {
     "name": "stderr",
     "output_type": "stream",
     "text": [
      "\r",
      "  3%|▎         | 3370/100000 [05:35<14:47:06,  1.82it/s]"
     ]
    },
    {
     "name": "stdout",
     "output_type": "stream",
     "text": [
      "DQA player 2 won\n",
      "DQA player 2 won\n"
     ]
    },
    {
     "name": "stderr",
     "output_type": "stream",
     "text": [
      "\r",
      "  3%|▎         | 3371/100000 [05:35<12:44:50,  2.11it/s]"
     ]
    },
    {
     "name": "stdout",
     "output_type": "stream",
     "text": [
      "DQA player 1 won\n"
     ]
    },
    {
     "name": "stderr",
     "output_type": "stream",
     "text": [
      "\r",
      "  3%|▎         | 3372/100000 [05:36<11:01:39,  2.43it/s]"
     ]
    },
    {
     "name": "stdout",
     "output_type": "stream",
     "text": [
      "DQA player 2 won\n",
      "DQA player 2 won\n"
     ]
    },
    {
     "name": "stderr",
     "output_type": "stream",
     "text": [
      "\r",
      "  3%|▎         | 3373/100000 [05:36<11:53:34,  2.26it/s]"
     ]
    },
    {
     "name": "stdout",
     "output_type": "stream",
     "text": [
      "DQA player 2 won\n",
      "DQA player 2 won\n"
     ]
    },
    {
     "name": "stderr",
     "output_type": "stream",
     "text": [
      "\r",
      "  3%|▎         | 3374/100000 [05:37<10:18:50,  2.60it/s]"
     ]
    },
    {
     "name": "stdout",
     "output_type": "stream",
     "text": [
      "DQA player 2 won\n",
      "DQA player 2 won\n"
     ]
    },
    {
     "name": "stderr",
     "output_type": "stream",
     "text": [
      "\r",
      "  3%|▎         | 3375/100000 [05:37<9:17:25,  2.89it/s] "
     ]
    },
    {
     "name": "stdout",
     "output_type": "stream",
     "text": [
      "DQA player 2 won\n",
      "DQA player 2 won\n",
      "DQA player 1 won\n"
     ]
    },
    {
     "name": "stderr",
     "output_type": "stream",
     "text": [
      "\r",
      "  3%|▎         | 3377/100000 [05:37<8:00:32,  3.35it/s]"
     ]
    },
    {
     "name": "stdout",
     "output_type": "stream",
     "text": [
      "DQA player 2 won\n",
      "DQA player 2 won\n"
     ]
    },
    {
     "name": "stderr",
     "output_type": "stream",
     "text": [
      "  3%|▎         | 3379/100000 [05:38<7:46:29,  3.45it/s]"
     ]
    },
    {
     "name": "stdout",
     "output_type": "stream",
     "text": [
      "DQA player 2 won\n",
      "DQA player 2 won\n",
      "DQA player 2 won\n",
      "DQA player 2 won\n"
     ]
    },
    {
     "name": "stderr",
     "output_type": "stream",
     "text": [
      "\r",
      "  3%|▎         | 3380/100000 [05:38<6:20:06,  4.24it/s]"
     ]
    },
    {
     "name": "stdout",
     "output_type": "stream",
     "text": [
      "DQA player 2 won\n",
      "DQA player 2 won\n",
      "DQA player 2 won\n"
     ]
    },
    {
     "name": "stderr",
     "output_type": "stream",
     "text": [
      "\r",
      "  3%|▎         | 3381/100000 [05:38<6:08:27,  4.37it/s]"
     ]
    },
    {
     "name": "stdout",
     "output_type": "stream",
     "text": [
      "DQA player 2 won\n"
     ]
    },
    {
     "name": "stderr",
     "output_type": "stream",
     "text": [
      "  3%|▎         | 3383/100000 [05:38<5:31:24,  4.86it/s]"
     ]
    },
    {
     "name": "stdout",
     "output_type": "stream",
     "text": [
      "DQA player 1 won\n",
      "DQA player 1 won\n"
     ]
    },
    {
     "name": "stderr",
     "output_type": "stream",
     "text": [
      "  3%|▎         | 3385/100000 [05:39<4:51:27,  5.52it/s]"
     ]
    },
    {
     "name": "stdout",
     "output_type": "stream",
     "text": [
      "DQA player 1 won\n",
      "DQA player 1 won\n"
     ]
    },
    {
     "name": "stderr",
     "output_type": "stream",
     "text": [
      "  3%|▎         | 3387/100000 [05:39<5:13:19,  5.14it/s]"
     ]
    },
    {
     "name": "stdout",
     "output_type": "stream",
     "text": [
      "DQA player 2 won\n",
      "DQA player 2 won\n",
      "DQA player 1 won\n"
     ]
    },
    {
     "name": "stderr",
     "output_type": "stream",
     "text": [
      "\r",
      "  3%|▎         | 3388/100000 [05:40<7:12:48,  3.72it/s]"
     ]
    },
    {
     "name": "stdout",
     "output_type": "stream",
     "text": [
      "DQA player 2 won\n",
      "DQA player 2 won\n"
     ]
    },
    {
     "name": "stderr",
     "output_type": "stream",
     "text": [
      "  3%|▎         | 3390/100000 [05:40<6:09:52,  4.35it/s]"
     ]
    },
    {
     "name": "stdout",
     "output_type": "stream",
     "text": [
      "DQA player 2 won\n",
      "DQA player 2 won\n",
      "DQA player 2 won\n",
      "DQA player 2 won\n"
     ]
    },
    {
     "name": "stderr",
     "output_type": "stream",
     "text": [
      "\r",
      "  3%|▎         | 3391/100000 [05:40<5:49:47,  4.60it/s]"
     ]
    },
    {
     "name": "stdout",
     "output_type": "stream",
     "text": [
      "DQA player 2 won\n",
      "DQA player 2 won\n"
     ]
    },
    {
     "name": "stderr",
     "output_type": "stream",
     "text": [
      "\r",
      "  3%|▎         | 3392/100000 [05:40<5:41:30,  4.71it/s]"
     ]
    },
    {
     "name": "stdout",
     "output_type": "stream",
     "text": [
      "DQA player 2 won\n",
      "DQA player 2 won\n"
     ]
    },
    {
     "name": "stderr",
     "output_type": "stream",
     "text": [
      "\r",
      "  3%|▎         | 3393/100000 [05:41<6:23:06,  4.20it/s]"
     ]
    },
    {
     "name": "stdout",
     "output_type": "stream",
     "text": [
      "DQA player 1 won\n"
     ]
    },
    {
     "name": "stderr",
     "output_type": "stream",
     "text": [
      "\r",
      "  3%|▎         | 3394/100000 [05:41<6:12:27,  4.32it/s]"
     ]
    },
    {
     "name": "stdout",
     "output_type": "stream",
     "text": [
      "DQA player 2 won\n",
      "DQA player 2 won\n"
     ]
    },
    {
     "name": "stderr",
     "output_type": "stream",
     "text": [
      "  3%|▎         | 3397/100000 [05:41<5:13:32,  5.14it/s]"
     ]
    },
    {
     "name": "stdout",
     "output_type": "stream",
     "text": [
      "DQA player 2 won\n",
      "DQA player 2 won\n",
      "DQA player 1 won\n",
      "DQA player 1 won\n"
     ]
    },
    {
     "name": "stderr",
     "output_type": "stream",
     "text": [
      "  3%|▎         | 3400/100000 [05:42<4:22:11,  6.14it/s]"
     ]
    },
    {
     "name": "stdout",
     "output_type": "stream",
     "text": [
      "DQA player 1 won\n",
      "DQA player 1 won\n",
      "DQA player 2 won\n",
      "DQA player 2 won\n"
     ]
    },
    {
     "name": "stderr",
     "output_type": "stream",
     "text": [
      "\r",
      "  3%|▎         | 3402/100000 [05:42<3:36:50,  7.42it/s]"
     ]
    },
    {
     "name": "stdout",
     "output_type": "stream",
     "text": [
      "DQA player 1 won\n",
      "DQA player 1 won\n",
      "DQA player 1 won\n"
     ]
    },
    {
     "name": "stderr",
     "output_type": "stream",
     "text": [
      "  3%|▎         | 3406/100000 [05:42<2:56:37,  9.12it/s]"
     ]
    },
    {
     "name": "stdout",
     "output_type": "stream",
     "text": [
      "DQA player 2 won\n",
      "DQA player 2 won\n",
      "DQA player 1 won\n",
      "DQA player 1 won\n"
     ]
    },
    {
     "name": "stderr",
     "output_type": "stream",
     "text": [
      "\r",
      "  3%|▎         | 3408/100000 [05:42<2:34:45, 10.40it/s]"
     ]
    },
    {
     "name": "stdout",
     "output_type": "stream",
     "text": [
      "DQA player 1 won\n",
      "DQA player 1 won\n",
      "DQA player 1 won\n"
     ]
    },
    {
     "name": "stderr",
     "output_type": "stream",
     "text": [
      "  3%|▎         | 3412/100000 [05:43<2:16:43, 11.77it/s]"
     ]
    },
    {
     "name": "stdout",
     "output_type": "stream",
     "text": [
      "DQA player 1 won\n",
      "DQA player 1 won\n",
      "DQA player 1 won\n",
      "DQA player 2 won\n",
      "DQA player 2 won\n"
     ]
    },
    {
     "name": "stderr",
     "output_type": "stream",
     "text": [
      "  3%|▎         | 3416/100000 [05:43<1:55:56, 13.88it/s]"
     ]
    },
    {
     "name": "stdout",
     "output_type": "stream",
     "text": [
      "DQA player 1 won\n",
      "DQA player 1 won\n",
      "DQA player 1 won\n",
      "DQA player 1 won\n"
     ]
    },
    {
     "name": "stderr",
     "output_type": "stream",
     "text": [
      "  3%|▎         | 3420/100000 [05:43<1:55:21, 13.95it/s]"
     ]
    },
    {
     "name": "stdout",
     "output_type": "stream",
     "text": [
      "DQA player 1 won\n",
      "DQA player 1 won\n",
      "DQA player 1 won\n"
     ]
    },
    {
     "name": "stderr",
     "output_type": "stream",
     "text": [
      "\r",
      "  3%|▎         | 3422/100000 [05:43<2:15:53, 11.84it/s]"
     ]
    },
    {
     "name": "stdout",
     "output_type": "stream",
     "text": [
      "DQA player 2 won\n",
      "DQA player 2 won\n",
      "DQA player 1 won\n"
     ]
    },
    {
     "name": "stderr",
     "output_type": "stream",
     "text": [
      "\r",
      "  3%|▎         | 3424/100000 [05:44<2:27:56, 10.88it/s]"
     ]
    },
    {
     "name": "stdout",
     "output_type": "stream",
     "text": [
      "DQA player 1 won\n",
      "DQA player 2 won\n",
      "DQA player 2 won\n"
     ]
    },
    {
     "name": "stderr",
     "output_type": "stream",
     "text": [
      "\r",
      "  3%|▎         | 3426/100000 [05:44<2:49:01,  9.52it/s]"
     ]
    },
    {
     "name": "stdout",
     "output_type": "stream",
     "text": [
      "DQA player 1 won\n",
      "DQA player 1 won\n"
     ]
    },
    {
     "name": "stderr",
     "output_type": "stream",
     "text": [
      "\r",
      "  3%|▎         | 3428/100000 [05:44<3:16:19,  8.20it/s]"
     ]
    },
    {
     "name": "stdout",
     "output_type": "stream",
     "text": [
      "DQA player 1 won\n",
      "DQA player 1 won\n"
     ]
    },
    {
     "name": "stderr",
     "output_type": "stream",
     "text": [
      "  3%|▎         | 3430/100000 [05:45<3:35:34,  7.47it/s]"
     ]
    },
    {
     "name": "stdout",
     "output_type": "stream",
     "text": [
      "DQA player 1 won\n",
      "DQA player 1 won\n"
     ]
    },
    {
     "name": "stderr",
     "output_type": "stream",
     "text": [
      "\r",
      "  3%|▎         | 3431/100000 [05:45<3:53:38,  6.89it/s]"
     ]
    },
    {
     "name": "stdout",
     "output_type": "stream",
     "text": [
      "DQA player 2 won\n",
      "DQA player 2 won\n",
      "DQA player 2 won"
     ]
    },
    {
     "name": "stderr",
     "output_type": "stream",
     "text": [
      "\r",
      "  3%|▎         | 3432/100000 [05:45<4:21:07,  6.16it/s]"
     ]
    },
    {
     "name": "stdout",
     "output_type": "stream",
     "text": [
      "\n",
      "DQA player 2 won\n"
     ]
    },
    {
     "name": "stderr",
     "output_type": "stream",
     "text": [
      "  3%|▎         | 3434/100000 [05:45<4:34:49,  5.86it/s]"
     ]
    },
    {
     "name": "stdout",
     "output_type": "stream",
     "text": [
      "DQA player 2 won\n",
      "DQA player 2 won\n",
      "DQA player 2 won\n",
      "DQA player 2 won\n"
     ]
    },
    {
     "name": "stderr",
     "output_type": "stream",
     "text": [
      "  3%|▎         | 3436/100000 [05:46<3:53:22,  6.90it/s]"
     ]
    },
    {
     "name": "stdout",
     "output_type": "stream",
     "text": [
      "DQA player 1 won\n",
      "DQA player 1 won\n"
     ]
    },
    {
     "name": "stderr",
     "output_type": "stream",
     "text": [
      "\r",
      "  3%|▎         | 3438/100000 [05:46<3:29:19,  7.69it/s]"
     ]
    },
    {
     "name": "stdout",
     "output_type": "stream",
     "text": [
      "DQA player 1 won\n",
      "DQA player 2 won\n",
      "DQA player 2 won\n",
      "DQA player 1 won\n"
     ]
    },
    {
     "name": "stderr",
     "output_type": "stream",
     "text": [
      "\r",
      "  3%|▎         | 3440/100000 [05:46<4:19:51,  6.19it/s]"
     ]
    },
    {
     "name": "stdout",
     "output_type": "stream",
     "text": [
      "DQA player 2 won\n",
      "DQA player 2 won\n"
     ]
    },
    {
     "name": "stderr",
     "output_type": "stream",
     "text": [
      "\r",
      "  3%|▎         | 3441/100000 [05:46<5:26:38,  4.93it/s]"
     ]
    },
    {
     "name": "stdout",
     "output_type": "stream",
     "text": [
      "DQA player 1 won\n"
     ]
    },
    {
     "name": "stderr",
     "output_type": "stream",
     "text": [
      "\r",
      "  3%|▎         | 3442/100000 [05:47<6:38:30,  4.04it/s]"
     ]
    },
    {
     "name": "stdout",
     "output_type": "stream",
     "text": [
      "DQA player 1 won\n"
     ]
    },
    {
     "name": "stderr",
     "output_type": "stream",
     "text": [
      "  3%|▎         | 3445/100000 [05:47<5:59:31,  4.48it/s]"
     ]
    },
    {
     "name": "stdout",
     "output_type": "stream",
     "text": [
      "DQA player 1 won\n",
      "DQA player 1 won\n",
      "DQA player 2 won\n",
      "DQA player 2 won\n"
     ]
    },
    {
     "name": "stderr",
     "output_type": "stream",
     "text": [
      "\r",
      "  3%|▎         | 3447/100000 [05:48<4:59:45,  5.37it/s]"
     ]
    },
    {
     "name": "stdout",
     "output_type": "stream",
     "text": [
      "DQA player 2 won\n",
      "DQA player 2 won\n",
      "DQA player 1 won\n"
     ]
    },
    {
     "name": "stderr",
     "output_type": "stream",
     "text": [
      "  3%|▎         | 3449/100000 [05:48<4:18:33,  6.22it/s]"
     ]
    },
    {
     "name": "stdout",
     "output_type": "stream",
     "text": [
      "DQA player 1 won\n",
      "DQA player 1 won\n"
     ]
    },
    {
     "name": "stderr",
     "output_type": "stream",
     "text": [
      "  3%|▎         | 3451/100000 [05:48<3:33:52,  7.52it/s]"
     ]
    },
    {
     "name": "stdout",
     "output_type": "stream",
     "text": [
      "DQA player 1 won\n",
      "DQA player 1 won\n"
     ]
    },
    {
     "name": "stderr",
     "output_type": "stream",
     "text": [
      "  3%|▎         | 3453/100000 [05:48<3:26:35,  7.79it/s]"
     ]
    },
    {
     "name": "stdout",
     "output_type": "stream",
     "text": [
      "DQA player 1 won\n",
      "DQA player 2 won\n",
      "DQA player 2 won\n"
     ]
    },
    {
     "name": "stderr",
     "output_type": "stream",
     "text": [
      "  3%|▎         | 3456/100000 [05:49<2:59:20,  8.97it/s]"
     ]
    },
    {
     "name": "stdout",
     "output_type": "stream",
     "text": [
      "DQA player 1 won\n",
      "DQA player 1 won\n",
      "DQA player 2 won\n",
      "DQA player 2 won\n"
     ]
    },
    {
     "name": "stderr",
     "output_type": "stream",
     "text": [
      "  3%|▎         | 3458/100000 [05:49<3:18:49,  8.09it/s]"
     ]
    },
    {
     "name": "stdout",
     "output_type": "stream",
     "text": [
      "DQA player 2 won\n",
      "DQA player 2 won\n",
      "DQA player 1 won\n"
     ]
    },
    {
     "name": "stderr",
     "output_type": "stream",
     "text": [
      "\r",
      "  3%|▎         | 3459/100000 [05:49<3:14:17,  8.28it/s]"
     ]
    },
    {
     "name": "stdout",
     "output_type": "stream",
     "text": [
      "DQA player 2 won\n",
      "DQA player 2 won\n",
      "DQA player 1 won\n"
     ]
    },
    {
     "name": "stderr",
     "output_type": "stream",
     "text": [
      "  3%|▎         | 3462/100000 [05:49<3:16:02,  8.21it/s]"
     ]
    },
    {
     "name": "stdout",
     "output_type": "stream",
     "text": [
      "DQA player 1 won\n",
      "DQA player 1 won\n"
     ]
    },
    {
     "name": "stderr",
     "output_type": "stream",
     "text": [
      "  3%|▎         | 3464/100000 [05:50<3:03:24,  8.77it/s]"
     ]
    },
    {
     "name": "stdout",
     "output_type": "stream",
     "text": [
      "DQA player 2 won\n",
      "DQA player 2 won\n",
      "DQA player 1 won\n",
      "DQA player 2 won\n"
     ]
    },
    {
     "name": "stderr",
     "output_type": "stream",
     "text": [
      "\r",
      "  3%|▎         | 3465/100000 [05:50<3:03:30,  8.77it/s]"
     ]
    },
    {
     "name": "stdout",
     "output_type": "stream",
     "text": [
      "DQA player 2 won\n",
      "DQA player 2 won\n",
      "DQA player 2 won\n"
     ]
    },
    {
     "name": "stderr",
     "output_type": "stream",
     "text": [
      "\r",
      "  3%|▎         | 3467/100000 [05:50<3:27:01,  7.77it/s]"
     ]
    },
    {
     "name": "stdout",
     "output_type": "stream",
     "text": [
      "DQA player 2 won\n",
      "DQA player 2 won\n"
     ]
    },
    {
     "name": "stderr",
     "output_type": "stream",
     "text": [
      "  3%|▎         | 3469/100000 [05:50<3:44:30,  7.17it/s]"
     ]
    },
    {
     "name": "stdout",
     "output_type": "stream",
     "text": [
      "DQA player 2 won\n",
      "DQA player 2 won\n",
      "DQA player 1 won\n"
     ]
    },
    {
     "name": "stderr",
     "output_type": "stream",
     "text": [
      "  3%|▎         | 3472/100000 [05:51<3:07:47,  8.57it/s]"
     ]
    },
    {
     "name": "stdout",
     "output_type": "stream",
     "text": [
      "DQA player 2 won\n",
      "DQA player 2 won\n",
      "DQA player 1 won\n",
      "DQA player 1 won\n"
     ]
    },
    {
     "name": "stderr",
     "output_type": "stream",
     "text": [
      "  3%|▎         | 3474/100000 [05:51<3:01:25,  8.87it/s]"
     ]
    },
    {
     "name": "stdout",
     "output_type": "stream",
     "text": [
      "DQA player 2 won\n",
      "DQA player 2 won\n",
      "DQA player 1 won\n"
     ]
    },
    {
     "name": "stderr",
     "output_type": "stream",
     "text": [
      "\r",
      "  3%|▎         | 3475/100000 [05:51<3:24:58,  7.85it/s]"
     ]
    },
    {
     "name": "stdout",
     "output_type": "stream",
     "text": [
      "DQA player 2 won\n",
      "DQA player 2 won\n",
      "DQA player 1 won\n"
     ]
    },
    {
     "name": "stderr",
     "output_type": "stream",
     "text": [
      "  3%|▎         | 3479/100000 [05:51<2:59:06,  8.98it/s]"
     ]
    },
    {
     "name": "stdout",
     "output_type": "stream",
     "text": [
      "DQA player 1 won\n",
      "DQA player 2 won\n",
      "DQA player 2 won\n",
      "DQA player 2 won\n",
      "DQA player 2 won\n"
     ]
    },
    {
     "name": "stderr",
     "output_type": "stream",
     "text": [
      "\r",
      "  3%|▎         | 3481/100000 [05:52<2:46:08,  9.68it/s]"
     ]
    },
    {
     "name": "stdout",
     "output_type": "stream",
     "text": [
      "DQA player 2 won\n",
      "DQA player 2 won\n",
      "DQA player 1 won\n",
      "DQA player 1 won\n"
     ]
    },
    {
     "name": "stderr",
     "output_type": "stream",
     "text": [
      "\r",
      "  3%|▎         | 3483/100000 [05:52<2:43:55,  9.81it/s]"
     ]
    },
    {
     "name": "stdout",
     "output_type": "stream",
     "text": [
      "DQA player 2 won\n",
      "DQA player 2 won\n",
      "DQA player 1 won\n"
     ]
    },
    {
     "name": "stderr",
     "output_type": "stream",
     "text": [
      "\r",
      "  3%|▎         | 3485/100000 [05:52<2:42:35,  9.89it/s]"
     ]
    },
    {
     "name": "stdout",
     "output_type": "stream",
     "text": [
      "DQA player 2 won\n",
      "DQA player 2 won\n",
      "DQA player 1 won\n"
     ]
    },
    {
     "name": "stderr",
     "output_type": "stream",
     "text": [
      "  3%|▎         | 3488/100000 [05:52<3:23:01,  7.92it/s]"
     ]
    },
    {
     "name": "stdout",
     "output_type": "stream",
     "text": [
      "DQA player 2 won\n",
      "DQA player 2 won\n",
      "DQA player 1 won\n"
     ]
    },
    {
     "name": "stderr",
     "output_type": "stream",
     "text": [
      "  3%|▎         | 3490/100000 [05:53<3:58:13,  6.75it/s]"
     ]
    },
    {
     "name": "stdout",
     "output_type": "stream",
     "text": [
      "DQA player 1 won\n",
      "DQA player 1 won\n"
     ]
    },
    {
     "name": "stderr",
     "output_type": "stream",
     "text": [
      "  3%|▎         | 3492/100000 [05:53<3:42:59,  7.21it/s]"
     ]
    },
    {
     "name": "stdout",
     "output_type": "stream",
     "text": [
      "DQA player 1 won\n",
      "DQA player 1 won\n"
     ]
    },
    {
     "name": "stderr",
     "output_type": "stream",
     "text": [
      "  3%|▎         | 3494/100000 [05:53<3:47:50,  7.06it/s]"
     ]
    },
    {
     "name": "stdout",
     "output_type": "stream",
     "text": [
      "DQA player 1 won\n",
      "DQA player 1 won\n"
     ]
    },
    {
     "name": "stderr",
     "output_type": "stream",
     "text": [
      "\r",
      "  3%|▎         | 3495/100000 [05:54<5:59:57,  4.47it/s]"
     ]
    },
    {
     "name": "stdout",
     "output_type": "stream",
     "text": [
      "DQA player 1 won\n"
     ]
    },
    {
     "name": "stderr",
     "output_type": "stream",
     "text": [
      "  3%|▎         | 3497/100000 [05:54<5:48:10,  4.62it/s]"
     ]
    },
    {
     "name": "stdout",
     "output_type": "stream",
     "text": [
      "DQA player 2 won\n",
      "DQA player 2 won\n",
      "DQA player 2 won\n",
      "DQA player 2 won\n"
     ]
    },
    {
     "name": "stderr",
     "output_type": "stream",
     "text": [
      "  3%|▎         | 3499/100000 [05:54<4:58:19,  5.39it/s]"
     ]
    },
    {
     "name": "stdout",
     "output_type": "stream",
     "text": [
      "DQA player 1 won\n",
      "DQA player 1 won\n"
     ]
    },
    {
     "name": "stderr",
     "output_type": "stream",
     "text": [
      "  4%|▎         | 3501/100000 [05:55<4:19:34,  6.20it/s]"
     ]
    },
    {
     "name": "stdout",
     "output_type": "stream",
     "text": [
      "DQA player 1 won\n",
      "DQA player 1 won\n"
     ]
    },
    {
     "name": "stderr",
     "output_type": "stream",
     "text": [
      "  4%|▎         | 3503/100000 [05:55<4:13:38,  6.34it/s]"
     ]
    },
    {
     "name": "stdout",
     "output_type": "stream",
     "text": [
      "DQA player 2 won\n",
      "DQA player 2 won\n",
      "DQA player 1 won\n"
     ]
    },
    {
     "name": "stderr",
     "output_type": "stream",
     "text": [
      "  4%|▎         | 3505/100000 [05:55<3:42:18,  7.23it/s]"
     ]
    },
    {
     "name": "stdout",
     "output_type": "stream",
     "text": [
      "DQA player 2 won\n",
      "DQA player 2 won\n",
      "DQA player 2 won\n",
      "DQA player 2 won\n"
     ]
    },
    {
     "name": "stderr",
     "output_type": "stream",
     "text": [
      "  4%|▎         | 3507/100000 [05:56<3:55:42,  6.82it/s]"
     ]
    },
    {
     "name": "stdout",
     "output_type": "stream",
     "text": [
      "DQA player 1 won\n",
      "DQA player 1 won\n"
     ]
    },
    {
     "name": "stderr",
     "output_type": "stream",
     "text": [
      "  4%|▎         | 3509/100000 [05:56<4:11:26,  6.40it/s]"
     ]
    },
    {
     "name": "stdout",
     "output_type": "stream",
     "text": [
      "DQA player 2 won\n",
      "DQA player 2 won\n",
      "DQA player 2 won\n",
      "DQA player 2 won\n"
     ]
    },
    {
     "name": "stderr",
     "output_type": "stream",
     "text": [
      "  4%|▎         | 3511/100000 [05:56<3:57:52,  6.76it/s]"
     ]
    },
    {
     "name": "stdout",
     "output_type": "stream",
     "text": [
      "DQA player 2 won\n",
      "DQA player 2 won\n",
      "DQA player 2 won\n",
      "DQA player 2 won\n"
     ]
    },
    {
     "name": "stderr",
     "output_type": "stream",
     "text": [
      "  4%|▎         | 3513/100000 [05:56<3:44:46,  7.15it/s]"
     ]
    },
    {
     "name": "stdout",
     "output_type": "stream",
     "text": [
      "DQA player 1 won\n",
      "DQA player 2 won\n",
      "DQA player 2 won\n"
     ]
    },
    {
     "name": "stderr",
     "output_type": "stream",
     "text": [
      "  4%|▎         | 3515/100000 [05:57<3:44:05,  7.18it/s]"
     ]
    },
    {
     "name": "stdout",
     "output_type": "stream",
     "text": [
      "DQA player 2 won\n",
      "DQA player 2 won\n",
      "DQA player 1 won\n"
     ]
    },
    {
     "name": "stderr",
     "output_type": "stream",
     "text": [
      "  4%|▎         | 3517/100000 [05:57<4:05:04,  6.56it/s]"
     ]
    },
    {
     "name": "stdout",
     "output_type": "stream",
     "text": [
      "DQA player 2 won\n",
      "DQA player 2 won\n",
      "DQA player 1 won\n"
     ]
    },
    {
     "name": "stderr",
     "output_type": "stream",
     "text": [
      "  4%|▎         | 3519/100000 [05:57<4:14:55,  6.31it/s]"
     ]
    },
    {
     "name": "stdout",
     "output_type": "stream",
     "text": [
      "DQA player 2 won\n",
      "DQA player 2 won\n",
      "DQA player 2 won\n",
      "DQA player 2 won\n"
     ]
    },
    {
     "name": "stderr",
     "output_type": "stream",
     "text": [
      "  4%|▎         | 3521/100000 [05:58<4:30:13,  5.95it/s]"
     ]
    },
    {
     "name": "stdout",
     "output_type": "stream",
     "text": [
      "DQA player 2 won\n",
      "DQA player 2 won\n",
      "DQA player 1 won\n"
     ]
    },
    {
     "name": "stderr",
     "output_type": "stream",
     "text": [
      "  4%|▎         | 3523/100000 [05:58<4:27:45,  6.01it/s]"
     ]
    },
    {
     "name": "stdout",
     "output_type": "stream",
     "text": [
      "DQA player 1 won\n",
      "DQA player 2 won\n",
      "DQA player 2 won\n"
     ]
    },
    {
     "name": "stderr",
     "output_type": "stream",
     "text": [
      "  4%|▎         | 3525/100000 [05:58<4:27:01,  6.02it/s]"
     ]
    },
    {
     "name": "stdout",
     "output_type": "stream",
     "text": [
      "DQA player 2 won\n",
      "DQA player 2 won\n",
      "DQA player 2 won\n",
      "DQA player 2 won\n"
     ]
    },
    {
     "name": "stderr",
     "output_type": "stream",
     "text": [
      "  4%|▎         | 3527/100000 [05:59<3:49:23,  7.01it/s]"
     ]
    },
    {
     "name": "stdout",
     "output_type": "stream",
     "text": [
      "DQA player 1 won\n",
      "DQA player 2 won\n",
      "DQA player 2 won\n"
     ]
    },
    {
     "name": "stderr",
     "output_type": "stream",
     "text": [
      "  4%|▎         | 3529/100000 [05:59<3:45:24,  7.13it/s]"
     ]
    },
    {
     "name": "stdout",
     "output_type": "stream",
     "text": [
      "DQA player 1 won\n",
      "DQA player 2 won\n",
      "DQA player 2 won\n"
     ]
    },
    {
     "name": "stderr",
     "output_type": "stream",
     "text": [
      "  4%|▎         | 3531/100000 [05:59<4:02:08,  6.64it/s]"
     ]
    },
    {
     "name": "stdout",
     "output_type": "stream",
     "text": [
      "DQA player 2 won\n",
      "DQA player 2 won\n",
      "DQA player 2 won\n",
      "DQA player 2 won\n"
     ]
    },
    {
     "name": "stderr",
     "output_type": "stream",
     "text": [
      "  4%|▎         | 3533/100000 [05:59<3:48:50,  7.03it/s]"
     ]
    },
    {
     "name": "stdout",
     "output_type": "stream",
     "text": [
      "DQA player 1 won\n",
      "DQA player 1 won\n"
     ]
    },
    {
     "name": "stderr",
     "output_type": "stream",
     "text": [
      "  4%|▎         | 3535/100000 [06:00<4:07:00,  6.51it/s]"
     ]
    },
    {
     "name": "stdout",
     "output_type": "stream",
     "text": [
      "DQA player 1 won\n",
      "DQA player 1 won\n"
     ]
    },
    {
     "name": "stderr",
     "output_type": "stream",
     "text": [
      "\r",
      "  4%|▎         | 3536/100000 [06:00<4:08:28,  6.47it/s]"
     ]
    },
    {
     "name": "stdout",
     "output_type": "stream",
     "text": [
      "DQA player 1 won\n"
     ]
    },
    {
     "name": "stderr",
     "output_type": "stream",
     "text": [
      "  4%|▎         | 3538/100000 [06:00<4:28:28,  5.99it/s]"
     ]
    },
    {
     "name": "stdout",
     "output_type": "stream",
     "text": [
      "DQA player 1 won\n",
      "DQA player 2 won\n",
      "DQA player 2 won\n"
     ]
    },
    {
     "name": "stderr",
     "output_type": "stream",
     "text": [
      "  4%|▎         | 3540/100000 [06:01<4:45:09,  5.64it/s]"
     ]
    },
    {
     "name": "stdout",
     "output_type": "stream",
     "text": [
      "DQA player 1 won\n",
      "DQA player 2 won\n",
      "DQA player 2 won\n"
     ]
    },
    {
     "name": "stderr",
     "output_type": "stream",
     "text": [
      "  4%|▎         | 3542/100000 [06:01<4:04:59,  6.56it/s]"
     ]
    },
    {
     "name": "stdout",
     "output_type": "stream",
     "text": [
      "DQA player 1 won\n",
      "DQA player 2 won\n",
      "DQA player 2 won\n"
     ]
    },
    {
     "name": "stderr",
     "output_type": "stream",
     "text": [
      "  4%|▎         | 3544/100000 [06:01<4:27:07,  6.02it/s]"
     ]
    },
    {
     "name": "stdout",
     "output_type": "stream",
     "text": [
      "DQA player 2 won\n",
      "DQA player 2 won\n",
      "DQA player 2 won\n",
      "DQA player 2 won\n"
     ]
    },
    {
     "name": "stderr",
     "output_type": "stream",
     "text": [
      "  4%|▎         | 3546/100000 [06:02<4:21:23,  6.15it/s]"
     ]
    },
    {
     "name": "stdout",
     "output_type": "stream",
     "text": [
      "DQA player 2 won\n",
      "DQA player 2 won\n",
      "DQA player 1 won\n"
     ]
    },
    {
     "name": "stderr",
     "output_type": "stream",
     "text": [
      "  4%|▎         | 3548/100000 [06:02<3:48:15,  7.04it/s]"
     ]
    },
    {
     "name": "stdout",
     "output_type": "stream",
     "text": [
      "DQA player 1 won\n",
      "DQA player 1 won\n"
     ]
    },
    {
     "name": "stderr",
     "output_type": "stream",
     "text": [
      "\r",
      "  4%|▎         | 3549/100000 [06:02<4:29:29,  5.97it/s]"
     ]
    },
    {
     "name": "stdout",
     "output_type": "stream",
     "text": [
      "DQA player 1 won\n"
     ]
    },
    {
     "name": "stderr",
     "output_type": "stream",
     "text": [
      "  4%|▎         | 3551/100000 [06:03<4:39:43,  5.75it/s]"
     ]
    },
    {
     "name": "stdout",
     "output_type": "stream",
     "text": [
      "DQA player 1 won\n",
      "DQA player 1 won\n"
     ]
    },
    {
     "name": "stderr",
     "output_type": "stream",
     "text": [
      "  4%|▎         | 3553/100000 [06:03<4:25:26,  6.06it/s]"
     ]
    },
    {
     "name": "stdout",
     "output_type": "stream",
     "text": [
      "DQA player 1 won\n",
      "DQA player 2 won\n",
      "DQA player 2 won\n"
     ]
    },
    {
     "name": "stderr",
     "output_type": "stream",
     "text": [
      "  4%|▎         | 3555/100000 [06:03<3:59:49,  6.70it/s]"
     ]
    },
    {
     "name": "stdout",
     "output_type": "stream",
     "text": [
      "DQA player 1 won\n",
      "DQA player 1 won\n"
     ]
    },
    {
     "name": "stderr",
     "output_type": "stream",
     "text": [
      "\r",
      "  4%|▎         | 3556/100000 [06:03<3:59:39,  6.71it/s]"
     ]
    },
    {
     "name": "stdout",
     "output_type": "stream",
     "text": [
      "DQA player 2 won\n",
      "DQA player 2 won\n",
      "DQA player 2 won\n"
     ]
    },
    {
     "name": "stderr",
     "output_type": "stream",
     "text": [
      "  4%|▎         | 3558/100000 [06:04<4:10:16,  6.42it/s]"
     ]
    },
    {
     "name": "stdout",
     "output_type": "stream",
     "text": [
      "DQA player 2 won\n",
      "DQA player 2 won\n",
      "DQA player 2 won\n"
     ]
    },
    {
     "name": "stderr",
     "output_type": "stream",
     "text": [
      "\r",
      "  4%|▎         | 3559/100000 [06:04<3:51:30,  6.94it/s]"
     ]
    },
    {
     "name": "stdout",
     "output_type": "stream",
     "text": [
      "DQA player 2 won\n",
      "DQA player 2 won\n"
     ]
    },
    {
     "name": "stderr",
     "output_type": "stream",
     "text": [
      "\r",
      "  4%|▎         | 3560/100000 [06:04<5:13:10,  5.13it/s]"
     ]
    },
    {
     "name": "stdout",
     "output_type": "stream",
     "text": [
      "DQA player 1 won\n"
     ]
    },
    {
     "name": "stderr",
     "output_type": "stream",
     "text": [
      "  4%|▎         | 3562/100000 [06:04<5:30:13,  4.87it/s]"
     ]
    },
    {
     "name": "stdout",
     "output_type": "stream",
     "text": [
      "DQA player 1 won\n",
      "DQA player 1 won\n"
     ]
    },
    {
     "name": "stderr",
     "output_type": "stream",
     "text": [
      "  4%|▎         | 3564/100000 [06:05<4:23:24,  6.10it/s]"
     ]
    },
    {
     "name": "stdout",
     "output_type": "stream",
     "text": [
      "DQA player 2 won\n",
      "DQA player 2 won\n",
      "DQA player 1 won\n"
     ]
    },
    {
     "name": "stderr",
     "output_type": "stream",
     "text": [
      "  4%|▎         | 3566/100000 [06:05<3:45:48,  7.12it/s]"
     ]
    },
    {
     "name": "stdout",
     "output_type": "stream",
     "text": [
      "DQA player 2 won\n",
      "DQA player 2 won\n",
      "DQA player 1 won\n"
     ]
    },
    {
     "name": "stderr",
     "output_type": "stream",
     "text": [
      "\r",
      "  4%|▎         | 3567/100000 [06:05<3:38:31,  7.35it/s]"
     ]
    },
    {
     "name": "stdout",
     "output_type": "stream",
     "text": [
      "DQA player 1 won\n"
     ]
    },
    {
     "name": "stderr",
     "output_type": "stream",
     "text": [
      "  4%|▎         | 3569/100000 [06:05<4:04:13,  6.58it/s]"
     ]
    },
    {
     "name": "stdout",
     "output_type": "stream",
     "text": [
      "DQA player 2 won\n",
      "DQA player 2 won\n",
      "DQA player 2 won\n",
      "DQA player 2 won\n"
     ]
    },
    {
     "name": "stderr",
     "output_type": "stream",
     "text": [
      "  4%|▎         | 3571/100000 [06:06<4:28:38,  5.98it/s]"
     ]
    },
    {
     "name": "stdout",
     "output_type": "stream",
     "text": [
      "DQA player 1 won\n",
      "DQA player 1 won\n"
     ]
    },
    {
     "name": "stderr",
     "output_type": "stream",
     "text": [
      "  4%|▎         | 3573/100000 [06:06<4:39:35,  5.75it/s]"
     ]
    },
    {
     "name": "stdout",
     "output_type": "stream",
     "text": [
      "DQA player 1 won\n",
      "DQA player 2 won\n",
      "DQA player 2 won\n"
     ]
    },
    {
     "name": "stderr",
     "output_type": "stream",
     "text": [
      "  4%|▎         | 3575/100000 [06:06<4:17:26,  6.24it/s]"
     ]
    },
    {
     "name": "stdout",
     "output_type": "stream",
     "text": [
      "DQA player 1 won\n",
      "DQA player 2 won\n",
      "DQA player 2 won\n"
     ]
    },
    {
     "name": "stderr",
     "output_type": "stream",
     "text": [
      "  4%|▎         | 3578/100000 [06:07<3:25:14,  7.83it/s]"
     ]
    },
    {
     "name": "stdout",
     "output_type": "stream",
     "text": [
      "DQA player 2 won\n",
      "DQA player 2 won\n",
      "DQA player 1 won\n",
      "DQA player 1 won\n"
     ]
    },
    {
     "name": "stderr",
     "output_type": "stream",
     "text": [
      "\r",
      "  4%|▎         | 3580/100000 [06:07<3:15:48,  8.21it/s]"
     ]
    },
    {
     "name": "stdout",
     "output_type": "stream",
     "text": [
      "DQA player 1 won\n",
      "DQA player 1 won\n"
     ]
    },
    {
     "name": "stderr",
     "output_type": "stream",
     "text": [
      "  4%|▎         | 3583/100000 [06:07<2:56:07,  9.12it/s]"
     ]
    },
    {
     "name": "stdout",
     "output_type": "stream",
     "text": [
      "DQA player 1 won\n",
      "DQA player 1 won\n",
      "DQA player 1 won\n"
     ]
    },
    {
     "name": "stderr",
     "output_type": "stream",
     "text": [
      "\r",
      "  4%|▎         | 3585/100000 [06:07<2:41:27,  9.95it/s]"
     ]
    },
    {
     "name": "stdout",
     "output_type": "stream",
     "text": [
      "DQA player 1 won\n",
      "DQA player 1 won\n",
      "DQA player 1 won\n"
     ]
    },
    {
     "name": "stderr",
     "output_type": "stream",
     "text": [
      "  4%|▎         | 3589/100000 [06:08<2:18:44, 11.58it/s]"
     ]
    },
    {
     "name": "stdout",
     "output_type": "stream",
     "text": [
      "DQA player 2 won\n",
      "DQA player 2 won\n",
      "DQA player 1 won\n",
      "DQA player 2 won\n",
      "DQA player 2 won\n"
     ]
    },
    {
     "name": "stderr",
     "output_type": "stream",
     "text": [
      "\r",
      "  4%|▎         | 3591/100000 [06:08<2:12:06, 12.16it/s]"
     ]
    },
    {
     "name": "stdout",
     "output_type": "stream",
     "text": [
      "DQA player 1 won\n",
      "DQA player 2 won\n",
      "DQA player 2 won\n",
      "DQA player 1 won\n"
     ]
    },
    {
     "name": "stderr",
     "output_type": "stream",
     "text": [
      "  4%|▎         | 3595/100000 [06:08<2:11:27, 12.22it/s]"
     ]
    },
    {
     "name": "stdout",
     "output_type": "stream",
     "text": [
      "DQA player 2 won\n",
      "DQA player 2 won\n",
      "DQA player 2 won\n",
      "DQA player 2 won\n",
      "DQA player 2 won\n",
      "DQA player 2 won\n"
     ]
    },
    {
     "name": "stderr",
     "output_type": "stream",
     "text": [
      "\r",
      "  4%|▎         | 3597/100000 [06:08<2:40:02, 10.04it/s]"
     ]
    },
    {
     "name": "stdout",
     "output_type": "stream",
     "text": [
      "DQA player 2 won\n",
      "DQA player 2 won\n",
      "DQA player 1 won\n"
     ]
    },
    {
     "name": "stderr",
     "output_type": "stream",
     "text": [
      "\r",
      "  4%|▎         | 3599/100000 [06:09<3:05:59,  8.64it/s]"
     ]
    },
    {
     "name": "stdout",
     "output_type": "stream",
     "text": [
      "DQA player 1 won\n",
      "DQA player 2 won\n",
      "DQA player 2 won\n"
     ]
    },
    {
     "name": "stderr",
     "output_type": "stream",
     "text": [
      "  4%|▎         | 3602/100000 [06:09<2:48:10,  9.55it/s]"
     ]
    },
    {
     "name": "stdout",
     "output_type": "stream",
     "text": [
      "DQA player 1 won\n",
      "DQA player 1 won\n",
      "DQA player 2 won\n",
      "DQA player 2 won\n"
     ]
    },
    {
     "name": "stderr",
     "output_type": "stream",
     "text": [
      "\r",
      "  4%|▎         | 3604/100000 [06:09<2:44:07,  9.79it/s]"
     ]
    },
    {
     "name": "stdout",
     "output_type": "stream",
     "text": [
      "DQA player 1 won\n",
      "DQA player 1 won\n",
      "DQA player 1 won\n"
     ]
    },
    {
     "name": "stderr",
     "output_type": "stream",
     "text": [
      "  4%|▎         | 3607/100000 [06:10<3:18:29,  8.09it/s]"
     ]
    },
    {
     "name": "stdout",
     "output_type": "stream",
     "text": [
      "DQA player 2 won\n",
      "DQA player 2 won\n",
      "DQA player 2 won\n",
      "DQA player 2 won\n"
     ]
    },
    {
     "name": "stderr",
     "output_type": "stream",
     "text": [
      "  4%|▎         | 3610/100000 [06:10<2:58:31,  9.00it/s]"
     ]
    },
    {
     "name": "stdout",
     "output_type": "stream",
     "text": [
      "DQA player 2 won\n",
      "DQA player 2 won\n",
      "DQA player 1 won\n",
      "DQA player 1 won\n",
      "DQA player 1 won\n"
     ]
    },
    {
     "name": "stderr",
     "output_type": "stream",
     "text": [
      "  4%|▎         | 3614/100000 [06:10<2:27:29, 10.89it/s]"
     ]
    },
    {
     "name": "stdout",
     "output_type": "stream",
     "text": [
      "DQA player 2 won\n",
      "DQA player 2 won\n",
      "DQA player 2 won\n",
      "DQA player 2 won\n",
      "DQA player 1 won\n"
     ]
    },
    {
     "name": "stderr",
     "output_type": "stream",
     "text": [
      "\r",
      "  4%|▎         | 3616/100000 [06:10<2:27:13, 10.91it/s]"
     ]
    },
    {
     "name": "stdout",
     "output_type": "stream",
     "text": [
      "DQA player 2 won\n",
      "DQA player 2 won\n",
      "DQA player 2 won\n",
      "DQA player 2 won\n",
      "DQA player 2 won\n",
      "DQA player 2 won\n"
     ]
    },
    {
     "name": "stderr",
     "output_type": "stream",
     "text": [
      "  4%|▎         | 3620/100000 [06:11<2:12:24, 12.13it/s]"
     ]
    },
    {
     "name": "stdout",
     "output_type": "stream",
     "text": [
      "DQA player 2 won\n",
      "DQA player 2 won\n",
      "DQA player 1 won\n",
      "DQA player 1 won\n"
     ]
    },
    {
     "name": "stderr",
     "output_type": "stream",
     "text": [
      "\r",
      "  4%|▎         | 3622/100000 [06:11<2:16:59, 11.73it/s]"
     ]
    },
    {
     "name": "stdout",
     "output_type": "stream",
     "text": [
      "DQA player 1 won\n",
      "DQA player 2 won\n",
      "DQA player 2 won\n",
      "DQA player 1 won\n"
     ]
    },
    {
     "name": "stderr",
     "output_type": "stream",
     "text": [
      "  4%|▎         | 3626/100000 [06:11<2:08:46, 12.47it/s]"
     ]
    },
    {
     "name": "stdout",
     "output_type": "stream",
     "text": [
      "DQA player 1 won\n",
      "DQA player 2 won\n",
      "DQA player 2 won\n",
      "DQA player 1 won\n"
     ]
    },
    {
     "name": "stderr",
     "output_type": "stream",
     "text": [
      "\r",
      "  4%|▎         | 3628/100000 [06:11<2:09:58, 12.36it/s]"
     ]
    },
    {
     "name": "stdout",
     "output_type": "stream",
     "text": [
      "DQA player 1 won\n",
      "DQA player 1 won\n",
      "DQA player 1 won\n"
     ]
    },
    {
     "name": "stderr",
     "output_type": "stream",
     "text": [
      "  4%|▎         | 3632/100000 [06:12<2:21:53, 11.32it/s]"
     ]
    },
    {
     "name": "stdout",
     "output_type": "stream",
     "text": [
      "DQA player 2 won\n",
      "DQA player 2 won\n",
      "DQA player 2 won\n",
      "DQA player 2 won\n",
      "DQA player 1 won\n"
     ]
    },
    {
     "name": "stderr",
     "output_type": "stream",
     "text": [
      "\r",
      "  4%|▎         | 3634/100000 [06:12<2:25:51, 11.01it/s]"
     ]
    },
    {
     "name": "stdout",
     "output_type": "stream",
     "text": [
      "DQA player 1 won\n",
      "DQA player 2 won\n",
      "DQA player 2 won\n"
     ]
    },
    {
     "name": "stderr",
     "output_type": "stream",
     "text": [
      "\r",
      "  4%|▎         | 3636/100000 [06:12<3:20:13,  8.02it/s]"
     ]
    },
    {
     "name": "stdout",
     "output_type": "stream",
     "text": [
      "DQA player 2 won\n",
      "DQA player 2 won\n",
      "DQA player 2 won\n",
      "DQA player 2 won\n"
     ]
    },
    {
     "name": "stderr",
     "output_type": "stream",
     "text": [
      "\r",
      "  4%|▎         | 3637/100000 [06:13<5:03:37,  5.29it/s]"
     ]
    },
    {
     "name": "stdout",
     "output_type": "stream",
     "text": [
      "DQA player 1 won\n"
     ]
    },
    {
     "name": "stderr",
     "output_type": "stream",
     "text": [
      "\r",
      "  4%|▎         | 3638/100000 [06:13<7:26:11,  3.60it/s]"
     ]
    },
    {
     "name": "stdout",
     "output_type": "stream",
     "text": [
      "DQA player 1 won\n"
     ]
    },
    {
     "name": "stderr",
     "output_type": "stream",
     "text": [
      "\r",
      "  4%|▎         | 3639/100000 [06:13<6:53:05,  3.89it/s]"
     ]
    },
    {
     "name": "stdout",
     "output_type": "stream",
     "text": [
      "DQA player 1 won\n"
     ]
    },
    {
     "name": "stderr",
     "output_type": "stream",
     "text": [
      "  4%|▎         | 3641/100000 [06:14<6:51:52,  3.90it/s]"
     ]
    },
    {
     "name": "stdout",
     "output_type": "stream",
     "text": [
      "DQA player 2 won\n",
      "DQA player 2 won\n",
      "DQA player 1 won\n"
     ]
    },
    {
     "name": "stderr",
     "output_type": "stream",
     "text": [
      "  4%|▎         | 3643/100000 [06:14<5:28:06,  4.89it/s]"
     ]
    },
    {
     "name": "stdout",
     "output_type": "stream",
     "text": [
      "DQA player 1 won\n",
      "DQA player 1 won\n"
     ]
    },
    {
     "name": "stderr",
     "output_type": "stream",
     "text": [
      "\r",
      "  4%|▎         | 3644/100000 [06:15<7:36:55,  3.51it/s]"
     ]
    },
    {
     "name": "stdout",
     "output_type": "stream",
     "text": [
      "DQA player 1 won\n"
     ]
    },
    {
     "name": "stderr",
     "output_type": "stream",
     "text": [
      "\r",
      "  4%|▎         | 3645/100000 [06:15<7:11:57,  3.72it/s]"
     ]
    },
    {
     "name": "stdout",
     "output_type": "stream",
     "text": [
      "DQA player 1 won\n"
     ]
    },
    {
     "name": "stderr",
     "output_type": "stream",
     "text": [
      "  4%|▎         | 3647/100000 [06:15<6:48:01,  3.94it/s]"
     ]
    },
    {
     "name": "stdout",
     "output_type": "stream",
     "text": [
      "DQA player 1 won\n",
      "DQA player 2 won\n",
      "DQA player 2 won\n"
     ]
    },
    {
     "name": "stderr",
     "output_type": "stream",
     "text": [
      "\r",
      "  4%|▎         | 3648/100000 [06:16<7:20:36,  3.64it/s]"
     ]
    },
    {
     "name": "stdout",
     "output_type": "stream",
     "text": [
      "DQA player 1 won\n",
      "DQA player 1 won\n"
     ]
    },
    {
     "name": "stderr",
     "output_type": "stream",
     "text": [
      "  4%|▎         | 3651/100000 [06:16<4:49:24,  5.55it/s]"
     ]
    },
    {
     "name": "stdout",
     "output_type": "stream",
     "text": [
      "DQA player 2 won\n",
      "DQA player 2 won\n",
      "DQA player 1 won\n",
      "DQA player 1 won\n"
     ]
    },
    {
     "name": "stderr",
     "output_type": "stream",
     "text": [
      "  4%|▎         | 3654/100000 [06:16<3:50:53,  6.95it/s]"
     ]
    },
    {
     "name": "stdout",
     "output_type": "stream",
     "text": [
      "DQA player 1 won\n",
      "DQA player 2 won\n",
      "DQA player 2 won\n"
     ]
    },
    {
     "name": "stderr",
     "output_type": "stream",
     "text": [
      "\r",
      "  4%|▎         | 3655/100000 [06:17<3:31:48,  7.58it/s]"
     ]
    },
    {
     "name": "stdout",
     "output_type": "stream",
     "text": [
      "DQA player 1 won\n"
     ]
    },
    {
     "name": "stderr",
     "output_type": "stream",
     "text": [
      "  4%|▎         | 3658/100000 [06:17<3:42:33,  7.21it/s]"
     ]
    },
    {
     "name": "stdout",
     "output_type": "stream",
     "text": [
      "DQA player 2 won\n",
      "DQA player 2 won\n",
      "DQA player 1 won\n",
      "DQA player 1 won\n"
     ]
    },
    {
     "name": "stderr",
     "output_type": "stream",
     "text": [
      "  4%|▎         | 3661/100000 [06:17<3:30:59,  7.61it/s]"
     ]
    },
    {
     "name": "stdout",
     "output_type": "stream",
     "text": [
      "DQA player 2 won\n",
      "DQA player 2 won\n",
      "DQA player 1 won\n",
      "DQA player 1 won\n"
     ]
    },
    {
     "name": "stderr",
     "output_type": "stream",
     "text": [
      "\r",
      "  4%|▎         | 3663/100000 [06:17<3:08:00,  8.54it/s]"
     ]
    },
    {
     "name": "stdout",
     "output_type": "stream",
     "text": [
      "DQA player 1 won\n",
      "DQA player 2 won\n",
      "DQA player 2 won\n",
      "DQA player 2 won\n",
      "DQA player 2 won\n"
     ]
    },
    {
     "name": "stderr",
     "output_type": "stream",
     "text": [
      "  4%|▎         | 3667/100000 [06:18<2:49:44,  9.46it/s]"
     ]
    },
    {
     "name": "stdout",
     "output_type": "stream",
     "text": [
      "DQA player 1 won\n",
      "DQA player 1 won\n",
      "DQA player 1 won\n"
     ]
    },
    {
     "name": "stderr",
     "output_type": "stream",
     "text": [
      "\r",
      "  4%|▎         | 3669/100000 [06:18<3:03:19,  8.76it/s]"
     ]
    },
    {
     "name": "stdout",
     "output_type": "stream",
     "text": [
      "DQA player 2 won\n",
      "DQA player 2 won\n",
      "DQA player 1 won\n"
     ]
    },
    {
     "name": "stderr",
     "output_type": "stream",
     "text": [
      "\r",
      "  4%|▎         | 3671/100000 [06:18<2:42:56,  9.85it/s]"
     ]
    },
    {
     "name": "stdout",
     "output_type": "stream",
     "text": [
      "DQA player 2 won\n",
      "DQA player 2 won\n",
      "DQA player 1 won\n",
      "DQA player 1 won\n"
     ]
    },
    {
     "name": "stderr",
     "output_type": "stream",
     "text": [
      "  4%|▎         | 3675/100000 [06:19<2:32:32, 10.52it/s]"
     ]
    },
    {
     "name": "stdout",
     "output_type": "stream",
     "text": [
      "DQA player 2 won\n",
      "DQA player 2 won\n",
      "DQA player 1 won\n",
      "DQA player 1 won\n"
     ]
    },
    {
     "name": "stderr",
     "output_type": "stream",
     "text": [
      "\r",
      "  4%|▎         | 3677/100000 [06:19<2:33:54, 10.43it/s]"
     ]
    },
    {
     "name": "stdout",
     "output_type": "stream",
     "text": [
      "DQA player 2 won\n",
      "DQA player 2 won\n",
      "DQA player 1 won\n"
     ]
    },
    {
     "name": "stderr",
     "output_type": "stream",
     "text": [
      "\r",
      "  4%|▎         | 3679/100000 [06:19<3:25:03,  7.83it/s]"
     ]
    },
    {
     "name": "stdout",
     "output_type": "stream",
     "text": [
      "DQA player 2 won\n",
      "DQA player 2 won\n",
      "DQA player 1 won\n"
     ]
    },
    {
     "name": "stderr",
     "output_type": "stream",
     "text": [
      "\r",
      "  4%|▎         | 3681/100000 [06:19<3:00:43,  8.88it/s]"
     ]
    },
    {
     "name": "stdout",
     "output_type": "stream",
     "text": [
      "DQA player 1 won\n",
      "DQA player 2 won\n",
      "DQA player 2 won\n",
      "DQA player 1 won\n"
     ]
    },
    {
     "name": "stderr",
     "output_type": "stream",
     "text": [
      "\r",
      "  4%|▎         | 3683/100000 [06:20<2:43:14,  9.83it/s]"
     ]
    },
    {
     "name": "stdout",
     "output_type": "stream",
     "text": [
      "DQA player 2 won\n",
      "DQA player 2 won\n",
      "DQA player 2 won\n",
      "DQA player 2 won\n",
      "DQA player 1 won\n"
     ]
    },
    {
     "name": "stderr",
     "output_type": "stream",
     "text": [
      "  4%|▎         | 3689/100000 [06:20<2:15:06, 11.88it/s]"
     ]
    },
    {
     "name": "stdout",
     "output_type": "stream",
     "text": [
      "DQA player 1 won\n",
      "DQA player 1 won\n",
      "DQA player 1 won\n",
      "DQA player 2 won\n",
      "DQA player 2 won\n"
     ]
    },
    {
     "name": "stderr",
     "output_type": "stream",
     "text": [
      "\r",
      "  4%|▎         | 3691/100000 [06:20<2:07:11, 12.62it/s]"
     ]
    },
    {
     "name": "stdout",
     "output_type": "stream",
     "text": [
      "DQA player 1 won\n",
      "DQA player 2 won\n",
      "DQA player 2 won\n",
      "DQA player 1 won\n"
     ]
    },
    {
     "name": "stderr",
     "output_type": "stream",
     "text": [
      "  4%|▎         | 3695/100000 [06:20<2:03:47, 12.97it/s]"
     ]
    },
    {
     "name": "stdout",
     "output_type": "stream",
     "text": [
      "DQA player 2 won\n",
      "DQA player 2 won\n",
      "DQA player 1 won\n",
      "DQA player 1 won\n"
     ]
    },
    {
     "name": "stderr",
     "output_type": "stream",
     "text": [
      "  4%|▎         | 3699/100000 [06:21<1:55:34, 13.89it/s]"
     ]
    },
    {
     "name": "stdout",
     "output_type": "stream",
     "text": [
      "DQA player 1 won\n",
      "DQA player 1 won\n",
      "DQA player 1 won\n",
      "DQA player 1 won\n"
     ]
    },
    {
     "name": "stderr",
     "output_type": "stream",
     "text": [
      "  4%|▎         | 3703/100000 [06:21<1:53:49, 14.10it/s]"
     ]
    },
    {
     "name": "stdout",
     "output_type": "stream",
     "text": [
      "DQA player 2 won\n",
      "DQA player 2 won\n",
      "DQA player 1 won\n",
      "DQA player 2 won\n",
      "DQA player 2 won\n",
      "DQA player 1 won\n"
     ]
    },
    {
     "name": "stderr",
     "output_type": "stream",
     "text": [
      "  4%|▎         | 3707/100000 [06:21<1:48:54, 14.74it/s]"
     ]
    },
    {
     "name": "stdout",
     "output_type": "stream",
     "text": [
      "DQA player 1 won\n",
      "DQA player 1 won\n",
      "DQA player 1 won\n",
      "DQA player 1 won\n"
     ]
    },
    {
     "name": "stderr",
     "output_type": "stream",
     "text": [
      "\r",
      "  4%|▎         | 3709/100000 [06:21<1:49:31, 14.65it/s]"
     ]
    },
    {
     "name": "stdout",
     "output_type": "stream",
     "text": [
      "DQA player 2 won\n",
      "DQA player 2 won\n",
      "DQA player 1 won\n",
      "DQA player 2 won\n",
      "DQA player 2 won\n"
     ]
    },
    {
     "name": "stderr",
     "output_type": "stream",
     "text": [
      "  4%|▎         | 3713/100000 [06:22<1:51:34, 14.38it/s]"
     ]
    },
    {
     "name": "stdout",
     "output_type": "stream",
     "text": [
      "DQA player 2 won\n",
      "DQA player 2 won\n",
      "DQA player 1 won\n",
      "DQA player 2 won\n",
      "DQA player 2 won\n"
     ]
    },
    {
     "name": "stderr",
     "output_type": "stream",
     "text": [
      "\r",
      "  4%|▎         | 3715/100000 [06:22<1:54:01, 14.07it/s]"
     ]
    },
    {
     "name": "stdout",
     "output_type": "stream",
     "text": [
      "DQA player 1 won\n",
      "DQA player 1 won\n",
      "DQA player 1 won\n",
      "DQA player 2 won\n"
     ]
    },
    {
     "name": "stderr",
     "output_type": "stream",
     "text": [
      "  4%|▎         | 3719/100000 [06:22<1:52:44, 14.23it/s]"
     ]
    },
    {
     "name": "stdout",
     "output_type": "stream",
     "text": [
      "DQA player 2 won\n",
      "DQA player 1 won\n",
      "DQA player 2 won\n",
      "DQA player 2 won\n",
      "DQA player 2 won\n"
     ]
    },
    {
     "name": "stderr",
     "output_type": "stream",
     "text": [
      "  4%|▎         | 3723/100000 [06:22<1:48:56, 14.73it/s]"
     ]
    },
    {
     "name": "stdout",
     "output_type": "stream",
     "text": [
      "DQA player 2 won\n",
      "DQA player 1 won\n",
      "DQA player 1 won\n",
      "DQA player 1 won\n"
     ]
    },
    {
     "name": "stderr",
     "output_type": "stream",
     "text": [
      "\r",
      "  4%|▎         | 3725/100000 [06:23<1:49:23, 14.67it/s]"
     ]
    },
    {
     "name": "stdout",
     "output_type": "stream",
     "text": [
      "DQA player 1 won\n",
      "DQA player 1 won\n",
      "DQA player 1 won\n"
     ]
    },
    {
     "name": "stderr",
     "output_type": "stream",
     "text": [
      "  4%|▎         | 3729/100000 [06:23<1:50:15, 14.55it/s]"
     ]
    },
    {
     "name": "stdout",
     "output_type": "stream",
     "text": [
      "DQA player 1 won\n",
      "DQA player 1 won\n",
      "DQA player 1 won\n"
     ]
    },
    {
     "name": "stderr",
     "output_type": "stream",
     "text": [
      "\r",
      "  4%|▎         | 3731/100000 [06:23<1:49:33, 14.65it/s]"
     ]
    },
    {
     "name": "stdout",
     "output_type": "stream",
     "text": [
      "DQA player 2 won\n",
      "DQA player 2 won\n",
      "DQA player 1 won\n",
      "DQA player 2 won\n",
      "DQA player 2 won\n",
      "DQA player 1 won\n"
     ]
    },
    {
     "name": "stderr",
     "output_type": "stream",
     "text": [
      "  4%|▎         | 3735/100000 [06:23<1:50:39, 14.50it/s]"
     ]
    },
    {
     "name": "stdout",
     "output_type": "stream",
     "text": [
      "DQA player 1 won\n",
      "DQA player 2 won\n",
      "DQA player 2 won\n",
      "DQA player 1 won\n"
     ]
    },
    {
     "name": "stderr",
     "output_type": "stream",
     "text": [
      "  4%|▎         | 3739/100000 [06:23<1:51:50, 14.34it/s]"
     ]
    },
    {
     "name": "stdout",
     "output_type": "stream",
     "text": [
      "DQA player 1 won\n",
      "DQA player 2 won\n",
      "DQA player 2 won\n",
      "DQA player 1 won\n",
      "DQA player 1 won"
     ]
    },
    {
     "name": "stderr",
     "output_type": "stream",
     "text": [
      "\r",
      "  4%|▎         | 3741/100000 [06:24<1:49:24, 14.66it/s]"
     ]
    },
    {
     "name": "stdout",
     "output_type": "stream",
     "text": [
      "\n",
      "DQA player 1 won\n",
      "DQA player 1 won\n",
      "DQA player 1 won\n"
     ]
    },
    {
     "name": "stderr",
     "output_type": "stream",
     "text": [
      "  4%|▎         | 3745/100000 [06:24<2:00:41, 13.29it/s]"
     ]
    },
    {
     "name": "stdout",
     "output_type": "stream",
     "text": [
      "DQA player 1 won\n",
      "DQA player 1 won\n",
      "DQA player 2 won\n",
      "DQA player 2 won\n"
     ]
    },
    {
     "name": "stderr",
     "output_type": "stream",
     "text": [
      "  4%|▎         | 3749/100000 [06:24<1:59:09, 13.46it/s]"
     ]
    },
    {
     "name": "stdout",
     "output_type": "stream",
     "text": [
      "DQA player 2 won\n",
      "DQA player 2 won\n",
      "DQA player 2 won\n",
      "DQA player 2 won\n",
      "DQA player 2 won\n",
      "DQA player 2 won\n"
     ]
    },
    {
     "name": "stderr",
     "output_type": "stream",
     "text": [
      "  4%|▍         | 3753/100000 [06:24<1:53:10, 14.17it/s]"
     ]
    },
    {
     "name": "stdout",
     "output_type": "stream",
     "text": [
      "DQA player 2 won\n",
      "DQA player 2 won\n",
      "DQA player 1 won\n",
      "DQA player 1 won\n",
      "DQA player 1 won\n"
     ]
    },
    {
     "name": "stderr",
     "output_type": "stream",
     "text": [
      "\r",
      "  4%|▍         | 3755/100000 [06:25<1:55:27, 13.89it/s]"
     ]
    },
    {
     "name": "stdout",
     "output_type": "stream",
     "text": [
      "DQA player 1 won\n",
      "DQA player 1 won\n",
      "DQA player 1 won\n"
     ]
    },
    {
     "name": "stderr",
     "output_type": "stream",
     "text": [
      "  4%|▍         | 3759/100000 [06:25<1:46:47, 15.02it/s]"
     ]
    },
    {
     "name": "stdout",
     "output_type": "stream",
     "text": [
      "DQA player 2 won\n",
      "DQA player 2 won\n",
      "DQA player 1 won\n",
      "DQA player 1 won\n",
      "DQA player 1 won\n"
     ]
    },
    {
     "name": "stderr",
     "output_type": "stream",
     "text": [
      "  4%|▍         | 3763/100000 [06:25<2:05:22, 12.79it/s]"
     ]
    },
    {
     "name": "stdout",
     "output_type": "stream",
     "text": [
      "DQA player 1 won\n",
      "DQA player 2 won\n",
      "DQA player 2 won\n",
      "DQA player 1 won\n"
     ]
    },
    {
     "name": "stderr",
     "output_type": "stream",
     "text": [
      "\r",
      "  4%|▍         | 3765/100000 [06:25<1:59:12, 13.46it/s]"
     ]
    },
    {
     "name": "stdout",
     "output_type": "stream",
     "text": [
      "DQA player 1 won\n",
      "DQA player 1 won\n",
      "DQA player 1 won\n"
     ]
    },
    {
     "name": "stderr",
     "output_type": "stream",
     "text": [
      "\r",
      "  4%|▍         | 3767/100000 [06:26<1:59:56, 13.37it/s]"
     ]
    },
    {
     "name": "stdout",
     "output_type": "stream",
     "text": [
      "DQA player 2 won\n",
      "DQA player 2 won\n",
      "DQA player 2 won\n",
      "DQA player 2 won\n"
     ]
    },
    {
     "name": "stderr",
     "output_type": "stream",
     "text": [
      "\r",
      "  4%|▍         | 3769/100000 [06:26<2:18:11, 11.61it/s]"
     ]
    },
    {
     "name": "stdout",
     "output_type": "stream",
     "text": [
      "DQA player 2 won\n",
      "DQA player 2 won\n",
      "DQA player 2 won\n",
      "DQA player 2 won\n"
     ]
    },
    {
     "name": "stderr",
     "output_type": "stream",
     "text": [
      "  4%|▍         | 3774/100000 [06:26<2:03:08, 13.02it/s]"
     ]
    },
    {
     "name": "stdout",
     "output_type": "stream",
     "text": [
      "DQA player 1 won\n",
      "DQA player 2 won\n",
      "DQA player 2 won\n",
      "DQA player 1 won\n",
      "DQA player 1 won\n",
      "DQA player 1 won\n",
      "DQA player 1 won\n"
     ]
    },
    {
     "name": "stderr",
     "output_type": "stream",
     "text": [
      "  4%|▍         | 3780/100000 [06:26<1:30:33, 17.71it/s]"
     ]
    },
    {
     "name": "stdout",
     "output_type": "stream",
     "text": [
      "DQA player 1 won\n",
      "DQA player 1 won\n",
      "DQA player 1 won\n",
      "DQA player 1 won\n",
      "DQA player 1 won\n",
      "DQA player 1 won\n"
     ]
    },
    {
     "name": "stderr",
     "output_type": "stream",
     "text": [
      "  4%|▍         | 3786/100000 [06:27<1:15:42, 21.18it/s]"
     ]
    },
    {
     "name": "stdout",
     "output_type": "stream",
     "text": [
      "DQA player 2 won\n",
      "DQA player 2 won\n",
      "DQA player 1 won\n",
      "DQA player 1 won\n",
      "DQA player 1 won\n",
      "DQA player 1 won\n",
      "DQA player 1 won\n"
     ]
    },
    {
     "name": "stderr",
     "output_type": "stream",
     "text": [
      "  4%|▍         | 3792/100000 [06:27<1:13:20, 21.86it/s]"
     ]
    },
    {
     "name": "stdout",
     "output_type": "stream",
     "text": [
      "DQA player 2 won\n",
      "DQA player 2 won\n",
      "DQA player 1 won\n",
      "DQA player 1 won\n",
      "DQA player 1 won\n",
      "DQA player 2 won\n",
      "DQA player 2 won\n",
      "DQA player 2 won\n",
      "DQA player 2 won\n",
      "DQA player 1 won\n"
     ]
    },
    {
     "name": "stderr",
     "output_type": "stream",
     "text": [
      "  4%|▍         | 3800/100000 [06:27<1:25:38, 18.72it/s]"
     ]
    },
    {
     "name": "stdout",
     "output_type": "stream",
     "text": [
      "DQA player 2 won\n",
      "DQA player 2 won\n",
      "DQA player 1 won\n",
      "DQA player 1 won\n",
      "DQA player 1 won\n",
      "DQA player 1 won\n",
      "DQA player 1 won\n"
     ]
    },
    {
     "name": "stderr",
     "output_type": "stream",
     "text": [
      "  4%|▍         | 3806/100000 [06:28<1:11:23, 22.46it/s]"
     ]
    },
    {
     "name": "stdout",
     "output_type": "stream",
     "text": [
      "DQA player 2 won\n",
      "DQA player 2 won\n",
      "DQA player 1 won\n",
      "DQA player 1 won\n",
      "DQA player 1 won\n",
      "DQA player 1 won\n",
      "DQA player 1 won\n"
     ]
    },
    {
     "name": "stderr",
     "output_type": "stream",
     "text": [
      "  4%|▍         | 3812/100000 [06:28<1:04:46, 24.75it/s]"
     ]
    },
    {
     "name": "stdout",
     "output_type": "stream",
     "text": [
      "DQA player 1 won\n",
      "DQA player 1 won\n",
      "DQA player 1 won\n",
      "DQA player 1 won\n",
      "DQA player 1 won\n",
      "DQA player 1 won\n"
     ]
    },
    {
     "name": "stderr",
     "output_type": "stream",
     "text": [
      "  4%|▍         | 3818/100000 [06:28<1:04:23, 24.89it/s]"
     ]
    },
    {
     "name": "stdout",
     "output_type": "stream",
     "text": [
      "DQA player 2 won\n",
      "DQA player 2 won\n",
      "DQA player 1 won\n",
      "DQA player 1 won\n",
      "DQA player 1 won\n",
      "DQA player 1 won\n",
      "DQA player 1 won\n"
     ]
    },
    {
     "name": "stderr",
     "output_type": "stream",
     "text": [
      "  4%|▍         | 3824/100000 [06:28<1:02:21, 25.70it/s]"
     ]
    },
    {
     "name": "stdout",
     "output_type": "stream",
     "text": [
      "DQA player 1 won\n",
      "DQA player 1 won\n",
      "DQA player 1 won\n",
      "DQA player 1 won\n",
      "DQA player 1 won\n",
      "DQA player 1 won\n"
     ]
    },
    {
     "name": "stderr",
     "output_type": "stream",
     "text": [
      "\r",
      "  4%|▍         | 3827/100000 [06:28<1:08:08, 23.52it/s]"
     ]
    },
    {
     "name": "stdout",
     "output_type": "stream",
     "text": [
      "DQA player 1 won\n",
      "DQA player 1 won\n",
      "DQA player 1 won\n",
      "DQA player 2 won\n",
      "DQA player 2 won\n"
     ]
    },
    {
     "name": "stderr",
     "output_type": "stream",
     "text": [
      "  4%|▍         | 3833/100000 [06:29<1:12:48, 22.01it/s]"
     ]
    },
    {
     "name": "stdout",
     "output_type": "stream",
     "text": [
      "DQA player 2 won\n",
      "DQA player 2 won\n",
      "DQA player 1 won\n",
      "DQA player 1 won\n",
      "DQA player 1 won\n",
      "DQA player 1 won\n"
     ]
    },
    {
     "name": "stderr",
     "output_type": "stream",
     "text": [
      "\r",
      "  4%|▍         | 3836/100000 [06:29<1:32:54, 17.25it/s]"
     ]
    },
    {
     "name": "stdout",
     "output_type": "stream",
     "text": [
      "DQA player 2 won\n",
      "DQA player 2 won\n",
      "DQA player 2 won\n",
      "DQA player 2 won\n",
      "DQA player 1 won\n",
      "DQA player 1 won\n"
     ]
    },
    {
     "name": "stderr",
     "output_type": "stream",
     "text": [
      "  4%|▍         | 3842/100000 [06:29<1:23:11, 19.27it/s]"
     ]
    },
    {
     "name": "stdout",
     "output_type": "stream",
     "text": [
      "DQA player 1 won\n",
      "DQA player 2 won\n",
      "DQA player 2 won\n",
      "DQA player 2 won\n",
      "DQA player 2 won\n",
      "DQA player 1 won\n",
      "DQA player 1 won\n"
     ]
    },
    {
     "name": "stderr",
     "output_type": "stream",
     "text": [
      "  4%|▍         | 3848/100000 [06:29<1:09:36, 23.02it/s]"
     ]
    },
    {
     "name": "stdout",
     "output_type": "stream",
     "text": [
      "DQA player 1 won\n",
      "DQA player 1 won\n",
      "DQA player 1 won\n",
      "DQA player 1 won\n",
      "DQA player 1 won\n",
      "DQA player 1 won\n"
     ]
    },
    {
     "name": "stderr",
     "output_type": "stream",
     "text": [
      "  4%|▍         | 3854/100000 [06:30<1:04:15, 24.94it/s]"
     ]
    },
    {
     "name": "stdout",
     "output_type": "stream",
     "text": [
      "DQA player 1 won\n",
      "DQA player 1 won\n",
      "DQA player 1 won\n",
      "DQA player 1 won\n",
      "DQA player 1 won\n",
      "DQA player 1 won\n"
     ]
    },
    {
     "name": "stderr",
     "output_type": "stream",
     "text": [
      "  4%|▍         | 3860/100000 [06:30<1:02:42, 25.55it/s]"
     ]
    },
    {
     "name": "stdout",
     "output_type": "stream",
     "text": [
      "DQA player 1 won\n",
      "DQA player 1 won\n",
      "DQA player 1 won\n",
      "DQA player 1 won\n",
      "DQA player 1 won\n",
      "DQA player 1 won\n"
     ]
    },
    {
     "name": "stderr",
     "output_type": "stream",
     "text": [
      "  4%|▍         | 3866/100000 [06:30<1:01:01, 26.26it/s]"
     ]
    },
    {
     "name": "stdout",
     "output_type": "stream",
     "text": [
      "DQA player 1 won\n",
      "DQA player 1 won\n",
      "DQA player 1 won\n",
      "DQA player 2 won\n",
      "DQA player 2 won\n",
      "DQA player 1 won\n",
      "DQA player 1 won\n"
     ]
    },
    {
     "name": "stderr",
     "output_type": "stream",
     "text": [
      "\r",
      "  4%|▍         | 3869/100000 [06:30<1:00:35, 26.44it/s]"
     ]
    },
    {
     "name": "stdout",
     "output_type": "stream",
     "text": [
      "DQA player 2 won\n",
      "DQA player 2 won\n",
      "DQA player 1 won\n",
      "DQA player 2 won\n",
      "DQA player 2 won\n",
      "DQA player 2 won\n",
      "DQA player 2 won\n"
     ]
    },
    {
     "name": "stderr",
     "output_type": "stream",
     "text": [
      "  4%|▍         | 3875/100000 [06:31<1:24:30, 18.96it/s]"
     ]
    },
    {
     "name": "stdout",
     "output_type": "stream",
     "text": [
      "DQA player 1 won\n",
      "DQA player 2 won\n",
      "DQA player 2 won\n",
      "DQA player 1 won\n",
      "DQA player 1 won\n"
     ]
    },
    {
     "name": "stderr",
     "output_type": "stream",
     "text": [
      "\r",
      "  4%|▍         | 3878/100000 [06:31<1:35:48, 16.72it/s]"
     ]
    },
    {
     "name": "stdout",
     "output_type": "stream",
     "text": [
      "DQA player 1 won\n",
      "DQA player 2 won\n",
      "DQA player 2 won\n",
      "DQA player 2 won\n",
      "DQA player 2 won\n"
     ]
    },
    {
     "name": "stderr",
     "output_type": "stream",
     "text": [
      "  4%|▍         | 3882/100000 [06:31<1:41:06, 15.84it/s]"
     ]
    },
    {
     "name": "stdout",
     "output_type": "stream",
     "text": [
      "DQA player 1 won\n",
      "DQA player 2 won\n",
      "DQA player 2 won\n",
      "DQA player 1 won\n",
      "DQA player 1 won\n"
     ]
    },
    {
     "name": "stderr",
     "output_type": "stream",
     "text": [
      "\r",
      "  4%|▍         | 3884/100000 [06:31<1:44:44, 15.29it/s]"
     ]
    },
    {
     "name": "stdout",
     "output_type": "stream",
     "text": [
      "DQA player 2 won\n",
      "DQA player 2 won\n",
      "DQA player 2 won\n",
      "DQA player 2 won\n",
      "DQA player 1 won\n",
      "DQA player 2 won\n"
     ]
    },
    {
     "name": "stderr",
     "output_type": "stream",
     "text": [
      "  4%|▍         | 3888/100000 [06:32<1:50:20, 14.52it/s]"
     ]
    },
    {
     "name": "stdout",
     "output_type": "stream",
     "text": [
      "DQA player 2 won\n",
      "DQA player 2 won\n",
      "DQA player 2 won\n",
      "DQA player 1 won\n"
     ]
    },
    {
     "name": "stderr",
     "output_type": "stream",
     "text": [
      "\r",
      "  4%|▍         | 3890/100000 [06:32<1:49:10, 14.67it/s]"
     ]
    },
    {
     "name": "stdout",
     "output_type": "stream",
     "text": [
      "DQA player 1 won\n",
      "DQA player 2 won\n",
      "DQA player 2 won\n",
      "DQA player 2 won\n",
      "DQA player 2 won\n"
     ]
    },
    {
     "name": "stderr",
     "output_type": "stream",
     "text": [
      "\r",
      "  4%|▍         | 3892/100000 [06:32<2:06:47, 12.63it/s]"
     ]
    },
    {
     "name": "stdout",
     "output_type": "stream",
     "text": [
      "DQA player 1 won\n",
      "DQA player 1 won\n"
     ]
    },
    {
     "name": "stderr",
     "output_type": "stream",
     "text": [
      "\r",
      "  4%|▍         | 3894/100000 [06:32<2:25:06, 11.04it/s]"
     ]
    },
    {
     "name": "stdout",
     "output_type": "stream",
     "text": [
      "DQA player 2 won\n",
      "DQA player 2 won\n",
      "DQA player 1 won\n"
     ]
    },
    {
     "name": "stderr",
     "output_type": "stream",
     "text": [
      "  4%|▍         | 3898/100000 [06:33<2:38:01, 10.14it/s]"
     ]
    },
    {
     "name": "stdout",
     "output_type": "stream",
     "text": [
      "DQA player 1 won\n",
      "DQA player 1 won\n",
      "DQA player 2 won\n",
      "DQA player 2 won\n"
     ]
    },
    {
     "name": "stderr",
     "output_type": "stream",
     "text": [
      "\r",
      "  4%|▍         | 3900/100000 [06:33<2:29:59, 10.68it/s]"
     ]
    },
    {
     "name": "stdout",
     "output_type": "stream",
     "text": [
      "DQA player 1 won\n",
      "DQA player 1 won\n",
      "DQA player 1 won\n"
     ]
    },
    {
     "name": "stderr",
     "output_type": "stream",
     "text": [
      "\r",
      "  4%|▍         | 3902/100000 [06:33<2:42:57,  9.83it/s]"
     ]
    },
    {
     "name": "stdout",
     "output_type": "stream",
     "text": [
      "DQA player 2 won\n",
      "DQA player 2 won\n",
      "DQA player 1 won\n"
     ]
    },
    {
     "name": "stderr",
     "output_type": "stream",
     "text": [
      "  4%|▍         | 3905/100000 [06:33<3:10:37,  8.40it/s]"
     ]
    },
    {
     "name": "stdout",
     "output_type": "stream",
     "text": [
      "DQA player 1 won\n",
      "DQA player 2 won\n",
      "DQA player 2 won\n"
     ]
    },
    {
     "name": "stderr",
     "output_type": "stream",
     "text": [
      "\r",
      "  4%|▍         | 3906/100000 [06:34<3:50:17,  6.95it/s]"
     ]
    },
    {
     "name": "stdout",
     "output_type": "stream",
     "text": [
      "DQA player 2 won\n",
      "DQA player 2 won\n"
     ]
    },
    {
     "name": "stderr",
     "output_type": "stream",
     "text": [
      "  4%|▍         | 3908/100000 [06:34<4:16:29,  6.24it/s]"
     ]
    },
    {
     "name": "stdout",
     "output_type": "stream",
     "text": [
      "DQA player 1 won\n",
      "DQA player 2 won\n",
      "DQA player 2 won\n"
     ]
    },
    {
     "name": "stderr",
     "output_type": "stream",
     "text": [
      "  4%|▍         | 3910/100000 [06:34<4:03:02,  6.59it/s]"
     ]
    },
    {
     "name": "stdout",
     "output_type": "stream",
     "text": [
      "DQA player 2 won\n",
      "DQA player 2 won\n",
      "DQA player 1 won\n"
     ]
    },
    {
     "name": "stderr",
     "output_type": "stream",
     "text": [
      "  4%|▍         | 3912/100000 [06:34<3:37:41,  7.36it/s]"
     ]
    },
    {
     "name": "stdout",
     "output_type": "stream",
     "text": [
      "DQA player 2 won\n",
      "DQA player 2 won\n",
      "DQA player 1 won\n"
     ]
    },
    {
     "name": "stderr",
     "output_type": "stream",
     "text": [
      "  4%|▍         | 3914/100000 [06:35<3:23:49,  7.86it/s]"
     ]
    },
    {
     "name": "stdout",
     "output_type": "stream",
     "text": [
      "DQA player 1 won\n",
      "DQA player 1 won\n"
     ]
    },
    {
     "name": "stderr",
     "output_type": "stream",
     "text": [
      "\r",
      "  4%|▍         | 3915/100000 [06:35<3:49:59,  6.96it/s]"
     ]
    },
    {
     "name": "stdout",
     "output_type": "stream",
     "text": [
      "DQA player 2 won\n",
      "DQA player 2 won\n"
     ]
    },
    {
     "name": "stderr",
     "output_type": "stream",
     "text": [
      "  4%|▍         | 3917/100000 [06:35<4:34:56,  5.82it/s]"
     ]
    },
    {
     "name": "stdout",
     "output_type": "stream",
     "text": [
      "DQA player 1 won\n",
      "DQA player 2 won\n",
      "DQA player 2 won\n"
     ]
    },
    {
     "name": "stderr",
     "output_type": "stream",
     "text": [
      "\r",
      "  4%|▍         | 3919/100000 [06:35<3:49:39,  6.97it/s]"
     ]
    },
    {
     "name": "stdout",
     "output_type": "stream",
     "text": [
      "DQA player 2 won\n",
      "DQA player 2 won\n",
      "DQA player 1 won\n",
      "DQA player 2 won\n",
      "DQA player 2 won\n"
     ]
    },
    {
     "name": "stderr",
     "output_type": "stream",
     "text": [
      "\r",
      "  4%|▍         | 3921/100000 [06:36<4:19:38,  6.17it/s]"
     ]
    },
    {
     "name": "stdout",
     "output_type": "stream",
     "text": [
      "DQA player 1 won\n"
     ]
    },
    {
     "name": "stderr",
     "output_type": "stream",
     "text": [
      "  4%|▍         | 3923/100000 [06:36<4:31:34,  5.90it/s]"
     ]
    },
    {
     "name": "stdout",
     "output_type": "stream",
     "text": [
      "DQA player 1 won\n",
      "DQA player 1 won\n"
     ]
    },
    {
     "name": "stderr",
     "output_type": "stream",
     "text": [
      "  4%|▍         | 3925/100000 [06:37<5:05:35,  5.24it/s]"
     ]
    },
    {
     "name": "stdout",
     "output_type": "stream",
     "text": [
      "DQA player 2 won\n",
      "DQA player 2 won\n",
      "DQA player 2 won\n",
      "DQA player 2 won\n"
     ]
    },
    {
     "name": "stderr",
     "output_type": "stream",
     "text": [
      "\r",
      "  4%|▍         | 3927/100000 [06:37<4:13:11,  6.32it/s]"
     ]
    },
    {
     "name": "stdout",
     "output_type": "stream",
     "text": [
      "DQA player 2 won\n",
      "DQA player 2 won\n",
      "DQA player 1 won\n",
      "DQA player 2 won\n",
      "DQA player 2 won\n"
     ]
    },
    {
     "name": "stderr",
     "output_type": "stream",
     "text": [
      "  4%|▍         | 3931/100000 [06:37<3:24:57,  7.81it/s]"
     ]
    },
    {
     "name": "stdout",
     "output_type": "stream",
     "text": [
      "DQA player 2 won\n",
      "DQA player 2 won\n",
      "DQA player 1 won\n",
      "DQA player 2 won\n",
      "DQA player 2 won\n"
     ]
    },
    {
     "name": "stderr",
     "output_type": "stream",
     "text": [
      "  4%|▍         | 3936/100000 [06:37<2:21:17, 11.33it/s]"
     ]
    },
    {
     "name": "stdout",
     "output_type": "stream",
     "text": [
      "DQA player 2 won\n",
      "DQA player 2 won\n",
      "DQA player 2 won\n",
      "DQA player 2 won\n",
      "DQA player 2 won\n",
      "DQA player 2 won\n",
      "DQA player 1 won\n",
      "DQA player 1 won\n",
      "DQA player 1 won\n"
     ]
    },
    {
     "name": "stderr",
     "output_type": "stream",
     "text": [
      "  4%|▍         | 3942/100000 [06:38<1:40:52, 15.87it/s]"
     ]
    },
    {
     "name": "stdout",
     "output_type": "stream",
     "text": [
      "DQA player 2 won\n",
      "DQA player 2 won\n",
      "DQA player 1 won\n",
      "DQA player 1 won\n",
      "DQA player 1 won\n",
      "DQA player 2 won\n",
      "DQA player 2 won\n",
      "DQA player 1 won\n"
     ]
    },
    {
     "name": "stderr",
     "output_type": "stream",
     "text": [
      "  4%|▍         | 3948/100000 [06:38<1:18:55, 20.28it/s]"
     ]
    },
    {
     "name": "stdout",
     "output_type": "stream",
     "text": [
      "DQA player 1 won\n",
      "DQA player 1 won\n",
      "DQA player 1 won\n",
      "DQA player 1 won\n",
      "DQA player 1 won\n",
      "DQA player 2 won\n",
      "DQA player 2 won\n"
     ]
    },
    {
     "name": "stderr",
     "output_type": "stream",
     "text": [
      "  4%|▍         | 3954/100000 [06:38<1:11:06, 22.51it/s]"
     ]
    },
    {
     "name": "stdout",
     "output_type": "stream",
     "text": [
      "DQA player 1 won\n",
      "DQA player 1 won\n",
      "DQA player 2 won\n",
      "DQA player 2 won\n",
      "DQA player 1 won\n",
      "DQA player 1 won\n",
      "DQA player 1 won"
     ]
    },
    {
     "name": "stderr",
     "output_type": "stream",
     "text": [
      "  4%|▍         | 3960/100000 [06:38<1:05:05, 24.59it/s]"
     ]
    },
    {
     "name": "stdout",
     "output_type": "stream",
     "text": [
      "\n",
      "DQA player 1 won\n",
      "DQA player 1 won\n",
      "DQA player 1 won\n",
      "DQA player 1 won\n",
      "DQA player 1 won\n"
     ]
    },
    {
     "name": "stderr",
     "output_type": "stream",
     "text": [
      "\r",
      "  4%|▍         | 3963/100000 [06:39<1:07:34, 23.69it/s]"
     ]
    },
    {
     "name": "stdout",
     "output_type": "stream",
     "text": [
      "DQA player 2 won\n",
      "DQA player 2 won\n",
      "DQA player 1 won\n",
      "DQA player 1 won\n",
      "DQA player 2 won\n",
      "DQA player 2 won\n",
      "DQA player 1 won\n",
      "DQA player 1 won\n"
     ]
    },
    {
     "name": "stderr",
     "output_type": "stream",
     "text": [
      "  4%|▍         | 3972/100000 [06:39<1:04:15, 24.91it/s]"
     ]
    },
    {
     "name": "stdout",
     "output_type": "stream",
     "text": [
      "DQA player 1 won\n",
      "DQA player 1 won\n",
      "DQA player 1 won\n",
      "DQA player 1 won\n",
      "DQA player 2 won\n",
      "DQA player 2 won\n",
      "DQA player 2 won\n",
      "DQA player 2 won\n"
     ]
    },
    {
     "name": "stderr",
     "output_type": "stream",
     "text": [
      "  4%|▍         | 3978/100000 [06:39<1:01:13, 26.14it/s]"
     ]
    },
    {
     "name": "stdout",
     "output_type": "stream",
     "text": [
      "DQA player 1 won\n",
      "DQA player 2 won\n",
      "DQA player 2 won\n",
      "DQA player 1 won\n",
      "DQA player 1 won\n",
      "DQA player 1 won\n",
      "DQA player 1 won\n"
     ]
    },
    {
     "name": "stderr",
     "output_type": "stream",
     "text": [
      "  4%|▍         | 3984/100000 [06:39<1:00:50, 26.30it/s]"
     ]
    },
    {
     "name": "stdout",
     "output_type": "stream",
     "text": [
      "DQA player 1 won\n",
      "DQA player 1 won\n",
      "DQA player 1 won\n",
      "DQA player 1 won\n",
      "DQA player 1 won\n",
      "DQA player 1 won\n"
     ]
    },
    {
     "name": "stderr",
     "output_type": "stream",
     "text": [
      "\r",
      "  4%|▍         | 3987/100000 [06:39<1:00:36, 26.40it/s]"
     ]
    },
    {
     "name": "stdout",
     "output_type": "stream",
     "text": [
      "DQA player 1 won\n",
      "DQA player 1 won\n",
      "DQA player 1 won\n",
      "DQA player 1 won\n",
      "DQA player 1 won\n",
      "DQA player 1 won\n"
     ]
    },
    {
     "name": "stderr",
     "output_type": "stream",
     "text": [
      "  4%|▍         | 3994/100000 [06:40<59:06, 27.07it/s]  "
     ]
    },
    {
     "name": "stdout",
     "output_type": "stream",
     "text": [
      "DQA player 1 won\n",
      "DQA player 1 won\n",
      "DQA player 1 won\n",
      "DQA player 1 won\n",
      "DQA player 2 won\n",
      "DQA player 2 won\n",
      "DQA player 1 won\n"
     ]
    },
    {
     "name": "stderr",
     "output_type": "stream",
     "text": [
      "  4%|▍         | 4000/100000 [06:40<1:01:03, 26.21it/s]"
     ]
    },
    {
     "name": "stdout",
     "output_type": "stream",
     "text": [
      "DQA player 1 won\n",
      "DQA player 1 won\n",
      "DQA player 1 won\n",
      "DQA player 1 won\n",
      "DQA player 1 won\n"
     ]
    },
    {
     "name": "stderr",
     "output_type": "stream",
     "text": [
      "\r",
      "  4%|▍         | 4003/100000 [06:40<1:07:17, 23.78it/s]"
     ]
    },
    {
     "name": "stdout",
     "output_type": "stream",
     "text": [
      "DQA player 2 won\n",
      "DQA player 2 won\n",
      "DQA player 1 won\n",
      "DQA player 1 won\n",
      "DQA player 1 won\n"
     ]
    },
    {
     "name": "stderr",
     "output_type": "stream",
     "text": [
      "  4%|▍         | 4009/100000 [06:40<1:17:33, 20.63it/s]"
     ]
    },
    {
     "name": "stdout",
     "output_type": "stream",
     "text": [
      "DQA player 1 won\n",
      "DQA player 1 won\n",
      "DQA player 2 won\n",
      "DQA player 2 won\n",
      "DQA player 1 won\n"
     ]
    },
    {
     "name": "stderr",
     "output_type": "stream",
     "text": [
      "\r",
      "  4%|▍         | 4012/100000 [06:41<1:18:14, 20.45it/s]"
     ]
    },
    {
     "name": "stdout",
     "output_type": "stream",
     "text": [
      "DQA player 1 won\n",
      "DQA player 1 won\n",
      "DQA player 1 won\n",
      "DQA player 1 won\n"
     ]
    },
    {
     "name": "stderr",
     "output_type": "stream",
     "text": [
      "  4%|▍         | 4018/100000 [06:41<1:12:31, 22.06it/s]"
     ]
    },
    {
     "name": "stdout",
     "output_type": "stream",
     "text": [
      "DQA player 2 won\n",
      "DQA player 2 won\n",
      "DQA player 2 won\n",
      "DQA player 2 won\n",
      "DQA player 1 won\n",
      "DQA player 1 won\n",
      "DQA player 1 won\n",
      "DQA player 1 won\n"
     ]
    },
    {
     "name": "stderr",
     "output_type": "stream",
     "text": [
      "  4%|▍         | 4024/100000 [06:41<1:05:22, 24.47it/s]"
     ]
    },
    {
     "name": "stdout",
     "output_type": "stream",
     "text": [
      "DQA player 1 won\n",
      "DQA player 1 won\n",
      "DQA player 1 won\n",
      "DQA player 1 won\n",
      "DQA player 1 won\n",
      "DQA player 2 won\n",
      "DQA player 2 won\n"
     ]
    },
    {
     "name": "stderr",
     "output_type": "stream",
     "text": [
      "  4%|▍         | 4030/100000 [06:41<1:05:20, 24.48it/s]"
     ]
    },
    {
     "name": "stdout",
     "output_type": "stream",
     "text": [
      "DQA player 2 won\n",
      "DQA player 2 won\n",
      "DQA player 1 won\n",
      "DQA player 2 won\n",
      "DQA player 2 won\n",
      "DQA player 1 won\n",
      "DQA player 2 won\n",
      "DQA player 2 won\n"
     ]
    },
    {
     "name": "stderr",
     "output_type": "stream",
     "text": [
      "  4%|▍         | 4036/100000 [06:42<1:04:43, 24.71it/s]"
     ]
    },
    {
     "name": "stdout",
     "output_type": "stream",
     "text": [
      "DQA player 2 won\n",
      "DQA player 2 won\n",
      "DQA player 1 won\n",
      "DQA player 1 won\n",
      "DQA player 1 won\n",
      "DQA player 1 won\n",
      "DQA player 1 won\n"
     ]
    },
    {
     "name": "stderr",
     "output_type": "stream",
     "text": [
      "  4%|▍         | 4042/100000 [06:42<1:04:00, 24.99it/s]"
     ]
    },
    {
     "name": "stdout",
     "output_type": "stream",
     "text": [
      "DQA player 1 won\n",
      "DQA player 1 won\n",
      "DQA player 1 won\n",
      "DQA player 2 won\n",
      "DQA player 2 won\n",
      "DQA player 1 won\n",
      "DQA player 1 won\n"
     ]
    },
    {
     "name": "stderr",
     "output_type": "stream",
     "text": [
      "\r",
      "  4%|▍         | 4045/100000 [06:42<1:02:54, 25.42it/s]"
     ]
    },
    {
     "name": "stdout",
     "output_type": "stream",
     "text": [
      "DQA player 1 won\n",
      "DQA player 1 won\n",
      "DQA player 1 won\n",
      "DQA player 1 won\n",
      "DQA player 1 won\n",
      "DQA player 1 won\n"
     ]
    },
    {
     "name": "stderr",
     "output_type": "stream",
     "text": [
      "  4%|▍         | 4051/100000 [06:42<1:07:15, 23.78it/s]"
     ]
    },
    {
     "name": "stdout",
     "output_type": "stream",
     "text": [
      "DQA player 1 won\n",
      "DQA player 1 won\n",
      "DQA player 2 won\n",
      "DQA player 2 won\n",
      "DQA player 2 won\n",
      "DQA player 2 won\n",
      "DQA player 1 won\n"
     ]
    },
    {
     "name": "stderr",
     "output_type": "stream",
     "text": [
      "  4%|▍         | 4057/100000 [06:43<1:19:34, 20.09it/s]"
     ]
    },
    {
     "name": "stdout",
     "output_type": "stream",
     "text": [
      "DQA player 1 won\n",
      "DQA player 2 won\n",
      "DQA player 2 won\n",
      "DQA player 1 won\n",
      "DQA player 1 won\n"
     ]
    },
    {
     "name": "stderr",
     "output_type": "stream",
     "text": [
      "\r",
      "  4%|▍         | 4060/100000 [06:43<1:22:15, 19.44it/s]"
     ]
    },
    {
     "name": "stdout",
     "output_type": "stream",
     "text": [
      "DQA player 2 won\n",
      "DQA player 2 won\n",
      "DQA player 1 won\n",
      "DQA player 1 won\n",
      "DQA player 1 won\n"
     ]
    },
    {
     "name": "stderr",
     "output_type": "stream",
     "text": [
      "  4%|▍         | 4064/100000 [06:43<1:22:19, 19.42it/s]"
     ]
    },
    {
     "name": "stdout",
     "output_type": "stream",
     "text": [
      "DQA player 1 won\n",
      "DQA player 1 won\n",
      "DQA player 2 won\n",
      "DQA player 2 won\n",
      "DQA player 1 won\n",
      "DQA player 1 won\n"
     ]
    },
    {
     "name": "stderr",
     "output_type": "stream",
     "text": [
      "  4%|▍         | 4070/100000 [06:43<1:18:03, 20.48it/s]"
     ]
    },
    {
     "name": "stdout",
     "output_type": "stream",
     "text": [
      "DQA player 1 won\n",
      "DQA player 1 won\n",
      "DQA player 1 won\n",
      "DQA player 1 won\n"
     ]
    },
    {
     "name": "stderr",
     "output_type": "stream",
     "text": [
      "\r",
      "  4%|▍         | 4073/100000 [06:43<1:26:39, 18.45it/s]"
     ]
    },
    {
     "name": "stdout",
     "output_type": "stream",
     "text": [
      "DQA player 1 won\n",
      "DQA player 2 won\n",
      "DQA player 2 won\n",
      "DQA player 1 won\n",
      "DQA player 2 won\n",
      "DQA player 2 won\n"
     ]
    },
    {
     "name": "stderr",
     "output_type": "stream",
     "text": [
      "  4%|▍         | 4077/100000 [06:44<1:28:15, 18.11it/s]"
     ]
    },
    {
     "name": "stdout",
     "output_type": "stream",
     "text": [
      "DQA player 1 won\n",
      "DQA player 1 won\n",
      "DQA player 2 won\n",
      "DQA player 2 won\n"
     ]
    },
    {
     "name": "stderr",
     "output_type": "stream",
     "text": [
      "\r",
      "  4%|▍         | 4079/100000 [06:44<1:50:11, 14.51it/s]"
     ]
    },
    {
     "name": "stdout",
     "output_type": "stream",
     "text": [
      "DQA player 2 won\n",
      "DQA player 2 won\n",
      "DQA player 1 won\n",
      "DQA player 1 won\n"
     ]
    },
    {
     "name": "stderr",
     "output_type": "stream",
     "text": [
      "\r",
      "  4%|▍         | 4081/100000 [06:44<2:11:50, 12.13it/s]"
     ]
    },
    {
     "name": "stdout",
     "output_type": "stream",
     "text": [
      "DQA player 2 won\n",
      "DQA player 2 won\n",
      "DQA player 1 won\n"
     ]
    },
    {
     "name": "stderr",
     "output_type": "stream",
     "text": [
      "\r",
      "  4%|▍         | 4083/100000 [06:44<2:57:43,  8.99it/s]"
     ]
    },
    {
     "name": "stdout",
     "output_type": "stream",
     "text": [
      "DQA player 2 won\n",
      "DQA player 2 won\n",
      "DQA player 1 won\n",
      "DQA player 2 won\n"
     ]
    },
    {
     "name": "stderr",
     "output_type": "stream",
     "text": [
      "\r",
      "  4%|▍         | 4085/100000 [06:45<2:47:07,  9.57it/s]"
     ]
    },
    {
     "name": "stdout",
     "output_type": "stream",
     "text": [
      "DQA player 2 won\n",
      "DQA player 1 won\n"
     ]
    },
    {
     "name": "stderr",
     "output_type": "stream",
     "text": [
      "  4%|▍         | 4088/100000 [06:45<3:44:10,  7.13it/s]"
     ]
    },
    {
     "name": "stdout",
     "output_type": "stream",
     "text": [
      "DQA player 1 won\n",
      "DQA player 1 won\n"
     ]
    },
    {
     "name": "stderr",
     "output_type": "stream",
     "text": [
      "\r",
      "  4%|▍         | 4089/100000 [06:45<4:47:02,  5.57it/s]"
     ]
    },
    {
     "name": "stdout",
     "output_type": "stream",
     "text": [
      "DQA player 1 won\n",
      "DQA player 1 won\n"
     ]
    },
    {
     "name": "stderr",
     "output_type": "stream",
     "text": [
      "\r",
      "  4%|▍         | 4091/100000 [06:46<4:24:30,  6.04it/s]"
     ]
    },
    {
     "name": "stdout",
     "output_type": "stream",
     "text": [
      "DQA player 1 won\n",
      "DQA player 1 won\n"
     ]
    },
    {
     "name": "stderr",
     "output_type": "stream",
     "text": [
      "  4%|▍         | 4094/100000 [06:46<5:16:37,  5.05it/s]"
     ]
    },
    {
     "name": "stdout",
     "output_type": "stream",
     "text": [
      "DQA player 1 won\n",
      "DQA player 1 won\n",
      "DQA player 1 won\n"
     ]
    },
    {
     "name": "stderr",
     "output_type": "stream",
     "text": [
      "  4%|▍         | 4097/100000 [06:47<3:51:41,  6.90it/s]"
     ]
    },
    {
     "name": "stdout",
     "output_type": "stream",
     "text": [
      "DQA player 1 won\n",
      "DQA player 2 won\n",
      "DQA player 2 won\n",
      "DQA player 1 won\n"
     ]
    },
    {
     "name": "stderr",
     "output_type": "stream",
     "text": [
      "  4%|▍         | 4101/100000 [06:47<2:49:58,  9.40it/s]"
     ]
    },
    {
     "name": "stdout",
     "output_type": "stream",
     "text": [
      "DQA player 2 won\n",
      "DQA player 2 won\n",
      "DQA player 1 won\n",
      "DQA player 1 won\n"
     ]
    },
    {
     "name": "stderr",
     "output_type": "stream",
     "text": [
      "\r",
      "  4%|▍         | 4103/100000 [06:47<2:32:00, 10.51it/s]"
     ]
    },
    {
     "name": "stdout",
     "output_type": "stream",
     "text": [
      "DQA player 2 won\n",
      "DQA player 2 won\n",
      "DQA player 1 won\n",
      "DQA player 1 won\n"
     ]
    },
    {
     "name": "stderr",
     "output_type": "stream",
     "text": [
      "\r",
      "  4%|▍         | 4105/100000 [06:47<2:35:51, 10.25it/s]"
     ]
    },
    {
     "name": "stdout",
     "output_type": "stream",
     "text": [
      "DQA player 1 won\n",
      "DQA player 1 won\n"
     ]
    },
    {
     "name": "stderr",
     "output_type": "stream",
     "text": [
      "  4%|▍         | 4109/100000 [06:48<2:22:34, 11.21it/s]"
     ]
    },
    {
     "name": "stdout",
     "output_type": "stream",
     "text": [
      "DQA player 2 won\n",
      "DQA player 2 won\n",
      "DQA player 1 won\n",
      "DQA player 1 won\n",
      "DQA player 1 won\n"
     ]
    },
    {
     "name": "stderr",
     "output_type": "stream",
     "text": [
      "  4%|▍         | 4113/100000 [06:48<2:12:14, 12.08it/s]"
     ]
    },
    {
     "name": "stdout",
     "output_type": "stream",
     "text": [
      "DQA player 1 won\n",
      "DQA player 1 won\n",
      "DQA player 2 won\n",
      "DQA player 2 won\n"
     ]
    },
    {
     "name": "stderr",
     "output_type": "stream",
     "text": [
      "  4%|▍         | 4117/100000 [06:48<1:49:29, 14.59it/s]"
     ]
    },
    {
     "name": "stdout",
     "output_type": "stream",
     "text": [
      "DQA player 1 won\n",
      "DQA player 1 won\n",
      "DQA player 2 won\n",
      "DQA player 2 won\n",
      "DQA player 1 won\n"
     ]
    },
    {
     "name": "stderr",
     "output_type": "stream",
     "text": [
      "\r",
      "  4%|▍         | 4120/100000 [06:48<1:39:41, 16.03it/s]"
     ]
    },
    {
     "name": "stdout",
     "output_type": "stream",
     "text": [
      "DQA player 1 won\n",
      "DQA player 1 won\n",
      "DQA player 1 won\n",
      "DQA player 2 won\n",
      "DQA player 2 won\n"
     ]
    },
    {
     "name": "stderr",
     "output_type": "stream",
     "text": [
      "  4%|▍         | 4124/100000 [06:48<1:43:57, 15.37it/s]"
     ]
    },
    {
     "name": "stdout",
     "output_type": "stream",
     "text": [
      "DQA player 1 won\n",
      "DQA player 2 won\n",
      "DQA player 2 won\n",
      "DQA player 1 won\n",
      "DQA player 1 won\n"
     ]
    },
    {
     "name": "stderr",
     "output_type": "stream",
     "text": [
      "  4%|▍         | 4129/100000 [06:49<1:27:44, 18.21it/s]"
     ]
    },
    {
     "name": "stdout",
     "output_type": "stream",
     "text": [
      "DQA player 1 won\n",
      "DQA player 1 won\n",
      "DQA player 1 won\n",
      "DQA player 2 won\n",
      "DQA player 2 won\n",
      "DQA player 1 won\n"
     ]
    },
    {
     "name": "stderr",
     "output_type": "stream",
     "text": [
      "  4%|▍         | 4134/100000 [06:49<1:20:16, 19.91it/s]"
     ]
    },
    {
     "name": "stdout",
     "output_type": "stream",
     "text": [
      "DQA player 1 won\n",
      "DQA player 1 won\n",
      "DQA player 1 won\n",
      "DQA player 1 won\n",
      "DQA player 1 won\n"
     ]
    },
    {
     "name": "stderr",
     "output_type": "stream",
     "text": [
      "  4%|▍         | 4140/100000 [06:49<1:14:03, 21.57it/s]"
     ]
    },
    {
     "name": "stdout",
     "output_type": "stream",
     "text": [
      "DQA player 1 won\n",
      "DQA player 1 won\n",
      "DQA player 1 won\n",
      "DQA player 1 won\n",
      "DQA player 2 won\n",
      "DQA player 2 won\n"
     ]
    },
    {
     "name": "stderr",
     "output_type": "stream",
     "text": [
      "  4%|▍         | 4146/100000 [06:49<1:08:56, 23.17it/s]"
     ]
    },
    {
     "name": "stdout",
     "output_type": "stream",
     "text": [
      "DQA player 2 won\n",
      "DQA player 2 won\n",
      "DQA player 1 won\n",
      "DQA player 1 won\n",
      "DQA player 1 won\n",
      "DQA player 1 won\n",
      "DQA player 1 won\n"
     ]
    },
    {
     "name": "stderr",
     "output_type": "stream",
     "text": [
      "\r",
      "  4%|▍         | 4149/100000 [06:50<1:12:33, 22.02it/s]"
     ]
    },
    {
     "name": "stdout",
     "output_type": "stream",
     "text": [
      "DQA player 1 won\n",
      "DQA player 1 won\n",
      "DQA player 1 won\n",
      "DQA player 1 won\n",
      "DQA player 1 won\n"
     ]
    },
    {
     "name": "stderr",
     "output_type": "stream",
     "text": [
      "  4%|▍         | 4155/100000 [06:50<1:19:10, 20.18it/s]"
     ]
    },
    {
     "name": "stdout",
     "output_type": "stream",
     "text": [
      "DQA player 2 won\n",
      "DQA player 2 won\n",
      "DQA player 1 won\n",
      "DQA player 1 won\n",
      "DQA player 2 won\n",
      "DQA player 2 won\n",
      "DQA player 1 won\n"
     ]
    },
    {
     "name": "stderr",
     "output_type": "stream",
     "text": [
      "  4%|▍         | 4161/100000 [06:50<1:11:50, 22.23it/s]"
     ]
    },
    {
     "name": "stdout",
     "output_type": "stream",
     "text": [
      "DQA player 1 won\n",
      "DQA player 1 won\n",
      "DQA player 1 won\n",
      "DQA player 1 won\n",
      "DQA player 1 won\n"
     ]
    },
    {
     "name": "stderr",
     "output_type": "stream",
     "text": [
      "  4%|▍         | 4167/100000 [06:50<1:07:54, 23.52it/s]"
     ]
    },
    {
     "name": "stdout",
     "output_type": "stream",
     "text": [
      "DQA player 2 won\n",
      "DQA player 2 won\n",
      "DQA player 1 won\n",
      "DQA player 1 won\n",
      "DQA player 1 won\n",
      "DQA player 1 won\n",
      "DQA player 1 won\n"
     ]
    },
    {
     "name": "stderr",
     "output_type": "stream",
     "text": [
      "  4%|▍         | 4173/100000 [06:51<1:04:14, 24.86it/s]"
     ]
    },
    {
     "name": "stdout",
     "output_type": "stream",
     "text": [
      "DQA player 1 won\n",
      "DQA player 1 won\n",
      "DQA player 2 won\n",
      "DQA player 2 won\n",
      "DQA player 1 won\n",
      "DQA player 1 won\n",
      "DQA player 1 won\n"
     ]
    },
    {
     "name": "stderr",
     "output_type": "stream",
     "text": [
      "\r",
      "  4%|▍         | 4176/100000 [06:51<1:04:21, 24.81it/s]"
     ]
    },
    {
     "name": "stdout",
     "output_type": "stream",
     "text": [
      "DQA player 1 won\n",
      "DQA player 1 won\n",
      "DQA player 2 won\n",
      "DQA player 2 won\n",
      "DQA player 2 won\n",
      "DQA player 2 won\n",
      "DQA player 1 won\n"
     ]
    },
    {
     "name": "stderr",
     "output_type": "stream",
     "text": [
      "  4%|▍         | 4182/100000 [06:51<1:11:45, 22.25it/s]"
     ]
    },
    {
     "name": "stdout",
     "output_type": "stream",
     "text": [
      "DQA player 1 won\n",
      "DQA player 1 won\n",
      "DQA player 1 won\n",
      "DQA player 1 won\n",
      "DQA player 1 won\n"
     ]
    },
    {
     "name": "stderr",
     "output_type": "stream",
     "text": [
      "\r",
      "  4%|▍         | 4185/100000 [06:51<1:13:00, 21.87it/s]"
     ]
    },
    {
     "name": "stdout",
     "output_type": "stream",
     "text": [
      "DQA player 1 won\n",
      "DQA player 1 won\n",
      "DQA player 2 won\n",
      "DQA player 2 won\n",
      "DQA player 2 won\n",
      "DQA player 2 won\n",
      "DQA player 1 won\n"
     ]
    },
    {
     "name": "stderr",
     "output_type": "stream",
     "text": [
      "  4%|▍         | 4194/100000 [06:52<1:08:31, 23.30it/s]"
     ]
    },
    {
     "name": "stdout",
     "output_type": "stream",
     "text": [
      "DQA player 1 won\n",
      "DQA player 2 won\n",
      "DQA player 2 won\n",
      "DQA player 1 won\n",
      "DQA player 1 won\n",
      "DQA player 1 won\n",
      "DQA player 1 won\n"
     ]
    },
    {
     "name": "stderr",
     "output_type": "stream",
     "text": [
      "\r",
      "  4%|▍         | 4197/100000 [06:52<1:14:37, 21.40it/s]"
     ]
    },
    {
     "name": "stdout",
     "output_type": "stream",
     "text": [
      "DQA player 2 won\n",
      "DQA player 2 won\n",
      "DQA player 2 won\n",
      "DQA player 2 won\n",
      "DQA player 2 won\n",
      "DQA player 2 won\n",
      "DQA player 2 won\n",
      "DQA player 2 won\n"
     ]
    },
    {
     "name": "stderr",
     "output_type": "stream",
     "text": [
      "\r",
      "  4%|▍         | 4200/100000 [06:52<1:11:34, 22.31it/s]"
     ]
    },
    {
     "name": "stdout",
     "output_type": "stream",
     "text": [
      "DQA player 1 won\n",
      "DQA player 1 won\n",
      "DQA player 1 won\n",
      "DQA player 1 won\n"
     ]
    },
    {
     "name": "stderr",
     "output_type": "stream",
     "text": [
      "  4%|▍         | 4206/100000 [06:52<1:18:49, 20.26it/s]"
     ]
    },
    {
     "name": "stdout",
     "output_type": "stream",
     "text": [
      "DQA player 2 won\n",
      "DQA player 2 won\n",
      "DQA player 1 won\n",
      "DQA player 1 won\n",
      "DQA player 1 won\n",
      "DQA player 1 won\n",
      "DQA player 1 won\n"
     ]
    },
    {
     "name": "stderr",
     "output_type": "stream",
     "text": [
      "  4%|▍         | 4212/100000 [06:53<1:15:35, 21.12it/s]"
     ]
    },
    {
     "name": "stdout",
     "output_type": "stream",
     "text": [
      "DQA player 1 won\n",
      "DQA player 1 won\n",
      "DQA player 1 won\n",
      "DQA player 2 won\n",
      "DQA player 2 won\n",
      "DQA player 1 won\n"
     ]
    },
    {
     "name": "stderr",
     "output_type": "stream",
     "text": [
      "\r",
      "  4%|▍         | 4215/100000 [06:53<1:31:44, 17.40it/s]"
     ]
    },
    {
     "name": "stdout",
     "output_type": "stream",
     "text": [
      "DQA player 1 won\n",
      "DQA player 1 won\n",
      "DQA player 2 won\n",
      "DQA player 2 won\n"
     ]
    },
    {
     "name": "stderr",
     "output_type": "stream",
     "text": [
      "\r",
      "  4%|▍         | 4217/100000 [06:54<4:47:16,  5.56it/s]"
     ]
    },
    {
     "name": "stdout",
     "output_type": "stream",
     "text": [
      "DQA player 1 won\n",
      "DQA player 1 won\n"
     ]
    },
    {
     "name": "stderr",
     "output_type": "stream",
     "text": [
      "\r",
      "  4%|▍         | 4219/100000 [06:55<6:44:02,  3.95it/s]"
     ]
    },
    {
     "name": "stdout",
     "output_type": "stream",
     "text": [
      "DQA player 2 won\n",
      "DQA player 2 won\n",
      "DQA player 1 won\n"
     ]
    },
    {
     "name": "stderr",
     "output_type": "stream",
     "text": [
      "  4%|▍         | 4223/100000 [06:55<5:44:34,  4.63it/s]"
     ]
    },
    {
     "name": "stdout",
     "output_type": "stream",
     "text": [
      "DQA player 2 won\n",
      "DQA player 2 won\n",
      "DQA player 1 won\n",
      "DQA player 2 won\n",
      "DQA player 2 won\n",
      "DQA player 1 won\n"
     ]
    },
    {
     "name": "stderr",
     "output_type": "stream",
     "text": [
      "\r",
      "  4%|▍         | 4225/100000 [06:56<5:34:56,  4.77it/s]"
     ]
    },
    {
     "name": "stdout",
     "output_type": "stream",
     "text": [
      "DQA player 2 won\n",
      "DQA player 2 won\n"
     ]
    },
    {
     "name": "stderr",
     "output_type": "stream",
     "text": [
      "\r",
      "  4%|▍         | 4226/100000 [06:56<6:16:37,  4.24it/s]"
     ]
    },
    {
     "name": "stdout",
     "output_type": "stream",
     "text": [
      "DQA player 2 won\n",
      "DQA player 2 won\n"
     ]
    },
    {
     "name": "stderr",
     "output_type": "stream",
     "text": [
      "\r",
      "  4%|▍         | 4227/100000 [06:57<9:39:47,  2.75it/s]"
     ]
    },
    {
     "name": "stdout",
     "output_type": "stream",
     "text": [
      "DQA player 1 won\n"
     ]
    },
    {
     "name": "stderr",
     "output_type": "stream",
     "text": [
      "\r",
      "  4%|▍         | 4228/100000 [06:57<11:15:38,  2.36it/s]"
     ]
    },
    {
     "name": "stdout",
     "output_type": "stream",
     "text": [
      "DQA player 1 won\n"
     ]
    },
    {
     "name": "stderr",
     "output_type": "stream",
     "text": [
      "  4%|▍         | 4231/100000 [06:58<8:35:12,  3.10it/s] "
     ]
    },
    {
     "name": "stdout",
     "output_type": "stream",
     "text": [
      "DQA player 1 won\n",
      "DQA player 1 won\n",
      "DQA player 2 won\n",
      "DQA player 2 won\n"
     ]
    },
    {
     "name": "stderr",
     "output_type": "stream",
     "text": [
      "  4%|▍         | 4235/100000 [06:58<4:55:35,  5.40it/s]"
     ]
    },
    {
     "name": "stdout",
     "output_type": "stream",
     "text": [
      "DQA player 1 won\n",
      "DQA player 1 won\n",
      "DQA player 2 won\n",
      "DQA player 2 won\n",
      "DQA player 1 won\n"
     ]
    },
    {
     "name": "stderr",
     "output_type": "stream",
     "text": [
      "  4%|▍         | 4240/100000 [06:58<3:03:09,  8.71it/s]"
     ]
    },
    {
     "name": "stdout",
     "output_type": "stream",
     "text": [
      "DQA player 1 won\n",
      "DQA player 2 won\n",
      "DQA player 2 won\n",
      "DQA player 1 won\n",
      "DQA player 2 won\n",
      "DQA player 2 won\n",
      "DQA player 1 won\n"
     ]
    },
    {
     "name": "stderr",
     "output_type": "stream",
     "text": [
      "  4%|▍         | 4245/100000 [06:59<2:08:41, 12.40it/s]"
     ]
    },
    {
     "name": "stdout",
     "output_type": "stream",
     "text": [
      "DQA player 1 won\n",
      "DQA player 1 won\n",
      "DQA player 1 won\n",
      "DQA player 1 won\n",
      "DQA player 2 won\n",
      "DQA player 2 won\n"
     ]
    },
    {
     "name": "stderr",
     "output_type": "stream",
     "text": [
      "\r",
      "  4%|▍         | 4247/100000 [06:59<1:56:31, 13.70it/s]"
     ]
    },
    {
     "name": "stdout",
     "output_type": "stream",
     "text": [
      "DQA player 1 won\n",
      "DQA player 1 won\n",
      "DQA player 2 won\n",
      "DQA player 2 won\n",
      "DQA player 1 won"
     ]
    },
    {
     "name": "stderr",
     "output_type": "stream",
     "text": [
      "  4%|▍         | 4252/100000 [06:59<1:43:29, 15.42it/s]"
     ]
    },
    {
     "name": "stdout",
     "output_type": "stream",
     "text": [
      "\n",
      "DQA player 1 won\n",
      "DQA player 1 won\n",
      "DQA player 1 won\n"
     ]
    },
    {
     "name": "stderr",
     "output_type": "stream",
     "text": [
      "\r",
      "  4%|▍         | 4254/100000 [06:59<1:38:02, 16.28it/s]"
     ]
    },
    {
     "name": "stdout",
     "output_type": "stream",
     "text": [
      "DQA player 1 won\n",
      "DQA player 1 won\n",
      "DQA player 1 won\n",
      "DQA player 1 won\n"
     ]
    },
    {
     "name": "stderr",
     "output_type": "stream",
     "text": [
      "  4%|▍         | 4259/100000 [06:59<1:34:40, 16.86it/s]"
     ]
    },
    {
     "name": "stdout",
     "output_type": "stream",
     "text": [
      "DQA player 2 won\n",
      "DQA player 2 won\n",
      "DQA player 2 won\n",
      "DQA player 2 won\n",
      "DQA player 1 won\n",
      "DQA player 1 won\n"
     ]
    },
    {
     "name": "stderr",
     "output_type": "stream",
     "text": [
      "  4%|▍         | 4264/100000 [07:00<1:29:58, 17.73it/s]"
     ]
    },
    {
     "name": "stdout",
     "output_type": "stream",
     "text": [
      "DQA player 2 won\n",
      "DQA player 2 won\n",
      "DQA player 1 won\n",
      "DQA player 1 won\n",
      "DQA player 1 won\n"
     ]
    },
    {
     "name": "stderr",
     "output_type": "stream",
     "text": [
      "  4%|▍         | 4268/100000 [07:00<1:29:53, 17.75it/s]"
     ]
    },
    {
     "name": "stdout",
     "output_type": "stream",
     "text": [
      "DQA player 1 won\n",
      "DQA player 2 won\n",
      "DQA player 2 won\n",
      "DQA player 1 won\n",
      "DQA player 2 won\n",
      "DQA player 2 won\n"
     ]
    },
    {
     "name": "stderr",
     "output_type": "stream",
     "text": [
      "  4%|▍         | 4272/100000 [07:00<1:29:47, 17.77it/s]"
     ]
    },
    {
     "name": "stdout",
     "output_type": "stream",
     "text": [
      "DQA player 1 won\n",
      "DQA player 1 won\n",
      "DQA player 1 won\n",
      "DQA player 1 won\n"
     ]
    },
    {
     "name": "stderr",
     "output_type": "stream",
     "text": [
      "\r",
      "  4%|▍         | 4274/100000 [07:00<1:39:19, 16.06it/s]"
     ]
    },
    {
     "name": "stdout",
     "output_type": "stream",
     "text": [
      "DQA player 1 won\n",
      "DQA player 2 won\n",
      "DQA player 2 won\n",
      "DQA player 1 won\n",
      "DQA player 1 won\n"
     ]
    },
    {
     "name": "stderr",
     "output_type": "stream",
     "text": [
      "  4%|▍         | 4281/100000 [07:01<1:29:20, 17.86it/s]"
     ]
    },
    {
     "name": "stdout",
     "output_type": "stream",
     "text": [
      "DQA player 2 won\n",
      "DQA player 2 won\n",
      "DQA player 1 won\n",
      "DQA player 1 won\n",
      "DQA player 1 won\n",
      "DQA player 1 won\n"
     ]
    },
    {
     "name": "stderr",
     "output_type": "stream",
     "text": [
      "  4%|▍         | 4285/100000 [07:01<1:27:00, 18.33it/s]"
     ]
    },
    {
     "name": "stdout",
     "output_type": "stream",
     "text": [
      "DQA player 2 won\n",
      "DQA player 2 won\n",
      "DQA player 1 won\n",
      "DQA player 1 won\n",
      "DQA player 1 won\n",
      "DQA player 1 won\n"
     ]
    },
    {
     "name": "stderr",
     "output_type": "stream",
     "text": [
      "  4%|▍         | 4290/100000 [07:01<1:24:55, 18.78it/s]"
     ]
    },
    {
     "name": "stdout",
     "output_type": "stream",
     "text": [
      "DQA player 1 won\n",
      "DQA player 1 won\n",
      "DQA player 1 won\n",
      "DQA player 1 won\n"
     ]
    },
    {
     "name": "stderr",
     "output_type": "stream",
     "text": [
      "  4%|▍         | 4294/100000 [07:01<1:31:20, 17.46it/s]"
     ]
    },
    {
     "name": "stdout",
     "output_type": "stream",
     "text": [
      "DQA player 1 won\n",
      "DQA player 2 won\n",
      "DQA player 2 won\n",
      "DQA player 1 won\n",
      "DQA player 1 won\n"
     ]
    },
    {
     "name": "stderr",
     "output_type": "stream",
     "text": [
      "\r",
      "  4%|▍         | 4296/100000 [07:01<1:41:49, 15.66it/s]"
     ]
    },
    {
     "name": "stdout",
     "output_type": "stream",
     "text": [
      "DQA player 1 won\n",
      "DQA player 1 won\n",
      "DQA player 2 won\n",
      "DQA player 2 won\n"
     ]
    },
    {
     "name": "stderr",
     "output_type": "stream",
     "text": [
      "  4%|▍         | 4300/100000 [07:02<1:50:20, 14.45it/s]"
     ]
    },
    {
     "name": "stdout",
     "output_type": "stream",
     "text": [
      "DQA player 1 won\n",
      "DQA player 2 won\n",
      "DQA player 2 won\n",
      "DQA player 1 won\n",
      "DQA player 1 won\n"
     ]
    },
    {
     "name": "stderr",
     "output_type": "stream",
     "text": [
      "  4%|▍         | 4304/100000 [07:02<2:19:32, 11.43it/s]"
     ]
    },
    {
     "name": "stdout",
     "output_type": "stream",
     "text": [
      "DQA player 1 won\n",
      "DQA player 1 won\n",
      "DQA player 1 won\n",
      "DQA player 1 won\n",
      "DQA player 1 won\n"
     ]
    },
    {
     "name": "stderr",
     "output_type": "stream",
     "text": [
      "  4%|▍         | 4309/100000 [07:03<1:58:36, 13.45it/s]"
     ]
    },
    {
     "name": "stdout",
     "output_type": "stream",
     "text": [
      "DQA player 1 won\n",
      "DQA player 2 won\n",
      "DQA player 2 won\n",
      "DQA player 2 won\n",
      "DQA player 2 won\n",
      "DQA player 1 won\n"
     ]
    },
    {
     "name": "stderr",
     "output_type": "stream",
     "text": [
      "  4%|▍         | 4313/100000 [07:03<1:43:20, 15.43it/s]"
     ]
    },
    {
     "name": "stdout",
     "output_type": "stream",
     "text": [
      "DQA player 1 won\n",
      "DQA player 1 won\n",
      "DQA player 1 won\n",
      "DQA player 1 won\n"
     ]
    },
    {
     "name": "stderr",
     "output_type": "stream",
     "text": [
      "\r",
      "  4%|▍         | 4315/100000 [07:03<1:44:44, 15.22it/s]"
     ]
    },
    {
     "name": "stdout",
     "output_type": "stream",
     "text": [
      "DQA player 1 won\n",
      "DQA player 1 won\n"
     ]
    },
    {
     "name": "stderr",
     "output_type": "stream",
     "text": [
      "  4%|▍         | 4319/100000 [07:03<1:58:22, 13.47it/s]"
     ]
    },
    {
     "name": "stdout",
     "output_type": "stream",
     "text": [
      "DQA player 2 won\n",
      "DQA player 2 won\n",
      "DQA player 1 won\n",
      "DQA player 1 won\n",
      "DQA player 1 won\n"
     ]
    },
    {
     "name": "stderr",
     "output_type": "stream",
     "text": [
      "  4%|▍         | 4323/100000 [07:03<1:55:38, 13.79it/s]"
     ]
    },
    {
     "name": "stdout",
     "output_type": "stream",
     "text": [
      "DQA player 2 won\n",
      "DQA player 2 won\n",
      "DQA player 1 won\n",
      "DQA player 2 won\n",
      "DQA player 2 won\n"
     ]
    },
    {
     "name": "stderr",
     "output_type": "stream",
     "text": [
      "  4%|▍         | 4328/100000 [07:04<1:35:26, 16.71it/s]"
     ]
    },
    {
     "name": "stdout",
     "output_type": "stream",
     "text": [
      "DQA player 1 won\n",
      "DQA player 1 won\n",
      "DQA player 1 won\n",
      "DQA player 2 won\n",
      "DQA player 2 won\n",
      "DQA player 1 won\n"
     ]
    },
    {
     "name": "stderr",
     "output_type": "stream",
     "text": [
      "\r",
      "  4%|▍         | 4330/100000 [07:04<1:31:58, 17.34it/s]"
     ]
    },
    {
     "name": "stdout",
     "output_type": "stream",
     "text": [
      "DQA player 1 won\n",
      "DQA player 1 won\n",
      "DQA player 2 won\n",
      "DQA player 2 won\n"
     ]
    },
    {
     "name": "stderr",
     "output_type": "stream",
     "text": [
      "  4%|▍         | 4334/100000 [07:04<1:37:16, 16.39it/s]"
     ]
    },
    {
     "name": "stdout",
     "output_type": "stream",
     "text": [
      "DQA player 2 won\n",
      "DQA player 2 won\n",
      "DQA player 1 won\n",
      "DQA player 2 won\n",
      "DQA player 2 won\n",
      "DQA player 1 won\n"
     ]
    },
    {
     "name": "stderr",
     "output_type": "stream",
     "text": [
      "  4%|▍         | 4338/100000 [07:04<1:44:21, 15.28it/s]"
     ]
    },
    {
     "name": "stdout",
     "output_type": "stream",
     "text": [
      "DQA player 1 won\n",
      "DQA player 1 won\n",
      "DQA player 2 won\n",
      "DQA player 2 won\n"
     ]
    },
    {
     "name": "stderr",
     "output_type": "stream",
     "text": [
      "  4%|▍         | 4342/100000 [07:05<1:43:12, 15.45it/s]"
     ]
    },
    {
     "name": "stdout",
     "output_type": "stream",
     "text": [
      "DQA player 1 won\n",
      "DQA player 2 won\n",
      "DQA player 2 won\n",
      "DQA player 2 won\n",
      "DQA player 2 won\n",
      "DQA player 2 won\n",
      "DQA player 2 won\n"
     ]
    },
    {
     "name": "stderr",
     "output_type": "stream",
     "text": [
      "\r",
      "  4%|▍         | 4345/100000 [07:05<1:34:35, 16.85it/s]"
     ]
    },
    {
     "name": "stdout",
     "output_type": "stream",
     "text": [
      "DQA player 1 won\n",
      "DQA player 1 won\n",
      "DQA player 1 won\n",
      "DQA player 1 won\n"
     ]
    },
    {
     "name": "stderr",
     "output_type": "stream",
     "text": [
      "  4%|▍         | 4349/100000 [07:05<1:35:55, 16.62it/s]"
     ]
    },
    {
     "name": "stdout",
     "output_type": "stream",
     "text": [
      "DQA player 2 won\n",
      "DQA player 2 won\n",
      "DQA player 1 won\n",
      "DQA player 1 won\n",
      "DQA player 2 won\n",
      "DQA player 2 won\n"
     ]
    },
    {
     "name": "stderr",
     "output_type": "stream",
     "text": [
      "  4%|▍         | 4353/100000 [07:05<1:32:58, 17.14it/s]"
     ]
    },
    {
     "name": "stdout",
     "output_type": "stream",
     "text": [
      "DQA player 1 won\n",
      "DQA player 1 won\n",
      "DQA player 1 won\n",
      "DQA player 2 won\n",
      "DQA player 2 won\n"
     ]
    },
    {
     "name": "stderr",
     "output_type": "stream",
     "text": [
      "  4%|▍         | 4357/100000 [07:05<1:31:17, 17.46it/s]"
     ]
    },
    {
     "name": "stdout",
     "output_type": "stream",
     "text": [
      "DQA player 1 won\n",
      "DQA player 2 won\n",
      "DQA player 2 won\n",
      "DQA player 1 won\n",
      "DQA player 1 won\n"
     ]
    },
    {
     "name": "stderr",
     "output_type": "stream",
     "text": [
      "  4%|▍         | 4361/100000 [07:06<1:39:41, 15.99it/s]"
     ]
    },
    {
     "name": "stdout",
     "output_type": "stream",
     "text": [
      "DQA player 2 won\n",
      "DQA player 2 won\n",
      "DQA player 1 won\n",
      "DQA player 2 won\n",
      "DQA player 2 won\n"
     ]
    },
    {
     "name": "stderr",
     "output_type": "stream",
     "text": [
      "  4%|▍         | 4365/100000 [07:06<1:37:55, 16.28it/s]"
     ]
    },
    {
     "name": "stdout",
     "output_type": "stream",
     "text": [
      "DQA player 2 won\n",
      "DQA player 2 won\n",
      "DQA player 2 won\n",
      "DQA player 2 won\n",
      "DQA player 1 won\n",
      "DQA player 1 won\n"
     ]
    },
    {
     "name": "stderr",
     "output_type": "stream",
     "text": [
      "  4%|▍         | 4369/100000 [07:06<1:38:50, 16.12it/s]"
     ]
    },
    {
     "name": "stdout",
     "output_type": "stream",
     "text": [
      "DQA player 2 won\n",
      "DQA player 2 won\n",
      "DQA player 1 won\n",
      "DQA player 2 won\n",
      "DQA player 2 won\n",
      "DQA player 1 won\n"
     ]
    },
    {
     "name": "stderr",
     "output_type": "stream",
     "text": [
      "\r",
      "  4%|▍         | 4371/100000 [07:06<1:41:53, 15.64it/s]"
     ]
    },
    {
     "name": "stdout",
     "output_type": "stream",
     "text": [
      "DQA player 2 won\n",
      "DQA player 2 won\n",
      "DQA player 2 won\n",
      "DQA player 2 won\n",
      "DQA player 1 won\n",
      "DQA player 2 won\n",
      "DQA player 2 won\n"
     ]
    },
    {
     "name": "stderr",
     "output_type": "stream",
     "text": [
      "  4%|▍         | 4376/100000 [07:07<1:32:31, 17.22it/s]"
     ]
    },
    {
     "name": "stdout",
     "output_type": "stream",
     "text": [
      "DQA player 1 won\n",
      "DQA player 2 won\n",
      "DQA player 2 won\n",
      "DQA player 2 won\n",
      "DQA player 2 won\n",
      "DQA player 2 won\n",
      "DQA player 2 won\n"
     ]
    },
    {
     "name": "stderr",
     "output_type": "stream",
     "text": [
      "  4%|▍         | 4380/100000 [07:07<1:35:32, 16.68it/s]"
     ]
    },
    {
     "name": "stdout",
     "output_type": "stream",
     "text": [
      "DQA player 2 won\n",
      "DQA player 2 won\n",
      "DQA player 2 won\n",
      "DQA player 2 won\n",
      "DQA player 1 won\n",
      "DQA player 1 won\n"
     ]
    },
    {
     "name": "stderr",
     "output_type": "stream",
     "text": [
      "  4%|▍         | 4384/100000 [07:07<1:41:08, 15.75it/s]"
     ]
    },
    {
     "name": "stdout",
     "output_type": "stream",
     "text": [
      "DQA player 1 won\n",
      "DQA player 1 won\n",
      "DQA player 1 won\n"
     ]
    },
    {
     "name": "stderr",
     "output_type": "stream",
     "text": [
      "  4%|▍         | 4388/100000 [07:07<1:34:35, 16.85it/s]"
     ]
    },
    {
     "name": "stdout",
     "output_type": "stream",
     "text": [
      "DQA player 1 won\n",
      "DQA player 2 won\n",
      "DQA player 2 won\n",
      "DQA player 1 won\n",
      "DQA player 2 won\n",
      "DQA player 2 won\n"
     ]
    },
    {
     "name": "stderr",
     "output_type": "stream",
     "text": [
      "\r",
      "  4%|▍         | 4391/100000 [07:08<1:29:26, 17.82it/s]"
     ]
    },
    {
     "name": "stdout",
     "output_type": "stream",
     "text": [
      "DQA player 1 won\n",
      "DQA player 1 won\n",
      "DQA player 1 won\n",
      "DQA player 1 won\n",
      "DQA player 1 won\n"
     ]
    },
    {
     "name": "stderr",
     "output_type": "stream",
     "text": [
      "  4%|▍         | 4397/100000 [07:08<1:24:23, 18.88it/s]"
     ]
    },
    {
     "name": "stdout",
     "output_type": "stream",
     "text": [
      "DQA player 1 won\n",
      "DQA player 1 won\n",
      "DQA player 2 won\n",
      "DQA player 2 won\n",
      "DQA player 1 won\n"
     ]
    },
    {
     "name": "stderr",
     "output_type": "stream",
     "text": [
      "  4%|▍         | 4401/100000 [07:08<1:23:40, 19.04it/s]"
     ]
    },
    {
     "name": "stdout",
     "output_type": "stream",
     "text": [
      "DQA player 1 won\n",
      "DQA player 1 won\n",
      "DQA player 2 won\n",
      "DQA player 2 won\n",
      "DQA player 1 won\n"
     ]
    },
    {
     "name": "stderr",
     "output_type": "stream",
     "text": [
      "  4%|▍         | 4405/100000 [07:08<1:27:32, 18.20it/s]"
     ]
    },
    {
     "name": "stdout",
     "output_type": "stream",
     "text": [
      "DQA player 1 won\n",
      "DQA player 1 won\n",
      "DQA player 1 won\n",
      "DQA player 2 won\n",
      "DQA player 2 won\n"
     ]
    },
    {
     "name": "stderr",
     "output_type": "stream",
     "text": [
      "  4%|▍         | 4410/100000 [07:09<1:21:17, 19.60it/s]"
     ]
    },
    {
     "name": "stdout",
     "output_type": "stream",
     "text": [
      "DQA player 1 won\n",
      "DQA player 1 won\n",
      "DQA player 1 won\n",
      "DQA player 1 won\n",
      "DQA player 1 won\n"
     ]
    },
    {
     "name": "stderr",
     "output_type": "stream",
     "text": [
      "\r",
      "  4%|▍         | 4412/100000 [07:09<1:27:54, 18.12it/s]"
     ]
    },
    {
     "name": "stdout",
     "output_type": "stream",
     "text": [
      "DQA player 2 won\n",
      "DQA player 2 won\n",
      "DQA player 2 won\n",
      "DQA player 2 won\n",
      "DQA player 1 won\n"
     ]
    },
    {
     "name": "stderr",
     "output_type": "stream",
     "text": [
      "  4%|▍         | 4416/100000 [07:09<1:31:45, 17.36it/s]"
     ]
    },
    {
     "name": "stdout",
     "output_type": "stream",
     "text": [
      "DQA player 1 won\n",
      "DQA player 1 won\n",
      "DQA player 2 won\n",
      "DQA player 2 won\n",
      "DQA player 1 won\n"
     ]
    },
    {
     "name": "stderr",
     "output_type": "stream",
     "text": [
      "  4%|▍         | 4421/100000 [07:09<1:26:24, 18.44it/s]"
     ]
    },
    {
     "name": "stdout",
     "output_type": "stream",
     "text": [
      "DQA player 2 won\n",
      "DQA player 2 won\n",
      "DQA player 1 won\n",
      "DQA player 1 won\n",
      "DQA player 1 won\n"
     ]
    },
    {
     "name": "stderr",
     "output_type": "stream",
     "text": [
      "  4%|▍         | 4426/100000 [07:09<1:21:58, 19.43it/s]"
     ]
    },
    {
     "name": "stdout",
     "output_type": "stream",
     "text": [
      "DQA player 1 won\n",
      "DQA player 1 won\n",
      "DQA player 1 won\n",
      "DQA player 1 won\n",
      "DQA player 1 won\n"
     ]
    },
    {
     "name": "stderr",
     "output_type": "stream",
     "text": [
      "\r",
      "  4%|▍         | 4428/100000 [07:09<1:24:37, 18.82it/s]"
     ]
    },
    {
     "name": "stdout",
     "output_type": "stream",
     "text": [
      "DQA player 1 won\n",
      "DQA player 1 won\n",
      "DQA player 1 won\n",
      "DQA player 1 won\n",
      "DQA player 2 won\n"
     ]
    },
    {
     "name": "stderr",
     "output_type": "stream",
     "text": [
      "  4%|▍         | 4433/100000 [07:10<1:30:10, 17.66it/s]"
     ]
    },
    {
     "name": "stdout",
     "output_type": "stream",
     "text": [
      "DQA player 2 won\n",
      "DQA player 1 won\n",
      "DQA player 1 won\n",
      "DQA player 1 won\n"
     ]
    },
    {
     "name": "stderr",
     "output_type": "stream",
     "text": [
      "  4%|▍         | 4437/100000 [07:10<1:34:15, 16.90it/s]"
     ]
    },
    {
     "name": "stdout",
     "output_type": "stream",
     "text": [
      "DQA player 2 won\n",
      "DQA player 2 won\n",
      "DQA player 1 won\n",
      "DQA player 1 won\n",
      "DQA player 1 won\n"
     ]
    },
    {
     "name": "stderr",
     "output_type": "stream",
     "text": [
      "  4%|▍         | 4442/100000 [07:10<1:27:18, 18.24it/s]"
     ]
    },
    {
     "name": "stdout",
     "output_type": "stream",
     "text": [
      "DQA player 1 won\n",
      "DQA player 1 won\n",
      "DQA player 1 won\n",
      "DQA player 2 won\n",
      "DQA player 2 won\n",
      "DQA player 1 won\n"
     ]
    },
    {
     "name": "stderr",
     "output_type": "stream",
     "text": [
      "  4%|▍         | 4446/100000 [07:10<1:26:48, 18.34it/s]"
     ]
    },
    {
     "name": "stdout",
     "output_type": "stream",
     "text": [
      "DQA player 2 won\n",
      "DQA player 2 won\n",
      "DQA player 1 won\n",
      "DQA player 1 won\n",
      "DQA player 1 won\n"
     ]
    },
    {
     "name": "stderr",
     "output_type": "stream",
     "text": [
      "  4%|▍         | 4451/100000 [07:11<1:24:21, 18.88it/s]"
     ]
    },
    {
     "name": "stdout",
     "output_type": "stream",
     "text": [
      "DQA player 2 won\n",
      "DQA player 2 won\n",
      "DQA player 1 won\n",
      "DQA player 1 won\n",
      "DQA player 1 won\n",
      "DQA player 1 won\n"
     ]
    },
    {
     "name": "stderr",
     "output_type": "stream",
     "text": [
      "  4%|▍         | 4457/100000 [07:11<1:18:27, 20.29it/s]"
     ]
    },
    {
     "name": "stdout",
     "output_type": "stream",
     "text": [
      "DQA player 1 won\n",
      "DQA player 2 won\n",
      "DQA player 2 won\n",
      "DQA player 2 won\n",
      "DQA player 2 won\n",
      "DQA player 1 won\n",
      "DQA player 1 won\n"
     ]
    },
    {
     "name": "stderr",
     "output_type": "stream",
     "text": [
      "\r",
      "  4%|▍         | 4460/100000 [07:11<1:19:57, 19.92it/s]"
     ]
    },
    {
     "name": "stdout",
     "output_type": "stream",
     "text": [
      "DQA player 1 won\n",
      "DQA player 1 won\n",
      "DQA player 2 won\n",
      "DQA player 2 won\n",
      "DQA player 1 won\n"
     ]
    },
    {
     "name": "stderr",
     "output_type": "stream",
     "text": [
      "  4%|▍         | 4465/100000 [07:11<1:25:19, 18.66it/s]"
     ]
    },
    {
     "name": "stdout",
     "output_type": "stream",
     "text": [
      "DQA player 1 won\n",
      "DQA player 2 won\n",
      "DQA player 2 won\n",
      "DQA player 2 won\n",
      "DQA player 2 won\n",
      "DQA player 1 won\n"
     ]
    },
    {
     "name": "stderr",
     "output_type": "stream",
     "text": [
      "\r",
      "  4%|▍         | 4468/100000 [07:12<1:20:30, 19.78it/s]"
     ]
    },
    {
     "name": "stdout",
     "output_type": "stream",
     "text": [
      "DQA player 2 won\n",
      "DQA player 2 won\n",
      "DQA player 1 won\n",
      "DQA player 1 won\n",
      "DQA player 1 won\n",
      "DQA player 1 won\n"
     ]
    },
    {
     "name": "stderr",
     "output_type": "stream",
     "text": [
      "  4%|▍         | 4474/100000 [07:12<1:14:36, 21.34it/s]"
     ]
    },
    {
     "name": "stdout",
     "output_type": "stream",
     "text": [
      "DQA player 1 won\n",
      "DQA player 1 won\n",
      "DQA player 1 won\n",
      "DQA player 2 won\n",
      "DQA player 2 won\n",
      "DQA player 1 won\n"
     ]
    },
    {
     "name": "stderr",
     "output_type": "stream",
     "text": [
      "\r",
      "  4%|▍         | 4477/100000 [07:12<1:10:41, 22.52it/s]"
     ]
    },
    {
     "name": "stdout",
     "output_type": "stream",
     "text": [
      "DQA player 1 won\n",
      "DQA player 1 won\n",
      "DQA player 1 won\n"
     ]
    },
    {
     "name": "stderr",
     "output_type": "stream",
     "text": [
      "  4%|▍         | 4483/100000 [07:12<1:20:44, 19.72it/s]"
     ]
    },
    {
     "name": "stdout",
     "output_type": "stream",
     "text": [
      "DQA player 2 won\n",
      "DQA player 2 won\n",
      "DQA player 1 won\n",
      "DQA player 1 won\n",
      "DQA player 2 won\n",
      "DQA player 2 won\n",
      "DQA player 1 won\n",
      "DQA player 1 won\n"
     ]
    },
    {
     "name": "stderr",
     "output_type": "stream",
     "text": [
      "  4%|▍         | 4489/100000 [07:13<1:13:59, 21.51it/s]"
     ]
    },
    {
     "name": "stdout",
     "output_type": "stream",
     "text": [
      "DQA player 1 won\n",
      "DQA player 1 won\n",
      "DQA player 2 won\n",
      "DQA player 2 won\n",
      "DQA player 2 won\n",
      "DQA player 2 won\n",
      "DQA player 2 won\n",
      "DQA player 2 won\n"
     ]
    },
    {
     "name": "stderr",
     "output_type": "stream",
     "text": [
      "\r",
      "  4%|▍         | 4492/100000 [07:13<1:08:53, 23.10it/s]"
     ]
    },
    {
     "name": "stdout",
     "output_type": "stream",
     "text": [
      "DQA player 1 won\n",
      "DQA player 1 won\n",
      "DQA player 1 won\n",
      "DQA player 2 won\n",
      "DQA player 2 won\n"
     ]
    },
    {
     "name": "stderr",
     "output_type": "stream",
     "text": [
      "  4%|▍         | 4498/100000 [07:13<1:13:07, 21.77it/s]"
     ]
    },
    {
     "name": "stdout",
     "output_type": "stream",
     "text": [
      "DQA player 1 won\n",
      "DQA player 1 won\n",
      "DQA player 1 won\n",
      "DQA player 2 won\n",
      "DQA player 2 won\n",
      "DQA player 1 won\n"
     ]
    },
    {
     "name": "stderr",
     "output_type": "stream",
     "text": [
      "\r",
      "  5%|▍         | 4501/100000 [07:13<1:23:18, 19.11it/s]"
     ]
    },
    {
     "name": "stdout",
     "output_type": "stream",
     "text": [
      "DQA player 2 won\n",
      "DQA player 2 won\n",
      "DQA player 2 won\n",
      "DQA player 2 won\n",
      "DQA player 1 won\n"
     ]
    },
    {
     "name": "stderr",
     "output_type": "stream",
     "text": [
      "\r",
      "  5%|▍         | 4504/100000 [07:13<1:27:28, 18.19it/s]"
     ]
    },
    {
     "name": "stdout",
     "output_type": "stream",
     "text": [
      "DQA player 1 won\n",
      "DQA player 2 won\n",
      "DQA player 2 won\n",
      "DQA player 1 won\n",
      "DQA player 2 won\n",
      "DQA player 2 won\n",
      "DQA player 1 won\n"
     ]
    },
    {
     "name": "stderr",
     "output_type": "stream",
     "text": [
      "  5%|▍         | 4510/100000 [07:14<1:13:31, 21.65it/s]"
     ]
    },
    {
     "name": "stdout",
     "output_type": "stream",
     "text": [
      "DQA player 1 won\n",
      "DQA player 1 won\n",
      "DQA player 1 won\n",
      "DQA player 1 won\n",
      "DQA player 2 won\n",
      "DQA player 2 won\n",
      "DQA player 1 won\n"
     ]
    },
    {
     "name": "stderr",
     "output_type": "stream",
     "text": [
      "  5%|▍         | 4516/100000 [07:14<1:08:01, 23.40it/s]"
     ]
    },
    {
     "name": "stdout",
     "output_type": "stream",
     "text": [
      "DQA player 1 won\n",
      "DQA player 1 won\n",
      "DQA player 1 won\n",
      "DQA player 1 won\n",
      "DQA player 1 won\n"
     ]
    },
    {
     "name": "stderr",
     "output_type": "stream",
     "text": [
      "  5%|▍         | 4522/100000 [07:14<1:08:40, 23.17it/s]"
     ]
    },
    {
     "name": "stdout",
     "output_type": "stream",
     "text": [
      "DQA player 1 won\n",
      "DQA player 1 won\n",
      "DQA player 2 won\n",
      "DQA player 2 won\n",
      "DQA player 1 won\n",
      "DQA player 1 won\n"
     ]
    },
    {
     "name": "stderr",
     "output_type": "stream",
     "text": [
      "\r",
      "  5%|▍         | 4525/100000 [07:14<1:08:43, 23.15it/s]"
     ]
    },
    {
     "name": "stdout",
     "output_type": "stream",
     "text": [
      "DQA player 1 won\n",
      "DQA player 2 won\n",
      "DQA player 2 won\n",
      "DQA player 1 won\n",
      "DQA player 1 won\n",
      "DQA player 2 won\n",
      "DQA player 2 won\n"
     ]
    },
    {
     "name": "stderr",
     "output_type": "stream",
     "text": [
      "  5%|▍         | 4531/100000 [07:15<1:08:13, 23.32it/s]"
     ]
    },
    {
     "name": "stdout",
     "output_type": "stream",
     "text": [
      "DQA player 1 won\n",
      "DQA player 1 won\n",
      "DQA player 1 won\n",
      "DQA player 1 won\n",
      "DQA player 2 won\n",
      "DQA player 2 won\n"
     ]
    },
    {
     "name": "stderr",
     "output_type": "stream",
     "text": [
      "  5%|▍         | 4537/100000 [07:15<1:09:42, 22.82it/s]"
     ]
    },
    {
     "name": "stdout",
     "output_type": "stream",
     "text": [
      "DQA player 2 won\n",
      "DQA player 2 won\n",
      "DQA player 1 won\n",
      "DQA player 1 won\n",
      "DQA player 2 won\n",
      "DQA player 2 won\n",
      "DQA player 1 won\n",
      "DQA player 2 won\n"
     ]
    },
    {
     "name": "stderr",
     "output_type": "stream",
     "text": [
      "\r",
      "  5%|▍         | 4540/100000 [07:15<1:12:00, 22.10it/s]"
     ]
    },
    {
     "name": "stdout",
     "output_type": "stream",
     "text": [
      "DQA player 2 won\n",
      "DQA player 1 won\n",
      "DQA player 1 won\n",
      "DQA player 1 won\n",
      "DQA player 2 won\n",
      "DQA player 2 won\n"
     ]
    },
    {
     "name": "stderr",
     "output_type": "stream",
     "text": [
      "  5%|▍         | 4546/100000 [07:15<1:12:49, 21.84it/s]"
     ]
    },
    {
     "name": "stdout",
     "output_type": "stream",
     "text": [
      "DQA player 1 won\n",
      "DQA player 1 won\n",
      "DQA player 1 won\n",
      "DQA player 2 won\n",
      "DQA player 2 won\n",
      "DQA player 1 won\n"
     ]
    },
    {
     "name": "stderr",
     "output_type": "stream",
     "text": [
      "  5%|▍         | 4552/100000 [07:15<1:13:58, 21.50it/s]"
     ]
    },
    {
     "name": "stdout",
     "output_type": "stream",
     "text": [
      "DQA player 2 won\n",
      "DQA player 2 won\n",
      "DQA player 1 won\n",
      "DQA player 2 won\n",
      "DQA player 2 won\n",
      "DQA player 2 won\n",
      "DQA player 2 won\n",
      "DQA player 1 won\n"
     ]
    },
    {
     "name": "stderr",
     "output_type": "stream",
     "text": [
      "  5%|▍         | 4558/100000 [07:16<1:06:27, 23.94it/s]"
     ]
    },
    {
     "name": "stdout",
     "output_type": "stream",
     "text": [
      "DQA player 1 won\n",
      "DQA player 1 won\n",
      "DQA player 1 won\n",
      "DQA player 1 won\n",
      "DQA player 1 won\n",
      "DQA player 1 won\n"
     ]
    },
    {
     "name": "stderr",
     "output_type": "stream",
     "text": [
      "  5%|▍         | 4564/100000 [07:16<1:04:24, 24.69it/s]"
     ]
    },
    {
     "name": "stdout",
     "output_type": "stream",
     "text": [
      "DQA player 1 won\n",
      "DQA player 1 won\n",
      "DQA player 1 won\n",
      "DQA player 1 won\n",
      "DQA player 2 won\n",
      "DQA player 2 won\n",
      "DQA player 1 won\n"
     ]
    },
    {
     "name": "stderr",
     "output_type": "stream",
     "text": [
      "\r",
      "  5%|▍         | 4567/100000 [07:16<1:03:37, 25.00it/s]"
     ]
    },
    {
     "name": "stdout",
     "output_type": "stream",
     "text": [
      "DQA player 1 won\n",
      "DQA player 2 won\n",
      "DQA player 2 won\n",
      "DQA player 1 won\n",
      "DQA player 1 won\n",
      "DQA player 1 won\n"
     ]
    },
    {
     "name": "stderr",
     "output_type": "stream",
     "text": [
      "\r",
      "  5%|▍         | 4570/100000 [07:16<1:07:44, 23.48it/s]"
     ]
    },
    {
     "name": "stdout",
     "output_type": "stream",
     "text": [
      "DQA player 2 won\n",
      "DQA player 2 won\n",
      "DQA player 2 won\n",
      "DQA player 2 won\n"
     ]
    },
    {
     "name": "stderr",
     "output_type": "stream",
     "text": [
      "\r",
      "  5%|▍         | 4573/100000 [07:17<1:44:27, 15.22it/s]"
     ]
    },
    {
     "name": "stdout",
     "output_type": "stream",
     "text": [
      "DQA player 2 won\n",
      "DQA player 2 won\n",
      "DQA player 2 won\n",
      "DQA player 2 won\n",
      "DQA player 1 won\n",
      "DQA player 1 won\n",
      "DQA player 1 won\n"
     ]
    },
    {
     "name": "stderr",
     "output_type": "stream",
     "text": [
      "  5%|▍         | 4579/100000 [07:17<1:29:05, 17.85it/s]"
     ]
    },
    {
     "name": "stdout",
     "output_type": "stream",
     "text": [
      "DQA player 1 won\n",
      "DQA player 1 won\n",
      "DQA player 1 won\n",
      "DQA player 2 won\n",
      "DQA player 2 won\n",
      "DQA player 1 won\n"
     ]
    },
    {
     "name": "stderr",
     "output_type": "stream",
     "text": [
      "  5%|▍         | 4584/100000 [07:18<2:38:46, 10.02it/s]"
     ]
    },
    {
     "name": "stdout",
     "output_type": "stream",
     "text": [
      "DQA player 1 won\n",
      "DQA player 1 won\n",
      "DQA player 1 won\n"
     ]
    },
    {
     "name": "stderr",
     "output_type": "stream",
     "text": [
      "\r",
      "  5%|▍         | 4586/100000 [07:18<2:18:48, 11.46it/s]"
     ]
    },
    {
     "name": "stdout",
     "output_type": "stream",
     "text": [
      "DQA player 2 won\n",
      "DQA player 2 won\n",
      "DQA player 2 won\n",
      "DQA player 2 won\n",
      "DQA player 1 won\n",
      "DQA player 1 won\n",
      "DQA player 1 won\n"
     ]
    },
    {
     "name": "stderr",
     "output_type": "stream",
     "text": [
      "  5%|▍         | 4592/100000 [07:18<1:42:20, 15.54it/s]"
     ]
    },
    {
     "name": "stdout",
     "output_type": "stream",
     "text": [
      "DQA player 1 won\n",
      "DQA player 1 won\n",
      "DQA player 1 won\n",
      "DQA player 2 won\n",
      "DQA player 2 won\n",
      "DQA player 1 won\n"
     ]
    },
    {
     "name": "stderr",
     "output_type": "stream",
     "text": [
      "  5%|▍         | 4598/100000 [07:18<1:23:18, 19.09it/s]"
     ]
    },
    {
     "name": "stdout",
     "output_type": "stream",
     "text": [
      "DQA player 1 won\n",
      "DQA player 2 won\n",
      "DQA player 2 won\n",
      "DQA player 1 won\n",
      "DQA player 1 won\n",
      "DQA player 1 won\n"
     ]
    },
    {
     "name": "stderr",
     "output_type": "stream",
     "text": [
      "  5%|▍         | 4604/100000 [07:19<1:19:55, 19.89it/s]"
     ]
    },
    {
     "name": "stdout",
     "output_type": "stream",
     "text": [
      "DQA player 1 won\n",
      "DQA player 1 won\n",
      "DQA player 1 won\n",
      "DQA player 1 won\n",
      "DQA player 1 won\n",
      "DQA player 2 won\n",
      "DQA player 2 won\n",
      "DQA player 1 won\n"
     ]
    },
    {
     "name": "stderr",
     "output_type": "stream",
     "text": [
      "  5%|▍         | 4610/100000 [07:19<1:36:58, 16.40it/s]"
     ]
    },
    {
     "name": "stdout",
     "output_type": "stream",
     "text": [
      "DQA player 1 won\n",
      "DQA player 1 won\n",
      "DQA player 1 won\n",
      "DQA player 1 won\n",
      "DQA player 2 won\n"
     ]
    },
    {
     "name": "stderr",
     "output_type": "stream",
     "text": [
      "  5%|▍         | 4615/100000 [07:19<1:29:12, 17.82it/s]"
     ]
    },
    {
     "name": "stdout",
     "output_type": "stream",
     "text": [
      "DQA player 2 won\n",
      "DQA player 1 won\n",
      "DQA player 1 won\n",
      "DQA player 1 won\n",
      "DQA player 1 won\n"
     ]
    },
    {
     "name": "stderr",
     "output_type": "stream",
     "text": [
      "\r",
      "  5%|▍         | 4618/100000 [07:19<1:23:21, 19.07it/s]"
     ]
    },
    {
     "name": "stdout",
     "output_type": "stream",
     "text": [
      "DQA player 2 won\n",
      "DQA player 2 won\n",
      "DQA player 1 won\n",
      "DQA player 1 won\n",
      "DQA player 2 won\n",
      "DQA player 2 won\n",
      "DQA player 1 won\n"
     ]
    },
    {
     "name": "stderr",
     "output_type": "stream",
     "text": [
      "  5%|▍         | 4624/100000 [07:20<1:13:27, 21.64it/s]"
     ]
    },
    {
     "name": "stdout",
     "output_type": "stream",
     "text": [
      "DQA player 1 won\n",
      "DQA player 1 won\n",
      "DQA player 2 won\n",
      "DQA player 2 won\n",
      "DQA player 1 won\n",
      "DQA player 1 won\n",
      "DQA player 2 won\n"
     ]
    },
    {
     "name": "stderr",
     "output_type": "stream",
     "text": [
      "\r",
      "  5%|▍         | 4627/100000 [07:20<1:12:02, 22.06it/s]"
     ]
    },
    {
     "name": "stdout",
     "output_type": "stream",
     "text": [
      "DQA player 2 won\n",
      "DQA player 2 won\n",
      "DQA player 2 won\n",
      "DQA player 1 won\n",
      "DQA player 2 won\n",
      "DQA player 2 won\n"
     ]
    },
    {
     "name": "stderr",
     "output_type": "stream",
     "text": [
      "  5%|▍         | 4632/100000 [07:21<2:11:11, 12.11it/s]"
     ]
    },
    {
     "name": "stdout",
     "output_type": "stream",
     "text": [
      "DQA player 2 won\n",
      "DQA player 2 won\n",
      "DQA player 2 won\n",
      "DQA player 2 won\n",
      "DQA player 1 won\n"
     ]
    },
    {
     "name": "stderr",
     "output_type": "stream",
     "text": [
      "  5%|▍         | 4637/100000 [07:21<1:42:02, 15.57it/s]"
     ]
    },
    {
     "name": "stdout",
     "output_type": "stream",
     "text": [
      "DQA player 1 won\n",
      "DQA player 2 won\n",
      "DQA player 2 won\n",
      "DQA player 2 won\n",
      "DQA player 2 won\n",
      "DQA player 1 won\n",
      "DQA player 1 won\n"
     ]
    },
    {
     "name": "stderr",
     "output_type": "stream",
     "text": [
      "  5%|▍         | 4642/100000 [07:21<1:32:00, 17.27it/s]"
     ]
    },
    {
     "name": "stdout",
     "output_type": "stream",
     "text": [
      "DQA player 2 won\n",
      "DQA player 2 won\n",
      "DQA player 1 won\n",
      "DQA player 1 won\n",
      "DQA player 2 won\n",
      "DQA player 2 won\n",
      "DQA player 1 won\n"
     ]
    },
    {
     "name": "stderr",
     "output_type": "stream",
     "text": [
      "\r",
      "  5%|▍         | 4645/100000 [07:21<1:26:07, 18.45it/s]"
     ]
    },
    {
     "name": "stdout",
     "output_type": "stream",
     "text": [
      "DQA player 2 won\n",
      "DQA player 2 won\n",
      "DQA player 2 won\n",
      "DQA player 2 won\n",
      "DQA player 2 won\n",
      "DQA player 2 won\n",
      "DQA player 2 won\n",
      "DQA player 2 won\n"
     ]
    },
    {
     "name": "stderr",
     "output_type": "stream",
     "text": [
      "\r",
      "  5%|▍         | 4648/100000 [07:21<1:44:20, 15.23it/s]"
     ]
    },
    {
     "name": "stdout",
     "output_type": "stream",
     "text": [
      "DQA player 1 won\n",
      "DQA player 1 won\n"
     ]
    },
    {
     "name": "stderr",
     "output_type": "stream",
     "text": [
      "  5%|▍         | 4652/100000 [07:22<1:49:23, 14.53it/s]"
     ]
    },
    {
     "name": "stdout",
     "output_type": "stream",
     "text": [
      "DQA player 1 won\n",
      "DQA player 1 won\n",
      "DQA player 2 won\n",
      "DQA player 2 won\n",
      "DQA player 1 won\n"
     ]
    },
    {
     "name": "stderr",
     "output_type": "stream",
     "text": [
      "\r",
      "  5%|▍         | 4655/100000 [07:22<1:35:52, 16.57it/s]"
     ]
    },
    {
     "name": "stdout",
     "output_type": "stream",
     "text": [
      "DQA player 1 won\n",
      "DQA player 2 won\n",
      "DQA player 2 won\n",
      "DQA player 1 won\n",
      "DQA player 1 won\n",
      "DQA player 2 won\n",
      "DQA player 2 won\n"
     ]
    },
    {
     "name": "stderr",
     "output_type": "stream",
     "text": [
      "  5%|▍         | 4661/100000 [07:22<1:20:07, 19.83it/s]"
     ]
    },
    {
     "name": "stdout",
     "output_type": "stream",
     "text": [
      "DQA player 1 won\n",
      "DQA player 1 won\n",
      "DQA player 2 won\n",
      "DQA player 2 won\n",
      "DQA player 1 won\n",
      "DQA player 1 won\n"
     ]
    },
    {
     "name": "stderr",
     "output_type": "stream",
     "text": [
      "\r",
      "  5%|▍         | 4664/100000 [07:22<1:20:46, 19.67it/s]"
     ]
    },
    {
     "name": "stdout",
     "output_type": "stream",
     "text": [
      "DQA player 1 won\n",
      "DQA player 2 won\n",
      "DQA player 2 won\n",
      "DQA player 2 won\n",
      "DQA player 2 won\n"
     ]
    },
    {
     "name": "stderr",
     "output_type": "stream",
     "text": [
      "\r",
      "  5%|▍         | 4667/100000 [07:23<1:39:46, 15.92it/s]"
     ]
    },
    {
     "name": "stdout",
     "output_type": "stream",
     "text": [
      "DQA player 1 won\n",
      "DQA player 1 won\n",
      "DQA player 1 won\n",
      "DQA player 2 won\n",
      "DQA player 2 won\n"
     ]
    },
    {
     "name": "stderr",
     "output_type": "stream",
     "text": [
      "  5%|▍         | 4673/100000 [07:23<1:20:47, 19.66it/s]"
     ]
    },
    {
     "name": "stdout",
     "output_type": "stream",
     "text": [
      "DQA player 1 won\n",
      "DQA player 1 won\n",
      "DQA player 1 won\n",
      "DQA player 1 won\n",
      "DQA player 1 won\n",
      "DQA player 2 won\n"
     ]
    },
    {
     "name": "stderr",
     "output_type": "stream",
     "text": [
      "\r",
      "  5%|▍         | 4676/100000 [07:23<1:18:56, 20.12it/s]"
     ]
    },
    {
     "name": "stdout",
     "output_type": "stream",
     "text": [
      "DQA player 2 won\n",
      "DQA player 1 won\n",
      "DQA player 2 won\n",
      "DQA player 2 won\n",
      "DQA player 1 won\n"
     ]
    },
    {
     "name": "stderr",
     "output_type": "stream",
     "text": [
      "  5%|▍         | 4681/100000 [07:23<1:44:16, 15.23it/s]"
     ]
    },
    {
     "name": "stdout",
     "output_type": "stream",
     "text": [
      "DQA player 1 won\n",
      "DQA player 1 won\n",
      "DQA player 1 won\n"
     ]
    },
    {
     "name": "stderr",
     "output_type": "stream",
     "text": [
      "\r",
      "  5%|▍         | 4683/100000 [07:23<1:54:06, 13.92it/s]"
     ]
    },
    {
     "name": "stdout",
     "output_type": "stream",
     "text": [
      "DQA player 1 won\n",
      "DQA player 1 won\n",
      "DQA player 1 won\n"
     ]
    },
    {
     "name": "stderr",
     "output_type": "stream",
     "text": [
      "  5%|▍         | 4688/100000 [07:24<1:33:52, 16.92it/s]"
     ]
    },
    {
     "name": "stdout",
     "output_type": "stream",
     "text": [
      "DQA player 2 won\n",
      "DQA player 2 won\n",
      "DQA player 1 won\n",
      "DQA player 1 won\n",
      "DQA player 1 won\n",
      "DQA player 1 won\n"
     ]
    },
    {
     "name": "stderr",
     "output_type": "stream",
     "text": [
      "  5%|▍         | 4694/100000 [07:24<1:19:16, 20.04it/s]"
     ]
    },
    {
     "name": "stdout",
     "output_type": "stream",
     "text": [
      "DQA player 1 won\n",
      "DQA player 1 won\n",
      "DQA player 2 won\n",
      "DQA player 2 won\n",
      "DQA player 1 won\n",
      "DQA player 1 won\n",
      "DQA player 1 won\n",
      "DQA player 1 won\n"
     ]
    },
    {
     "name": "stderr",
     "output_type": "stream",
     "text": [
      "  5%|▍         | 4699/100000 [07:24<1:46:14, 14.95it/s]"
     ]
    },
    {
     "name": "stdout",
     "output_type": "stream",
     "text": [
      "DQA player 2 won\n",
      "DQA player 2 won\n",
      "DQA player 1 won\n",
      "DQA player 2 won\n",
      "DQA player 2 won\n",
      "DQA player 1 won\n"
     ]
    },
    {
     "name": "stderr",
     "output_type": "stream",
     "text": [
      "  5%|▍         | 4705/100000 [07:25<1:25:18, 18.62it/s]"
     ]
    },
    {
     "name": "stdout",
     "output_type": "stream",
     "text": [
      "DQA player 2 won\n",
      "DQA player 2 won\n",
      "DQA player 1 won\n",
      "DQA player 1 won\n",
      "DQA player 2 won\n",
      "DQA player 2 won\n",
      "DQA player 1 won\n",
      "DQA player 2 won\n"
     ]
    },
    {
     "name": "stderr",
     "output_type": "stream",
     "text": [
      "\r",
      "  5%|▍         | 4708/100000 [07:25<1:18:56, 20.12it/s]"
     ]
    },
    {
     "name": "stdout",
     "output_type": "stream",
     "text": [
      "DQA player 2 won\n",
      "DQA player 2 won\n",
      "DQA player 2 won\n",
      "DQA player 1 won\n",
      "DQA player 1 won\n",
      "DQA player 1 won\n"
     ]
    },
    {
     "name": "stderr",
     "output_type": "stream",
     "text": [
      "  5%|▍         | 4714/100000 [07:25<1:18:49, 20.15it/s]"
     ]
    },
    {
     "name": "stdout",
     "output_type": "stream",
     "text": [
      "DQA player 1 won\n",
      "DQA player 1 won\n",
      "DQA player 1 won\n",
      "DQA player 1 won\n",
      "DQA player 1 won\n"
     ]
    },
    {
     "name": "stderr",
     "output_type": "stream",
     "text": [
      "  5%|▍         | 4720/100000 [07:25<1:10:10, 22.63it/s]"
     ]
    },
    {
     "name": "stdout",
     "output_type": "stream",
     "text": [
      "DQA player 1 won\n",
      "DQA player 1 won\n",
      "DQA player 2 won\n",
      "DQA player 2 won\n",
      "DQA player 1 won\n",
      "DQA player 1 won\n",
      "DQA player 2 won\n",
      "DQA player 2 won\n"
     ]
    },
    {
     "name": "stderr",
     "output_type": "stream",
     "text": [
      "  5%|▍         | 4726/100000 [07:26<1:08:16, 23.25it/s]"
     ]
    },
    {
     "name": "stdout",
     "output_type": "stream",
     "text": [
      "DQA player 1 won\n",
      "DQA player 1 won\n",
      "DQA player 1 won\n",
      "DQA player 2 won\n",
      "DQA player 2 won\n",
      "DQA player 1 won\n"
     ]
    },
    {
     "name": "stderr",
     "output_type": "stream",
     "text": [
      "  5%|▍         | 4732/100000 [07:26<1:01:29, 25.82it/s]"
     ]
    },
    {
     "name": "stdout",
     "output_type": "stream",
     "text": [
      "DQA player 1 won\n",
      "DQA player 1 won\n",
      "DQA player 1 won\n",
      "DQA player 1 won\n",
      "DQA player 1 won\n",
      "DQA player 1 won\n"
     ]
    },
    {
     "name": "stderr",
     "output_type": "stream",
     "text": [
      "\r",
      "  5%|▍         | 4735/100000 [07:26<1:00:42, 26.15it/s]"
     ]
    },
    {
     "name": "stdout",
     "output_type": "stream",
     "text": [
      "DQA player 1 won\n",
      "DQA player 2 won\n",
      "DQA player 2 won\n",
      "DQA player 1 won\n",
      "DQA player 2 won\n",
      "DQA player 2 won\n",
      "DQA player 2 won\n",
      "DQA player 2 won\n"
     ]
    },
    {
     "name": "stderr",
     "output_type": "stream",
     "text": [
      "\r",
      "  5%|▍         | 4738/100000 [07:26<1:03:29, 25.01it/s]"
     ]
    },
    {
     "name": "stdout",
     "output_type": "stream",
     "text": [
      "DQA player 1 won\n",
      "DQA player 1 won\n",
      "DQA player 2 won\n",
      "DQA player 2 won\n"
     ]
    },
    {
     "name": "stderr",
     "output_type": "stream",
     "text": [
      "\r",
      "  5%|▍         | 4741/100000 [07:26<1:26:16, 18.40it/s]"
     ]
    },
    {
     "name": "stdout",
     "output_type": "stream",
     "text": [
      "DQA player 1 won\n",
      "DQA player 2 won\n",
      "DQA player 2 won\n",
      "DQA player 2 won\n",
      "DQA player 2 won\n"
     ]
    },
    {
     "name": "stderr",
     "output_type": "stream",
     "text": [
      "  5%|▍         | 4747/100000 [07:27<1:24:55, 18.69it/s]"
     ]
    },
    {
     "name": "stdout",
     "output_type": "stream",
     "text": [
      "DQA player 1 won\n",
      "DQA player 2 won\n",
      "DQA player 2 won\n",
      "DQA player 2 won\n",
      "DQA player 2 won\n",
      "DQA player 1 won\n",
      "DQA player 2 won\n",
      "DQA player 2 won\n"
     ]
    },
    {
     "name": "stderr",
     "output_type": "stream",
     "text": [
      "  5%|▍         | 4753/100000 [07:27<1:14:09, 21.41it/s]"
     ]
    },
    {
     "name": "stdout",
     "output_type": "stream",
     "text": [
      "DQA player 2 won\n",
      "DQA player 2 won\n",
      "DQA player 1 won\n",
      "DQA player 1 won\n",
      "DQA player 1 won\n",
      "DQA player 2 won\n",
      "DQA player 2 won\n",
      "DQA player 1 won\n"
     ]
    },
    {
     "name": "stderr",
     "output_type": "stream",
     "text": [
      "  5%|▍         | 4759/100000 [07:27<1:08:30, 23.17it/s]"
     ]
    },
    {
     "name": "stdout",
     "output_type": "stream",
     "text": [
      "DQA player 1 won\n",
      "DQA player 1 won\n",
      "DQA player 1 won\n",
      "DQA player 1 won\n",
      "DQA player 1 won\n"
     ]
    },
    {
     "name": "stderr",
     "output_type": "stream",
     "text": [
      "\r",
      "  5%|▍         | 4762/100000 [07:27<1:09:27, 22.85it/s]"
     ]
    },
    {
     "name": "stdout",
     "output_type": "stream",
     "text": [
      "DQA player 2 won\n",
      "DQA player 2 won\n",
      "DQA player 1 won\n",
      "DQA player 1 won\n",
      "DQA player 2 won\n",
      "DQA player 2 won\n",
      "DQA player 2 won\n",
      "DQA player 2 won\n"
     ]
    },
    {
     "name": "stderr",
     "output_type": "stream",
     "text": [
      "  5%|▍         | 4768/100000 [07:28<1:12:09, 22.00it/s]"
     ]
    },
    {
     "name": "stdout",
     "output_type": "stream",
     "text": [
      "DQA player 1 won\n",
      "DQA player 2 won\n",
      "DQA player 2 won\n",
      "DQA player 2 won\n",
      "DQA player 2 won\n",
      "DQA player 1 won\n",
      "DQA player 1 won\n"
     ]
    },
    {
     "name": "stderr",
     "output_type": "stream",
     "text": [
      "  5%|▍         | 4774/100000 [07:28<1:06:32, 23.85it/s]"
     ]
    },
    {
     "name": "stdout",
     "output_type": "stream",
     "text": [
      "DQA player 1 won\n",
      "DQA player 1 won\n",
      "DQA player 1 won\n",
      "DQA player 1 won\n",
      "DQA player 1 won\n",
      "DQA player 1 won\n"
     ]
    },
    {
     "name": "stderr",
     "output_type": "stream",
     "text": [
      "  5%|▍         | 4780/100000 [07:28<1:02:26, 25.41it/s]"
     ]
    },
    {
     "name": "stdout",
     "output_type": "stream",
     "text": [
      "DQA player 1 won\n",
      "DQA player 1 won\n",
      "DQA player 1 won\n",
      "DQA player 1 won\n",
      "DQA player 1 won\n",
      "DQA player 1 won\n"
     ]
    },
    {
     "name": "stderr",
     "output_type": "stream",
     "text": [
      "  5%|▍         | 4786/100000 [07:28<1:02:17, 25.48it/s]"
     ]
    },
    {
     "name": "stdout",
     "output_type": "stream",
     "text": [
      "DQA player 2 won\n",
      "DQA player 2 won\n",
      "DQA player 1 won\n",
      "DQA player 1 won\n",
      "DQA player 1 won\n",
      "DQA player 2 won\n",
      "DQA player 2 won\n",
      "DQA player 1 won\n"
     ]
    },
    {
     "name": "stderr",
     "output_type": "stream",
     "text": [
      "  5%|▍         | 4792/100000 [07:28<1:04:57, 24.43it/s]"
     ]
    },
    {
     "name": "stdout",
     "output_type": "stream",
     "text": [
      "DQA player 2 won\n",
      "DQA player 2 won\n",
      "DQA player 2 won\n",
      "DQA player 2 won\n",
      "DQA player 2 won\n",
      "DQA player 2 won\n",
      "DQA player 1 won\n",
      "DQA player 2 won\n",
      "DQA player 2 won\n"
     ]
    },
    {
     "name": "stderr",
     "output_type": "stream",
     "text": [
      "\r",
      "  5%|▍         | 4795/100000 [07:29<1:24:58, 18.67it/s]"
     ]
    },
    {
     "name": "stdout",
     "output_type": "stream",
     "text": [
      "DQA player 2 won\n",
      "DQA player 2 won\n",
      "DQA player 2 won\n",
      "DQA player 2 won\n",
      "DQA player 2 won\n",
      "DQA player 2 won\n"
     ]
    },
    {
     "name": "stderr",
     "output_type": "stream",
     "text": [
      "\r",
      "  5%|▍         | 4798/100000 [07:29<1:33:39, 16.94it/s]"
     ]
    },
    {
     "name": "stdout",
     "output_type": "stream",
     "text": [
      "DQA player 1 won\n",
      "DQA player 2 won\n",
      "DQA player 2 won\n",
      "DQA player 2 won\n",
      "DQA player 2 won\n"
     ]
    },
    {
     "name": "stderr",
     "output_type": "stream",
     "text": [
      "\r",
      "  5%|▍         | 4800/100000 [07:29<1:36:48, 16.39it/s]"
     ]
    },
    {
     "name": "stdout",
     "output_type": "stream",
     "text": [
      "DQA player 2 won\n",
      "DQA player 2 won\n",
      "DQA player 1 won\n",
      "DQA player 1 won\n",
      "DQA player 1 won\n"
     ]
    },
    {
     "name": "stderr",
     "output_type": "stream",
     "text": [
      "  5%|▍         | 4804/100000 [07:29<1:45:18, 15.07it/s]"
     ]
    },
    {
     "name": "stdout",
     "output_type": "stream",
     "text": [
      "DQA player 1 won\n",
      "DQA player 1 won\n",
      "DQA player 1 won\n"
     ]
    },
    {
     "name": "stderr",
     "output_type": "stream",
     "text": [
      "  5%|▍         | 4808/100000 [07:30<1:59:38, 13.26it/s]"
     ]
    },
    {
     "name": "stdout",
     "output_type": "stream",
     "text": [
      "DQA player 2 won\n",
      "DQA player 2 won\n",
      "DQA player 2 won\n",
      "DQA player 2 won\n",
      "DQA player 1 won\n"
     ]
    },
    {
     "name": "stderr",
     "output_type": "stream",
     "text": [
      "\r",
      "  5%|▍         | 4810/100000 [07:30<1:56:37, 13.60it/s]"
     ]
    },
    {
     "name": "stdout",
     "output_type": "stream",
     "text": [
      "DQA player 1 won\n",
      "DQA player 1 won\n",
      "DQA player 1 won\n"
     ]
    },
    {
     "name": "stderr",
     "output_type": "stream",
     "text": [
      "  5%|▍         | 4814/100000 [07:30<1:53:21, 13.99it/s]"
     ]
    },
    {
     "name": "stdout",
     "output_type": "stream",
     "text": [
      "DQA player 2 won\n",
      "DQA player 2 won\n",
      "DQA player 1 won\n",
      "DQA player 1 won\n"
     ]
    },
    {
     "name": "stderr",
     "output_type": "stream",
     "text": [
      "\r",
      "  5%|▍         | 4816/100000 [07:30<1:52:30, 14.10it/s]"
     ]
    },
    {
     "name": "stdout",
     "output_type": "stream",
     "text": [
      "DQA player 1 won\n",
      "DQA player 2 won\n",
      "DQA player 2 won\n",
      "DQA player 1 won\n",
      "DQA player 2 won\n"
     ]
    },
    {
     "name": "stderr",
     "output_type": "stream",
     "text": [
      "  5%|▍         | 4820/100000 [07:31<1:55:46, 13.70it/s]"
     ]
    },
    {
     "name": "stdout",
     "output_type": "stream",
     "text": [
      "DQA player 2 won\n",
      "DQA player 2 won\n",
      "DQA player 2 won\n",
      "DQA player 2 won\n",
      "DQA player 2 won\n"
     ]
    },
    {
     "name": "stderr",
     "output_type": "stream",
     "text": [
      "\r",
      "  5%|▍         | 4822/100000 [07:31<2:20:07, 11.32it/s]"
     ]
    },
    {
     "name": "stdout",
     "output_type": "stream",
     "text": [
      "DQA player 2 won\n",
      "DQA player 2 won\n",
      "DQA player 1 won\n",
      "DQA player 1 won\n"
     ]
    },
    {
     "name": "stderr",
     "output_type": "stream",
     "text": [
      "  5%|▍         | 4826/100000 [07:31<2:09:29, 12.25it/s]"
     ]
    },
    {
     "name": "stdout",
     "output_type": "stream",
     "text": [
      "DQA player 1 won\n",
      "DQA player 1 won\n",
      "DQA player 1 won\n"
     ]
    },
    {
     "name": "stderr",
     "output_type": "stream",
     "text": [
      "\r",
      "  5%|▍         | 4828/100000 [07:31<2:14:01, 11.84it/s]"
     ]
    },
    {
     "name": "stdout",
     "output_type": "stream",
     "text": [
      "DQA player 2 won\n",
      "DQA player 2 won\n",
      "DQA player 1 won\n",
      "DQA player 2 won\n",
      "DQA player 2 won\n"
     ]
    },
    {
     "name": "stderr",
     "output_type": "stream",
     "text": [
      "  5%|▍         | 4832/100000 [07:32<2:09:32, 12.24it/s]"
     ]
    },
    {
     "name": "stdout",
     "output_type": "stream",
     "text": [
      "DQA player 2 won\n",
      "DQA player 2 won\n",
      "DQA player 2 won\n",
      "DQA player 2 won\n",
      "DQA player 2 won\n",
      "DQA player 2 won\n"
     ]
    },
    {
     "name": "stderr",
     "output_type": "stream",
     "text": [
      "\r",
      "  5%|▍         | 4834/100000 [07:32<2:10:04, 12.19it/s]"
     ]
    },
    {
     "name": "stdout",
     "output_type": "stream",
     "text": [
      "DQA player 2 won\n",
      "DQA player 2 won\n",
      "DQA player 2 won\n",
      "DQA player 2 won\n",
      "DQA player 1 won\n"
     ]
    },
    {
     "name": "stderr",
     "output_type": "stream",
     "text": [
      "\r",
      "  5%|▍         | 4836/100000 [07:32<2:15:18, 11.72it/s]"
     ]
    },
    {
     "name": "stdout",
     "output_type": "stream",
     "text": [
      "DQA player 1 won\n",
      "DQA player 1 won\n"
     ]
    },
    {
     "name": "stderr",
     "output_type": "stream",
     "text": [
      "  5%|▍         | 4840/100000 [07:32<2:19:17, 11.39it/s]"
     ]
    },
    {
     "name": "stdout",
     "output_type": "stream",
     "text": [
      "DQA player 2 won\n",
      "DQA player 2 won\n",
      "DQA player 1 won\n",
      "DQA player 2 won\n",
      "DQA player 2 won\n"
     ]
    },
    {
     "name": "stderr",
     "output_type": "stream",
     "text": [
      "\r",
      "  5%|▍         | 4842/100000 [07:32<2:15:07, 11.74it/s]"
     ]
    },
    {
     "name": "stdout",
     "output_type": "stream",
     "text": [
      "DQA player 2 won\n",
      "DQA player 2 won\n",
      "DQA player 2 won\n",
      "DQA player 2 won\n",
      "DQA player 1 won\n"
     ]
    },
    {
     "name": "stderr",
     "output_type": "stream",
     "text": [
      "\r",
      "  5%|▍         | 4844/100000 [07:33<2:06:34, 12.53it/s]"
     ]
    },
    {
     "name": "stdout",
     "output_type": "stream",
     "text": [
      "DQA player 2 won\n",
      "DQA player 2 won\n",
      "DQA player 2 won\n",
      "DQA player 2 won\n"
     ]
    },
    {
     "name": "stderr",
     "output_type": "stream",
     "text": [
      "\r",
      "  5%|▍         | 4846/100000 [07:33<3:19:37,  7.94it/s]"
     ]
    },
    {
     "name": "stdout",
     "output_type": "stream",
     "text": [
      "DQA player 2 won\n",
      "DQA player 2 won\n"
     ]
    },
    {
     "name": "stderr",
     "output_type": "stream",
     "text": [
      "\r",
      "  5%|▍         | 4848/100000 [07:34<4:00:50,  6.58it/s]"
     ]
    },
    {
     "name": "stdout",
     "output_type": "stream",
     "text": [
      "DQA player 2 won\n",
      "DQA player 2 won\n",
      "DQA player 1 won\n"
     ]
    },
    {
     "name": "stderr",
     "output_type": "stream",
     "text": [
      "\r",
      "  5%|▍         | 4849/100000 [07:34<4:04:07,  6.50it/s]"
     ]
    },
    {
     "name": "stdout",
     "output_type": "stream",
     "text": [
      "DQA player 2 won\n",
      "DQA player 2 won\n",
      "DQA player 2 won\n"
     ]
    },
    {
     "name": "stderr",
     "output_type": "stream",
     "text": [
      "  5%|▍         | 4851/100000 [07:34<3:55:15,  6.74it/s]"
     ]
    },
    {
     "name": "stdout",
     "output_type": "stream",
     "text": [
      "DQA player 2 won\n",
      "DQA player 2 won\n",
      "DQA player 2 won\n"
     ]
    },
    {
     "name": "stderr",
     "output_type": "stream",
     "text": [
      "  5%|▍         | 4854/100000 [07:34<3:31:27,  7.50it/s]"
     ]
    },
    {
     "name": "stdout",
     "output_type": "stream",
     "text": [
      "DQA player 2 won\n",
      "DQA player 2 won\n",
      "DQA player 1 won\n",
      "DQA player 2 won\n",
      "DQA player 2 won\n"
     ]
    },
    {
     "name": "stderr",
     "output_type": "stream",
     "text": [
      "  5%|▍         | 4857/100000 [07:35<2:59:02,  8.86it/s]"
     ]
    },
    {
     "name": "stdout",
     "output_type": "stream",
     "text": [
      "DQA player 2 won\n",
      "DQA player 2 won\n",
      "DQA player 2 won\n",
      "DQA player 2 won\n",
      "DQA player 2 won\n",
      "DQA player 2 won\n"
     ]
    },
    {
     "name": "stderr",
     "output_type": "stream",
     "text": [
      "\r",
      "  5%|▍         | 4859/100000 [07:35<2:52:00,  9.22it/s]"
     ]
    },
    {
     "name": "stdout",
     "output_type": "stream",
     "text": [
      "DQA player 2 won\n",
      "DQA player 2 won\n",
      "DQA player 2 won\n",
      "DQA player 2 won\n"
     ]
    },
    {
     "name": "stderr",
     "output_type": "stream",
     "text": [
      "  5%|▍         | 4861/100000 [07:35<2:49:07,  9.38it/s]"
     ]
    },
    {
     "name": "stdout",
     "output_type": "stream",
     "text": [
      "DQA player 2 won\n",
      "DQA player 2 won\n",
      "DQA player 2 won\n",
      "DQA player 2 won\n",
      "DQA player 1 won\n"
     ]
    },
    {
     "name": "stderr",
     "output_type": "stream",
     "text": [
      "\r",
      "  5%|▍         | 4863/100000 [07:35<2:24:56, 10.94it/s]"
     ]
    },
    {
     "name": "stdout",
     "output_type": "stream",
     "text": [
      "DQA player 1 won\n",
      "DQA player 2 won\n",
      "DQA player 2 won\n"
     ]
    },
    {
     "name": "stderr",
     "output_type": "stream",
     "text": [
      "  5%|▍         | 4867/100000 [07:35<2:27:31, 10.75it/s]"
     ]
    },
    {
     "name": "stdout",
     "output_type": "stream",
     "text": [
      "DQA player 2 won\n",
      "DQA player 2 won\n",
      "DQA player 2 won\n",
      "DQA player 2 won\n",
      "DQA player 2 won\n",
      "DQA player 2 won\n"
     ]
    },
    {
     "name": "stderr",
     "output_type": "stream",
     "text": [
      "\r",
      "  5%|▍         | 4869/100000 [07:36<2:22:52, 11.10it/s]"
     ]
    },
    {
     "name": "stdout",
     "output_type": "stream",
     "text": [
      "DQA player 2 won\n",
      "DQA player 2 won\n",
      "DQA player 2 won\n",
      "DQA player 2 won\n",
      "DQA player 1 won\n"
     ]
    },
    {
     "name": "stderr",
     "output_type": "stream",
     "text": [
      "  5%|▍         | 4873/100000 [07:36<2:13:38, 11.86it/s]"
     ]
    },
    {
     "name": "stdout",
     "output_type": "stream",
     "text": [
      "DQA player 2 won\n",
      "DQA player 2 won\n",
      "DQA player 2 won\n",
      "DQA player 2 won\n",
      "DQA player 2 won\n",
      "DQA player 2 won\n"
     ]
    },
    {
     "name": "stderr",
     "output_type": "stream",
     "text": [
      "\r",
      "  5%|▍         | 4875/100000 [07:36<2:22:10, 11.15it/s]"
     ]
    },
    {
     "name": "stdout",
     "output_type": "stream",
     "text": [
      "DQA player 2 won\n",
      "DQA player 2 won\n",
      "DQA player 2 won\n",
      "DQA player 2 won\n"
     ]
    },
    {
     "name": "stderr",
     "output_type": "stream",
     "text": [
      "\r",
      "  5%|▍         | 4877/100000 [07:36<2:59:05,  8.85it/s]"
     ]
    },
    {
     "name": "stdout",
     "output_type": "stream",
     "text": [
      "DQA player 1 won\n",
      "DQA player 1 won\n"
     ]
    },
    {
     "name": "stderr",
     "output_type": "stream",
     "text": [
      "  5%|▍         | 4880/100000 [07:37<2:57:56,  8.91it/s]"
     ]
    },
    {
     "name": "stdout",
     "output_type": "stream",
     "text": [
      "DQA player 2 won\n",
      "DQA player 2 won\n",
      "DQA player 2 won\n",
      "DQA player 2 won\n",
      "DQA player 2 won\n",
      "DQA player 2 won\n"
     ]
    },
    {
     "name": "stderr",
     "output_type": "stream",
     "text": [
      "  5%|▍         | 4883/100000 [07:37<2:38:22, 10.01it/s]"
     ]
    },
    {
     "name": "stdout",
     "output_type": "stream",
     "text": [
      "DQA player 2 won\n",
      "DQA player 2 won\n",
      "DQA player 2 won\n",
      "DQA player 2 won\n",
      "DQA player 1 won\n"
     ]
    },
    {
     "name": "stderr",
     "output_type": "stream",
     "text": [
      "  5%|▍         | 4887/100000 [07:37<2:10:44, 12.13it/s]"
     ]
    },
    {
     "name": "stdout",
     "output_type": "stream",
     "text": [
      "DQA player 2 won\n",
      "DQA player 2 won\n",
      "DQA player 1 won\n",
      "DQA player 1 won\n",
      "DQA player 2 won\n",
      "DQA player 2 won\n"
     ]
    },
    {
     "name": "stderr",
     "output_type": "stream",
     "text": [
      "\r",
      "  5%|▍         | 4889/100000 [07:37<2:07:02, 12.48it/s]"
     ]
    },
    {
     "name": "stdout",
     "output_type": "stream",
     "text": [
      "DQA player 1 won\n",
      "DQA player 2 won\n",
      "DQA player 2 won\n"
     ]
    },
    {
     "name": "stderr",
     "output_type": "stream",
     "text": [
      "\r",
      "  5%|▍         | 4891/100000 [07:38<2:32:08, 10.42it/s]"
     ]
    },
    {
     "name": "stdout",
     "output_type": "stream",
     "text": [
      "DQA player 2 won\n",
      "DQA player 2 won\n",
      "DQA player 2 won\n",
      "DQA player 2 won\n",
      "DQA player 2 won\n",
      "DQA player 2 won\n"
     ]
    },
    {
     "name": "stderr",
     "output_type": "stream",
     "text": [
      "  5%|▍         | 4895/100000 [07:38<2:17:08, 11.56it/s]"
     ]
    },
    {
     "name": "stdout",
     "output_type": "stream",
     "text": [
      "DQA player 1 won\n",
      "DQA player 2 won\n",
      "DQA player 2 won\n",
      "DQA player 1 won\n"
     ]
    },
    {
     "name": "stderr",
     "output_type": "stream",
     "text": [
      "\r",
      "  5%|▍         | 4897/100000 [07:38<2:31:13, 10.48it/s]"
     ]
    },
    {
     "name": "stdout",
     "output_type": "stream",
     "text": [
      "DQA player 1 won\n",
      "DQA player 1 won\n"
     ]
    },
    {
     "name": "stderr",
     "output_type": "stream",
     "text": [
      "\r",
      "  5%|▍         | 4899/100000 [07:39<2:47:30,  9.46it/s]"
     ]
    },
    {
     "name": "stdout",
     "output_type": "stream",
     "text": [
      "DQA player 1 won\n",
      "DQA player 2 won\n",
      "DQA player 2 won\n"
     ]
    },
    {
     "name": "stderr",
     "output_type": "stream",
     "text": [
      "\r",
      "  5%|▍         | 4901/100000 [07:39<2:55:40,  9.02it/s]"
     ]
    },
    {
     "name": "stdout",
     "output_type": "stream",
     "text": [
      "DQA player 1 won\n",
      "DQA player 1 won\n"
     ]
    },
    {
     "name": "stderr",
     "output_type": "stream",
     "text": [
      "  5%|▍         | 4903/100000 [07:39<3:34:02,  7.40it/s]"
     ]
    },
    {
     "name": "stdout",
     "output_type": "stream",
     "text": [
      "DQA player 2 won\n",
      "DQA player 2 won\n",
      "DQA player 2 won\n",
      "DQA player 2 won\n"
     ]
    },
    {
     "name": "stderr",
     "output_type": "stream",
     "text": [
      "  5%|▍         | 4905/100000 [07:39<3:20:38,  7.90it/s]"
     ]
    },
    {
     "name": "stdout",
     "output_type": "stream",
     "text": [
      "DQA player 1 won\n",
      "DQA player 1 won\n"
     ]
    },
    {
     "name": "stderr",
     "output_type": "stream",
     "text": [
      "  5%|▍         | 4907/100000 [07:40<3:05:41,  8.53it/s]"
     ]
    },
    {
     "name": "stdout",
     "output_type": "stream",
     "text": [
      "DQA player 1 won\n",
      "DQA player 1 won\n"
     ]
    },
    {
     "name": "stderr",
     "output_type": "stream",
     "text": [
      "  5%|▍         | 4909/100000 [07:40<3:09:35,  8.36it/s]"
     ]
    },
    {
     "name": "stdout",
     "output_type": "stream",
     "text": [
      "DQA player 1 won\n",
      "DQA player 2 won\n",
      "DQA player 2 won\n"
     ]
    },
    {
     "name": "stderr",
     "output_type": "stream",
     "text": [
      "  5%|▍         | 4911/100000 [07:40<3:15:36,  8.10it/s]"
     ]
    },
    {
     "name": "stdout",
     "output_type": "stream",
     "text": [
      "DQA player 1 won\n",
      "DQA player 2 won\n",
      "DQA player 2 won\n"
     ]
    },
    {
     "name": "stderr",
     "output_type": "stream",
     "text": [
      "  5%|▍         | 4913/100000 [07:40<3:08:06,  8.43it/s]"
     ]
    },
    {
     "name": "stdout",
     "output_type": "stream",
     "text": [
      "DQA player 1 won\n",
      "DQA player 2 won\n",
      "DQA player 2 won\n"
     ]
    },
    {
     "name": "stderr",
     "output_type": "stream",
     "text": [
      "  5%|▍         | 4915/100000 [07:41<3:12:07,  8.25it/s]"
     ]
    },
    {
     "name": "stdout",
     "output_type": "stream",
     "text": [
      "DQA player 2 won\n",
      "DQA player 2 won\n",
      "DQA player 1 won\n"
     ]
    },
    {
     "name": "stderr",
     "output_type": "stream",
     "text": [
      "  5%|▍         | 4918/100000 [07:41<2:53:03,  9.16it/s]"
     ]
    },
    {
     "name": "stdout",
     "output_type": "stream",
     "text": [
      "DQA player 1 won\n",
      "DQA player 1 won\n",
      "DQA player 1 won\n"
     ]
    },
    {
     "name": "stderr",
     "output_type": "stream",
     "text": [
      "\r",
      "  5%|▍         | 4920/100000 [07:41<2:50:09,  9.31it/s]"
     ]
    },
    {
     "name": "stdout",
     "output_type": "stream",
     "text": [
      "DQA player 1 won\n",
      "DQA player 2 won\n",
      "DQA player 2 won\n"
     ]
    },
    {
     "name": "stderr",
     "output_type": "stream",
     "text": [
      "  5%|▍         | 4922/100000 [07:41<3:17:21,  8.03it/s]"
     ]
    },
    {
     "name": "stdout",
     "output_type": "stream",
     "text": [
      "DQA player 1 won\n",
      "DQA player 1 won\n"
     ]
    },
    {
     "name": "stderr",
     "output_type": "stream",
     "text": [
      "  5%|▍         | 4924/100000 [07:42<3:45:54,  7.01it/s]"
     ]
    },
    {
     "name": "stdout",
     "output_type": "stream",
     "text": [
      "DQA player 2 won\n",
      "DQA player 2 won\n",
      "DQA player 2 won\n",
      "DQA player 2 won\n"
     ]
    },
    {
     "name": "stderr",
     "output_type": "stream",
     "text": [
      "  5%|▍         | 4926/100000 [07:42<3:34:31,  7.39it/s]"
     ]
    },
    {
     "name": "stdout",
     "output_type": "stream",
     "text": [
      "DQA player 1 won\n",
      "DQA player 1 won\n"
     ]
    },
    {
     "name": "stderr",
     "output_type": "stream",
     "text": [
      "  5%|▍         | 4928/100000 [07:42<3:21:30,  7.86it/s]"
     ]
    },
    {
     "name": "stdout",
     "output_type": "stream",
     "text": [
      "DQA player 2 won\n",
      "DQA player 2 won\n",
      "DQA player 1 won\n"
     ]
    },
    {
     "name": "stderr",
     "output_type": "stream",
     "text": [
      "  5%|▍         | 4931/100000 [07:42<3:08:23,  8.41it/s]"
     ]
    },
    {
     "name": "stdout",
     "output_type": "stream",
     "text": [
      "DQA player 1 won\n",
      "DQA player 1 won\n",
      "DQA player 1 won\n"
     ]
    },
    {
     "name": "stderr",
     "output_type": "stream",
     "text": [
      "\r",
      "  5%|▍         | 4932/100000 [07:43<3:12:36,  8.23it/s]"
     ]
    },
    {
     "name": "stdout",
     "output_type": "stream",
     "text": [
      "DQA player 2 won\n",
      "DQA player 2 won\n",
      "DQA player 1 won\n"
     ]
    },
    {
     "name": "stderr",
     "output_type": "stream",
     "text": [
      "  5%|▍         | 4935/100000 [07:43<2:59:07,  8.84it/s]"
     ]
    },
    {
     "name": "stdout",
     "output_type": "stream",
     "text": [
      "DQA player 2 won\n",
      "DQA player 2 won\n",
      "DQA player 2 won\n",
      "DQA player 2 won\n",
      "DQA player 1 won\n"
     ]
    },
    {
     "name": "stderr",
     "output_type": "stream",
     "text": [
      "  5%|▍         | 4938/100000 [07:43<3:01:39,  8.72it/s]"
     ]
    },
    {
     "name": "stdout",
     "output_type": "stream",
     "text": [
      "DQA player 1 won\n",
      "DQA player 1 won\n"
     ]
    },
    {
     "name": "stderr",
     "output_type": "stream",
     "text": [
      "  5%|▍         | 4940/100000 [07:43<2:59:55,  8.81it/s]"
     ]
    },
    {
     "name": "stdout",
     "output_type": "stream",
     "text": [
      "DQA player 1 won\n",
      "DQA player 2 won\n",
      "DQA player 2 won\n"
     ]
    },
    {
     "name": "stderr",
     "output_type": "stream",
     "text": [
      "  5%|▍         | 4942/100000 [07:44<2:51:55,  9.22it/s]"
     ]
    },
    {
     "name": "stdout",
     "output_type": "stream",
     "text": [
      "DQA player 2 won\n",
      "DQA player 2 won\n",
      "DQA player 1 won\n"
     ]
    },
    {
     "name": "stderr",
     "output_type": "stream",
     "text": [
      "  5%|▍         | 4944/100000 [07:44<3:02:13,  8.69it/s]"
     ]
    },
    {
     "name": "stdout",
     "output_type": "stream",
     "text": [
      "DQA player 1 won\n",
      "DQA player 1 won\n"
     ]
    },
    {
     "name": "stderr",
     "output_type": "stream",
     "text": [
      "  5%|▍         | 4946/100000 [07:44<3:00:42,  8.77it/s]"
     ]
    },
    {
     "name": "stdout",
     "output_type": "stream",
     "text": [
      "DQA player 2 won\n",
      "DQA player 2 won\n",
      "DQA player 2 won\n",
      "DQA player 2 won\n"
     ]
    },
    {
     "name": "stderr",
     "output_type": "stream",
     "text": [
      "  5%|▍         | 4949/100000 [07:44<2:48:34,  9.40it/s]"
     ]
    },
    {
     "name": "stdout",
     "output_type": "stream",
     "text": [
      "DQA player 2 won\n",
      "DQA player 2 won\n",
      "DQA player 2 won\n",
      "DQA player 2 won\n",
      "DQA player 2 won\n",
      "DQA player 2 won\n"
     ]
    },
    {
     "name": "stderr",
     "output_type": "stream",
     "text": [
      "\r",
      "  5%|▍         | 4951/100000 [07:45<2:37:34, 10.05it/s]"
     ]
    },
    {
     "name": "stdout",
     "output_type": "stream",
     "text": [
      "DQA player 2 won\n",
      "DQA player 2 won\n",
      "DQA player 2 won\n",
      "DQA player 2 won\n",
      "DQA player 1 won\n"
     ]
    },
    {
     "name": "stderr",
     "output_type": "stream",
     "text": [
      "  5%|▍         | 4955/100000 [07:45<2:08:58, 12.28it/s]"
     ]
    },
    {
     "name": "stdout",
     "output_type": "stream",
     "text": [
      "DQA player 1 won\n",
      "DQA player 2 won\n",
      "DQA player 2 won\n",
      "DQA player 2 won\n",
      "DQA player 2 won\n"
     ]
    },
    {
     "name": "stderr",
     "output_type": "stream",
     "text": [
      "  5%|▍         | 4959/100000 [07:45<1:59:45, 13.23it/s]"
     ]
    },
    {
     "name": "stdout",
     "output_type": "stream",
     "text": [
      "DQA player 1 won\n",
      "DQA player 1 won\n",
      "DQA player 2 won\n",
      "DQA player 2 won\n",
      "DQA player 2 won\n",
      "DQA player 2 won\n"
     ]
    },
    {
     "name": "stderr",
     "output_type": "stream",
     "text": [
      "  5%|▍         | 4963/100000 [07:45<1:49:19, 14.49it/s]"
     ]
    },
    {
     "name": "stdout",
     "output_type": "stream",
     "text": [
      "DQA player 1 won\n",
      "DQA player 1 won\n",
      "DQA player 1 won\n",
      "DQA player 1 won\n"
     ]
    },
    {
     "name": "stderr",
     "output_type": "stream",
     "text": [
      "\r",
      "  5%|▍         | 4965/100000 [07:46<1:54:15, 13.86it/s]"
     ]
    },
    {
     "name": "stdout",
     "output_type": "stream",
     "text": [
      "DQA player 2 won\n",
      "DQA player 2 won\n",
      "DQA player 2 won\n",
      "DQA player 2 won\n",
      "DQA player 2 won\n",
      "DQA player 2 won\n"
     ]
    },
    {
     "name": "stderr",
     "output_type": "stream",
     "text": [
      "  5%|▍         | 4969/100000 [07:46<1:49:49, 14.42it/s]"
     ]
    },
    {
     "name": "stdout",
     "output_type": "stream",
     "text": [
      "DQA player 2 won\n",
      "DQA player 2 won\n",
      "DQA player 1 won\n",
      "DQA player 2 won\n",
      "DQA player 2 won\n",
      "DQA player 1 won\n"
     ]
    },
    {
     "name": "stderr",
     "output_type": "stream",
     "text": [
      "  5%|▍         | 4973/100000 [07:46<1:46:43, 14.84it/s]"
     ]
    },
    {
     "name": "stdout",
     "output_type": "stream",
     "text": [
      "DQA player 1 won\n",
      "DQA player 1 won\n",
      "DQA player 1 won\n"
     ]
    },
    {
     "name": "stderr",
     "output_type": "stream",
     "text": [
      "\r",
      "  5%|▍         | 4975/100000 [07:46<1:46:13, 14.91it/s]"
     ]
    },
    {
     "name": "stdout",
     "output_type": "stream",
     "text": [
      "DQA player 1 won\n",
      "DQA player 1 won\n",
      "DQA player 2 won\n",
      "DQA player 2 won\n",
      "DQA player 1 won\n"
     ]
    },
    {
     "name": "stderr",
     "output_type": "stream",
     "text": [
      "  5%|▍         | 4979/100000 [07:46<1:43:42, 15.27it/s]"
     ]
    },
    {
     "name": "stdout",
     "output_type": "stream",
     "text": [
      "DQA player 1 won\n",
      "DQA player 1 won\n",
      "DQA player 2 won\n",
      "DQA player 2 won\n"
     ]
    },
    {
     "name": "stderr",
     "output_type": "stream",
     "text": [
      "  5%|▍         | 4983/100000 [07:47<2:04:00, 12.77it/s]"
     ]
    },
    {
     "name": "stdout",
     "output_type": "stream",
     "text": [
      "DQA player 1 won\n",
      "DQA player 1 won\n",
      "DQA player 1 won\n"
     ]
    },
    {
     "name": "stderr",
     "output_type": "stream",
     "text": [
      "\r",
      "  5%|▍         | 4985/100000 [07:47<2:13:25, 11.87it/s]"
     ]
    },
    {
     "name": "stdout",
     "output_type": "stream",
     "text": [
      "DQA player 2 won\n",
      "DQA player 2 won\n",
      "DQA player 1 won\n"
     ]
    },
    {
     "name": "stderr",
     "output_type": "stream",
     "text": [
      "\r",
      "  5%|▍         | 4987/100000 [07:47<2:25:17, 10.90it/s]"
     ]
    },
    {
     "name": "stdout",
     "output_type": "stream",
     "text": [
      "DQA player 1 won\n",
      "DQA player 1 won\n"
     ]
    },
    {
     "name": "stderr",
     "output_type": "stream",
     "text": [
      "\r",
      "  5%|▍         | 4989/100000 [07:47<2:27:20, 10.75it/s]"
     ]
    },
    {
     "name": "stdout",
     "output_type": "stream",
     "text": [
      "DQA player 2 won\n",
      "DQA player 2 won\n",
      "DQA player 2 won\n",
      "DQA player 2 won\n",
      "DQA player 2 won\n",
      "DQA player 2 won\n"
     ]
    },
    {
     "name": "stderr",
     "output_type": "stream",
     "text": [
      "  5%|▍         | 4993/100000 [07:48<2:26:44, 10.79it/s]"
     ]
    },
    {
     "name": "stdout",
     "output_type": "stream",
     "text": [
      "DQA player 1 won\n",
      "DQA player 1 won\n",
      "DQA player 1 won\n"
     ]
    },
    {
     "name": "stderr",
     "output_type": "stream",
     "text": [
      "\r",
      "  5%|▍         | 4995/100000 [07:48<2:25:10, 10.91it/s]"
     ]
    },
    {
     "name": "stdout",
     "output_type": "stream",
     "text": [
      "DQA player 1 won\n",
      "DQA player 1 won\n"
     ]
    },
    {
     "name": "stderr",
     "output_type": "stream",
     "text": [
      "\r",
      "  5%|▍         | 4997/100000 [07:48<2:28:58, 10.63it/s]"
     ]
    },
    {
     "name": "stdout",
     "output_type": "stream",
     "text": [
      "DQA player 1 won\n",
      "DQA player 1 won\n",
      "DQA player 2 won\n",
      "DQA player 2 won\n"
     ]
    },
    {
     "name": "stderr",
     "output_type": "stream",
     "text": [
      "  5%|▌         | 5001/100000 [07:49<2:30:29, 10.52it/s]"
     ]
    },
    {
     "name": "stdout",
     "output_type": "stream",
     "text": [
      "DQA player 1 won\n",
      "DQA player 1 won\n",
      "DQA player 2 won\n",
      "DQA player 2 won\n"
     ]
    },
    {
     "name": "stderr",
     "output_type": "stream",
     "text": [
      "\r",
      "  5%|▌         | 5003/100000 [07:49<2:33:11, 10.34it/s]"
     ]
    },
    {
     "name": "stdout",
     "output_type": "stream",
     "text": [
      "DQA player 2 won\n",
      "DQA player 2 won\n",
      "DQA player 1 won\n",
      "DQA player 1 won\n"
     ]
    },
    {
     "name": "stderr",
     "output_type": "stream",
     "text": [
      "\r",
      "  5%|▌         | 5005/100000 [07:49<2:32:32, 10.38it/s]"
     ]
    },
    {
     "name": "stdout",
     "output_type": "stream",
     "text": [
      "DQA player 1 won\n",
      "DQA player 2 won\n",
      "DQA player 2 won\n"
     ]
    },
    {
     "name": "stderr",
     "output_type": "stream",
     "text": [
      "\r",
      "  5%|▌         | 5007/100000 [07:49<2:37:46, 10.03it/s]"
     ]
    },
    {
     "name": "stdout",
     "output_type": "stream",
     "text": [
      "DQA player 1 won\n",
      "DQA player 2 won\n",
      "DQA player 2 won\n"
     ]
    },
    {
     "name": "stderr",
     "output_type": "stream",
     "text": [
      "  5%|▌         | 5010/100000 [07:49<2:39:27,  9.93it/s]"
     ]
    },
    {
     "name": "stdout",
     "output_type": "stream",
     "text": [
      "DQA player 1 won\n",
      "DQA player 1 won\n"
     ]
    },
    {
     "name": "stderr",
     "output_type": "stream",
     "text": [
      "\r",
      "  5%|▌         | 5011/100000 [07:50<2:47:37,  9.44it/s]"
     ]
    },
    {
     "name": "stdout",
     "output_type": "stream",
     "text": [
      "DQA player 2 won\n",
      "DQA player 2 won\n",
      "DQA player 2 won\n",
      "DQA player 2 won\n",
      "DQA player 2 won\n"
     ]
    },
    {
     "name": "stderr",
     "output_type": "stream",
     "text": [
      "  5%|▌         | 5014/100000 [07:50<2:58:58,  8.85it/s]"
     ]
    },
    {
     "name": "stdout",
     "output_type": "stream",
     "text": [
      "DQA player 2 won\n",
      "DQA player 1 won\n"
     ]
    },
    {
     "name": "stderr",
     "output_type": "stream",
     "text": [
      "  5%|▌         | 5016/100000 [07:50<3:21:02,  7.87it/s]"
     ]
    },
    {
     "name": "stdout",
     "output_type": "stream",
     "text": [
      "DQA player 2 won\n",
      "DQA player 2 won\n",
      "DQA player 1 won\n"
     ]
    },
    {
     "name": "stderr",
     "output_type": "stream",
     "text": [
      "  5%|▌         | 5018/100000 [07:50<3:05:33,  8.53it/s]"
     ]
    },
    {
     "name": "stdout",
     "output_type": "stream",
     "text": [
      "DQA player 2 won\n",
      "DQA player 2 won\n",
      "DQA player 1 won\n"
     ]
    },
    {
     "name": "stderr",
     "output_type": "stream",
     "text": [
      "  5%|▌         | 5020/100000 [07:51<2:55:09,  9.04it/s]"
     ]
    },
    {
     "name": "stdout",
     "output_type": "stream",
     "text": [
      "DQA player 2 won\n",
      "DQA player 2 won\n",
      "DQA player 2 won\n",
      "DQA player 2 won\n"
     ]
    },
    {
     "name": "stderr",
     "output_type": "stream",
     "text": [
      "  5%|▌         | 5022/100000 [07:51<3:11:31,  8.26it/s]"
     ]
    },
    {
     "name": "stdout",
     "output_type": "stream",
     "text": [
      "DQA player 2 won\n",
      "DQA player 2 won\n",
      "DQA player 2 won\n",
      "DQA player 2 won\n"
     ]
    },
    {
     "name": "stderr",
     "output_type": "stream",
     "text": [
      "  5%|▌         | 5024/100000 [07:51<3:18:36,  7.97it/s]"
     ]
    },
    {
     "name": "stdout",
     "output_type": "stream",
     "text": [
      "DQA player 2 won\n",
      "DQA player 2 won\n",
      "DQA player 1 won\n"
     ]
    },
    {
     "name": "stderr",
     "output_type": "stream",
     "text": [
      "  5%|▌         | 5026/100000 [07:51<3:08:48,  8.38it/s]"
     ]
    },
    {
     "name": "stdout",
     "output_type": "stream",
     "text": [
      "DQA player 1 won\n",
      "DQA player 1 won\n"
     ]
    },
    {
     "name": "stderr",
     "output_type": "stream",
     "text": [
      "  5%|▌         | 5028/100000 [07:52<3:05:50,  8.52it/s]"
     ]
    },
    {
     "name": "stdout",
     "output_type": "stream",
     "text": [
      "DQA player 1 won\n",
      "DQA player 1 won\n",
      "DQA player 1 won\n"
     ]
    },
    {
     "name": "stderr",
     "output_type": "stream",
     "text": [
      "  5%|▌         | 5031/100000 [07:52<2:59:26,  8.82it/s]"
     ]
    },
    {
     "name": "stdout",
     "output_type": "stream",
     "text": [
      "DQA player 2 won\n",
      "DQA player 2 won\n",
      "DQA player 2 won\n",
      "DQA player 2 won\n"
     ]
    },
    {
     "name": "stderr",
     "output_type": "stream",
     "text": [
      "  5%|▌         | 5033/100000 [07:52<3:19:32,  7.93it/s]"
     ]
    },
    {
     "name": "stdout",
     "output_type": "stream",
     "text": [
      "DQA player 1 won\n",
      "DQA player 2 won\n",
      "DQA player 2 won\n"
     ]
    },
    {
     "name": "stderr",
     "output_type": "stream",
     "text": [
      "  5%|▌         | 5038/100000 [07:52<2:18:11, 11.45it/s]"
     ]
    },
    {
     "name": "stdout",
     "output_type": "stream",
     "text": [
      "DQA player 1 won\n",
      "DQA player 2 won\n",
      "DQA player 2 won\n",
      "DQA player 1 won\n",
      "DQA player 1 won\n",
      "DQA player 1 won\n",
      "DQA player 1 won\n"
     ]
    },
    {
     "name": "stderr",
     "output_type": "stream",
     "text": [
      "\r",
      "  5%|▌         | 5041/100000 [07:53<1:54:39, 13.80it/s]"
     ]
    },
    {
     "name": "stdout",
     "output_type": "stream",
     "text": [
      "DQA player 1 won\n",
      "DQA player 2 won\n",
      "DQA player 2 won\n",
      "DQA player 2 won\n",
      "DQA player 2 won\n",
      "DQA player 1 won\n"
     ]
    },
    {
     "name": "stderr",
     "output_type": "stream",
     "text": [
      "  5%|▌         | 5046/100000 [07:53<2:04:03, 12.76it/s]"
     ]
    },
    {
     "name": "stdout",
     "output_type": "stream",
     "text": [
      "DQA player 1 won\n",
      "DQA player 2 won\n",
      "DQA player 2 won\n",
      "DQA player 1 won\n"
     ]
    },
    {
     "name": "stderr",
     "output_type": "stream",
     "text": [
      "  5%|▌         | 5050/100000 [07:53<1:52:37, 14.05it/s]"
     ]
    },
    {
     "name": "stdout",
     "output_type": "stream",
     "text": [
      "DQA player 1 won\n",
      "DQA player 1 won\n",
      "DQA player 1 won\n",
      "DQA player 1 won\n"
     ]
    },
    {
     "name": "stderr",
     "output_type": "stream",
     "text": [
      "\r",
      "  5%|▌         | 5053/100000 [07:53<1:40:11, 15.80it/s]"
     ]
    },
    {
     "name": "stdout",
     "output_type": "stream",
     "text": [
      "DQA player 1 won\n",
      "DQA player 2 won\n",
      "DQA player 2 won\n",
      "DQA player 1 won\n",
      "DQA player 1 won\n",
      "DQA player 1 won\n",
      "DQA player 1 won\n"
     ]
    },
    {
     "name": "stderr",
     "output_type": "stream",
     "text": [
      "  5%|▌         | 5062/100000 [07:54<1:12:02, 21.97it/s]"
     ]
    },
    {
     "name": "stdout",
     "output_type": "stream",
     "text": [
      "DQA player 1 won\n",
      "DQA player 1 won\n",
      "DQA player 1 won\n",
      "DQA player 1 won\n",
      "DQA player 1 won\n",
      "DQA player 2 won\n",
      "DQA player 2 won\n"
     ]
    },
    {
     "name": "stderr",
     "output_type": "stream",
     "text": [
      "\r",
      "  5%|▌         | 5065/100000 [07:54<1:10:18, 22.51it/s]"
     ]
    },
    {
     "name": "stdout",
     "output_type": "stream",
     "text": [
      "DQA player 1 won\n",
      "DQA player 1 won\n",
      "DQA player 1 won\n",
      "DQA player 1 won\n",
      "DQA player 1 won\n",
      "DQA player 1 won\n"
     ]
    },
    {
     "name": "stderr",
     "output_type": "stream",
     "text": [
      "  5%|▌         | 5074/100000 [07:54<1:12:33, 21.81it/s]"
     ]
    },
    {
     "name": "stdout",
     "output_type": "stream",
     "text": [
      "DQA player 2 won\n",
      "DQA player 2 won\n",
      "DQA player 1 won\n",
      "DQA player 1 won\n",
      "DQA player 1 won\n",
      "DQA player 1 won\n",
      "DQA player 2 won\n",
      "DQA player 2 won\n",
      "DQA player 2 won\n",
      "DQA player 2 won\n",
      "DQA player 2 won\n",
      "DQA player 2 won\n"
     ]
    },
    {
     "name": "stderr",
     "output_type": "stream",
     "text": [
      "\r",
      "  5%|▌         | 5077/100000 [07:55<1:35:45, 16.52it/s]"
     ]
    },
    {
     "name": "stdout",
     "output_type": "stream",
     "text": [
      "DQA player 2 won\n",
      "DQA player 2 won\n",
      "DQA player 1 won\n"
     ]
    },
    {
     "name": "stderr",
     "output_type": "stream",
     "text": [
      "\r",
      "  5%|▌         | 5079/100000 [07:55<2:00:59, 13.08it/s]"
     ]
    },
    {
     "name": "stdout",
     "output_type": "stream",
     "text": [
      "DQA player 2 won\n",
      "DQA player 2 won\n",
      "DQA player 1 won\n"
     ]
    },
    {
     "name": "stderr",
     "output_type": "stream",
     "text": [
      "\r",
      "  5%|▌         | 5081/100000 [07:55<2:27:08, 10.75it/s]"
     ]
    },
    {
     "name": "stdout",
     "output_type": "stream",
     "text": [
      "DQA player 1 won\n",
      "DQA player 2 won\n",
      "DQA player 2 won\n"
     ]
    },
    {
     "name": "stderr",
     "output_type": "stream",
     "text": [
      "\r",
      "  5%|▌         | 5083/100000 [07:55<2:53:04,  9.14it/s]"
     ]
    },
    {
     "name": "stdout",
     "output_type": "stream",
     "text": [
      "DQA player 2 won\n",
      "DQA player 2 won\n"
     ]
    },
    {
     "name": "stderr",
     "output_type": "stream",
     "text": [
      "\r",
      "  5%|▌         | 5085/100000 [07:56<3:13:13,  8.19it/s]"
     ]
    },
    {
     "name": "stdout",
     "output_type": "stream",
     "text": [
      "DQA player 1 won\n",
      "DQA player 1 won\n"
     ]
    },
    {
     "name": "stderr",
     "output_type": "stream",
     "text": [
      "\r",
      "  5%|▌         | 5087/100000 [07:56<3:06:33,  8.48it/s]"
     ]
    },
    {
     "name": "stdout",
     "output_type": "stream",
     "text": [
      "DQA player 1 won\n",
      "DQA player 1 won\n"
     ]
    },
    {
     "name": "stderr",
     "output_type": "stream",
     "text": [
      "  5%|▌         | 5089/100000 [07:56<3:10:10,  8.32it/s]"
     ]
    },
    {
     "name": "stdout",
     "output_type": "stream",
     "text": [
      "DQA player 2 won\n",
      "DQA player 2 won\n",
      "DQA player 2 won\n",
      "DQA player 2 won\n"
     ]
    },
    {
     "name": "stderr",
     "output_type": "stream",
     "text": [
      "  5%|▌         | 5091/100000 [07:56<3:20:11,  7.90it/s]"
     ]
    },
    {
     "name": "stdout",
     "output_type": "stream",
     "text": [
      "DQA player 1 won\n",
      "DQA player 2 won\n",
      "DQA player 2 won\n"
     ]
    },
    {
     "name": "stderr",
     "output_type": "stream",
     "text": [
      "  5%|▌         | 5093/100000 [07:57<2:59:33,  8.81it/s]"
     ]
    },
    {
     "name": "stdout",
     "output_type": "stream",
     "text": [
      "DQA player 1 won\n",
      "DQA player 1 won\n",
      "DQA player 2 won\n",
      "DQA player 2 won\n"
     ]
    },
    {
     "name": "stderr",
     "output_type": "stream",
     "text": [
      "  5%|▌         | 5096/100000 [07:57<3:00:58,  8.74it/s]"
     ]
    },
    {
     "name": "stdout",
     "output_type": "stream",
     "text": [
      "DQA player 1 won\n",
      "DQA player 2 won\n",
      "DQA player 2 won\n"
     ]
    },
    {
     "name": "stderr",
     "output_type": "stream",
     "text": [
      "  5%|▌         | 5098/100000 [07:57<3:12:12,  8.23it/s]"
     ]
    },
    {
     "name": "stdout",
     "output_type": "stream",
     "text": [
      "DQA player 1 won\n",
      "DQA player 1 won\n"
     ]
    },
    {
     "name": "stderr",
     "output_type": "stream",
     "text": [
      "  5%|▌         | 5100/100000 [07:57<3:26:36,  7.66it/s]"
     ]
    },
    {
     "name": "stdout",
     "output_type": "stream",
     "text": [
      "DQA player 2 won\n",
      "DQA player 2 won\n",
      "DQA player 2 won\n",
      "DQA player 2 won\n"
     ]
    },
    {
     "name": "stderr",
     "output_type": "stream",
     "text": [
      "  5%|▌         | 5102/100000 [07:58<3:18:37,  7.96it/s]"
     ]
    },
    {
     "name": "stdout",
     "output_type": "stream",
     "text": [
      "DQA player 1 won\n",
      "DQA player 1 won\n"
     ]
    },
    {
     "name": "stderr",
     "output_type": "stream",
     "text": [
      "  5%|▌         | 5104/100000 [07:58<3:11:54,  8.24it/s]"
     ]
    },
    {
     "name": "stdout",
     "output_type": "stream",
     "text": [
      "DQA player 2 won\n",
      "DQA player 2 won\n",
      "DQA player 2 won\n",
      "DQA player 2 won\n"
     ]
    },
    {
     "name": "stderr",
     "output_type": "stream",
     "text": [
      "  5%|▌         | 5106/100000 [07:58<3:19:33,  7.93it/s]"
     ]
    },
    {
     "name": "stdout",
     "output_type": "stream",
     "text": [
      "DQA player 1 won\n",
      "DQA player 2 won\n",
      "DQA player 2 won\n"
     ]
    },
    {
     "name": "stderr",
     "output_type": "stream",
     "text": [
      "  5%|▌         | 5108/100000 [07:58<3:10:30,  8.30it/s]"
     ]
    },
    {
     "name": "stdout",
     "output_type": "stream",
     "text": [
      "DQA player 1 won\n",
      "DQA player 2 won\n",
      "DQA player 2 won\n"
     ]
    },
    {
     "name": "stderr",
     "output_type": "stream",
     "text": [
      "  5%|▌         | 5110/100000 [07:59<3:07:13,  8.45it/s]"
     ]
    },
    {
     "name": "stdout",
     "output_type": "stream",
     "text": [
      "DQA player 2 won\n",
      "DQA player 2 won\n",
      "DQA player 2 won\n",
      "DQA player 2 won\n",
      "DQA player 1 won\n"
     ]
    },
    {
     "name": "stderr",
     "output_type": "stream",
     "text": [
      "  5%|▌         | 5114/100000 [07:59<2:39:11,  9.93it/s]"
     ]
    },
    {
     "name": "stdout",
     "output_type": "stream",
     "text": [
      "DQA player 2 won\n",
      "DQA player 2 won\n",
      "DQA player 1 won\n",
      "DQA player 2 won\n",
      "DQA player 2 won\n"
     ]
    },
    {
     "name": "stderr",
     "output_type": "stream",
     "text": [
      "\r",
      "  5%|▌         | 5116/100000 [07:59<2:45:43,  9.54it/s]"
     ]
    },
    {
     "name": "stdout",
     "output_type": "stream",
     "text": [
      "DQA player 2 won\n",
      "DQA player 2 won\n",
      "DQA player 2 won\n",
      "DQA player 2 won\n"
     ]
    },
    {
     "name": "stderr",
     "output_type": "stream",
     "text": [
      "  5%|▌         | 5118/100000 [07:59<2:53:42,  9.10it/s]"
     ]
    },
    {
     "name": "stdout",
     "output_type": "stream",
     "text": [
      "DQA player 1 won\n",
      "DQA player 2 won\n",
      "DQA player 2 won\n"
     ]
    },
    {
     "name": "stderr",
     "output_type": "stream",
     "text": [
      "  5%|▌         | 5121/100000 [08:00<2:49:39,  9.32it/s]"
     ]
    },
    {
     "name": "stdout",
     "output_type": "stream",
     "text": [
      "DQA player 2 won\n",
      "DQA player 2 won\n",
      "DQA player 1 won\n",
      "DQA player 1 won\n"
     ]
    },
    {
     "name": "stderr",
     "output_type": "stream",
     "text": [
      "\r",
      "  5%|▌         | 5123/100000 [08:00<2:41:44,  9.78it/s]"
     ]
    },
    {
     "name": "stdout",
     "output_type": "stream",
     "text": [
      "DQA player 2 won\n",
      "DQA player 2 won\n",
      "DQA player 1 won\n",
      "DQA player 1 won\n"
     ]
    },
    {
     "name": "stderr",
     "output_type": "stream",
     "text": [
      "  5%|▌         | 5127/100000 [08:00<2:33:12, 10.32it/s]"
     ]
    },
    {
     "name": "stdout",
     "output_type": "stream",
     "text": [
      "DQA player 2 won\n",
      "DQA player 2 won\n",
      "DQA player 1 won\n",
      "DQA player 2 won\n",
      "DQA player 2 won\n"
     ]
    },
    {
     "name": "stderr",
     "output_type": "stream",
     "text": [
      "\r",
      "  5%|▌         | 5129/100000 [08:00<2:32:47, 10.35it/s]"
     ]
    },
    {
     "name": "stdout",
     "output_type": "stream",
     "text": [
      "DQA player 1 won\n",
      "DQA player 2 won\n",
      "DQA player 2 won\n",
      "DQA player 1 won\n"
     ]
    },
    {
     "name": "stderr",
     "output_type": "stream",
     "text": [
      "  5%|▌         | 5133/100000 [08:01<2:32:52, 10.34it/s]"
     ]
    },
    {
     "name": "stdout",
     "output_type": "stream",
     "text": [
      "DQA player 2 won\n",
      "DQA player 2 won\n",
      "DQA player 1 won\n",
      "DQA player 2 won\n",
      "DQA player 2 won\n"
     ]
    },
    {
     "name": "stderr",
     "output_type": "stream",
     "text": [
      "\r",
      "  5%|▌         | 5135/100000 [08:01<2:40:44,  9.84it/s]"
     ]
    },
    {
     "name": "stdout",
     "output_type": "stream",
     "text": [
      "DQA player 2 won\n",
      "DQA player 2 won\n",
      "DQA player 2 won\n",
      "DQA player 2 won\n"
     ]
    },
    {
     "name": "stderr",
     "output_type": "stream",
     "text": [
      "\r",
      "  5%|▌         | 5136/100000 [08:01<3:27:36,  7.62it/s]"
     ]
    },
    {
     "name": "stdout",
     "output_type": "stream",
     "text": [
      "DQA player 2 won\n",
      "DQA player 2 won\n"
     ]
    },
    {
     "name": "stderr",
     "output_type": "stream",
     "text": [
      "  5%|▌         | 5138/100000 [08:02<4:14:42,  6.21it/s]"
     ]
    },
    {
     "name": "stdout",
     "output_type": "stream",
     "text": [
      "DQA player 2 won\n",
      "DQA player 2 won\n",
      "DQA player 1 won\n"
     ]
    },
    {
     "name": "stderr",
     "output_type": "stream",
     "text": [
      "  5%|▌         | 5141/100000 [08:02<3:24:18,  7.74it/s]"
     ]
    },
    {
     "name": "stdout",
     "output_type": "stream",
     "text": [
      "DQA player 2 won\n",
      "DQA player 2 won\n",
      "DQA player 1 won\n",
      "DQA player 2 won\n",
      "DQA player 2 won\n"
     ]
    },
    {
     "name": "stderr",
     "output_type": "stream",
     "text": [
      "\r",
      "  5%|▌         | 5142/100000 [08:02<4:42:55,  5.59it/s]"
     ]
    },
    {
     "name": "stdout",
     "output_type": "stream",
     "text": [
      "DQA player 1 won\n"
     ]
    },
    {
     "name": "stderr",
     "output_type": "stream",
     "text": [
      "  5%|▌         | 5144/100000 [08:03<4:54:54,  5.36it/s]"
     ]
    },
    {
     "name": "stdout",
     "output_type": "stream",
     "text": [
      "DQA player 1 won\n",
      "DQA player 2 won\n",
      "DQA player 2 won\n"
     ]
    },
    {
     "name": "stderr",
     "output_type": "stream",
     "text": [
      "  5%|▌         | 5146/100000 [08:03<4:49:12,  5.47it/s]"
     ]
    },
    {
     "name": "stdout",
     "output_type": "stream",
     "text": [
      "DQA player 1 won\n",
      "DQA player 1 won\n"
     ]
    },
    {
     "name": "stderr",
     "output_type": "stream",
     "text": [
      "\r",
      "  5%|▌         | 5147/100000 [08:03<5:25:02,  4.86it/s]"
     ]
    },
    {
     "name": "stdout",
     "output_type": "stream",
     "text": [
      "DQA player 2 won\n",
      "DQA player 2 won\n"
     ]
    },
    {
     "name": "stderr",
     "output_type": "stream",
     "text": [
      "\r",
      "  5%|▌         | 5148/100000 [08:04<5:53:27,  4.47it/s]"
     ]
    },
    {
     "name": "stdout",
     "output_type": "stream",
     "text": [
      "DQA player 2 won\n",
      "DQA player 2 won\n"
     ]
    },
    {
     "name": "stderr",
     "output_type": "stream",
     "text": [
      "\r",
      "  5%|▌         | 5149/100000 [08:04<6:30:56,  4.04it/s]"
     ]
    },
    {
     "name": "stdout",
     "output_type": "stream",
     "text": [
      "DQA player 1 won\n"
     ]
    },
    {
     "name": "stderr",
     "output_type": "stream",
     "text": [
      "  5%|▌         | 5151/100000 [08:04<5:26:01,  4.85it/s]"
     ]
    },
    {
     "name": "stdout",
     "output_type": "stream",
     "text": [
      "DQA player 1 won\n",
      "DQA player 1 won\n"
     ]
    },
    {
     "ename": "IndexError",
     "evalue": "pop from empty list",
     "output_type": "error",
     "traceback": [
      "\u001b[0;31m---------------------------------------------------------------------------\u001b[0m",
      "\u001b[0;31mIndexError\u001b[0m                                Traceback (most recent call last)",
      "\u001b[0;32m<ipython-input-18-606e6d50db60>\u001b[0m in \u001b[0;36m<module>\u001b[0;34m\u001b[0m\n\u001b[1;32m      2\u001b[0m \u001b[0mnum_episodes\u001b[0m \u001b[0;34m=\u001b[0m \u001b[0;36m100000\u001b[0m\u001b[0;34m\u001b[0m\u001b[0;34m\u001b[0m\u001b[0m\n\u001b[1;32m      3\u001b[0m \u001b[0;32mfor\u001b[0m \u001b[0mepisode\u001b[0m \u001b[0;32min\u001b[0m \u001b[0mtqdm\u001b[0m\u001b[0;34m(\u001b[0m\u001b[0mrange\u001b[0m\u001b[0;34m(\u001b[0m\u001b[0mnum_episodes\u001b[0m\u001b[0;34m)\u001b[0m\u001b[0;34m)\u001b[0m\u001b[0;34m:\u001b[0m\u001b[0;34m\u001b[0m\u001b[0;34m\u001b[0m\u001b[0m\n\u001b[0;32m----> 4\u001b[0;31m     \u001b[0mcompete\u001b[0m\u001b[0;34m(\u001b[0m\u001b[0menv\u001b[0m\u001b[0;34m,\u001b[0m \u001b[0mdeepq_agent1\u001b[0m\u001b[0;34m,\u001b[0m \u001b[0mdeepq_agent2\u001b[0m\u001b[0;34m,\u001b[0m \u001b[0mtrain\u001b[0m\u001b[0;34m=\u001b[0m\u001b[0;32mTrue\u001b[0m\u001b[0;34m)\u001b[0m\u001b[0;34m\u001b[0m\u001b[0;34m\u001b[0m\u001b[0m\n\u001b[0m",
      "\u001b[0;32m<ipython-input-16-106d1c1b8081>\u001b[0m in \u001b[0;36mcompete\u001b[0;34m(env, agent1, agent2, train)\u001b[0m\n\u001b[1;32m     23\u001b[0m     \u001b[0mstate\u001b[0m \u001b[0;34m=\u001b[0m \u001b[0menv\u001b[0m\u001b[0;34m.\u001b[0m\u001b[0mconnect4\u001b[0m\u001b[0;34m\u001b[0m\u001b[0;34m\u001b[0m\u001b[0m\n\u001b[1;32m     24\u001b[0m     \u001b[0;32mwhile\u001b[0m \u001b[0;34m(\u001b[0m\u001b[0;32mnot\u001b[0m \u001b[0mdone1\u001b[0m\u001b[0;34m)\u001b[0m \u001b[0;32mand\u001b[0m \u001b[0;34m(\u001b[0m\u001b[0;32mnot\u001b[0m \u001b[0mdone2\u001b[0m\u001b[0;34m)\u001b[0m\u001b[0;34m:\u001b[0m\u001b[0;34m\u001b[0m\u001b[0;34m\u001b[0m\u001b[0m\n\u001b[0;32m---> 25\u001b[0;31m         \u001b[0mstate\u001b[0m\u001b[0;34m,\u001b[0m \u001b[0mdone1\u001b[0m \u001b[0;34m=\u001b[0m \u001b[0magent_step\u001b[0m\u001b[0;34m(\u001b[0m\u001b[0magent1\u001b[0m\u001b[0;34m,\u001b[0m \u001b[0mstate\u001b[0m\u001b[0;34m,\u001b[0m \u001b[0mtrain\u001b[0m\u001b[0;34m=\u001b[0m\u001b[0mtrain\u001b[0m\u001b[0;34m)\u001b[0m\u001b[0;34m\u001b[0m\u001b[0;34m\u001b[0m\u001b[0m\n\u001b[0m\u001b[1;32m     26\u001b[0m         \u001b[0;32mif\u001b[0m \u001b[0mdone1\u001b[0m \u001b[0;32mand\u001b[0m \u001b[0mdone2\u001b[0m\u001b[0;34m:\u001b[0m\u001b[0;34m\u001b[0m\u001b[0;34m\u001b[0m\u001b[0m\n\u001b[1;32m     27\u001b[0m             \u001b[0;32mreturn\u001b[0m\u001b[0;34m\u001b[0m\u001b[0;34m\u001b[0m\u001b[0m\n",
      "\u001b[0;32m<ipython-input-16-106d1c1b8081>\u001b[0m in \u001b[0;36magent_step\u001b[0;34m(agent, state, train)\u001b[0m\n\u001b[1;32m      1\u001b[0m \u001b[0;32mdef\u001b[0m \u001b[0magent_step\u001b[0m\u001b[0;34m(\u001b[0m\u001b[0magent\u001b[0m\u001b[0;34m,\u001b[0m \u001b[0mstate\u001b[0m\u001b[0;34m,\u001b[0m \u001b[0mtrain\u001b[0m\u001b[0;34m=\u001b[0m\u001b[0;32mFalse\u001b[0m\u001b[0;34m)\u001b[0m\u001b[0;34m:\u001b[0m\u001b[0;34m\u001b[0m\u001b[0;34m\u001b[0m\u001b[0m\n\u001b[0;32m----> 2\u001b[0;31m     \u001b[0mstate\u001b[0m\u001b[0;34m,\u001b[0m \u001b[0mreward\u001b[0m\u001b[0;34m,\u001b[0m \u001b[0mdone\u001b[0m \u001b[0;34m=\u001b[0m \u001b[0magent\u001b[0m\u001b[0;34m.\u001b[0m\u001b[0mstep\u001b[0m\u001b[0;34m(\u001b[0m\u001b[0mstate\u001b[0m\u001b[0;34m,\u001b[0m \u001b[0mtrain\u001b[0m\u001b[0;34m=\u001b[0m\u001b[0mtrain\u001b[0m\u001b[0;34m)\u001b[0m\u001b[0;34m\u001b[0m\u001b[0;34m\u001b[0m\u001b[0m\n\u001b[0m\u001b[1;32m      3\u001b[0m     \u001b[0;32mif\u001b[0m \u001b[0mdone\u001b[0m\u001b[0;34m:\u001b[0m\u001b[0;34m\u001b[0m\u001b[0;34m\u001b[0m\u001b[0m\n\u001b[1;32m      4\u001b[0m         \u001b[0;32mif\u001b[0m \u001b[0mreward\u001b[0m \u001b[0;34m==\u001b[0m \u001b[0;36m100\u001b[0m\u001b[0;34m:\u001b[0m\u001b[0;34m\u001b[0m\u001b[0;34m\u001b[0m\u001b[0m\n\u001b[1;32m      5\u001b[0m             \u001b[0mprint\u001b[0m\u001b[0;34m(\u001b[0m\u001b[0;34m'{0} won'\u001b[0m\u001b[0;34m.\u001b[0m\u001b[0mformat\u001b[0m\u001b[0;34m(\u001b[0m\u001b[0magent\u001b[0m\u001b[0;34m)\u001b[0m\u001b[0;34m)\u001b[0m\u001b[0;34m\u001b[0m\u001b[0;34m\u001b[0m\u001b[0m\n",
      "\u001b[0;32m~/workspace/connect4_ai/src/Agents/DeepQAgent.py\u001b[0m in \u001b[0;36mstep\u001b[0;34m(self, state, train)\u001b[0m\n\u001b[1;32m     74\u001b[0m \u001b[0;34m\u001b[0m\u001b[0m\n\u001b[1;32m     75\u001b[0m         \u001b[0;31m# Q(s,a) = Q(s,a) + a(r + gamma Q(s+1,a*) - Q(s,a))\u001b[0m\u001b[0;34m\u001b[0m\u001b[0;34m\u001b[0m\u001b[0;34m\u001b[0m\u001b[0m\n\u001b[0;32m---> 76\u001b[0;31m         \u001b[0maction\u001b[0m\u001b[0;34m,\u001b[0m \u001b[0mexpectation\u001b[0m \u001b[0;34m=\u001b[0m \u001b[0mself\u001b[0m\u001b[0;34m.\u001b[0m\u001b[0mpolicy\u001b[0m\u001b[0;34m(\u001b[0m\u001b[0mstate\u001b[0m\u001b[0;34m,\u001b[0m \u001b[0mtrain\u001b[0m\u001b[0;34m=\u001b[0m\u001b[0mtrain\u001b[0m\u001b[0;34m)\u001b[0m\u001b[0;34m\u001b[0m\u001b[0;34m\u001b[0m\u001b[0m\n\u001b[0m\u001b[1;32m     77\u001b[0m         \u001b[0mnew_state\u001b[0m\u001b[0;34m,\u001b[0m \u001b[0mreward\u001b[0m\u001b[0;34m,\u001b[0m \u001b[0mdone\u001b[0m \u001b[0;34m=\u001b[0m \u001b[0mself\u001b[0m\u001b[0;34m.\u001b[0m\u001b[0menv\u001b[0m\u001b[0;34m.\u001b[0m\u001b[0mstep\u001b[0m\u001b[0;34m(\u001b[0m\u001b[0maction\u001b[0m\u001b[0;34m,\u001b[0m \u001b[0mself\u001b[0m\u001b[0;34m.\u001b[0m\u001b[0mplayer\u001b[0m\u001b[0;34m,\u001b[0m \u001b[0mtrain\u001b[0m\u001b[0;34m=\u001b[0m\u001b[0mtrain\u001b[0m\u001b[0;34m)\u001b[0m\u001b[0;34m\u001b[0m\u001b[0;34m\u001b[0m\u001b[0m\n\u001b[1;32m     78\u001b[0m \u001b[0;34m\u001b[0m\u001b[0m\n",
      "\u001b[0;32m~/workspace/connect4_ai/src/Agents/DeepQAgent.py\u001b[0m in \u001b[0;36mpolicy\u001b[0;34m(self, x, train)\u001b[0m\n\u001b[1;32m     62\u001b[0m             \u001b[0maction\u001b[0m \u001b[0;34m=\u001b[0m \u001b[0mfloat\u001b[0m\u001b[0;34m(\u001b[0m\u001b[0;34m'inf'\u001b[0m\u001b[0;34m)\u001b[0m\u001b[0;34m\u001b[0m\u001b[0;34m\u001b[0m\u001b[0m\n\u001b[1;32m     63\u001b[0m             \u001b[0;32mwhile\u001b[0m \u001b[0;32mnot\u001b[0m \u001b[0mself\u001b[0m\u001b[0;34m.\u001b[0m\u001b[0menv\u001b[0m\u001b[0;34m.\u001b[0m\u001b[0maction_is_valid\u001b[0m\u001b[0;34m(\u001b[0m\u001b[0maction\u001b[0m\u001b[0;34m)\u001b[0m\u001b[0;34m:\u001b[0m\u001b[0;34m\u001b[0m\u001b[0;34m\u001b[0m\u001b[0m\n\u001b[0;32m---> 64\u001b[0;31m                 \u001b[0mexpectation\u001b[0m \u001b[0;34m=\u001b[0m \u001b[0mheap\u001b[0m\u001b[0;34m.\u001b[0m\u001b[0mpop\u001b[0m\u001b[0;34m(\u001b[0m\u001b[0;34m)\u001b[0m\u001b[0;34m\u001b[0m\u001b[0;34m\u001b[0m\u001b[0m\n\u001b[0m\u001b[1;32m     65\u001b[0m                 \u001b[0maction\u001b[0m \u001b[0;34m=\u001b[0m \u001b[0mreward_expectations\u001b[0m\u001b[0;34m.\u001b[0m\u001b[0mindex\u001b[0m\u001b[0;34m(\u001b[0m\u001b[0mexpectation\u001b[0m\u001b[0;34m)\u001b[0m\u001b[0;34m\u001b[0m\u001b[0;34m\u001b[0m\u001b[0m\n\u001b[1;32m     66\u001b[0m         \u001b[0;31m# bellman_expectations[action].requires_grad = True\u001b[0m\u001b[0;34m\u001b[0m\u001b[0;34m\u001b[0m\u001b[0;34m\u001b[0m\u001b[0m\n",
      "\u001b[0;31mIndexError\u001b[0m: pop from empty list"
     ]
    }
   ],
   "source": [
    "from tqdm import tqdm\n",
    "num_episodes = 10000\n",
    "for episode in tqdm(range(num_episodes)):\n",
    "    compete(env, deepq_agent1, deepq_agent2, train=True)\n"
   ]
  },
  {
   "cell_type": "code",
   "execution_count": null,
   "metadata": {},
   "outputs": [],
   "source": [
    "compete(env, human_agent, deepq_agent2)"
   ]
  },
  {
   "cell_type": "code",
   "execution_count": null,
   "metadata": {},
   "outputs": [],
   "source": [
    "compete(env, deepq_agent1, deepq_agent2)"
   ]
  },
  {
   "cell_type": "code",
   "execution_count": null,
   "metadata": {},
   "outputs": [],
   "source": []
  }
 ],
 "metadata": {
  "kernelspec": {
   "display_name": "Python 3",
   "language": "python",
   "name": "python3"
  },
  "language_info": {
   "codemirror_mode": {
    "name": "ipython",
    "version": 3
   },
   "file_extension": ".py",
   "mimetype": "text/x-python",
   "name": "python",
   "nbconvert_exporter": "python",
   "pygments_lexer": "ipython3",
   "version": "3.7.4"
  }
 },
 "nbformat": 4,
 "nbformat_minor": 2
}
