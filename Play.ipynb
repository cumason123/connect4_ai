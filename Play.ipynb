{
 "cells": [
  {
   "cell_type": "code",
   "execution_count": 15,
   "metadata": {},
   "outputs": [],
   "source": [
    "import sys\n",
    "sys.path.append('./src')\n",
    "sys.path.append('./src/Agents')\n",
    "from Environment.environment import Env\n",
    "from RandomAgents import RA\n",
    "from DeepQAgent import DQA\n",
    "from HumanAgent import HA\n",
    "# from DRON import DRON\n",
    "import numpy as np\n",
    "import os\n",
    "if 'connect4_ai' in os.listdir():\n",
    "    os.chdir('./connect4_ai')\n",
    "np.random.seed(5)\n",
    "env = Env()\n",
    "\n",
    "random_agent = RA(env, 2)\n",
    "deepq_agent1 = DQA(env, 1)\n",
    "deepq_agent2 = DQA(env, 2)\n",
    "human_agent = HA(env, 1)"
   ]
  },
  {
   "cell_type": "code",
   "execution_count": 16,
   "metadata": {},
   "outputs": [],
   "source": [
    "def agent_step(agent, state, train=False):\n",
    "    state, reward, done = agent.step(state, train=train)\n",
    "    if done:\n",
    "        if reward == 100:\n",
    "            print('{0} won'.format(agent))\n",
    "        elif reward == 0:\n",
    "            print('tie')\n",
    "    return state, done\n",
    " \n",
    "def compete(env, agent1, agent2, train=False):\n",
    "    assert(agent1.player == 1 and agent2.player == 2)\n",
    "    done1 = False\n",
    "    done2 = False\n",
    "    env.reset()\n",
    "    state = env.connect4\n",
    "    while (not done1) and (not done2):\n",
    "        state, done1 = agent_step(agent1, state, train=train)\n",
    "        if done1 and done2:\n",
    "            return\n",
    "        state, done = agent_step(agent2, state, train=train)"
   ]
  },
  {
   "cell_type": "code",
   "execution_count": null,
   "metadata": {},
   "outputs": [
    {
     "name": "stderr",
     "output_type": "stream",
     "text": [
      "  0%|          | 3/100000 [00:00<7:41:37,  3.61it/s]"
     ]
    },
    {
     "name": "stdout",
     "output_type": "stream",
     "text": [
      "DQA player 2 won\n",
      "DQA player 2 won\n",
      "DQA player 2 won\n",
      "DQA player 2 won\n",
      "DQA player 1 won\n"
     ]
    },
    {
     "name": "stderr",
     "output_type": "stream",
     "text": [
      "  0%|          | 5/100000 [00:00<5:40:03,  4.90it/s]"
     ]
    },
    {
     "name": "stdout",
     "output_type": "stream",
     "text": [
      "DQA player 2 won\n",
      "DQA player 2 won\n",
      "DQA player 2 won\n",
      "DQA player 2 won\n",
      "DQA player 1 won\n"
     ]
    },
    {
     "name": "stderr",
     "output_type": "stream",
     "text": [
      "  0%|          | 9/100000 [00:01<3:50:06,  7.24it/s]"
     ]
    },
    {
     "name": "stdout",
     "output_type": "stream",
     "text": [
      "DQA player 2 won\n",
      "DQA player 2 won\n",
      "DQA player 1 won\n",
      "DQA player 2 won\n",
      "DQA player 2 won\n"
     ]
    },
    {
     "name": "stderr",
     "output_type": "stream",
     "text": [
      "  0%|          | 11/100000 [00:01<4:22:17,  6.35it/s]"
     ]
    },
    {
     "name": "stdout",
     "output_type": "stream",
     "text": [
      "DQA player 1 won\n",
      "DQA player 1 won\n"
     ]
    },
    {
     "name": "stderr",
     "output_type": "stream",
     "text": [
      "\r",
      "  0%|          | 12/100000 [00:01<4:23:28,  6.33it/s]"
     ]
    },
    {
     "name": "stdout",
     "output_type": "stream",
     "text": [
      "DQA player 1 won\n"
     ]
    },
    {
     "name": "stderr",
     "output_type": "stream",
     "text": [
      "\r",
      "  0%|          | 13/100000 [00:01<6:11:31,  4.49it/s]"
     ]
    },
    {
     "name": "stdout",
     "output_type": "stream",
     "text": [
      "DQA player 1 won\n"
     ]
    },
    {
     "name": "stderr",
     "output_type": "stream",
     "text": [
      "\r",
      "  0%|          | 14/100000 [00:02<7:28:37,  3.71it/s]"
     ]
    },
    {
     "name": "stdout",
     "output_type": "stream",
     "text": [
      "DQA player 2 won\n",
      "DQA player 2 won\n"
     ]
    },
    {
     "name": "stderr",
     "output_type": "stream",
     "text": [
      "\r",
      "  0%|          | 15/100000 [00:02<7:39:54,  3.62it/s]"
     ]
    },
    {
     "name": "stdout",
     "output_type": "stream",
     "text": [
      "DQA player 1 won\n"
     ]
    },
    {
     "name": "stderr",
     "output_type": "stream",
     "text": [
      "\r",
      "  0%|          | 16/100000 [00:02<7:54:56,  3.51it/s]"
     ]
    },
    {
     "name": "stdout",
     "output_type": "stream",
     "text": [
      "DQA player 1 won\n",
      "DQA player 2 won\n"
     ]
    },
    {
     "name": "stderr",
     "output_type": "stream",
     "text": [
      "  0%|          | 18/100000 [00:03<6:05:31,  4.56it/s]"
     ]
    },
    {
     "name": "stdout",
     "output_type": "stream",
     "text": [
      "DQA player 2 won\n",
      "DQA player 2 won\n",
      "DQA player 2 won\n"
     ]
    },
    {
     "name": "stderr",
     "output_type": "stream",
     "text": [
      "\r",
      "  0%|          | 19/100000 [00:03<5:10:29,  5.37it/s]"
     ]
    },
    {
     "name": "stdout",
     "output_type": "stream",
     "text": [
      "DQA player 1 won\n"
     ]
    },
    {
     "name": "stderr",
     "output_type": "stream",
     "text": [
      "\r",
      "  0%|          | 20/100000 [00:03<6:09:11,  4.51it/s]"
     ]
    },
    {
     "name": "stdout",
     "output_type": "stream",
     "text": [
      "DQA player 1 won\n"
     ]
    },
    {
     "name": "stderr",
     "output_type": "stream",
     "text": [
      "\r",
      "  0%|          | 21/100000 [00:03<6:04:11,  4.58it/s]"
     ]
    },
    {
     "name": "stdout",
     "output_type": "stream",
     "text": [
      "DQA player 2 won\n",
      "DQA player 2 won\n"
     ]
    },
    {
     "name": "stderr",
     "output_type": "stream",
     "text": [
      "\r",
      "  0%|          | 22/100000 [00:04<6:30:16,  4.27it/s]"
     ]
    },
    {
     "name": "stdout",
     "output_type": "stream",
     "text": [
      "DQA player 1 won\n",
      "DQA player 1 won\n"
     ]
    },
    {
     "name": "stderr",
     "output_type": "stream",
     "text": [
      "  0%|          | 26/100000 [00:04<4:51:55,  5.71it/s]"
     ]
    },
    {
     "name": "stdout",
     "output_type": "stream",
     "text": [
      "DQA player 1 won\n",
      "DQA player 1 won\n",
      "DQA player 2 won\n",
      "DQA player 2 won\n",
      "DQA player 1 won\n",
      "DQA player 1 won\n"
     ]
    },
    {
     "name": "stderr",
     "output_type": "stream",
     "text": [
      "\r",
      "  0%|          | 29/100000 [00:04<3:53:41,  7.13it/s]"
     ]
    },
    {
     "name": "stdout",
     "output_type": "stream",
     "text": [
      "DQA player 1 won\n",
      "DQA player 1 won\n"
     ]
    },
    {
     "name": "stderr",
     "output_type": "stream",
     "text": [
      "  0%|          | 32/100000 [00:05<3:55:39,  7.07it/s]"
     ]
    },
    {
     "name": "stdout",
     "output_type": "stream",
     "text": [
      "DQA player 2 won\n",
      "DQA player 2 won\n",
      "DQA player 1 won\n",
      "DQA player 2 won\n"
     ]
    },
    {
     "name": "stderr",
     "output_type": "stream",
     "text": [
      "\r",
      "  0%|          | 34/100000 [00:05<3:27:45,  8.02it/s]"
     ]
    },
    {
     "name": "stdout",
     "output_type": "stream",
     "text": [
      "DQA player 2 won\n",
      "DQA player 1 won\n",
      "DQA player 1 won\n",
      "DQA player 2 won\n"
     ]
    },
    {
     "name": "stderr",
     "output_type": "stream",
     "text": [
      "  0%|          | 38/100000 [00:05<2:38:27, 10.51it/s]"
     ]
    },
    {
     "name": "stdout",
     "output_type": "stream",
     "text": [
      "DQA player 2 won\n",
      "DQA player 1 won\n",
      "DQA player 2 won\n",
      "DQA player 2 won\n",
      "DQA player 1 won\n"
     ]
    },
    {
     "name": "stderr",
     "output_type": "stream",
     "text": [
      "  0%|          | 42/100000 [00:06<2:07:14, 13.09it/s]"
     ]
    },
    {
     "name": "stdout",
     "output_type": "stream",
     "text": [
      "DQA player 2 won\n",
      "DQA player 2 won\n",
      "DQA player 1 won\n",
      "DQA player 1 won\n",
      "DQA player 1 won\n"
     ]
    },
    {
     "name": "stderr",
     "output_type": "stream",
     "text": [
      "\r",
      "  0%|          | 45/100000 [00:06<1:57:23, 14.19it/s]"
     ]
    },
    {
     "name": "stdout",
     "output_type": "stream",
     "text": [
      "DQA player 1 won\n",
      "DQA player 2 won\n",
      "DQA player 2 won\n",
      "DQA player 1 won\n"
     ]
    },
    {
     "name": "stderr",
     "output_type": "stream",
     "text": [
      "  0%|          | 50/100000 [00:06<1:49:37, 15.19it/s]"
     ]
    },
    {
     "name": "stdout",
     "output_type": "stream",
     "text": [
      "DQA player 2 won\n",
      "DQA player 2 won\n",
      "DQA player 1 won\n",
      "DQA player 2 won\n",
      "DQA player 2 won\n",
      "DQA player 2 won\n",
      "DQA player 2 won\n",
      "DQA player 1 won\n",
      "DQA player 2 won\n",
      "DQA player 2 won\n"
     ]
    },
    {
     "name": "stderr",
     "output_type": "stream",
     "text": [
      "\r",
      "  0%|          | 53/100000 [00:06<1:36:32, 17.25it/s]"
     ]
    },
    {
     "name": "stdout",
     "output_type": "stream",
     "text": [
      "DQA player 2 won\n",
      "DQA player 2 won\n",
      "DQA player 2 won\n",
      "DQA player 2 won\n",
      "DQA player 1 won\n"
     ]
    },
    {
     "name": "stderr",
     "output_type": "stream",
     "text": [
      "  0%|          | 59/100000 [00:06<1:36:50, 17.20it/s]"
     ]
    },
    {
     "name": "stdout",
     "output_type": "stream",
     "text": [
      "DQA player 1 won\n",
      "DQA player 1 won\n",
      "DQA player 1 won\n",
      "DQA player 1 won\n",
      "DQA player 2 won\n",
      "DQA player 2 won\n",
      "DQA player 2 won\n"
     ]
    },
    {
     "name": "stderr",
     "output_type": "stream",
     "text": [
      "\r",
      "  0%|          | 62/100000 [00:07<1:30:48, 18.34it/s]"
     ]
    },
    {
     "name": "stdout",
     "output_type": "stream",
     "text": [
      "DQA player 2 won\n",
      "DQA player 2 won\n",
      "DQA player 2 won\n",
      "DQA player 2 won\n",
      "DQA player 2 won\n",
      "DQA player 1 won\n"
     ]
    },
    {
     "name": "stderr",
     "output_type": "stream",
     "text": [
      "\r",
      "  0%|          | 65/100000 [00:07<1:53:54, 14.62it/s]"
     ]
    },
    {
     "name": "stdout",
     "output_type": "stream",
     "text": [
      "DQA player 1 won\n",
      "DQA player 1 won\n"
     ]
    },
    {
     "name": "stderr",
     "output_type": "stream",
     "text": [
      "  0%|          | 69/100000 [00:07<2:15:09, 12.32it/s]"
     ]
    },
    {
     "name": "stdout",
     "output_type": "stream",
     "text": [
      "DQA player 1 won\n",
      "DQA player 2 won\n",
      "DQA player 2 won\n",
      "DQA player 1 won\n",
      "DQA player 1 won\n",
      "DQA player 1 won\n"
     ]
    },
    {
     "name": "stderr",
     "output_type": "stream",
     "text": [
      "  0%|          | 74/100000 [00:08<1:46:45, 15.60it/s]"
     ]
    },
    {
     "name": "stdout",
     "output_type": "stream",
     "text": [
      "DQA player 1 won\n",
      "DQA player 1 won\n",
      "DQA player 1 won\n",
      "DQA player 1 won\n",
      "DQA player 1 won\n"
     ]
    },
    {
     "name": "stderr",
     "output_type": "stream",
     "text": [
      "  0%|          | 80/100000 [00:08<1:25:55, 19.38it/s]"
     ]
    },
    {
     "name": "stdout",
     "output_type": "stream",
     "text": [
      "DQA player 1 won\n",
      "DQA player 1 won\n",
      "DQA player 1 won\n",
      "DQA player 1 won\n",
      "DQA player 1 won\n"
     ]
    },
    {
     "name": "stderr",
     "output_type": "stream",
     "text": [
      "\r",
      "  0%|          | 83/100000 [00:08<2:12:06, 12.60it/s]"
     ]
    },
    {
     "name": "stdout",
     "output_type": "stream",
     "text": [
      "DQA player 1 won\n",
      "DQA player 2 won\n",
      "DQA player 2 won\n",
      "DQA player 2 won\n",
      "DQA player 2 won\n"
     ]
    },
    {
     "name": "stderr",
     "output_type": "stream",
     "text": [
      "  0%|          | 87/100000 [00:08<1:59:44, 13.91it/s]"
     ]
    },
    {
     "name": "stdout",
     "output_type": "stream",
     "text": [
      "DQA player 2 won\n",
      "DQA player 2 won\n",
      "DQA player 2 won\n",
      "DQA player 2 won\n",
      "DQA player 1 won\n",
      "DQA player 2 won\n",
      "DQA player 2 won\n"
     ]
    },
    {
     "name": "stderr",
     "output_type": "stream",
     "text": [
      "  0%|          | 92/100000 [00:09<1:40:58, 16.49it/s]"
     ]
    },
    {
     "name": "stdout",
     "output_type": "stream",
     "text": [
      "DQA player 2 won\n",
      "DQA player 2 won\n",
      "DQA player 1 won\n",
      "DQA player 2 won\n",
      "DQA player 2 won\n",
      "DQA player 1 won\n",
      "DQA player 1 won\n"
     ]
    },
    {
     "name": "stderr",
     "output_type": "stream",
     "text": [
      "  0%|          | 98/100000 [00:09<1:23:59, 19.82it/s]"
     ]
    },
    {
     "name": "stdout",
     "output_type": "stream",
     "text": [
      "DQA player 1 won\n",
      "DQA player 1 won\n",
      "DQA player 1 won\n",
      "DQA player 1 won\n",
      "DQA player 2 won\n",
      "DQA player 2 won\n",
      "DQA player 1 won\n"
     ]
    },
    {
     "name": "stderr",
     "output_type": "stream",
     "text": [
      "  0%|          | 104/100000 [00:09<1:15:14, 22.13it/s]"
     ]
    },
    {
     "name": "stdout",
     "output_type": "stream",
     "text": [
      "DQA player 1 won\n",
      "DQA player 1 won\n",
      "DQA player 2 won\n",
      "DQA player 2 won\n",
      "DQA player 1 won\n",
      "DQA player 1 won\n",
      "DQA player 2 won\n",
      "DQA player 2 won\n"
     ]
    },
    {
     "name": "stderr",
     "output_type": "stream",
     "text": [
      "\r",
      "  0%|          | 107/100000 [00:09<1:13:32, 22.64it/s]"
     ]
    },
    {
     "name": "stdout",
     "output_type": "stream",
     "text": [
      "DQA player 1 won\n",
      "DQA player 1 won\n",
      "DQA player 2 won\n",
      "DQA player 2 won\n"
     ]
    },
    {
     "name": "stderr",
     "output_type": "stream",
     "text": [
      "\r",
      "  0%|          | 110/100000 [00:10<1:38:34, 16.89it/s]"
     ]
    },
    {
     "name": "stdout",
     "output_type": "stream",
     "text": [
      "DQA player 1 won\n",
      "DQA player 1 won\n",
      "DQA player 2 won\n",
      "DQA player 2 won\n",
      "DQA player 2 won\n"
     ]
    },
    {
     "name": "stderr",
     "output_type": "stream",
     "text": [
      "\r",
      "  0%|          | 112/100000 [00:10<3:20:08,  8.32it/s]"
     ]
    },
    {
     "name": "stdout",
     "output_type": "stream",
     "text": [
      "DQA player 2 won\n",
      "DQA player 2 won\n",
      "DQA player 2 won\n"
     ]
    },
    {
     "name": "stderr",
     "output_type": "stream",
     "text": [
      "  0%|          | 117/100000 [00:11<2:41:17, 10.32it/s]"
     ]
    },
    {
     "name": "stdout",
     "output_type": "stream",
     "text": [
      "DQA player 1 won\n",
      "DQA player 1 won\n",
      "DQA player 1 won\n",
      "DQA player 1 won\n",
      "DQA player 1 won\n",
      "DQA player 2 won\n",
      "DQA player 2 won\n"
     ]
    },
    {
     "name": "stderr",
     "output_type": "stream",
     "text": [
      "\r",
      "  0%|          | 120/100000 [00:11<2:13:39, 12.46it/s]"
     ]
    },
    {
     "name": "stdout",
     "output_type": "stream",
     "text": [
      "DQA player 1 won\n",
      "DQA player 1 won\n"
     ]
    },
    {
     "name": "stderr",
     "output_type": "stream",
     "text": [
      "\r",
      "  0%|          | 122/100000 [00:11<2:53:25,  9.60it/s]"
     ]
    },
    {
     "name": "stdout",
     "output_type": "stream",
     "text": [
      "DQA player 1 won\n",
      "DQA player 1 won\n",
      "DQA player 1 won\n"
     ]
    },
    {
     "name": "stderr",
     "output_type": "stream",
     "text": [
      "  0%|          | 128/100000 [00:12<2:29:37, 11.12it/s]"
     ]
    },
    {
     "name": "stdout",
     "output_type": "stream",
     "text": [
      "DQA player 1 won\n",
      "DQA player 1 won\n",
      "DQA player 1 won\n",
      "DQA player 2 won\n",
      "DQA player 2 won\n",
      "DQA player 1 won\n"
     ]
    },
    {
     "name": "stderr",
     "output_type": "stream",
     "text": [
      "\r",
      "  0%|          | 130/100000 [00:12<2:27:20, 11.30it/s]"
     ]
    },
    {
     "name": "stdout",
     "output_type": "stream",
     "text": [
      "DQA player 1 won\n",
      "DQA player 1 won\n"
     ]
    },
    {
     "name": "stderr",
     "output_type": "stream",
     "text": [
      "  0%|          | 134/100000 [00:12<2:15:27, 12.29it/s]"
     ]
    },
    {
     "name": "stdout",
     "output_type": "stream",
     "text": [
      "DQA player 1 won\n",
      "DQA player 2 won\n",
      "DQA player 2 won\n",
      "DQA player 2 won\n",
      "DQA player 2 won\n",
      "DQA player 2 won\n",
      "DQA player 2 won\n"
     ]
    },
    {
     "name": "stderr",
     "output_type": "stream",
     "text": [
      "  0%|          | 138/100000 [00:12<2:16:16, 12.21it/s]"
     ]
    },
    {
     "name": "stdout",
     "output_type": "stream",
     "text": [
      "DQA player 2 won\n",
      "DQA player 2 won\n",
      "DQA player 2 won\n",
      "DQA player 2 won\n",
      "DQA player 2 won\n",
      "DQA player 2 won\n"
     ]
    },
    {
     "name": "stderr",
     "output_type": "stream",
     "text": [
      "\r",
      "  0%|          | 140/100000 [00:13<2:31:46, 10.97it/s]"
     ]
    },
    {
     "name": "stdout",
     "output_type": "stream",
     "text": [
      "DQA player 2 won\n",
      "DQA player 2 won\n",
      "DQA player 2 won\n",
      "DQA player 2 won\n",
      "DQA player 1 won\n"
     ]
    },
    {
     "name": "stderr",
     "output_type": "stream",
     "text": [
      "\r",
      "  0%|          | 142/100000 [00:13<3:04:30,  9.02it/s]"
     ]
    },
    {
     "name": "stdout",
     "output_type": "stream",
     "text": [
      "DQA player 1 won\n"
     ]
    },
    {
     "name": "stderr",
     "output_type": "stream",
     "text": [
      "\r",
      "  0%|          | 144/100000 [00:13<3:45:53,  7.37it/s]"
     ]
    },
    {
     "name": "stdout",
     "output_type": "stream",
     "text": [
      "DQA player 1 won\n",
      "DQA player 2 won\n",
      "DQA player 2 won\n",
      "DQA player 2 won\n",
      "DQA player 2 won\n"
     ]
    },
    {
     "name": "stderr",
     "output_type": "stream",
     "text": [
      "  0%|          | 147/100000 [00:14<3:39:31,  7.58it/s]"
     ]
    },
    {
     "name": "stdout",
     "output_type": "stream",
     "text": [
      "DQA player 2 won\n",
      "DQA player 2 won\n",
      "DQA player 1 won\n"
     ]
    },
    {
     "name": "stderr",
     "output_type": "stream",
     "text": [
      "  0%|          | 149/100000 [00:14<4:12:51,  6.58it/s]"
     ]
    },
    {
     "name": "stdout",
     "output_type": "stream",
     "text": [
      "DQA player 1 won\n",
      "DQA player 1 won\n"
     ]
    },
    {
     "name": "stderr",
     "output_type": "stream",
     "text": [
      "  0%|          | 151/100000 [00:14<3:53:51,  7.12it/s]"
     ]
    },
    {
     "name": "stdout",
     "output_type": "stream",
     "text": [
      "DQA player 1 won\n",
      "DQA player 1 won\n"
     ]
    },
    {
     "name": "stderr",
     "output_type": "stream",
     "text": [
      "  0%|          | 153/100000 [00:14<3:44:26,  7.41it/s]"
     ]
    },
    {
     "name": "stdout",
     "output_type": "stream",
     "text": [
      "DQA player 1 won\n",
      "DQA player 1 won\n",
      "DQA player 1 won\n"
     ]
    },
    {
     "name": "stderr",
     "output_type": "stream",
     "text": [
      "  0%|          | 156/100000 [00:15<3:34:46,  7.75it/s]"
     ]
    },
    {
     "name": "stdout",
     "output_type": "stream",
     "text": [
      "DQA player 1 won\n",
      "DQA player 2 won\n",
      "DQA player 2 won\n"
     ]
    },
    {
     "name": "stderr",
     "output_type": "stream",
     "text": [
      "  0%|          | 160/100000 [00:15<2:37:43, 10.55it/s]"
     ]
    },
    {
     "name": "stdout",
     "output_type": "stream",
     "text": [
      "DQA player 1 won\n",
      "DQA player 1 won\n",
      "DQA player 1 won\n",
      "DQA player 2 won\n",
      "DQA player 2 won\n"
     ]
    },
    {
     "name": "stderr",
     "output_type": "stream",
     "text": [
      "  0%|          | 165/100000 [00:15<2:03:30, 13.47it/s]"
     ]
    },
    {
     "name": "stdout",
     "output_type": "stream",
     "text": [
      "DQA player 1 won\n",
      "DQA player 2 won\n",
      "DQA player 2 won\n",
      "DQA player 1 won\n",
      "DQA player 1 won\n",
      "DQA player 1 won\n"
     ]
    },
    {
     "name": "stderr",
     "output_type": "stream",
     "text": [
      "  0%|          | 170/100000 [00:16<1:40:14, 16.60it/s]"
     ]
    },
    {
     "name": "stdout",
     "output_type": "stream",
     "text": [
      "DQA player 1 won\n",
      "DQA player 1 won\n",
      "DQA player 1 won\n",
      "DQA player 1 won\n",
      "DQA player 1 won\n"
     ]
    },
    {
     "name": "stderr",
     "output_type": "stream",
     "text": [
      "\r",
      "  0%|          | 173/100000 [00:16<1:32:54, 17.91it/s]"
     ]
    },
    {
     "name": "stdout",
     "output_type": "stream",
     "text": [
      "DQA player 1 won\n",
      "DQA player 1 won\n",
      "DQA player 1 won\n",
      "DQA player 1 won\n",
      "DQA player 1 won\n"
     ]
    },
    {
     "name": "stderr",
     "output_type": "stream",
     "text": [
      "  0%|          | 179/100000 [00:16<1:29:26, 18.60it/s]"
     ]
    },
    {
     "name": "stdout",
     "output_type": "stream",
     "text": [
      "DQA player 1 won\n",
      "DQA player 1 won\n",
      "DQA player 1 won\n",
      "DQA player 1 won\n"
     ]
    },
    {
     "name": "stderr",
     "output_type": "stream",
     "text": [
      "\r",
      "  0%|          | 181/100000 [00:16<1:32:30, 17.98it/s]"
     ]
    },
    {
     "name": "stdout",
     "output_type": "stream",
     "text": [
      "DQA player 2 won\n",
      "DQA player 2 won\n",
      "DQA player 1 won\n",
      "DQA player 1 won\n",
      "DQA player 1 won\n",
      "DQA player 1 won\n"
     ]
    },
    {
     "name": "stderr",
     "output_type": "stream",
     "text": [
      "  0%|          | 188/100000 [00:16<1:35:21, 17.44it/s]"
     ]
    },
    {
     "name": "stdout",
     "output_type": "stream",
     "text": [
      "DQA player 1 won\n",
      "DQA player 2 won\n",
      "DQA player 2 won\n",
      "DQA player 1 won\n",
      "DQA player 1 won\n"
     ]
    },
    {
     "name": "stderr",
     "output_type": "stream",
     "text": [
      "\r",
      "  0%|          | 190/100000 [00:17<1:35:48, 17.36it/s]"
     ]
    },
    {
     "name": "stdout",
     "output_type": "stream",
     "text": [
      "DQA player 1 won\n",
      "DQA player 2 won\n",
      "DQA player 2 won\n",
      "DQA player 1 won\n"
     ]
    },
    {
     "name": "stderr",
     "output_type": "stream",
     "text": [
      "  0%|          | 194/100000 [00:17<1:54:20, 14.55it/s]"
     ]
    },
    {
     "name": "stdout",
     "output_type": "stream",
     "text": [
      "DQA player 1 won\n",
      "DQA player 1 won\n",
      "DQA player 1 won\n"
     ]
    },
    {
     "name": "stderr",
     "output_type": "stream",
     "text": [
      "\r",
      "  0%|          | 196/100000 [00:17<1:48:31, 15.33it/s]"
     ]
    },
    {
     "name": "stdout",
     "output_type": "stream",
     "text": [
      "DQA player 1 won\n",
      "DQA player 1 won\n",
      "DQA player 1 won\n",
      "DQA player 2 won\n"
     ]
    },
    {
     "name": "stderr",
     "output_type": "stream",
     "text": [
      "  0%|          | 201/100000 [00:18<2:35:05, 10.72it/s]"
     ]
    },
    {
     "name": "stdout",
     "output_type": "stream",
     "text": [
      "DQA player 2 won\n",
      "DQA player 1 won\n",
      "DQA player 1 won\n",
      "DQA player 1 won\n",
      "DQA player 1 won\n"
     ]
    },
    {
     "name": "stderr",
     "output_type": "stream",
     "text": [
      "  0%|          | 206/100000 [00:18<1:58:44, 14.01it/s]"
     ]
    },
    {
     "name": "stdout",
     "output_type": "stream",
     "text": [
      "DQA player 2 won\n",
      "DQA player 2 won\n",
      "DQA player 1 won\n",
      "DQA player 1 won\n",
      "DQA player 2 won\n",
      "DQA player 2 won\n"
     ]
    },
    {
     "name": "stderr",
     "output_type": "stream",
     "text": [
      "\r",
      "  0%|          | 208/100000 [00:18<1:57:00, 14.21it/s]"
     ]
    },
    {
     "name": "stdout",
     "output_type": "stream",
     "text": [
      "DQA player 1 won\n",
      "DQA player 1 won\n",
      "DQA player 2 won\n",
      "DQA player 2 won\n"
     ]
    },
    {
     "name": "stderr",
     "output_type": "stream",
     "text": [
      "\r",
      "  0%|          | 210/100000 [00:18<2:33:06, 10.86it/s]"
     ]
    },
    {
     "name": "stdout",
     "output_type": "stream",
     "text": [
      "DQA player 1 won\n"
     ]
    },
    {
     "name": "stderr",
     "output_type": "stream",
     "text": [
      "\r",
      "  0%|          | 212/100000 [00:19<3:13:06,  8.61it/s]"
     ]
    },
    {
     "name": "stdout",
     "output_type": "stream",
     "text": [
      "DQA player 1 won\n",
      "DQA player 1 won\n",
      "DQA player 1 won\n"
     ]
    },
    {
     "name": "stderr",
     "output_type": "stream",
     "text": [
      "\r",
      "  0%|          | 214/100000 [00:19<2:55:13,  9.49it/s]"
     ]
    },
    {
     "name": "stdout",
     "output_type": "stream",
     "text": [
      "DQA player 1 won\n",
      "DQA player 2 won\n",
      "DQA player 2 won\n",
      "DQA player 1 won\n"
     ]
    },
    {
     "name": "stderr",
     "output_type": "stream",
     "text": [
      "  0%|          | 218/100000 [00:19<2:52:03,  9.67it/s]"
     ]
    },
    {
     "name": "stdout",
     "output_type": "stream",
     "text": [
      "DQA player 2 won\n",
      "DQA player 2 won\n",
      "DQA player 2 won\n",
      "DQA player 2 won\n"
     ]
    },
    {
     "name": "stderr",
     "output_type": "stream",
     "text": [
      "\r",
      "  0%|          | 220/100000 [00:20<3:26:43,  8.04it/s]"
     ]
    },
    {
     "name": "stdout",
     "output_type": "stream",
     "text": [
      "DQA player 1 won\n",
      "DQA player 2 won\n",
      "DQA player 2 won\n"
     ]
    },
    {
     "name": "stderr",
     "output_type": "stream",
     "text": [
      "\r",
      "  0%|          | 223/100000 [00:20<2:46:50,  9.97it/s]"
     ]
    },
    {
     "name": "stdout",
     "output_type": "stream",
     "text": [
      "DQA player 1 won\n",
      "DQA player 1 won\n",
      "DQA player 1 won\n",
      "DQA player 1 won\n",
      "DQA player 1 won\n"
     ]
    },
    {
     "name": "stderr",
     "output_type": "stream",
     "text": [
      "\r",
      "  0%|          | 226/100000 [00:20<2:35:09, 10.72it/s]"
     ]
    },
    {
     "name": "stdout",
     "output_type": "stream",
     "text": [
      "DQA player 1 won\n"
     ]
    },
    {
     "name": "stderr",
     "output_type": "stream",
     "text": [
      "\r",
      "  0%|          | 228/100000 [00:20<3:22:57,  8.19it/s]"
     ]
    },
    {
     "name": "stdout",
     "output_type": "stream",
     "text": [
      "DQA player 1 won\n",
      "DQA player 1 won\n"
     ]
    },
    {
     "name": "stderr",
     "output_type": "stream",
     "text": [
      "\r",
      "  0%|          | 230/100000 [00:20<3:07:50,  8.85it/s]"
     ]
    },
    {
     "name": "stdout",
     "output_type": "stream",
     "text": [
      "DQA player 1 won\n",
      "DQA player 2 won\n",
      "DQA player 2 won\n",
      "DQA player 2 won\n",
      "DQA player 2 won\n"
     ]
    },
    {
     "name": "stderr",
     "output_type": "stream",
     "text": [
      "\r",
      "  0%|          | 232/100000 [00:21<3:04:07,  9.03it/s]"
     ]
    },
    {
     "name": "stdout",
     "output_type": "stream",
     "text": [
      "DQA player 1 won\n",
      "DQA player 2 won\n",
      "DQA player 2 won\n"
     ]
    },
    {
     "name": "stderr",
     "output_type": "stream",
     "text": [
      "  0%|          | 235/100000 [00:21<4:36:59,  6.00it/s]"
     ]
    },
    {
     "name": "stdout",
     "output_type": "stream",
     "text": [
      "DQA player 1 won\n",
      "DQA player 1 won\n"
     ]
    },
    {
     "name": "stderr",
     "output_type": "stream",
     "text": [
      "  0%|          | 237/100000 [00:22<4:42:43,  5.88it/s]"
     ]
    },
    {
     "name": "stdout",
     "output_type": "stream",
     "text": [
      "DQA player 2 won\n",
      "DQA player 2 won\n",
      "DQA player 2 won\n",
      "DQA player 2 won\n"
     ]
    },
    {
     "name": "stderr",
     "output_type": "stream",
     "text": [
      "\r",
      "  0%|          | 239/100000 [00:22<3:56:28,  7.03it/s]"
     ]
    },
    {
     "name": "stdout",
     "output_type": "stream",
     "text": [
      "DQA player 1 won\n",
      "DQA player 1 won\n",
      "DQA player 2 won\n",
      "DQA player 2 won\n"
     ]
    },
    {
     "name": "stderr",
     "output_type": "stream",
     "text": [
      "\r",
      "  0%|          | 241/100000 [00:22<3:25:31,  8.09it/s]"
     ]
    },
    {
     "name": "stdout",
     "output_type": "stream",
     "text": [
      "DQA player 1 won\n"
     ]
    },
    {
     "name": "stderr",
     "output_type": "stream",
     "text": [
      "  0%|          | 244/100000 [00:22<3:29:33,  7.93it/s]"
     ]
    },
    {
     "name": "stdout",
     "output_type": "stream",
     "text": [
      "DQA player 1 won\n",
      "DQA player 1 won\n",
      "DQA player 1 won\n"
     ]
    },
    {
     "name": "stderr",
     "output_type": "stream",
     "text": [
      "  0%|          | 246/100000 [00:23<4:17:35,  6.45it/s]"
     ]
    },
    {
     "name": "stdout",
     "output_type": "stream",
     "text": [
      "DQA player 2 won\n",
      "DQA player 2 won\n",
      "DQA player 2 won\n",
      "DQA player 2 won\n"
     ]
    },
    {
     "name": "stderr",
     "output_type": "stream",
     "text": [
      "  0%|          | 248/100000 [00:23<3:58:38,  6.97it/s]"
     ]
    },
    {
     "name": "stdout",
     "output_type": "stream",
     "text": [
      "DQA player 1 won\n",
      "DQA player 1 won\n"
     ]
    },
    {
     "name": "stderr",
     "output_type": "stream",
     "text": [
      "  0%|          | 250/100000 [00:23<3:44:54,  7.39it/s]"
     ]
    },
    {
     "name": "stdout",
     "output_type": "stream",
     "text": [
      "DQA player 2 won\n",
      "DQA player 2 won\n",
      "DQA player 1 won\n"
     ]
    },
    {
     "name": "stderr",
     "output_type": "stream",
     "text": [
      "  0%|          | 252/100000 [00:24<3:46:18,  7.35it/s]"
     ]
    },
    {
     "name": "stdout",
     "output_type": "stream",
     "text": [
      "DQA player 1 won\n",
      "DQA player 1 won\n"
     ]
    },
    {
     "name": "stderr",
     "output_type": "stream",
     "text": [
      "  0%|          | 254/100000 [00:24<4:05:28,  6.77it/s]"
     ]
    },
    {
     "name": "stdout",
     "output_type": "stream",
     "text": [
      "DQA player 1 won\n",
      "DQA player 1 won\n"
     ]
    },
    {
     "name": "stderr",
     "output_type": "stream",
     "text": [
      "\r",
      "  0%|          | 255/100000 [00:24<3:53:20,  7.12it/s]"
     ]
    },
    {
     "name": "stdout",
     "output_type": "stream",
     "text": [
      "DQA player 2 won\n",
      "DQA player 2 won\n",
      "DQA player 1 won\n"
     ]
    },
    {
     "name": "stderr",
     "output_type": "stream",
     "text": [
      "  0%|          | 258/100000 [00:24<3:45:30,  7.37it/s]"
     ]
    },
    {
     "name": "stdout",
     "output_type": "stream",
     "text": [
      "DQA player 1 won\n",
      "DQA player 1 won\n",
      "DQA player 1 won\n"
     ]
    },
    {
     "name": "stderr",
     "output_type": "stream",
     "text": [
      "\r",
      "  0%|          | 260/100000 [00:25<3:11:37,  8.67it/s]"
     ]
    },
    {
     "name": "stdout",
     "output_type": "stream",
     "text": [
      "DQA player 1 won\n"
     ]
    },
    {
     "name": "stderr",
     "output_type": "stream",
     "text": [
      "  0%|          | 262/100000 [00:25<4:26:42,  6.23it/s]"
     ]
    },
    {
     "name": "stdout",
     "output_type": "stream",
     "text": [
      "DQA player 1 won\n",
      "DQA player 1 won\n"
     ]
    },
    {
     "name": "stderr",
     "output_type": "stream",
     "text": [
      "\r",
      "  0%|          | 264/100000 [00:25<3:40:27,  7.54it/s]"
     ]
    },
    {
     "name": "stdout",
     "output_type": "stream",
     "text": [
      "DQA player 1 won\n",
      "DQA player 1 won\n",
      "DQA player 2 won\n",
      "DQA player 2 won\n"
     ]
    },
    {
     "name": "stderr",
     "output_type": "stream",
     "text": [
      "  0%|          | 267/100000 [00:25<3:16:23,  8.46it/s]"
     ]
    }
   ],
   "source": [
    "from tqdm import tqdm\n",
    "num_episodes = 10000\n",
    "for episode in tqdm(range(num_episodes)):\n",
    "    compete(env, deepq_agent1, deepq_agent2, train=True)\n"
   ]
  },
  {
   "cell_type": "code",
   "execution_count": null,
   "metadata": {},
   "outputs": [],
   "source": [
    "compete(env, human_agent, deepq_agent2)"
   ]
  },
  {
   "cell_type": "code",
   "execution_count": null,
   "metadata": {},
   "outputs": [],
   "source": [
    "compete(env, deepq_agent1, deepq_agent2)"
   ]
  },
  {
   "cell_type": "code",
   "execution_count": null,
   "metadata": {},
   "outputs": [],
   "source": []
  }
 ],
 "metadata": {
  "kernelspec": {
   "display_name": "Python 3",
   "language": "python",
   "name": "python3"
  },
  "language_info": {
   "codemirror_mode": {
    "name": "ipython",
    "version": 3
   },
   "file_extension": ".py",
   "mimetype": "text/x-python",
   "name": "python",
   "nbconvert_exporter": "python",
   "pygments_lexer": "ipython3",
   "version": "3.7.4"
  }
 },
 "nbformat": 4,
 "nbformat_minor": 2
}
