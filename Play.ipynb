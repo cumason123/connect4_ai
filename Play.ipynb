{
 "cells": [
  {
   "cell_type": "code",
   "execution_count": 4,
   "metadata": {},
   "outputs": [],
   "source": [
    "import sys\n",
    "sys.path.append('./src')\n",
    "sys.path.append('./src/Agents')\n",
    "from Environment.environment import Env\n",
    "from RandomAgents import RA\n",
    "from DeepQAgent import DQA\n",
    "from HumanAgent import HA\n",
    "import numpy as np\n",
    "np.random.seed(5)\n",
    "env = Env()\n",
    "\n",
    "random_agent = RA(env, 2)\n",
    "deepq_agent1 = DQA(env, 1)\n",
    "deepq_agent2 = DQA(env, 2)\n",
    "human_agent = HA(env, 1)"
   ]
  },
  {
   "cell_type": "code",
   "execution_count": 5,
   "metadata": {},
   "outputs": [],
   "source": [
    "def agent_step(agent, state, train=False):\n",
    "    state, reward, done = agent.step(state, train=train)\n",
    "    if done:\n",
    "        if reward == 100:\n",
    "            print('{0} won'.format(agent))\n",
    "        elif reward == 0:\n",
    "            print('tie')\n",
    "    return state, done\n",
    "\n",
    "def compete(env, agent1, agent2, train=False):\n",
    "    assert(agent1.player == 1 and agent2.player == 2)\n",
    "    done = False\n",
    "    env.reset()\n",
    "    state = env.connect4\n",
    "    while not done:\n",
    "        state, done = agent_step(agent1, state, train=train)\n",
    "        if done:\n",
    "            return\n",
    "        state, done = agent_step(agent2, state, train=train)"
   ]
  },
  {
   "cell_type": "code",
   "execution_count": 6,
   "metadata": {},
   "outputs": [],
   "source": [
    "# compete(env, human_agent, deepq_agent2)"
   ]
  },
  {
   "cell_type": "code",
   "execution_count": null,
   "metadata": {},
   "outputs": [
    {
     "name": "stderr",
     "output_type": "stream",
     "text": [
      "  0%|          | 2/10000 [00:00<31:15,  5.33it/s]"
     ]
    },
    {
     "name": "stdout",
     "output_type": "stream",
     "text": [
      "Found Diagonal Win\n",
      "DQA player 2 won\n",
      "Found Vertical Win\n",
      "DQA player 2 won\n",
      "Found Vertical Win\n",
      "DQA player 1 won\n",
      "Found Vertical Win\n",
      "DQA player 1 won\n"
     ]
    },
    {
     "name": "stderr",
     "output_type": "stream",
     "text": [
      "  0%|          | 7/10000 [00:00<19:23,  8.59it/s]"
     ]
    },
    {
     "name": "stdout",
     "output_type": "stream",
     "text": [
      "Found Vertical Win\n",
      "DQA player 1 won\n",
      "Found Vertical Win\n",
      "DQA player 2 won\n",
      "Found Vertical Win\n",
      "DQA player 1 won\n"
     ]
    },
    {
     "name": "stderr",
     "output_type": "stream",
     "text": [
      "  0%|          | 12/10000 [00:00<13:51, 12.01it/s]"
     ]
    },
    {
     "name": "stdout",
     "output_type": "stream",
     "text": [
      "Found Vertical Win\n",
      "DQA player 1 won\n",
      "Found Vertical Win\n",
      "DQA player 1 won\n",
      "Found Vertical Win\n",
      "DQA player 1 won\n",
      "Found Vertical Win\n",
      "DQA player 1 won\n",
      "Found Vertical Win\n",
      "DQA player 2 won\n"
     ]
    },
    {
     "name": "stderr",
     "output_type": "stream",
     "text": [
      "\r",
      "  0%|          | 15/10000 [00:00<11:58, 13.90it/s]"
     ]
    },
    {
     "name": "stdout",
     "output_type": "stream",
     "text": [
      "Found Vertical Win\n",
      "DQA player 1 won\n",
      "Found Vertical Win\n",
      "DQA player 1 won\n",
      "Found Vertical Win\n",
      "DQA player 2 won\n",
      "Found Vertical Win\n",
      "DQA player 1 won\n",
      "Found Vertical Win\n",
      "DQA player 1 won\n"
     ]
    },
    {
     "name": "stderr",
     "output_type": "stream",
     "text": [
      "  0%|          | 20/10000 [00:01<10:19, 16.10it/s]"
     ]
    },
    {
     "name": "stdout",
     "output_type": "stream",
     "text": [
      "Found Vertical Win\n",
      "DQA player 1 won\n",
      "Found Vertical Win\n",
      "DQA player 1 won\n",
      "Found Vertical Win\n",
      "DQA player 1 won\n",
      "Found Vertical Win\n",
      "DQA player 1 won\n",
      "Found Vertical Win\n",
      "DQA player 1 won\n"
     ]
    },
    {
     "name": "stderr",
     "output_type": "stream",
     "text": [
      "  0%|          | 27/10000 [00:01<08:09, 20.36it/s]"
     ]
    },
    {
     "name": "stdout",
     "output_type": "stream",
     "text": [
      "Found Vertical Win\n",
      "DQA player 1 won\n",
      "Found Vertical Win\n",
      "DQA player 1 won\n",
      "Found Vertical Win\n",
      "DQA player 1 won\n",
      "Found Vertical Win\n",
      "DQA player 1 won\n",
      "Found Vertical Win\n",
      "DQA player 1 won\n",
      "Found Vertical Win\n",
      "DQA player 2 won\n"
     ]
    },
    {
     "name": "stderr",
     "output_type": "stream",
     "text": [
      "\r",
      "  0%|          | 30/10000 [00:01<07:53, 21.07it/s]"
     ]
    },
    {
     "name": "stdout",
     "output_type": "stream",
     "text": [
      "Found Vertical Win\n",
      "DQA player 2 won\n",
      "Found Vertical Win\n",
      "DQA player 1 won\n",
      "Found Vertical Win\n",
      "DQA player 2 won\n"
     ]
    },
    {
     "name": "stderr",
     "output_type": "stream",
     "text": [
      "\r",
      "  0%|          | 33/10000 [00:01<09:29, 17.50it/s]"
     ]
    },
    {
     "name": "stdout",
     "output_type": "stream",
     "text": [
      "Found Vertical Win\n",
      "DQA player 2 won\n",
      "Found Vertical Win\n",
      "DQA player 1 won\n",
      "Found Vertical Win\n",
      "DQA player 2 won\n"
     ]
    },
    {
     "name": "stderr",
     "output_type": "stream",
     "text": [
      "  0%|          | 37/10000 [00:02<12:33, 13.23it/s]"
     ]
    },
    {
     "name": "stdout",
     "output_type": "stream",
     "text": [
      "Found Horizontal Win\n",
      "DQA player 2 won\n",
      "Found Vertical Win\n",
      "DQA player 2 won\n",
      "Found Vertical Win\n",
      "DQA player 1 won\n"
     ]
    },
    {
     "name": "stderr",
     "output_type": "stream",
     "text": [
      "\r",
      "  0%|          | 39/10000 [00:02<12:31, 13.26it/s]"
     ]
    },
    {
     "name": "stdout",
     "output_type": "stream",
     "text": [
      "Found Vertical Win\n",
      "DQA player 1 won\n",
      "Found Vertical Win\n",
      "DQA player 2 won\n",
      "Found Vertical Win\n",
      "DQA player 1 won\n"
     ]
    },
    {
     "name": "stderr",
     "output_type": "stream",
     "text": [
      "  0%|          | 43/10000 [00:02<12:09, 13.65it/s]"
     ]
    },
    {
     "name": "stdout",
     "output_type": "stream",
     "text": [
      "Found Vertical Win\n",
      "DQA player 2 won\n",
      "Found Vertical Win\n",
      "DQA player 1 won\n",
      "Found Vertical Win\n",
      "DQA player 1 won\n",
      "Found Vertical Win\n",
      "DQA player 2 won\n"
     ]
    },
    {
     "name": "stderr",
     "output_type": "stream",
     "text": [
      "\r",
      "  0%|          | 45/10000 [00:02<11:31, 14.39it/s]"
     ]
    },
    {
     "name": "stdout",
     "output_type": "stream",
     "text": [
      "Found Vertical Win\n",
      "DQA player 1 won\n",
      "Found Vertical Win\n",
      "DQA player 1 won\n"
     ]
    },
    {
     "name": "stderr",
     "output_type": "stream",
     "text": [
      "  0%|          | 50/10000 [00:03<10:50, 15.29it/s]"
     ]
    },
    {
     "name": "stdout",
     "output_type": "stream",
     "text": [
      "Found Vertical Win\n",
      "DQA player 1 won\n",
      "Found Vertical Win\n",
      "DQA player 1 won\n",
      "Found Vertical Win\n",
      "DQA player 1 won\n",
      "Found Vertical Win\n",
      "DQA player 1 won\n",
      "Found Vertical Win\n",
      "DQA player 1 won\n"
     ]
    },
    {
     "name": "stderr",
     "output_type": "stream",
     "text": [
      "  1%|          | 56/10000 [00:03<09:04, 18.26it/s]"
     ]
    },
    {
     "name": "stdout",
     "output_type": "stream",
     "text": [
      "Found Vertical Win\n",
      "DQA player 1 won\n",
      "Found Vertical Win\n",
      "DQA player 1 won\n",
      "Found Vertical Win\n",
      "DQA player 1 won\n",
      "Found Vertical Win\n",
      "DQA player 1 won\n",
      "Found Vertical Win\n",
      "DQA player 1 won\n"
     ]
    },
    {
     "name": "stderr",
     "output_type": "stream",
     "text": [
      "\r",
      "  1%|          | 59/10000 [00:03<08:15, 20.07it/s]"
     ]
    },
    {
     "name": "stdout",
     "output_type": "stream",
     "text": [
      "Found Vertical Win\n",
      "DQA player 1 won\n",
      "Found Vertical Win\n",
      "DQA player 1 won\n",
      "Found Vertical Win\n",
      "DQA player 1 won\n",
      "Found Vertical Win\n",
      "DQA player 2 won\n"
     ]
    },
    {
     "name": "stderr",
     "output_type": "stream",
     "text": [
      "\r",
      "  1%|          | 62/10000 [00:03<09:41, 17.10it/s]"
     ]
    },
    {
     "name": "stdout",
     "output_type": "stream",
     "text": [
      "Found Vertical Win\n",
      "DQA player 2 won\n",
      "Found Vertical Win\n",
      "DQA player 1 won\n",
      "Found Vertical Win\n",
      "DQA player 2 won\n"
     ]
    },
    {
     "name": "stderr",
     "output_type": "stream",
     "text": [
      "  1%|          | 66/10000 [00:04<11:27, 14.45it/s]"
     ]
    },
    {
     "name": "stdout",
     "output_type": "stream",
     "text": [
      "Found Vertical Win\n",
      "DQA player 2 won\n",
      "Found Vertical Win\n",
      "DQA player 1 won\n",
      "Found Vertical Win\n",
      "DQA player 2 won\n"
     ]
    },
    {
     "name": "stderr",
     "output_type": "stream",
     "text": [
      "\r",
      "  1%|          | 68/10000 [00:04<10:44, 15.40it/s]"
     ]
    },
    {
     "name": "stdout",
     "output_type": "stream",
     "text": [
      "Found Vertical Win\n",
      "DQA player 1 won\n",
      "Found Vertical Win\n",
      "DQA player 2 won\n",
      "Found Vertical Win\n",
      "DQA player 2 won\n",
      "Found Vertical Win\n",
      "DQA player 2 won\n"
     ]
    },
    {
     "name": "stderr",
     "output_type": "stream",
     "text": [
      "  1%|          | 74/10000 [00:04<09:25, 17.56it/s]"
     ]
    },
    {
     "name": "stdout",
     "output_type": "stream",
     "text": [
      "Found Vertical Win\n",
      "DQA player 1 won\n",
      "Found Vertical Win\n",
      "DQA player 2 won\n",
      "Found Vertical Win\n",
      "DQA player 2 won\n",
      "Found Vertical Win\n",
      "DQA player 2 won\n",
      "Found Vertical Win\n",
      "DQA player 2 won\n",
      "Found Vertical Win\n",
      "DQA player 2 won\n"
     ]
    },
    {
     "name": "stderr",
     "output_type": "stream",
     "text": [
      "  1%|          | 80/10000 [00:04<08:51, 18.65it/s]"
     ]
    },
    {
     "name": "stdout",
     "output_type": "stream",
     "text": [
      "Found Vertical Win\n",
      "DQA player 2 won\n",
      "Found Vertical Win\n",
      "DQA player 2 won\n",
      "Found Vertical Win\n",
      "DQA player 1 won\n",
      "Found Vertical Win\n",
      "DQA player 2 won\n"
     ]
    },
    {
     "name": "stderr",
     "output_type": "stream",
     "text": [
      "  1%|          | 85/10000 [00:04<08:37, 19.14it/s]"
     ]
    },
    {
     "name": "stdout",
     "output_type": "stream",
     "text": [
      "Found Vertical Win\n",
      "DQA player 1 won\n",
      "Found Vertical Win\n",
      "DQA player 1 won\n",
      "Found Vertical Win\n",
      "DQA player 1 won\n",
      "Found Vertical Win\n",
      "DQA player 1 won\n",
      "Found Vertical Win\n",
      "DQA player 1 won\n"
     ]
    },
    {
     "name": "stderr",
     "output_type": "stream",
     "text": [
      "  1%|          | 89/10000 [00:05<09:13, 17.90it/s]"
     ]
    },
    {
     "name": "stdout",
     "output_type": "stream",
     "text": [
      "Found Vertical Win\n",
      "DQA player 1 won\n",
      "Found Vertical Win\n",
      "DQA player 1 won\n",
      "Found Vertical Win\n",
      "DQA player 2 won\n",
      "Found Vertical Win\n",
      "DQA player 1 won\n"
     ]
    },
    {
     "name": "stderr",
     "output_type": "stream",
     "text": [
      "  1%|          | 94/10000 [00:05<09:21, 17.64it/s]"
     ]
    },
    {
     "name": "stdout",
     "output_type": "stream",
     "text": [
      "Found Horizontal Win\n",
      "DQA player 1 won\n",
      "Found Vertical Win\n",
      "DQA player 1 won\n",
      "Found Vertical Win\n",
      "DQA player 1 won\n",
      "Found Vertical Win\n",
      "DQA player 1 won\n",
      "Found Vertical Win\n",
      "DQA player 1 won\n",
      "Found Vertical Win\n",
      "DQA player 1 won\n"
     ]
    },
    {
     "name": "stderr",
     "output_type": "stream",
     "text": [
      "  1%|          | 101/10000 [00:05<07:22, 22.39it/s]"
     ]
    },
    {
     "name": "stdout",
     "output_type": "stream",
     "text": [
      "Found Vertical Win\n",
      "DQA player 1 won\n",
      "Found Vertical Win\n",
      "DQA player 1 won\n",
      "Found Vertical Win\n",
      "DQA player 1 won\n",
      "Found Vertical Win\n",
      "DQA player 1 won\n",
      "Found Vertical Win\n",
      "DQA player 1 won\n",
      "Found Vertical Win\n",
      "DQA player 1 won\n",
      "Found Vertical Win\n",
      "DQA player 1 won\n"
     ]
    },
    {
     "name": "stderr",
     "output_type": "stream",
     "text": [
      "  1%|          | 109/10000 [00:05<06:10, 26.67it/s]"
     ]
    },
    {
     "name": "stdout",
     "output_type": "stream",
     "text": [
      "Found Vertical Win\n",
      "DQA player 1 won\n",
      "Found Vertical Win\n",
      "DQA player 1 won\n",
      "Found Vertical Win\n",
      "DQA player 1 won\n",
      "Found Vertical Win\n",
      "DQA player 1 won\n",
      "Found Vertical Win\n",
      "DQA player 1 won\n",
      "Found Vertical Win\n",
      "DQA player 1 won\n",
      "Found Vertical Win\n",
      "DQA player 1 won\n"
     ]
    },
    {
     "name": "stderr",
     "output_type": "stream",
     "text": [
      "\r",
      "  1%|          | 112/10000 [00:06<06:06, 27.01it/s]"
     ]
    },
    {
     "name": "stdout",
     "output_type": "stream",
     "text": [
      "Found Vertical Win\n",
      "DQA player 1 won\n",
      "Found Vertical Win\n",
      "DQA player 1 won\n",
      "Found Vertical Win\n",
      "DQA player 1 won\n",
      "Found Vertical Win\n",
      "DQA player 1 won\n",
      "Found Vertical Win\n",
      "DQA player 1 won\n",
      "Found Vertical Win\n",
      "DQA player 1 won\n"
     ]
    },
    {
     "name": "stderr",
     "output_type": "stream",
     "text": [
      "  1%|          | 119/10000 [00:06<06:00, 27.40it/s]"
     ]
    },
    {
     "name": "stdout",
     "output_type": "stream",
     "text": [
      "Found Vertical Win\n",
      "DQA player 2 won\n",
      "Found Vertical Win\n",
      "DQA player 1 won\n",
      "Found Vertical Win\n",
      "DQA player 1 won\n",
      "Found Vertical Win\n",
      "DQA player 1 won\n",
      "Found Vertical Win\n",
      "DQA player 1 won\n",
      "Found Vertical Win\n",
      "DQA player 1 won\n"
     ]
    },
    {
     "name": "stderr",
     "output_type": "stream",
     "text": [
      "  1%|▏         | 125/10000 [00:06<05:55, 27.75it/s]"
     ]
    },
    {
     "name": "stdout",
     "output_type": "stream",
     "text": [
      "Found Vertical Win\n",
      "DQA player 1 won\n",
      "Found Vertical Win\n",
      "DQA player 2 won\n",
      "Found Vertical Win\n",
      "DQA player 2 won\n",
      "Found Vertical Win\n",
      "DQA player 1 won\n",
      "Found Vertical Win\n",
      "DQA player 1 won\n",
      "Found Vertical Win\n",
      "DQA player 1 won\n"
     ]
    },
    {
     "name": "stderr",
     "output_type": "stream",
     "text": [
      "  1%|▏         | 131/10000 [00:06<06:08, 26.75it/s]"
     ]
    },
    {
     "name": "stdout",
     "output_type": "stream",
     "text": [
      "Found Vertical Win\n",
      "DQA player 1 won\n",
      "Found Vertical Win\n",
      "DQA player 1 won\n",
      "Found Vertical Win\n",
      "DQA player 1 won\n",
      "Found Vertical Win\n",
      "DQA player 1 won\n",
      "Found Vertical Win\n",
      "DQA player 1 won\n",
      "Found Vertical Win\n",
      "DQA player 1 won\n"
     ]
    },
    {
     "name": "stderr",
     "output_type": "stream",
     "text": [
      "  1%|▏         | 137/10000 [00:07<06:51, 23.95it/s]"
     ]
    },
    {
     "name": "stdout",
     "output_type": "stream",
     "text": [
      "Found Vertical Win\n",
      "DQA player 2 won\n",
      "Found Vertical Win\n",
      "DQA player 2 won\n",
      "Found Vertical Win\n",
      "DQA player 1 won\n",
      "Found Vertical Win\n",
      "DQA player 1 won\n"
     ]
    },
    {
     "name": "stderr",
     "output_type": "stream",
     "text": [
      "  1%|▏         | 143/10000 [00:07<06:58, 23.57it/s]"
     ]
    },
    {
     "name": "stdout",
     "output_type": "stream",
     "text": [
      "Found Vertical Win\n",
      "DQA player 1 won\n",
      "Found Vertical Win\n",
      "DQA player 1 won\n",
      "Found Vertical Win\n",
      "DQA player 1 won\n",
      "Found Vertical Win\n",
      "DQA player 1 won\n",
      "Found Vertical Win\n",
      "DQA player 1 won\n",
      "Found Vertical Win\n",
      "DQA player 1 won\n"
     ]
    },
    {
     "name": "stderr",
     "output_type": "stream",
     "text": [
      "\r",
      "  1%|▏         | 146/10000 [00:07<08:14, 19.93it/s]"
     ]
    },
    {
     "name": "stdout",
     "output_type": "stream",
     "text": [
      "Found Vertical Win\n",
      "DQA player 1 won\n",
      "Found Vertical Win\n",
      "DQA player 2 won\n",
      "Found Vertical Win\n",
      "DQA player 1 won\n"
     ]
    },
    {
     "name": "stderr",
     "output_type": "stream",
     "text": [
      "  2%|▏         | 151/10000 [00:07<09:17, 17.65it/s]"
     ]
    },
    {
     "name": "stdout",
     "output_type": "stream",
     "text": [
      "Found Vertical Win\n",
      "DQA player 2 won\n",
      "Found Vertical Win\n",
      "DQA player 2 won\n",
      "Found Vertical Win\n",
      "DQA player 2 won\n",
      "Found Vertical Win\n",
      "DQA player 1 won\n",
      "Found Vertical Win\n",
      "DQA player 2 won\n"
     ]
    },
    {
     "name": "stderr",
     "output_type": "stream",
     "text": [
      "  2%|▏         | 155/10000 [00:08<09:08, 17.96it/s]"
     ]
    },
    {
     "name": "stdout",
     "output_type": "stream",
     "text": [
      "Found Vertical Win\n",
      "DQA player 1 won\n",
      "Found Vertical Win\n",
      "DQA player 1 won\n",
      "Found Vertical Win\n",
      "DQA player 2 won\n",
      "Found Vertical Win\n",
      "DQA player 2 won\n"
     ]
    },
    {
     "name": "stderr",
     "output_type": "stream",
     "text": [
      "  2%|▏         | 159/10000 [00:08<09:15, 17.73it/s]"
     ]
    },
    {
     "name": "stdout",
     "output_type": "stream",
     "text": [
      "Found Vertical Win\n",
      "DQA player 1 won\n",
      "Found Vertical Win\n",
      "DQA player 2 won\n",
      "Found Vertical Win\n",
      "DQA player 2 won\n",
      "Found Vertical Win\n",
      "DQA player 1 won\n"
     ]
    },
    {
     "name": "stderr",
     "output_type": "stream",
     "text": [
      "  2%|▏         | 163/10000 [00:08<08:58, 18.27it/s]"
     ]
    },
    {
     "name": "stdout",
     "output_type": "stream",
     "text": [
      "Found Vertical Win\n",
      "DQA player 2 won\n",
      "Found Vertical Win\n",
      "DQA player 2 won\n",
      "Found Vertical Win\n",
      "DQA player 2 won\n",
      "Found Vertical Win\n",
      "DQA player 1 won\n"
     ]
    },
    {
     "name": "stderr",
     "output_type": "stream",
     "text": [
      "  2%|▏         | 167/10000 [00:08<09:41, 16.91it/s]"
     ]
    },
    {
     "name": "stdout",
     "output_type": "stream",
     "text": [
      "Found Vertical Win\n",
      "DQA player 2 won\n",
      "Found Vertical Win\n",
      "DQA player 2 won\n",
      "Found Vertical Win\n",
      "DQA player 2 won\n",
      "Found Vertical Win\n",
      "DQA player 1 won\n"
     ]
    },
    {
     "name": "stderr",
     "output_type": "stream",
     "text": [
      "\r",
      "  2%|▏         | 169/10000 [00:08<10:10, 16.11it/s]"
     ]
    },
    {
     "name": "stdout",
     "output_type": "stream",
     "text": [
      "Found Vertical Win\n",
      "DQA player 2 won\n",
      "Found Vertical Win\n",
      "DQA player 2 won\n",
      "Found Vertical Win\n",
      "DQA player 2 won\n",
      "Found Vertical Win\n",
      "DQA player 2 won\n"
     ]
    },
    {
     "name": "stderr",
     "output_type": "stream",
     "text": [
      "  2%|▏         | 174/10000 [00:09<09:46, 16.75it/s]"
     ]
    },
    {
     "name": "stdout",
     "output_type": "stream",
     "text": [
      "Found Vertical Win\n",
      "DQA player 1 won\n",
      "Found Vertical Win\n",
      "DQA player 2 won\n",
      "Found Vertical Win\n",
      "DQA player 2 won\n",
      "Found Vertical Win\n",
      "DQA player 1 won\n"
     ]
    },
    {
     "name": "stderr",
     "output_type": "stream",
     "text": [
      "  2%|▏         | 178/10000 [00:09<10:01, 16.34it/s]"
     ]
    },
    {
     "name": "stdout",
     "output_type": "stream",
     "text": [
      "Found Vertical Win\n",
      "DQA player 1 won\n",
      "Found Vertical Win\n",
      "DQA player 1 won\n",
      "Found Vertical Win\n",
      "DQA player 1 won\n",
      "Found Vertical Win\n",
      "DQA player 1 won\n"
     ]
    },
    {
     "name": "stderr",
     "output_type": "stream",
     "text": [
      "  2%|▏         | 182/10000 [00:09<09:40, 16.92it/s]"
     ]
    },
    {
     "name": "stdout",
     "output_type": "stream",
     "text": [
      "Found Vertical Win\n",
      "DQA player 2 won\n",
      "Found Vertical Win\n",
      "DQA player 1 won\n",
      "Found Vertical Win\n",
      "DQA player 2 won\n",
      "Found Vertical Win\n",
      "DQA player 2 won\n",
      "Found Vertical Win\n",
      "DQA player 2 won\n"
     ]
    },
    {
     "name": "stderr",
     "output_type": "stream",
     "text": [
      "  2%|▏         | 187/10000 [00:09<09:18, 17.56it/s]"
     ]
    },
    {
     "name": "stdout",
     "output_type": "stream",
     "text": [
      "Found Vertical Win\n",
      "DQA player 2 won\n",
      "Found Vertical Win\n",
      "DQA player 1 won\n",
      "Found Vertical Win\n",
      "DQA player 2 won\n",
      "Found Vertical Win\n",
      "DQA player 2 won\n"
     ]
    },
    {
     "name": "stderr",
     "output_type": "stream",
     "text": [
      "  2%|▏         | 191/10000 [00:10<08:53, 18.40it/s]"
     ]
    },
    {
     "name": "stdout",
     "output_type": "stream",
     "text": [
      "Found Vertical Win\n",
      "DQA player 2 won\n",
      "Found Vertical Win\n",
      "DQA player 2 won\n",
      "Found Vertical Win\n",
      "DQA player 2 won\n",
      "Found Vertical Win\n",
      "DQA player 1 won\n"
     ]
    },
    {
     "name": "stderr",
     "output_type": "stream",
     "text": [
      "  2%|▏         | 195/10000 [00:10<10:04, 16.21it/s]"
     ]
    },
    {
     "name": "stdout",
     "output_type": "stream",
     "text": [
      "Found Vertical Win\n",
      "DQA player 1 won\n",
      "Found Vertical Win\n",
      "DQA player 2 won\n",
      "Found Vertical Win\n",
      "DQA player 1 won\n",
      "Found Vertical Win\n",
      "DQA player 1 won\n"
     ]
    },
    {
     "name": "stderr",
     "output_type": "stream",
     "text": [
      "  2%|▏         | 201/10000 [00:10<08:25, 19.39it/s]"
     ]
    },
    {
     "name": "stdout",
     "output_type": "stream",
     "text": [
      "Found Vertical Win\n",
      "DQA player 1 won\n",
      "Found Vertical Win\n",
      "DQA player 1 won\n",
      "Found Vertical Win\n",
      "DQA player 1 won\n",
      "Found Vertical Win\n",
      "DQA player 2 won\n",
      "Found Vertical Win\n",
      "DQA player 1 won\n"
     ]
    },
    {
     "name": "stderr",
     "output_type": "stream",
     "text": [
      "\r",
      "  2%|▏         | 204/10000 [00:10<08:42, 18.77it/s]"
     ]
    },
    {
     "name": "stdout",
     "output_type": "stream",
     "text": [
      "Found Vertical Win\n",
      "DQA player 1 won\n",
      "Found Vertical Win\n",
      "DQA player 1 won\n",
      "Found Vertical Win\n",
      "DQA player 1 won\n",
      "Found Vertical Win\n",
      "DQA player 1 won\n",
      "Found Vertical Win\n",
      "DQA player 1 won\n"
     ]
    },
    {
     "name": "stderr",
     "output_type": "stream",
     "text": [
      "  2%|▏         | 210/10000 [00:11<07:59, 20.42it/s]"
     ]
    },
    {
     "name": "stdout",
     "output_type": "stream",
     "text": [
      "Found Vertical Win\n",
      "DQA player 1 won\n",
      "Found Vertical Win\n",
      "DQA player 1 won\n",
      "Found Vertical Win\n",
      "DQA player 1 won\n",
      "Found Vertical Win\n",
      "DQA player 1 won\n",
      "Found Vertical Win\n",
      "DQA player 2 won\n"
     ]
    },
    {
     "name": "stderr",
     "output_type": "stream",
     "text": [
      "\r",
      "  2%|▏         | 213/10000 [00:11<08:50, 18.44it/s]"
     ]
    },
    {
     "name": "stdout",
     "output_type": "stream",
     "text": [
      "Found Vertical Win\n",
      "DQA player 1 won\n",
      "Found Vertical Win\n",
      "DQA player 1 won\n",
      "Found Vertical Win\n",
      "DQA player 2 won\n",
      "Found Vertical Win\n",
      "DQA player 1 won\n"
     ]
    },
    {
     "name": "stderr",
     "output_type": "stream",
     "text": [
      "  2%|▏         | 219/10000 [00:11<07:56, 20.51it/s]"
     ]
    },
    {
     "name": "stdout",
     "output_type": "stream",
     "text": [
      "Found Vertical Win\n",
      "DQA player 1 won\n",
      "Found Vertical Win\n",
      "DQA player 1 won\n",
      "Found Vertical Win\n",
      "DQA player 1 won\n",
      "Found Vertical Win\n",
      "DQA player 1 won\n",
      "Found Vertical Win\n",
      "DQA player 2 won\n"
     ]
    },
    {
     "name": "stderr",
     "output_type": "stream",
     "text": [
      "  2%|▏         | 225/10000 [00:11<07:20, 22.17it/s]"
     ]
    },
    {
     "name": "stdout",
     "output_type": "stream",
     "text": [
      "Found Vertical Win\n",
      "DQA player 1 won\n",
      "Found Vertical Win\n",
      "DQA player 1 won\n",
      "Found Vertical Win\n",
      "DQA player 2 won\n",
      "Found Vertical Win\n",
      "DQA player 1 won\n",
      "Found Vertical Win\n",
      "DQA player 1 won\n"
     ]
    },
    {
     "name": "stderr",
     "output_type": "stream",
     "text": [
      "\r",
      "  2%|▏         | 228/10000 [00:11<07:24, 21.97it/s]"
     ]
    },
    {
     "name": "stdout",
     "output_type": "stream",
     "text": [
      "Found Vertical Win\n",
      "DQA player 1 won\n",
      "Found Vertical Win\n",
      "DQA player 2 won\n",
      "Found Vertical Win\n",
      "DQA player 1 won\n",
      "Found Vertical Win\n",
      "DQA player 1 won\n",
      "Found Vertical Win\n",
      "DQA player 1 won\n"
     ]
    },
    {
     "name": "stderr",
     "output_type": "stream",
     "text": [
      "  2%|▏         | 234/10000 [00:12<06:51, 23.71it/s]"
     ]
    },
    {
     "name": "stdout",
     "output_type": "stream",
     "text": [
      "Found Vertical Win\n",
      "DQA player 1 won\n",
      "Found Vertical Win\n",
      "DQA player 1 won\n",
      "Found Vertical Win\n",
      "DQA player 1 won\n",
      "Found Vertical Win\n",
      "DQA player 1 won\n",
      "Found Vertical Win\n",
      "DQA player 1 won\n",
      "Found Vertical Win\n",
      "DQA player 1 won\n"
     ]
    },
    {
     "name": "stderr",
     "output_type": "stream",
     "text": [
      "  2%|▏         | 240/10000 [00:12<06:54, 23.57it/s]"
     ]
    },
    {
     "name": "stdout",
     "output_type": "stream",
     "text": [
      "Found Vertical Win\n",
      "DQA player 2 won\n",
      "Found Vertical Win\n",
      "DQA player 1 won\n",
      "Found Vertical Win\n",
      "DQA player 2 won\n",
      "Found Vertical Win\n",
      "DQA player 1 won\n",
      "Found Vertical Win\n",
      "DQA player 1 won\n"
     ]
    },
    {
     "name": "stderr",
     "output_type": "stream",
     "text": [
      "  2%|▏         | 246/10000 [00:12<06:46, 24.00it/s]"
     ]
    },
    {
     "name": "stdout",
     "output_type": "stream",
     "text": [
      "Found Vertical Win\n",
      "DQA player 2 won\n",
      "Found Vertical Win\n",
      "DQA player 2 won\n",
      "Found Vertical Win\n",
      "DQA player 1 won\n",
      "Found Vertical Win\n",
      "DQA player 1 won\n",
      "Found Vertical Win\n",
      "DQA player 1 won\n"
     ]
    },
    {
     "name": "stderr",
     "output_type": "stream",
     "text": [
      "\r",
      "  2%|▏         | 249/10000 [00:12<07:02, 23.09it/s]"
     ]
    },
    {
     "name": "stdout",
     "output_type": "stream",
     "text": [
      "Found Vertical Win\n",
      "DQA player 2 won\n",
      "Found Vertical Win\n",
      "DQA player 2 won\n",
      "Found Vertical Win\n",
      "DQA player 1 won\n",
      "Found Vertical Win\n",
      "DQA player 1 won\n",
      "Found Vertical Win\n"
     ]
    },
    {
     "name": "stderr",
     "output_type": "stream",
     "text": [
      "\r",
      "  3%|▎         | 252/10000 [00:13<08:31, 19.05it/s]"
     ]
    },
    {
     "name": "stdout",
     "output_type": "stream",
     "text": [
      "DQA player 1 won\n",
      "Found Vertical Win\n",
      "DQA player 1 won\n",
      "Found Vertical Win\n",
      "DQA player 1 won\n",
      "Found Vertical Win\n"
     ]
    },
    {
     "name": "stderr",
     "output_type": "stream",
     "text": [
      "\r",
      "  3%|▎         | 255/10000 [00:13<08:19, 19.50it/s]"
     ]
    },
    {
     "name": "stdout",
     "output_type": "stream",
     "text": [
      "DQA player 1 won\n",
      "Found Vertical Win\n",
      "DQA player 2 won\n",
      "Found Vertical Win\n",
      "DQA player 1 won\n",
      "Found Vertical Win\n",
      "DQA player 1 won\n",
      "Found Vertical Win\n"
     ]
    },
    {
     "name": "stderr",
     "output_type": "stream",
     "text": [
      "\r",
      "  3%|▎         | 258/10000 [00:13<08:29, 19.13it/s]"
     ]
    },
    {
     "name": "stdout",
     "output_type": "stream",
     "text": [
      "DQA player 1 won\n",
      "Found Vertical Win\n",
      "DQA player 1 won\n",
      "Found Vertical Win\n"
     ]
    },
    {
     "name": "stderr",
     "output_type": "stream",
     "text": [
      "  3%|▎         | 262/10000 [00:13<10:55, 14.86it/s]"
     ]
    },
    {
     "name": "stdout",
     "output_type": "stream",
     "text": [
      "DQA player 1 won\n",
      "Found Vertical Win\n",
      "DQA player 1 won\n",
      "Found Vertical Win\n",
      "DQA player 1 won\n",
      "Found Vertical Win\n",
      "DQA player 1 won\n"
     ]
    },
    {
     "name": "stderr",
     "output_type": "stream",
     "text": [
      "\r",
      "  3%|▎         | 264/10000 [00:13<12:58, 12.50it/s]"
     ]
    },
    {
     "name": "stdout",
     "output_type": "stream",
     "text": [
      "Found Vertical Win\n",
      "DQA player 2 won\n",
      "Found Vertical Win\n",
      "DQA player 2 won\n",
      "Found Vertical Win\n"
     ]
    },
    {
     "name": "stderr",
     "output_type": "stream",
     "text": [
      "\r",
      "  3%|▎         | 266/10000 [00:15<40:36,  4.00it/s]"
     ]
    },
    {
     "name": "stdout",
     "output_type": "stream",
     "text": [
      "DQA player 1 won\n",
      "Found Vertical Win\n",
      "DQA player 1 won\n"
     ]
    },
    {
     "name": "stderr",
     "output_type": "stream",
     "text": [
      "  3%|▎         | 269/10000 [00:15<33:18,  4.87it/s]"
     ]
    },
    {
     "name": "stdout",
     "output_type": "stream",
     "text": [
      "Found Vertical Win\n",
      "DQA player 1 won\n",
      "Found Vertical Win\n",
      "DQA player 1 won\n"
     ]
    },
    {
     "name": "stderr",
     "output_type": "stream",
     "text": [
      "  3%|▎         | 272/10000 [00:16<25:00,  6.48it/s]"
     ]
    },
    {
     "name": "stdout",
     "output_type": "stream",
     "text": [
      "Found Vertical Win\n",
      "DQA player 1 won\n",
      "Found Vertical Win\n",
      "DQA player 1 won\n",
      "Found Vertical Win\n",
      "DQA player 1 won\n"
     ]
    },
    {
     "name": "stderr",
     "output_type": "stream",
     "text": [
      "  3%|▎         | 275/10000 [00:16<23:16,  6.97it/s]"
     ]
    },
    {
     "name": "stdout",
     "output_type": "stream",
     "text": [
      "Found Horizontal Win\n",
      "DQA player 2 won\n",
      "Found Vertical Win\n",
      "DQA player 1 won\n",
      "Found Vertical Win\n",
      "DQA player 2 won\n",
      "Found Vertical Win\n",
      "DQA player 2 won\n"
     ]
    },
    {
     "name": "stderr",
     "output_type": "stream",
     "text": [
      "  3%|▎         | 278/10000 [00:16<27:00,  6.00it/s]"
     ]
    },
    {
     "name": "stdout",
     "output_type": "stream",
     "text": [
      "Found Vertical Win\n",
      "DQA player 1 won\n",
      "Found Vertical Win\n",
      "DQA player 1 won\n"
     ]
    },
    {
     "name": "stderr",
     "output_type": "stream",
     "text": [
      "  3%|▎         | 283/10000 [00:17<17:11,  9.42it/s]"
     ]
    },
    {
     "name": "stdout",
     "output_type": "stream",
     "text": [
      "Found Vertical Win\n",
      "DQA player 1 won\n",
      "Found Vertical Win\n",
      "DQA player 1 won\n",
      "Found Vertical Win\n",
      "DQA player 1 won\n",
      "Found Vertical Win\n",
      "DQA player 1 won\n",
      "Found Vertical Win\n",
      "DQA player 1 won\n"
     ]
    },
    {
     "name": "stderr",
     "output_type": "stream",
     "text": [
      "\r",
      "  3%|▎         | 286/10000 [00:17<14:03, 11.52it/s]"
     ]
    },
    {
     "name": "stdout",
     "output_type": "stream",
     "text": [
      "Found Vertical Win\n",
      "DQA player 1 won\n",
      "Found Vertical Win\n",
      "DQA player 2 won\n",
      "Found Vertical Win\n",
      "DQA player 1 won\n",
      "Found Vertical Win\n",
      "DQA player 1 won\n",
      "Found Vertical Win\n",
      "DQA player 1 won\n",
      "Found Vertical Win\n"
     ]
    },
    {
     "name": "stderr",
     "output_type": "stream",
     "text": [
      "  3%|▎         | 291/10000 [00:17<10:49, 14.94it/s]"
     ]
    },
    {
     "name": "stdout",
     "output_type": "stream",
     "text": [
      "DQA player 1 won\n",
      "Found Vertical Win\n",
      "DQA player 2 won\n",
      "Found Vertical Win\n",
      "DQA player 1 won\n",
      "Found Vertical Win\n",
      "DQA player 1 won\n",
      "Found Vertical Win\n",
      "DQA player 1 won\n"
     ]
    },
    {
     "name": "stderr",
     "output_type": "stream",
     "text": [
      "  3%|▎         | 297/10000 [00:17<08:46, 18.42it/s]"
     ]
    },
    {
     "name": "stdout",
     "output_type": "stream",
     "text": [
      "Found Vertical Win\n",
      "DQA player 1 won\n",
      "Found Vertical Win\n",
      "DQA player 2 won\n",
      "Found Vertical Win\n",
      "DQA player 1 won\n",
      "Found Vertical Win\n",
      "DQA player 1 won\n",
      "Found Vertical Win\n",
      "DQA player 2 won\n",
      "Found Vertical Win\n",
      "DQA player 1 won\n"
     ]
    },
    {
     "name": "stderr",
     "output_type": "stream",
     "text": [
      "  3%|▎         | 302/10000 [00:18<10:51, 14.89it/s]"
     ]
    },
    {
     "name": "stdout",
     "output_type": "stream",
     "text": [
      "Found Vertical Win\n",
      "DQA player 1 won\n",
      "Found Vertical Win\n",
      "DQA player 1 won\n",
      "Found Vertical Win\n",
      "DQA player 2 won\n",
      "Found Vertical Win\n",
      "DQA player 1 won\n"
     ]
    },
    {
     "name": "stderr",
     "output_type": "stream",
     "text": [
      "  3%|▎         | 308/10000 [00:18<09:05, 17.77it/s]"
     ]
    },
    {
     "name": "stdout",
     "output_type": "stream",
     "text": [
      "Found Vertical Win\n",
      "DQA player 1 won\n",
      "Found Vertical Win\n",
      "DQA player 1 won\n",
      "Found Vertical Win\n",
      "DQA player 1 won\n",
      "Found Vertical Win\n",
      "DQA player 1 won\n",
      "Found Vertical Win\n",
      "DQA player 1 won\n"
     ]
    },
    {
     "name": "stderr",
     "output_type": "stream",
     "text": [
      "\r",
      "  3%|▎         | 311/10000 [00:18<08:24, 19.21it/s]"
     ]
    },
    {
     "name": "stdout",
     "output_type": "stream",
     "text": [
      "Found Vertical Win\n",
      "DQA player 1 won\n",
      "Found Vertical Win\n",
      "DQA player 1 won\n",
      "Found Vertical Win\n",
      "DQA player 1 won\n",
      "Found Vertical Win\n",
      "DQA player 1 won\n",
      "Found Vertical Win\n",
      "DQA player 1 won\n"
     ]
    },
    {
     "name": "stderr",
     "output_type": "stream",
     "text": [
      "  3%|▎         | 317/10000 [00:18<07:49, 20.62it/s]"
     ]
    },
    {
     "name": "stdout",
     "output_type": "stream",
     "text": [
      "Found Vertical Win\n",
      "DQA player 1 won\n",
      "Found Vertical Win\n",
      "DQA player 1 won\n",
      "Found Vertical Win\n",
      "DQA player 1 won\n",
      "Found Vertical Win\n",
      "DQA player 1 won\n",
      "Found Vertical Win\n",
      "DQA player 1 won\n"
     ]
    },
    {
     "name": "stderr",
     "output_type": "stream",
     "text": [
      "  3%|▎         | 323/10000 [00:19<07:25, 21.74it/s]"
     ]
    },
    {
     "name": "stdout",
     "output_type": "stream",
     "text": [
      "Found Vertical Win\n",
      "DQA player 2 won\n",
      "Found Vertical Win\n",
      "DQA player 1 won\n",
      "Found Vertical Win\n",
      "DQA player 1 won\n",
      "Found Vertical Win\n",
      "DQA player 1 won\n",
      "Found Vertical Win\n",
      "DQA player 1 won\n",
      "Found Vertical Win\n"
     ]
    },
    {
     "name": "stderr",
     "output_type": "stream",
     "text": [
      "\r",
      "  3%|▎         | 326/10000 [00:19<07:26, 21.68it/s]"
     ]
    },
    {
     "name": "stdout",
     "output_type": "stream",
     "text": [
      "DQA player 1 won\n",
      "Found Vertical Win\n",
      "DQA player 2 won\n",
      "Found Vertical Win\n",
      "DQA player 2 won\n",
      "Found Vertical Win\n",
      "DQA player 1 won\n",
      "Found Vertical Win\n",
      "DQA player 2 won\n"
     ]
    },
    {
     "name": "stderr",
     "output_type": "stream",
     "text": [
      "  3%|▎         | 332/10000 [00:19<07:12, 22.37it/s]"
     ]
    },
    {
     "name": "stdout",
     "output_type": "stream",
     "text": [
      "Found Vertical Win\n",
      "DQA player 1 won\n",
      "Found Vertical Win\n",
      "DQA player 1 won\n",
      "Found Vertical Win\n",
      "DQA player 1 won\n",
      "Found Vertical Win\n",
      "DQA player 1 won\n",
      "Found Vertical Win\n",
      "DQA player 2 won\n",
      "Found Vertical Win\n",
      "DQA player 2 won\n",
      "Found Vertical Win\n"
     ]
    },
    {
     "name": "stderr",
     "output_type": "stream",
     "text": [
      "  3%|▎         | 337/10000 [00:20<10:19, 15.60it/s]"
     ]
    },
    {
     "name": "stdout",
     "output_type": "stream",
     "text": [
      "DQA player 2 won\n",
      "Found Vertical Win\n",
      "DQA player 1 won\n",
      "Found Vertical Win\n",
      "DQA player 1 won\n",
      "Found Vertical Win\n",
      "DQA player 1 won\n"
     ]
    },
    {
     "name": "stderr",
     "output_type": "stream",
     "text": [
      "\r",
      "  3%|▎         | 340/10000 [00:20<09:52, 16.29it/s]"
     ]
    },
    {
     "name": "stdout",
     "output_type": "stream",
     "text": [
      "Found Vertical Win\n",
      "DQA player 1 won\n",
      "Found Vertical Win\n",
      "DQA player 2 won\n",
      "Found Vertical Win\n",
      "DQA player 1 won\n"
     ]
    },
    {
     "name": "stderr",
     "output_type": "stream",
     "text": [
      "\r",
      "  3%|▎         | 342/10000 [00:20<10:55, 14.72it/s]"
     ]
    },
    {
     "name": "stdout",
     "output_type": "stream",
     "text": [
      "Found Vertical Win\n",
      "DQA player 1 won\n",
      "Found Vertical Win\n",
      "DQA player 1 won\n"
     ]
    },
    {
     "name": "stderr",
     "output_type": "stream",
     "text": [
      "  3%|▎         | 346/10000 [00:20<12:10, 13.22it/s]"
     ]
    },
    {
     "name": "stdout",
     "output_type": "stream",
     "text": [
      "Found Vertical Win\n",
      "DQA player 2 won\n",
      "Found Vertical Win\n",
      "DQA player 2 won\n",
      "Found Vertical Win\n",
      "DQA player 2 won\n"
     ]
    },
    {
     "name": "stderr",
     "output_type": "stream",
     "text": [
      "  4%|▎         | 350/10000 [00:21<11:26, 14.07it/s]"
     ]
    },
    {
     "name": "stdout",
     "output_type": "stream",
     "text": [
      "Found Vertical Win\n",
      "DQA player 2 won\n",
      "Found Vertical Win\n",
      "DQA player 2 won\n",
      "Found Vertical Win\n",
      "DQA player 2 won\n",
      "Found Vertical Win\n",
      "DQA player 2 won\n"
     ]
    },
    {
     "name": "stderr",
     "output_type": "stream",
     "text": [
      "\r",
      "  4%|▎         | 352/10000 [00:21<10:47, 14.91it/s]"
     ]
    },
    {
     "name": "stdout",
     "output_type": "stream",
     "text": [
      "Found Vertical Win\n",
      "DQA player 2 won\n",
      "Found Vertical Win\n",
      "DQA player 2 won\n",
      "Found Vertical Win\n",
      "DQA player 2 won\n",
      "Found Vertical Win\n",
      "DQA player 2 won\n",
      "Found Vertical Win\n"
     ]
    },
    {
     "name": "stderr",
     "output_type": "stream",
     "text": [
      "  4%|▎         | 357/10000 [00:21<09:58, 16.11it/s]"
     ]
    },
    {
     "name": "stdout",
     "output_type": "stream",
     "text": [
      "DQA player 1 won\n",
      "Found Vertical Win\n",
      "DQA player 1 won\n",
      "Found Vertical Win\n",
      "DQA player 2 won\n",
      "Found Vertical Win\n",
      "DQA player 2 won\n"
     ]
    },
    {
     "name": "stderr",
     "output_type": "stream",
     "text": [
      "  4%|▎         | 361/10000 [00:21<12:39, 12.69it/s]"
     ]
    },
    {
     "name": "stdout",
     "output_type": "stream",
     "text": [
      "Found Vertical Win\n",
      "DQA player 2 won\n",
      "Found Vertical Win\n",
      "DQA player 1 won\n",
      "Found Vertical Win\n",
      "DQA player 1 won\n"
     ]
    },
    {
     "name": "stderr",
     "output_type": "stream",
     "text": [
      "\r",
      "  4%|▎         | 363/10000 [00:21<11:18, 14.21it/s]"
     ]
    },
    {
     "name": "stdout",
     "output_type": "stream",
     "text": [
      "Found Vertical Win\n",
      "DQA player 2 won\n",
      "Found Vertical Win\n",
      "DQA player 2 won\n"
     ]
    },
    {
     "name": "stderr",
     "output_type": "stream",
     "text": [
      "  4%|▎         | 367/10000 [00:22<12:26, 12.91it/s]"
     ]
    },
    {
     "name": "stdout",
     "output_type": "stream",
     "text": [
      "Found Vertical Win\n",
      "DQA player 1 won\n",
      "Found Vertical Win\n",
      "DQA player 2 won\n",
      "Found Vertical Win\n",
      "DQA player 2 won\n",
      "Found Vertical Win\n",
      "DQA player 2 won\n"
     ]
    },
    {
     "name": "stderr",
     "output_type": "stream",
     "text": [
      "\r",
      "  4%|▎         | 369/10000 [00:22<13:06, 12.24it/s]"
     ]
    },
    {
     "name": "stdout",
     "output_type": "stream",
     "text": [
      "Found Vertical Win\n",
      "DQA player 2 won\n",
      "Found Vertical Win\n",
      "DQA player 2 won\n"
     ]
    },
    {
     "name": "stderr",
     "output_type": "stream",
     "text": [
      "\r",
      "  4%|▎         | 371/10000 [00:22<15:02, 10.67it/s]"
     ]
    },
    {
     "name": "stdout",
     "output_type": "stream",
     "text": [
      "Found Vertical Win\n",
      "DQA player 1 won\n",
      "Found Vertical Win\n",
      "DQA player 2 won\n",
      "Found Vertical Win\n",
      "DQA player 2 won\n"
     ]
    },
    {
     "name": "stderr",
     "output_type": "stream",
     "text": [
      "  4%|▍         | 375/10000 [00:23<14:48, 10.83it/s]"
     ]
    },
    {
     "name": "stdout",
     "output_type": "stream",
     "text": [
      "Found Vertical Win\n",
      "DQA player 1 won\n",
      "Found Vertical Win\n",
      "DQA player 1 won\n",
      "Found Vertical Win\n",
      "DQA player 1 won\n"
     ]
    },
    {
     "name": "stderr",
     "output_type": "stream",
     "text": [
      "\r",
      "  4%|▍         | 377/10000 [00:23<15:11, 10.56it/s]"
     ]
    },
    {
     "name": "stdout",
     "output_type": "stream",
     "text": [
      "Found Vertical Win\n",
      "DQA player 1 won\n",
      "Found Vertical Win\n",
      "DQA player 1 won\n"
     ]
    },
    {
     "name": "stderr",
     "output_type": "stream",
     "text": [
      "  4%|▍         | 382/10000 [00:23<13:13, 12.12it/s]"
     ]
    },
    {
     "name": "stdout",
     "output_type": "stream",
     "text": [
      "Found Diagonal Win\n",
      "DQA player 2 won\n",
      "Found Vertical Win\n",
      "DQA player 1 won\n",
      "Found Vertical Win\n",
      "DQA player 1 won\n",
      "Found Vertical Win\n",
      "DQA player 1 won\n",
      "Found Vertical Win\n",
      "DQA player 1 won\n"
     ]
    },
    {
     "name": "stderr",
     "output_type": "stream",
     "text": [
      "\r",
      "  4%|▍         | 385/10000 [00:23<11:25, 14.03it/s]"
     ]
    },
    {
     "name": "stdout",
     "output_type": "stream",
     "text": [
      "Found Vertical Win\n",
      "DQA player 1 won\n",
      "Found Vertical Win\n",
      "DQA player 1 won\n",
      "Found Vertical Win\n",
      "DQA player 1 won\n",
      "Found Vertical Win\n",
      "DQA player 1 won\n",
      "Found Vertical Win\n",
      "DQA player 1 won\n"
     ]
    },
    {
     "name": "stderr",
     "output_type": "stream",
     "text": [
      "  4%|▍         | 391/10000 [00:24<09:10, 17.44it/s]"
     ]
    },
    {
     "name": "stdout",
     "output_type": "stream",
     "text": [
      "Found Vertical Win\n",
      "DQA player 1 won\n",
      "Found Vertical Win\n",
      "DQA player 1 won\n",
      "Found Vertical Win\n",
      "DQA player 1 won\n",
      "Found Vertical Win\n",
      "DQA player 1 won\n",
      "Found Vertical Win\n",
      "DQA player 1 won\n"
     ]
    },
    {
     "name": "stderr",
     "output_type": "stream",
     "text": [
      "  4%|▍         | 397/10000 [00:24<08:00, 19.98it/s]"
     ]
    },
    {
     "name": "stdout",
     "output_type": "stream",
     "text": [
      "Found Vertical Win\n",
      "DQA player 1 won\n",
      "Found Vertical Win\n",
      "DQA player 1 won\n",
      "Found Vertical Win\n",
      "DQA player 1 won\n",
      "Found Vertical Win\n",
      "DQA player 1 won\n",
      "Found Vertical Win\n",
      "DQA player 1 won\n"
     ]
    },
    {
     "name": "stderr",
     "output_type": "stream",
     "text": [
      "\r",
      "  4%|▍         | 400/10000 [00:24<07:57, 20.12it/s]"
     ]
    },
    {
     "name": "stdout",
     "output_type": "stream",
     "text": [
      "Found Vertical Win\n",
      "DQA player 1 won\n",
      "Found Vertical Win\n",
      "DQA player 1 won\n",
      "Found Vertical Win\n",
      "DQA player 1 won\n",
      "Found Vertical Win\n",
      "DQA player 1 won\n",
      "Found Vertical Win\n",
      "DQA player 1 won\n"
     ]
    },
    {
     "name": "stderr",
     "output_type": "stream",
     "text": [
      "  4%|▍         | 406/10000 [00:24<07:16, 21.99it/s]"
     ]
    },
    {
     "name": "stdout",
     "output_type": "stream",
     "text": [
      "Found Vertical Win\n",
      "DQA player 1 won\n",
      "Found Vertical Win\n",
      "DQA player 1 won\n",
      "Found Vertical Win\n",
      "DQA player 1 won\n",
      "Found Vertical Win\n",
      "DQA player 1 won\n",
      "Found Vertical Win\n",
      "DQA player 1 won\n",
      "Found Vertical Win\n"
     ]
    },
    {
     "name": "stderr",
     "output_type": "stream",
     "text": [
      "\r",
      "  4%|▍         | 409/10000 [00:24<07:03, 22.62it/s]"
     ]
    },
    {
     "name": "stdout",
     "output_type": "stream",
     "text": [
      "DQA player 1 won\n",
      "Found Vertical Win\n",
      "DQA player 1 won\n",
      "Found Vertical Win\n",
      "DQA player 1 won\n",
      "Found Vertical Win\n",
      "DQA player 1 won\n"
     ]
    },
    {
     "name": "stderr",
     "output_type": "stream",
     "text": [
      "\r",
      "  4%|▍         | 412/10000 [00:24<08:15, 19.35it/s]"
     ]
    },
    {
     "name": "stdout",
     "output_type": "stream",
     "text": [
      "Found Vertical Win\n",
      "DQA player 1 won\n",
      "Found Vertical Win\n",
      "DQA player 1 won\n",
      "Found Vertical Win\n",
      "DQA player 2 won\n",
      "Found Vertical Win\n"
     ]
    },
    {
     "name": "stderr",
     "output_type": "stream",
     "text": [
      "  4%|▍         | 417/10000 [00:25<09:03, 17.64it/s]"
     ]
    },
    {
     "name": "stdout",
     "output_type": "stream",
     "text": [
      "DQA player 1 won\n",
      "Found Vertical Win\n",
      "DQA player 1 won\n",
      "Found Vertical Win\n",
      "DQA player 1 won\n",
      "Found Vertical Win\n",
      "DQA player 1 won\n"
     ]
    },
    {
     "name": "stderr",
     "output_type": "stream",
     "text": [
      "  4%|▍         | 421/10000 [00:25<09:20, 17.08it/s]"
     ]
    },
    {
     "name": "stdout",
     "output_type": "stream",
     "text": [
      "Found Vertical Win\n",
      "DQA player 1 won\n",
      "Found Vertical Win\n",
      "DQA player 1 won\n",
      "Found Vertical Win\n",
      "DQA player 1 won\n",
      "Found Vertical Win\n",
      "DQA player 1 won\n"
     ]
    },
    {
     "name": "stderr",
     "output_type": "stream",
     "text": [
      "  4%|▍         | 425/10000 [00:25<10:32, 15.14it/s]"
     ]
    },
    {
     "name": "stdout",
     "output_type": "stream",
     "text": [
      "Found Vertical Win\n",
      "DQA player 1 won\n",
      "Found Vertical Win\n",
      "DQA player 1 won\n",
      "Found Vertical Win\n",
      "DQA player 1 won\n",
      "Found Vertical Win\n"
     ]
    },
    {
     "name": "stderr",
     "output_type": "stream",
     "text": [
      "\r",
      "  4%|▍         | 427/10000 [00:26<13:32, 11.79it/s]"
     ]
    },
    {
     "name": "stdout",
     "output_type": "stream",
     "text": [
      "DQA player 1 won\n",
      "Found Diagonal Win\n",
      "DQA player 2 won\n"
     ]
    },
    {
     "name": "stderr",
     "output_type": "stream",
     "text": [
      "  4%|▍         | 431/10000 [00:26<12:53, 12.36it/s]"
     ]
    },
    {
     "name": "stdout",
     "output_type": "stream",
     "text": [
      "Found Vertical Win\n",
      "DQA player 1 won\n",
      "Found Vertical Win\n",
      "DQA player 2 won\n",
      "Found Vertical Win\n",
      "DQA player 1 won\n",
      "Found Vertical Win\n",
      "DQA player 1 won\n"
     ]
    },
    {
     "name": "stderr",
     "output_type": "stream",
     "text": [
      "\r",
      "  4%|▍         | 433/10000 [00:26<13:10, 12.10it/s]"
     ]
    },
    {
     "name": "stdout",
     "output_type": "stream",
     "text": [
      "Found Vertical Win\n",
      "DQA player 2 won\n",
      "Found Vertical Win\n",
      "DQA player 1 won\n",
      "Found Vertical Win\n",
      "DQA player 1 won\n",
      "Found Vertical Win\n",
      "DQA player 2 won\n"
     ]
    },
    {
     "name": "stderr",
     "output_type": "stream",
     "text": [
      "  4%|▍         | 439/10000 [00:26<10:15, 15.54it/s]"
     ]
    },
    {
     "name": "stdout",
     "output_type": "stream",
     "text": [
      "Found Vertical Win\n",
      "DQA player 1 won\n",
      "Found Vertical Win\n",
      "DQA player 1 won\n",
      "Found Vertical Win\n",
      "DQA player 1 won\n",
      "Found Vertical Win\n",
      "DQA player 1 won\n",
      "Found Vertical Win\n",
      "DQA player 1 won\n"
     ]
    },
    {
     "name": "stderr",
     "output_type": "stream",
     "text": [
      "\r",
      "  4%|▍         | 442/10000 [00:27<09:24, 16.93it/s]"
     ]
    },
    {
     "name": "stdout",
     "output_type": "stream",
     "text": [
      "Found Vertical Win\n",
      "DQA player 1 won\n",
      "Found Vertical Win\n",
      "DQA player 1 won\n",
      "Found Vertical Win\n",
      "DQA player 2 won\n"
     ]
    },
    {
     "name": "stderr",
     "output_type": "stream",
     "text": [
      "  4%|▍         | 447/10000 [00:27<08:42, 18.29it/s]"
     ]
    },
    {
     "name": "stdout",
     "output_type": "stream",
     "text": [
      "Found Vertical Win\n",
      "DQA player 2 won\n",
      "Found Vertical Win\n",
      "DQA player 1 won\n",
      "Found Vertical Win\n",
      "DQA player 1 won\n",
      "Found Vertical Win\n",
      "DQA player 2 won\n",
      "Found Vertical Win\n",
      "DQA player 1 won\n",
      "Found Vertical Win\n",
      "DQA player 1 won\n"
     ]
    },
    {
     "name": "stderr",
     "output_type": "stream",
     "text": [
      "  5%|▍         | 452/10000 [00:27<08:23, 18.97it/s]"
     ]
    },
    {
     "name": "stdout",
     "output_type": "stream",
     "text": [
      "Found Vertical Win\n",
      "DQA player 2 won\n",
      "Found Vertical Win\n",
      "DQA player 2 won\n",
      "Found Vertical Win\n",
      "DQA player 1 won\n",
      "Found Vertical Win\n",
      "DQA player 1 won\n",
      "Found Vertical Win\n",
      "DQA player 1 won\n"
     ]
    },
    {
     "name": "stderr",
     "output_type": "stream",
     "text": [
      "  5%|▍         | 457/10000 [00:27<08:39, 18.36it/s]"
     ]
    },
    {
     "name": "stdout",
     "output_type": "stream",
     "text": [
      "Found Vertical Win\n",
      "DQA player 2 won\n",
      "Found Vertical Win\n",
      "DQA player 1 won\n",
      "Found Vertical Win\n",
      "DQA player 2 won\n",
      "Found Vertical Win\n",
      "DQA player 1 won\n"
     ]
    },
    {
     "name": "stderr",
     "output_type": "stream",
     "text": [
      "  5%|▍         | 461/10000 [00:28<10:37, 14.96it/s]"
     ]
    },
    {
     "name": "stdout",
     "output_type": "stream",
     "text": [
      "Found Vertical Win\n",
      "DQA player 2 won\n",
      "Found Vertical Win\n",
      "DQA player 2 won\n",
      "Found Vertical Win\n",
      "DQA player 1 won\n",
      "Found Vertical Win\n",
      "DQA player 2 won\n"
     ]
    },
    {
     "name": "stderr",
     "output_type": "stream",
     "text": [
      "  5%|▍         | 467/10000 [00:28<09:01, 17.60it/s]"
     ]
    },
    {
     "name": "stdout",
     "output_type": "stream",
     "text": [
      "Found Vertical Win\n",
      "DQA player 1 won\n",
      "Found Vertical Win\n",
      "DQA player 2 won\n",
      "Found Vertical Win\n",
      "DQA player 2 won\n",
      "Found Vertical Win\n",
      "DQA player 1 won\n",
      "Found Vertical Win\n",
      "DQA player 1 won\n"
     ]
    },
    {
     "name": "stderr",
     "output_type": "stream",
     "text": [
      "  5%|▍         | 471/10000 [00:28<08:39, 18.34it/s]"
     ]
    },
    {
     "name": "stdout",
     "output_type": "stream",
     "text": [
      "Found Vertical Win\n",
      "DQA player 1 won\n",
      "Found Vertical Win\n",
      "DQA player 1 won\n",
      "Found Vertical Win\n",
      "DQA player 1 won\n",
      "Found Vertical Win\n",
      "DQA player 2 won\n"
     ]
    },
    {
     "name": "stderr",
     "output_type": "stream",
     "text": [
      "\r",
      "  5%|▍         | 473/10000 [00:28<08:46, 18.11it/s]"
     ]
    },
    {
     "name": "stdout",
     "output_type": "stream",
     "text": [
      "Found Vertical Win\n",
      "DQA player 2 won\n",
      "Found Vertical Win\n",
      "DQA player 2 won\n",
      "Found Vertical Win\n",
      "DQA player 1 won\n",
      "Found Vertical Win\n",
      "DQA player 1 won\n"
     ]
    },
    {
     "name": "stderr",
     "output_type": "stream",
     "text": [
      "  5%|▍         | 478/10000 [00:29<08:21, 18.97it/s]"
     ]
    },
    {
     "name": "stdout",
     "output_type": "stream",
     "text": [
      "Found Vertical Win\n",
      "DQA player 1 won\n",
      "Found Vertical Win\n",
      "DQA player 1 won\n",
      "Found Vertical Win\n",
      "DQA player 1 won\n",
      "Found Vertical Win\n",
      "DQA player 1 won\n",
      "Found Vertical Win\n",
      "DQA player 2 won\n"
     ]
    },
    {
     "name": "stderr",
     "output_type": "stream",
     "text": [
      "  5%|▍         | 484/10000 [00:29<07:47, 20.35it/s]"
     ]
    },
    {
     "name": "stdout",
     "output_type": "stream",
     "text": [
      "Found Vertical Win\n",
      "DQA player 2 won\n",
      "Found Vertical Win\n",
      "DQA player 2 won\n",
      "Found Vertical Win\n",
      "DQA player 2 won\n",
      "Found Vertical Win\n",
      "DQA player 2 won\n",
      "Found Vertical Win\n",
      "DQA player 2 won\n"
     ]
    },
    {
     "name": "stderr",
     "output_type": "stream",
     "text": [
      "\r",
      "  5%|▍         | 487/10000 [00:29<07:43, 20.54it/s]"
     ]
    },
    {
     "name": "stdout",
     "output_type": "stream",
     "text": [
      "Found Vertical Win\n",
      "DQA player 2 won\n",
      "Found Vertical Win\n",
      "DQA player 2 won\n",
      "Found Vertical Win\n",
      "DQA player 2 won\n",
      "Found Vertical Win\n",
      "DQA player 1 won\n",
      "Found Vertical Win\n"
     ]
    },
    {
     "name": "stderr",
     "output_type": "stream",
     "text": [
      "\r",
      "  5%|▍         | 490/10000 [00:29<07:53, 20.07it/s]"
     ]
    },
    {
     "name": "stdout",
     "output_type": "stream",
     "text": [
      "DQA player 2 won\n",
      "Found Vertical Win\n",
      "DQA player 1 won\n",
      "Found Vertical Win\n",
      "DQA player 1 won\n"
     ]
    },
    {
     "name": "stderr",
     "output_type": "stream",
     "text": [
      "  5%|▍         | 495/10000 [00:30<11:22, 13.93it/s]"
     ]
    },
    {
     "name": "stdout",
     "output_type": "stream",
     "text": [
      "Found Vertical Win\n",
      "DQA player 2 won\n",
      "Found Vertical Win\n",
      "DQA player 2 won\n",
      "Found Vertical Win\n",
      "DQA player 1 won\n"
     ]
    },
    {
     "name": "stderr",
     "output_type": "stream",
     "text": [
      "\r",
      "  5%|▍         | 497/10000 [00:30<11:43, 13.50it/s]"
     ]
    },
    {
     "name": "stdout",
     "output_type": "stream",
     "text": [
      "Found Vertical Win\n",
      "DQA player 1 won\n",
      "Found Vertical Win\n",
      "DQA player 1 won\n",
      "Found Vertical Win\n",
      "DQA player 1 won\n"
     ]
    },
    {
     "name": "stderr",
     "output_type": "stream",
     "text": [
      "  5%|▌         | 501/10000 [00:30<13:13, 11.97it/s]"
     ]
    },
    {
     "name": "stdout",
     "output_type": "stream",
     "text": [
      "Found Vertical Win\n",
      "DQA player 1 won\n",
      "Found Vertical Win\n",
      "DQA player 1 won\n",
      "Found Vertical Win\n",
      "DQA player 1 won\n"
     ]
    },
    {
     "name": "stderr",
     "output_type": "stream",
     "text": [
      "  5%|▌         | 506/10000 [00:30<10:25, 15.17it/s]"
     ]
    },
    {
     "name": "stdout",
     "output_type": "stream",
     "text": [
      "Found Vertical Win\n",
      "DQA player 2 won\n",
      "Found Vertical Win\n",
      "DQA player 2 won\n",
      "Found Vertical Win\n",
      "DQA player 1 won\n",
      "Found Vertical Win\n",
      "DQA player 1 won\n",
      "Found Vertical Win\n",
      "DQA player 1 won\n"
     ]
    },
    {
     "name": "stderr",
     "output_type": "stream",
     "text": [
      "\r",
      "  5%|▌         | 508/10000 [00:30<10:49, 14.61it/s]"
     ]
    },
    {
     "name": "stdout",
     "output_type": "stream",
     "text": [
      "Found Vertical Win\n",
      "DQA player 2 won\n",
      "Found Vertical Win\n",
      "DQA player 2 won\n",
      "Found Vertical Win\n",
      "DQA player 1 won\n",
      "Found Vertical Win\n"
     ]
    },
    {
     "name": "stderr",
     "output_type": "stream",
     "text": [
      "  5%|▌         | 512/10000 [00:31<11:59, 13.19it/s]"
     ]
    },
    {
     "name": "stdout",
     "output_type": "stream",
     "text": [
      "DQA player 2 won\n",
      "Found Diagonal Win\n",
      "DQA player 2 won\n",
      "Found Vertical Win\n",
      "DQA player 2 won\n"
     ]
    },
    {
     "name": "stderr",
     "output_type": "stream",
     "text": [
      "\r",
      "  5%|▌         | 514/10000 [00:31<11:23, 13.88it/s]"
     ]
    },
    {
     "name": "stdout",
     "output_type": "stream",
     "text": [
      "Found Vertical Win\n",
      "DQA player 1 won\n",
      "Found Vertical Win\n",
      "DQA player 1 won\n",
      "Found Vertical Win\n",
      "DQA player 1 won\n",
      "Found Vertical Win\n",
      "DQA player 1 won\n"
     ]
    },
    {
     "name": "stderr",
     "output_type": "stream",
     "text": [
      "  5%|▌         | 520/10000 [00:31<08:54, 17.74it/s]"
     ]
    },
    {
     "name": "stdout",
     "output_type": "stream",
     "text": [
      "Found Vertical Win\n",
      "DQA player 1 won\n",
      "Found Vertical Win\n",
      "DQA player 1 won\n",
      "Found Vertical Win\n",
      "DQA player 1 won\n",
      "Found Vertical Win\n",
      "DQA player 2 won\n",
      "Found Vertical Win\n",
      "DQA player 1 won\n",
      "Found Vertical Win\n"
     ]
    },
    {
     "name": "stderr",
     "output_type": "stream",
     "text": [
      "  5%|▌         | 526/10000 [00:31<08:01, 19.69it/s]"
     ]
    },
    {
     "name": "stdout",
     "output_type": "stream",
     "text": [
      "DQA player 2 won\n",
      "Found Vertical Win\n",
      "DQA player 1 won\n",
      "Found Vertical Win\n",
      "DQA player 1 won\n",
      "Found Vertical Win\n",
      "DQA player 2 won\n",
      "Found Vertical Win\n",
      "DQA player 1 won\n"
     ]
    },
    {
     "name": "stderr",
     "output_type": "stream",
     "text": [
      "  5%|▌         | 532/10000 [00:32<07:08, 22.10it/s]"
     ]
    },
    {
     "name": "stdout",
     "output_type": "stream",
     "text": [
      "Found Vertical Win\n",
      "DQA player 1 won\n",
      "Found Vertical Win\n",
      "DQA player 1 won\n",
      "Found Vertical Win\n",
      "DQA player 1 won\n",
      "Found Vertical Win\n",
      "DQA player 1 won\n",
      "Found Vertical Win\n",
      "DQA player 1 won\n",
      "Found Vertical Win\n",
      "DQA player 1 won\n"
     ]
    },
    {
     "name": "stderr",
     "output_type": "stream",
     "text": [
      "  5%|▌         | 538/10000 [00:32<06:28, 24.38it/s]"
     ]
    },
    {
     "name": "stdout",
     "output_type": "stream",
     "text": [
      "Found Vertical Win\n",
      "DQA player 2 won\n",
      "Found Vertical Win\n",
      "DQA player 2 won\n",
      "Found Vertical Win\n",
      "DQA player 1 won\n",
      "Found Vertical Win\n",
      "DQA player 1 won\n",
      "Found Vertical Win\n",
      "DQA player 1 won\n",
      "Found Vertical Win\n",
      "DQA player 2 won\n"
     ]
    },
    {
     "name": "stderr",
     "output_type": "stream",
     "text": [
      "\r",
      "  5%|▌         | 541/10000 [00:32<06:29, 24.29it/s]"
     ]
    },
    {
     "name": "stdout",
     "output_type": "stream",
     "text": [
      "Found Vertical Win\n",
      "DQA player 2 won\n",
      "Found Vertical Win\n",
      "DQA player 1 won\n",
      "Found Vertical Win\n",
      "DQA player 1 won\n",
      "Found Vertical Win\n",
      "DQA player 1 won\n",
      "Found Vertical Win\n",
      "DQA player 1 won\n"
     ]
    },
    {
     "name": "stderr",
     "output_type": "stream",
     "text": [
      "  5%|▌         | 547/10000 [00:32<06:23, 24.64it/s]"
     ]
    },
    {
     "name": "stdout",
     "output_type": "stream",
     "text": [
      "Found Vertical Win\n",
      "DQA player 1 won\n",
      "Found Vertical Win\n",
      "DQA player 1 won\n",
      "Found Vertical Win\n",
      "DQA player 1 won\n",
      "Found Vertical Win\n",
      "DQA player 1 won\n",
      "Found Vertical Win\n",
      "DQA player 1 won\n",
      "Found Vertical Win\n"
     ]
    },
    {
     "name": "stderr",
     "output_type": "stream",
     "text": [
      "  6%|▌         | 553/10000 [00:33<06:32, 24.04it/s]"
     ]
    },
    {
     "name": "stdout",
     "output_type": "stream",
     "text": [
      "DQA player 1 won\n",
      "Found Vertical Win\n",
      "DQA player 1 won\n",
      "Found Vertical Win\n",
      "DQA player 1 won\n",
      "Found Vertical Win\n",
      "DQA player 2 won\n",
      "Found Vertical Win\n",
      "DQA player 1 won\n"
     ]
    },
    {
     "name": "stderr",
     "output_type": "stream",
     "text": [
      "\r",
      "  6%|▌         | 556/10000 [00:33<06:38, 23.69it/s]"
     ]
    },
    {
     "name": "stdout",
     "output_type": "stream",
     "text": [
      "Found Vertical Win\n",
      "DQA player 1 won\n",
      "Found Vertical Win\n",
      "DQA player 2 won\n",
      "Found Vertical Win\n",
      "DQA player 2 won\n",
      "Found Vertical Win\n",
      "DQA player 2 won\n"
     ]
    },
    {
     "name": "stderr",
     "output_type": "stream",
     "text": [
      "\r",
      "  6%|▌         | 559/10000 [00:33<07:35, 20.73it/s]"
     ]
    },
    {
     "name": "stdout",
     "output_type": "stream",
     "text": [
      "Found Vertical Win\n",
      "DQA player 2 won\n",
      "Found Vertical Win\n",
      "DQA player 2 won\n",
      "Found Vertical Win\n",
      "DQA player 2 won\n"
     ]
    },
    {
     "name": "stderr",
     "output_type": "stream",
     "text": [
      "\r",
      "  6%|▌         | 562/10000 [00:33<10:21, 15.18it/s]"
     ]
    },
    {
     "name": "stdout",
     "output_type": "stream",
     "text": [
      "Found Horizontal Win\n",
      "DQA player 2 won\n",
      "Found Vertical Win\n",
      "DQA player 1 won\n",
      "Found Vertical Win\n",
      "DQA player 2 won\n"
     ]
    },
    {
     "name": "stderr",
     "output_type": "stream",
     "text": [
      "  6%|▌         | 566/10000 [00:33<10:31, 14.95it/s]"
     ]
    },
    {
     "name": "stdout",
     "output_type": "stream",
     "text": [
      "Found Vertical Win\n",
      "DQA player 1 won\n",
      "Found Vertical Win\n",
      "DQA player 2 won\n",
      "Found Vertical Win\n",
      "DQA player 1 won\n",
      "Found Vertical Win\n",
      "DQA player 1 won\n",
      "Found Vertical Win\n"
     ]
    },
    {
     "name": "stderr",
     "output_type": "stream",
     "text": [
      "\r",
      "  6%|▌         | 569/10000 [00:34<11:40, 13.45it/s]"
     ]
    },
    {
     "name": "stdout",
     "output_type": "stream",
     "text": [
      "DQA player 1 won\n",
      "Found Horizontal Win\n",
      "DQA player 1 won\n"
     ]
    },
    {
     "name": "stderr",
     "output_type": "stream",
     "text": [
      "  6%|▌         | 575/10000 [00:34<09:08, 17.18it/s]"
     ]
    },
    {
     "name": "stdout",
     "output_type": "stream",
     "text": [
      "Found Vertical Win\n",
      "DQA player 2 won\n",
      "Found Vertical Win\n",
      "DQA player 1 won\n",
      "Found Vertical Win\n",
      "DQA player 2 won\n",
      "Found Vertical Win\n",
      "DQA player 1 won\n",
      "Found Vertical Win\n",
      "DQA player 1 won\n",
      "Found Vertical Win\n",
      "DQA player 1 won\n"
     ]
    },
    {
     "name": "stderr",
     "output_type": "stream",
     "text": [
      "  6%|▌         | 579/10000 [00:34<09:08, 17.17it/s]"
     ]
    },
    {
     "name": "stdout",
     "output_type": "stream",
     "text": [
      "Found Vertical Win\n",
      "DQA player 2 won\n",
      "Found Vertical Win\n",
      "DQA player 1 won\n",
      "Found Vertical Win\n",
      "DQA player 1 won\n",
      "Found Vertical Win\n",
      "DQA player 2 won\n"
     ]
    },
    {
     "name": "stderr",
     "output_type": "stream",
     "text": [
      "  6%|▌         | 583/10000 [00:34<08:46, 17.87it/s]"
     ]
    },
    {
     "name": "stdout",
     "output_type": "stream",
     "text": [
      "Found Vertical Win\n",
      "DQA player 2 won\n",
      "Found Vertical Win\n",
      "DQA player 2 won\n",
      "Found Vertical Win\n",
      "DQA player 2 won\n",
      "Found Vertical Win\n",
      "DQA player 1 won\n",
      "Found Vertical Win\n"
     ]
    },
    {
     "name": "stderr",
     "output_type": "stream",
     "text": [
      "\r",
      "  6%|▌         | 586/10000 [00:35<08:26, 18.60it/s]"
     ]
    },
    {
     "name": "stdout",
     "output_type": "stream",
     "text": [
      "DQA player 1 won\n",
      "Found Vertical Win\n",
      "DQA player 1 won\n",
      "Found Vertical Win\n",
      "DQA player 2 won\n",
      "Found Vertical Win\n",
      "DQA player 2 won\n"
     ]
    },
    {
     "name": "stderr",
     "output_type": "stream",
     "text": [
      "  6%|▌         | 592/10000 [00:35<07:51, 19.93it/s]"
     ]
    },
    {
     "name": "stdout",
     "output_type": "stream",
     "text": [
      "Found Vertical Win\n",
      "DQA player 1 won\n",
      "Found Vertical Win\n",
      "DQA player 1 won\n",
      "Found Vertical Win\n",
      "DQA player 1 won\n",
      "Found Vertical Win\n",
      "DQA player 1 won\n",
      "Found Vertical Win\n",
      "DQA player 1 won\n"
     ]
    },
    {
     "name": "stderr",
     "output_type": "stream",
     "text": [
      "\r",
      "  6%|▌         | 595/10000 [00:35<07:54, 19.83it/s]"
     ]
    },
    {
     "name": "stdout",
     "output_type": "stream",
     "text": [
      "Found Vertical Win\n",
      "DQA player 1 won\n",
      "Found Vertical Win\n",
      "DQA player 1 won\n",
      "Found Vertical Win\n",
      "DQA player 2 won\n",
      "Found Vertical Win\n",
      "DQA player 2 won\n",
      "Found Vertical Win\n"
     ]
    },
    {
     "name": "stderr",
     "output_type": "stream",
     "text": [
      "  6%|▌         | 601/10000 [00:35<06:50, 22.92it/s]"
     ]
    },
    {
     "name": "stdout",
     "output_type": "stream",
     "text": [
      "DQA player 1 won\n",
      "Found Vertical Win\n",
      "DQA player 1 won\n",
      "Found Vertical Win\n",
      "DQA player 1 won\n",
      "Found Vertical Win\n",
      "DQA player 1 won\n",
      "Found Vertical Win\n",
      "DQA player 1 won\n",
      "Found Vertical Win\n",
      "DQA player 2 won\n"
     ]
    },
    {
     "name": "stderr",
     "output_type": "stream",
     "text": [
      "  6%|▌         | 607/10000 [00:35<06:29, 24.14it/s]"
     ]
    },
    {
     "name": "stdout",
     "output_type": "stream",
     "text": [
      "Found Vertical Win\n",
      "DQA player 1 won\n",
      "Found Vertical Win\n",
      "DQA player 1 won\n",
      "Found Vertical Win\n",
      "DQA player 2 won\n",
      "Found Vertical Win\n",
      "DQA player 1 won\n",
      "Found Vertical Win\n",
      "DQA player 1 won\n",
      "Found Vertical Win\n",
      "DQA player 2 won\n"
     ]
    },
    {
     "name": "stderr",
     "output_type": "stream",
     "text": [
      "  6%|▌         | 613/10000 [00:36<06:22, 24.56it/s]"
     ]
    },
    {
     "name": "stdout",
     "output_type": "stream",
     "text": [
      "Found Vertical Win\n",
      "DQA player 1 won\n",
      "Found Vertical Win\n",
      "DQA player 1 won\n",
      "Found Vertical Win\n",
      "DQA player 1 won\n",
      "Found Vertical Win\n",
      "DQA player 1 won\n",
      "Found Vertical Win\n",
      "DQA player 1 won\n",
      "Found Vertical Win\n",
      "DQA player 1 won\n"
     ]
    },
    {
     "name": "stderr",
     "output_type": "stream",
     "text": [
      "  6%|▌         | 619/10000 [00:36<06:07, 25.53it/s]"
     ]
    },
    {
     "name": "stdout",
     "output_type": "stream",
     "text": [
      "Found Vertical Win\n",
      "DQA player 1 won\n",
      "Found Vertical Win\n",
      "DQA player 1 won\n",
      "Found Vertical Win\n",
      "DQA player 2 won\n",
      "Found Vertical Win\n",
      "DQA player 2 won\n",
      "Found Vertical Win\n",
      "DQA player 1 won\n"
     ]
    },
    {
     "name": "stderr",
     "output_type": "stream",
     "text": [
      "  6%|▋         | 625/10000 [00:36<06:08, 25.46it/s]"
     ]
    },
    {
     "name": "stdout",
     "output_type": "stream",
     "text": [
      "Found Vertical Win\n",
      "DQA player 2 won\n",
      "Found Vertical Win\n",
      "DQA player 2 won\n",
      "Found Vertical Win\n",
      "DQA player 1 won\n",
      "Found Vertical Win\n",
      "DQA player 1 won\n",
      "Found Vertical Win\n",
      "DQA player 1 won\n",
      "Found Vertical Win\n",
      "DQA player 1 won\n"
     ]
    },
    {
     "name": "stderr",
     "output_type": "stream",
     "text": [
      "  6%|▋         | 631/10000 [00:36<05:50, 26.73it/s]"
     ]
    },
    {
     "name": "stdout",
     "output_type": "stream",
     "text": [
      "Found Vertical Win\n",
      "DQA player 1 won\n",
      "Found Vertical Win\n",
      "DQA player 2 won\n",
      "Found Vertical Win\n",
      "DQA player 2 won\n",
      "Found Vertical Win\n",
      "DQA player 1 won\n",
      "Found Vertical Win\n",
      "DQA player 1 won\n",
      "Found Vertical Win\n",
      "DQA player 1 won\n"
     ]
    },
    {
     "name": "stderr",
     "output_type": "stream",
     "text": [
      "\r",
      "  6%|▋         | 634/10000 [00:37<05:56, 26.30it/s]"
     ]
    },
    {
     "name": "stdout",
     "output_type": "stream",
     "text": [
      "Found Vertical Win\n",
      "DQA player 2 won\n",
      "Found Vertical Win\n",
      "DQA player 1 won\n",
      "Found Vertical Win\n",
      "DQA player 1 won\n",
      "Found Vertical Win\n",
      "DQA player 1 won\n",
      "Found Vertical Win\n",
      "DQA player 1 won\n"
     ]
    },
    {
     "name": "stderr",
     "output_type": "stream",
     "text": [
      "  6%|▋         | 640/10000 [00:37<07:52, 19.81it/s]"
     ]
    },
    {
     "name": "stdout",
     "output_type": "stream",
     "text": [
      "Found Vertical Win\n",
      "DQA player 1 won\n",
      "Found Vertical Win\n",
      "DQA player 1 won\n",
      "Found Vertical Win\n",
      "DQA player 2 won\n",
      "Found Vertical Win\n",
      "DQA player 2 won\n"
     ]
    },
    {
     "name": "stderr",
     "output_type": "stream",
     "text": [
      "  6%|▋         | 646/10000 [00:37<07:56, 19.62it/s]"
     ]
    },
    {
     "name": "stdout",
     "output_type": "stream",
     "text": [
      "Found Vertical Win\n",
      "DQA player 1 won\n",
      "Found Vertical Win\n",
      "DQA player 2 won\n",
      "Found Vertical Win\n",
      "DQA player 2 won\n",
      "Found Vertical Win\n",
      "DQA player 2 won\n",
      "Found Vertical Win\n",
      "DQA player 2 won\n",
      "Found Vertical Win\n",
      "DQA player 2 won\n"
     ]
    },
    {
     "name": "stderr",
     "output_type": "stream",
     "text": [
      "\r",
      "  6%|▋         | 649/10000 [00:37<07:30, 20.76it/s]"
     ]
    },
    {
     "name": "stdout",
     "output_type": "stream",
     "text": [
      "Found Vertical Win\n",
      "DQA player 2 won\n",
      "Found Vertical Win\n",
      "DQA player 2 won\n",
      "Found Vertical Win\n",
      "DQA player 2 won\n",
      "Found Vertical Win\n",
      "DQA player 2 won\n"
     ]
    },
    {
     "name": "stderr",
     "output_type": "stream",
     "text": [
      "  7%|▋         | 655/10000 [00:38<07:59, 19.48it/s]"
     ]
    },
    {
     "name": "stdout",
     "output_type": "stream",
     "text": [
      "Found Vertical Win\n",
      "DQA player 1 won\n",
      "Found Vertical Win\n",
      "DQA player 2 won\n",
      "Found Vertical Win\n",
      "DQA player 1 won\n",
      "Found Vertical Win\n",
      "DQA player 1 won\n",
      "Found Vertical Win\n",
      "DQA player 2 won\n"
     ]
    },
    {
     "name": "stderr",
     "output_type": "stream",
     "text": [
      "  7%|▋         | 661/10000 [00:38<07:05, 21.94it/s]"
     ]
    },
    {
     "name": "stdout",
     "output_type": "stream",
     "text": [
      "Found Vertical Win\n",
      "DQA player 2 won\n",
      "Found Vertical Win\n",
      "DQA player 2 won\n",
      "Found Vertical Win\n",
      "DQA player 1 won\n",
      "Found Vertical Win\n",
      "DQA player 2 won\n",
      "Found Vertical Win\n",
      "DQA player 1 won\n",
      "Found Vertical Win\n",
      "DQA player 1 won\n"
     ]
    },
    {
     "name": "stderr",
     "output_type": "stream",
     "text": [
      "  7%|▋         | 667/10000 [00:38<06:31, 23.86it/s]"
     ]
    },
    {
     "name": "stdout",
     "output_type": "stream",
     "text": [
      "Found Vertical Win\n",
      "DQA player 2 won\n",
      "Found Vertical Win\n",
      "DQA player 1 won\n",
      "Found Vertical Win\n",
      "DQA player 1 won\n",
      "Found Vertical Win\n",
      "DQA player 2 won\n",
      "Found Vertical Win\n",
      "DQA player 1 won\n",
      "Found Vertical Win\n",
      "DQA player 1 won\n"
     ]
    },
    {
     "name": "stderr",
     "output_type": "stream",
     "text": [
      "  7%|▋         | 673/10000 [00:38<06:10, 25.15it/s]"
     ]
    },
    {
     "name": "stdout",
     "output_type": "stream",
     "text": [
      "Found Vertical Win\n",
      "DQA player 1 won\n",
      "Found Vertical Win\n",
      "DQA player 1 won\n",
      "Found Vertical Win\n",
      "DQA player 1 won\n",
      "Found Vertical Win\n",
      "DQA player 2 won\n",
      "Found Vertical Win\n",
      "DQA player 2 won\n",
      "Found Vertical Win\n",
      "DQA player 2 won\n"
     ]
    },
    {
     "name": "stderr",
     "output_type": "stream",
     "text": [
      "\r",
      "  7%|▋         | 676/10000 [00:39<06:38, 23.41it/s]"
     ]
    },
    {
     "name": "stdout",
     "output_type": "stream",
     "text": [
      "Found Vertical Win\n",
      "DQA player 2 won\n",
      "Found Vertical Win\n",
      "DQA player 2 won\n",
      "Found Vertical Win\n",
      "DQA player 2 won\n",
      "Found Vertical Win\n",
      "DQA player 1 won\n",
      "Found Vertical Win\n",
      "DQA player 1 won\n",
      "Found Vertical Win\n"
     ]
    },
    {
     "name": "stderr",
     "output_type": "stream",
     "text": [
      "  7%|▋         | 682/10000 [00:39<07:33, 20.54it/s]"
     ]
    },
    {
     "name": "stdout",
     "output_type": "stream",
     "text": [
      "DQA player 1 won\n",
      "Found Vertical Win\n",
      "DQA player 2 won\n",
      "Found Vertical Win\n",
      "DQA player 1 won\n",
      "Found Vertical Win\n",
      "DQA player 2 won\n"
     ]
    },
    {
     "name": "stderr",
     "output_type": "stream",
     "text": [
      "\r",
      "  7%|▋         | 685/10000 [00:39<06:55, 22.41it/s]"
     ]
    },
    {
     "name": "stdout",
     "output_type": "stream",
     "text": [
      "Found Vertical Win\n",
      "DQA player 1 won\n",
      "Found Vertical Win\n",
      "DQA player 1 won\n",
      "Found Vertical Win\n",
      "DQA player 1 won\n",
      "Found Vertical Win\n",
      "DQA player 1 won\n",
      "Found Vertical Win\n",
      "DQA player 1 won\n"
     ]
    },
    {
     "name": "stderr",
     "output_type": "stream",
     "text": [
      "  7%|▋         | 691/10000 [00:39<06:55, 22.41it/s]"
     ]
    },
    {
     "name": "stdout",
     "output_type": "stream",
     "text": [
      "Found Vertical Win\n",
      "DQA player 1 won\n",
      "Found Vertical Win\n",
      "DQA player 2 won\n",
      "Found Vertical Win\n",
      "DQA player 1 won\n",
      "Found Vertical Win\n",
      "DQA player 1 won\n",
      "Found Vertical Win\n",
      "DQA player 1 won\n",
      "Found Vertical Win\n",
      "DQA player 1 won\n"
     ]
    },
    {
     "name": "stderr",
     "output_type": "stream",
     "text": [
      "  7%|▋         | 697/10000 [00:39<06:40, 23.25it/s]"
     ]
    },
    {
     "name": "stdout",
     "output_type": "stream",
     "text": [
      "Found Vertical Win\n",
      "DQA player 1 won\n",
      "Found Vertical Win\n",
      "DQA player 1 won\n",
      "Found Vertical Win\n",
      "DQA player 2 won\n",
      "Found Vertical Win\n",
      "DQA player 2 won\n",
      "Found Vertical Win\n",
      "DQA player 1 won\n"
     ]
    },
    {
     "name": "stderr",
     "output_type": "stream",
     "text": [
      "\r",
      "  7%|▋         | 700/10000 [00:40<06:21, 24.37it/s]"
     ]
    },
    {
     "name": "stdout",
     "output_type": "stream",
     "text": [
      "Found Vertical Win\n",
      "DQA player 1 won\n",
      "Found Vertical Win\n",
      "DQA player 1 won\n",
      "Found Vertical Win\n",
      "DQA player 2 won\n",
      "Found Vertical Win\n",
      "DQA player 1 won\n"
     ]
    },
    {
     "name": "stderr",
     "output_type": "stream",
     "text": [
      "  7%|▋         | 706/10000 [00:40<07:04, 21.89it/s]"
     ]
    },
    {
     "name": "stdout",
     "output_type": "stream",
     "text": [
      "Found Vertical Win\n",
      "DQA player 1 won\n",
      "Found Vertical Win\n",
      "DQA player 1 won\n",
      "Found Vertical Win\n",
      "DQA player 2 won\n",
      "Found Vertical Win\n",
      "DQA player 1 won\n",
      "Found Vertical Win\n",
      "DQA player 2 won\n"
     ]
    },
    {
     "name": "stderr",
     "output_type": "stream",
     "text": [
      "  7%|▋         | 712/10000 [00:40<06:31, 23.69it/s]"
     ]
    },
    {
     "name": "stdout",
     "output_type": "stream",
     "text": [
      "Found Vertical Win\n",
      "DQA player 1 won\n",
      "Found Vertical Win\n",
      "DQA player 1 won\n",
      "Found Vertical Win\n",
      "DQA player 1 won\n",
      "Found Vertical Win\n",
      "DQA player 2 won\n",
      "Found Vertical Win\n",
      "DQA player 1 won\n",
      "Found Vertical Win\n"
     ]
    },
    {
     "name": "stderr",
     "output_type": "stream",
     "text": [
      "  7%|▋         | 718/10000 [00:40<06:05, 25.36it/s]"
     ]
    },
    {
     "name": "stdout",
     "output_type": "stream",
     "text": [
      "DQA player 1 won\n",
      "Found Vertical Win\n",
      "DQA player 2 won\n",
      "Found Vertical Win\n",
      "DQA player 1 won\n",
      "Found Vertical Win\n",
      "DQA player 1 won\n",
      "Found Vertical Win\n",
      "DQA player 2 won\n",
      "Found Vertical Win\n",
      "DQA player 1 won\n"
     ]
    },
    {
     "name": "stderr",
     "output_type": "stream",
     "text": [
      "\r",
      "  7%|▋         | 721/10000 [00:41<07:02, 21.97it/s]"
     ]
    },
    {
     "name": "stdout",
     "output_type": "stream",
     "text": [
      "Found Vertical Win\n",
      "DQA player 2 won\n",
      "Found Vertical Win\n",
      "DQA player 2 won\n",
      "Found Vertical Win\n",
      "DQA player 2 won\n",
      "Found Vertical Win\n",
      "DQA player 1 won"
     ]
    },
    {
     "name": "stderr",
     "output_type": "stream",
     "text": [
      "\r",
      "  7%|▋         | 724/10000 [00:41<08:39, 17.84it/s]"
     ]
    },
    {
     "name": "stdout",
     "output_type": "stream",
     "text": [
      "\n",
      "Found Vertical Win\n",
      "DQA player 1 won\n",
      "Found Vertical Win\n",
      "DQA player 1 won\n",
      "Found Vertical Win\n",
      "DQA player 1 won\n"
     ]
    },
    {
     "name": "stderr",
     "output_type": "stream",
     "text": [
      "  7%|▋         | 730/10000 [00:41<07:09, 21.61it/s]"
     ]
    },
    {
     "name": "stdout",
     "output_type": "stream",
     "text": [
      "Found Vertical Win\n",
      "DQA player 1 won\n",
      "Found Vertical Win\n",
      "DQA player 1 won\n",
      "Found Vertical Win\n",
      "DQA player 1 won\n",
      "Found Vertical Win\n",
      "DQA player 2 won\n",
      "Found Vertical Win\n",
      "DQA player 1 won\n",
      "Found Vertical Win\n",
      "DQA player 1 won\n"
     ]
    },
    {
     "name": "stderr",
     "output_type": "stream",
     "text": [
      "  7%|▋         | 736/10000 [00:41<06:40, 23.14it/s]"
     ]
    },
    {
     "name": "stdout",
     "output_type": "stream",
     "text": [
      "Found Vertical Win\n",
      "DQA player 1 won\n",
      "Found Vertical Win\n",
      "DQA player 1 won\n",
      "Found Vertical Win\n",
      "DQA player 1 won\n",
      "Found Vertical Win\n",
      "DQA player 1 won\n",
      "Found Vertical Win\n",
      "DQA player 2 won\n"
     ]
    },
    {
     "name": "stderr",
     "output_type": "stream",
     "text": [
      "\r",
      "  7%|▋         | 739/10000 [00:41<06:15, 24.69it/s]"
     ]
    },
    {
     "name": "stdout",
     "output_type": "stream",
     "text": [
      "Found Vertical Win\n",
      "DQA player 1 won\n",
      "Found Vertical Win\n",
      "DQA player 1 won\n",
      "Found Vertical Win\n",
      "DQA player 1 won\n",
      "Found Vertical Win\n",
      "DQA player 2 won\n",
      "Found Vertical Win\n"
     ]
    },
    {
     "name": "stderr",
     "output_type": "stream",
     "text": [
      "  7%|▋         | 745/10000 [00:42<06:45, 22.85it/s]"
     ]
    },
    {
     "name": "stdout",
     "output_type": "stream",
     "text": [
      "DQA player 2 won\n",
      "Found Vertical Win\n",
      "DQA player 1 won\n",
      "Found Vertical Win\n",
      "DQA player 1 won\n",
      "Found Vertical Win\n",
      "DQA player 1 won\n",
      "Found Vertical Win\n",
      "DQA player 2 won\n",
      "Found Vertical Win\n"
     ]
    },
    {
     "name": "stderr",
     "output_type": "stream",
     "text": [
      "\r",
      "  7%|▋         | 748/10000 [00:42<06:37, 23.29it/s]"
     ]
    },
    {
     "name": "stdout",
     "output_type": "stream",
     "text": [
      "DQA player 1 won\n",
      "Found Vertical Win\n",
      "DQA player 1 won\n",
      "Found Vertical Win\n",
      "DQA player 2 won\n",
      "Found Vertical Win\n",
      "DQA player 1 won\n",
      "Found Vertical Win\n",
      "DQA player 1 won\n",
      "Found Vertical Win\n"
     ]
    },
    {
     "name": "stderr",
     "output_type": "stream",
     "text": [
      "  8%|▊         | 754/10000 [00:42<06:35, 23.40it/s]"
     ]
    },
    {
     "name": "stdout",
     "output_type": "stream",
     "text": [
      "DQA player 1 won\n",
      "Found Vertical Win\n",
      "DQA player 1 won\n",
      "Found Vertical Win\n",
      "DQA player 1 won\n",
      "Found Vertical Win\n",
      "DQA player 1 won\n",
      "Found Vertical Win\n",
      "DQA player 1 won\n"
     ]
    },
    {
     "name": "stderr",
     "output_type": "stream",
     "text": [
      "  8%|▊         | 760/10000 [00:42<06:52, 22.40it/s]"
     ]
    },
    {
     "name": "stdout",
     "output_type": "stream",
     "text": [
      "Found Vertical Win\n",
      "DQA player 1 won\n",
      "Found Vertical Win\n",
      "DQA player 1 won\n",
      "Found Vertical Win\n",
      "DQA player 1 won\n",
      "Found Vertical Win\n",
      "DQA player 1 won\n",
      "Found Vertical Win\n",
      "DQA player 1 won\n"
     ]
    },
    {
     "name": "stderr",
     "output_type": "stream",
     "text": [
      "  8%|▊         | 766/10000 [00:42<06:18, 24.38it/s]"
     ]
    },
    {
     "name": "stdout",
     "output_type": "stream",
     "text": [
      "Found Vertical Win\n",
      "DQA player 2 won\n",
      "Found Vertical Win\n",
      "DQA player 1 won\n",
      "Found Vertical Win\n",
      "DQA player 1 won\n",
      "Found Vertical Win\n",
      "DQA player 1 won\n",
      "Found Vertical Win\n",
      "DQA player 1 won\n",
      "Found Vertical Win\n",
      "DQA player 1 won\n"
     ]
    },
    {
     "name": "stderr",
     "output_type": "stream",
     "text": [
      "\r",
      "  8%|▊         | 769/10000 [00:43<06:48, 22.58it/s]"
     ]
    },
    {
     "name": "stdout",
     "output_type": "stream",
     "text": [
      "Found Vertical Win\n",
      "DQA player 1 won\n",
      "Found Vertical Win\n",
      "DQA player 1 won\n",
      "Found Vertical Win\n",
      "DQA player 2 won\n",
      "Found Vertical Win\n",
      "DQA player 2 won\n"
     ]
    },
    {
     "name": "stderr",
     "output_type": "stream",
     "text": [
      "  8%|▊         | 775/10000 [00:43<07:05, 21.68it/s]"
     ]
    },
    {
     "name": "stdout",
     "output_type": "stream",
     "text": [
      "Found Vertical Win\n",
      "DQA player 1 won\n",
      "Found Vertical Win\n",
      "DQA player 1 won\n",
      "Found Vertical Win\n",
      "DQA player 1 won\n",
      "Found Vertical Win\n",
      "DQA player 1 won\n",
      "Found Vertical Win\n",
      "DQA player 1 won\n",
      "Found Vertical Win\n",
      "DQA player 2 won\n"
     ]
    },
    {
     "name": "stderr",
     "output_type": "stream",
     "text": [
      "  8%|▊         | 781/10000 [00:43<06:27, 23.76it/s]"
     ]
    },
    {
     "name": "stdout",
     "output_type": "stream",
     "text": [
      "Found Vertical Win\n",
      "DQA player 1 won\n",
      "Found Vertical Win\n",
      "DQA player 1 won\n",
      "Found Vertical Win\n",
      "DQA player 1 won\n",
      "Found Vertical Win\n",
      "DQA player 1 won\n",
      "Found Vertical Win\n",
      "DQA player 2 won\n"
     ]
    },
    {
     "name": "stderr",
     "output_type": "stream",
     "text": [
      "  8%|▊         | 787/10000 [00:43<06:11, 24.83it/s]"
     ]
    },
    {
     "name": "stdout",
     "output_type": "stream",
     "text": [
      "Found Vertical Win\n",
      "DQA player 2 won\n",
      "Found Vertical Win\n",
      "DQA player 1 won\n",
      "Found Vertical Win\n",
      "DQA player 1 won\n",
      "Found Vertical Win\n",
      "DQA player 1 won\n",
      "Found Vertical Win\n",
      "DQA player 1 won\n",
      "Found Vertical Win\n",
      "DQA player 1 won\n"
     ]
    },
    {
     "name": "stderr",
     "output_type": "stream",
     "text": [
      "  8%|▊         | 793/10000 [00:44<06:04, 25.26it/s]"
     ]
    },
    {
     "name": "stdout",
     "output_type": "stream",
     "text": [
      "Found Vertical Win\n",
      "DQA player 2 won\n",
      "Found Vertical Win\n",
      "DQA player 1 won\n",
      "Found Vertical Win\n",
      "DQA player 1 won\n",
      "Found Vertical Win\n",
      "DQA player 1 won\n",
      "Found Vertical Win\n",
      "DQA player 1 won\n",
      "Found Vertical Win\n",
      "DQA player 2 won\n"
     ]
    },
    {
     "name": "stderr",
     "output_type": "stream",
     "text": [
      "  8%|▊         | 799/10000 [00:44<05:54, 25.97it/s]"
     ]
    },
    {
     "name": "stdout",
     "output_type": "stream",
     "text": [
      "Found Vertical Win\n",
      "DQA player 1 won\n",
      "Found Vertical Win\n",
      "DQA player 2 won\n",
      "Found Vertical Win\n",
      "DQA player 1 won\n",
      "Found Vertical Win\n",
      "DQA player 1 won\n",
      "Found Vertical Win\n",
      "DQA player 1 won\n",
      "Found Vertical Win\n",
      "DQA player 1 won\n"
     ]
    },
    {
     "name": "stderr",
     "output_type": "stream",
     "text": [
      "  8%|▊         | 805/10000 [00:44<05:52, 26.09it/s]"
     ]
    },
    {
     "name": "stdout",
     "output_type": "stream",
     "text": [
      "Found Vertical Win\n",
      "DQA player 2 won\n",
      "Found Vertical Win\n",
      "DQA player 2 won\n",
      "Found Vertical Win\n",
      "DQA player 1 won\n",
      "Found Vertical Win\n",
      "DQA player 1 won\n",
      "Found Vertical Win\n",
      "DQA player 1 won\n",
      "Found Vertical Win\n",
      "DQA player 1 won\n"
     ]
    },
    {
     "name": "stderr",
     "output_type": "stream",
     "text": [
      "  8%|▊         | 811/10000 [00:44<05:39, 27.08it/s]"
     ]
    },
    {
     "name": "stdout",
     "output_type": "stream",
     "text": [
      "Found Vertical Win\n",
      "DQA player 1 won\n",
      "Found Vertical Win\n",
      "DQA player 1 won\n",
      "Found Vertical Win\n",
      "DQA player 1 won\n",
      "Found Vertical Win\n",
      "DQA player 2 won\n",
      "Found Vertical Win\n",
      "DQA player 1 won\n",
      "Found Vertical Win\n",
      "DQA player 1 won\n"
     ]
    },
    {
     "name": "stderr",
     "output_type": "stream",
     "text": [
      "\r",
      "  8%|▊         | 814/10000 [00:44<05:57, 25.73it/s]"
     ]
    },
    {
     "name": "stdout",
     "output_type": "stream",
     "text": [
      "Found Vertical Win\n",
      "DQA player 2 won\n",
      "Found Vertical Win\n",
      "DQA player 2 won\n",
      "Found Vertical Win\n",
      "DQA player 1 won\n",
      "Found Vertical Win\n",
      "DQA player 2 won\n"
     ]
    },
    {
     "name": "stderr",
     "output_type": "stream",
     "text": [
      "\r",
      "  8%|▊         | 817/10000 [00:45<07:32, 20.31it/s]"
     ]
    },
    {
     "name": "stdout",
     "output_type": "stream",
     "text": [
      "Found Vertical Win\n",
      "DQA player 1 won\n",
      "Found Vertical Win\n",
      "DQA player 1 won\n",
      "Found Vertical Win\n",
      "DQA player 1 won\n",
      "Found Vertical Win\n",
      "DQA player 1 won\n"
     ]
    },
    {
     "name": "stderr",
     "output_type": "stream",
     "text": [
      "  8%|▊         | 823/10000 [00:45<08:03, 19.00it/s]"
     ]
    },
    {
     "name": "stdout",
     "output_type": "stream",
     "text": [
      "Found Vertical Win\n",
      "DQA player 1 won\n",
      "Found Vertical Win\n",
      "DQA player 1 won\n",
      "Found Vertical Win\n",
      "DQA player 2 won\n",
      "Found Vertical Win\n",
      "DQA player 1 won\n"
     ]
    },
    {
     "name": "stderr",
     "output_type": "stream",
     "text": [
      "\r",
      "  8%|▊         | 826/10000 [00:45<08:34, 17.82it/s]"
     ]
    },
    {
     "name": "stdout",
     "output_type": "stream",
     "text": [
      "Found Vertical Win\n",
      "DQA player 2 won\n",
      "Found Vertical Win\n",
      "DQA player 2 won\n",
      "Found Vertical Win\n",
      "DQA player 2 won\n",
      "Found Vertical Win\n",
      "DQA player 2 won\n"
     ]
    },
    {
     "name": "stderr",
     "output_type": "stream",
     "text": [
      "  8%|▊         | 830/10000 [00:45<09:36, 15.92it/s]"
     ]
    },
    {
     "name": "stdout",
     "output_type": "stream",
     "text": [
      "Found Vertical Win\n",
      "DQA player 2 won\n",
      "Found Vertical Win\n",
      "DQA player 2 won\n",
      "Found Vertical Win\n",
      "DQA player 1 won\n"
     ]
    },
    {
     "name": "stderr",
     "output_type": "stream",
     "text": [
      "\r",
      "  8%|▊         | 832/10000 [00:46<10:50, 14.08it/s]"
     ]
    },
    {
     "name": "stdout",
     "output_type": "stream",
     "text": [
      "Found Vertical Win\n",
      "DQA player 1 won\n",
      "Found Vertical Win\n",
      "DQA player 2 won\n",
      "Found Vertical Win\n",
      "DQA player 2 won\n"
     ]
    },
    {
     "name": "stderr",
     "output_type": "stream",
     "text": [
      "  8%|▊         | 836/10000 [00:46<11:49, 12.91it/s]"
     ]
    },
    {
     "name": "stdout",
     "output_type": "stream",
     "text": [
      "Found Vertical Win\n",
      "DQA player 1 won\n",
      "Found Vertical Win\n",
      "DQA player 2 won\n",
      "Found Vertical Win\n",
      "DQA player 2 won\n"
     ]
    },
    {
     "name": "stderr",
     "output_type": "stream",
     "text": [
      "  8%|▊         | 841/10000 [00:46<10:19, 14.78it/s]"
     ]
    },
    {
     "name": "stdout",
     "output_type": "stream",
     "text": [
      "Found Vertical Win\n",
      "DQA player 1 won\n",
      "Found Vertical Win\n",
      "DQA player 1 won\n",
      "Found Vertical Win\n",
      "DQA player 2 won\n",
      "Found Vertical Win\n",
      "DQA player 1 won\n",
      "Found Vertical Win\n",
      "DQA player 2 won\n"
     ]
    },
    {
     "name": "stderr",
     "output_type": "stream",
     "text": [
      "  8%|▊         | 845/10000 [00:47<09:45, 15.64it/s]"
     ]
    },
    {
     "name": "stdout",
     "output_type": "stream",
     "text": [
      "Found Vertical Win\n",
      "DQA player 2 won\n",
      "Found Vertical Win\n",
      "DQA player 2 won\n",
      "Found Vertical Win\n",
      "DQA player 2 won\n",
      "Found Vertical Win\n",
      "DQA player 2 won\n"
     ]
    },
    {
     "name": "stderr",
     "output_type": "stream",
     "text": [
      "\r",
      "  8%|▊         | 847/10000 [00:47<10:58, 13.90it/s]"
     ]
    },
    {
     "name": "stdout",
     "output_type": "stream",
     "text": [
      "Found Vertical Win\n",
      "DQA player 2 won\n",
      "Found Vertical Win\n",
      "DQA player 1 won\n",
      "Found Vertical Win\n",
      "DQA player 2 won\n",
      "Found Vertical Win\n",
      "DQA player 2 won\n"
     ]
    },
    {
     "name": "stderr",
     "output_type": "stream",
     "text": [
      "  9%|▊         | 852/10000 [00:47<09:28, 16.10it/s]"
     ]
    },
    {
     "name": "stdout",
     "output_type": "stream",
     "text": [
      "Found Vertical Win\n",
      "DQA player 2 won\n",
      "Found Vertical Win\n",
      "DQA player 2 won\n",
      "Found Vertical Win\n",
      "DQA player 2 won\n",
      "Found Vertical Win\n",
      "DQA player 1 won\n"
     ]
    },
    {
     "name": "stderr",
     "output_type": "stream",
     "text": [
      "  9%|▊         | 856/10000 [00:47<09:51, 15.45it/s]"
     ]
    },
    {
     "name": "stdout",
     "output_type": "stream",
     "text": [
      "Found Vertical Win\n",
      "DQA player 2 won\n",
      "Found Vertical Win\n",
      "DQA player 2 won\n",
      "Found Vertical Win\n",
      "DQA player 2 won\n",
      "Found Vertical Win\n",
      "DQA player 2 won\n"
     ]
    },
    {
     "name": "stderr",
     "output_type": "stream",
     "text": [
      "  9%|▊         | 860/10000 [00:48<10:38, 14.32it/s]"
     ]
    },
    {
     "name": "stdout",
     "output_type": "stream",
     "text": [
      "Found Vertical Win\n",
      "DQA player 1 won\n",
      "Found Vertical Win\n",
      "DQA player 1 won\n",
      "Found Vertical Win\n",
      "DQA player 2 won\n"
     ]
    },
    {
     "name": "stderr",
     "output_type": "stream",
     "text": [
      "  9%|▊         | 864/10000 [00:48<10:43, 14.21it/s]"
     ]
    },
    {
     "name": "stdout",
     "output_type": "stream",
     "text": [
      "Found Vertical Win\n",
      "DQA player 1 won\n",
      "Found Vertical Win\n",
      "DQA player 2 won\n",
      "Found Vertical Win\n",
      "DQA player 2 won\n",
      "Found Vertical Win\n",
      "DQA player 1 won\n"
     ]
    },
    {
     "name": "stderr",
     "output_type": "stream",
     "text": [
      "  9%|▊         | 868/10000 [00:48<09:14, 16.48it/s]"
     ]
    },
    {
     "name": "stdout",
     "output_type": "stream",
     "text": [
      "Found Vertical Win\n",
      "DQA player 2 won\n",
      "Found Vertical Win\n",
      "DQA player 2 won\n",
      "Found Vertical Win\n",
      "DQA player 2 won\n",
      "Found Vertical Win\n",
      "DQA player 2 won\n"
     ]
    },
    {
     "name": "stderr",
     "output_type": "stream",
     "text": [
      "\r",
      "  9%|▊         | 870/10000 [00:48<09:41, 15.70it/s]"
     ]
    }
   ],
   "source": [
    "from tqdm import tqdm\n",
    "num_episodes = 10000\n",
    "for episode in tqdm(range(num_episodes)):\n",
    "    compete(env, deepq_agent1, deepq_agent2, train=True)\n"
   ]
  },
  {
   "cell_type": "code",
   "execution_count": null,
   "metadata": {},
   "outputs": [],
   "source": [
    "compete(human_agent, deepq_agent2)"
   ]
  },
  {
   "cell_type": "code",
   "execution_count": null,
   "metadata": {},
   "outputs": [],
   "source": []
  }
 ],
 "metadata": {
  "kernelspec": {
   "display_name": "Python 3",
   "language": "python",
   "name": "python3"
  },
  "language_info": {
   "codemirror_mode": {
    "name": "ipython",
    "version": 3
   },
   "file_extension": ".py",
   "mimetype": "text/x-python",
   "name": "python",
   "nbconvert_exporter": "python",
   "pygments_lexer": "ipython3",
   "version": "3.7.4"
  }
 },
 "nbformat": 4,
 "nbformat_minor": 2
}
